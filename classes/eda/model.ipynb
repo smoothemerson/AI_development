{
 "cells": [
  {
   "cell_type": "code",
   "execution_count": null,
   "metadata": {},
   "outputs": [],
   "source": [
    "import pandas as pd"
   ]
  },
  {
   "cell_type": "markdown",
   "metadata": {},
   "source": [
    "## Criar DataFrames com base nos Datasets"
   ]
  },
  {
   "cell_type": "code",
   "execution_count": null,
   "metadata": {},
   "outputs": [],
   "source": [
    "# Carregar Dataframe de Clientes(Customers)\n",
    "df_customers = pd.read_csv('./datasets/churn_customers.csv')"
   ]
  },
  {
   "cell_type": "code",
   "execution_count": null,
   "metadata": {},
   "outputs": [],
   "source": [
    "# Mostrar 5 primeiros registros do DataFrame\n",
    "df_customers.head(5)"
   ]
  },
  {
   "cell_type": "code",
   "execution_count": null,
   "metadata": {},
   "outputs": [],
   "source": [
    "# Mostrar 5 últimos registros \n",
    "df_customers.tail(5)"
   ]
  },
  {
   "cell_type": "code",
   "execution_count": null,
   "metadata": {},
   "outputs": [],
   "source": [
    "# Mostrar estrutura / schema do DataFrame\n",
    "df_customers.info()"
   ]
  },
  {
   "cell_type": "code",
   "execution_count": null,
   "metadata": {},
   "outputs": [],
   "source": [
    "# Carregar Dataframe de Serviços(Services)\n",
    "df_services = pd.read_csv('./datasets/churn_services.csv')"
   ]
  },
  {
   "cell_type": "code",
   "execution_count": null,
   "metadata": {},
   "outputs": [],
   "source": [
    "# Mostrar 5 primeiros registros do DataFrame\n",
    "df_services.head(5)"
   ]
  },
  {
   "cell_type": "code",
   "execution_count": null,
   "metadata": {},
   "outputs": [],
   "source": [
    "# Mostrar 5 últimos registros \n",
    "df_services.tail(5)"
   ]
  },
  {
   "cell_type": "code",
   "execution_count": null,
   "metadata": {},
   "outputs": [],
   "source": [
    "# Mostrar estrutura / schema do DataFrame\n",
    "df_services.info()"
   ]
  },
  {
   "cell_type": "code",
   "execution_count": null,
   "metadata": {},
   "outputs": [],
   "source": [
    "# Carregar Dataframe de Contrato(contracts)\n",
    "df_contracts = pd.read_csv('./datasets/churn_contracts.csv')"
   ]
  },
  {
   "cell_type": "code",
   "execution_count": null,
   "metadata": {},
   "outputs": [],
   "source": [
    "# Visualizar 5 primeiras linhas\n",
    "df_contracts.head(5)"
   ]
  },
  {
   "cell_type": "code",
   "execution_count": null,
   "metadata": {},
   "outputs": [],
   "source": [
    "# Visualizar 5 últimas linhas do DataFrame\n",
    "df_contracts.tail(5)"
   ]
  },
  {
   "cell_type": "code",
   "execution_count": null,
   "metadata": {},
   "outputs": [],
   "source": [
    "# Mostrar estrutura / schema do DataFrame\n",
    "df_contracts.info()"
   ]
  },
  {
   "cell_type": "markdown",
   "metadata": {},
   "source": [
    "## Transformação de Dados"
   ]
  },
  {
   "cell_type": "code",
   "execution_count": null,
   "metadata": {},
   "outputs": [],
   "source": [
    "# Transformar coluna TotalCharges de String para Float - Abordagem 1 com astype\n",
    "# df_contracts['TotalCharges'] = df_contracts['TotalCharges'].astype(float)\n",
    "# Erro "
   ]
  },
  {
   "cell_type": "code",
   "execution_count": null,
   "metadata": {},
   "outputs": [],
   "source": [
    "# Transformar coluna TotalCharges de String para Float - Abordagem 2 (to_numeric)\n",
    "# df_contracts['TotalCharges'] = pd.to_numeric(df_contracts['TotalCharges'])\n",
    "# Erro"
   ]
  },
  {
   "cell_type": "code",
   "execution_count": null,
   "metadata": {},
   "outputs": [],
   "source": [
    "# Transformar coluna TotalCharges de String pra Float - Abordagem 3 (to_numeric com coerce)\n",
    "df_contracts['TotalCharges'] = pd.to_numeric(df_contracts['TotalCharges'], errors='coerce')"
   ]
  },
  {
   "cell_type": "code",
   "execution_count": null,
   "metadata": {},
   "outputs": [],
   "source": [
    "# Mostrar estrutura / schema do DataFrame\n",
    "df_contracts.info()"
   ]
  },
  {
   "cell_type": "markdown",
   "metadata": {},
   "source": [
    "Após a tranformação da coluna TotalCharges do Dataframe Contracts, a coluna passou a ter 11 valores ausentes (missing values)"
   ]
  },
  {
   "cell_type": "markdown",
   "metadata": {},
   "source": [
    "## Renomear Colunas"
   ]
  },
  {
   "cell_type": "code",
   "execution_count": null,
   "metadata": {},
   "outputs": [],
   "source": [
    "df_customers.info()"
   ]
  },
  {
   "cell_type": "code",
   "execution_count": null,
   "metadata": {},
   "outputs": [],
   "source": [
    "# Renomear coluna no DataFrame, usando rename e dicionário\n",
    "df_customers.rename(columns={'SeniorCitizen': 'Above65yo'})"
   ]
  },
  {
   "cell_type": "code",
   "execution_count": null,
   "metadata": {},
   "outputs": [],
   "source": [
    "df_customers.info()"
   ]
  },
  {
   "cell_type": "code",
   "execution_count": null,
   "metadata": {},
   "outputs": [],
   "source": [
    "# Criar um Dataframe novo com base nas colunas renomeadas\n",
    "df_customers_renamed = df_customers.rename(columns={'SeniorCitizen': 'Above65yo'})"
   ]
  },
  {
   "cell_type": "code",
   "execution_count": null,
   "metadata": {},
   "outputs": [],
   "source": [
    "# Mostrar estrutura do Dataframe novo\n",
    "df_customers_renamed.info()"
   ]
  },
  {
   "cell_type": "code",
   "execution_count": null,
   "metadata": {},
   "outputs": [],
   "source": [
    "# Aplicar o resultado do rename no próprio Dataframe\n",
    "df_customers.rename(columns={'SeniorCitizen': 'Above65yo'}, inplace=True)"
   ]
  },
  {
   "cell_type": "code",
   "execution_count": null,
   "metadata": {},
   "outputs": [],
   "source": [
    "# Visualizar Estrutura\n",
    "df_customers.info()"
   ]
  },
  {
   "cell_type": "code",
   "execution_count": null,
   "metadata": {},
   "outputs": [],
   "source": [
    "# Rename usando Lista - Modificar todos os nomes de colunas\n",
    "df_customers.columns = ['IDCliente', 'Genero', 'Mais65anos', 'TemParceiro', 'TemDependentes']"
   ]
  },
  {
   "cell_type": "code",
   "execution_count": null,
   "metadata": {},
   "outputs": [],
   "source": [
    "# Mostrar estrutura\n",
    "df_customers.info()"
   ]
  },
  {
   "cell_type": "markdown",
   "metadata": {},
   "source": [
    "## Unificar Dataframes de Customers, Services e Contracts"
   ]
  },
  {
   "cell_type": "code",
   "execution_count": null,
   "metadata": {},
   "outputs": [],
   "source": [
    "# Contar quantidade de registros por Dataframe\n",
    "len(df_customers)"
   ]
  },
  {
   "cell_type": "code",
   "execution_count": null,
   "metadata": {},
   "outputs": [],
   "source": [
    "len(df_services)"
   ]
  },
  {
   "cell_type": "code",
   "execution_count": null,
   "metadata": {},
   "outputs": [],
   "source": [
    "len(df_contracts)"
   ]
  },
  {
   "cell_type": "code",
   "execution_count": null,
   "metadata": {},
   "outputs": [],
   "source": [
    "# Renomear colunas\n",
    "df_services.rename(columns={'customerID': 'IDCliente'}, inplace=True)"
   ]
  },
  {
   "cell_type": "code",
   "execution_count": null,
   "metadata": {},
   "outputs": [],
   "source": [
    "df_services.info()"
   ]
  },
  {
   "cell_type": "code",
   "execution_count": null,
   "metadata": {},
   "outputs": [],
   "source": [
    "# Unificar Dataframe de Customers com Services, criando um terceiro DataFrame\n",
    "df_temp = df_customers.merge(df_services, on=['IDCliente'])"
   ]
  },
  {
   "cell_type": "code",
   "execution_count": null,
   "metadata": {},
   "outputs": [],
   "source": [
    "# Mostrar estrutura dataframe temp\n",
    "df_temp.info()"
   ]
  },
  {
   "cell_type": "code",
   "execution_count": null,
   "metadata": {},
   "outputs": [],
   "source": [
    "df_temp.head(5)"
   ]
  },
  {
   "cell_type": "code",
   "execution_count": null,
   "metadata": {},
   "outputs": [],
   "source": [
    "# Unificar df_temp com df_contracts, usando colunas de junçãoo com nomes distintos\n",
    "df_churn_temp = df_temp.merge(df_contracts, left_on=['IDCliente'], right_on=['customerID'])"
   ]
  },
  {
   "cell_type": "code",
   "execution_count": null,
   "metadata": {},
   "outputs": [],
   "source": [
    "df_churn_temp.info()"
   ]
  },
  {
   "cell_type": "code",
   "execution_count": null,
   "metadata": {},
   "outputs": [],
   "source": [
    "# Unificar os três dataframes ao mesmo tempo, com colunas com nomes diferentes\n",
    "df_churn = df_customers.merge(df_services, on=['IDCliente']).merge(df_contracts, left_on=['IDCliente'], right_on=['customerID'])"
   ]
  },
  {
   "cell_type": "code",
   "execution_count": null,
   "metadata": {},
   "outputs": [],
   "source": [
    "df_churn.info()"
   ]
  },
  {
   "cell_type": "code",
   "execution_count": null,
   "metadata": {},
   "outputs": [],
   "source": [
    "# Removendo coluna de um Dataframe\n",
    "df_churn.drop(['customerID'], axis=1, inplace=True)"
   ]
  },
  {
   "cell_type": "code",
   "execution_count": null,
   "metadata": {},
   "outputs": [],
   "source": [
    "df_churn.info()"
   ]
  },
  {
   "cell_type": "markdown",
   "metadata": {},
   "source": [
    "## Detecção de Valores ausentes"
   ]
  },
  {
   "cell_type": "code",
   "execution_count": null,
   "metadata": {},
   "outputs": [],
   "source": [
    "# Detectar Valores ausentes em todas as colunas de um DataFrame\n",
    "df_churn.isna().sum()"
   ]
  },
  {
   "cell_type": "code",
   "execution_count": null,
   "metadata": {},
   "outputs": [],
   "source": [
    "# Detectar valores ausentes em uma coluna \n",
    "df_churn.TotalCharges.isna().sum()"
   ]
  },
  {
   "cell_type": "code",
   "execution_count": null,
   "metadata": {},
   "outputs": [],
   "source": [
    "# Quantas linhas tem pelo menos 1 coluna com valor ausente\n",
    "df_churn[df_churn.isna().any(axis=1)]"
   ]
  },
  {
   "cell_type": "code",
   "execution_count": null,
   "metadata": {},
   "outputs": [],
   "source": [
    "# Quantas colunas tem pelo menso 1 Valor Ausente\n",
    "df_churn.isna().any(axis=0).sum()"
   ]
  },
  {
   "cell_type": "markdown",
   "metadata": {},
   "source": [
    "## Remover valores ausentes"
   ]
  },
  {
   "cell_type": "code",
   "execution_count": null,
   "metadata": {},
   "outputs": [],
   "source": [
    "# Remover de forma direta e específica a coluna que possui valores ausentes\n",
    "df_churn.drop(columns=['TotalCharges'], axis=1)"
   ]
  },
  {
   "cell_type": "code",
   "execution_count": null,
   "metadata": {},
   "outputs": [],
   "source": [
    "# Remover colunas com valores ausentes\n",
    "df_churn.dropna(axis=1)"
   ]
  },
  {
   "cell_type": "code",
   "execution_count": null,
   "metadata": {},
   "outputs": [],
   "source": [
    "# Remover colunas onde todos os valores são ausentes\n",
    "df_churn.dropna(axis=1, how='all')"
   ]
  },
  {
   "cell_type": "code",
   "execution_count": null,
   "metadata": {},
   "outputs": [],
   "source": [
    "# Remover linhas com valores ausentes\n",
    "df_churn.dropna(axis=0)"
   ]
  },
  {
   "cell_type": "code",
   "execution_count": null,
   "metadata": {},
   "outputs": [],
   "source": [
    "# Remover linhas com todos os valores ausentes\n",
    "df_churn.dropna(axis=0, how='all')"
   ]
  },
  {
   "cell_type": "markdown",
   "metadata": {},
   "source": [
    "## Imputação de Valores Ausentes"
   ]
  },
  {
   "cell_type": "code",
   "execution_count": null,
   "metadata": {},
   "outputs": [],
   "source": [
    "# Preencher todos os valores ausentes com 0\n",
    "df_churn.fillna(0)"
   ]
  },
  {
   "cell_type": "code",
   "execution_count": null,
   "metadata": {},
   "outputs": [],
   "source": [
    "# Preencher valores padrão conforme a coluna\n",
    "df_churn.fillna(value={'TotalCharges': 0})"
   ]
  },
  {
   "cell_type": "code",
   "execution_count": null,
   "metadata": {},
   "outputs": [],
   "source": [
    "# Preencher todos os valores ausentes de uma coluna com a média\n",
    "media_TotalCharges = df_churn.TotalCharges.mean()"
   ]
  },
  {
   "cell_type": "code",
   "execution_count": null,
   "metadata": {},
   "outputs": [],
   "source": [
    "media_TotalCharges"
   ]
  },
  {
   "cell_type": "code",
   "execution_count": null,
   "metadata": {},
   "outputs": [],
   "source": [
    "df_churn.fillna(value={'TotalCharges': media_TotalCharges})"
   ]
  },
  {
   "cell_type": "markdown",
   "metadata": {},
   "source": [
    "## Análise Univariada"
   ]
  },
  {
   "cell_type": "markdown",
   "metadata": {},
   "source": [
    "- A faixa etária do cliente tem uma forte associação com o churn\n",
    "- Um cliente com menos de 6 meses de contrato é mais propenso ao Churn\n",
    "- Cliente com contrato mensal é mais propenso ao Churn"
   ]
  },
  {
   "cell_type": "code",
   "execution_count": null,
   "metadata": {},
   "outputs": [],
   "source": [
    "# Contar clientes usando a variável Churn como referência\n",
    "df_churn.Churn.value_counts()"
   ]
  },
  {
   "cell_type": "code",
   "execution_count": null,
   "metadata": {},
   "outputs": [],
   "source": [
    "# Como identificar valores possíveis (únicos) numa variável do DataFrame\n",
    "df_churn.Churn.unique()"
   ]
  },
  {
   "cell_type": "code",
   "execution_count": null,
   "metadata": {},
   "outputs": [],
   "source": [
    "# Como é a distribuição de Clientes (percentualmente falando) que abandonaram ou continuam ativos\n",
    "df_churn.Churn.value_counts(normalize=True)"
   ]
  },
  {
   "cell_type": "code",
   "execution_count": null,
   "metadata": {},
   "outputs": [],
   "source": [
    "# Plot distribuição Churn (Quantidade)\n",
    "ax = df_churn.Churn.value_counts().plot.bar()\n",
    "\n",
    "ax.bar_label(ax.containers[0])"
   ]
  },
  {
   "cell_type": "code",
   "execution_count": null,
   "metadata": {},
   "outputs": [],
   "source": [
    "# Plot distribuição Churn (Percentual)\n",
    "ax = df_churn.Churn.value_counts(normalize=True).plot.bar()\n",
    "\n",
    "ax.bar_label(ax.containers[0])"
   ]
  },
  {
   "cell_type": "code",
   "execution_count": null,
   "metadata": {},
   "outputs": [],
   "source": [
    "# Quais são os tipos de contrato\n",
    "df_churn.Contract.unique()"
   ]
  },
  {
   "cell_type": "code",
   "execution_count": null,
   "metadata": {},
   "outputs": [],
   "source": [
    "# Plot distribuição Contract (Quantidade)\n",
    "ax = df_churn.Contract.value_counts().plot.bar()\n",
    "\n",
    "ax.bar_label(ax.containers[0])"
   ]
  },
  {
   "cell_type": "code",
   "execution_count": null,
   "metadata": {},
   "outputs": [],
   "source": [
    "# Plot distribuição Contract (Percentual)\n",
    "ax = df_churn.Contract.value_counts(normalize=True).plot.bar()\n",
    "\n",
    "ax.bar_label(ax.containers[0])"
   ]
  },
  {
   "cell_type": "code",
   "execution_count": null,
   "metadata": {},
   "outputs": [],
   "source": [
    "# Histograma do Tempo de Contrato\n",
    "df_churn.tenure.plot.hist()"
   ]
  },
  {
   "cell_type": "markdown",
   "metadata": {},
   "source": [
    "- A variável tempo de contrato (tenure) não apresenta visualmente uma distribuição normal\n",
    "- A grande parte dos valores se concentram nos extremos, ou seja, contratos com poucos meses de ativação e contratos longos, acima aproximadamente dos 65 meses."
   ]
  },
  {
   "cell_type": "code",
   "execution_count": null,
   "metadata": {},
   "outputs": [],
   "source": [
    "# Histograma do Monthly Charges\n",
    "df_churn.MonthlyCharges.plot.hist()"
   ]
  },
  {
   "cell_type": "code",
   "execution_count": null,
   "metadata": {},
   "outputs": [],
   "source": [
    "# Medidas de Posição - Média Tempo de Contrato\n",
    "df_churn.tenure.mean()"
   ]
  },
  {
   "cell_type": "code",
   "execution_count": null,
   "metadata": {},
   "outputs": [],
   "source": [
    "# Medidas de Posição - Mediana Tempo de Contrato\n",
    "df_churn.tenure.median()"
   ]
  },
  {
   "cell_type": "code",
   "execution_count": null,
   "metadata": {},
   "outputs": [],
   "source": [
    "# Medidas de Posição - Moda Tempo de Contrato\n",
    "df_churn.tenure.mode()"
   ]
  },
  {
   "cell_type": "code",
   "execution_count": null,
   "metadata": {},
   "outputs": [],
   "source": [
    "# Medidas de Dispersão - Desvio Padrão Tempo de Contrato\n",
    "df_churn.tenure.std()"
   ]
  },
  {
   "cell_type": "code",
   "execution_count": null,
   "metadata": {},
   "outputs": [],
   "source": [
    "# Medidas de Dispersão - Coeficiente de Variação\n",
    "df_churn.tenure.std() / df_churn.tenure.mean() * 100"
   ]
  },
  {
   "cell_type": "code",
   "execution_count": null,
   "metadata": {},
   "outputs": [],
   "source": [
    "# Quantos clientes possuem 1 mês de contrato - Filtro\n",
    "len(df_churn[(df_churn.tenure==1)])"
   ]
  },
  {
   "cell_type": "code",
   "execution_count": null,
   "metadata": {},
   "outputs": [],
   "source": [
    "# Quanto os clientes de 1 mês de contrato representam percentualmente\n",
    "len(df_churn[(df_churn.tenure==1)]) / len(df_churn) * 100"
   ]
  },
  {
   "cell_type": "code",
   "execution_count": null,
   "metadata": {},
   "outputs": [],
   "source": [
    "# Quantos clientes possuem entre 1 e 6 meses de contrato\n",
    "len(df_churn[(df_churn.Genero=='Male') & (df_churn.tenure<=6)])"
   ]
  },
  {
   "cell_type": "code",
   "execution_count": null,
   "metadata": {},
   "outputs": [],
   "source": [
    "# Apresentar a quantidade de clientes por tempo de contrato = Agrupamento com sumarização\n",
    "df_churn.groupby(['tenure'])['tenure'].count().sort_values(ascending=False)"
   ]
  },
  {
   "cell_type": "code",
   "execution_count": null,
   "metadata": {},
   "outputs": [],
   "source": [
    "# Apresentar a quantidade de clientes por tempo de contrato = Agrupamento com sumarização - Em um plot\n",
    "df_churn.groupby(['tenure'])['tenure'].count().sort_values().plot.barh(figsize = (20, 20))"
   ]
  },
  {
   "cell_type": "markdown",
   "metadata": {},
   "source": [
    "## Análise Bivariada"
   ]
  },
  {
   "cell_type": "code",
   "execution_count": null,
   "metadata": {},
   "outputs": [],
   "source": [
    "# Hipótese: Clientes com Contrato de Tipo Mensal são mais propensos ao Churn\n",
    "# Construir Tabela de Contingência entre Tipo de Contrato e Churn - Quantidade\n",
    "pd.crosstab(df_churn.Churn, df_churn.Contract, margins=True, margins_name='Total')"
   ]
  },
  {
   "cell_type": "code",
   "execution_count": null,
   "metadata": {},
   "outputs": [],
   "source": [
    "# Construir Tabela de Contingência entre Tipo de Contrato e Churn - Proporção\n",
    "pd.crosstab(df_churn.Churn, df_churn.Contract, normalize='index', margins=True, margins_name='Total') * 100"
   ]
  },
  {
   "cell_type": "markdown",
   "metadata": {},
   "source": [
    "Considerando o público total, os clientes de contrato mensal representam, 55%. Porém, se considerarmos apenas os clientes que abandonaram o serviço, 88% tinham contrato mensal. Desta forma, podemos afirmar que há uma correlação entre o tipo de contrato mensal e o abandono."
   ]
  },
  {
   "cell_type": "code",
   "execution_count": null,
   "metadata": {},
   "outputs": [],
   "source": [
    "# Avaliar a correlação entre duas variáveis categóricas (qualitativas)\n",
    "\n",
    "# Executar um teste de hipótese chamado Chi-Square ou Qui-Quadrado de Pearson\n",
    "# Num teste de hipótese, duas hipóteses são formuladas:\n",
    "# H0 (Hipótese Nula): as duas variáveis são independentes\n",
    "# H1 (Hipótese Complementar): as duas variáveis não são independentes\n",
    "\n",
    "# O teste serve para confirmar ou recusar a hipótese nula (H0)\n",
    "# Quando a probabilidade de observarmos H0 é inferior a 0.05 (p-value),\n",
    "# recusamos a hipótese nula e seguimos com a complementar"
   ]
  },
  {
   "cell_type": "code",
   "execution_count": null,
   "metadata": {},
   "outputs": [],
   "source": [
    "# Gerar um DF da Crosstab (sem totais)\n",
    "df_crosstab_churn_contract = pd.crosstab(df_churn.Churn, df_churn.Contract)"
   ]
  },
  {
   "cell_type": "code",
   "execution_count": null,
   "metadata": {},
   "outputs": [],
   "source": [
    "# Calcular os Scores e P-Values\n",
    "from scipy.stats import chi2_contingency"
   ]
  },
  {
   "cell_type": "code",
   "execution_count": null,
   "metadata": {},
   "outputs": [],
   "source": [
    "# Tupla = Lista imutável\n",
    "chi_scores_churn_contract = chi2_contingency(df_crosstab_churn_contract)"
   ]
  },
  {
   "cell_type": "code",
   "execution_count": null,
   "metadata": {},
   "outputs": [],
   "source": [
    "chi_scores_churn_contract"
   ]
  },
  {
   "cell_type": "code",
   "execution_count": null,
   "metadata": {},
   "outputs": [],
   "source": [
    "scores_churn_contract = pd.Series(chi_scores_churn_contract[0])"
   ]
  },
  {
   "cell_type": "code",
   "execution_count": null,
   "metadata": {},
   "outputs": [],
   "source": [
    "pvalues_churn_contract = pd.Series(chi_scores_churn_contract[1])"
   ]
  },
  {
   "cell_type": "code",
   "execution_count": null,
   "metadata": {},
   "outputs": [],
   "source": [
    "# Apresentar números com decimais sem a notação científica\n",
    "pd.set_option('display.float_format', lambda x: '%.15f' % x)"
   ]
  },
  {
   "cell_type": "code",
   "execution_count": null,
   "metadata": {},
   "outputs": [],
   "source": [
    "# Criar Dataframe com os resultados\n",
    "df_chi_scores_churn_contract = pd.DataFrame({\n",
    "  'Qui2': scores_churn_contract,\n",
    "  'p-value': pvalues_churn_contract\n",
    "})"
   ]
  },
  {
   "cell_type": "code",
   "execution_count": null,
   "metadata": {},
   "outputs": [],
   "source": [
    "# Analisar Scores e P-Values\n",
    "df_chi_scores_churn_contract"
   ]
  },
  {
   "cell_type": "markdown",
   "metadata": {},
   "source": [
    "Conforme Teste Estatístico (Chi-Square), o P-value <= 0.05, desta forma rejeitamos a hipótese nula, ou seja, as variáveis não são independentes. Pelo Qui2 alto, podemos afirmar que há uma forte correlação."
   ]
  },
  {
   "cell_type": "code",
   "execution_count": null,
   "metadata": {},
   "outputs": [],
   "source": [
    "# Avaliar a correlação entre uma variável qualitativa e quantitativa\n",
    "# Usar o mesmo teste de Chi-Square, mas transformar a variável quantitativa em qualitativa\n",
    "# Hipótese: Cliente com menos de 6 meses de contrato é mais propenso ao Churn\n",
    "\n",
    "# Criar uma coluna nova no Dataframe com base numa condição de outra Coluna\n",
    "# Coluna = 'TempoMenor6Meses'\n",
    "\n",
    "import numpy as np"
   ]
  },
  {
   "cell_type": "code",
   "execution_count": null,
   "metadata": {},
   "outputs": [],
   "source": [
    "# Criar coluna nova\n",
    "df_churn['TempoMenor6Meses'] = np.where(df_churn.tenure<6, 'Yes', 'No')"
   ]
  },
  {
   "cell_type": "code",
   "execution_count": null,
   "metadata": {},
   "outputs": [],
   "source": [
    "# Checar o Dataframe\n",
    "df_churn.head(5)"
   ]
  },
  {
   "cell_type": "code",
   "execution_count": null,
   "metadata": {},
   "outputs": [],
   "source": [
    "# Gerar um DF da Crosstab (sem totais)\n",
    "df_crosstab_churn_tenure = pd.crosstab(df_churn.Churn, df_churn.TempoMenor6Meses)\n",
    "df_crosstab_churn_tenure"
   ]
  },
  {
   "cell_type": "code",
   "execution_count": null,
   "metadata": {},
   "outputs": [],
   "source": [
    "# Calcular os Scores\n",
    "chi_scores_churn_tenure = chi2_contingency(df_crosstab_churn_tenure)"
   ]
  },
  {
   "cell_type": "code",
   "execution_count": null,
   "metadata": {},
   "outputs": [],
   "source": [
    "scores_churn_tenure = pd.Series(chi_scores_churn_tenure[0])\n",
    "pvalues_churn_tenure = pd.Series(chi_scores_churn_tenure[1])"
   ]
  },
  {
   "cell_type": "code",
   "execution_count": null,
   "metadata": {},
   "outputs": [],
   "source": [
    "# Criar Dataframe com os resultados\n",
    "df_chi_scores_churn_tenure = pd.DataFrame({\n",
    "  'Qui2': scores_churn_tenure,\n",
    "  'p-value': pvalues_churn_tenure\n",
    "})"
   ]
  },
  {
   "cell_type": "code",
   "execution_count": null,
   "metadata": {},
   "outputs": [],
   "source": [
    "df_chi_scores_churn_tenure"
   ]
  },
  {
   "cell_type": "markdown",
   "metadata": {},
   "source": [
    "Como o P-Value <= 0.05, rejeitamos a H0, ou seja, as variáveis não são independentes. E vale mencionar que com base no Qui2 resultante das 2 análises, a correlação entre Churn e Tempo de contrato < 6 meses é menor do que a correlação entre Churn e Tipo de Contrato "
   ]
  },
  {
   "cell_type": "code",
   "execution_count": null,
   "metadata": {},
   "outputs": [],
   "source": [
    "# Correlação entre 2 variáveis numéricas\n",
    "# Tenure com TotalCharges\n",
    "# A intuição é que quanto mais tempo de contrato maior o valor pago.\n",
    "\n",
    "# Correlação entre 2 variáveis numéricas - Pearson\n",
    "df_churn.tenure.corr(df_churn.TotalCharges)"
   ]
  },
  {
   "cell_type": "code",
   "execution_count": null,
   "metadata": {},
   "outputs": [],
   "source": [
    "# Correlação entre 2 variáveis numéricas - Spearman\n",
    "df_churn.tenure.corr(df_churn.TotalCharges, method='spearman')"
   ]
  },
  {
   "cell_type": "markdown",
   "metadata": {},
   "source": [
    "Há uma forte correlação entre Tenure e TotalCharges, usando métodos estatísticos de correlação."
   ]
  },
  {
   "cell_type": "code",
   "execution_count": null,
   "metadata": {},
   "outputs": [],
   "source": [
    "# Apresentar Plot Scatter entre Tenure e TotalCharges\n",
    "# Gráfico de Dispersão\n",
    "df_churn.plot.scatter(x='tenure', y='TotalCharges')"
   ]
  },
  {
   "cell_type": "markdown",
   "metadata": {},
   "source": [
    "- Desafio 1: Validar a primeira hipótese de que a faixa etária do cliente tem uma forte associação com o Churn.\n",
    "- Desafio 2: Validar com Teste de Hipótese se Contrato Mensal está mais propenso ao Churn."
   ]
  },
  {
   "cell_type": "markdown",
   "metadata": {},
   "source": [
    "## Desafio 1"
   ]
  },
  {
   "cell_type": "code",
   "execution_count": null,
   "metadata": {},
   "outputs": [],
   "source": [
    "# Hipótese: Faixa etária do cliente tem uma forte associação com o Churn.\n",
    "# Construir Tabela de Contingência entre Faixa etária e Churn - Quantidade\n",
    "pd.crosstab(df_churn.Churn, df_churn.Mais65anos, margins=True, margins_name='Total')"
   ]
  },
  {
   "cell_type": "code",
   "execution_count": null,
   "metadata": {},
   "outputs": [],
   "source": [
    "# Criar coluna nova\n",
    "df_churn['Idoso'] = np.where(df_churn.Mais65anos==1, 'Yes', 'No')\n",
    "df_churn.Idoso.value_counts()"
   ]
  },
  {
   "cell_type": "code",
   "execution_count": null,
   "metadata": {},
   "outputs": [],
   "source": [
    "# Gerar um DF da Crosstab (sem totais)\n",
    "df_crosstab_churn_idoso = pd.crosstab(df_churn.Churn, df_churn.Idoso)\n",
    "df_crosstab_churn_idoso"
   ]
  },
  {
   "cell_type": "code",
   "execution_count": null,
   "metadata": {},
   "outputs": [],
   "source": [
    "# Calcular os Scores\n",
    "chi_scores_churn_idoso = chi2_contingency(df_crosstab_churn_idoso)\n",
    "scores_churn_idoso = pd.Series(chi_scores_churn_idoso[0])\n",
    "pvalues_churn_idoso = pd.Series(chi_scores_churn_idoso[1])"
   ]
  },
  {
   "cell_type": "code",
   "execution_count": null,
   "metadata": {},
   "outputs": [],
   "source": [
    "# Criar Dataframe com os resultados\n",
    "df_chi_scores_churn_idoso = pd.DataFrame({\n",
    "  'Qui2': scores_churn_idoso,\n",
    "  'p-value': pvalues_churn_idoso\n",
    "})"
   ]
  },
  {
   "cell_type": "code",
   "execution_count": null,
   "metadata": {},
   "outputs": [],
   "source": [
    "df_chi_scores_churn_idoso"
   ]
  },
  {
   "cell_type": "markdown",
   "metadata": {},
   "source": [
    "Como o P-Value < 0.05, rejeitamos a H0, ou seja, as variáveis não são independentes. Como o Qui2 é alto, a correlação entre Churn e faixa etária é forte."
   ]
  },
  {
   "cell_type": "markdown",
   "metadata": {},
   "source": [
    "## Desafio 2"
   ]
  },
  {
   "cell_type": "code",
   "execution_count": null,
   "metadata": {},
   "outputs": [],
   "source": [
    "# Hipótese: Contrato Mensal do cliente tem uma forte associação com o Churn.\n",
    "# Construir Tabela de Contingência entre Faixa etária e Churn - Quantidade\n",
    "pd.crosstab(df_churn.Churn, df_churn.Contract, margins=True, margins_name='Total')"
   ]
  },
  {
   "cell_type": "code",
   "execution_count": null,
   "metadata": {},
   "outputs": [],
   "source": [
    "# Criar coluna nova\n",
    "df_churn['ContratoMensal'] = np.where(df_churn.Contract=='Month-to-month', 'Yes', 'No')\n",
    "df_churn.ContratoMensal.value_counts()"
   ]
  },
  {
   "cell_type": "code",
   "execution_count": null,
   "metadata": {},
   "outputs": [],
   "source": [
    "# Gerar um DF da Crosstab (sem totais)\n",
    "df_crosstab_churn_monthlycontract = pd.crosstab(df_churn.Churn, df_churn.ContratoMensal)\n",
    "df_crosstab_churn_monthlycontract"
   ]
  },
  {
   "cell_type": "code",
   "execution_count": null,
   "metadata": {},
   "outputs": [],
   "source": [
    "# Calcular os Scores\n",
    "chi_scores_churn_monthlycontract = chi2_contingency(df_crosstab_churn_monthlycontract)\n",
    "scores_churn_monthlycontract = pd.Series(chi_scores_churn_monthlycontract[0])\n",
    "pvalues_churn_monthlycontract = pd.Series(chi_scores_churn_monthlycontract[1])"
   ]
  },
  {
   "cell_type": "code",
   "execution_count": null,
   "metadata": {},
   "outputs": [],
   "source": [
    "# Criar Dataframe com os resultados\n",
    "df_chi_scores_churn_monthlycontract = pd.DataFrame({\n",
    "  'Qui2': scores_churn_monthlycontract,\n",
    "  'p-value': pvalues_churn_monthlycontract\n",
    "})"
   ]
  },
  {
   "cell_type": "code",
   "execution_count": null,
   "metadata": {},
   "outputs": [],
   "source": [
    "df_chi_scores_churn_monthlycontract"
   ]
  },
  {
   "cell_type": "markdown",
   "metadata": {},
   "source": [
    "Como o P-Value < 0.05, rejeitamos a H0, ou seja, as variáveis não são independentes. Como o Qui2 é alto, a correlação entre Churn e Contrato Mensal é forte."
   ]
  },
  {
   "cell_type": "code",
   "execution_count": null,
   "metadata": {},
   "outputs": [],
   "source": [
    "# Faixa etária - Churn\n",
    "df_chi_scores_churn_idoso"
   ]
  },
  {
   "cell_type": "code",
   "execution_count": null,
   "metadata": {},
   "outputs": [],
   "source": [
    "# Contrato até 6 meses - Churn\n",
    "df_chi_scores_churn_tenure"
   ]
  },
  {
   "cell_type": "code",
   "execution_count": null,
   "metadata": {},
   "outputs": [],
   "source": [
    "df_chi_scores_churn_monthlycontract"
   ]
  },
  {
   "cell_type": "markdown",
   "metadata": {},
   "source": [
    "Com esses dados, podemos afirmar que a correlação entre Churn - Contrato Mensal > Churn - Contrato Semestral > Churn - Faixa etária"
   ]
  },
  {
   "cell_type": "markdown",
   "metadata": {},
   "source": [
    "## Detecção de Outliers (Valores Atípicos)"
   ]
  },
  {
   "cell_type": "code",
   "execution_count": null,
   "metadata": {},
   "outputs": [],
   "source": [
    "df_churn.info()"
   ]
  },
  {
   "cell_type": "code",
   "execution_count": null,
   "metadata": {},
   "outputs": [],
   "source": [
    "# Remover linhas com valores nulos\n",
    "df_churn.dropna(axis=0, inplace=True)"
   ]
  },
  {
   "cell_type": "code",
   "execution_count": null,
   "metadata": {},
   "outputs": [],
   "source": [
    "# Box Plot Geral\n",
    "df_churn['TotalCharges'].plot.box()"
   ]
  },
  {
   "cell_type": "code",
   "execution_count": null,
   "metadata": {},
   "outputs": [],
   "source": [
    "# Box Plot agrupado por Contract\n",
    "df_churn.plot.box(column='TotalCharges', by='Contract')"
   ]
  },
  {
   "cell_type": "code",
   "execution_count": null,
   "metadata": {},
   "outputs": [],
   "source": [
    "# Criar um dataframe somente com clientes do tipo Month to Month (Contrato Mensal)\n",
    "df_churn_month = df_churn[df_churn.Contract=='Month-to-month']\n",
    "df_churn_month.head(5)"
   ]
  },
  {
   "cell_type": "code",
   "execution_count": null,
   "metadata": {},
   "outputs": [],
   "source": [
    "# Histograma - Checar visualmente se os dados seguem uma distribuição normal\n",
    "df_churn_month.TotalCharges.plot.hist()"
   ]
  },
  {
   "cell_type": "code",
   "execution_count": null,
   "metadata": {},
   "outputs": [],
   "source": [
    "# Método de Tukey - IQR (Distribuições não normal)\n",
    "# IQR - Range Interquartil\n",
    "# IQR = 3° quartil - 1° quartil\n",
    "q1_TotalCharges_month = df_churn_month.TotalCharges.quantile(0.25)\n",
    "q3_TotalCharges_month = df_churn_month.TotalCharges.quantile(0.75)"
   ]
  },
  {
   "cell_type": "code",
   "execution_count": null,
   "metadata": {},
   "outputs": [],
   "source": [
    "iqr_TotalCharges_month = q3_TotalCharges_month - q1_TotalCharges_month\n",
    "iqr_TotalCharges_month"
   ]
  },
  {
   "cell_type": "code",
   "execution_count": null,
   "metadata": {},
   "outputs": [],
   "source": [
    "# Limites Inferior e Superior\n",
    "limInf_TotalCharges_month = q1_TotalCharges_month - (iqr_TotalCharges_month * 1.5)\n",
    "limSup_TotalCharges_month = q3_TotalCharges_month + (iqr_TotalCharges_month * 1.5)\n",
    "limInf_TotalCharges_month, limSup_TotalCharges_month"
   ]
  },
  {
   "cell_type": "code",
   "execution_count": null,
   "metadata": {},
   "outputs": [],
   "source": [
    "df_churn_month[(df_churn_month.TotalCharges < limInf_TotalCharges_month) | ((df_churn_month.TotalCharges > limSup_TotalCharges_month))].any(axis=1).sum()"
   ]
  },
  {
   "cell_type": "code",
   "execution_count": null,
   "metadata": {},
   "outputs": [],
   "source": [
    "# ZScore (Usado para Distribuição Normal)\n",
    "# Indica quantos desvios padrões um ponto específico de dados está distante da média\n",
    "# zscore = (x - média) / desvio padrão\n",
    "from scipy.stats import zscore"
   ]
  },
  {
   "cell_type": "code",
   "execution_count": null,
   "metadata": {},
   "outputs": [],
   "source": [
    "z = np.abs(zscore(df_churn_month.TotalCharges))"
   ]
  },
  {
   "cell_type": "code",
   "execution_count": null,
   "metadata": {},
   "outputs": [],
   "source": [
    "z"
   ]
  },
  {
   "cell_type": "code",
   "execution_count": null,
   "metadata": {},
   "outputs": [],
   "source": [
    "df_churn_month[z > 3.0].any(axis=1).sum()"
   ]
  },
  {
   "cell_type": "markdown",
   "metadata": {},
   "source": [
    "## Automatizando EDA"
   ]
  },
  {
   "cell_type": "code",
   "execution_count": null,
   "metadata": {},
   "outputs": [],
   "source": [
    "# SweetViz - Abrir no Jupyter Notebook\n",
    "import sweetviz as sv\n",
    "sv_churn_report = sv.analyze(df_churn, target_feat='Churn')"
   ]
  },
  {
   "cell_type": "code",
   "execution_count": null,
   "metadata": {},
   "outputs": [],
   "source": [
    "sv_churn_report.show_notebook()"
   ]
  }
 ],
 "metadata": {
  "kernelspec": {
   "display_name": ".venv",
   "language": "python",
   "name": "python3"
  },
  "language_info": {
   "codemirror_mode": {
    "name": "ipython",
    "version": 3
   },
   "file_extension": ".py",
   "mimetype": "text/x-python",
   "name": "python",
   "nbconvert_exporter": "python",
   "pygments_lexer": "ipython3",
   "version": "3.12.7"
  }
 },
 "nbformat": 4,
 "nbformat_minor": 2
}
