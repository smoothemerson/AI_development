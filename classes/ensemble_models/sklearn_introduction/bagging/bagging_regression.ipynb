{
 "cells": [
  {
   "cell_type": "code",
   "execution_count": null,
   "metadata": {},
   "outputs": [],
   "source": [
    "# Importar bibliotecas\n",
    "\n",
    "import pandas as pd\n",
    "import numpy as np\n",
    "import plotly.express as px\n",
    "import plotly.graph_objects as go\n",
    "\n",
    "from sklearn.compose import ColumnTransformer\n",
    "from sklearn.model_selection import train_test_split\n",
    "from sklearn.preprocessing import StandardScaler, OneHotEncoder\n",
    "from sklearn.ensemble import BaggingRegressor\n",
    "from sklearn.linear_model import LinearRegression\n",
    "from sklearn.metrics import root_mean_squared_error, r2_score"
   ]
  },
  {
   "cell_type": "markdown",
   "metadata": {},
   "source": [
    "### Carregar Dados"
   ]
  },
  {
   "cell_type": "code",
   "execution_count": null,
   "metadata": {},
   "outputs": [],
   "source": [
    "# Carregar os dados\n",
    "df_costs = pd.read_csv('../datasets/healthcosts.csv')"
   ]
  },
  {
   "cell_type": "code",
   "execution_count": null,
   "metadata": {},
   "outputs": [],
   "source": [
    "# Mostrar as primeiras linhas do dataframe\n",
    "df_costs.head(5)"
   ]
  },
  {
   "cell_type": "code",
   "execution_count": null,
   "metadata": {},
   "outputs": [],
   "source": [
    "# Mostrar as últimas linhas do dataframe\n",
    "df_costs.tail(5)"
   ]
  },
  {
   "cell_type": "code",
   "execution_count": null,
   "metadata": {},
   "outputs": [],
   "source": [
    "# Mostrar estrutura do dataframe\n",
    "df_costs.info()"
   ]
  },
  {
   "cell_type": "markdown",
   "metadata": {},
   "source": [
    "### Feature Engineering"
   ]
  },
  {
   "cell_type": "code",
   "execution_count": null,
   "metadata": {},
   "outputs": [],
   "source": [
    "# Mostrar as colunas categóricas que possuem somente um valor possível\n",
    "for column in df_costs.select_dtypes(include=['object']).columns:\n",
    "  if df_costs[column].nunique() == 1:\n",
    "    print(f'Coluna {column} possui somente um valor possível: {df_costs[column].unique()}')"
   ]
  },
  {
   "cell_type": "code",
   "execution_count": null,
   "metadata": {},
   "outputs": [],
   "source": [
    "# Mostrar os valores possíveis para todas as colunas categóricas\n",
    "for column in df_costs.select_dtypes(include=['object']).columns:\n",
    "  print(f'Coluna {column} possui estes valores: {df_costs[column].unique()}')"
   ]
  },
  {
   "cell_type": "code",
   "execution_count": null,
   "metadata": {},
   "outputs": [],
   "source": [
    "# Mostrar o percentual de valores ausentes para as colunas categóricas\n",
    "for column in df_costs.select_dtypes(include=['object']).columns:\n",
    "  contagem_nulas = df_costs[column].isnull().sum()\n",
    "  print(f'{column}: {contagem_nulas / len(df_costs) * 100:.2f}%')"
   ]
  },
  {
   "cell_type": "code",
   "execution_count": null,
   "metadata": {},
   "outputs": [],
   "source": [
    "# Apresentar Estatísticas Descritivas\n",
    "df_costs.describe()"
   ]
  },
  {
   "cell_type": "code",
   "execution_count": null,
   "metadata": {},
   "outputs": [],
   "source": [
    "# Mostrar as colunas numéricas que possuem somente um valor possível\n",
    "for column in df_costs.select_dtypes(include=['number']).columns:\n",
    "  if df_costs[column].nunique() == 1:\n",
    "    print(f'Coluna {column} possui somente um valor possível: {df_costs[column].unique()}')"
   ]
  },
  {
   "cell_type": "code",
   "execution_count": null,
   "metadata": {},
   "outputs": [],
   "source": [
    "# Mostrar o percentual de valores ausentes para as colunas numéricas\n",
    "for column in df_costs.select_dtypes(include=['number']).columns:\n",
    "  contagem_nulas = df_costs[column].isnull().sum()\n",
    "  print(f'{column}: {contagem_nulas / len(df_costs) * 100:.2f}%')"
   ]
  },
  {
   "cell_type": "code",
   "execution_count": null,
   "metadata": {},
   "outputs": [],
   "source": [
    "# Converter colunas categóricas com valores Yes e No para 1 e 0\n",
    "for column in df_costs.select_dtypes(include=['object']).columns:\n",
    "  valores_unicos = df_costs[column].unique()\n",
    "  if set(valores_unicos).issubset(set(['yes', 'no'])):\n",
    "    df_costs[column] = df_costs[column].apply(lambda x: 1 if x == 'yes' else 0)"
   ]
  },
  {
   "cell_type": "markdown",
   "metadata": {},
   "source": [
    "### EDA"
   ]
  },
  {
   "cell_type": "code",
   "execution_count": null,
   "metadata": {},
   "outputs": [],
   "source": [
    "# Mostrar distribuição de custos médicos\n",
    "fig = px.histogram(\n",
    "  df_costs,\n",
    "  x='medical charges',\n",
    "  nbins=30,\n",
    "  title='Distribuição de Custos Médicos'\n",
    ")\n",
    "\n",
    "fig.show()"
   ]
  },
  {
   "cell_type": "code",
   "execution_count": null,
   "metadata": {},
   "outputs": [],
   "source": [
    "# Mostrar distribuição de idade\n",
    "fig = px.histogram(\n",
    "  df_costs,\n",
    "  x='age',\n",
    "  nbins=30,\n",
    "  title='Distribuição da Idade'\n",
    ")\n",
    "\n",
    "fig.show()"
   ]
  },
  {
   "cell_type": "code",
   "execution_count": null,
   "metadata": {},
   "outputs": [],
   "source": [
    "# Mostrar a quantidade de filhos\n",
    "fig = px.histogram(\n",
    "  df_costs,\n",
    "  x='children',\n",
    "  title='Distribuição da Quantidade de Filhos'\n",
    ")\n",
    "\n",
    "fig.show()"
   ]
  },
  {
   "cell_type": "code",
   "execution_count": null,
   "metadata": {},
   "outputs": [],
   "source": [
    "# Mostrar distribuição de BMI\n",
    "fig = px.histogram(\n",
    "  df_costs,\n",
    "  x='bmi',\n",
    "  nbins=30,\n",
    "  title='Distribuição do BMI'\n",
    ")\n",
    "\n",
    "fig.show()"
   ]
  },
  {
   "cell_type": "code",
   "execution_count": null,
   "metadata": {},
   "outputs": [],
   "source": [
    "# Mostrar a distribuição do gênero\n",
    "fig = px.bar(\n",
    "  df_costs['sex'].value_counts(),\n",
    "  title='Distribuição por Gênero'\n",
    ")\n",
    "\n",
    "fig.show()"
   ]
  },
  {
   "cell_type": "code",
   "execution_count": null,
   "metadata": {},
   "outputs": [],
   "source": [
    "# Mostrar a distribuição da variável Smoker\n",
    "fig = px.bar(\n",
    "  df_costs['smoker'].value_counts(),\n",
    "  title='Distribuição de Fumante'\n",
    ")\n",
    "\n",
    "fig.show()"
   ]
  },
  {
   "cell_type": "code",
   "execution_count": null,
   "metadata": {},
   "outputs": [],
   "source": [
    "# Mostrar a distribuição de região\n",
    "fig = px.bar(\n",
    "  df_costs['region'].value_counts(),\n",
    "  title='Distribuição por Região'\n",
    ")\n",
    "\n",
    "fig.show()"
   ]
  },
  {
   "cell_type": "code",
   "execution_count": null,
   "metadata": {},
   "outputs": [],
   "source": [
    "# Boxplot de custos médicos por idade\n",
    "fig = px.box(\n",
    "  df_costs,\n",
    "  x='age',\n",
    "  y='medical charges',\n",
    "  title='Boxplot de Custos Médicos por Idade'\n",
    ")\n",
    "\n",
    "fig.show()"
   ]
  },
  {
   "cell_type": "code",
   "execution_count": null,
   "metadata": {},
   "outputs": [],
   "source": [
    "# Boxplot de custos médicos por gênero\n",
    "fig = px.box(\n",
    "  df_costs,\n",
    "  x='sex',\n",
    "  y='medical charges',\n",
    "  title='Boxplot de Custos Médicos por Gênero'\n",
    ")\n",
    "\n",
    "fig.show()"
   ]
  },
  {
   "cell_type": "code",
   "execution_count": null,
   "metadata": {},
   "outputs": [],
   "source": [
    "# Boxplot de custos médicos por Smoker (Fumante)\n",
    "fig = px.box(\n",
    "  df_costs,\n",
    "  x='smoker',\n",
    "  y='medical charges',\n",
    "  title='Boxplot de Custos Médicos por Status de Fumante'\n",
    ")\n",
    "\n",
    "fig.show()"
   ]
  },
  {
   "cell_type": "code",
   "execution_count": null,
   "metadata": {},
   "outputs": [],
   "source": [
    "# Boxplot de Custos Médicos por Região\n",
    "fig = px.box(\n",
    "  df_costs,\n",
    "  x='region',\n",
    "  y='medical charges',\n",
    "  title='Boxplot de Custos Médicos por Região'\n",
    ")\n",
    "\n",
    "fig.show()"
   ]
  },
  {
   "cell_type": "code",
   "execution_count": null,
   "metadata": {},
   "outputs": [],
   "source": [
    "# Plot de correlação das variáveis numéricas\n",
    "corr_matrix = df_costs.select_dtypes(include=['number']).corr()"
   ]
  },
  {
   "cell_type": "code",
   "execution_count": null,
   "metadata": {},
   "outputs": [],
   "source": [
    "# Mostrar a matriz de correlação\n",
    "corr_matrix"
   ]
  },
  {
   "cell_type": "code",
   "execution_count": null,
   "metadata": {},
   "outputs": [],
   "source": [
    "fig = go.Figure()\n",
    "\n",
    "fig.add_trace(\n",
    "  go.Heatmap(\n",
    "    x=corr_matrix.columns,\n",
    "    y=corr_matrix.index,\n",
    "    z=np.array(corr_matrix),\n",
    "    text=corr_matrix.values,\n",
    "    texttemplate='%{text:.3f}',\n",
    "    colorscale=px.colors.diverging.RdBu,\n",
    "    zmin=-1,\n",
    "    zmax=1\n",
    "  )\n",
    ")\n",
    "\n",
    "fig.show()"
   ]
  },
  {
   "cell_type": "markdown",
   "metadata": {},
   "source": [
    "### Preparação dos dados"
   ]
  },
  {
   "cell_type": "code",
   "execution_count": null,
   "metadata": {},
   "outputs": [],
   "source": [
    "# Preparar dados para o modelo\n",
    "X = df_costs.drop(columns=['medical charges'])\n",
    "y = df_costs['medical charges']"
   ]
  },
  {
   "cell_type": "code",
   "execution_count": null,
   "metadata": {},
   "outputs": [],
   "source": [
    "# Column Transformer para normalizar variáveis numéricas e OnHotEncode para categóricas\n",
    "numeric_features = X.select_dtypes(include=['number']).columns\n",
    "categorical_features = X.select_dtypes(include=['object']).columns\n",
    "\n",
    "preprocessor = ColumnTransformer(\n",
    "  transformers=[\n",
    "    ('num', StandardScaler(), numeric_features),\n",
    "    ('cat', OneHotEncoder(handle_unknown='ignore'), categorical_features)\n",
    "  ]\n",
    ")"
   ]
  },
  {
   "cell_type": "code",
   "execution_count": null,
   "metadata": {},
   "outputs": [],
   "source": [
    "# Dividir os dados em treinamento e teste\n",
    "X_train, X_test, y_train, y_test = train_test_split(\n",
    "  X,\n",
    "  y,\n",
    "  test_size=0.2,\n",
    "  random_state=51\n",
    ")"
   ]
  },
  {
   "cell_type": "code",
   "execution_count": null,
   "metadata": {},
   "outputs": [],
   "source": [
    "# Aplicar o Column Transformer nos dados de treinamento e teste\n",
    "X_train = preprocessor.fit_transform(X_train)\n",
    "X_test = preprocessor.transform(X_test)"
   ]
  },
  {
   "cell_type": "code",
   "execution_count": null,
   "metadata": {},
   "outputs": [],
   "source": [
    "# Mostrar as dimensões dos conjuntos\n",
    "print(f'Dados de treinamento: {X_train.shape}')\n",
    "print(f'Dados de teste: {X_test.shape}')"
   ]
  },
  {
   "cell_type": "markdown",
   "metadata": {},
   "source": [
    "### Treinamento do modelo"
   ]
  },
  {
   "cell_type": "code",
   "execution_count": null,
   "metadata": {},
   "outputs": [],
   "source": [
    "# Criar o modelo de Bagging Regressor\n",
    "bagging_model = BaggingRegressor(\n",
    "  estimator=LinearRegression(),\n",
    "  n_estimators=5,\n",
    "  random_state=51,\n",
    ")"
   ]
  },
  {
   "cell_type": "code",
   "execution_count": null,
   "metadata": {},
   "outputs": [],
   "source": [
    "# Treinar o modelo\n",
    "bagging_model.fit(X_train, y_train)"
   ]
  },
  {
   "cell_type": "markdown",
   "metadata": {},
   "source": [
    "### Análise dos Resultados"
   ]
  },
  {
   "cell_type": "code",
   "execution_count": null,
   "metadata": {},
   "outputs": [],
   "source": [
    "# Fazer predições com base no modelo treinado\n",
    "y_pred = bagging_model.predict(X_test)"
   ]
  },
  {
   "cell_type": "code",
   "execution_count": null,
   "metadata": {},
   "outputs": [],
   "source": [
    "# Mostrar y_pred\n",
    "y_pred"
   ]
  },
  {
   "cell_type": "code",
   "execution_count": null,
   "metadata": {},
   "outputs": [],
   "source": [
    "# Avaliar métricas do modelo\n",
    "rmse = root_mean_squared_error(y_test, y_pred)\n",
    "r2 = r2_score(y_test, y_pred)"
   ]
  },
  {
   "cell_type": "code",
   "execution_count": null,
   "metadata": {},
   "outputs": [],
   "source": [
    "# Mostrar o Erro e R2 do Modelo\n",
    "print(f'Root Mean Squared Error: {rmse}')\n",
    "print(f'R2: {r2}')"
   ]
  },
  {
   "cell_type": "code",
   "execution_count": null,
   "metadata": {},
   "outputs": [],
   "source": [
    "# Calcular a importância das features usando os coeficientes\n",
    "\n",
    "# Obter os coeficiente de cada estimador\n",
    "coefs = np.array([estimator.coef_ for estimator in bagging_model.estimators_])\n",
    "\n",
    "# Calcular a média dos coeficientes absolutos\n",
    "feature_importance = np.mean(np.abs(coefs), axis=0)\n",
    "\n",
    "# Normalizar as importâncias\n",
    "feature_importance = feature_importance / np.sum(feature_importance)"
   ]
  },
  {
   "cell_type": "code",
   "execution_count": null,
   "metadata": {},
   "outputs": [],
   "source": [
    "# Obter os nomes das features\n",
    "feature_names = preprocessor.get_feature_names_out()"
   ]
  },
  {
   "cell_type": "code",
   "execution_count": null,
   "metadata": {},
   "outputs": [],
   "source": [
    "# Criar um dataframe com as importâncias e os nomes\n",
    "importance_df = pd.DataFrame(\n",
    "  {\n",
    "    'feature': feature_names,\n",
    "    'importance': feature_importance\n",
    "  }\n",
    ")\n",
    "\n",
    "# Ordenar o Dataframe pela importância\n",
    "importance_df = importance_df.sort_values('importance', ascending=True)"
   ]
  },
  {
   "cell_type": "code",
   "execution_count": null,
   "metadata": {},
   "outputs": [],
   "source": [
    "# Criar o gráfico de barras para mostrar a importância das features\n",
    "fig = px.bar(\n",
    "  importance_df,\n",
    "  x='importance',\n",
    "  y='feature',\n",
    "  title='Importância das Features',\n",
    "  orientation='h'\n",
    ")\n",
    "\n",
    "fig.update_xaxes(tickangle=45)\n",
    "fig.show()"
   ]
  },
  {
   "cell_type": "markdown",
   "metadata": {},
   "source": [
    "### Verificar propriedades do modelo"
   ]
  },
  {
   "cell_type": "code",
   "execution_count": null,
   "metadata": {},
   "outputs": [],
   "source": [
    "bagging_model.estimators_samples_"
   ]
  },
  {
   "cell_type": "code",
   "execution_count": null,
   "metadata": {},
   "outputs": [],
   "source": [
    "bagging_model.estimators_samples_[2].shape"
   ]
  },
  {
   "cell_type": "code",
   "execution_count": null,
   "metadata": {},
   "outputs": [],
   "source": [
    "bagging_model.estimators_features_"
   ]
  },
  {
   "cell_type": "markdown",
   "metadata": {},
   "source": [
    "### Salvar dados e pre-processador do modelo"
   ]
  },
  {
   "cell_type": "code",
   "execution_count": null,
   "metadata": {},
   "outputs": [],
   "source": [
    "# Salvar dataframe como CSV\n",
    "df_costs.to_csv('../datasets/healthcosts_cleaned.csv', index=False)"
   ]
  },
  {
   "cell_type": "code",
   "execution_count": null,
   "metadata": {},
   "outputs": [],
   "source": [
    "# Salvar o preprocessor\n",
    "import joblib\n",
    "\n",
    "joblib.dump(preprocessor, './preprocessor_dataset_healthcosts.pkl')"
   ]
  }
 ],
 "metadata": {
  "kernelspec": {
   "display_name": "Python 3",
   "language": "python",
   "name": "python3"
  },
  "language_info": {
   "codemirror_mode": {
    "name": "ipython",
    "version": 3
   },
   "file_extension": ".py",
   "mimetype": "text/x-python",
   "name": "python",
   "nbconvert_exporter": "python",
   "pygments_lexer": "ipython3",
   "version": "3.12.3"
  }
 },
 "nbformat": 4,
 "nbformat_minor": 2
}
