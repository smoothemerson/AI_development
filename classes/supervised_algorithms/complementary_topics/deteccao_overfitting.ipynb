{
 "cells": [
  {
   "cell_type": "code",
   "execution_count": 1,
   "metadata": {},
   "outputs": [],
   "source": [
    "import pandas as pd\n",
    "import seaborn as sns\n",
    "import matplotlib.pyplot as plt\n",
    "from sklearn.linear_model import LinearRegression\n",
    "from sklearn.model_selection import train_test_split, learning_curve, LearningCurveDisplay\n",
    "from sklearn.metrics import mean_squared_error, f1_score\n",
    "\n",
    "from numpy import linspace, mean\n",
    "import plotly.express as px"
   ]
  },
  {
   "cell_type": "markdown",
   "metadata": {},
   "source": [
    "### Carregar e visualizar os dados"
   ]
  },
  {
   "cell_type": "code",
   "execution_count": 2,
   "metadata": {},
   "outputs": [],
   "source": [
    "# Carregar os dados - Regressão\n",
    "df = pd.read_csv('./datasets/dataset_colesterol.csv')"
   ]
  },
  {
   "cell_type": "code",
   "execution_count": 3,
   "metadata": {},
   "outputs": [
    {
     "name": "stdout",
     "output_type": "stream",
     "text": [
      "<class 'pandas.core.frame.DataFrame'>\n",
      "RangeIndex: 1000 entries, 0 to 999\n",
      "Data columns (total 8 columns):\n",
      " #   Column              Non-Null Count  Dtype  \n",
      "---  ------              --------------  -----  \n",
      " 0   Id                  1000 non-null   int64  \n",
      " 1   Grupo Sanguíneo     996 non-null    object \n",
      " 2   Fumante             997 non-null    object \n",
      " 3   Nível de Atividade  996 non-null    object \n",
      " 4   Idade               997 non-null    float64\n",
      " 5   Peso                997 non-null    float64\n",
      " 6   Altura              997 non-null    float64\n",
      " 7   Colesterol          1000 non-null   float64\n",
      "dtypes: float64(4), int64(1), object(3)\n",
      "memory usage: 62.6+ KB\n"
     ]
    }
   ],
   "source": [
    "# Visualizar estrutura dos dados\n",
    "df.info()"
   ]
  },
  {
   "cell_type": "code",
   "execution_count": 4,
   "metadata": {},
   "outputs": [
    {
     "data": {
      "text/html": [
       "<div>\n",
       "<style scoped>\n",
       "    .dataframe tbody tr th:only-of-type {\n",
       "        vertical-align: middle;\n",
       "    }\n",
       "\n",
       "    .dataframe tbody tr th {\n",
       "        vertical-align: top;\n",
       "    }\n",
       "\n",
       "    .dataframe thead th {\n",
       "        text-align: right;\n",
       "    }\n",
       "</style>\n",
       "<table border=\"1\" class=\"dataframe\">\n",
       "  <thead>\n",
       "    <tr style=\"text-align: right;\">\n",
       "      <th></th>\n",
       "      <th>Id</th>\n",
       "      <th>Grupo Sanguíneo</th>\n",
       "      <th>Fumante</th>\n",
       "      <th>Nível de Atividade</th>\n",
       "      <th>Idade</th>\n",
       "      <th>Peso</th>\n",
       "      <th>Altura</th>\n",
       "      <th>Colesterol</th>\n",
       "    </tr>\n",
       "  </thead>\n",
       "  <tbody>\n",
       "    <tr>\n",
       "      <th>0</th>\n",
       "      <td>1</td>\n",
       "      <td>B</td>\n",
       "      <td>Sim</td>\n",
       "      <td>Baixo</td>\n",
       "      <td>33.0</td>\n",
       "      <td>85.1</td>\n",
       "      <td>186.0</td>\n",
       "      <td>199.63</td>\n",
       "    </tr>\n",
       "    <tr>\n",
       "      <th>1</th>\n",
       "      <td>2</td>\n",
       "      <td>A</td>\n",
       "      <td>Não</td>\n",
       "      <td>Moderado</td>\n",
       "      <td>68.0</td>\n",
       "      <td>105.0</td>\n",
       "      <td>184.0</td>\n",
       "      <td>236.98</td>\n",
       "    </tr>\n",
       "    <tr>\n",
       "      <th>2</th>\n",
       "      <td>3</td>\n",
       "      <td>O</td>\n",
       "      <td>Não</td>\n",
       "      <td>Alto</td>\n",
       "      <td>25.0</td>\n",
       "      <td>64.8</td>\n",
       "      <td>180.0</td>\n",
       "      <td>161.79</td>\n",
       "    </tr>\n",
       "    <tr>\n",
       "      <th>3</th>\n",
       "      <td>4</td>\n",
       "      <td>A</td>\n",
       "      <td>Não</td>\n",
       "      <td>Alto</td>\n",
       "      <td>43.0</td>\n",
       "      <td>120.2</td>\n",
       "      <td>167.0</td>\n",
       "      <td>336.24</td>\n",
       "    </tr>\n",
       "    <tr>\n",
       "      <th>4</th>\n",
       "      <td>5</td>\n",
       "      <td>AB</td>\n",
       "      <td>Não</td>\n",
       "      <td>Baixo</td>\n",
       "      <td>79.0</td>\n",
       "      <td>88.5</td>\n",
       "      <td>175.0</td>\n",
       "      <td>226.23</td>\n",
       "    </tr>\n",
       "  </tbody>\n",
       "</table>\n",
       "</div>"
      ],
      "text/plain": [
       "   Id Grupo Sanguíneo Fumante Nível de Atividade  Idade   Peso  Altura  \\\n",
       "0   1               B     Sim              Baixo   33.0   85.1   186.0   \n",
       "1   2               A     Não           Moderado   68.0  105.0   184.0   \n",
       "2   3               O     Não               Alto   25.0   64.8   180.0   \n",
       "3   4               A     Não               Alto   43.0  120.2   167.0   \n",
       "4   5              AB     Não              Baixo   79.0   88.5   175.0   \n",
       "\n",
       "   Colesterol  \n",
       "0      199.63  \n",
       "1      236.98  \n",
       "2      161.79  \n",
       "3      336.24  \n",
       "4      226.23  "
      ]
     },
     "execution_count": 4,
     "metadata": {},
     "output_type": "execute_result"
    }
   ],
   "source": [
    "# Visualizar Dataframe\n",
    "df.head(5)"
   ]
  },
  {
   "cell_type": "code",
   "execution_count": 5,
   "metadata": {},
   "outputs": [],
   "source": [
    "# Ajustar DataFrame\n",
    "\n",
    "df.drop('Id', axis=1, inplace=True)\n",
    "df.dropna(inplace=True, axis=0)\n",
    "\n",
    "# Aplicar OneHotEncoding nas variáveis categóricas\n",
    "df = pd.get_dummies(df, columns=['Grupo Sanguíneo', 'Fumante', 'Nível de Atividade'])"
   ]
  },
  {
   "cell_type": "code",
   "execution_count": 6,
   "metadata": {},
   "outputs": [
    {
     "data": {
      "text/html": [
       "<div>\n",
       "<style scoped>\n",
       "    .dataframe tbody tr th:only-of-type {\n",
       "        vertical-align: middle;\n",
       "    }\n",
       "\n",
       "    .dataframe tbody tr th {\n",
       "        vertical-align: top;\n",
       "    }\n",
       "\n",
       "    .dataframe thead th {\n",
       "        text-align: right;\n",
       "    }\n",
       "</style>\n",
       "<table border=\"1\" class=\"dataframe\">\n",
       "  <thead>\n",
       "    <tr style=\"text-align: right;\">\n",
       "      <th></th>\n",
       "      <th>Idade</th>\n",
       "      <th>Peso</th>\n",
       "      <th>Altura</th>\n",
       "      <th>Colesterol</th>\n",
       "      <th>Grupo Sanguíneo_A</th>\n",
       "      <th>Grupo Sanguíneo_AB</th>\n",
       "      <th>Grupo Sanguíneo_B</th>\n",
       "      <th>Grupo Sanguíneo_O</th>\n",
       "      <th>Fumante_Não</th>\n",
       "      <th>Fumante_Sim</th>\n",
       "      <th>Nível de Atividade_Alto</th>\n",
       "      <th>Nível de Atividade_Baixo</th>\n",
       "      <th>Nível de Atividade_Moderado</th>\n",
       "    </tr>\n",
       "  </thead>\n",
       "  <tbody>\n",
       "    <tr>\n",
       "      <th>0</th>\n",
       "      <td>33.0</td>\n",
       "      <td>85.1</td>\n",
       "      <td>186.0</td>\n",
       "      <td>199.63</td>\n",
       "      <td>False</td>\n",
       "      <td>False</td>\n",
       "      <td>True</td>\n",
       "      <td>False</td>\n",
       "      <td>False</td>\n",
       "      <td>True</td>\n",
       "      <td>False</td>\n",
       "      <td>True</td>\n",
       "      <td>False</td>\n",
       "    </tr>\n",
       "    <tr>\n",
       "      <th>1</th>\n",
       "      <td>68.0</td>\n",
       "      <td>105.0</td>\n",
       "      <td>184.0</td>\n",
       "      <td>236.98</td>\n",
       "      <td>True</td>\n",
       "      <td>False</td>\n",
       "      <td>False</td>\n",
       "      <td>False</td>\n",
       "      <td>True</td>\n",
       "      <td>False</td>\n",
       "      <td>False</td>\n",
       "      <td>False</td>\n",
       "      <td>True</td>\n",
       "    </tr>\n",
       "    <tr>\n",
       "      <th>2</th>\n",
       "      <td>25.0</td>\n",
       "      <td>64.8</td>\n",
       "      <td>180.0</td>\n",
       "      <td>161.79</td>\n",
       "      <td>False</td>\n",
       "      <td>False</td>\n",
       "      <td>False</td>\n",
       "      <td>True</td>\n",
       "      <td>True</td>\n",
       "      <td>False</td>\n",
       "      <td>True</td>\n",
       "      <td>False</td>\n",
       "      <td>False</td>\n",
       "    </tr>\n",
       "    <tr>\n",
       "      <th>3</th>\n",
       "      <td>43.0</td>\n",
       "      <td>120.2</td>\n",
       "      <td>167.0</td>\n",
       "      <td>336.24</td>\n",
       "      <td>True</td>\n",
       "      <td>False</td>\n",
       "      <td>False</td>\n",
       "      <td>False</td>\n",
       "      <td>True</td>\n",
       "      <td>False</td>\n",
       "      <td>True</td>\n",
       "      <td>False</td>\n",
       "      <td>False</td>\n",
       "    </tr>\n",
       "    <tr>\n",
       "      <th>4</th>\n",
       "      <td>79.0</td>\n",
       "      <td>88.5</td>\n",
       "      <td>175.0</td>\n",
       "      <td>226.23</td>\n",
       "      <td>False</td>\n",
       "      <td>True</td>\n",
       "      <td>False</td>\n",
       "      <td>False</td>\n",
       "      <td>True</td>\n",
       "      <td>False</td>\n",
       "      <td>False</td>\n",
       "      <td>True</td>\n",
       "      <td>False</td>\n",
       "    </tr>\n",
       "  </tbody>\n",
       "</table>\n",
       "</div>"
      ],
      "text/plain": [
       "   Idade   Peso  Altura  Colesterol  Grupo Sanguíneo_A  Grupo Sanguíneo_AB  \\\n",
       "0   33.0   85.1   186.0      199.63              False               False   \n",
       "1   68.0  105.0   184.0      236.98               True               False   \n",
       "2   25.0   64.8   180.0      161.79              False               False   \n",
       "3   43.0  120.2   167.0      336.24               True               False   \n",
       "4   79.0   88.5   175.0      226.23              False                True   \n",
       "\n",
       "   Grupo Sanguíneo_B  Grupo Sanguíneo_O  Fumante_Não  Fumante_Sim  \\\n",
       "0               True              False        False         True   \n",
       "1              False              False         True        False   \n",
       "2              False               True         True        False   \n",
       "3              False              False         True        False   \n",
       "4              False              False         True        False   \n",
       "\n",
       "   Nível de Atividade_Alto  Nível de Atividade_Baixo  \\\n",
       "0                    False                      True   \n",
       "1                    False                     False   \n",
       "2                     True                     False   \n",
       "3                     True                     False   \n",
       "4                    False                      True   \n",
       "\n",
       "   Nível de Atividade_Moderado  \n",
       "0                        False  \n",
       "1                         True  \n",
       "2                        False  \n",
       "3                        False  \n",
       "4                        False  "
      ]
     },
     "execution_count": 6,
     "metadata": {},
     "output_type": "execute_result"
    }
   ],
   "source": [
    "# DataFrame atualizado\n",
    "df.head(5)"
   ]
  },
  {
   "cell_type": "code",
   "execution_count": 7,
   "metadata": {},
   "outputs": [
    {
     "name": "stdout",
     "output_type": "stream",
     "text": [
      "<class 'pandas.core.frame.DataFrame'>\n",
      "Index: 981 entries, 0 to 999\n",
      "Data columns (total 13 columns):\n",
      " #   Column                       Non-Null Count  Dtype  \n",
      "---  ------                       --------------  -----  \n",
      " 0   Idade                        981 non-null    float64\n",
      " 1   Peso                         981 non-null    float64\n",
      " 2   Altura                       981 non-null    float64\n",
      " 3   Colesterol                   981 non-null    float64\n",
      " 4   Grupo Sanguíneo_A            981 non-null    bool   \n",
      " 5   Grupo Sanguíneo_AB           981 non-null    bool   \n",
      " 6   Grupo Sanguíneo_B            981 non-null    bool   \n",
      " 7   Grupo Sanguíneo_O            981 non-null    bool   \n",
      " 8   Fumante_Não                  981 non-null    bool   \n",
      " 9   Fumante_Sim                  981 non-null    bool   \n",
      " 10  Nível de Atividade_Alto      981 non-null    bool   \n",
      " 11  Nível de Atividade_Baixo     981 non-null    bool   \n",
      " 12  Nível de Atividade_Moderado  981 non-null    bool   \n",
      "dtypes: bool(9), float64(4)\n",
      "memory usage: 46.9 KB\n"
     ]
    }
   ],
   "source": [
    "df.info()"
   ]
  },
  {
   "cell_type": "markdown",
   "metadata": {},
   "source": [
    "### Treinar Modelo de Regressão Linear, visualizando a curva de aprendizado"
   ]
  },
  {
   "cell_type": "code",
   "execution_count": 8,
   "metadata": {},
   "outputs": [],
   "source": [
    "# Separar X e y\n",
    "X = df.drop('Colesterol', axis=1)\n",
    "y = df['Colesterol']"
   ]
  },
  {
   "cell_type": "code",
   "execution_count": 9,
   "metadata": {},
   "outputs": [],
   "source": [
    "# Criar o modelo\n",
    "model_reg = LinearRegression()"
   ]
  },
  {
   "cell_type": "code",
   "execution_count": 10,
   "metadata": {},
   "outputs": [],
   "source": [
    "# Gerar Scores da Curva de Aprendizado - Regressão\n",
    "train_size_abs, train_scores, test_scores = learning_curve(model_reg, X, y, train_sizes=linspace(0.1, 0.9, 9), scoring='neg_mean_squared_error', cv=3)"
   ]
  },
  {
   "cell_type": "code",
   "execution_count": 11,
   "metadata": {},
   "outputs": [
    {
     "data": {
      "text/plain": [
       "array([[-47.00047262, -77.22213421, -77.22213421],\n",
       "       [-55.32546672, -89.02102815, -89.02102815],\n",
       "       [-61.73362968, -83.11563855, -83.11563855],\n",
       "       [-66.56665384, -81.91926243, -81.91926243],\n",
       "       [-65.31117543, -83.74892103, -83.74892103],\n",
       "       [-64.03358554, -78.84574989, -79.82035819],\n",
       "       [-66.01735276, -78.89229346, -77.37203109],\n",
       "       [-67.13594664, -77.81631159, -77.31161195],\n",
       "       [-70.43218552, -80.04327785, -77.59002198]])"
      ]
     },
     "execution_count": 11,
     "metadata": {},
     "output_type": "execute_result"
    }
   ],
   "source": [
    "# Train Scores\n",
    "train_scores"
   ]
  },
  {
   "cell_type": "code",
   "execution_count": 12,
   "metadata": {},
   "outputs": [
    {
     "data": {
      "text/plain": [
       "array([ 65, 130, 196, 261, 327, 392, 457, 523, 588])"
      ]
     },
     "execution_count": 12,
     "metadata": {},
     "output_type": "execute_result"
    }
   ],
   "source": [
    "# Quantidade\n",
    "train_size_abs"
   ]
  },
  {
   "cell_type": "code",
   "execution_count": 13,
   "metadata": {},
   "outputs": [
    {
     "data": {
      "image/png": "[encoded data removed]",
      "text/plain": [
       "<Figure size 640x480 with 1 Axes>"
      ]
     },
     "metadata": {},
     "output_type": "display_data"
    }
   ],
   "source": [
    "# Gerar Plot com Curva de Aprendizado\n",
    "plt.plot(linspace(0.1, 0.9, 9), mean(train_scores, axis=1), color='b', label='Treino')\n",
    "plt.plot(linspace(0.1, 0.9, 9), mean(test_scores, axis=1), color='g', label='Teste')\n",
    "plt.title(\"Curva de Aprendizado - Regressão Linear\")\n",
    "plt.legend()\n",
    "plt.show()"
   ]
  }
 ],
 "metadata": {
  "kernelspec": {
   "display_name": "Supervisionado_Complemento-G6vfreV3",
   "language": "python",
   "name": "python3"
  },
  "language_info": {
   "codemirror_mode": {
    "name": "ipython",
    "version": 3
   },
   "file_extension": ".py",
   "mimetype": "text/x-python",
   "name": "python",
   "nbconvert_exporter": "python",
   "pygments_lexer": "ipython3",
   "version": "3.10.12"
  }
 },
 "nbformat": 4,
 "nbformat_minor": 2
}
