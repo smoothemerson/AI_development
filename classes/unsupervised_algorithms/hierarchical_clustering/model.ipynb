{
 "cells": [
  {
   "cell_type": "code",
   "execution_count": 1,
   "metadata": {},
   "outputs": [],
   "source": [
    "# EDA  e Visualização de Dados\n",
    "import pandas as pd\n",
    "import seaborn as sns\n",
    "import plotly.express as px\n",
    "from matplotlib import pyplot as plt\n",
    "\n",
    "# ML\n",
    "from sklearn.cluster import AgglomerativeClustering, BisectingKMeans\n",
    "from sklearn.metrics import silhouette_score\n",
    "from sklearn.preprocessing import StandardScaler, OneHotEncoder\n",
    "from sklearn.compose import ColumnTransformer\n",
    "import numpy as np\n",
    "from scipy.cluster.hierarchy import dendrogram, linkage, cut_tree\n",
    "\n",
    "# Otimização\n",
    "import optuna"
   ]
  },
  {
   "cell_type": "markdown",
   "metadata": {},
   "source": [
    "### Carregar os Dados"
   ]
  },
  {
   "cell_type": "code",
   "execution_count": 2,
   "metadata": {},
   "outputs": [],
   "source": [
    "# Carregar Dataframe\n",
    "df_laptops = pd.read_csv('./datasets/laptops_new.csv')"
   ]
  },
  {
   "cell_type": "code",
   "execution_count": 3,
   "metadata": {},
   "outputs": [
    {
     "name": "stdout",
     "output_type": "stream",
     "text": [
      "<class 'pandas.core.frame.DataFrame'>\n",
      "RangeIndex: 991 entries, 0 to 990\n",
      "Data columns (total 20 columns):\n",
      " #   Column                    Non-Null Count  Dtype  \n",
      "---  ------                    --------------  -----  \n",
      " 0   index                     991 non-null    int64  \n",
      " 1   brand                     991 non-null    object \n",
      " 2   model                     991 non-null    object \n",
      " 3   price                     991 non-null    float64\n",
      " 4   rating                    991 non-null    int64  \n",
      " 5   processor_brand           991 non-null    object \n",
      " 6   processor_tier            991 non-null    object \n",
      " 7   num_cores                 991 non-null    int64  \n",
      " 8   num_threads               991 non-null    int64  \n",
      " 9   ram_memory                991 non-null    int64  \n",
      " 10  primary_storage_type      991 non-null    object \n",
      " 11  primary_storage_capacity  991 non-null    int64  \n",
      " 12  gpu_brand                 991 non-null    object \n",
      " 13  gpu_type                  991 non-null    object \n",
      " 14  is_touch_screen           991 non-null    bool   \n",
      " 15  display_size              991 non-null    float64\n",
      " 16  resolution_width          991 non-null    int64  \n",
      " 17  resolution_height         991 non-null    int64  \n",
      " 18  os                        991 non-null    object \n",
      " 19  year_of_warranty          991 non-null    object \n",
      "dtypes: bool(1), float64(2), int64(8), object(9)\n",
      "memory usage: 148.2+ KB\n"
     ]
    }
   ],
   "source": [
    "# Analisar a Estrutura\n",
    "df_laptops.info()"
   ]
  },
  {
   "cell_type": "code",
   "execution_count": 4,
   "metadata": {},
   "outputs": [
    {
     "data": {
      "text/html": [
       "<div>\n",
       "<style scoped>\n",
       "    .dataframe tbody tr th:only-of-type {\n",
       "        vertical-align: middle;\n",
       "    }\n",
       "\n",
       "    .dataframe tbody tr th {\n",
       "        vertical-align: top;\n",
       "    }\n",
       "\n",
       "    .dataframe thead th {\n",
       "        text-align: right;\n",
       "    }\n",
       "</style>\n",
       "<table border=\"1\" class=\"dataframe\">\n",
       "  <thead>\n",
       "    <tr style=\"text-align: right;\">\n",
       "      <th></th>\n",
       "      <th>index</th>\n",
       "      <th>brand</th>\n",
       "      <th>model</th>\n",
       "      <th>price</th>\n",
       "      <th>rating</th>\n",
       "      <th>processor_brand</th>\n",
       "      <th>processor_tier</th>\n",
       "      <th>num_cores</th>\n",
       "      <th>num_threads</th>\n",
       "      <th>ram_memory</th>\n",
       "      <th>primary_storage_type</th>\n",
       "      <th>primary_storage_capacity</th>\n",
       "      <th>gpu_brand</th>\n",
       "      <th>gpu_type</th>\n",
       "      <th>is_touch_screen</th>\n",
       "      <th>display_size</th>\n",
       "      <th>resolution_width</th>\n",
       "      <th>resolution_height</th>\n",
       "      <th>os</th>\n",
       "      <th>year_of_warranty</th>\n",
       "    </tr>\n",
       "  </thead>\n",
       "  <tbody>\n",
       "    <tr>\n",
       "      <th>0</th>\n",
       "      <td>1</td>\n",
       "      <td>tecno</td>\n",
       "      <td>Tecno Megabook T1 Laptop (11th Gen Core i3/ 8G...</td>\n",
       "      <td>287.72</td>\n",
       "      <td>63</td>\n",
       "      <td>intel</td>\n",
       "      <td>core i3</td>\n",
       "      <td>2</td>\n",
       "      <td>4</td>\n",
       "      <td>8</td>\n",
       "      <td>SSD</td>\n",
       "      <td>512</td>\n",
       "      <td>intel</td>\n",
       "      <td>integrated</td>\n",
       "      <td>False</td>\n",
       "      <td>15.6</td>\n",
       "      <td>1920</td>\n",
       "      <td>1080</td>\n",
       "      <td>windows</td>\n",
       "      <td>1</td>\n",
       "    </tr>\n",
       "    <tr>\n",
       "      <th>1</th>\n",
       "      <td>2</td>\n",
       "      <td>tecno</td>\n",
       "      <td>Tecno Megabook T1 Laptop (11th Gen Core i7/ 16...</td>\n",
       "      <td>431.64</td>\n",
       "      <td>67</td>\n",
       "      <td>intel</td>\n",
       "      <td>core i7</td>\n",
       "      <td>4</td>\n",
       "      <td>8</td>\n",
       "      <td>16</td>\n",
       "      <td>SSD</td>\n",
       "      <td>1024</td>\n",
       "      <td>intel</td>\n",
       "      <td>integrated</td>\n",
       "      <td>False</td>\n",
       "      <td>15.6</td>\n",
       "      <td>1920</td>\n",
       "      <td>1080</td>\n",
       "      <td>windows</td>\n",
       "      <td>1</td>\n",
       "    </tr>\n",
       "    <tr>\n",
       "      <th>2</th>\n",
       "      <td>3</td>\n",
       "      <td>hp</td>\n",
       "      <td>HP Victus 15-fb0157AX Gaming Laptop (AMD Ryzen...</td>\n",
       "      <td>612.86</td>\n",
       "      <td>73</td>\n",
       "      <td>amd</td>\n",
       "      <td>ryzen 5</td>\n",
       "      <td>6</td>\n",
       "      <td>12</td>\n",
       "      <td>8</td>\n",
       "      <td>SSD</td>\n",
       "      <td>512</td>\n",
       "      <td>amd</td>\n",
       "      <td>dedicated</td>\n",
       "      <td>False</td>\n",
       "      <td>15.6</td>\n",
       "      <td>1920</td>\n",
       "      <td>1080</td>\n",
       "      <td>windows</td>\n",
       "      <td>1</td>\n",
       "    </tr>\n",
       "    <tr>\n",
       "      <th>3</th>\n",
       "      <td>4</td>\n",
       "      <td>acer</td>\n",
       "      <td>Acer Extensa EX214-53 Laptop (12th Gen Core i5...</td>\n",
       "      <td>479.62</td>\n",
       "      <td>62</td>\n",
       "      <td>intel</td>\n",
       "      <td>core i5</td>\n",
       "      <td>12</td>\n",
       "      <td>16</td>\n",
       "      <td>8</td>\n",
       "      <td>SSD</td>\n",
       "      <td>512</td>\n",
       "      <td>intel</td>\n",
       "      <td>integrated</td>\n",
       "      <td>False</td>\n",
       "      <td>14.0</td>\n",
       "      <td>1920</td>\n",
       "      <td>1080</td>\n",
       "      <td>windows</td>\n",
       "      <td>1</td>\n",
       "    </tr>\n",
       "    <tr>\n",
       "      <th>4</th>\n",
       "      <td>5</td>\n",
       "      <td>lenovo</td>\n",
       "      <td>Lenovo V15 82KDA01BIH Laptop (AMD Ryzen 3 5300...</td>\n",
       "      <td>342.77</td>\n",
       "      <td>62</td>\n",
       "      <td>amd</td>\n",
       "      <td>ryzen 3</td>\n",
       "      <td>4</td>\n",
       "      <td>8</td>\n",
       "      <td>8</td>\n",
       "      <td>SSD</td>\n",
       "      <td>512</td>\n",
       "      <td>amd</td>\n",
       "      <td>integrated</td>\n",
       "      <td>False</td>\n",
       "      <td>15.6</td>\n",
       "      <td>1920</td>\n",
       "      <td>1080</td>\n",
       "      <td>windows</td>\n",
       "      <td>1</td>\n",
       "    </tr>\n",
       "  </tbody>\n",
       "</table>\n",
       "</div>"
      ],
      "text/plain": [
       "   index   brand                                              model   price  \\\n",
       "0      1   tecno  Tecno Megabook T1 Laptop (11th Gen Core i3/ 8G...  287.72   \n",
       "1      2   tecno  Tecno Megabook T1 Laptop (11th Gen Core i7/ 16...  431.64   \n",
       "2      3      hp  HP Victus 15-fb0157AX Gaming Laptop (AMD Ryzen...  612.86   \n",
       "3      4    acer  Acer Extensa EX214-53 Laptop (12th Gen Core i5...  479.62   \n",
       "4      5  lenovo  Lenovo V15 82KDA01BIH Laptop (AMD Ryzen 3 5300...  342.77   \n",
       "\n",
       "   rating processor_brand processor_tier  num_cores  num_threads  ram_memory  \\\n",
       "0      63           intel        core i3          2            4           8   \n",
       "1      67           intel        core i7          4            8          16   \n",
       "2      73             amd        ryzen 5          6           12           8   \n",
       "3      62           intel        core i5         12           16           8   \n",
       "4      62             amd        ryzen 3          4            8           8   \n",
       "\n",
       "  primary_storage_type  primary_storage_capacity gpu_brand    gpu_type  \\\n",
       "0                  SSD                       512     intel  integrated   \n",
       "1                  SSD                      1024     intel  integrated   \n",
       "2                  SSD                       512       amd   dedicated   \n",
       "3                  SSD                       512     intel  integrated   \n",
       "4                  SSD                       512       amd  integrated   \n",
       "\n",
       "   is_touch_screen  display_size  resolution_width  resolution_height  \\\n",
       "0            False          15.6              1920               1080   \n",
       "1            False          15.6              1920               1080   \n",
       "2            False          15.6              1920               1080   \n",
       "3            False          14.0              1920               1080   \n",
       "4            False          15.6              1920               1080   \n",
       "\n",
       "        os year_of_warranty  \n",
       "0  windows                1  \n",
       "1  windows                1  \n",
       "2  windows                1  \n",
       "3  windows                1  \n",
       "4  windows                1  "
      ]
     },
     "execution_count": 4,
     "metadata": {},
     "output_type": "execute_result"
    }
   ],
   "source": [
    "# Visualizar os primeiros registros\n",
    "df_laptops.head(5)"
   ]
  },
  {
   "cell_type": "code",
   "execution_count": 5,
   "metadata": {},
   "outputs": [
    {
     "data": {
      "text/html": [
       "<div>\n",
       "<style scoped>\n",
       "    .dataframe tbody tr th:only-of-type {\n",
       "        vertical-align: middle;\n",
       "    }\n",
       "\n",
       "    .dataframe tbody tr th {\n",
       "        vertical-align: top;\n",
       "    }\n",
       "\n",
       "    .dataframe thead th {\n",
       "        text-align: right;\n",
       "    }\n",
       "</style>\n",
       "<table border=\"1\" class=\"dataframe\">\n",
       "  <thead>\n",
       "    <tr style=\"text-align: right;\">\n",
       "      <th></th>\n",
       "      <th>index</th>\n",
       "      <th>brand</th>\n",
       "      <th>model</th>\n",
       "      <th>price</th>\n",
       "      <th>rating</th>\n",
       "      <th>processor_brand</th>\n",
       "      <th>processor_tier</th>\n",
       "      <th>num_cores</th>\n",
       "      <th>num_threads</th>\n",
       "      <th>ram_memory</th>\n",
       "      <th>primary_storage_type</th>\n",
       "      <th>primary_storage_capacity</th>\n",
       "      <th>gpu_brand</th>\n",
       "      <th>gpu_type</th>\n",
       "      <th>is_touch_screen</th>\n",
       "      <th>display_size</th>\n",
       "      <th>resolution_width</th>\n",
       "      <th>resolution_height</th>\n",
       "      <th>os</th>\n",
       "      <th>year_of_warranty</th>\n",
       "    </tr>\n",
       "  </thead>\n",
       "  <tbody>\n",
       "    <tr>\n",
       "      <th>986</th>\n",
       "      <td>998</td>\n",
       "      <td>asus</td>\n",
       "      <td>Asus Vivobook Pro 15 M6500QC-HN542WS Laptop (R...</td>\n",
       "      <td>791.44</td>\n",
       "      <td>68</td>\n",
       "      <td>amd</td>\n",
       "      <td>ryzen 5</td>\n",
       "      <td>6</td>\n",
       "      <td>12</td>\n",
       "      <td>16</td>\n",
       "      <td>SSD</td>\n",
       "      <td>512</td>\n",
       "      <td>nvidia</td>\n",
       "      <td>dedicated</td>\n",
       "      <td>False</td>\n",
       "      <td>15.6</td>\n",
       "      <td>1920</td>\n",
       "      <td>1080</td>\n",
       "      <td>windows</td>\n",
       "      <td>1</td>\n",
       "    </tr>\n",
       "    <tr>\n",
       "      <th>987</th>\n",
       "      <td>999</td>\n",
       "      <td>msi</td>\n",
       "      <td>MSI Thin GF63 12VE-070IN Gaming Laptop (12th G...</td>\n",
       "      <td>1103.27</td>\n",
       "      <td>73</td>\n",
       "      <td>intel</td>\n",
       "      <td>core i7</td>\n",
       "      <td>10</td>\n",
       "      <td>16</td>\n",
       "      <td>16</td>\n",
       "      <td>SSD</td>\n",
       "      <td>512</td>\n",
       "      <td>nvidia</td>\n",
       "      <td>dedicated</td>\n",
       "      <td>False</td>\n",
       "      <td>15.6</td>\n",
       "      <td>1920</td>\n",
       "      <td>1080</td>\n",
       "      <td>windows</td>\n",
       "      <td>2</td>\n",
       "    </tr>\n",
       "    <tr>\n",
       "      <th>988</th>\n",
       "      <td>1000</td>\n",
       "      <td>asus</td>\n",
       "      <td>Asus Vivobook Go 15 2023 E1504FA-NJ522WS Lapto...</td>\n",
       "      <td>539.58</td>\n",
       "      <td>59</td>\n",
       "      <td>amd</td>\n",
       "      <td>ryzen 5</td>\n",
       "      <td>4</td>\n",
       "      <td>8</td>\n",
       "      <td>8</td>\n",
       "      <td>SSD</td>\n",
       "      <td>512</td>\n",
       "      <td>amd</td>\n",
       "      <td>integrated</td>\n",
       "      <td>False</td>\n",
       "      <td>15.6</td>\n",
       "      <td>1920</td>\n",
       "      <td>1080</td>\n",
       "      <td>windows</td>\n",
       "      <td>1</td>\n",
       "    </tr>\n",
       "    <tr>\n",
       "      <th>989</th>\n",
       "      <td>1001</td>\n",
       "      <td>asus</td>\n",
       "      <td>Asus Zenbook 14 2023 UM3402YA-KP541WS Laptop (...</td>\n",
       "      <td>815.43</td>\n",
       "      <td>68</td>\n",
       "      <td>amd</td>\n",
       "      <td>ryzen 5</td>\n",
       "      <td>6</td>\n",
       "      <td>12</td>\n",
       "      <td>16</td>\n",
       "      <td>SSD</td>\n",
       "      <td>512</td>\n",
       "      <td>amd</td>\n",
       "      <td>integrated</td>\n",
       "      <td>False</td>\n",
       "      <td>14.0</td>\n",
       "      <td>2560</td>\n",
       "      <td>1600</td>\n",
       "      <td>windows</td>\n",
       "      <td>1</td>\n",
       "    </tr>\n",
       "    <tr>\n",
       "      <th>990</th>\n",
       "      <td>1002</td>\n",
       "      <td>hp</td>\n",
       "      <td>HP Chromebook 15a-na0008TU Laptop (Intel Celer...</td>\n",
       "      <td>251.74</td>\n",
       "      <td>37</td>\n",
       "      <td>intel</td>\n",
       "      <td>celeron</td>\n",
       "      <td>2</td>\n",
       "      <td>2</td>\n",
       "      <td>4</td>\n",
       "      <td>HDD</td>\n",
       "      <td>128</td>\n",
       "      <td>intel</td>\n",
       "      <td>integrated</td>\n",
       "      <td>False</td>\n",
       "      <td>15.6</td>\n",
       "      <td>1366</td>\n",
       "      <td>768</td>\n",
       "      <td>chrome</td>\n",
       "      <td>1</td>\n",
       "    </tr>\n",
       "  </tbody>\n",
       "</table>\n",
       "</div>"
      ],
      "text/plain": [
       "     index brand                                              model    price  \\\n",
       "986    998  asus  Asus Vivobook Pro 15 M6500QC-HN542WS Laptop (R...   791.44   \n",
       "987    999   msi  MSI Thin GF63 12VE-070IN Gaming Laptop (12th G...  1103.27   \n",
       "988   1000  asus  Asus Vivobook Go 15 2023 E1504FA-NJ522WS Lapto...   539.58   \n",
       "989   1001  asus  Asus Zenbook 14 2023 UM3402YA-KP541WS Laptop (...   815.43   \n",
       "990   1002    hp  HP Chromebook 15a-na0008TU Laptop (Intel Celer...   251.74   \n",
       "\n",
       "     rating processor_brand processor_tier  num_cores  num_threads  \\\n",
       "986      68             amd        ryzen 5          6           12   \n",
       "987      73           intel        core i7         10           16   \n",
       "988      59             amd        ryzen 5          4            8   \n",
       "989      68             amd        ryzen 5          6           12   \n",
       "990      37           intel        celeron          2            2   \n",
       "\n",
       "     ram_memory primary_storage_type  primary_storage_capacity gpu_brand  \\\n",
       "986          16                  SSD                       512    nvidia   \n",
       "987          16                  SSD                       512    nvidia   \n",
       "988           8                  SSD                       512       amd   \n",
       "989          16                  SSD                       512       amd   \n",
       "990           4                  HDD                       128     intel   \n",
       "\n",
       "       gpu_type  is_touch_screen  display_size  resolution_width  \\\n",
       "986   dedicated            False          15.6              1920   \n",
       "987   dedicated            False          15.6              1920   \n",
       "988  integrated            False          15.6              1920   \n",
       "989  integrated            False          14.0              2560   \n",
       "990  integrated            False          15.6              1366   \n",
       "\n",
       "     resolution_height       os year_of_warranty  \n",
       "986               1080  windows                1  \n",
       "987               1080  windows                2  \n",
       "988               1080  windows                1  \n",
       "989               1600  windows                1  \n",
       "990                768   chrome                1  "
      ]
     },
     "execution_count": 5,
     "metadata": {},
     "output_type": "execute_result"
    }
   ],
   "source": [
    "# Visualizar os últimos registros\n",
    "df_laptops.tail(5)"
   ]
  },
  {
   "cell_type": "markdown",
   "metadata": {},
   "source": [
    "### EDA"
   ]
  },
  {
   "cell_type": "code",
   "execution_count": 6,
   "metadata": {},
   "outputs": [
    {
     "data": {
      "text/html": [
       "<div>\n",
       "<style scoped>\n",
       "    .dataframe tbody tr th:only-of-type {\n",
       "        vertical-align: middle;\n",
       "    }\n",
       "\n",
       "    .dataframe tbody tr th {\n",
       "        vertical-align: top;\n",
       "    }\n",
       "\n",
       "    .dataframe thead th {\n",
       "        text-align: right;\n",
       "    }\n",
       "</style>\n",
       "<table border=\"1\" class=\"dataframe\">\n",
       "  <thead>\n",
       "    <tr style=\"text-align: right;\">\n",
       "      <th></th>\n",
       "      <th>index</th>\n",
       "      <th>price</th>\n",
       "      <th>rating</th>\n",
       "      <th>num_cores</th>\n",
       "      <th>num_threads</th>\n",
       "      <th>ram_memory</th>\n",
       "      <th>primary_storage_capacity</th>\n",
       "      <th>display_size</th>\n",
       "      <th>resolution_width</th>\n",
       "      <th>resolution_height</th>\n",
       "    </tr>\n",
       "  </thead>\n",
       "  <tbody>\n",
       "    <tr>\n",
       "      <th>count</th>\n",
       "      <td>991.000000</td>\n",
       "      <td>991.000000</td>\n",
       "      <td>991.000000</td>\n",
       "      <td>991.000000</td>\n",
       "      <td>991.000000</td>\n",
       "      <td>991.000000</td>\n",
       "      <td>991.000000</td>\n",
       "      <td>991.000000</td>\n",
       "      <td>991.000000</td>\n",
       "      <td>991.000000</td>\n",
       "    </tr>\n",
       "    <tr>\n",
       "      <th>mean</th>\n",
       "      <td>505.860747</td>\n",
       "      <td>926.687487</td>\n",
       "      <td>63.931382</td>\n",
       "      <td>8.128153</td>\n",
       "      <td>12.191726</td>\n",
       "      <td>13.047427</td>\n",
       "      <td>610.938446</td>\n",
       "      <td>15.171241</td>\n",
       "      <td>2003.503532</td>\n",
       "      <td>1181.227043</td>\n",
       "    </tr>\n",
       "    <tr>\n",
       "      <th>std</th>\n",
       "      <td>287.899458</td>\n",
       "      <td>688.239764</td>\n",
       "      <td>10.190575</td>\n",
       "      <td>4.215499</td>\n",
       "      <td>5.585115</td>\n",
       "      <td>5.591188</td>\n",
       "      <td>266.927666</td>\n",
       "      <td>0.938089</td>\n",
       "      <td>361.965292</td>\n",
       "      <td>263.884019</td>\n",
       "    </tr>\n",
       "    <tr>\n",
       "      <th>min</th>\n",
       "      <td>1.000000</td>\n",
       "      <td>117.540000</td>\n",
       "      <td>24.000000</td>\n",
       "      <td>2.000000</td>\n",
       "      <td>0.000000</td>\n",
       "      <td>2.000000</td>\n",
       "      <td>32.000000</td>\n",
       "      <td>10.100000</td>\n",
       "      <td>1080.000000</td>\n",
       "      <td>768.000000</td>\n",
       "    </tr>\n",
       "    <tr>\n",
       "      <th>25%</th>\n",
       "      <td>258.500000</td>\n",
       "      <td>522.850000</td>\n",
       "      <td>58.000000</td>\n",
       "      <td>6.000000</td>\n",
       "      <td>8.000000</td>\n",
       "      <td>8.000000</td>\n",
       "      <td>512.000000</td>\n",
       "      <td>14.000000</td>\n",
       "      <td>1920.000000</td>\n",
       "      <td>1080.000000</td>\n",
       "    </tr>\n",
       "    <tr>\n",
       "      <th>50%</th>\n",
       "      <td>507.000000</td>\n",
       "      <td>742.390000</td>\n",
       "      <td>64.000000</td>\n",
       "      <td>8.000000</td>\n",
       "      <td>12.000000</td>\n",
       "      <td>16.000000</td>\n",
       "      <td>512.000000</td>\n",
       "      <td>15.600000</td>\n",
       "      <td>1920.000000</td>\n",
       "      <td>1080.000000</td>\n",
       "    </tr>\n",
       "    <tr>\n",
       "      <th>75%</th>\n",
       "      <td>754.500000</td>\n",
       "      <td>1070.350000</td>\n",
       "      <td>71.000000</td>\n",
       "      <td>10.000000</td>\n",
       "      <td>16.000000</td>\n",
       "      <td>16.000000</td>\n",
       "      <td>512.000000</td>\n",
       "      <td>15.600000</td>\n",
       "      <td>1920.000000</td>\n",
       "      <td>1200.000000</td>\n",
       "    </tr>\n",
       "    <tr>\n",
       "      <th>max</th>\n",
       "      <td>1002.000000</td>\n",
       "      <td>5450.880000</td>\n",
       "      <td>89.000000</td>\n",
       "      <td>24.000000</td>\n",
       "      <td>32.000000</td>\n",
       "      <td>36.000000</td>\n",
       "      <td>2048.000000</td>\n",
       "      <td>18.000000</td>\n",
       "      <td>3840.000000</td>\n",
       "      <td>2560.000000</td>\n",
       "    </tr>\n",
       "  </tbody>\n",
       "</table>\n",
       "</div>"
      ],
      "text/plain": [
       "             index        price      rating   num_cores  num_threads  \\\n",
       "count   991.000000   991.000000  991.000000  991.000000   991.000000   \n",
       "mean    505.860747   926.687487   63.931382    8.128153    12.191726   \n",
       "std     287.899458   688.239764   10.190575    4.215499     5.585115   \n",
       "min       1.000000   117.540000   24.000000    2.000000     0.000000   \n",
       "25%     258.500000   522.850000   58.000000    6.000000     8.000000   \n",
       "50%     507.000000   742.390000   64.000000    8.000000    12.000000   \n",
       "75%     754.500000  1070.350000   71.000000   10.000000    16.000000   \n",
       "max    1002.000000  5450.880000   89.000000   24.000000    32.000000   \n",
       "\n",
       "       ram_memory  primary_storage_capacity  display_size  resolution_width  \\\n",
       "count  991.000000                991.000000    991.000000        991.000000   \n",
       "mean    13.047427                610.938446     15.171241       2003.503532   \n",
       "std      5.591188                266.927666      0.938089        361.965292   \n",
       "min      2.000000                 32.000000     10.100000       1080.000000   \n",
       "25%      8.000000                512.000000     14.000000       1920.000000   \n",
       "50%     16.000000                512.000000     15.600000       1920.000000   \n",
       "75%     16.000000                512.000000     15.600000       1920.000000   \n",
       "max     36.000000               2048.000000     18.000000       3840.000000   \n",
       "\n",
       "       resolution_height  \n",
       "count         991.000000  \n",
       "mean         1181.227043  \n",
       "std           263.884019  \n",
       "min           768.000000  \n",
       "25%          1080.000000  \n",
       "50%          1080.000000  \n",
       "75%          1200.000000  \n",
       "max          2560.000000  "
      ]
     },
     "execution_count": 6,
     "metadata": {},
     "output_type": "execute_result"
    }
   ],
   "source": [
    "# Estatística das Variáveis\n",
    "df_laptops.describe()"
   ]
  },
  {
   "cell_type": "code",
   "execution_count": 7,
   "metadata": {},
   "outputs": [
    {
     "data": {
      "text/plain": [
       "array(['1', '2', 'No information', '3'], dtype=object)"
      ]
     },
     "execution_count": 7,
     "metadata": {},
     "output_type": "execute_result"
    }
   ],
   "source": [
    "# Checar variável year_of_warranty\n",
    "df_laptops['year_of_warranty'].unique()"
   ]
  },
  {
   "cell_type": "code",
   "execution_count": 8,
   "metadata": {},
   "outputs": [],
   "source": [
    "# Ajustar variável year_of_warranty\n",
    "df_laptops.loc[df_laptops['year_of_warranty'] == 'No information', 'year_of_warranty'] = 1\n",
    "df_laptops['year_of_warranty'] = df_laptops['year_of_warranty'].astype(int)"
   ]
  },
  {
   "cell_type": "code",
   "execution_count": 9,
   "metadata": {},
   "outputs": [],
   "source": [
    "# Transformar variável booleana em int (is_tough_screen)\n",
    "df_laptops['is_touch_screen'] = df_laptops['is_touch_screen'].astype(int)"
   ]
  },
  {
   "cell_type": "code",
   "execution_count": 10,
   "metadata": {},
   "outputs": [
    {
     "data": {
      "application/vnd.plotly.v1+json": {
       "config": {
        "plotlyServerURL": "https://plot.ly"
       },
       "data": [
        {
         "alignmentgroup": "True",
         "hovertemplate": "brand=%{x}<br>value=%{y}<extra></extra>",
         "legendgroup": "asus",
         "marker": {
          "color": "#636efa",
          "pattern": {
           "shape": ""
          }
         },
         "name": "asus",
         "offsetgroup": "asus",
         "orientation": "v",
         "showlegend": true,
         "textposition": "auto",
         "type": "bar",
         "x": [
          "asus"
         ],
         "xaxis": "x",
         "y": [
          21.19071644803229
         ],
         "yaxis": "y"
        },
        {
         "alignmentgroup": "True",
         "hovertemplate": "brand=%{x}<br>value=%{y}<extra></extra>",
         "legendgroup": "hp",
         "marker": {
          "color": "#EF553B",
          "pattern": {
           "shape": ""
          }
         },
         "name": "hp",
         "offsetgroup": "hp",
         "orientation": "v",
         "showlegend": true,
         "textposition": "auto",
         "type": "bar",
         "x": [
          "hp"
         ],
         "xaxis": "x",
         "y": [
          20.686175580222
         ],
         "yaxis": "y"
        },
        {
         "alignmentgroup": "True",
         "hovertemplate": "brand=%{x}<br>value=%{y}<extra></extra>",
         "legendgroup": "lenovo",
         "marker": {
          "color": "#00cc96",
          "pattern": {
           "shape": ""
          }
         },
         "name": "lenovo",
         "offsetgroup": "lenovo",
         "orientation": "v",
         "showlegend": true,
         "textposition": "auto",
         "type": "bar",
         "x": [
          "lenovo"
         ],
         "xaxis": "x",
         "y": [
          20.282542885973765
         ],
         "yaxis": "y"
        },
        {
         "alignmentgroup": "True",
         "hovertemplate": "brand=%{x}<br>value=%{y}<extra></extra>",
         "legendgroup": "dell",
         "marker": {
          "color": "#ab63fa",
          "pattern": {
           "shape": ""
          }
         },
         "name": "dell",
         "offsetgroup": "dell",
         "orientation": "v",
         "showlegend": true,
         "textposition": "auto",
         "type": "bar",
         "x": [
          "dell"
         ],
         "xaxis": "x",
         "y": [
          10.696266397578205
         ],
         "yaxis": "y"
        },
        {
         "alignmentgroup": "True",
         "hovertemplate": "brand=%{x}<br>value=%{y}<extra></extra>",
         "legendgroup": "msi",
         "marker": {
          "color": "#FFA15A",
          "pattern": {
           "shape": ""
          }
         },
         "name": "msi",
         "offsetgroup": "msi",
         "orientation": "v",
         "showlegend": true,
         "textposition": "auto",
         "type": "bar",
         "x": [
          "msi"
         ],
         "xaxis": "x",
         "y": [
          9.081735620585267
         ],
         "yaxis": "y"
        },
        {
         "alignmentgroup": "True",
         "hovertemplate": "brand=%{x}<br>value=%{y}<extra></extra>",
         "legendgroup": "acer",
         "marker": {
          "color": "#19d3f3",
          "pattern": {
           "shape": ""
          }
         },
         "name": "acer",
         "offsetgroup": "acer",
         "orientation": "v",
         "showlegend": true,
         "textposition": "auto",
         "type": "bar",
         "x": [
          "acer"
         ],
         "xaxis": "x",
         "y": [
          8.980827447023207
         ],
         "yaxis": "y"
        },
        {
         "alignmentgroup": "True",
         "hovertemplate": "brand=%{x}<br>value=%{y}<extra></extra>",
         "legendgroup": "apple",
         "marker": {
          "color": "#FF6692",
          "pattern": {
           "shape": ""
          }
         },
         "name": "apple",
         "offsetgroup": "apple",
         "orientation": "v",
         "showlegend": true,
         "textposition": "auto",
         "type": "bar",
         "x": [
          "apple"
         ],
         "xaxis": "x",
         "y": [
          1.513622603430878
         ],
         "yaxis": "y"
        },
        {
         "alignmentgroup": "True",
         "hovertemplate": "brand=%{x}<br>value=%{y}<extra></extra>",
         "legendgroup": "infinix",
         "marker": {
          "color": "#B6E880",
          "pattern": {
           "shape": ""
          }
         },
         "name": "infinix",
         "offsetgroup": "infinix",
         "orientation": "v",
         "showlegend": true,
         "textposition": "auto",
         "type": "bar",
         "x": [
          "infinix"
         ],
         "xaxis": "x",
         "y": [
          1.3118062563067607
         ],
         "yaxis": "y"
        },
        {
         "alignmentgroup": "True",
         "hovertemplate": "brand=%{x}<br>value=%{y}<extra></extra>",
         "legendgroup": "samsung",
         "marker": {
          "color": "#FF97FF",
          "pattern": {
           "shape": ""
          }
         },
         "name": "samsung",
         "offsetgroup": "samsung",
         "orientation": "v",
         "showlegend": true,
         "textposition": "auto",
         "type": "bar",
         "x": [
          "samsung"
         ],
         "xaxis": "x",
         "y": [
          0.7063572149344097
         ],
         "yaxis": "y"
        },
        {
         "alignmentgroup": "True",
         "hovertemplate": "brand=%{x}<br>value=%{y}<extra></extra>",
         "legendgroup": "lg",
         "marker": {
          "color": "#FECB52",
          "pattern": {
           "shape": ""
          }
         },
         "name": "lg",
         "offsetgroup": "lg",
         "orientation": "v",
         "showlegend": true,
         "textposition": "auto",
         "type": "bar",
         "x": [
          "lg"
         ],
         "xaxis": "x",
         "y": [
          0.7063572149344097
         ],
         "yaxis": "y"
        },
        {
         "alignmentgroup": "True",
         "hovertemplate": "brand=%{x}<br>value=%{y}<extra></extra>",
         "legendgroup": "zebronics",
         "marker": {
          "color": "#636efa",
          "pattern": {
           "shape": ""
          }
         },
         "name": "zebronics",
         "offsetgroup": "zebronics",
         "orientation": "v",
         "showlegend": true,
         "textposition": "auto",
         "type": "bar",
         "x": [
          "zebronics"
         ],
         "xaxis": "x",
         "y": [
          0.7063572149344097
         ],
         "yaxis": "y"
        },
        {
         "alignmentgroup": "True",
         "hovertemplate": "brand=%{x}<br>value=%{y}<extra></extra>",
         "legendgroup": "ultimus",
         "marker": {
          "color": "#EF553B",
          "pattern": {
           "shape": ""
          }
         },
         "name": "ultimus",
         "offsetgroup": "ultimus",
         "orientation": "v",
         "showlegend": true,
         "textposition": "auto",
         "type": "bar",
         "x": [
          "ultimus"
         ],
         "xaxis": "x",
         "y": [
          0.6054490413723511
         ],
         "yaxis": "y"
        },
        {
         "alignmentgroup": "True",
         "hovertemplate": "brand=%{x}<br>value=%{y}<extra></extra>",
         "legendgroup": "fujitsu",
         "marker": {
          "color": "#00cc96",
          "pattern": {
           "shape": ""
          }
         },
         "name": "fujitsu",
         "offsetgroup": "fujitsu",
         "orientation": "v",
         "showlegend": true,
         "textposition": "auto",
         "type": "bar",
         "x": [
          "fujitsu"
         ],
         "xaxis": "x",
         "y": [
          0.5045408678102926
         ],
         "yaxis": "y"
        },
        {
         "alignmentgroup": "True",
         "hovertemplate": "brand=%{x}<br>value=%{y}<extra></extra>",
         "legendgroup": "avita",
         "marker": {
          "color": "#ab63fa",
          "pattern": {
           "shape": ""
          }
         },
         "name": "avita",
         "offsetgroup": "avita",
         "orientation": "v",
         "showlegend": true,
         "textposition": "auto",
         "type": "bar",
         "x": [
          "avita"
         ],
         "xaxis": "x",
         "y": [
          0.5045408678102926
         ],
         "yaxis": "y"
        },
        {
         "alignmentgroup": "True",
         "hovertemplate": "brand=%{x}<br>value=%{y}<extra></extra>",
         "legendgroup": "chuwi",
         "marker": {
          "color": "#FFA15A",
          "pattern": {
           "shape": ""
          }
         },
         "name": "chuwi",
         "offsetgroup": "chuwi",
         "orientation": "v",
         "showlegend": true,
         "textposition": "auto",
         "type": "bar",
         "x": [
          "chuwi"
         ],
         "xaxis": "x",
         "y": [
          0.4036326942482341
         ],
         "yaxis": "y"
        },
        {
         "alignmentgroup": "True",
         "hovertemplate": "brand=%{x}<br>value=%{y}<extra></extra>",
         "legendgroup": "wings",
         "marker": {
          "color": "#19d3f3",
          "pattern": {
           "shape": ""
          }
         },
         "name": "wings",
         "offsetgroup": "wings",
         "orientation": "v",
         "showlegend": true,
         "textposition": "auto",
         "type": "bar",
         "x": [
          "wings"
         ],
         "xaxis": "x",
         "y": [
          0.4036326942482341
         ],
         "yaxis": "y"
        },
        {
         "alignmentgroup": "True",
         "hovertemplate": "brand=%{x}<br>value=%{y}<extra></extra>",
         "legendgroup": "honor",
         "marker": {
          "color": "#FF6692",
          "pattern": {
           "shape": ""
          }
         },
         "name": "honor",
         "offsetgroup": "honor",
         "orientation": "v",
         "showlegend": true,
         "textposition": "auto",
         "type": "bar",
         "x": [
          "honor"
         ],
         "xaxis": "x",
         "y": [
          0.20181634712411706
         ],
         "yaxis": "y"
        },
        {
         "alignmentgroup": "True",
         "hovertemplate": "brand=%{x}<br>value=%{y}<extra></extra>",
         "legendgroup": "gigabyte",
         "marker": {
          "color": "#B6E880",
          "pattern": {
           "shape": ""
          }
         },
         "name": "gigabyte",
         "offsetgroup": "gigabyte",
         "orientation": "v",
         "showlegend": true,
         "textposition": "auto",
         "type": "bar",
         "x": [
          "gigabyte"
         ],
         "xaxis": "x",
         "y": [
          0.20181634712411706
         ],
         "yaxis": "y"
        },
        {
         "alignmentgroup": "True",
         "hovertemplate": "brand=%{x}<br>value=%{y}<extra></extra>",
         "legendgroup": "microsoft",
         "marker": {
          "color": "#FF97FF",
          "pattern": {
           "shape": ""
          }
         },
         "name": "microsoft",
         "offsetgroup": "microsoft",
         "orientation": "v",
         "showlegend": true,
         "textposition": "auto",
         "type": "bar",
         "x": [
          "microsoft"
         ],
         "xaxis": "x",
         "y": [
          0.20181634712411706
         ],
         "yaxis": "y"
        },
        {
         "alignmentgroup": "True",
         "hovertemplate": "brand=%{x}<br>value=%{y}<extra></extra>",
         "legendgroup": "axl",
         "marker": {
          "color": "#FECB52",
          "pattern": {
           "shape": ""
          }
         },
         "name": "axl",
         "offsetgroup": "axl",
         "orientation": "v",
         "showlegend": true,
         "textposition": "auto",
         "type": "bar",
         "x": [
          "axl"
         ],
         "xaxis": "x",
         "y": [
          0.20181634712411706
         ],
         "yaxis": "y"
        },
        {
         "alignmentgroup": "True",
         "hovertemplate": "brand=%{x}<br>value=%{y}<extra></extra>",
         "legendgroup": "primebook",
         "marker": {
          "color": "#636efa",
          "pattern": {
           "shape": ""
          }
         },
         "name": "primebook",
         "offsetgroup": "primebook",
         "orientation": "v",
         "showlegend": true,
         "textposition": "auto",
         "type": "bar",
         "x": [
          "primebook"
         ],
         "xaxis": "x",
         "y": [
          0.20181634712411706
         ],
         "yaxis": "y"
        },
        {
         "alignmentgroup": "True",
         "hovertemplate": "brand=%{x}<br>value=%{y}<extra></extra>",
         "legendgroup": "realme",
         "marker": {
          "color": "#EF553B",
          "pattern": {
           "shape": ""
          }
         },
         "name": "realme",
         "offsetgroup": "realme",
         "orientation": "v",
         "showlegend": true,
         "textposition": "auto",
         "type": "bar",
         "x": [
          "realme"
         ],
         "xaxis": "x",
         "y": [
          0.20181634712411706
         ],
         "yaxis": "y"
        },
        {
         "alignmentgroup": "True",
         "hovertemplate": "brand=%{x}<br>value=%{y}<extra></extra>",
         "legendgroup": "tecno",
         "marker": {
          "color": "#00cc96",
          "pattern": {
           "shape": ""
          }
         },
         "name": "tecno",
         "offsetgroup": "tecno",
         "orientation": "v",
         "showlegend": true,
         "textposition": "auto",
         "type": "bar",
         "x": [
          "tecno"
         ],
         "xaxis": "x",
         "y": [
          0.20181634712411706
         ],
         "yaxis": "y"
        },
        {
         "alignmentgroup": "True",
         "hovertemplate": "brand=%{x}<br>value=%{y}<extra></extra>",
         "legendgroup": "iball",
         "marker": {
          "color": "#ab63fa",
          "pattern": {
           "shape": ""
          }
         },
         "name": "iball",
         "offsetgroup": "iball",
         "orientation": "v",
         "showlegend": true,
         "textposition": "auto",
         "type": "bar",
         "x": [
          "iball"
         ],
         "xaxis": "x",
         "y": [
          0.10090817356205853
         ],
         "yaxis": "y"
        },
        {
         "alignmentgroup": "True",
         "hovertemplate": "brand=%{x}<br>value=%{y}<extra></extra>",
         "legendgroup": "walker",
         "marker": {
          "color": "#FFA15A",
          "pattern": {
           "shape": ""
          }
         },
         "name": "walker",
         "offsetgroup": "walker",
         "orientation": "v",
         "showlegend": true,
         "textposition": "auto",
         "type": "bar",
         "x": [
          "walker"
         ],
         "xaxis": "x",
         "y": [
          0.10090817356205853
         ],
         "yaxis": "y"
        },
        {
         "alignmentgroup": "True",
         "hovertemplate": "brand=%{x}<br>value=%{y}<extra></extra>",
         "legendgroup": "jio",
         "marker": {
          "color": "#19d3f3",
          "pattern": {
           "shape": ""
          }
         },
         "name": "jio",
         "offsetgroup": "jio",
         "orientation": "v",
         "showlegend": true,
         "textposition": "auto",
         "type": "bar",
         "x": [
          "jio"
         ],
         "xaxis": "x",
         "y": [
          0.10090817356205853
         ],
         "yaxis": "y"
        }
       ],
       "layout": {
        "barmode": "relative",
        "legend": {
         "title": {
          "text": "brand"
         },
         "tracegroupgap": 0
        },
        "margin": {
         "t": 60
        },
        "template": {
         "data": {
          "bar": [
           {
            "error_x": {
             "color": "#2a3f5f"
            },
            "error_y": {
             "color": "#2a3f5f"
            },
            "marker": {
             "line": {
              "color": "#E5ECF6",
              "width": 0.5
             },
             "pattern": {
              "fillmode": "overlay",
              "size": 10,
              "solidity": 0.2
             }
            },
            "type": "bar"
           }
          ],
          "barpolar": [
           {
            "marker": {
             "line": {
              "color": "#E5ECF6",
              "width": 0.5
             },
             "pattern": {
              "fillmode": "overlay",
              "size": 10,
              "solidity": 0.2
             }
            },
            "type": "barpolar"
           }
          ],
          "carpet": [
           {
            "aaxis": {
             "endlinecolor": "#2a3f5f",
             "gridcolor": "white",
             "linecolor": "white",
             "minorgridcolor": "white",
             "startlinecolor": "#2a3f5f"
            },
            "baxis": {
             "endlinecolor": "#2a3f5f",
             "gridcolor": "white",
             "linecolor": "white",
             "minorgridcolor": "white",
             "startlinecolor": "#2a3f5f"
            },
            "type": "carpet"
           }
          ],
          "choropleth": [
           {
            "colorbar": {
             "outlinewidth": 0,
             "ticks": ""
            },
            "type": "choropleth"
           }
          ],
          "contour": [
           {
            "colorbar": {
             "outlinewidth": 0,
             "ticks": ""
            },
            "colorscale": [
             [
              0,
              "#0d0887"
             ],
             [
              0.1111111111111111,
              "#46039f"
             ],
             [
              0.2222222222222222,
              "#7201a8"
             ],
             [
              0.3333333333333333,
              "#9c179e"
             ],
             [
              0.4444444444444444,
              "#bd3786"
             ],
             [
              0.5555555555555556,
              "#d8576b"
             ],
             [
              0.6666666666666666,
              "#ed7953"
             ],
             [
              0.7777777777777778,
              "#fb9f3a"
             ],
             [
              0.8888888888888888,
              "#fdca26"
             ],
             [
              1,
              "#f0f921"
             ]
            ],
            "type": "contour"
           }
          ],
          "contourcarpet": [
           {
            "colorbar": {
             "outlinewidth": 0,
             "ticks": ""
            },
            "type": "contourcarpet"
           }
          ],
          "heatmap": [
           {
            "colorbar": {
             "outlinewidth": 0,
             "ticks": ""
            },
            "colorscale": [
             [
              0,
              "#0d0887"
             ],
             [
              0.1111111111111111,
              "#46039f"
             ],
             [
              0.2222222222222222,
              "#7201a8"
             ],
             [
              0.3333333333333333,
              "#9c179e"
             ],
             [
              0.4444444444444444,
              "#bd3786"
             ],
             [
              0.5555555555555556,
              "#d8576b"
             ],
             [
              0.6666666666666666,
              "#ed7953"
             ],
             [
              0.7777777777777778,
              "#fb9f3a"
             ],
             [
              0.8888888888888888,
              "#fdca26"
             ],
             [
              1,
              "#f0f921"
             ]
            ],
            "type": "heatmap"
           }
          ],
          "heatmapgl": [
           {
            "colorbar": {
             "outlinewidth": 0,
             "ticks": ""
            },
            "colorscale": [
             [
              0,
              "#0d0887"
             ],
             [
              0.1111111111111111,
              "#46039f"
             ],
             [
              0.2222222222222222,
              "#7201a8"
             ],
             [
              0.3333333333333333,
              "#9c179e"
             ],
             [
              0.4444444444444444,
              "#bd3786"
             ],
             [
              0.5555555555555556,
              "#d8576b"
             ],
             [
              0.6666666666666666,
              "#ed7953"
             ],
             [
              0.7777777777777778,
              "#fb9f3a"
             ],
             [
              0.8888888888888888,
              "#fdca26"
             ],
             [
              1,
              "#f0f921"
             ]
            ],
            "type": "heatmapgl"
           }
          ],
          "histogram": [
           {
            "marker": {
             "pattern": {
              "fillmode": "overlay",
              "size": 10,
              "solidity": 0.2
             }
            },
            "type": "histogram"
           }
          ],
          "histogram2d": [
           {
            "colorbar": {
             "outlinewidth": 0,
             "ticks": ""
            },
            "colorscale": [
             [
              0,
              "#0d0887"
             ],
             [
              0.1111111111111111,
              "#46039f"
             ],
             [
              0.2222222222222222,
              "#7201a8"
             ],
             [
              0.3333333333333333,
              "#9c179e"
             ],
             [
              0.4444444444444444,
              "#bd3786"
             ],
             [
              0.5555555555555556,
              "#d8576b"
             ],
             [
              0.6666666666666666,
              "#ed7953"
             ],
             [
              0.7777777777777778,
              "#fb9f3a"
             ],
             [
              0.8888888888888888,
              "#fdca26"
             ],
             [
              1,
              "#f0f921"
             ]
            ],
            "type": "histogram2d"
           }
          ],
          "histogram2dcontour": [
           {
            "colorbar": {
             "outlinewidth": 0,
             "ticks": ""
            },
            "colorscale": [
             [
              0,
              "#0d0887"
             ],
             [
              0.1111111111111111,
              "#46039f"
             ],
             [
              0.2222222222222222,
              "#7201a8"
             ],
             [
              0.3333333333333333,
              "#9c179e"
             ],
             [
              0.4444444444444444,
              "#bd3786"
             ],
             [
              0.5555555555555556,
              "#d8576b"
             ],
             [
              0.6666666666666666,
              "#ed7953"
             ],
             [
              0.7777777777777778,
              "#fb9f3a"
             ],
             [
              0.8888888888888888,
              "#fdca26"
             ],
             [
              1,
              "#f0f921"
             ]
            ],
            "type": "histogram2dcontour"
           }
          ],
          "mesh3d": [
           {
            "colorbar": {
             "outlinewidth": 0,
             "ticks": ""
            },
            "type": "mesh3d"
           }
          ],
          "parcoords": [
           {
            "line": {
             "colorbar": {
              "outlinewidth": 0,
              "ticks": ""
             }
            },
            "type": "parcoords"
           }
          ],
          "pie": [
           {
            "automargin": true,
            "type": "pie"
           }
          ],
          "scatter": [
           {
            "fillpattern": {
             "fillmode": "overlay",
             "size": 10,
             "solidity": 0.2
            },
            "type": "scatter"
           }
          ],
          "scatter3d": [
           {
            "line": {
             "colorbar": {
              "outlinewidth": 0,
              "ticks": ""
             }
            },
            "marker": {
             "colorbar": {
              "outlinewidth": 0,
              "ticks": ""
             }
            },
            "type": "scatter3d"
           }
          ],
          "scattercarpet": [
           {
            "marker": {
             "colorbar": {
              "outlinewidth": 0,
              "ticks": ""
             }
            },
            "type": "scattercarpet"
           }
          ],
          "scattergeo": [
           {
            "marker": {
             "colorbar": {
              "outlinewidth": 0,
              "ticks": ""
             }
            },
            "type": "scattergeo"
           }
          ],
          "scattergl": [
           {
            "marker": {
             "colorbar": {
              "outlinewidth": 0,
              "ticks": ""
             }
            },
            "type": "scattergl"
           }
          ],
          "scattermapbox": [
           {
            "marker": {
             "colorbar": {
              "outlinewidth": 0,
              "ticks": ""
             }
            },
            "type": "scattermapbox"
           }
          ],
          "scatterpolar": [
           {
            "marker": {
             "colorbar": {
              "outlinewidth": 0,
              "ticks": ""
             }
            },
            "type": "scatterpolar"
           }
          ],
          "scatterpolargl": [
           {
            "marker": {
             "colorbar": {
              "outlinewidth": 0,
              "ticks": ""
             }
            },
            "type": "scatterpolargl"
           }
          ],
          "scatterternary": [
           {
            "marker": {
             "colorbar": {
              "outlinewidth": 0,
              "ticks": ""
             }
            },
            "type": "scatterternary"
           }
          ],
          "surface": [
           {
            "colorbar": {
             "outlinewidth": 0,
             "ticks": ""
            },
            "colorscale": [
             [
              0,
              "#0d0887"
             ],
             [
              0.1111111111111111,
              "#46039f"
             ],
             [
              0.2222222222222222,
              "#7201a8"
             ],
             [
              0.3333333333333333,
              "#9c179e"
             ],
             [
              0.4444444444444444,
              "#bd3786"
             ],
             [
              0.5555555555555556,
              "#d8576b"
             ],
             [
              0.6666666666666666,
              "#ed7953"
             ],
             [
              0.7777777777777778,
              "#fb9f3a"
             ],
             [
              0.8888888888888888,
              "#fdca26"
             ],
             [
              1,
              "#f0f921"
             ]
            ],
            "type": "surface"
           }
          ],
          "table": [
           {
            "cells": {
             "fill": {
              "color": "#EBF0F8"
             },
             "line": {
              "color": "white"
             }
            },
            "header": {
             "fill": {
              "color": "#C8D4E3"
             },
             "line": {
              "color": "white"
             }
            },
            "type": "table"
           }
          ]
         },
         "layout": {
          "annotationdefaults": {
           "arrowcolor": "#2a3f5f",
           "arrowhead": 0,
           "arrowwidth": 1
          },
          "autotypenumbers": "strict",
          "coloraxis": {
           "colorbar": {
            "outlinewidth": 0,
            "ticks": ""
           }
          },
          "colorscale": {
           "diverging": [
            [
             0,
             "#8e0152"
            ],
            [
             0.1,
             "#c51b7d"
            ],
            [
             0.2,
             "#de77ae"
            ],
            [
             0.3,
             "#f1b6da"
            ],
            [
             0.4,
             "#fde0ef"
            ],
            [
             0.5,
             "#f7f7f7"
            ],
            [
             0.6,
             "#e6f5d0"
            ],
            [
             0.7,
             "#b8e186"
            ],
            [
             0.8,
             "#7fbc41"
            ],
            [
             0.9,
             "#4d9221"
            ],
            [
             1,
             "#276419"
            ]
           ],
           "sequential": [
            [
             0,
             "#0d0887"
            ],
            [
             0.1111111111111111,
             "#46039f"
            ],
            [
             0.2222222222222222,
             "#7201a8"
            ],
            [
             0.3333333333333333,
             "#9c179e"
            ],
            [
             0.4444444444444444,
             "#bd3786"
            ],
            [
             0.5555555555555556,
             "#d8576b"
            ],
            [
             0.6666666666666666,
             "#ed7953"
            ],
            [
             0.7777777777777778,
             "#fb9f3a"
            ],
            [
             0.8888888888888888,
             "#fdca26"
            ],
            [
             1,
             "#f0f921"
            ]
           ],
           "sequentialminus": [
            [
             0,
             "#0d0887"
            ],
            [
             0.1111111111111111,
             "#46039f"
            ],
            [
             0.2222222222222222,
             "#7201a8"
            ],
            [
             0.3333333333333333,
             "#9c179e"
            ],
            [
             0.4444444444444444,
             "#bd3786"
            ],
            [
             0.5555555555555556,
             "#d8576b"
            ],
            [
             0.6666666666666666,
             "#ed7953"
            ],
            [
             0.7777777777777778,
             "#fb9f3a"
            ],
            [
             0.8888888888888888,
             "#fdca26"
            ],
            [
             1,
             "#f0f921"
            ]
           ]
          },
          "colorway": [
           "#636efa",
           "#EF553B",
           "#00cc96",
           "#ab63fa",
           "#FFA15A",
           "#19d3f3",
           "#FF6692",
           "#B6E880",
           "#FF97FF",
           "#FECB52"
          ],
          "font": {
           "color": "#2a3f5f"
          },
          "geo": {
           "bgcolor": "white",
           "lakecolor": "white",
           "landcolor": "#E5ECF6",
           "showlakes": true,
           "showland": true,
           "subunitcolor": "white"
          },
          "hoverlabel": {
           "align": "left"
          },
          "hovermode": "closest",
          "mapbox": {
           "style": "light"
          },
          "paper_bgcolor": "white",
          "plot_bgcolor": "#E5ECF6",
          "polar": {
           "angularaxis": {
            "gridcolor": "white",
            "linecolor": "white",
            "ticks": ""
           },
           "bgcolor": "#E5ECF6",
           "radialaxis": {
            "gridcolor": "white",
            "linecolor": "white",
            "ticks": ""
           }
          },
          "scene": {
           "xaxis": {
            "backgroundcolor": "#E5ECF6",
            "gridcolor": "white",
            "gridwidth": 2,
            "linecolor": "white",
            "showbackground": true,
            "ticks": "",
            "zerolinecolor": "white"
           },
           "yaxis": {
            "backgroundcolor": "#E5ECF6",
            "gridcolor": "white",
            "gridwidth": 2,
            "linecolor": "white",
            "showbackground": true,
            "ticks": "",
            "zerolinecolor": "white"
           },
           "zaxis": {
            "backgroundcolor": "#E5ECF6",
            "gridcolor": "white",
            "gridwidth": 2,
            "linecolor": "white",
            "showbackground": true,
            "ticks": "",
            "zerolinecolor": "white"
           }
          },
          "shapedefaults": {
           "line": {
            "color": "#2a3f5f"
           }
          },
          "ternary": {
           "aaxis": {
            "gridcolor": "white",
            "linecolor": "white",
            "ticks": ""
           },
           "baxis": {
            "gridcolor": "white",
            "linecolor": "white",
            "ticks": ""
           },
           "bgcolor": "#E5ECF6",
           "caxis": {
            "gridcolor": "white",
            "linecolor": "white",
            "ticks": ""
           }
          },
          "title": {
           "x": 0.05
          },
          "xaxis": {
           "automargin": true,
           "gridcolor": "white",
           "linecolor": "white",
           "ticks": "",
           "title": {
            "standoff": 15
           },
           "zerolinecolor": "white",
           "zerolinewidth": 2
          },
          "yaxis": {
           "automargin": true,
           "gridcolor": "white",
           "linecolor": "white",
           "ticks": "",
           "title": {
            "standoff": 15
           },
           "zerolinecolor": "white",
           "zerolinewidth": 2
          }
         }
        },
        "xaxis": {
         "anchor": "y",
         "categoryarray": [
          "asus",
          "hp",
          "lenovo",
          "dell",
          "msi",
          "acer",
          "apple",
          "infinix",
          "samsung",
          "lg",
          "zebronics",
          "ultimus",
          "fujitsu",
          "avita",
          "chuwi",
          "wings",
          "honor",
          "gigabyte",
          "microsoft",
          "axl",
          "primebook",
          "realme",
          "tecno",
          "iball",
          "walker",
          "jio"
         ],
         "categoryorder": "array",
         "domain": [
          0,
          1
         ],
         "title": {
          "text": "brand"
         }
        },
        "yaxis": {
         "anchor": "x",
         "domain": [
          0,
          1
         ],
         "title": {
          "text": "value"
         }
        }
       }
      }
     },
     "metadata": {},
     "output_type": "display_data"
    }
   ],
   "source": [
    "# Distribuição da variável brand\n",
    "percentual_brand = df_laptops.value_counts('brand') / len(df_laptops) * 100\n",
    "px.bar(percentual_brand, color=percentual_brand.index)"
   ]
  },
  {
   "cell_type": "code",
   "execution_count": 11,
   "metadata": {},
   "outputs": [
    {
     "data": {
      "application/vnd.plotly.v1+json": {
       "config": {
        "plotlyServerURL": "https://plot.ly"
       },
       "data": [
        {
         "alignmentgroup": "True",
         "hovertemplate": "processor_brand=%{x}<br>value=%{y}<extra></extra>",
         "legendgroup": "intel",
         "marker": {
          "color": "#636efa",
          "pattern": {
           "shape": ""
          }
         },
         "name": "intel",
         "offsetgroup": "intel",
         "orientation": "v",
         "showlegend": true,
         "textposition": "auto",
         "type": "bar",
         "x": [
          "intel"
         ],
         "xaxis": "x",
         "y": [
          71.14026236125126
         ],
         "yaxis": "y"
        },
        {
         "alignmentgroup": "True",
         "hovertemplate": "processor_brand=%{x}<br>value=%{y}<extra></extra>",
         "legendgroup": "amd",
         "marker": {
          "color": "#EF553B",
          "pattern": {
           "shape": ""
          }
         },
         "name": "amd",
         "offsetgroup": "amd",
         "orientation": "v",
         "showlegend": true,
         "textposition": "auto",
         "type": "bar",
         "x": [
          "amd"
         ],
         "xaxis": "x",
         "y": [
          26.942482341069628
         ],
         "yaxis": "y"
        },
        {
         "alignmentgroup": "True",
         "hovertemplate": "processor_brand=%{x}<br>value=%{y}<extra></extra>",
         "legendgroup": "apple",
         "marker": {
          "color": "#00cc96",
          "pattern": {
           "shape": ""
          }
         },
         "name": "apple",
         "offsetgroup": "apple",
         "orientation": "v",
         "showlegend": true,
         "textposition": "auto",
         "type": "bar",
         "x": [
          "apple"
         ],
         "xaxis": "x",
         "y": [
          1.513622603430878
         ],
         "yaxis": "y"
        },
        {
         "alignmentgroup": "True",
         "hovertemplate": "processor_brand=%{x}<br>value=%{y}<extra></extra>",
         "legendgroup": "other",
         "marker": {
          "color": "#ab63fa",
          "pattern": {
           "shape": ""
          }
         },
         "name": "other",
         "offsetgroup": "other",
         "orientation": "v",
         "showlegend": true,
         "textposition": "auto",
         "type": "bar",
         "x": [
          "other"
         ],
         "xaxis": "x",
         "y": [
          0.4036326942482341
         ],
         "yaxis": "y"
        }
       ],
       "layout": {
        "barmode": "relative",
        "legend": {
         "title": {
          "text": "processor_brand"
         },
         "tracegroupgap": 0
        },
        "margin": {
         "t": 60
        },
        "template": {
         "data": {
          "bar": [
           {
            "error_x": {
             "color": "#2a3f5f"
            },
            "error_y": {
             "color": "#2a3f5f"
            },
            "marker": {
             "line": {
              "color": "#E5ECF6",
              "width": 0.5
             },
             "pattern": {
              "fillmode": "overlay",
              "size": 10,
              "solidity": 0.2
             }
            },
            "type": "bar"
           }
          ],
          "barpolar": [
           {
            "marker": {
             "line": {
              "color": "#E5ECF6",
              "width": 0.5
             },
             "pattern": {
              "fillmode": "overlay",
              "size": 10,
              "solidity": 0.2
             }
            },
            "type": "barpolar"
           }
          ],
          "carpet": [
           {
            "aaxis": {
             "endlinecolor": "#2a3f5f",
             "gridcolor": "white",
             "linecolor": "white",
             "minorgridcolor": "white",
             "startlinecolor": "#2a3f5f"
            },
            "baxis": {
             "endlinecolor": "#2a3f5f",
             "gridcolor": "white",
             "linecolor": "white",
             "minorgridcolor": "white",
             "startlinecolor": "#2a3f5f"
            },
            "type": "carpet"
           }
          ],
          "choropleth": [
           {
            "colorbar": {
             "outlinewidth": 0,
             "ticks": ""
            },
            "type": "choropleth"
           }
          ],
          "contour": [
           {
            "colorbar": {
             "outlinewidth": 0,
             "ticks": ""
            },
            "colorscale": [
             [
              0,
              "#0d0887"
             ],
             [
              0.1111111111111111,
              "#46039f"
             ],
             [
              0.2222222222222222,
              "#7201a8"
             ],
             [
              0.3333333333333333,
              "#9c179e"
             ],
             [
              0.4444444444444444,
              "#bd3786"
             ],
             [
              0.5555555555555556,
              "#d8576b"
             ],
             [
              0.6666666666666666,
              "#ed7953"
             ],
             [
              0.7777777777777778,
              "#fb9f3a"
             ],
             [
              0.8888888888888888,
              "#fdca26"
             ],
             [
              1,
              "#f0f921"
             ]
            ],
            "type": "contour"
           }
          ],
          "contourcarpet": [
           {
            "colorbar": {
             "outlinewidth": 0,
             "ticks": ""
            },
            "type": "contourcarpet"
           }
          ],
          "heatmap": [
           {
            "colorbar": {
             "outlinewidth": 0,
             "ticks": ""
            },
            "colorscale": [
             [
              0,
              "#0d0887"
             ],
             [
              0.1111111111111111,
              "#46039f"
             ],
             [
              0.2222222222222222,
              "#7201a8"
             ],
             [
              0.3333333333333333,
              "#9c179e"
             ],
             [
              0.4444444444444444,
              "#bd3786"
             ],
             [
              0.5555555555555556,
              "#d8576b"
             ],
             [
              0.6666666666666666,
              "#ed7953"
             ],
             [
              0.7777777777777778,
              "#fb9f3a"
             ],
             [
              0.8888888888888888,
              "#fdca26"
             ],
             [
              1,
              "#f0f921"
             ]
            ],
            "type": "heatmap"
           }
          ],
          "heatmapgl": [
           {
            "colorbar": {
             "outlinewidth": 0,
             "ticks": ""
            },
            "colorscale": [
             [
              0,
              "#0d0887"
             ],
             [
              0.1111111111111111,
              "#46039f"
             ],
             [
              0.2222222222222222,
              "#7201a8"
             ],
             [
              0.3333333333333333,
              "#9c179e"
             ],
             [
              0.4444444444444444,
              "#bd3786"
             ],
             [
              0.5555555555555556,
              "#d8576b"
             ],
             [
              0.6666666666666666,
              "#ed7953"
             ],
             [
              0.7777777777777778,
              "#fb9f3a"
             ],
             [
              0.8888888888888888,
              "#fdca26"
             ],
             [
              1,
              "#f0f921"
             ]
            ],
            "type": "heatmapgl"
           }
          ],
          "histogram": [
           {
            "marker": {
             "pattern": {
              "fillmode": "overlay",
              "size": 10,
              "solidity": 0.2
             }
            },
            "type": "histogram"
           }
          ],
          "histogram2d": [
           {
            "colorbar": {
             "outlinewidth": 0,
             "ticks": ""
            },
            "colorscale": [
             [
              0,
              "#0d0887"
             ],
             [
              0.1111111111111111,
              "#46039f"
             ],
             [
              0.2222222222222222,
              "#7201a8"
             ],
             [
              0.3333333333333333,
              "#9c179e"
             ],
             [
              0.4444444444444444,
              "#bd3786"
             ],
             [
              0.5555555555555556,
              "#d8576b"
             ],
             [
              0.6666666666666666,
              "#ed7953"
             ],
             [
              0.7777777777777778,
              "#fb9f3a"
             ],
             [
              0.8888888888888888,
              "#fdca26"
             ],
             [
              1,
              "#f0f921"
             ]
            ],
            "type": "histogram2d"
           }
          ],
          "histogram2dcontour": [
           {
            "colorbar": {
             "outlinewidth": 0,
             "ticks": ""
            },
            "colorscale": [
             [
              0,
              "#0d0887"
             ],
             [
              0.1111111111111111,
              "#46039f"
             ],
             [
              0.2222222222222222,
              "#7201a8"
             ],
             [
              0.3333333333333333,
              "#9c179e"
             ],
             [
              0.4444444444444444,
              "#bd3786"
             ],
             [
              0.5555555555555556,
              "#d8576b"
             ],
             [
              0.6666666666666666,
              "#ed7953"
             ],
             [
              0.7777777777777778,
              "#fb9f3a"
             ],
             [
              0.8888888888888888,
              "#fdca26"
             ],
             [
              1,
              "#f0f921"
             ]
            ],
            "type": "histogram2dcontour"
           }
          ],
          "mesh3d": [
           {
            "colorbar": {
             "outlinewidth": 0,
             "ticks": ""
            },
            "type": "mesh3d"
           }
          ],
          "parcoords": [
           {
            "line": {
             "colorbar": {
              "outlinewidth": 0,
              "ticks": ""
             }
            },
            "type": "parcoords"
           }
          ],
          "pie": [
           {
            "automargin": true,
            "type": "pie"
           }
          ],
          "scatter": [
           {
            "fillpattern": {
             "fillmode": "overlay",
             "size": 10,
             "solidity": 0.2
            },
            "type": "scatter"
           }
          ],
          "scatter3d": [
           {
            "line": {
             "colorbar": {
              "outlinewidth": 0,
              "ticks": ""
             }
            },
            "marker": {
             "colorbar": {
              "outlinewidth": 0,
              "ticks": ""
             }
            },
            "type": "scatter3d"
           }
          ],
          "scattercarpet": [
           {
            "marker": {
             "colorbar": {
              "outlinewidth": 0,
              "ticks": ""
             }
            },
            "type": "scattercarpet"
           }
          ],
          "scattergeo": [
           {
            "marker": {
             "colorbar": {
              "outlinewidth": 0,
              "ticks": ""
             }
            },
            "type": "scattergeo"
           }
          ],
          "scattergl": [
           {
            "marker": {
             "colorbar": {
              "outlinewidth": 0,
              "ticks": ""
             }
            },
            "type": "scattergl"
           }
          ],
          "scattermapbox": [
           {
            "marker": {
             "colorbar": {
              "outlinewidth": 0,
              "ticks": ""
             }
            },
            "type": "scattermapbox"
           }
          ],
          "scatterpolar": [
           {
            "marker": {
             "colorbar": {
              "outlinewidth": 0,
              "ticks": ""
             }
            },
            "type": "scatterpolar"
           }
          ],
          "scatterpolargl": [
           {
            "marker": {
             "colorbar": {
              "outlinewidth": 0,
              "ticks": ""
             }
            },
            "type": "scatterpolargl"
           }
          ],
          "scatterternary": [
           {
            "marker": {
             "colorbar": {
              "outlinewidth": 0,
              "ticks": ""
             }
            },
            "type": "scatterternary"
           }
          ],
          "surface": [
           {
            "colorbar": {
             "outlinewidth": 0,
             "ticks": ""
            },
            "colorscale": [
             [
              0,
              "#0d0887"
             ],
             [
              0.1111111111111111,
              "#46039f"
             ],
             [
              0.2222222222222222,
              "#7201a8"
             ],
             [
              0.3333333333333333,
              "#9c179e"
             ],
             [
              0.4444444444444444,
              "#bd3786"
             ],
             [
              0.5555555555555556,
              "#d8576b"
             ],
             [
              0.6666666666666666,
              "#ed7953"
             ],
             [
              0.7777777777777778,
              "#fb9f3a"
             ],
             [
              0.8888888888888888,
              "#fdca26"
             ],
             [
              1,
              "#f0f921"
             ]
            ],
            "type": "surface"
           }
          ],
          "table": [
           {
            "cells": {
             "fill": {
              "color": "#EBF0F8"
             },
             "line": {
              "color": "white"
             }
            },
            "header": {
             "fill": {
              "color": "#C8D4E3"
             },
             "line": {
              "color": "white"
             }
            },
            "type": "table"
           }
          ]
         },
         "layout": {
          "annotationdefaults": {
           "arrowcolor": "#2a3f5f",
           "arrowhead": 0,
           "arrowwidth": 1
          },
          "autotypenumbers": "strict",
          "coloraxis": {
           "colorbar": {
            "outlinewidth": 0,
            "ticks": ""
           }
          },
          "colorscale": {
           "diverging": [
            [
             0,
             "#8e0152"
            ],
            [
             0.1,
             "#c51b7d"
            ],
            [
             0.2,
             "#de77ae"
            ],
            [
             0.3,
             "#f1b6da"
            ],
            [
             0.4,
             "#fde0ef"
            ],
            [
             0.5,
             "#f7f7f7"
            ],
            [
             0.6,
             "#e6f5d0"
            ],
            [
             0.7,
             "#b8e186"
            ],
            [
             0.8,
             "#7fbc41"
            ],
            [
             0.9,
             "#4d9221"
            ],
            [
             1,
             "#276419"
            ]
           ],
           "sequential": [
            [
             0,
             "#0d0887"
            ],
            [
             0.1111111111111111,
             "#46039f"
            ],
            [
             0.2222222222222222,
             "#7201a8"
            ],
            [
             0.3333333333333333,
             "#9c179e"
            ],
            [
             0.4444444444444444,
             "#bd3786"
            ],
            [
             0.5555555555555556,
             "#d8576b"
            ],
            [
             0.6666666666666666,
             "#ed7953"
            ],
            [
             0.7777777777777778,
             "#fb9f3a"
            ],
            [
             0.8888888888888888,
             "#fdca26"
            ],
            [
             1,
             "#f0f921"
            ]
           ],
           "sequentialminus": [
            [
             0,
             "#0d0887"
            ],
            [
             0.1111111111111111,
             "#46039f"
            ],
            [
             0.2222222222222222,
             "#7201a8"
            ],
            [
             0.3333333333333333,
             "#9c179e"
            ],
            [
             0.4444444444444444,
             "#bd3786"
            ],
            [
             0.5555555555555556,
             "#d8576b"
            ],
            [
             0.6666666666666666,
             "#ed7953"
            ],
            [
             0.7777777777777778,
             "#fb9f3a"
            ],
            [
             0.8888888888888888,
             "#fdca26"
            ],
            [
             1,
             "#f0f921"
            ]
           ]
          },
          "colorway": [
           "#636efa",
           "#EF553B",
           "#00cc96",
           "#ab63fa",
           "#FFA15A",
           "#19d3f3",
           "#FF6692",
           "#B6E880",
           "#FF97FF",
           "#FECB52"
          ],
          "font": {
           "color": "#2a3f5f"
          },
          "geo": {
           "bgcolor": "white",
           "lakecolor": "white",
           "landcolor": "#E5ECF6",
           "showlakes": true,
           "showland": true,
           "subunitcolor": "white"
          },
          "hoverlabel": {
           "align": "left"
          },
          "hovermode": "closest",
          "mapbox": {
           "style": "light"
          },
          "paper_bgcolor": "white",
          "plot_bgcolor": "#E5ECF6",
          "polar": {
           "angularaxis": {
            "gridcolor": "white",
            "linecolor": "white",
            "ticks": ""
           },
           "bgcolor": "#E5ECF6",
           "radialaxis": {
            "gridcolor": "white",
            "linecolor": "white",
            "ticks": ""
           }
          },
          "scene": {
           "xaxis": {
            "backgroundcolor": "#E5ECF6",
            "gridcolor": "white",
            "gridwidth": 2,
            "linecolor": "white",
            "showbackground": true,
            "ticks": "",
            "zerolinecolor": "white"
           },
           "yaxis": {
            "backgroundcolor": "#E5ECF6",
            "gridcolor": "white",
            "gridwidth": 2,
            "linecolor": "white",
            "showbackground": true,
            "ticks": "",
            "zerolinecolor": "white"
           },
           "zaxis": {
            "backgroundcolor": "#E5ECF6",
            "gridcolor": "white",
            "gridwidth": 2,
            "linecolor": "white",
            "showbackground": true,
            "ticks": "",
            "zerolinecolor": "white"
           }
          },
          "shapedefaults": {
           "line": {
            "color": "#2a3f5f"
           }
          },
          "ternary": {
           "aaxis": {
            "gridcolor": "white",
            "linecolor": "white",
            "ticks": ""
           },
           "baxis": {
            "gridcolor": "white",
            "linecolor": "white",
            "ticks": ""
           },
           "bgcolor": "#E5ECF6",
           "caxis": {
            "gridcolor": "white",
            "linecolor": "white",
            "ticks": ""
           }
          },
          "title": {
           "x": 0.05
          },
          "xaxis": {
           "automargin": true,
           "gridcolor": "white",
           "linecolor": "white",
           "ticks": "",
           "title": {
            "standoff": 15
           },
           "zerolinecolor": "white",
           "zerolinewidth": 2
          },
          "yaxis": {
           "automargin": true,
           "gridcolor": "white",
           "linecolor": "white",
           "ticks": "",
           "title": {
            "standoff": 15
           },
           "zerolinecolor": "white",
           "zerolinewidth": 2
          }
         }
        },
        "xaxis": {
         "anchor": "y",
         "categoryarray": [
          "intel",
          "amd",
          "apple",
          "other"
         ],
         "categoryorder": "array",
         "domain": [
          0,
          1
         ],
         "title": {
          "text": "processor_brand"
         }
        },
        "yaxis": {
         "anchor": "x",
         "domain": [
          0,
          1
         ],
         "title": {
          "text": "value"
         }
        }
       }
      }
     },
     "metadata": {},
     "output_type": "display_data"
    }
   ],
   "source": [
    "# Distribuição da variável processor_brand\n",
    "percentual_processor_brand = df_laptops.value_counts('processor_brand') / len(df_laptops) * 100\n",
    "px.bar(percentual_processor_brand, color=percentual_processor_brand.index)"
   ]
  },
  {
   "cell_type": "code",
   "execution_count": 12,
   "metadata": {},
   "outputs": [
    {
     "data": {
      "text/plain": [
       "<Axes: xlabel='price', ylabel='Count'>"
      ]
     },
     "execution_count": 12,
     "metadata": {},
     "output_type": "execute_result"
    },
    {
     "data": {
      "image/png": "[encoded data removed]",
      "text/plain": [
       "<Figure size 640x480 with 1 Axes>"
      ]
     },
     "metadata": {},
     "output_type": "display_data"
    }
   ],
   "source": [
    "# Distribuição da variável price\n",
    "sns.histplot(df_laptops['price'], kde=True, color='lightblue')"
   ]
  },
  {
   "cell_type": "code",
   "execution_count": 13,
   "metadata": {},
   "outputs": [
    {
     "data": {
      "text/plain": [
       "<Axes: xlabel='rating', ylabel='Count'>"
      ]
     },
     "execution_count": 13,
     "metadata": {},
     "output_type": "execute_result"
    },
    {
     "data": {
      "image/png": "[encoded data removed]",
      "text/plain": [
       "<Figure size 640x480 with 1 Axes>"
      ]
     },
     "metadata": {},
     "output_type": "display_data"
    }
   ],
   "source": [
    "# Distribuição da variável rating\n",
    "sns.histplot(df_laptops['rating'], kde=True, color='red')"
   ]
  },
  {
   "cell_type": "code",
   "execution_count": 14,
   "metadata": {},
   "outputs": [
    {
     "data": {
      "application/vnd.plotly.v1+json": {
       "config": {
        "plotlyServerURL": "https://plot.ly"
       },
       "data": [
        {
         "alignmentgroup": "True",
         "hovertemplate": "brand=%{y}<br>price=%{x}<extra></extra>",
         "legendgroup": "tecno",
         "marker": {
          "color": "#636efa"
         },
         "name": "tecno",
         "notched": false,
         "offsetgroup": "tecno",
         "orientation": "h",
         "showlegend": true,
         "type": "box",
         "x": [
          287.72,
          431.64
         ],
         "x0": " ",
         "xaxis": "x",
         "y": [
          "tecno",
          "tecno"
         ],
         "y0": " ",
         "yaxis": "y"
        },
        {
         "alignmentgroup": "True",
         "hovertemplate": "brand=%{y}<br>price=%{x}<extra></extra>",
         "legendgroup": "hp",
         "marker": {
          "color": "#EF553B"
         },
         "name": "hp",
         "notched": false,
         "offsetgroup": "hp",
         "orientation": "h",
         "showlegend": true,
         "type": "box",
         "x": [
          612.86,
          443.64,
          1846.86,
          665.51,
          231.46,
          947.36,
          863.51,
          647.52,
          1065.01,
          642.49,
          1403.11,
          849.25,
          1002.53,
          653.52,
          509.71,
          1774.9,
          839.53,
          863.4,
          934.27,
          695.5,
          599.66,
          731.48,
          803.44,
          623.54,
          671.51,
          621.26,
          596.97,
          524.11,
          418.45,
          389.67,
          520.51,
          372.87,
          485.72,
          2426.74,
          1989.7,
          731.48,
          611.65,
          1989.7,
          476.14,
          824.07,
          731.48,
          287.83,
          383.78,
          1112.99,
          875.51,
          1044.5,
          419.65,
          773.57,
          2116.82,
          1139.25,
          671.51,
          875.76,
          599.55,
          629.53,
          482.01,
          743.47,
          1073.29,
          419.65,
          611.54,
          563.57,
          851.41,
          623.54,
          695.5,
          581.08,
          959.35,
          767.46,
          231.46,
          718.06,
          683.61,
          487.04,
          767.46,
          299.71,
          500.72,
          1084.97,
          953.08,
          689.62,
          654.83,
          622.47,
          807.01,
          1862.56,
          1342.58,
          918.68,
          491.61,
          1192.98,
          1355.13,
          1091.39,
          430.56,
          4107.74,
          637.93,
          1110.47,
          3112.27,
          3514.05,
          1990.89,
          2020.89,
          467.62,
          347.69,
          1079.39,
          899.49,
          1367.23,
          623.54,
          1087.67,
          480.93,
          910.18,
          335.7,
          731.58,
          533.59,
          2194.67,
          696.46,
          383.67,
          1834.87,
          898.9,
          1432.01,
          1199.33,
          2870.01,
          1590.31,
          611.65,
          1259.74,
          1220.93,
          677.51,
          936.68,
          441.24,
          1762.91,
          1475.31,
          1678.95,
          275.73,
          524.53,
          520.51,
          311.71,
          1520.76,
          1598.35,
          395.66,
          1444.59,
          2759.2,
          611.54,
          287.83,
          1175.34,
          1158.44,
          1055.3,
          1039.71,
          1051.7,
          946.16,
          1007.32,
          467.62,
          611.54,
          1292.44,
          935.71,
          1387.71,
          1319.15,
          539.58,
          575.56,
          635.53,
          1391.11,
          539.58,
          644.03,
          467.62,
          1574.92,
          780.77,
          701.6,
          344.81,
          338.29,
          887.39,
          550.48,
          821.42,
          759.35,
          467.62,
          779.45,
          353.69,
          743.47,
          905.9,
          1104.23,
          839.42,
          808.35,
          779.45,
          395.66,
          737.47,
          1415.22,
          954.55,
          635.53,
          480.93,
          557.57,
          571.49,
          563.57,
          725.48,
          599.55,
          786.65,
          851.53,
          1319.15,
          630.73,
          773.57,
          623.54,
          407.64,
          1439.09,
          1724.94,
          449.63,
          1749.82,
          1661.22,
          517.99,
          695.5,
          394.46,
          474.35,
          251.74,
          323.81,
          371.78,
          1858.96,
          251.74
         ],
         "x0": " ",
         "xaxis": "x",
         "y": [
          "hp",
          "hp",
          "hp",
          "hp",
          "hp",
          "hp",
          "hp",
          "hp",
          "hp",
          "hp",
          "hp",
          "hp",
          "hp",
          "hp",
          "hp",
          "hp",
          "hp",
          "hp",
          "hp",
          "hp",
          "hp",
          "hp",
          "hp",
          "hp",
          "hp",
          "hp",
          "hp",
          "hp",
          "hp",
          "hp",
          "hp",
          "hp",
          "hp",
          "hp",
          "hp",
          "hp",
          "hp",
          "hp",
          "hp",
          "hp",
          "hp",
          "hp",
          "hp",
          "hp",
          "hp",
          "hp",
          "hp",
          "hp",
          "hp",
          "hp",
          "hp",
          "hp",
          "hp",
          "hp",
          "hp",
          "hp",
          "hp",
          "hp",
          "hp",
          "hp",
          "hp",
          "hp",
          "hp",
          "hp",
          "hp",
          "hp",
          "hp",
          "hp",
          "hp",
          "hp",
          "hp",
          "hp",
          "hp",
          "hp",
          "hp",
          "hp",
          "hp",
          "hp",
          "hp",
          "hp",
          "hp",
          "hp",
          "hp",
          "hp",
          "hp",
          "hp",
          "hp",
          "hp",
          "hp",
          "hp",
          "hp",
          "hp",
          "hp",
          "hp",
          "hp",
          "hp",
          "hp",
          "hp",
          "hp",
          "hp",
          "hp",
          "hp",
          "hp",
          "hp",
          "hp",
          "hp",
          "hp",
          "hp",
          "hp",
          "hp",
          "hp",
          "hp",
          "hp",
          "hp",
          "hp",
          "hp",
          "hp",
          "hp",
          "hp",
          "hp",
          "hp",
          "hp",
          "hp",
          "hp",
          "hp",
          "hp",
          "hp",
          "hp",
          "hp",
          "hp",
          "hp",
          "hp",
          "hp",
          "hp",
          "hp",
          "hp",
          "hp",
          "hp",
          "hp",
          "hp",
          "hp",
          "hp",
          "hp",
          "hp",
          "hp",
          "hp",
          "hp",
          "hp",
          "hp",
          "hp",
          "hp",
          "hp",
          "hp",
          "hp",
          "hp",
          "hp",
          "hp",
          "hp",
          "hp",
          "hp",
          "hp",
          "hp",
          "hp",
          "hp",
          "hp",
          "hp",
          "hp",
          "hp",
          "hp",
          "hp",
          "hp",
          "hp",
          "hp",
          "hp",
          "hp",
          "hp",
          "hp",
          "hp",
          "hp",
          "hp",
          "hp",
          "hp",
          "hp",
          "hp",
          "hp",
          "hp",
          "hp",
          "hp",
          "hp",
          "hp",
          "hp",
          "hp",
          "hp",
          "hp",
          "hp",
          "hp",
          "hp",
          "hp",
          "hp",
          "hp",
          "hp",
          "hp",
          "hp",
          "hp",
          "hp"
         ],
         "y0": " ",
         "yaxis": "y"
        },
        {
         "alignmentgroup": "True",
         "hovertemplate": "brand=%{y}<br>price=%{x}<extra></extra>",
         "legendgroup": "acer",
         "marker": {
          "color": "#00cc96"
         },
         "name": "acer",
         "notched": false,
         "offsetgroup": "acer",
         "orientation": "h",
         "showlegend": true,
         "type": "box",
         "x": [
          479.62,
          935.36,
          563.57,
          419.65,
          395.66,
          683.5,
          455.63,
          473.73,
          1139.25,
          575.56,
          1439.09,
          1259.19,
          371.68,
          467.62,
          395.66,
          875.4,
          2158.69,
          383.67,
          359.68,
          731.48,
          683.5,
          1439.09,
          335.7,
          563.57,
          359.68,
          557.69,
          599.55,
          539.69,
          515.7,
          563.57,
          557.57,
          683.5,
          477.34,
          287.72,
          767.57,
          791.44,
          599.55,
          739.99,
          305.71,
          479.62,
          419.65,
          515.6,
          683.5,
          635.53,
          443.64,
          503.6,
          497.61,
          1918.82,
          809.54,
          431.64,
          1559.02,
          905.49,
          503.6,
          863.4,
          369.28,
          359.56,
          353.69,
          515.6,
          491.61,
          659.52,
          394.46,
          347.8,
          479.62,
          599.55,
          698.84,
          677.51,
          670.43,
          1719.85,
          707.49,
          1715.04,
          479.62,
          441.36,
          1259.29,
          1379.12,
          539.63,
          1067.29,
          827.42,
          2399.76,
          934.17,
          551.58,
          395.66,
          384.87,
          2218.77,
          2998.23,
          335.7,
          917.48,
          359.68,
          827.53,
          905.5
         ],
         "x0": " ",
         "xaxis": "x",
         "y": [
          "acer",
          "acer",
          "acer",
          "acer",
          "acer",
          "acer",
          "acer",
          "acer",
          "acer",
          "acer",
          "acer",
          "acer",
          "acer",
          "acer",
          "acer",
          "acer",
          "acer",
          "acer",
          "acer",
          "acer",
          "acer",
          "acer",
          "acer",
          "acer",
          "acer",
          "acer",
          "acer",
          "acer",
          "acer",
          "acer",
          "acer",
          "acer",
          "acer",
          "acer",
          "acer",
          "acer",
          "acer",
          "acer",
          "acer",
          "acer",
          "acer",
          "acer",
          "acer",
          "acer",
          "acer",
          "acer",
          "acer",
          "acer",
          "acer",
          "acer",
          "acer",
          "acer",
          "acer",
          "acer",
          "acer",
          "acer",
          "acer",
          "acer",
          "acer",
          "acer",
          "acer",
          "acer",
          "acer",
          "acer",
          "acer",
          "acer",
          "acer",
          "acer",
          "acer",
          "acer",
          "acer",
          "acer",
          "acer",
          "acer",
          "acer",
          "acer",
          "acer",
          "acer",
          "acer",
          "acer",
          "acer",
          "acer",
          "acer",
          "acer",
          "acer",
          "acer",
          "acer",
          "acer",
          "acer"
         ],
         "y0": " ",
         "yaxis": "y"
        },
        {
         "alignmentgroup": "True",
         "hovertemplate": "brand=%{y}<br>price=%{x}<extra></extra>",
         "legendgroup": "lenovo",
         "marker": {
          "color": "#ab63fa"
         },
         "name": "lenovo",
         "notched": false,
         "offsetgroup": "lenovo",
         "orientation": "h",
         "showlegend": true,
         "type": "box",
         "x": [
          342.77,
          569.57,
          599.55,
          335.7,
          575.56,
          683.5,
          539.58,
          419.65,
          293.12,
          587.56,
          766.25,
          444.24,
          1139.25,
          959.35,
          491.61,
          491.61,
          547.51,
          431.64,
          539.58,
          1834.87,
          1585.41,
          740.14,
          309.31,
          587.56,
          846.61,
          803.44,
          1379.12,
          1199.22,
          395.54,
          263.73,
          400.58,
          1199.22,
          779.45,
          299.71,
          1799.01,
          683.5,
          659.52,
          755.57,
          437.64,
          551.58,
          563.57,
          755.46,
          887.39,
          743.47,
          898.3,
          383.67,
          2626.43,
          1477.47,
          827.42,
          1294.22,
          622.39,
          563.57,
          4306.77,
          661.92,
          743.47,
          593.66,
          443.64,
          414.85,
          389.67,
          668.03,
          841.82,
          1105.67,
          623.54,
          1019.32,
          961.75,
          1309.56,
          649.92,
          649.92,
          937.76,
          479.62,
          1117.66,
          1969.19,
          3585.9,
          1669.36,
          841.82,
          1240.06,
          479.62,
          1079.41,
          419.65,
          395.66,
          599.55,
          479.62,
          764.12,
          599.55,
          395.66,
          362.08,
          359.68,
          563.57,
          659.52,
          509.71,
          815.43,
          439.56,
          587.56,
          599.55,
          1043.31,
          791.44,
          2230.65,
          1547.03,
          1367.13,
          623.54,
          839.42,
          575.56,
          1201.62,
          1648.97,
          647.52,
          443.76,
          1057.7,
          755.46,
          796.23,
          863.4,
          741.9,
          443.64,
          745.87,
          707.49,
          721.88,
          769.86,
          503.6,
          539.58,
          545.58,
          569.57,
          705.81,
          767.46,
          841.82,
          440.04,
          805.84,
          563.57,
          1009.72,
          1043.31,
          935.36,
          449.75,
          707.49,
          527.59,
          833.47,
          1175.23,
          1097.28,
          1061.74,
          1199.22,
          1319.15,
          2700.79,
          1078.07,
          899.38,
          779.45,
          486.81,
          791.44,
          290.12,
          635.53,
          755.46,
          394.57,
          299.71,
          635.53,
          831.68,
          539.58,
          875.4,
          680.03,
          791.44,
          647.52,
          688.3,
          599.55,
          725.48,
          425.65,
          863.4,
          545.7,
          599.66,
          793.95,
          401.66,
          803.56,
          1499.17,
          905.49,
          491.61,
          563.57,
          457.8,
          335.7,
          886.31,
          419.65,
          419.65,
          562.49,
          359.68,
          557.57,
          624.87,
          898.17,
          377.67,
          634.45,
          633.18,
          757.86,
          971.46,
          1478.44,
          266.72,
          263.73,
          263.73,
          551.58,
          401.66,
          430.44,
          437.64,
          551.58,
          791.55,
          407.66,
          1754.29,
          521.71,
          371.68,
          386.19,
          719.48
         ],
         "x0": " ",
         "xaxis": "x",
         "y": [
          "lenovo",
          "lenovo",
          "lenovo",
          "lenovo",
          "lenovo",
          "lenovo",
          "lenovo",
          "lenovo",
          "lenovo",
          "lenovo",
          "lenovo",
          "lenovo",
          "lenovo",
          "lenovo",
          "lenovo",
          "lenovo",
          "lenovo",
          "lenovo",
          "lenovo",
          "lenovo",
          "lenovo",
          "lenovo",
          "lenovo",
          "lenovo",
          "lenovo",
          "lenovo",
          "lenovo",
          "lenovo",
          "lenovo",
          "lenovo",
          "lenovo",
          "lenovo",
          "lenovo",
          "lenovo",
          "lenovo",
          "lenovo",
          "lenovo",
          "lenovo",
          "lenovo",
          "lenovo",
          "lenovo",
          "lenovo",
          "lenovo",
          "lenovo",
          "lenovo",
          "lenovo",
          "lenovo",
          "lenovo",
          "lenovo",
          "lenovo",
          "lenovo",
          "lenovo",
          "lenovo",
          "lenovo",
          "lenovo",
          "lenovo",
          "lenovo",
          "lenovo",
          "lenovo",
          "lenovo",
          "lenovo",
          "lenovo",
          "lenovo",
          "lenovo",
          "lenovo",
          "lenovo",
          "lenovo",
          "lenovo",
          "lenovo",
          "lenovo",
          "lenovo",
          "lenovo",
          "lenovo",
          "lenovo",
          "lenovo",
          "lenovo",
          "lenovo",
          "lenovo",
          "lenovo",
          "lenovo",
          "lenovo",
          "lenovo",
          "lenovo",
          "lenovo",
          "lenovo",
          "lenovo",
          "lenovo",
          "lenovo",
          "lenovo",
          "lenovo",
          "lenovo",
          "lenovo",
          "lenovo",
          "lenovo",
          "lenovo",
          "lenovo",
          "lenovo",
          "lenovo",
          "lenovo",
          "lenovo",
          "lenovo",
          "lenovo",
          "lenovo",
          "lenovo",
          "lenovo",
          "lenovo",
          "lenovo",
          "lenovo",
          "lenovo",
          "lenovo",
          "lenovo",
          "lenovo",
          "lenovo",
          "lenovo",
          "lenovo",
          "lenovo",
          "lenovo",
          "lenovo",
          "lenovo",
          "lenovo",
          "lenovo",
          "lenovo",
          "lenovo",
          "lenovo",
          "lenovo",
          "lenovo",
          "lenovo",
          "lenovo",
          "lenovo",
          "lenovo",
          "lenovo",
          "lenovo",
          "lenovo",
          "lenovo",
          "lenovo",
          "lenovo",
          "lenovo",
          "lenovo",
          "lenovo",
          "lenovo",
          "lenovo",
          "lenovo",
          "lenovo",
          "lenovo",
          "lenovo",
          "lenovo",
          "lenovo",
          "lenovo",
          "lenovo",
          "lenovo",
          "lenovo",
          "lenovo",
          "lenovo",
          "lenovo",
          "lenovo",
          "lenovo",
          "lenovo",
          "lenovo",
          "lenovo",
          "lenovo",
          "lenovo",
          "lenovo",
          "lenovo",
          "lenovo",
          "lenovo",
          "lenovo",
          "lenovo",
          "lenovo",
          "lenovo",
          "lenovo",
          "lenovo",
          "lenovo",
          "lenovo",
          "lenovo",
          "lenovo",
          "lenovo",
          "lenovo",
          "lenovo",
          "lenovo",
          "lenovo",
          "lenovo",
          "lenovo",
          "lenovo",
          "lenovo",
          "lenovo",
          "lenovo",
          "lenovo",
          "lenovo",
          "lenovo",
          "lenovo",
          "lenovo",
          "lenovo",
          "lenovo",
          "lenovo",
          "lenovo",
          "lenovo",
          "lenovo",
          "lenovo",
          "lenovo",
          "lenovo",
          "lenovo"
         ],
         "y0": " ",
         "yaxis": "y"
        },
        {
         "alignmentgroup": "True",
         "hovertemplate": "brand=%{y}<br>price=%{x}<extra></extra>",
         "legendgroup": "apple",
         "marker": {
          "color": "#FFA15A"
         },
         "name": "apple",
         "notched": false,
         "offsetgroup": "apple",
         "orientation": "h",
         "showlegend": true,
         "type": "box",
         "x": [
          851.41,
          4796.16,
          1235.2,
          1439.09,
          1319.15,
          3476.88,
          4196.49,
          2997.15,
          2397.48,
          1738.92,
          1595,
          1642.97,
          2277.54,
          2877.21,
          2037.68
         ],
         "x0": " ",
         "xaxis": "x",
         "y": [
          "apple",
          "apple",
          "apple",
          "apple",
          "apple",
          "apple",
          "apple",
          "apple",
          "apple",
          "apple",
          "apple",
          "apple",
          "apple",
          "apple",
          "apple"
         ],
         "y0": " ",
         "yaxis": "y"
        },
        {
         "alignmentgroup": "True",
         "hovertemplate": "brand=%{y}<br>price=%{x}<extra></extra>",
         "legendgroup": "infinix",
         "marker": {
          "color": "#19d3f3"
         },
         "name": "infinix",
         "notched": false,
         "offsetgroup": "infinix",
         "orientation": "h",
         "showlegend": true,
         "type": "box",
         "x": [
          419.65,
          719.48,
          359.68,
          335.7,
          323.7,
          431.64,
          695.5,
          467.62,
          587.56,
          311.71,
          299.71,
          539.58,
          467.62
         ],
         "x0": " ",
         "xaxis": "x",
         "y": [
          "infinix",
          "infinix",
          "infinix",
          "infinix",
          "infinix",
          "infinix",
          "infinix",
          "infinix",
          "infinix",
          "infinix",
          "infinix",
          "infinix",
          "infinix"
         ],
         "y0": " ",
         "yaxis": "y"
        },
        {
         "alignmentgroup": "True",
         "hovertemplate": "brand=%{y}<br>price=%{x}<extra></extra>",
         "legendgroup": "asus",
         "marker": {
          "color": "#FF6692"
         },
         "name": "asus",
         "notched": false,
         "offsetgroup": "asus",
         "orientation": "h",
         "showlegend": true,
         "type": "box",
         "x": [
          599.55,
          688.3,
          911.38,
          479.62,
          335.7,
          563.57,
          767.46,
          1362.1,
          3238.1,
          888.53,
          731.48,
          431.64,
          1307.16,
          695.5,
          869.4,
          835.81,
          563.57,
          647.52,
          979.73,
          1139.25,
          875.4,
          647.52,
          1031.31,
          815.43,
          902.5,
          803.44,
          1858.86,
          1156.03,
          527.59,
          635.53,
          401.66,
          875.4,
          575.56,
          1103.27,
          1019.32,
          215.76,
          875.4,
          899.38,
          1259.19,
          1080.12,
          1029.03,
          695.5,
          731.48,
          719.48,
          383.67,
          677.63,
          683.5,
          1439.09,
          2158.69,
          2278.62,
          1457.07,
          573.64,
          1079.29,
          667.9,
          839.42,
          947.36,
          1268.17,
          515.6,
          647.52,
          582.63,
          851.41,
          370.48,
          750.79,
          1738.92,
          393.68,
          362.19,
          1037.43,
          570.29,
          779.45,
          1188.68,
          335.7,
          959.11,
          1031.31,
          179.78,
          800.18,
          647.52,
          251.74,
          1039.7,
          832.79,
          887.39,
          1199.22,
          1033.7,
          338.09,
          881.07,
          539.58,
          724.15,
          887.39,
          839.42,
          1187.23,
          1091.28,
          1379.12,
          203.77,
          308.84,
          227.75,
          535.37,
          275.74,
          1180.97,
          911.38,
          911.38,
          1131.8,
          490.84,
          858.73,
          407.66,
          695.5,
          719.48,
          1079.29,
          450.81,
          443.64,
          1139.25,
          839.42,
          875.4,
          393.26,
          719.48,
          311.71,
          472.42,
          779.45,
          1067.41,
          839.54,
          1702.93,
          918.69,
          1559.02,
          767.46,
          887.39,
          1199.22,
          743.47,
          671.51,
          1002.64,
          1678.95,
          707.49,
          575.44,
          839.42,
          779.45,
          1142.97,
          420.76,
          335.7,
          593.55,
          587.56,
          923.37,
          479.62,
          1256.3,
          1521.84,
          2398.56,
          1583.01,
          1605.8,
          1858.86,
          1731.92,
          1139.25,
          3130.16,
          1798.89,
          1618.99,
          724.15,
          2517.29,
          1858.86,
          839.42,
          1018.84,
          1360.06,
          1271.18,
          1336.53,
          918.92,
          1127.37,
          1937.09,
          2398.56,
          431.64,
          370.92,
          555.15,
          1499.05,
          707.49,
          383.67,
          1583.13,
          1391.11,
          1079.29,
          1094.28,
          755.46,
          862.78,
          477.22,
          467.5,
          671.51,
          851.41,
          749.59,
          825.15,
          1031.31,
          551.58,
          719.48,
          1259.19,
          820.23,
          1175.23,
          1115.27,
          779.45,
          899.38,
          527.59,
          767.46,
          470.64,
          1559.02,
          707.49,
          953.47,
          609.08,
          742.39,
          2998.23,
          539.34,
          547.98,
          386.07,
          827.42,
          3358.03,
          659.52,
          935.36,
          803.44,
          719.48,
          791.44,
          539.58,
          815.43
         ],
         "x0": " ",
         "xaxis": "x",
         "y": [
          "asus",
          "asus",
          "asus",
          "asus",
          "asus",
          "asus",
          "asus",
          "asus",
          "asus",
          "asus",
          "asus",
          "asus",
          "asus",
          "asus",
          "asus",
          "asus",
          "asus",
          "asus",
          "asus",
          "asus",
          "asus",
          "asus",
          "asus",
          "asus",
          "asus",
          "asus",
          "asus",
          "asus",
          "asus",
          "asus",
          "asus",
          "asus",
          "asus",
          "asus",
          "asus",
          "asus",
          "asus",
          "asus",
          "asus",
          "asus",
          "asus",
          "asus",
          "asus",
          "asus",
          "asus",
          "asus",
          "asus",
          "asus",
          "asus",
          "asus",
          "asus",
          "asus",
          "asus",
          "asus",
          "asus",
          "asus",
          "asus",
          "asus",
          "asus",
          "asus",
          "asus",
          "asus",
          "asus",
          "asus",
          "asus",
          "asus",
          "asus",
          "asus",
          "asus",
          "asus",
          "asus",
          "asus",
          "asus",
          "asus",
          "asus",
          "asus",
          "asus",
          "asus",
          "asus",
          "asus",
          "asus",
          "asus",
          "asus",
          "asus",
          "asus",
          "asus",
          "asus",
          "asus",
          "asus",
          "asus",
          "asus",
          "asus",
          "asus",
          "asus",
          "asus",
          "asus",
          "asus",
          "asus",
          "asus",
          "asus",
          "asus",
          "asus",
          "asus",
          "asus",
          "asus",
          "asus",
          "asus",
          "asus",
          "asus",
          "asus",
          "asus",
          "asus",
          "asus",
          "asus",
          "asus",
          "asus",
          "asus",
          "asus",
          "asus",
          "asus",
          "asus",
          "asus",
          "asus",
          "asus",
          "asus",
          "asus",
          "asus",
          "asus",
          "asus",
          "asus",
          "asus",
          "asus",
          "asus",
          "asus",
          "asus",
          "asus",
          "asus",
          "asus",
          "asus",
          "asus",
          "asus",
          "asus",
          "asus",
          "asus",
          "asus",
          "asus",
          "asus",
          "asus",
          "asus",
          "asus",
          "asus",
          "asus",
          "asus",
          "asus",
          "asus",
          "asus",
          "asus",
          "asus",
          "asus",
          "asus",
          "asus",
          "asus",
          "asus",
          "asus",
          "asus",
          "asus",
          "asus",
          "asus",
          "asus",
          "asus",
          "asus",
          "asus",
          "asus",
          "asus",
          "asus",
          "asus",
          "asus",
          "asus",
          "asus",
          "asus",
          "asus",
          "asus",
          "asus",
          "asus",
          "asus",
          "asus",
          "asus",
          "asus",
          "asus",
          "asus",
          "asus",
          "asus",
          "asus",
          "asus",
          "asus",
          "asus",
          "asus",
          "asus",
          "asus",
          "asus",
          "asus",
          "asus",
          "asus",
          "asus",
          "asus",
          "asus",
          "asus",
          "asus",
          "asus",
          "asus"
         ],
         "y0": " ",
         "yaxis": "y"
        },
        {
         "alignmentgroup": "True",
         "hovertemplate": "brand=%{y}<br>price=%{x}<extra></extra>",
         "legendgroup": "dell",
         "marker": {
          "color": "#B6E880"
         },
         "name": "dell",
         "notched": false,
         "offsetgroup": "dell",
         "orientation": "h",
         "showlegend": true,
         "type": "box",
         "x": [
          419.65,
          818.42,
          974.94,
          475.53,
          1037.31,
          869.4,
          599.67,
          1007.32,
          827.42,
          1780.9,
          455.63,
          791.44,
          929.37,
          470.62,
          687.22,
          611.54,
          839.53,
          626.04,
          1055.3,
          2500.5,
          440.53,
          718.28,
          419.65,
          1823,
          1067.29,
          1265.18,
          617.5,
          683.5,
          743.47,
          815.89,
          675.71,
          682.18,
          683.5,
          611.54,
          467.62,
          791.44,
          1193.1,
          719.48,
          449.63,
          1031.31,
          2677.82,
          550.14,
          459.93,
          1187.23,
          395.66,
          1049.3,
          575.56,
          929.37,
          496.92,
          1046.9,
          725.48,
          447.13,
          1013.32,
          3088.18,
          1151.25,
          730.4,
          5450.88,
          814.23,
          3885.74,
          2266.63,
          5408.9,
          3597.9,
          785.57,
          887.39,
          471.22,
          719.48,
          501.42,
          1055.3,
          1085.28,
          491.61,
          523.99,
          671.51,
          575.56,
          955.75,
          3352.03,
          2422.55,
          490.41,
          2464.52,
          1138.17,
          743.47,
          1894.84,
          1996.78,
          1193.22,
          959.71,
          515.6,
          1067.17,
          863.4,
          887.39,
          743.47,
          1790.49,
          515.72,
          2254.64,
          1319.15,
          1559.02,
          976.29,
          2704.39,
          2650.42,
          4659.31,
          4419.44,
          575.56,
          623.54,
          461.63,
          539.58,
          670.43,
          1434.41,
          1055.3
         ],
         "x0": " ",
         "xaxis": "x",
         "y": [
          "dell",
          "dell",
          "dell",
          "dell",
          "dell",
          "dell",
          "dell",
          "dell",
          "dell",
          "dell",
          "dell",
          "dell",
          "dell",
          "dell",
          "dell",
          "dell",
          "dell",
          "dell",
          "dell",
          "dell",
          "dell",
          "dell",
          "dell",
          "dell",
          "dell",
          "dell",
          "dell",
          "dell",
          "dell",
          "dell",
          "dell",
          "dell",
          "dell",
          "dell",
          "dell",
          "dell",
          "dell",
          "dell",
          "dell",
          "dell",
          "dell",
          "dell",
          "dell",
          "dell",
          "dell",
          "dell",
          "dell",
          "dell",
          "dell",
          "dell",
          "dell",
          "dell",
          "dell",
          "dell",
          "dell",
          "dell",
          "dell",
          "dell",
          "dell",
          "dell",
          "dell",
          "dell",
          "dell",
          "dell",
          "dell",
          "dell",
          "dell",
          "dell",
          "dell",
          "dell",
          "dell",
          "dell",
          "dell",
          "dell",
          "dell",
          "dell",
          "dell",
          "dell",
          "dell",
          "dell",
          "dell",
          "dell",
          "dell",
          "dell",
          "dell",
          "dell",
          "dell",
          "dell",
          "dell",
          "dell",
          "dell",
          "dell",
          "dell",
          "dell",
          "dell",
          "dell",
          "dell",
          "dell",
          "dell",
          "dell",
          "dell",
          "dell",
          "dell",
          "dell",
          "dell",
          "dell"
         ],
         "y0": " ",
         "yaxis": "y"
        },
        {
         "alignmentgroup": "True",
         "hovertemplate": "brand=%{y}<br>price=%{x}<extra></extra>",
         "legendgroup": "samsung",
         "marker": {
          "color": "#FF97FF"
         },
         "name": "samsung",
         "notched": false,
         "offsetgroup": "samsung",
         "orientation": "h",
         "showlegend": true,
         "type": "box",
         "x": [
          779.45,
          539.58,
          575.56,
          839.42,
          911.38,
          659.52,
          1403.11
         ],
         "x0": " ",
         "xaxis": "x",
         "y": [
          "samsung",
          "samsung",
          "samsung",
          "samsung",
          "samsung",
          "samsung",
          "samsung"
         ],
         "y0": " ",
         "yaxis": "y"
        },
        {
         "alignmentgroup": "True",
         "hovertemplate": "brand=%{y}<br>price=%{x}<extra></extra>",
         "legendgroup": "msi",
         "marker": {
          "color": "#FECB52"
         },
         "name": "msi",
         "notched": false,
         "offsetgroup": "msi",
         "orientation": "h",
         "showlegend": true,
         "type": "box",
         "x": [
          635.53,
          800.92,
          431.16,
          839.42,
          659.52,
          899.38,
          599.55,
          503.6,
          659.52,
          743.47,
          635.53,
          755.46,
          479.62,
          647.52,
          683.5,
          443.64,
          815.43,
          785.45,
          527.59,
          1271.18,
          1007.32,
          795.76,
          2398.56,
          5396.91,
          959.35,
          2357.66,
          755.46,
          1139.25,
          1163.24,
          1259.19,
          1798.89,
          1798.89,
          1379.12,
          671.51,
          707.49,
          671.51,
          2398.56,
          1439.09,
          3597.9,
          983.34,
          443.64,
          1912.07,
          1079.29,
          887.39,
          575.56,
          1343.14,
          695.5,
          659.52,
          1259.19,
          899.38,
          1139.25,
          611.54,
          1139.25,
          1019.32,
          731.48,
          623.54,
          635.53,
          1103.27,
          1055.3,
          3358.03,
          923.37,
          875.4,
          1043.31,
          2998.23,
          767.46,
          1163.24,
          983.34,
          839.42,
          3130.16,
          781.85,
          875.4,
          2638.43,
          2590.45,
          2062.74,
          839.42,
          743.47,
          527.59,
          587.56,
          503.6,
          455.63,
          569.57,
          1115.27,
          995.33,
          1048.11,
          606.76,
          731.48,
          647.52,
          491.61,
          1439.09,
          1103.27
         ],
         "x0": " ",
         "xaxis": "x",
         "y": [
          "msi",
          "msi",
          "msi",
          "msi",
          "msi",
          "msi",
          "msi",
          "msi",
          "msi",
          "msi",
          "msi",
          "msi",
          "msi",
          "msi",
          "msi",
          "msi",
          "msi",
          "msi",
          "msi",
          "msi",
          "msi",
          "msi",
          "msi",
          "msi",
          "msi",
          "msi",
          "msi",
          "msi",
          "msi",
          "msi",
          "msi",
          "msi",
          "msi",
          "msi",
          "msi",
          "msi",
          "msi",
          "msi",
          "msi",
          "msi",
          "msi",
          "msi",
          "msi",
          "msi",
          "msi",
          "msi",
          "msi",
          "msi",
          "msi",
          "msi",
          "msi",
          "msi",
          "msi",
          "msi",
          "msi",
          "msi",
          "msi",
          "msi",
          "msi",
          "msi",
          "msi",
          "msi",
          "msi",
          "msi",
          "msi",
          "msi",
          "msi",
          "msi",
          "msi",
          "msi",
          "msi",
          "msi",
          "msi",
          "msi",
          "msi",
          "msi",
          "msi",
          "msi",
          "msi",
          "msi",
          "msi",
          "msi",
          "msi",
          "msi",
          "msi",
          "msi",
          "msi",
          "msi",
          "msi",
          "msi"
         ],
         "y0": " ",
         "yaxis": "y"
        },
        {
         "alignmentgroup": "True",
         "hovertemplate": "brand=%{y}<br>price=%{x}<extra></extra>",
         "legendgroup": "wings",
         "marker": {
          "color": "#636efa"
         },
         "name": "wings",
         "notched": false,
         "offsetgroup": "wings",
         "orientation": "h",
         "showlegend": true,
         "type": "box",
         "x": [
          335.7,
          479.62,
          299.71,
          323.7
         ],
         "x0": " ",
         "xaxis": "x",
         "y": [
          "wings",
          "wings",
          "wings",
          "wings"
         ],
         "y0": " ",
         "yaxis": "y"
        },
        {
         "alignmentgroup": "True",
         "hovertemplate": "brand=%{y}<br>price=%{x}<extra></extra>",
         "legendgroup": "ultimus",
         "marker": {
          "color": "#EF553B"
         },
         "name": "ultimus",
         "notched": false,
         "offsetgroup": "ultimus",
         "orientation": "h",
         "showlegend": true,
         "type": "box",
         "x": [
          239.75,
          191.77,
          143.8,
          179.78,
          197.77,
          274.8
         ],
         "x0": " ",
         "xaxis": "x",
         "y": [
          "ultimus",
          "ultimus",
          "ultimus",
          "ultimus",
          "ultimus",
          "ultimus"
         ],
         "y0": " ",
         "yaxis": "y"
        },
        {
         "alignmentgroup": "True",
         "hovertemplate": "brand=%{y}<br>price=%{x}<extra></extra>",
         "legendgroup": "primebook",
         "marker": {
          "color": "#00cc96"
         },
         "name": "primebook",
         "notched": false,
         "offsetgroup": "primebook",
         "orientation": "h",
         "showlegend": true,
         "type": "box",
         "x": [
          179.78,
          155.79
         ],
         "x0": " ",
         "xaxis": "x",
         "y": [
          "primebook",
          "primebook"
         ],
         "y0": " ",
         "yaxis": "y"
        },
        {
         "alignmentgroup": "True",
         "hovertemplate": "brand=%{y}<br>price=%{x}<extra></extra>",
         "legendgroup": "iball",
         "marker": {
          "color": "#ab63fa"
         },
         "name": "iball",
         "notched": false,
         "offsetgroup": "iball",
         "orientation": "h",
         "showlegend": true,
         "type": "box",
         "x": [
          117.54
         ],
         "x0": " ",
         "xaxis": "x",
         "y": [
          "iball"
         ],
         "y0": " ",
         "yaxis": "y"
        },
        {
         "alignmentgroup": "True",
         "hovertemplate": "brand=%{y}<br>price=%{x}<extra></extra>",
         "legendgroup": "zebronics",
         "marker": {
          "color": "#FFA15A"
         },
         "name": "zebronics",
         "notched": false,
         "offsetgroup": "zebronics",
         "orientation": "h",
         "showlegend": true,
         "type": "box",
         "x": [
          407.66,
          395.66,
          635.53,
          359.68,
          479.62,
          395.66,
          611.54
         ],
         "x0": " ",
         "xaxis": "x",
         "y": [
          "zebronics",
          "zebronics",
          "zebronics",
          "zebronics",
          "zebronics",
          "zebronics",
          "zebronics"
         ],
         "y0": " ",
         "yaxis": "y"
        },
        {
         "alignmentgroup": "True",
         "hovertemplate": "brand=%{y}<br>price=%{x}<extra></extra>",
         "legendgroup": "chuwi",
         "marker": {
          "color": "#19d3f3"
         },
         "name": "chuwi",
         "notched": false,
         "offsetgroup": "chuwi",
         "orientation": "h",
         "showlegend": true,
         "type": "box",
         "x": [
          395.66,
          299.71,
          263.73,
          419.65
         ],
         "x0": " ",
         "xaxis": "x",
         "y": [
          "chuwi",
          "chuwi",
          "chuwi",
          "chuwi"
         ],
         "y0": " ",
         "yaxis": "y"
        },
        {
         "alignmentgroup": "True",
         "hovertemplate": "brand=%{y}<br>price=%{x}<extra></extra>",
         "legendgroup": "gigabyte",
         "marker": {
          "color": "#FF6692"
         },
         "name": "gigabyte",
         "notched": false,
         "offsetgroup": "gigabyte",
         "orientation": "h",
         "showlegend": true,
         "type": "box",
         "x": [
          863.4,
          1079.29
         ],
         "x0": " ",
         "xaxis": "x",
         "y": [
          "gigabyte",
          "gigabyte"
         ],
         "y0": " ",
         "yaxis": "y"
        },
        {
         "alignmentgroup": "True",
         "hovertemplate": "brand=%{y}<br>price=%{x}<extra></extra>",
         "legendgroup": "jio",
         "marker": {
          "color": "#B6E880"
         },
         "name": "jio",
         "notched": false,
         "offsetgroup": "jio",
         "orientation": "h",
         "showlegend": true,
         "type": "box",
         "x": [
          176.31
         ],
         "x0": " ",
         "xaxis": "x",
         "y": [
          "jio"
         ],
         "y0": " ",
         "yaxis": "y"
        },
        {
         "alignmentgroup": "True",
         "hovertemplate": "brand=%{y}<br>price=%{x}<extra></extra>",
         "legendgroup": "honor",
         "marker": {
          "color": "#FF97FF"
         },
         "name": "honor",
         "notched": false,
         "offsetgroup": "honor",
         "orientation": "h",
         "showlegend": true,
         "type": "box",
         "x": [
          659.52,
          527.59
         ],
         "x0": " ",
         "xaxis": "x",
         "y": [
          "honor",
          "honor"
         ],
         "y0": " ",
         "yaxis": "y"
        },
        {
         "alignmentgroup": "True",
         "hovertemplate": "brand=%{y}<br>price=%{x}<extra></extra>",
         "legendgroup": "realme",
         "marker": {
          "color": "#FECB52"
         },
         "name": "realme",
         "notched": false,
         "offsetgroup": "realme",
         "orientation": "h",
         "showlegend": true,
         "type": "box",
         "x": [
          443.64,
          515.6
         ],
         "x0": " ",
         "xaxis": "x",
         "y": [
          "realme",
          "realme"
         ],
         "y0": " ",
         "yaxis": "y"
        },
        {
         "alignmentgroup": "True",
         "hovertemplate": "brand=%{y}<br>price=%{x}<extra></extra>",
         "legendgroup": "avita",
         "marker": {
          "color": "#636efa"
         },
         "name": "avita",
         "notched": false,
         "offsetgroup": "avita",
         "orientation": "h",
         "showlegend": true,
         "type": "box",
         "x": [
          256.54,
          395.17,
          390.38,
          232.92,
          251.85
         ],
         "x0": " ",
         "xaxis": "x",
         "y": [
          "avita",
          "avita",
          "avita",
          "avita",
          "avita"
         ],
         "y0": " ",
         "yaxis": "y"
        },
        {
         "alignmentgroup": "True",
         "hovertemplate": "brand=%{y}<br>price=%{x}<extra></extra>",
         "legendgroup": "microsoft",
         "marker": {
          "color": "#EF553B"
         },
         "name": "microsoft",
         "notched": false,
         "offsetgroup": "microsoft",
         "orientation": "h",
         "showlegend": true,
         "type": "box",
         "x": [
          959.35,
          1169.24
         ],
         "x0": " ",
         "xaxis": "x",
         "y": [
          "microsoft",
          "microsoft"
         ],
         "y0": " ",
         "yaxis": "y"
        },
        {
         "alignmentgroup": "True",
         "hovertemplate": "brand=%{y}<br>price=%{x}<extra></extra>",
         "legendgroup": "fujitsu",
         "marker": {
          "color": "#00cc96"
         },
         "name": "fujitsu",
         "notched": false,
         "offsetgroup": "fujitsu",
         "orientation": "h",
         "showlegend": true,
         "type": "box",
         "x": [
          887.39,
          887.39,
          1319.15,
          1199.22,
          677.55
         ],
         "x0": " ",
         "xaxis": "x",
         "y": [
          "fujitsu",
          "fujitsu",
          "fujitsu",
          "fujitsu",
          "fujitsu"
         ],
         "y0": " ",
         "yaxis": "y"
        },
        {
         "alignmentgroup": "True",
         "hovertemplate": "brand=%{y}<br>price=%{x}<extra></extra>",
         "legendgroup": "lg",
         "marker": {
          "color": "#ab63fa"
         },
         "name": "lg",
         "notched": false,
         "offsetgroup": "lg",
         "orientation": "h",
         "showlegend": true,
         "type": "box",
         "x": [
          1187.33,
          939.07,
          1828.98,
          1414.01,
          1076.99,
          1810.99,
          1421.2
         ],
         "x0": " ",
         "xaxis": "x",
         "y": [
          "lg",
          "lg",
          "lg",
          "lg",
          "lg",
          "lg",
          "lg"
         ],
         "y0": " ",
         "yaxis": "y"
        },
        {
         "alignmentgroup": "True",
         "hovertemplate": "brand=%{y}<br>price=%{x}<extra></extra>",
         "legendgroup": "walker",
         "marker": {
          "color": "#FFA15A"
         },
         "name": "walker",
         "notched": false,
         "offsetgroup": "walker",
         "orientation": "h",
         "showlegend": true,
         "type": "box",
         "x": [
          191.77
         ],
         "x0": " ",
         "xaxis": "x",
         "y": [
          "walker"
         ],
         "y0": " ",
         "yaxis": "y"
        },
        {
         "alignmentgroup": "True",
         "hovertemplate": "brand=%{y}<br>price=%{x}<extra></extra>",
         "legendgroup": "axl",
         "marker": {
          "color": "#19d3f3"
         },
         "name": "axl",
         "notched": false,
         "offsetgroup": "axl",
         "orientation": "h",
         "showlegend": true,
         "type": "box",
         "x": [
          215.76,
          179.78
         ],
         "x0": " ",
         "xaxis": "x",
         "y": [
          "axl",
          "axl"
         ],
         "y0": " ",
         "yaxis": "y"
        }
       ],
       "layout": {
        "boxmode": "overlay",
        "legend": {
         "title": {
          "text": "brand"
         },
         "tracegroupgap": 0
        },
        "margin": {
         "t": 60
        },
        "template": {
         "data": {
          "bar": [
           {
            "error_x": {
             "color": "#2a3f5f"
            },
            "error_y": {
             "color": "#2a3f5f"
            },
            "marker": {
             "line": {
              "color": "#E5ECF6",
              "width": 0.5
             },
             "pattern": {
              "fillmode": "overlay",
              "size": 10,
              "solidity": 0.2
             }
            },
            "type": "bar"
           }
          ],
          "barpolar": [
           {
            "marker": {
             "line": {
              "color": "#E5ECF6",
              "width": 0.5
             },
             "pattern": {
              "fillmode": "overlay",
              "size": 10,
              "solidity": 0.2
             }
            },
            "type": "barpolar"
           }
          ],
          "carpet": [
           {
            "aaxis": {
             "endlinecolor": "#2a3f5f",
             "gridcolor": "white",
             "linecolor": "white",
             "minorgridcolor": "white",
             "startlinecolor": "#2a3f5f"
            },
            "baxis": {
             "endlinecolor": "#2a3f5f",
             "gridcolor": "white",
             "linecolor": "white",
             "minorgridcolor": "white",
             "startlinecolor": "#2a3f5f"
            },
            "type": "carpet"
           }
          ],
          "choropleth": [
           {
            "colorbar": {
             "outlinewidth": 0,
             "ticks": ""
            },
            "type": "choropleth"
           }
          ],
          "contour": [
           {
            "colorbar": {
             "outlinewidth": 0,
             "ticks": ""
            },
            "colorscale": [
             [
              0,
              "#0d0887"
             ],
             [
              0.1111111111111111,
              "#46039f"
             ],
             [
              0.2222222222222222,
              "#7201a8"
             ],
             [
              0.3333333333333333,
              "#9c179e"
             ],
             [
              0.4444444444444444,
              "#bd3786"
             ],
             [
              0.5555555555555556,
              "#d8576b"
             ],
             [
              0.6666666666666666,
              "#ed7953"
             ],
             [
              0.7777777777777778,
              "#fb9f3a"
             ],
             [
              0.8888888888888888,
              "#fdca26"
             ],
             [
              1,
              "#f0f921"
             ]
            ],
            "type": "contour"
           }
          ],
          "contourcarpet": [
           {
            "colorbar": {
             "outlinewidth": 0,
             "ticks": ""
            },
            "type": "contourcarpet"
           }
          ],
          "heatmap": [
           {
            "colorbar": {
             "outlinewidth": 0,
             "ticks": ""
            },
            "colorscale": [
             [
              0,
              "#0d0887"
             ],
             [
              0.1111111111111111,
              "#46039f"
             ],
             [
              0.2222222222222222,
              "#7201a8"
             ],
             [
              0.3333333333333333,
              "#9c179e"
             ],
             [
              0.4444444444444444,
              "#bd3786"
             ],
             [
              0.5555555555555556,
              "#d8576b"
             ],
             [
              0.6666666666666666,
              "#ed7953"
             ],
             [
              0.7777777777777778,
              "#fb9f3a"
             ],
             [
              0.8888888888888888,
              "#fdca26"
             ],
             [
              1,
              "#f0f921"
             ]
            ],
            "type": "heatmap"
           }
          ],
          "heatmapgl": [
           {
            "colorbar": {
             "outlinewidth": 0,
             "ticks": ""
            },
            "colorscale": [
             [
              0,
              "#0d0887"
             ],
             [
              0.1111111111111111,
              "#46039f"
             ],
             [
              0.2222222222222222,
              "#7201a8"
             ],
             [
              0.3333333333333333,
              "#9c179e"
             ],
             [
              0.4444444444444444,
              "#bd3786"
             ],
             [
              0.5555555555555556,
              "#d8576b"
             ],
             [
              0.6666666666666666,
              "#ed7953"
             ],
             [
              0.7777777777777778,
              "#fb9f3a"
             ],
             [
              0.8888888888888888,
              "#fdca26"
             ],
             [
              1,
              "#f0f921"
             ]
            ],
            "type": "heatmapgl"
           }
          ],
          "histogram": [
           {
            "marker": {
             "pattern": {
              "fillmode": "overlay",
              "size": 10,
              "solidity": 0.2
             }
            },
            "type": "histogram"
           }
          ],
          "histogram2d": [
           {
            "colorbar": {
             "outlinewidth": 0,
             "ticks": ""
            },
            "colorscale": [
             [
              0,
              "#0d0887"
             ],
             [
              0.1111111111111111,
              "#46039f"
             ],
             [
              0.2222222222222222,
              "#7201a8"
             ],
             [
              0.3333333333333333,
              "#9c179e"
             ],
             [
              0.4444444444444444,
              "#bd3786"
             ],
             [
              0.5555555555555556,
              "#d8576b"
             ],
             [
              0.6666666666666666,
              "#ed7953"
             ],
             [
              0.7777777777777778,
              "#fb9f3a"
             ],
             [
              0.8888888888888888,
              "#fdca26"
             ],
             [
              1,
              "#f0f921"
             ]
            ],
            "type": "histogram2d"
           }
          ],
          "histogram2dcontour": [
           {
            "colorbar": {
             "outlinewidth": 0,
             "ticks": ""
            },
            "colorscale": [
             [
              0,
              "#0d0887"
             ],
             [
              0.1111111111111111,
              "#46039f"
             ],
             [
              0.2222222222222222,
              "#7201a8"
             ],
             [
              0.3333333333333333,
              "#9c179e"
             ],
             [
              0.4444444444444444,
              "#bd3786"
             ],
             [
              0.5555555555555556,
              "#d8576b"
             ],
             [
              0.6666666666666666,
              "#ed7953"
             ],
             [
              0.7777777777777778,
              "#fb9f3a"
             ],
             [
              0.8888888888888888,
              "#fdca26"
             ],
             [
              1,
              "#f0f921"
             ]
            ],
            "type": "histogram2dcontour"
           }
          ],
          "mesh3d": [
           {
            "colorbar": {
             "outlinewidth": 0,
             "ticks": ""
            },
            "type": "mesh3d"
           }
          ],
          "parcoords": [
           {
            "line": {
             "colorbar": {
              "outlinewidth": 0,
              "ticks": ""
             }
            },
            "type": "parcoords"
           }
          ],
          "pie": [
           {
            "automargin": true,
            "type": "pie"
           }
          ],
          "scatter": [
           {
            "fillpattern": {
             "fillmode": "overlay",
             "size": 10,
             "solidity": 0.2
            },
            "type": "scatter"
           }
          ],
          "scatter3d": [
           {
            "line": {
             "colorbar": {
              "outlinewidth": 0,
              "ticks": ""
             }
            },
            "marker": {
             "colorbar": {
              "outlinewidth": 0,
              "ticks": ""
             }
            },
            "type": "scatter3d"
           }
          ],
          "scattercarpet": [
           {
            "marker": {
             "colorbar": {
              "outlinewidth": 0,
              "ticks": ""
             }
            },
            "type": "scattercarpet"
           }
          ],
          "scattergeo": [
           {
            "marker": {
             "colorbar": {
              "outlinewidth": 0,
              "ticks": ""
             }
            },
            "type": "scattergeo"
           }
          ],
          "scattergl": [
           {
            "marker": {
             "colorbar": {
              "outlinewidth": 0,
              "ticks": ""
             }
            },
            "type": "scattergl"
           }
          ],
          "scattermapbox": [
           {
            "marker": {
             "colorbar": {
              "outlinewidth": 0,
              "ticks": ""
             }
            },
            "type": "scattermapbox"
           }
          ],
          "scatterpolar": [
           {
            "marker": {
             "colorbar": {
              "outlinewidth": 0,
              "ticks": ""
             }
            },
            "type": "scatterpolar"
           }
          ],
          "scatterpolargl": [
           {
            "marker": {
             "colorbar": {
              "outlinewidth": 0,
              "ticks": ""
             }
            },
            "type": "scatterpolargl"
           }
          ],
          "scatterternary": [
           {
            "marker": {
             "colorbar": {
              "outlinewidth": 0,
              "ticks": ""
             }
            },
            "type": "scatterternary"
           }
          ],
          "surface": [
           {
            "colorbar": {
             "outlinewidth": 0,
             "ticks": ""
            },
            "colorscale": [
             [
              0,
              "#0d0887"
             ],
             [
              0.1111111111111111,
              "#46039f"
             ],
             [
              0.2222222222222222,
              "#7201a8"
             ],
             [
              0.3333333333333333,
              "#9c179e"
             ],
             [
              0.4444444444444444,
              "#bd3786"
             ],
             [
              0.5555555555555556,
              "#d8576b"
             ],
             [
              0.6666666666666666,
              "#ed7953"
             ],
             [
              0.7777777777777778,
              "#fb9f3a"
             ],
             [
              0.8888888888888888,
              "#fdca26"
             ],
             [
              1,
              "#f0f921"
             ]
            ],
            "type": "surface"
           }
          ],
          "table": [
           {
            "cells": {
             "fill": {
              "color": "#EBF0F8"
             },
             "line": {
              "color": "white"
             }
            },
            "header": {
             "fill": {
              "color": "#C8D4E3"
             },
             "line": {
              "color": "white"
             }
            },
            "type": "table"
           }
          ]
         },
         "layout": {
          "annotationdefaults": {
           "arrowcolor": "#2a3f5f",
           "arrowhead": 0,
           "arrowwidth": 1
          },
          "autotypenumbers": "strict",
          "coloraxis": {
           "colorbar": {
            "outlinewidth": 0,
            "ticks": ""
           }
          },
          "colorscale": {
           "diverging": [
            [
             0,
             "#8e0152"
            ],
            [
             0.1,
             "#c51b7d"
            ],
            [
             0.2,
             "#de77ae"
            ],
            [
             0.3,
             "#f1b6da"
            ],
            [
             0.4,
             "#fde0ef"
            ],
            [
             0.5,
             "#f7f7f7"
            ],
            [
             0.6,
             "#e6f5d0"
            ],
            [
             0.7,
             "#b8e186"
            ],
            [
             0.8,
             "#7fbc41"
            ],
            [
             0.9,
             "#4d9221"
            ],
            [
             1,
             "#276419"
            ]
           ],
           "sequential": [
            [
             0,
             "#0d0887"
            ],
            [
             0.1111111111111111,
             "#46039f"
            ],
            [
             0.2222222222222222,
             "#7201a8"
            ],
            [
             0.3333333333333333,
             "#9c179e"
            ],
            [
             0.4444444444444444,
             "#bd3786"
            ],
            [
             0.5555555555555556,
             "#d8576b"
            ],
            [
             0.6666666666666666,
             "#ed7953"
            ],
            [
             0.7777777777777778,
             "#fb9f3a"
            ],
            [
             0.8888888888888888,
             "#fdca26"
            ],
            [
             1,
             "#f0f921"
            ]
           ],
           "sequentialminus": [
            [
             0,
             "#0d0887"
            ],
            [
             0.1111111111111111,
             "#46039f"
            ],
            [
             0.2222222222222222,
             "#7201a8"
            ],
            [
             0.3333333333333333,
             "#9c179e"
            ],
            [
             0.4444444444444444,
             "#bd3786"
            ],
            [
             0.5555555555555556,
             "#d8576b"
            ],
            [
             0.6666666666666666,
             "#ed7953"
            ],
            [
             0.7777777777777778,
             "#fb9f3a"
            ],
            [
             0.8888888888888888,
             "#fdca26"
            ],
            [
             1,
             "#f0f921"
            ]
           ]
          },
          "colorway": [
           "#636efa",
           "#EF553B",
           "#00cc96",
           "#ab63fa",
           "#FFA15A",
           "#19d3f3",
           "#FF6692",
           "#B6E880",
           "#FF97FF",
           "#FECB52"
          ],
          "font": {
           "color": "#2a3f5f"
          },
          "geo": {
           "bgcolor": "white",
           "lakecolor": "white",
           "landcolor": "#E5ECF6",
           "showlakes": true,
           "showland": true,
           "subunitcolor": "white"
          },
          "hoverlabel": {
           "align": "left"
          },
          "hovermode": "closest",
          "mapbox": {
           "style": "light"
          },
          "paper_bgcolor": "white",
          "plot_bgcolor": "#E5ECF6",
          "polar": {
           "angularaxis": {
            "gridcolor": "white",
            "linecolor": "white",
            "ticks": ""
           },
           "bgcolor": "#E5ECF6",
           "radialaxis": {
            "gridcolor": "white",
            "linecolor": "white",
            "ticks": ""
           }
          },
          "scene": {
           "xaxis": {
            "backgroundcolor": "#E5ECF6",
            "gridcolor": "white",
            "gridwidth": 2,
            "linecolor": "white",
            "showbackground": true,
            "ticks": "",
            "zerolinecolor": "white"
           },
           "yaxis": {
            "backgroundcolor": "#E5ECF6",
            "gridcolor": "white",
            "gridwidth": 2,
            "linecolor": "white",
            "showbackground": true,
            "ticks": "",
            "zerolinecolor": "white"
           },
           "zaxis": {
            "backgroundcolor": "#E5ECF6",
            "gridcolor": "white",
            "gridwidth": 2,
            "linecolor": "white",
            "showbackground": true,
            "ticks": "",
            "zerolinecolor": "white"
           }
          },
          "shapedefaults": {
           "line": {
            "color": "#2a3f5f"
           }
          },
          "ternary": {
           "aaxis": {
            "gridcolor": "white",
            "linecolor": "white",
            "ticks": ""
           },
           "baxis": {
            "gridcolor": "white",
            "linecolor": "white",
            "ticks": ""
           },
           "bgcolor": "#E5ECF6",
           "caxis": {
            "gridcolor": "white",
            "linecolor": "white",
            "ticks": ""
           }
          },
          "title": {
           "x": 0.05
          },
          "xaxis": {
           "automargin": true,
           "gridcolor": "white",
           "linecolor": "white",
           "ticks": "",
           "title": {
            "standoff": 15
           },
           "zerolinecolor": "white",
           "zerolinewidth": 2
          },
          "yaxis": {
           "automargin": true,
           "gridcolor": "white",
           "linecolor": "white",
           "ticks": "",
           "title": {
            "standoff": 15
           },
           "zerolinecolor": "white",
           "zerolinewidth": 2
          }
         }
        },
        "xaxis": {
         "anchor": "y",
         "domain": [
          0,
          1
         ],
         "title": {
          "text": "price"
         }
        },
        "yaxis": {
         "anchor": "x",
         "categoryarray": [
          "axl",
          "walker",
          "lg",
          "fujitsu",
          "microsoft",
          "avita",
          "realme",
          "honor",
          "jio",
          "gigabyte",
          "chuwi",
          "zebronics",
          "iball",
          "primebook",
          "ultimus",
          "wings",
          "msi",
          "samsung",
          "dell",
          "asus",
          "infinix",
          "apple",
          "lenovo",
          "acer",
          "hp",
          "tecno"
         ],
         "categoryorder": "array",
         "domain": [
          0,
          1
         ],
         "title": {
          "text": "brand"
         }
        }
       }
      }
     },
     "metadata": {},
     "output_type": "display_data"
    }
   ],
   "source": [
    "# Plot de Distribuição (BoxPlot) por Brand e Price\n",
    "px.box(df_laptops, x='price', y='brand', color='brand', orientation='h')"
   ]
  },
  {
   "cell_type": "code",
   "execution_count": 15,
   "metadata": {},
   "outputs": [
    {
     "data": {
      "application/vnd.plotly.v1+json": {
       "config": {
        "plotlyServerURL": "https://plot.ly"
       },
       "data": [
        {
         "alignmentgroup": "True",
         "hovertemplate": "brand=%{y}<br>rating=%{x}<extra></extra>",
         "legendgroup": "tecno",
         "marker": {
          "color": "#636efa"
         },
         "name": "tecno",
         "notched": false,
         "offsetgroup": "tecno",
         "orientation": "h",
         "showlegend": true,
         "type": "box",
         "x": [
          63,
          67
         ],
         "x0": " ",
         "xaxis": "x",
         "y": [
          "tecno",
          "tecno"
         ],
         "y0": " ",
         "yaxis": "y"
        },
        {
         "alignmentgroup": "True",
         "hovertemplate": "brand=%{y}<br>rating=%{x}<extra></extra>",
         "legendgroup": "hp",
         "marker": {
          "color": "#EF553B"
         },
         "name": "hp",
         "notched": false,
         "offsetgroup": "hp",
         "orientation": "h",
         "showlegend": true,
         "type": "box",
         "x": [
          73,
          60,
          85,
          71,
          49,
          77,
          66,
          62,
          71,
          71,
          80,
          71,
          76,
          70,
          63,
          80,
          72,
          65,
          70,
          70,
          70,
          54,
          72,
          70,
          67,
          57,
          62,
          62,
          58,
          54,
          52,
          60,
          60,
          82,
          76,
          64,
          58,
          76,
          59,
          67,
          66,
          49,
          56,
          76,
          63,
          76,
          63,
          75,
          85,
          70,
          63,
          66,
          65,
          65,
          59,
          57,
          69,
          54,
          67,
          68,
          69,
          67,
          73,
          62,
          71,
          64,
          39,
          71,
          54,
          58,
          62,
          52,
          64,
          56,
          64,
          51,
          58,
          62,
          52,
          70,
          78,
          69,
          57,
          77,
          76,
          72,
          60,
          88,
          62,
          70,
          85,
          88,
          79,
          78,
          57,
          47,
          70,
          64,
          75,
          67,
          70,
          57,
          59,
          51,
          58,
          62,
          78,
          63,
          51,
          70,
          71,
          72,
          71,
          86,
          75,
          67,
          67,
          72,
          70,
          67,
          60,
          77,
          73,
          77,
          44,
          56,
          57,
          44,
          69,
          69,
          46,
          67,
          80,
          38,
          52,
          73,
          66,
          66,
          66,
          70,
          66,
          72,
          57,
          60,
          71,
          69,
          71,
          69,
          58,
          53,
          60,
          70,
          58,
          62,
          63,
          72,
          66,
          71,
          49,
          50,
          67,
          63,
          65,
          67,
          47,
          66,
          50,
          64,
          66,
          71,
          65,
          57,
          59,
          58,
          57,
          75,
          66,
          57,
          54,
          54,
          51,
          51,
          54,
          67,
          56,
          67,
          71,
          60,
          75,
          67,
          56,
          77,
          75,
          64,
          79,
          72,
          58,
          59,
          52,
          43,
          37,
          59,
          47,
          73,
          37
         ],
         "x0": " ",
         "xaxis": "x",
         "y": [
          "hp",
          "hp",
          "hp",
          "hp",
          "hp",
          "hp",
          "hp",
          "hp",
          "hp",
          "hp",
          "hp",
          "hp",
          "hp",
          "hp",
          "hp",
          "hp",
          "hp",
          "hp",
          "hp",
          "hp",
          "hp",
          "hp",
          "hp",
          "hp",
          "hp",
          "hp",
          "hp",
          "hp",
          "hp",
          "hp",
          "hp",
          "hp",
          "hp",
          "hp",
          "hp",
          "hp",
          "hp",
          "hp",
          "hp",
          "hp",
          "hp",
          "hp",
          "hp",
          "hp",
          "hp",
          "hp",
          "hp",
          "hp",
          "hp",
          "hp",
          "hp",
          "hp",
          "hp",
          "hp",
          "hp",
          "hp",
          "hp",
          "hp",
          "hp",
          "hp",
          "hp",
          "hp",
          "hp",
          "hp",
          "hp",
          "hp",
          "hp",
          "hp",
          "hp",
          "hp",
          "hp",
          "hp",
          "hp",
          "hp",
          "hp",
          "hp",
          "hp",
          "hp",
          "hp",
          "hp",
          "hp",
          "hp",
          "hp",
          "hp",
          "hp",
          "hp",
          "hp",
          "hp",
          "hp",
          "hp",
          "hp",
          "hp",
          "hp",
          "hp",
          "hp",
          "hp",
          "hp",
          "hp",
          "hp",
          "hp",
          "hp",
          "hp",
          "hp",
          "hp",
          "hp",
          "hp",
          "hp",
          "hp",
          "hp",
          "hp",
          "hp",
          "hp",
          "hp",
          "hp",
          "hp",
          "hp",
          "hp",
          "hp",
          "hp",
          "hp",
          "hp",
          "hp",
          "hp",
          "hp",
          "hp",
          "hp",
          "hp",
          "hp",
          "hp",
          "hp",
          "hp",
          "hp",
          "hp",
          "hp",
          "hp",
          "hp",
          "hp",
          "hp",
          "hp",
          "hp",
          "hp",
          "hp",
          "hp",
          "hp",
          "hp",
          "hp",
          "hp",
          "hp",
          "hp",
          "hp",
          "hp",
          "hp",
          "hp",
          "hp",
          "hp",
          "hp",
          "hp",
          "hp",
          "hp",
          "hp",
          "hp",
          "hp",
          "hp",
          "hp",
          "hp",
          "hp",
          "hp",
          "hp",
          "hp",
          "hp",
          "hp",
          "hp",
          "hp",
          "hp",
          "hp",
          "hp",
          "hp",
          "hp",
          "hp",
          "hp",
          "hp",
          "hp",
          "hp",
          "hp",
          "hp",
          "hp",
          "hp",
          "hp",
          "hp",
          "hp",
          "hp",
          "hp",
          "hp",
          "hp",
          "hp",
          "hp",
          "hp",
          "hp",
          "hp",
          "hp",
          "hp",
          "hp",
          "hp",
          "hp",
          "hp"
         ],
         "y0": " ",
         "yaxis": "y"
        },
        {
         "alignmentgroup": "True",
         "hovertemplate": "brand=%{y}<br>rating=%{x}<extra></extra>",
         "legendgroup": "acer",
         "marker": {
          "color": "#00cc96"
         },
         "name": "acer",
         "notched": false,
         "offsetgroup": "acer",
         "orientation": "h",
         "showlegend": true,
         "type": "box",
         "x": [
          62,
          63,
          64,
          60,
          58,
          71,
          60,
          62,
          72,
          67,
          75,
          70,
          49,
          64,
          54,
          64,
          78,
          57,
          59,
          70,
          67,
          75,
          49,
          67,
          47,
          64,
          64,
          64,
          62,
          63,
          63,
          56,
          62,
          38,
          65,
          62,
          67,
          65,
          38,
          58,
          62,
          50,
          72,
          70,
          63,
          60,
          45,
          79,
          65,
          58,
          80,
          59,
          64,
          70,
          59,
          50,
          57,
          50,
          60,
          69,
          56,
          53,
          51,
          50,
          59,
          52,
          50,
          70,
          62,
          78,
          58,
          47,
          65,
          66,
          64,
          65,
          73,
          74,
          72,
          59,
          50,
          44,
          71,
          77,
          52,
          71,
          54,
          71,
          67
         ],
         "x0": " ",
         "xaxis": "x",
         "y": [
          "acer",
          "acer",
          "acer",
          "acer",
          "acer",
          "acer",
          "acer",
          "acer",
          "acer",
          "acer",
          "acer",
          "acer",
          "acer",
          "acer",
          "acer",
          "acer",
          "acer",
          "acer",
          "acer",
          "acer",
          "acer",
          "acer",
          "acer",
          "acer",
          "acer",
          "acer",
          "acer",
          "acer",
          "acer",
          "acer",
          "acer",
          "acer",
          "acer",
          "acer",
          "acer",
          "acer",
          "acer",
          "acer",
          "acer",
          "acer",
          "acer",
          "acer",
          "acer",
          "acer",
          "acer",
          "acer",
          "acer",
          "acer",
          "acer",
          "acer",
          "acer",
          "acer",
          "acer",
          "acer",
          "acer",
          "acer",
          "acer",
          "acer",
          "acer",
          "acer",
          "acer",
          "acer",
          "acer",
          "acer",
          "acer",
          "acer",
          "acer",
          "acer",
          "acer",
          "acer",
          "acer",
          "acer",
          "acer",
          "acer",
          "acer",
          "acer",
          "acer",
          "acer",
          "acer",
          "acer",
          "acer",
          "acer",
          "acer",
          "acer",
          "acer",
          "acer",
          "acer",
          "acer",
          "acer"
         ],
         "y0": " ",
         "yaxis": "y"
        },
        {
         "alignmentgroup": "True",
         "hovertemplate": "brand=%{y}<br>rating=%{x}<extra></extra>",
         "legendgroup": "lenovo",
         "marker": {
          "color": "#ab63fa"
         },
         "name": "lenovo",
         "notched": false,
         "offsetgroup": "lenovo",
         "orientation": "h",
         "showlegend": true,
         "type": "box",
         "x": [
          62,
          66,
          59,
          59,
          71,
          69,
          51,
          66,
          47,
          70,
          63,
          59,
          80,
          70,
          66,
          64,
          67,
          60,
          64,
          77,
          83,
          60,
          50,
          64,
          62,
          69,
          63,
          67,
          53,
          53,
          53,
          78,
          74,
          49,
          64,
          57,
          58,
          62,
          50,
          58,
          62,
          66,
          57,
          60,
          63,
          51,
          64,
          67,
          66,
          75,
          65,
          57,
          86,
          70,
          69,
          54,
          53,
          57,
          56,
          69,
          67,
          75,
          63,
          58,
          57,
          63,
          65,
          69,
          64,
          56,
          58,
          84,
          85,
          78,
          58,
          77,
          57,
          65,
          57,
          57,
          67,
          58,
          60,
          62,
          51,
          46,
          51,
          63,
          64,
          43,
          69,
          58,
          59,
          65,
          71,
          63,
          89,
          83,
          79,
          67,
          66,
          56,
          65,
          83,
          69,
          52,
          58,
          60,
          62,
          58,
          58,
          53,
          63,
          58,
          59,
          69,
          58,
          60,
          56,
          65,
          64,
          60,
          60,
          60,
          62,
          65,
          64,
          62,
          60,
          59,
          64,
          58,
          60,
          72,
          71,
          73,
          73,
          75,
          73,
          63,
          69,
          72,
          57,
          69,
          38,
          62,
          65,
          59,
          50,
          70,
          62,
          58,
          69,
          64,
          67,
          66,
          67,
          64,
          67,
          59,
          70,
          57,
          62,
          62,
          57,
          63,
          75,
          62,
          57,
          57,
          59,
          54,
          64,
          53,
          54,
          56,
          59,
          57,
          66,
          64,
          50,
          67,
          58,
          67,
          71,
          78,
          47,
          43,
          45,
          58,
          56,
          56,
          60,
          66,
          55,
          52,
          75,
          54,
          50,
          48,
          64
         ],
         "x0": " ",
         "xaxis": "x",
         "y": [
          "lenovo",
          "lenovo",
          "lenovo",
          "lenovo",
          "lenovo",
          "lenovo",
          "lenovo",
          "lenovo",
          "lenovo",
          "lenovo",
          "lenovo",
          "lenovo",
          "lenovo",
          "lenovo",
          "lenovo",
          "lenovo",
          "lenovo",
          "lenovo",
          "lenovo",
          "lenovo",
          "lenovo",
          "lenovo",
          "lenovo",
          "lenovo",
          "lenovo",
          "lenovo",
          "lenovo",
          "lenovo",
          "lenovo",
          "lenovo",
          "lenovo",
          "lenovo",
          "lenovo",
          "lenovo",
          "lenovo",
          "lenovo",
          "lenovo",
          "lenovo",
          "lenovo",
          "lenovo",
          "lenovo",
          "lenovo",
          "lenovo",
          "lenovo",
          "lenovo",
          "lenovo",
          "lenovo",
          "lenovo",
          "lenovo",
          "lenovo",
          "lenovo",
          "lenovo",
          "lenovo",
          "lenovo",
          "lenovo",
          "lenovo",
          "lenovo",
          "lenovo",
          "lenovo",
          "lenovo",
          "lenovo",
          "lenovo",
          "lenovo",
          "lenovo",
          "lenovo",
          "lenovo",
          "lenovo",
          "lenovo",
          "lenovo",
          "lenovo",
          "lenovo",
          "lenovo",
          "lenovo",
          "lenovo",
          "lenovo",
          "lenovo",
          "lenovo",
          "lenovo",
          "lenovo",
          "lenovo",
          "lenovo",
          "lenovo",
          "lenovo",
          "lenovo",
          "lenovo",
          "lenovo",
          "lenovo",
          "lenovo",
          "lenovo",
          "lenovo",
          "lenovo",
          "lenovo",
          "lenovo",
          "lenovo",
          "lenovo",
          "lenovo",
          "lenovo",
          "lenovo",
          "lenovo",
          "lenovo",
          "lenovo",
          "lenovo",
          "lenovo",
          "lenovo",
          "lenovo",
          "lenovo",
          "lenovo",
          "lenovo",
          "lenovo",
          "lenovo",
          "lenovo",
          "lenovo",
          "lenovo",
          "lenovo",
          "lenovo",
          "lenovo",
          "lenovo",
          "lenovo",
          "lenovo",
          "lenovo",
          "lenovo",
          "lenovo",
          "lenovo",
          "lenovo",
          "lenovo",
          "lenovo",
          "lenovo",
          "lenovo",
          "lenovo",
          "lenovo",
          "lenovo",
          "lenovo",
          "lenovo",
          "lenovo",
          "lenovo",
          "lenovo",
          "lenovo",
          "lenovo",
          "lenovo",
          "lenovo",
          "lenovo",
          "lenovo",
          "lenovo",
          "lenovo",
          "lenovo",
          "lenovo",
          "lenovo",
          "lenovo",
          "lenovo",
          "lenovo",
          "lenovo",
          "lenovo",
          "lenovo",
          "lenovo",
          "lenovo",
          "lenovo",
          "lenovo",
          "lenovo",
          "lenovo",
          "lenovo",
          "lenovo",
          "lenovo",
          "lenovo",
          "lenovo",
          "lenovo",
          "lenovo",
          "lenovo",
          "lenovo",
          "lenovo",
          "lenovo",
          "lenovo",
          "lenovo",
          "lenovo",
          "lenovo",
          "lenovo",
          "lenovo",
          "lenovo",
          "lenovo",
          "lenovo",
          "lenovo",
          "lenovo",
          "lenovo",
          "lenovo",
          "lenovo",
          "lenovo",
          "lenovo",
          "lenovo",
          "lenovo",
          "lenovo",
          "lenovo",
          "lenovo",
          "lenovo",
          "lenovo",
          "lenovo",
          "lenovo",
          "lenovo",
          "lenovo",
          "lenovo",
          "lenovo",
          "lenovo",
          "lenovo"
         ],
         "y0": " ",
         "yaxis": "y"
        },
        {
         "alignmentgroup": "True",
         "hovertemplate": "brand=%{y}<br>rating=%{x}<extra></extra>",
         "legendgroup": "apple",
         "marker": {
          "color": "#FFA15A"
         },
         "name": "apple",
         "notched": false,
         "offsetgroup": "apple",
         "orientation": "h",
         "showlegend": true,
         "type": "box",
         "x": [
          45,
          65,
          48,
          53,
          43,
          63,
          64,
          58,
          56,
          56,
          45,
          45,
          53,
          58,
          51
         ],
         "x0": " ",
         "xaxis": "x",
         "y": [
          "apple",
          "apple",
          "apple",
          "apple",
          "apple",
          "apple",
          "apple",
          "apple",
          "apple",
          "apple",
          "apple",
          "apple",
          "apple",
          "apple",
          "apple"
         ],
         "y0": " ",
         "yaxis": "y"
        },
        {
         "alignmentgroup": "True",
         "hovertemplate": "brand=%{y}<br>rating=%{x}<extra></extra>",
         "legendgroup": "infinix",
         "marker": {
          "color": "#19d3f3"
         },
         "name": "infinix",
         "notched": false,
         "offsetgroup": "infinix",
         "orientation": "h",
         "showlegend": true,
         "type": "box",
         "x": [
          56,
          71,
          54,
          50,
          53,
          60,
          63,
          56,
          57,
          57,
          52,
          57,
          58
         ],
         "x0": " ",
         "xaxis": "x",
         "y": [
          "infinix",
          "infinix",
          "infinix",
          "infinix",
          "infinix",
          "infinix",
          "infinix",
          "infinix",
          "infinix",
          "infinix",
          "infinix",
          "infinix",
          "infinix"
         ],
         "y0": " ",
         "yaxis": "y"
        },
        {
         "alignmentgroup": "True",
         "hovertemplate": "brand=%{y}<br>rating=%{x}<extra></extra>",
         "legendgroup": "asus",
         "marker": {
          "color": "#FF6692"
         },
         "name": "asus",
         "notched": false,
         "offsetgroup": "asus",
         "orientation": "h",
         "showlegend": true,
         "type": "box",
         "x": [
          70,
          71,
          76,
          57,
          57,
          65,
          72,
          77,
          83,
          75,
          67,
          64,
          78,
          72,
          62,
          64,
          57,
          63,
          71,
          70,
          70,
          66,
          75,
          72,
          72,
          64,
          88,
          79,
          60,
          65,
          56,
          70,
          62,
          71,
          69,
          35,
          71,
          65,
          76,
          77,
          76,
          70,
          66,
          60,
          59,
          64,
          58,
          80,
          77,
          79,
          78,
          64,
          67,
          64,
          70,
          65,
          71,
          59,
          65,
          60,
          65,
          50,
          73,
          85,
          37,
          44,
          67,
          58,
          65,
          69,
          45,
          63,
          70,
          38,
          66,
          51,
          38,
          73,
          58,
          62,
          70,
          71,
          43,
          67,
          59,
          60,
          64,
          63,
          73,
          64,
          72,
          37,
          41,
          37,
          57,
          37,
          72,
          65,
          66,
          70,
          57,
          62,
          56,
          69,
          63,
          76,
          59,
          57,
          72,
          66,
          72,
          54,
          64,
          45,
          57,
          72,
          75,
          70,
          82,
          72,
          71,
          65,
          60,
          75,
          64,
          60,
          72,
          83,
          71,
          59,
          69,
          64,
          66,
          53,
          45,
          58,
          63,
          64,
          54,
          71,
          73,
          89,
          84,
          75,
          83,
          73,
          77,
          89,
          76,
          80,
          67,
          73,
          82,
          66,
          72,
          75,
          66,
          76,
          66,
          70,
          84,
          71,
          56,
          45,
          56,
          78,
          60,
          59,
          73,
          73,
          70,
          75,
          59,
          64,
          52,
          48,
          59,
          63,
          56,
          62,
          60,
          57,
          56,
          71,
          64,
          64,
          70,
          62,
          60,
          53,
          58,
          51,
          74,
          62,
          67,
          59,
          67,
          89,
          58,
          59,
          53,
          72,
          83,
          68,
          68,
          65,
          64,
          68,
          59,
          68
         ],
         "x0": " ",
         "xaxis": "x",
         "y": [
          "asus",
          "asus",
          "asus",
          "asus",
          "asus",
          "asus",
          "asus",
          "asus",
          "asus",
          "asus",
          "asus",
          "asus",
          "asus",
          "asus",
          "asus",
          "asus",
          "asus",
          "asus",
          "asus",
          "asus",
          "asus",
          "asus",
          "asus",
          "asus",
          "asus",
          "asus",
          "asus",
          "asus",
          "asus",
          "asus",
          "asus",
          "asus",
          "asus",
          "asus",
          "asus",
          "asus",
          "asus",
          "asus",
          "asus",
          "asus",
          "asus",
          "asus",
          "asus",
          "asus",
          "asus",
          "asus",
          "asus",
          "asus",
          "asus",
          "asus",
          "asus",
          "asus",
          "asus",
          "asus",
          "asus",
          "asus",
          "asus",
          "asus",
          "asus",
          "asus",
          "asus",
          "asus",
          "asus",
          "asus",
          "asus",
          "asus",
          "asus",
          "asus",
          "asus",
          "asus",
          "asus",
          "asus",
          "asus",
          "asus",
          "asus",
          "asus",
          "asus",
          "asus",
          "asus",
          "asus",
          "asus",
          "asus",
          "asus",
          "asus",
          "asus",
          "asus",
          "asus",
          "asus",
          "asus",
          "asus",
          "asus",
          "asus",
          "asus",
          "asus",
          "asus",
          "asus",
          "asus",
          "asus",
          "asus",
          "asus",
          "asus",
          "asus",
          "asus",
          "asus",
          "asus",
          "asus",
          "asus",
          "asus",
          "asus",
          "asus",
          "asus",
          "asus",
          "asus",
          "asus",
          "asus",
          "asus",
          "asus",
          "asus",
          "asus",
          "asus",
          "asus",
          "asus",
          "asus",
          "asus",
          "asus",
          "asus",
          "asus",
          "asus",
          "asus",
          "asus",
          "asus",
          "asus",
          "asus",
          "asus",
          "asus",
          "asus",
          "asus",
          "asus",
          "asus",
          "asus",
          "asus",
          "asus",
          "asus",
          "asus",
          "asus",
          "asus",
          "asus",
          "asus",
          "asus",
          "asus",
          "asus",
          "asus",
          "asus",
          "asus",
          "asus",
          "asus",
          "asus",
          "asus",
          "asus",
          "asus",
          "asus",
          "asus",
          "asus",
          "asus",
          "asus",
          "asus",
          "asus",
          "asus",
          "asus",
          "asus",
          "asus",
          "asus",
          "asus",
          "asus",
          "asus",
          "asus",
          "asus",
          "asus",
          "asus",
          "asus",
          "asus",
          "asus",
          "asus",
          "asus",
          "asus",
          "asus",
          "asus",
          "asus",
          "asus",
          "asus",
          "asus",
          "asus",
          "asus",
          "asus",
          "asus",
          "asus",
          "asus",
          "asus",
          "asus",
          "asus",
          "asus",
          "asus",
          "asus",
          "asus",
          "asus",
          "asus",
          "asus",
          "asus",
          "asus",
          "asus"
         ],
         "y0": " ",
         "yaxis": "y"
        },
        {
         "alignmentgroup": "True",
         "hovertemplate": "brand=%{y}<br>rating=%{x}<extra></extra>",
         "legendgroup": "dell",
         "marker": {
          "color": "#B6E880"
         },
         "name": "dell",
         "notched": false,
         "offsetgroup": "dell",
         "orientation": "h",
         "showlegend": true,
         "type": "box",
         "x": [
          60,
          66,
          71,
          66,
          66,
          70,
          60,
          72,
          74,
          78,
          59,
          53,
          73,
          63,
          62,
          68,
          62,
          56,
          67,
          80,
          53,
          58,
          49,
          59,
          64,
          75,
          58,
          57,
          53,
          53,
          57,
          57,
          56,
          57,
          56,
          57,
          62,
          53,
          58,
          57,
          78,
          56,
          58,
          63,
          58,
          62,
          54,
          59,
          57,
          60,
          63,
          58,
          60,
          85,
          63,
          65,
          83,
          65,
          85,
          80,
          83,
          89,
          60,
          63,
          60,
          56,
          53,
          56,
          67,
          58,
          52,
          60,
          60,
          70,
          88,
          82,
          54,
          72,
          71,
          56,
          78,
          82,
          59,
          58,
          57,
          56,
          52,
          57,
          56,
          76,
          52,
          79,
          73,
          75,
          69,
          78,
          83,
          82,
          83,
          63,
          63,
          59,
          62,
          59,
          68,
          72
         ],
         "x0": " ",
         "xaxis": "x",
         "y": [
          "dell",
          "dell",
          "dell",
          "dell",
          "dell",
          "dell",
          "dell",
          "dell",
          "dell",
          "dell",
          "dell",
          "dell",
          "dell",
          "dell",
          "dell",
          "dell",
          "dell",
          "dell",
          "dell",
          "dell",
          "dell",
          "dell",
          "dell",
          "dell",
          "dell",
          "dell",
          "dell",
          "dell",
          "dell",
          "dell",
          "dell",
          "dell",
          "dell",
          "dell",
          "dell",
          "dell",
          "dell",
          "dell",
          "dell",
          "dell",
          "dell",
          "dell",
          "dell",
          "dell",
          "dell",
          "dell",
          "dell",
          "dell",
          "dell",
          "dell",
          "dell",
          "dell",
          "dell",
          "dell",
          "dell",
          "dell",
          "dell",
          "dell",
          "dell",
          "dell",
          "dell",
          "dell",
          "dell",
          "dell",
          "dell",
          "dell",
          "dell",
          "dell",
          "dell",
          "dell",
          "dell",
          "dell",
          "dell",
          "dell",
          "dell",
          "dell",
          "dell",
          "dell",
          "dell",
          "dell",
          "dell",
          "dell",
          "dell",
          "dell",
          "dell",
          "dell",
          "dell",
          "dell",
          "dell",
          "dell",
          "dell",
          "dell",
          "dell",
          "dell",
          "dell",
          "dell",
          "dell",
          "dell",
          "dell",
          "dell",
          "dell",
          "dell",
          "dell",
          "dell",
          "dell",
          "dell"
         ],
         "y0": " ",
         "yaxis": "y"
        },
        {
         "alignmentgroup": "True",
         "hovertemplate": "brand=%{y}<br>rating=%{x}<extra></extra>",
         "legendgroup": "samsung",
         "marker": {
          "color": "#FF97FF"
         },
         "name": "samsung",
         "notched": false,
         "offsetgroup": "samsung",
         "orientation": "h",
         "showlegend": true,
         "type": "box",
         "x": [
          68,
          59,
          62,
          56,
          60,
          59,
          68
         ],
         "x0": " ",
         "xaxis": "x",
         "y": [
          "samsung",
          "samsung",
          "samsung",
          "samsung",
          "samsung",
          "samsung",
          "samsung"
         ],
         "y0": " ",
         "yaxis": "y"
        },
        {
         "alignmentgroup": "True",
         "hovertemplate": "brand=%{y}<br>rating=%{x}<extra></extra>",
         "legendgroup": "msi",
         "marker": {
          "color": "#FECB52"
         },
         "name": "msi",
         "notched": false,
         "offsetgroup": "msi",
         "orientation": "h",
         "showlegend": true,
         "type": "box",
         "x": [
          71,
          76,
          58,
          70,
          65,
          75,
          65,
          63,
          60,
          73,
          65,
          73,
          62,
          65,
          72,
          62,
          73,
          69,
          62,
          79,
          78,
          69,
          80,
          89,
          70,
          83,
          71,
          76,
          76,
          77,
          79,
          76,
          77,
          69,
          71,
          70,
          83,
          73,
          89,
          63,
          58,
          77,
          71,
          65,
          67,
          78,
          67,
          65,
          78,
          69,
          77,
          66,
          77,
          75,
          63,
          70,
          65,
          75,
          75,
          85,
          69,
          71,
          73,
          86,
          71,
          77,
          65,
          70,
          89,
          65,
          71,
          84,
          87,
          80,
          70,
          72,
          53,
          54,
          60,
          58,
          59,
          72,
          74,
          67,
          59,
          61,
          58,
          56,
          76,
          73
         ],
         "x0": " ",
         "xaxis": "x",
         "y": [
          "msi",
          "msi",
          "msi",
          "msi",
          "msi",
          "msi",
          "msi",
          "msi",
          "msi",
          "msi",
          "msi",
          "msi",
          "msi",
          "msi",
          "msi",
          "msi",
          "msi",
          "msi",
          "msi",
          "msi",
          "msi",
          "msi",
          "msi",
          "msi",
          "msi",
          "msi",
          "msi",
          "msi",
          "msi",
          "msi",
          "msi",
          "msi",
          "msi",
          "msi",
          "msi",
          "msi",
          "msi",
          "msi",
          "msi",
          "msi",
          "msi",
          "msi",
          "msi",
          "msi",
          "msi",
          "msi",
          "msi",
          "msi",
          "msi",
          "msi",
          "msi",
          "msi",
          "msi",
          "msi",
          "msi",
          "msi",
          "msi",
          "msi",
          "msi",
          "msi",
          "msi",
          "msi",
          "msi",
          "msi",
          "msi",
          "msi",
          "msi",
          "msi",
          "msi",
          "msi",
          "msi",
          "msi",
          "msi",
          "msi",
          "msi",
          "msi",
          "msi",
          "msi",
          "msi",
          "msi",
          "msi",
          "msi",
          "msi",
          "msi",
          "msi",
          "msi",
          "msi",
          "msi",
          "msi",
          "msi"
         ],
         "y0": " ",
         "yaxis": "y"
        },
        {
         "alignmentgroup": "True",
         "hovertemplate": "brand=%{y}<br>rating=%{x}<extra></extra>",
         "legendgroup": "wings",
         "marker": {
          "color": "#636efa"
         },
         "name": "wings",
         "notched": false,
         "offsetgroup": "wings",
         "orientation": "h",
         "showlegend": true,
         "type": "box",
         "x": [
          56,
          58,
          49,
          51
         ],
         "x0": " ",
         "xaxis": "x",
         "y": [
          "wings",
          "wings",
          "wings",
          "wings"
         ],
         "y0": " ",
         "yaxis": "y"
        },
        {
         "alignmentgroup": "True",
         "hovertemplate": "brand=%{y}<br>rating=%{x}<extra></extra>",
         "legendgroup": "ultimus",
         "marker": {
          "color": "#EF553B"
         },
         "name": "ultimus",
         "notched": false,
         "offsetgroup": "ultimus",
         "orientation": "h",
         "showlegend": true,
         "type": "box",
         "x": [
          54,
          46,
          41,
          45,
          47,
          52
         ],
         "x0": " ",
         "xaxis": "x",
         "y": [
          "ultimus",
          "ultimus",
          "ultimus",
          "ultimus",
          "ultimus",
          "ultimus"
         ],
         "y0": " ",
         "yaxis": "y"
        },
        {
         "alignmentgroup": "True",
         "hovertemplate": "brand=%{y}<br>rating=%{x}<extra></extra>",
         "legendgroup": "primebook",
         "marker": {
          "color": "#00cc96"
         },
         "name": "primebook",
         "notched": false,
         "offsetgroup": "primebook",
         "orientation": "h",
         "showlegend": true,
         "type": "box",
         "x": [
          26,
          31
         ],
         "x0": " ",
         "xaxis": "x",
         "y": [
          "primebook",
          "primebook"
         ],
         "y0": " ",
         "yaxis": "y"
        },
        {
         "alignmentgroup": "True",
         "hovertemplate": "brand=%{y}<br>rating=%{x}<extra></extra>",
         "legendgroup": "iball",
         "marker": {
          "color": "#ab63fa"
         },
         "name": "iball",
         "notched": false,
         "offsetgroup": "iball",
         "orientation": "h",
         "showlegend": true,
         "type": "box",
         "x": [
          41
         ],
         "x0": " ",
         "xaxis": "x",
         "y": [
          "iball"
         ],
         "y0": " ",
         "yaxis": "y"
        },
        {
         "alignmentgroup": "True",
         "hovertemplate": "brand=%{y}<br>rating=%{x}<extra></extra>",
         "legendgroup": "zebronics",
         "marker": {
          "color": "#FFA15A"
         },
         "name": "zebronics",
         "notched": false,
         "offsetgroup": "zebronics",
         "orientation": "h",
         "showlegend": true,
         "type": "box",
         "x": [
          65,
          63,
          72,
          56,
          66,
          60,
          72
         ],
         "x0": " ",
         "xaxis": "x",
         "y": [
          "zebronics",
          "zebronics",
          "zebronics",
          "zebronics",
          "zebronics",
          "zebronics",
          "zebronics"
         ],
         "y0": " ",
         "yaxis": "y"
        },
        {
         "alignmentgroup": "True",
         "hovertemplate": "brand=%{y}<br>rating=%{x}<extra></extra>",
         "legendgroup": "chuwi",
         "marker": {
          "color": "#19d3f3"
         },
         "name": "chuwi",
         "notched": false,
         "offsetgroup": "chuwi",
         "orientation": "h",
         "showlegend": true,
         "type": "box",
         "x": [
          50,
          50,
          50,
          54
         ],
         "x0": " ",
         "xaxis": "x",
         "y": [
          "chuwi",
          "chuwi",
          "chuwi",
          "chuwi"
         ],
         "y0": " ",
         "yaxis": "y"
        },
        {
         "alignmentgroup": "True",
         "hovertemplate": "brand=%{y}<br>rating=%{x}<extra></extra>",
         "legendgroup": "gigabyte",
         "marker": {
          "color": "#FF6692"
         },
         "name": "gigabyte",
         "notched": false,
         "offsetgroup": "gigabyte",
         "orientation": "h",
         "showlegend": true,
         "type": "box",
         "x": [
          67,
          73
         ],
         "x0": " ",
         "xaxis": "x",
         "y": [
          "gigabyte",
          "gigabyte"
         ],
         "y0": " ",
         "yaxis": "y"
        },
        {
         "alignmentgroup": "True",
         "hovertemplate": "brand=%{y}<br>rating=%{x}<extra></extra>",
         "legendgroup": "jio",
         "marker": {
          "color": "#B6E880"
         },
         "name": "jio",
         "notched": false,
         "offsetgroup": "jio",
         "orientation": "h",
         "showlegend": true,
         "type": "box",
         "x": [
          24
         ],
         "x0": " ",
         "xaxis": "x",
         "y": [
          "jio"
         ],
         "y0": " ",
         "yaxis": "y"
        },
        {
         "alignmentgroup": "True",
         "hovertemplate": "brand=%{y}<br>rating=%{x}<extra></extra>",
         "legendgroup": "honor",
         "marker": {
          "color": "#FF97FF"
         },
         "name": "honor",
         "notched": false,
         "offsetgroup": "honor",
         "orientation": "h",
         "showlegend": true,
         "type": "box",
         "x": [
          66,
          59
         ],
         "x0": " ",
         "xaxis": "x",
         "y": [
          "honor",
          "honor"
         ],
         "y0": " ",
         "yaxis": "y"
        },
        {
         "alignmentgroup": "True",
         "hovertemplate": "brand=%{y}<br>rating=%{x}<extra></extra>",
         "legendgroup": "realme",
         "marker": {
          "color": "#FECB52"
         },
         "name": "realme",
         "notched": false,
         "offsetgroup": "realme",
         "orientation": "h",
         "showlegend": true,
         "type": "box",
         "x": [
          52,
          62
         ],
         "x0": " ",
         "xaxis": "x",
         "y": [
          "realme",
          "realme"
         ],
         "y0": " ",
         "yaxis": "y"
        },
        {
         "alignmentgroup": "True",
         "hovertemplate": "brand=%{y}<br>rating=%{x}<extra></extra>",
         "legendgroup": "avita",
         "marker": {
          "color": "#636efa"
         },
         "name": "avita",
         "notched": false,
         "offsetgroup": "avita",
         "orientation": "h",
         "showlegend": true,
         "type": "box",
         "x": [
          56,
          50,
          51,
          41,
          43
         ],
         "x0": " ",
         "xaxis": "x",
         "y": [
          "avita",
          "avita",
          "avita",
          "avita",
          "avita"
         ],
         "y0": " ",
         "yaxis": "y"
        },
        {
         "alignmentgroup": "True",
         "hovertemplate": "brand=%{y}<br>rating=%{x}<extra></extra>",
         "legendgroup": "microsoft",
         "marker": {
          "color": "#EF553B"
         },
         "name": "microsoft",
         "notched": false,
         "offsetgroup": "microsoft",
         "orientation": "h",
         "showlegend": true,
         "type": "box",
         "x": [
          58,
          60
         ],
         "x0": " ",
         "xaxis": "x",
         "y": [
          "microsoft",
          "microsoft"
         ],
         "y0": " ",
         "yaxis": "y"
        },
        {
         "alignmentgroup": "True",
         "hovertemplate": "brand=%{y}<br>rating=%{x}<extra></extra>",
         "legendgroup": "fujitsu",
         "marker": {
          "color": "#00cc96"
         },
         "name": "fujitsu",
         "notched": false,
         "offsetgroup": "fujitsu",
         "orientation": "h",
         "showlegend": true,
         "type": "box",
         "x": [
          67,
          65,
          76,
          73,
          70
         ],
         "x0": " ",
         "xaxis": "x",
         "y": [
          "fujitsu",
          "fujitsu",
          "fujitsu",
          "fujitsu",
          "fujitsu"
         ],
         "y0": " ",
         "yaxis": "y"
        },
        {
         "alignmentgroup": "True",
         "hovertemplate": "brand=%{y}<br>rating=%{x}<extra></extra>",
         "legendgroup": "lg",
         "marker": {
          "color": "#ab63fa"
         },
         "name": "lg",
         "notched": false,
         "offsetgroup": "lg",
         "orientation": "h",
         "showlegend": true,
         "type": "box",
         "x": [
          67,
          72,
          78,
          69,
          75,
          72,
          72
         ],
         "x0": " ",
         "xaxis": "x",
         "y": [
          "lg",
          "lg",
          "lg",
          "lg",
          "lg",
          "lg",
          "lg"
         ],
         "y0": " ",
         "yaxis": "y"
        },
        {
         "alignmentgroup": "True",
         "hovertemplate": "brand=%{y}<br>rating=%{x}<extra></extra>",
         "legendgroup": "walker",
         "marker": {
          "color": "#FFA15A"
         },
         "name": "walker",
         "notched": false,
         "offsetgroup": "walker",
         "orientation": "h",
         "showlegend": true,
         "type": "box",
         "x": [
          37
         ],
         "x0": " ",
         "xaxis": "x",
         "y": [
          "walker"
         ],
         "y0": " ",
         "yaxis": "y"
        },
        {
         "alignmentgroup": "True",
         "hovertemplate": "brand=%{y}<br>rating=%{x}<extra></extra>",
         "legendgroup": "axl",
         "marker": {
          "color": "#19d3f3"
         },
         "name": "axl",
         "notched": false,
         "offsetgroup": "axl",
         "orientation": "h",
         "showlegend": true,
         "type": "box",
         "x": [
          38,
          37
         ],
         "x0": " ",
         "xaxis": "x",
         "y": [
          "axl",
          "axl"
         ],
         "y0": " ",
         "yaxis": "y"
        }
       ],
       "layout": {
        "boxmode": "overlay",
        "legend": {
         "title": {
          "text": "brand"
         },
         "tracegroupgap": 0
        },
        "margin": {
         "t": 60
        },
        "template": {
         "data": {
          "bar": [
           {
            "error_x": {
             "color": "#2a3f5f"
            },
            "error_y": {
             "color": "#2a3f5f"
            },
            "marker": {
             "line": {
              "color": "#E5ECF6",
              "width": 0.5
             },
             "pattern": {
              "fillmode": "overlay",
              "size": 10,
              "solidity": 0.2
             }
            },
            "type": "bar"
           }
          ],
          "barpolar": [
           {
            "marker": {
             "line": {
              "color": "#E5ECF6",
              "width": 0.5
             },
             "pattern": {
              "fillmode": "overlay",
              "size": 10,
              "solidity": 0.2
             }
            },
            "type": "barpolar"
           }
          ],
          "carpet": [
           {
            "aaxis": {
             "endlinecolor": "#2a3f5f",
             "gridcolor": "white",
             "linecolor": "white",
             "minorgridcolor": "white",
             "startlinecolor": "#2a3f5f"
            },
            "baxis": {
             "endlinecolor": "#2a3f5f",
             "gridcolor": "white",
             "linecolor": "white",
             "minorgridcolor": "white",
             "startlinecolor": "#2a3f5f"
            },
            "type": "carpet"
           }
          ],
          "choropleth": [
           {
            "colorbar": {
             "outlinewidth": 0,
             "ticks": ""
            },
            "type": "choropleth"
           }
          ],
          "contour": [
           {
            "colorbar": {
             "outlinewidth": 0,
             "ticks": ""
            },
            "colorscale": [
             [
              0,
              "#0d0887"
             ],
             [
              0.1111111111111111,
              "#46039f"
             ],
             [
              0.2222222222222222,
              "#7201a8"
             ],
             [
              0.3333333333333333,
              "#9c179e"
             ],
             [
              0.4444444444444444,
              "#bd3786"
             ],
             [
              0.5555555555555556,
              "#d8576b"
             ],
             [
              0.6666666666666666,
              "#ed7953"
             ],
             [
              0.7777777777777778,
              "#fb9f3a"
             ],
             [
              0.8888888888888888,
              "#fdca26"
             ],
             [
              1,
              "#f0f921"
             ]
            ],
            "type": "contour"
           }
          ],
          "contourcarpet": [
           {
            "colorbar": {
             "outlinewidth": 0,
             "ticks": ""
            },
            "type": "contourcarpet"
           }
          ],
          "heatmap": [
           {
            "colorbar": {
             "outlinewidth": 0,
             "ticks": ""
            },
            "colorscale": [
             [
              0,
              "#0d0887"
             ],
             [
              0.1111111111111111,
              "#46039f"
             ],
             [
              0.2222222222222222,
              "#7201a8"
             ],
             [
              0.3333333333333333,
              "#9c179e"
             ],
             [
              0.4444444444444444,
              "#bd3786"
             ],
             [
              0.5555555555555556,
              "#d8576b"
             ],
             [
              0.6666666666666666,
              "#ed7953"
             ],
             [
              0.7777777777777778,
              "#fb9f3a"
             ],
             [
              0.8888888888888888,
              "#fdca26"
             ],
             [
              1,
              "#f0f921"
             ]
            ],
            "type": "heatmap"
           }
          ],
          "heatmapgl": [
           {
            "colorbar": {
             "outlinewidth": 0,
             "ticks": ""
            },
            "colorscale": [
             [
              0,
              "#0d0887"
             ],
             [
              0.1111111111111111,
              "#46039f"
             ],
             [
              0.2222222222222222,
              "#7201a8"
             ],
             [
              0.3333333333333333,
              "#9c179e"
             ],
             [
              0.4444444444444444,
              "#bd3786"
             ],
             [
              0.5555555555555556,
              "#d8576b"
             ],
             [
              0.6666666666666666,
              "#ed7953"
             ],
             [
              0.7777777777777778,
              "#fb9f3a"
             ],
             [
              0.8888888888888888,
              "#fdca26"
             ],
             [
              1,
              "#f0f921"
             ]
            ],
            "type": "heatmapgl"
           }
          ],
          "histogram": [
           {
            "marker": {
             "pattern": {
              "fillmode": "overlay",
              "size": 10,
              "solidity": 0.2
             }
            },
            "type": "histogram"
           }
          ],
          "histogram2d": [
           {
            "colorbar": {
             "outlinewidth": 0,
             "ticks": ""
            },
            "colorscale": [
             [
              0,
              "#0d0887"
             ],
             [
              0.1111111111111111,
              "#46039f"
             ],
             [
              0.2222222222222222,
              "#7201a8"
             ],
             [
              0.3333333333333333,
              "#9c179e"
             ],
             [
              0.4444444444444444,
              "#bd3786"
             ],
             [
              0.5555555555555556,
              "#d8576b"
             ],
             [
              0.6666666666666666,
              "#ed7953"
             ],
             [
              0.7777777777777778,
              "#fb9f3a"
             ],
             [
              0.8888888888888888,
              "#fdca26"
             ],
             [
              1,
              "#f0f921"
             ]
            ],
            "type": "histogram2d"
           }
          ],
          "histogram2dcontour": [
           {
            "colorbar": {
             "outlinewidth": 0,
             "ticks": ""
            },
            "colorscale": [
             [
              0,
              "#0d0887"
             ],
             [
              0.1111111111111111,
              "#46039f"
             ],
             [
              0.2222222222222222,
              "#7201a8"
             ],
             [
              0.3333333333333333,
              "#9c179e"
             ],
             [
              0.4444444444444444,
              "#bd3786"
             ],
             [
              0.5555555555555556,
              "#d8576b"
             ],
             [
              0.6666666666666666,
              "#ed7953"
             ],
             [
              0.7777777777777778,
              "#fb9f3a"
             ],
             [
              0.8888888888888888,
              "#fdca26"
             ],
             [
              1,
              "#f0f921"
             ]
            ],
            "type": "histogram2dcontour"
           }
          ],
          "mesh3d": [
           {
            "colorbar": {
             "outlinewidth": 0,
             "ticks": ""
            },
            "type": "mesh3d"
           }
          ],
          "parcoords": [
           {
            "line": {
             "colorbar": {
              "outlinewidth": 0,
              "ticks": ""
             }
            },
            "type": "parcoords"
           }
          ],
          "pie": [
           {
            "automargin": true,
            "type": "pie"
           }
          ],
          "scatter": [
           {
            "fillpattern": {
             "fillmode": "overlay",
             "size": 10,
             "solidity": 0.2
            },
            "type": "scatter"
           }
          ],
          "scatter3d": [
           {
            "line": {
             "colorbar": {
              "outlinewidth": 0,
              "ticks": ""
             }
            },
            "marker": {
             "colorbar": {
              "outlinewidth": 0,
              "ticks": ""
             }
            },
            "type": "scatter3d"
           }
          ],
          "scattercarpet": [
           {
            "marker": {
             "colorbar": {
              "outlinewidth": 0,
              "ticks": ""
             }
            },
            "type": "scattercarpet"
           }
          ],
          "scattergeo": [
           {
            "marker": {
             "colorbar": {
              "outlinewidth": 0,
              "ticks": ""
             }
            },
            "type": "scattergeo"
           }
          ],
          "scattergl": [
           {
            "marker": {
             "colorbar": {
              "outlinewidth": 0,
              "ticks": ""
             }
            },
            "type": "scattergl"
           }
          ],
          "scattermapbox": [
           {
            "marker": {
             "colorbar": {
              "outlinewidth": 0,
              "ticks": ""
             }
            },
            "type": "scattermapbox"
           }
          ],
          "scatterpolar": [
           {
            "marker": {
             "colorbar": {
              "outlinewidth": 0,
              "ticks": ""
             }
            },
            "type": "scatterpolar"
           }
          ],
          "scatterpolargl": [
           {
            "marker": {
             "colorbar": {
              "outlinewidth": 0,
              "ticks": ""
             }
            },
            "type": "scatterpolargl"
           }
          ],
          "scatterternary": [
           {
            "marker": {
             "colorbar": {
              "outlinewidth": 0,
              "ticks": ""
             }
            },
            "type": "scatterternary"
           }
          ],
          "surface": [
           {
            "colorbar": {
             "outlinewidth": 0,
             "ticks": ""
            },
            "colorscale": [
             [
              0,
              "#0d0887"
             ],
             [
              0.1111111111111111,
              "#46039f"
             ],
             [
              0.2222222222222222,
              "#7201a8"
             ],
             [
              0.3333333333333333,
              "#9c179e"
             ],
             [
              0.4444444444444444,
              "#bd3786"
             ],
             [
              0.5555555555555556,
              "#d8576b"
             ],
             [
              0.6666666666666666,
              "#ed7953"
             ],
             [
              0.7777777777777778,
              "#fb9f3a"
             ],
             [
              0.8888888888888888,
              "#fdca26"
             ],
             [
              1,
              "#f0f921"
             ]
            ],
            "type": "surface"
           }
          ],
          "table": [
           {
            "cells": {
             "fill": {
              "color": "#EBF0F8"
             },
             "line": {
              "color": "white"
             }
            },
            "header": {
             "fill": {
              "color": "#C8D4E3"
             },
             "line": {
              "color": "white"
             }
            },
            "type": "table"
           }
          ]
         },
         "layout": {
          "annotationdefaults": {
           "arrowcolor": "#2a3f5f",
           "arrowhead": 0,
           "arrowwidth": 1
          },
          "autotypenumbers": "strict",
          "coloraxis": {
           "colorbar": {
            "outlinewidth": 0,
            "ticks": ""
           }
          },
          "colorscale": {
           "diverging": [
            [
             0,
             "#8e0152"
            ],
            [
             0.1,
             "#c51b7d"
            ],
            [
             0.2,
             "#de77ae"
            ],
            [
             0.3,
             "#f1b6da"
            ],
            [
             0.4,
             "#fde0ef"
            ],
            [
             0.5,
             "#f7f7f7"
            ],
            [
             0.6,
             "#e6f5d0"
            ],
            [
             0.7,
             "#b8e186"
            ],
            [
             0.8,
             "#7fbc41"
            ],
            [
             0.9,
             "#4d9221"
            ],
            [
             1,
             "#276419"
            ]
           ],
           "sequential": [
            [
             0,
             "#0d0887"
            ],
            [
             0.1111111111111111,
             "#46039f"
            ],
            [
             0.2222222222222222,
             "#7201a8"
            ],
            [
             0.3333333333333333,
             "#9c179e"
            ],
            [
             0.4444444444444444,
             "#bd3786"
            ],
            [
             0.5555555555555556,
             "#d8576b"
            ],
            [
             0.6666666666666666,
             "#ed7953"
            ],
            [
             0.7777777777777778,
             "#fb9f3a"
            ],
            [
             0.8888888888888888,
             "#fdca26"
            ],
            [
             1,
             "#f0f921"
            ]
           ],
           "sequentialminus": [
            [
             0,
             "#0d0887"
            ],
            [
             0.1111111111111111,
             "#46039f"
            ],
            [
             0.2222222222222222,
             "#7201a8"
            ],
            [
             0.3333333333333333,
             "#9c179e"
            ],
            [
             0.4444444444444444,
             "#bd3786"
            ],
            [
             0.5555555555555556,
             "#d8576b"
            ],
            [
             0.6666666666666666,
             "#ed7953"
            ],
            [
             0.7777777777777778,
             "#fb9f3a"
            ],
            [
             0.8888888888888888,
             "#fdca26"
            ],
            [
             1,
             "#f0f921"
            ]
           ]
          },
          "colorway": [
           "#636efa",
           "#EF553B",
           "#00cc96",
           "#ab63fa",
           "#FFA15A",
           "#19d3f3",
           "#FF6692",
           "#B6E880",
           "#FF97FF",
           "#FECB52"
          ],
          "font": {
           "color": "#2a3f5f"
          },
          "geo": {
           "bgcolor": "white",
           "lakecolor": "white",
           "landcolor": "#E5ECF6",
           "showlakes": true,
           "showland": true,
           "subunitcolor": "white"
          },
          "hoverlabel": {
           "align": "left"
          },
          "hovermode": "closest",
          "mapbox": {
           "style": "light"
          },
          "paper_bgcolor": "white",
          "plot_bgcolor": "#E5ECF6",
          "polar": {
           "angularaxis": {
            "gridcolor": "white",
            "linecolor": "white",
            "ticks": ""
           },
           "bgcolor": "#E5ECF6",
           "radialaxis": {
            "gridcolor": "white",
            "linecolor": "white",
            "ticks": ""
           }
          },
          "scene": {
           "xaxis": {
            "backgroundcolor": "#E5ECF6",
            "gridcolor": "white",
            "gridwidth": 2,
            "linecolor": "white",
            "showbackground": true,
            "ticks": "",
            "zerolinecolor": "white"
           },
           "yaxis": {
            "backgroundcolor": "#E5ECF6",
            "gridcolor": "white",
            "gridwidth": 2,
            "linecolor": "white",
            "showbackground": true,
            "ticks": "",
            "zerolinecolor": "white"
           },
           "zaxis": {
            "backgroundcolor": "#E5ECF6",
            "gridcolor": "white",
            "gridwidth": 2,
            "linecolor": "white",
            "showbackground": true,
            "ticks": "",
            "zerolinecolor": "white"
           }
          },
          "shapedefaults": {
           "line": {
            "color": "#2a3f5f"
           }
          },
          "ternary": {
           "aaxis": {
            "gridcolor": "white",
            "linecolor": "white",
            "ticks": ""
           },
           "baxis": {
            "gridcolor": "white",
            "linecolor": "white",
            "ticks": ""
           },
           "bgcolor": "#E5ECF6",
           "caxis": {
            "gridcolor": "white",
            "linecolor": "white",
            "ticks": ""
           }
          },
          "title": {
           "x": 0.05
          },
          "xaxis": {
           "automargin": true,
           "gridcolor": "white",
           "linecolor": "white",
           "ticks": "",
           "title": {
            "standoff": 15
           },
           "zerolinecolor": "white",
           "zerolinewidth": 2
          },
          "yaxis": {
           "automargin": true,
           "gridcolor": "white",
           "linecolor": "white",
           "ticks": "",
           "title": {
            "standoff": 15
           },
           "zerolinecolor": "white",
           "zerolinewidth": 2
          }
         }
        },
        "xaxis": {
         "anchor": "y",
         "domain": [
          0,
          1
         ],
         "title": {
          "text": "rating"
         }
        },
        "yaxis": {
         "anchor": "x",
         "categoryarray": [
          "axl",
          "walker",
          "lg",
          "fujitsu",
          "microsoft",
          "avita",
          "realme",
          "honor",
          "jio",
          "gigabyte",
          "chuwi",
          "zebronics",
          "iball",
          "primebook",
          "ultimus",
          "wings",
          "msi",
          "samsung",
          "dell",
          "asus",
          "infinix",
          "apple",
          "lenovo",
          "acer",
          "hp",
          "tecno"
         ],
         "categoryorder": "array",
         "domain": [
          0,
          1
         ],
         "title": {
          "text": "brand"
         }
        }
       }
      }
     },
     "metadata": {},
     "output_type": "display_data"
    }
   ],
   "source": [
    "# Plot de Distribuição (BoxPlot) por Brand e Rating\n",
    "px.box(df_laptops, x='rating', y='brand', color='brand', orientation='h')"
   ]
  },
  {
   "cell_type": "code",
   "execution_count": 16,
   "metadata": {},
   "outputs": [
    {
     "data": {
      "application/vnd.plotly.v1+json": {
       "config": {
        "plotlyServerURL": "https://plot.ly"
       },
       "data": [
        {
         "hovertemplate": "brand=tecno<br>price=%{x}<br>rating=%{y}<extra></extra>",
         "legendgroup": "tecno",
         "marker": {
          "color": "#636efa",
          "symbol": "circle"
         },
         "mode": "markers",
         "name": "tecno",
         "orientation": "v",
         "showlegend": true,
         "type": "scatter",
         "x": [
          287.72,
          431.64
         ],
         "xaxis": "x",
         "y": [
          63,
          67
         ],
         "yaxis": "y"
        },
        {
         "hovertemplate": "brand=hp<br>price=%{x}<br>rating=%{y}<extra></extra>",
         "legendgroup": "hp",
         "marker": {
          "color": "#EF553B",
          "symbol": "circle"
         },
         "mode": "markers",
         "name": "hp",
         "orientation": "v",
         "showlegend": true,
         "type": "scatter",
         "x": [
          612.86,
          443.64,
          1846.86,
          665.51,
          231.46,
          947.36,
          863.51,
          647.52,
          1065.01,
          642.49,
          1403.11,
          849.25,
          1002.53,
          653.52,
          509.71,
          1774.9,
          839.53,
          863.4,
          934.27,
          695.5,
          599.66,
          731.48,
          803.44,
          623.54,
          671.51,
          621.26,
          596.97,
          524.11,
          418.45,
          389.67,
          520.51,
          372.87,
          485.72,
          2426.74,
          1989.7,
          731.48,
          611.65,
          1989.7,
          476.14,
          824.07,
          731.48,
          287.83,
          383.78,
          1112.99,
          875.51,
          1044.5,
          419.65,
          773.57,
          2116.82,
          1139.25,
          671.51,
          875.76,
          599.55,
          629.53,
          482.01,
          743.47,
          1073.29,
          419.65,
          611.54,
          563.57,
          851.41,
          623.54,
          695.5,
          581.08,
          959.35,
          767.46,
          231.46,
          718.06,
          683.61,
          487.04,
          767.46,
          299.71,
          500.72,
          1084.97,
          953.08,
          689.62,
          654.83,
          622.47,
          807.01,
          1862.56,
          1342.58,
          918.68,
          491.61,
          1192.98,
          1355.13,
          1091.39,
          430.56,
          4107.74,
          637.93,
          1110.47,
          3112.27,
          3514.05,
          1990.89,
          2020.89,
          467.62,
          347.69,
          1079.39,
          899.49,
          1367.23,
          623.54,
          1087.67,
          480.93,
          910.18,
          335.7,
          731.58,
          533.59,
          2194.67,
          696.46,
          383.67,
          1834.87,
          898.9,
          1432.01,
          1199.33,
          2870.01,
          1590.31,
          611.65,
          1259.74,
          1220.93,
          677.51,
          936.68,
          441.24,
          1762.91,
          1475.31,
          1678.95,
          275.73,
          524.53,
          520.51,
          311.71,
          1520.76,
          1598.35,
          395.66,
          1444.59,
          2759.2,
          611.54,
          287.83,
          1175.34,
          1158.44,
          1055.3,
          1039.71,
          1051.7,
          946.16,
          1007.32,
          467.62,
          611.54,
          1292.44,
          935.71,
          1387.71,
          1319.15,
          539.58,
          575.56,
          635.53,
          1391.11,
          539.58,
          644.03,
          467.62,
          1574.92,
          780.77,
          701.6,
          344.81,
          338.29,
          887.39,
          550.48,
          821.42,
          759.35,
          467.62,
          779.45,
          353.69,
          743.47,
          905.9,
          1104.23,
          839.42,
          808.35,
          779.45,
          395.66,
          737.47,
          1415.22,
          954.55,
          635.53,
          480.93,
          557.57,
          571.49,
          563.57,
          725.48,
          599.55,
          786.65,
          851.53,
          1319.15,
          630.73,
          773.57,
          623.54,
          407.64,
          1439.09,
          1724.94,
          449.63,
          1749.82,
          1661.22,
          517.99,
          695.5,
          394.46,
          474.35,
          251.74,
          323.81,
          371.78,
          1858.96,
          251.74
         ],
         "xaxis": "x",
         "y": [
          73,
          60,
          85,
          71,
          49,
          77,
          66,
          62,
          71,
          71,
          80,
          71,
          76,
          70,
          63,
          80,
          72,
          65,
          70,
          70,
          70,
          54,
          72,
          70,
          67,
          57,
          62,
          62,
          58,
          54,
          52,
          60,
          60,
          82,
          76,
          64,
          58,
          76,
          59,
          67,
          66,
          49,
          56,
          76,
          63,
          76,
          63,
          75,
          85,
          70,
          63,
          66,
          65,
          65,
          59,
          57,
          69,
          54,
          67,
          68,
          69,
          67,
          73,
          62,
          71,
          64,
          39,
          71,
          54,
          58,
          62,
          52,
          64,
          56,
          64,
          51,
          58,
          62,
          52,
          70,
          78,
          69,
          57,
          77,
          76,
          72,
          60,
          88,
          62,
          70,
          85,
          88,
          79,
          78,
          57,
          47,
          70,
          64,
          75,
          67,
          70,
          57,
          59,
          51,
          58,
          62,
          78,
          63,
          51,
          70,
          71,
          72,
          71,
          86,
          75,
          67,
          67,
          72,
          70,
          67,
          60,
          77,
          73,
          77,
          44,
          56,
          57,
          44,
          69,
          69,
          46,
          67,
          80,
          38,
          52,
          73,
          66,
          66,
          66,
          70,
          66,
          72,
          57,
          60,
          71,
          69,
          71,
          69,
          58,
          53,
          60,
          70,
          58,
          62,
          63,
          72,
          66,
          71,
          49,
          50,
          67,
          63,
          65,
          67,
          47,
          66,
          50,
          64,
          66,
          71,
          65,
          57,
          59,
          58,
          57,
          75,
          66,
          57,
          54,
          54,
          51,
          51,
          54,
          67,
          56,
          67,
          71,
          60,
          75,
          67,
          56,
          77,
          75,
          64,
          79,
          72,
          58,
          59,
          52,
          43,
          37,
          59,
          47,
          73,
          37
         ],
         "yaxis": "y"
        },
        {
         "hovertemplate": "brand=acer<br>price=%{x}<br>rating=%{y}<extra></extra>",
         "legendgroup": "acer",
         "marker": {
          "color": "#00cc96",
          "symbol": "circle"
         },
         "mode": "markers",
         "name": "acer",
         "orientation": "v",
         "showlegend": true,
         "type": "scatter",
         "x": [
          479.62,
          935.36,
          563.57,
          419.65,
          395.66,
          683.5,
          455.63,
          473.73,
          1139.25,
          575.56,
          1439.09,
          1259.19,
          371.68,
          467.62,
          395.66,
          875.4,
          2158.69,
          383.67,
          359.68,
          731.48,
          683.5,
          1439.09,
          335.7,
          563.57,
          359.68,
          557.69,
          599.55,
          539.69,
          515.7,
          563.57,
          557.57,
          683.5,
          477.34,
          287.72,
          767.57,
          791.44,
          599.55,
          739.99,
          305.71,
          479.62,
          419.65,
          515.6,
          683.5,
          635.53,
          443.64,
          503.6,
          497.61,
          1918.82,
          809.54,
          431.64,
          1559.02,
          905.49,
          503.6,
          863.4,
          369.28,
          359.56,
          353.69,
          515.6,
          491.61,
          659.52,
          394.46,
          347.8,
          479.62,
          599.55,
          698.84,
          677.51,
          670.43,
          1719.85,
          707.49,
          1715.04,
          479.62,
          441.36,
          1259.29,
          1379.12,
          539.63,
          1067.29,
          827.42,
          2399.76,
          934.17,
          551.58,
          395.66,
          384.87,
          2218.77,
          2998.23,
          335.7,
          917.48,
          359.68,
          827.53,
          905.5
         ],
         "xaxis": "x",
         "y": [
          62,
          63,
          64,
          60,
          58,
          71,
          60,
          62,
          72,
          67,
          75,
          70,
          49,
          64,
          54,
          64,
          78,
          57,
          59,
          70,
          67,
          75,
          49,
          67,
          47,
          64,
          64,
          64,
          62,
          63,
          63,
          56,
          62,
          38,
          65,
          62,
          67,
          65,
          38,
          58,
          62,
          50,
          72,
          70,
          63,
          60,
          45,
          79,
          65,
          58,
          80,
          59,
          64,
          70,
          59,
          50,
          57,
          50,
          60,
          69,
          56,
          53,
          51,
          50,
          59,
          52,
          50,
          70,
          62,
          78,
          58,
          47,
          65,
          66,
          64,
          65,
          73,
          74,
          72,
          59,
          50,
          44,
          71,
          77,
          52,
          71,
          54,
          71,
          67
         ],
         "yaxis": "y"
        },
        {
         "hovertemplate": "brand=lenovo<br>price=%{x}<br>rating=%{y}<extra></extra>",
         "legendgroup": "lenovo",
         "marker": {
          "color": "#ab63fa",
          "symbol": "circle"
         },
         "mode": "markers",
         "name": "lenovo",
         "orientation": "v",
         "showlegend": true,
         "type": "scatter",
         "x": [
          342.77,
          569.57,
          599.55,
          335.7,
          575.56,
          683.5,
          539.58,
          419.65,
          293.12,
          587.56,
          766.25,
          444.24,
          1139.25,
          959.35,
          491.61,
          491.61,
          547.51,
          431.64,
          539.58,
          1834.87,
          1585.41,
          740.14,
          309.31,
          587.56,
          846.61,
          803.44,
          1379.12,
          1199.22,
          395.54,
          263.73,
          400.58,
          1199.22,
          779.45,
          299.71,
          1799.01,
          683.5,
          659.52,
          755.57,
          437.64,
          551.58,
          563.57,
          755.46,
          887.39,
          743.47,
          898.3,
          383.67,
          2626.43,
          1477.47,
          827.42,
          1294.22,
          622.39,
          563.57,
          4306.77,
          661.92,
          743.47,
          593.66,
          443.64,
          414.85,
          389.67,
          668.03,
          841.82,
          1105.67,
          623.54,
          1019.32,
          961.75,
          1309.56,
          649.92,
          649.92,
          937.76,
          479.62,
          1117.66,
          1969.19,
          3585.9,
          1669.36,
          841.82,
          1240.06,
          479.62,
          1079.41,
          419.65,
          395.66,
          599.55,
          479.62,
          764.12,
          599.55,
          395.66,
          362.08,
          359.68,
          563.57,
          659.52,
          509.71,
          815.43,
          439.56,
          587.56,
          599.55,
          1043.31,
          791.44,
          2230.65,
          1547.03,
          1367.13,
          623.54,
          839.42,
          575.56,
          1201.62,
          1648.97,
          647.52,
          443.76,
          1057.7,
          755.46,
          796.23,
          863.4,
          741.9,
          443.64,
          745.87,
          707.49,
          721.88,
          769.86,
          503.6,
          539.58,
          545.58,
          569.57,
          705.81,
          767.46,
          841.82,
          440.04,
          805.84,
          563.57,
          1009.72,
          1043.31,
          935.36,
          449.75,
          707.49,
          527.59,
          833.47,
          1175.23,
          1097.28,
          1061.74,
          1199.22,
          1319.15,
          2700.79,
          1078.07,
          899.38,
          779.45,
          486.81,
          791.44,
          290.12,
          635.53,
          755.46,
          394.57,
          299.71,
          635.53,
          831.68,
          539.58,
          875.4,
          680.03,
          791.44,
          647.52,
          688.3,
          599.55,
          725.48,
          425.65,
          863.4,
          545.7,
          599.66,
          793.95,
          401.66,
          803.56,
          1499.17,
          905.49,
          491.61,
          563.57,
          457.8,
          335.7,
          886.31,
          419.65,
          419.65,
          562.49,
          359.68,
          557.57,
          624.87,
          898.17,
          377.67,
          634.45,
          633.18,
          757.86,
          971.46,
          1478.44,
          266.72,
          263.73,
          263.73,
          551.58,
          401.66,
          430.44,
          437.64,
          551.58,
          791.55,
          407.66,
          1754.29,
          521.71,
          371.68,
          386.19,
          719.48
         ],
         "xaxis": "x",
         "y": [
          62,
          66,
          59,
          59,
          71,
          69,
          51,
          66,
          47,
          70,
          63,
          59,
          80,
          70,
          66,
          64,
          67,
          60,
          64,
          77,
          83,
          60,
          50,
          64,
          62,
          69,
          63,
          67,
          53,
          53,
          53,
          78,
          74,
          49,
          64,
          57,
          58,
          62,
          50,
          58,
          62,
          66,
          57,
          60,
          63,
          51,
          64,
          67,
          66,
          75,
          65,
          57,
          86,
          70,
          69,
          54,
          53,
          57,
          56,
          69,
          67,
          75,
          63,
          58,
          57,
          63,
          65,
          69,
          64,
          56,
          58,
          84,
          85,
          78,
          58,
          77,
          57,
          65,
          57,
          57,
          67,
          58,
          60,
          62,
          51,
          46,
          51,
          63,
          64,
          43,
          69,
          58,
          59,
          65,
          71,
          63,
          89,
          83,
          79,
          67,
          66,
          56,
          65,
          83,
          69,
          52,
          58,
          60,
          62,
          58,
          58,
          53,
          63,
          58,
          59,
          69,
          58,
          60,
          56,
          65,
          64,
          60,
          60,
          60,
          62,
          65,
          64,
          62,
          60,
          59,
          64,
          58,
          60,
          72,
          71,
          73,
          73,
          75,
          73,
          63,
          69,
          72,
          57,
          69,
          38,
          62,
          65,
          59,
          50,
          70,
          62,
          58,
          69,
          64,
          67,
          66,
          67,
          64,
          67,
          59,
          70,
          57,
          62,
          62,
          57,
          63,
          75,
          62,
          57,
          57,
          59,
          54,
          64,
          53,
          54,
          56,
          59,
          57,
          66,
          64,
          50,
          67,
          58,
          67,
          71,
          78,
          47,
          43,
          45,
          58,
          56,
          56,
          60,
          66,
          55,
          52,
          75,
          54,
          50,
          48,
          64
         ],
         "yaxis": "y"
        },
        {
         "hovertemplate": "brand=apple<br>price=%{x}<br>rating=%{y}<extra></extra>",
         "legendgroup": "apple",
         "marker": {
          "color": "#FFA15A",
          "symbol": "circle"
         },
         "mode": "markers",
         "name": "apple",
         "orientation": "v",
         "showlegend": true,
         "type": "scatter",
         "x": [
          851.41,
          4796.16,
          1235.2,
          1439.09,
          1319.15,
          3476.88,
          4196.49,
          2997.15,
          2397.48,
          1738.92,
          1595,
          1642.97,
          2277.54,
          2877.21,
          2037.68
         ],
         "xaxis": "x",
         "y": [
          45,
          65,
          48,
          53,
          43,
          63,
          64,
          58,
          56,
          56,
          45,
          45,
          53,
          58,
          51
         ],
         "yaxis": "y"
        },
        {
         "hovertemplate": "brand=infinix<br>price=%{x}<br>rating=%{y}<extra></extra>",
         "legendgroup": "infinix",
         "marker": {
          "color": "#19d3f3",
          "symbol": "circle"
         },
         "mode": "markers",
         "name": "infinix",
         "orientation": "v",
         "showlegend": true,
         "type": "scatter",
         "x": [
          419.65,
          719.48,
          359.68,
          335.7,
          323.7,
          431.64,
          695.5,
          467.62,
          587.56,
          311.71,
          299.71,
          539.58,
          467.62
         ],
         "xaxis": "x",
         "y": [
          56,
          71,
          54,
          50,
          53,
          60,
          63,
          56,
          57,
          57,
          52,
          57,
          58
         ],
         "yaxis": "y"
        },
        {
         "hovertemplate": "brand=asus<br>price=%{x}<br>rating=%{y}<extra></extra>",
         "legendgroup": "asus",
         "marker": {
          "color": "#FF6692",
          "symbol": "circle"
         },
         "mode": "markers",
         "name": "asus",
         "orientation": "v",
         "showlegend": true,
         "type": "scatter",
         "x": [
          599.55,
          688.3,
          911.38,
          479.62,
          335.7,
          563.57,
          767.46,
          1362.1,
          3238.1,
          888.53,
          731.48,
          431.64,
          1307.16,
          695.5,
          869.4,
          835.81,
          563.57,
          647.52,
          979.73,
          1139.25,
          875.4,
          647.52,
          1031.31,
          815.43,
          902.5,
          803.44,
          1858.86,
          1156.03,
          527.59,
          635.53,
          401.66,
          875.4,
          575.56,
          1103.27,
          1019.32,
          215.76,
          875.4,
          899.38,
          1259.19,
          1080.12,
          1029.03,
          695.5,
          731.48,
          719.48,
          383.67,
          677.63,
          683.5,
          1439.09,
          2158.69,
          2278.62,
          1457.07,
          573.64,
          1079.29,
          667.9,
          839.42,
          947.36,
          1268.17,
          515.6,
          647.52,
          582.63,
          851.41,
          370.48,
          750.79,
          1738.92,
          393.68,
          362.19,
          1037.43,
          570.29,
          779.45,
          1188.68,
          335.7,
          959.11,
          1031.31,
          179.78,
          800.18,
          647.52,
          251.74,
          1039.7,
          832.79,
          887.39,
          1199.22,
          1033.7,
          338.09,
          881.07,
          539.58,
          724.15,
          887.39,
          839.42,
          1187.23,
          1091.28,
          1379.12,
          203.77,
          308.84,
          227.75,
          535.37,
          275.74,
          1180.97,
          911.38,
          911.38,
          1131.8,
          490.84,
          858.73,
          407.66,
          695.5,
          719.48,
          1079.29,
          450.81,
          443.64,
          1139.25,
          839.42,
          875.4,
          393.26,
          719.48,
          311.71,
          472.42,
          779.45,
          1067.41,
          839.54,
          1702.93,
          918.69,
          1559.02,
          767.46,
          887.39,
          1199.22,
          743.47,
          671.51,
          1002.64,
          1678.95,
          707.49,
          575.44,
          839.42,
          779.45,
          1142.97,
          420.76,
          335.7,
          593.55,
          587.56,
          923.37,
          479.62,
          1256.3,
          1521.84,
          2398.56,
          1583.01,
          1605.8,
          1858.86,
          1731.92,
          1139.25,
          3130.16,
          1798.89,
          1618.99,
          724.15,
          2517.29,
          1858.86,
          839.42,
          1018.84,
          1360.06,
          1271.18,
          1336.53,
          918.92,
          1127.37,
          1937.09,
          2398.56,
          431.64,
          370.92,
          555.15,
          1499.05,
          707.49,
          383.67,
          1583.13,
          1391.11,
          1079.29,
          1094.28,
          755.46,
          862.78,
          477.22,
          467.5,
          671.51,
          851.41,
          749.59,
          825.15,
          1031.31,
          551.58,
          719.48,
          1259.19,
          820.23,
          1175.23,
          1115.27,
          779.45,
          899.38,
          527.59,
          767.46,
          470.64,
          1559.02,
          707.49,
          953.47,
          609.08,
          742.39,
          2998.23,
          539.34,
          547.98,
          386.07,
          827.42,
          3358.03,
          659.52,
          935.36,
          803.44,
          719.48,
          791.44,
          539.58,
          815.43
         ],
         "xaxis": "x",
         "y": [
          70,
          71,
          76,
          57,
          57,
          65,
          72,
          77,
          83,
          75,
          67,
          64,
          78,
          72,
          62,
          64,
          57,
          63,
          71,
          70,
          70,
          66,
          75,
          72,
          72,
          64,
          88,
          79,
          60,
          65,
          56,
          70,
          62,
          71,
          69,
          35,
          71,
          65,
          76,
          77,
          76,
          70,
          66,
          60,
          59,
          64,
          58,
          80,
          77,
          79,
          78,
          64,
          67,
          64,
          70,
          65,
          71,
          59,
          65,
          60,
          65,
          50,
          73,
          85,
          37,
          44,
          67,
          58,
          65,
          69,
          45,
          63,
          70,
          38,
          66,
          51,
          38,
          73,
          58,
          62,
          70,
          71,
          43,
          67,
          59,
          60,
          64,
          63,
          73,
          64,
          72,
          37,
          41,
          37,
          57,
          37,
          72,
          65,
          66,
          70,
          57,
          62,
          56,
          69,
          63,
          76,
          59,
          57,
          72,
          66,
          72,
          54,
          64,
          45,
          57,
          72,
          75,
          70,
          82,
          72,
          71,
          65,
          60,
          75,
          64,
          60,
          72,
          83,
          71,
          59,
          69,
          64,
          66,
          53,
          45,
          58,
          63,
          64,
          54,
          71,
          73,
          89,
          84,
          75,
          83,
          73,
          77,
          89,
          76,
          80,
          67,
          73,
          82,
          66,
          72,
          75,
          66,
          76,
          66,
          70,
          84,
          71,
          56,
          45,
          56,
          78,
          60,
          59,
          73,
          73,
          70,
          75,
          59,
          64,
          52,
          48,
          59,
          63,
          56,
          62,
          60,
          57,
          56,
          71,
          64,
          64,
          70,
          62,
          60,
          53,
          58,
          51,
          74,
          62,
          67,
          59,
          67,
          89,
          58,
          59,
          53,
          72,
          83,
          68,
          68,
          65,
          64,
          68,
          59,
          68
         ],
         "yaxis": "y"
        },
        {
         "hovertemplate": "brand=dell<br>price=%{x}<br>rating=%{y}<extra></extra>",
         "legendgroup": "dell",
         "marker": {
          "color": "#B6E880",
          "symbol": "circle"
         },
         "mode": "markers",
         "name": "dell",
         "orientation": "v",
         "showlegend": true,
         "type": "scatter",
         "x": [
          419.65,
          818.42,
          974.94,
          475.53,
          1037.31,
          869.4,
          599.67,
          1007.32,
          827.42,
          1780.9,
          455.63,
          791.44,
          929.37,
          470.62,
          687.22,
          611.54,
          839.53,
          626.04,
          1055.3,
          2500.5,
          440.53,
          718.28,
          419.65,
          1823,
          1067.29,
          1265.18,
          617.5,
          683.5,
          743.47,
          815.89,
          675.71,
          682.18,
          683.5,
          611.54,
          467.62,
          791.44,
          1193.1,
          719.48,
          449.63,
          1031.31,
          2677.82,
          550.14,
          459.93,
          1187.23,
          395.66,
          1049.3,
          575.56,
          929.37,
          496.92,
          1046.9,
          725.48,
          447.13,
          1013.32,
          3088.18,
          1151.25,
          730.4,
          5450.88,
          814.23,
          3885.74,
          2266.63,
          5408.9,
          3597.9,
          785.57,
          887.39,
          471.22,
          719.48,
          501.42,
          1055.3,
          1085.28,
          491.61,
          523.99,
          671.51,
          575.56,
          955.75,
          3352.03,
          2422.55,
          490.41,
          2464.52,
          1138.17,
          743.47,
          1894.84,
          1996.78,
          1193.22,
          959.71,
          515.6,
          1067.17,
          863.4,
          887.39,
          743.47,
          1790.49,
          515.72,
          2254.64,
          1319.15,
          1559.02,
          976.29,
          2704.39,
          2650.42,
          4659.31,
          4419.44,
          575.56,
          623.54,
          461.63,
          539.58,
          670.43,
          1434.41,
          1055.3
         ],
         "xaxis": "x",
         "y": [
          60,
          66,
          71,
          66,
          66,
          70,
          60,
          72,
          74,
          78,
          59,
          53,
          73,
          63,
          62,
          68,
          62,
          56,
          67,
          80,
          53,
          58,
          49,
          59,
          64,
          75,
          58,
          57,
          53,
          53,
          57,
          57,
          56,
          57,
          56,
          57,
          62,
          53,
          58,
          57,
          78,
          56,
          58,
          63,
          58,
          62,
          54,
          59,
          57,
          60,
          63,
          58,
          60,
          85,
          63,
          65,
          83,
          65,
          85,
          80,
          83,
          89,
          60,
          63,
          60,
          56,
          53,
          56,
          67,
          58,
          52,
          60,
          60,
          70,
          88,
          82,
          54,
          72,
          71,
          56,
          78,
          82,
          59,
          58,
          57,
          56,
          52,
          57,
          56,
          76,
          52,
          79,
          73,
          75,
          69,
          78,
          83,
          82,
          83,
          63,
          63,
          59,
          62,
          59,
          68,
          72
         ],
         "yaxis": "y"
        },
        {
         "hovertemplate": "brand=samsung<br>price=%{x}<br>rating=%{y}<extra></extra>",
         "legendgroup": "samsung",
         "marker": {
          "color": "#FF97FF",
          "symbol": "circle"
         },
         "mode": "markers",
         "name": "samsung",
         "orientation": "v",
         "showlegend": true,
         "type": "scatter",
         "x": [
          779.45,
          539.58,
          575.56,
          839.42,
          911.38,
          659.52,
          1403.11
         ],
         "xaxis": "x",
         "y": [
          68,
          59,
          62,
          56,
          60,
          59,
          68
         ],
         "yaxis": "y"
        },
        {
         "hovertemplate": "brand=msi<br>price=%{x}<br>rating=%{y}<extra></extra>",
         "legendgroup": "msi",
         "marker": {
          "color": "#FECB52",
          "symbol": "circle"
         },
         "mode": "markers",
         "name": "msi",
         "orientation": "v",
         "showlegend": true,
         "type": "scatter",
         "x": [
          635.53,
          800.92,
          431.16,
          839.42,
          659.52,
          899.38,
          599.55,
          503.6,
          659.52,
          743.47,
          635.53,
          755.46,
          479.62,
          647.52,
          683.5,
          443.64,
          815.43,
          785.45,
          527.59,
          1271.18,
          1007.32,
          795.76,
          2398.56,
          5396.91,
          959.35,
          2357.66,
          755.46,
          1139.25,
          1163.24,
          1259.19,
          1798.89,
          1798.89,
          1379.12,
          671.51,
          707.49,
          671.51,
          2398.56,
          1439.09,
          3597.9,
          983.34,
          443.64,
          1912.07,
          1079.29,
          887.39,
          575.56,
          1343.14,
          695.5,
          659.52,
          1259.19,
          899.38,
          1139.25,
          611.54,
          1139.25,
          1019.32,
          731.48,
          623.54,
          635.53,
          1103.27,
          1055.3,
          3358.03,
          923.37,
          875.4,
          1043.31,
          2998.23,
          767.46,
          1163.24,
          983.34,
          839.42,
          3130.16,
          781.85,
          875.4,
          2638.43,
          2590.45,
          2062.74,
          839.42,
          743.47,
          527.59,
          587.56,
          503.6,
          455.63,
          569.57,
          1115.27,
          995.33,
          1048.11,
          606.76,
          731.48,
          647.52,
          491.61,
          1439.09,
          1103.27
         ],
         "xaxis": "x",
         "y": [
          71,
          76,
          58,
          70,
          65,
          75,
          65,
          63,
          60,
          73,
          65,
          73,
          62,
          65,
          72,
          62,
          73,
          69,
          62,
          79,
          78,
          69,
          80,
          89,
          70,
          83,
          71,
          76,
          76,
          77,
          79,
          76,
          77,
          69,
          71,
          70,
          83,
          73,
          89,
          63,
          58,
          77,
          71,
          65,
          67,
          78,
          67,
          65,
          78,
          69,
          77,
          66,
          77,
          75,
          63,
          70,
          65,
          75,
          75,
          85,
          69,
          71,
          73,
          86,
          71,
          77,
          65,
          70,
          89,
          65,
          71,
          84,
          87,
          80,
          70,
          72,
          53,
          54,
          60,
          58,
          59,
          72,
          74,
          67,
          59,
          61,
          58,
          56,
          76,
          73
         ],
         "yaxis": "y"
        },
        {
         "hovertemplate": "brand=wings<br>price=%{x}<br>rating=%{y}<extra></extra>",
         "legendgroup": "wings",
         "marker": {
          "color": "#636efa",
          "symbol": "circle"
         },
         "mode": "markers",
         "name": "wings",
         "orientation": "v",
         "showlegend": true,
         "type": "scatter",
         "x": [
          335.7,
          479.62,
          299.71,
          323.7
         ],
         "xaxis": "x",
         "y": [
          56,
          58,
          49,
          51
         ],
         "yaxis": "y"
        },
        {
         "hovertemplate": "brand=ultimus<br>price=%{x}<br>rating=%{y}<extra></extra>",
         "legendgroup": "ultimus",
         "marker": {
          "color": "#EF553B",
          "symbol": "circle"
         },
         "mode": "markers",
         "name": "ultimus",
         "orientation": "v",
         "showlegend": true,
         "type": "scatter",
         "x": [
          239.75,
          191.77,
          143.8,
          179.78,
          197.77,
          274.8
         ],
         "xaxis": "x",
         "y": [
          54,
          46,
          41,
          45,
          47,
          52
         ],
         "yaxis": "y"
        },
        {
         "hovertemplate": "brand=primebook<br>price=%{x}<br>rating=%{y}<extra></extra>",
         "legendgroup": "primebook",
         "marker": {
          "color": "#00cc96",
          "symbol": "circle"
         },
         "mode": "markers",
         "name": "primebook",
         "orientation": "v",
         "showlegend": true,
         "type": "scatter",
         "x": [
          179.78,
          155.79
         ],
         "xaxis": "x",
         "y": [
          26,
          31
         ],
         "yaxis": "y"
        },
        {
         "hovertemplate": "brand=iball<br>price=%{x}<br>rating=%{y}<extra></extra>",
         "legendgroup": "iball",
         "marker": {
          "color": "#ab63fa",
          "symbol": "circle"
         },
         "mode": "markers",
         "name": "iball",
         "orientation": "v",
         "showlegend": true,
         "type": "scatter",
         "x": [
          117.54
         ],
         "xaxis": "x",
         "y": [
          41
         ],
         "yaxis": "y"
        },
        {
         "hovertemplate": "brand=zebronics<br>price=%{x}<br>rating=%{y}<extra></extra>",
         "legendgroup": "zebronics",
         "marker": {
          "color": "#FFA15A",
          "symbol": "circle"
         },
         "mode": "markers",
         "name": "zebronics",
         "orientation": "v",
         "showlegend": true,
         "type": "scatter",
         "x": [
          407.66,
          395.66,
          635.53,
          359.68,
          479.62,
          395.66,
          611.54
         ],
         "xaxis": "x",
         "y": [
          65,
          63,
          72,
          56,
          66,
          60,
          72
         ],
         "yaxis": "y"
        },
        {
         "hovertemplate": "brand=chuwi<br>price=%{x}<br>rating=%{y}<extra></extra>",
         "legendgroup": "chuwi",
         "marker": {
          "color": "#19d3f3",
          "symbol": "circle"
         },
         "mode": "markers",
         "name": "chuwi",
         "orientation": "v",
         "showlegend": true,
         "type": "scatter",
         "x": [
          395.66,
          299.71,
          263.73,
          419.65
         ],
         "xaxis": "x",
         "y": [
          50,
          50,
          50,
          54
         ],
         "yaxis": "y"
        },
        {
         "hovertemplate": "brand=gigabyte<br>price=%{x}<br>rating=%{y}<extra></extra>",
         "legendgroup": "gigabyte",
         "marker": {
          "color": "#FF6692",
          "symbol": "circle"
         },
         "mode": "markers",
         "name": "gigabyte",
         "orientation": "v",
         "showlegend": true,
         "type": "scatter",
         "x": [
          863.4,
          1079.29
         ],
         "xaxis": "x",
         "y": [
          67,
          73
         ],
         "yaxis": "y"
        },
        {
         "hovertemplate": "brand=jio<br>price=%{x}<br>rating=%{y}<extra></extra>",
         "legendgroup": "jio",
         "marker": {
          "color": "#B6E880",
          "symbol": "circle"
         },
         "mode": "markers",
         "name": "jio",
         "orientation": "v",
         "showlegend": true,
         "type": "scatter",
         "x": [
          176.31
         ],
         "xaxis": "x",
         "y": [
          24
         ],
         "yaxis": "y"
        },
        {
         "hovertemplate": "brand=honor<br>price=%{x}<br>rating=%{y}<extra></extra>",
         "legendgroup": "honor",
         "marker": {
          "color": "#FF97FF",
          "symbol": "circle"
         },
         "mode": "markers",
         "name": "honor",
         "orientation": "v",
         "showlegend": true,
         "type": "scatter",
         "x": [
          659.52,
          527.59
         ],
         "xaxis": "x",
         "y": [
          66,
          59
         ],
         "yaxis": "y"
        },
        {
         "hovertemplate": "brand=realme<br>price=%{x}<br>rating=%{y}<extra></extra>",
         "legendgroup": "realme",
         "marker": {
          "color": "#FECB52",
          "symbol": "circle"
         },
         "mode": "markers",
         "name": "realme",
         "orientation": "v",
         "showlegend": true,
         "type": "scatter",
         "x": [
          443.64,
          515.6
         ],
         "xaxis": "x",
         "y": [
          52,
          62
         ],
         "yaxis": "y"
        },
        {
         "hovertemplate": "brand=avita<br>price=%{x}<br>rating=%{y}<extra></extra>",
         "legendgroup": "avita",
         "marker": {
          "color": "#636efa",
          "symbol": "circle"
         },
         "mode": "markers",
         "name": "avita",
         "orientation": "v",
         "showlegend": true,
         "type": "scatter",
         "x": [
          256.54,
          395.17,
          390.38,
          232.92,
          251.85
         ],
         "xaxis": "x",
         "y": [
          56,
          50,
          51,
          41,
          43
         ],
         "yaxis": "y"
        },
        {
         "hovertemplate": "brand=microsoft<br>price=%{x}<br>rating=%{y}<extra></extra>",
         "legendgroup": "microsoft",
         "marker": {
          "color": "#EF553B",
          "symbol": "circle"
         },
         "mode": "markers",
         "name": "microsoft",
         "orientation": "v",
         "showlegend": true,
         "type": "scatter",
         "x": [
          959.35,
          1169.24
         ],
         "xaxis": "x",
         "y": [
          58,
          60
         ],
         "yaxis": "y"
        },
        {
         "hovertemplate": "brand=fujitsu<br>price=%{x}<br>rating=%{y}<extra></extra>",
         "legendgroup": "fujitsu",
         "marker": {
          "color": "#00cc96",
          "symbol": "circle"
         },
         "mode": "markers",
         "name": "fujitsu",
         "orientation": "v",
         "showlegend": true,
         "type": "scatter",
         "x": [
          887.39,
          887.39,
          1319.15,
          1199.22,
          677.55
         ],
         "xaxis": "x",
         "y": [
          67,
          65,
          76,
          73,
          70
         ],
         "yaxis": "y"
        },
        {
         "hovertemplate": "brand=lg<br>price=%{x}<br>rating=%{y}<extra></extra>",
         "legendgroup": "lg",
         "marker": {
          "color": "#ab63fa",
          "symbol": "circle"
         },
         "mode": "markers",
         "name": "lg",
         "orientation": "v",
         "showlegend": true,
         "type": "scatter",
         "x": [
          1187.33,
          939.07,
          1828.98,
          1414.01,
          1076.99,
          1810.99,
          1421.2
         ],
         "xaxis": "x",
         "y": [
          67,
          72,
          78,
          69,
          75,
          72,
          72
         ],
         "yaxis": "y"
        },
        {
         "hovertemplate": "brand=walker<br>price=%{x}<br>rating=%{y}<extra></extra>",
         "legendgroup": "walker",
         "marker": {
          "color": "#FFA15A",
          "symbol": "circle"
         },
         "mode": "markers",
         "name": "walker",
         "orientation": "v",
         "showlegend": true,
         "type": "scatter",
         "x": [
          191.77
         ],
         "xaxis": "x",
         "y": [
          37
         ],
         "yaxis": "y"
        },
        {
         "hovertemplate": "brand=axl<br>price=%{x}<br>rating=%{y}<extra></extra>",
         "legendgroup": "axl",
         "marker": {
          "color": "#19d3f3",
          "symbol": "circle"
         },
         "mode": "markers",
         "name": "axl",
         "orientation": "v",
         "showlegend": true,
         "type": "scatter",
         "x": [
          215.76,
          179.78
         ],
         "xaxis": "x",
         "y": [
          38,
          37
         ],
         "yaxis": "y"
        }
       ],
       "layout": {
        "legend": {
         "title": {
          "text": "brand"
         },
         "tracegroupgap": 0
        },
        "margin": {
         "t": 60
        },
        "template": {
         "data": {
          "bar": [
           {
            "error_x": {
             "color": "#2a3f5f"
            },
            "error_y": {
             "color": "#2a3f5f"
            },
            "marker": {
             "line": {
              "color": "#E5ECF6",
              "width": 0.5
             },
             "pattern": {
              "fillmode": "overlay",
              "size": 10,
              "solidity": 0.2
             }
            },
            "type": "bar"
           }
          ],
          "barpolar": [
           {
            "marker": {
             "line": {
              "color": "#E5ECF6",
              "width": 0.5
             },
             "pattern": {
              "fillmode": "overlay",
              "size": 10,
              "solidity": 0.2
             }
            },
            "type": "barpolar"
           }
          ],
          "carpet": [
           {
            "aaxis": {
             "endlinecolor": "#2a3f5f",
             "gridcolor": "white",
             "linecolor": "white",
             "minorgridcolor": "white",
             "startlinecolor": "#2a3f5f"
            },
            "baxis": {
             "endlinecolor": "#2a3f5f",
             "gridcolor": "white",
             "linecolor": "white",
             "minorgridcolor": "white",
             "startlinecolor": "#2a3f5f"
            },
            "type": "carpet"
           }
          ],
          "choropleth": [
           {
            "colorbar": {
             "outlinewidth": 0,
             "ticks": ""
            },
            "type": "choropleth"
           }
          ],
          "contour": [
           {
            "colorbar": {
             "outlinewidth": 0,
             "ticks": ""
            },
            "colorscale": [
             [
              0,
              "#0d0887"
             ],
             [
              0.1111111111111111,
              "#46039f"
             ],
             [
              0.2222222222222222,
              "#7201a8"
             ],
             [
              0.3333333333333333,
              "#9c179e"
             ],
             [
              0.4444444444444444,
              "#bd3786"
             ],
             [
              0.5555555555555556,
              "#d8576b"
             ],
             [
              0.6666666666666666,
              "#ed7953"
             ],
             [
              0.7777777777777778,
              "#fb9f3a"
             ],
             [
              0.8888888888888888,
              "#fdca26"
             ],
             [
              1,
              "#f0f921"
             ]
            ],
            "type": "contour"
           }
          ],
          "contourcarpet": [
           {
            "colorbar": {
             "outlinewidth": 0,
             "ticks": ""
            },
            "type": "contourcarpet"
           }
          ],
          "heatmap": [
           {
            "colorbar": {
             "outlinewidth": 0,
             "ticks": ""
            },
            "colorscale": [
             [
              0,
              "#0d0887"
             ],
             [
              0.1111111111111111,
              "#46039f"
             ],
             [
              0.2222222222222222,
              "#7201a8"
             ],
             [
              0.3333333333333333,
              "#9c179e"
             ],
             [
              0.4444444444444444,
              "#bd3786"
             ],
             [
              0.5555555555555556,
              "#d8576b"
             ],
             [
              0.6666666666666666,
              "#ed7953"
             ],
             [
              0.7777777777777778,
              "#fb9f3a"
             ],
             [
              0.8888888888888888,
              "#fdca26"
             ],
             [
              1,
              "#f0f921"
             ]
            ],
            "type": "heatmap"
           }
          ],
          "heatmapgl": [
           {
            "colorbar": {
             "outlinewidth": 0,
             "ticks": ""
            },
            "colorscale": [
             [
              0,
              "#0d0887"
             ],
             [
              0.1111111111111111,
              "#46039f"
             ],
             [
              0.2222222222222222,
              "#7201a8"
             ],
             [
              0.3333333333333333,
              "#9c179e"
             ],
             [
              0.4444444444444444,
              "#bd3786"
             ],
             [
              0.5555555555555556,
              "#d8576b"
             ],
             [
              0.6666666666666666,
              "#ed7953"
             ],
             [
              0.7777777777777778,
              "#fb9f3a"
             ],
             [
              0.8888888888888888,
              "#fdca26"
             ],
             [
              1,
              "#f0f921"
             ]
            ],
            "type": "heatmapgl"
           }
          ],
          "histogram": [
           {
            "marker": {
             "pattern": {
              "fillmode": "overlay",
              "size": 10,
              "solidity": 0.2
             }
            },
            "type": "histogram"
           }
          ],
          "histogram2d": [
           {
            "colorbar": {
             "outlinewidth": 0,
             "ticks": ""
            },
            "colorscale": [
             [
              0,
              "#0d0887"
             ],
             [
              0.1111111111111111,
              "#46039f"
             ],
             [
              0.2222222222222222,
              "#7201a8"
             ],
             [
              0.3333333333333333,
              "#9c179e"
             ],
             [
              0.4444444444444444,
              "#bd3786"
             ],
             [
              0.5555555555555556,
              "#d8576b"
             ],
             [
              0.6666666666666666,
              "#ed7953"
             ],
             [
              0.7777777777777778,
              "#fb9f3a"
             ],
             [
              0.8888888888888888,
              "#fdca26"
             ],
             [
              1,
              "#f0f921"
             ]
            ],
            "type": "histogram2d"
           }
          ],
          "histogram2dcontour": [
           {
            "colorbar": {
             "outlinewidth": 0,
             "ticks": ""
            },
            "colorscale": [
             [
              0,
              "#0d0887"
             ],
             [
              0.1111111111111111,
              "#46039f"
             ],
             [
              0.2222222222222222,
              "#7201a8"
             ],
             [
              0.3333333333333333,
              "#9c179e"
             ],
             [
              0.4444444444444444,
              "#bd3786"
             ],
             [
              0.5555555555555556,
              "#d8576b"
             ],
             [
              0.6666666666666666,
              "#ed7953"
             ],
             [
              0.7777777777777778,
              "#fb9f3a"
             ],
             [
              0.8888888888888888,
              "#fdca26"
             ],
             [
              1,
              "#f0f921"
             ]
            ],
            "type": "histogram2dcontour"
           }
          ],
          "mesh3d": [
           {
            "colorbar": {
             "outlinewidth": 0,
             "ticks": ""
            },
            "type": "mesh3d"
           }
          ],
          "parcoords": [
           {
            "line": {
             "colorbar": {
              "outlinewidth": 0,
              "ticks": ""
             }
            },
            "type": "parcoords"
           }
          ],
          "pie": [
           {
            "automargin": true,
            "type": "pie"
           }
          ],
          "scatter": [
           {
            "fillpattern": {
             "fillmode": "overlay",
             "size": 10,
             "solidity": 0.2
            },
            "type": "scatter"
           }
          ],
          "scatter3d": [
           {
            "line": {
             "colorbar": {
              "outlinewidth": 0,
              "ticks": ""
             }
            },
            "marker": {
             "colorbar": {
              "outlinewidth": 0,
              "ticks": ""
             }
            },
            "type": "scatter3d"
           }
          ],
          "scattercarpet": [
           {
            "marker": {
             "colorbar": {
              "outlinewidth": 0,
              "ticks": ""
             }
            },
            "type": "scattercarpet"
           }
          ],
          "scattergeo": [
           {
            "marker": {
             "colorbar": {
              "outlinewidth": 0,
              "ticks": ""
             }
            },
            "type": "scattergeo"
           }
          ],
          "scattergl": [
           {
            "marker": {
             "colorbar": {
              "outlinewidth": 0,
              "ticks": ""
             }
            },
            "type": "scattergl"
           }
          ],
          "scattermapbox": [
           {
            "marker": {
             "colorbar": {
              "outlinewidth": 0,
              "ticks": ""
             }
            },
            "type": "scattermapbox"
           }
          ],
          "scatterpolar": [
           {
            "marker": {
             "colorbar": {
              "outlinewidth": 0,
              "ticks": ""
             }
            },
            "type": "scatterpolar"
           }
          ],
          "scatterpolargl": [
           {
            "marker": {
             "colorbar": {
              "outlinewidth": 0,
              "ticks": ""
             }
            },
            "type": "scatterpolargl"
           }
          ],
          "scatterternary": [
           {
            "marker": {
             "colorbar": {
              "outlinewidth": 0,
              "ticks": ""
             }
            },
            "type": "scatterternary"
           }
          ],
          "surface": [
           {
            "colorbar": {
             "outlinewidth": 0,
             "ticks": ""
            },
            "colorscale": [
             [
              0,
              "#0d0887"
             ],
             [
              0.1111111111111111,
              "#46039f"
             ],
             [
              0.2222222222222222,
              "#7201a8"
             ],
             [
              0.3333333333333333,
              "#9c179e"
             ],
             [
              0.4444444444444444,
              "#bd3786"
             ],
             [
              0.5555555555555556,
              "#d8576b"
             ],
             [
              0.6666666666666666,
              "#ed7953"
             ],
             [
              0.7777777777777778,
              "#fb9f3a"
             ],
             [
              0.8888888888888888,
              "#fdca26"
             ],
             [
              1,
              "#f0f921"
             ]
            ],
            "type": "surface"
           }
          ],
          "table": [
           {
            "cells": {
             "fill": {
              "color": "#EBF0F8"
             },
             "line": {
              "color": "white"
             }
            },
            "header": {
             "fill": {
              "color": "#C8D4E3"
             },
             "line": {
              "color": "white"
             }
            },
            "type": "table"
           }
          ]
         },
         "layout": {
          "annotationdefaults": {
           "arrowcolor": "#2a3f5f",
           "arrowhead": 0,
           "arrowwidth": 1
          },
          "autotypenumbers": "strict",
          "coloraxis": {
           "colorbar": {
            "outlinewidth": 0,
            "ticks": ""
           }
          },
          "colorscale": {
           "diverging": [
            [
             0,
             "#8e0152"
            ],
            [
             0.1,
             "#c51b7d"
            ],
            [
             0.2,
             "#de77ae"
            ],
            [
             0.3,
             "#f1b6da"
            ],
            [
             0.4,
             "#fde0ef"
            ],
            [
             0.5,
             "#f7f7f7"
            ],
            [
             0.6,
             "#e6f5d0"
            ],
            [
             0.7,
             "#b8e186"
            ],
            [
             0.8,
             "#7fbc41"
            ],
            [
             0.9,
             "#4d9221"
            ],
            [
             1,
             "#276419"
            ]
           ],
           "sequential": [
            [
             0,
             "#0d0887"
            ],
            [
             0.1111111111111111,
             "#46039f"
            ],
            [
             0.2222222222222222,
             "#7201a8"
            ],
            [
             0.3333333333333333,
             "#9c179e"
            ],
            [
             0.4444444444444444,
             "#bd3786"
            ],
            [
             0.5555555555555556,
             "#d8576b"
            ],
            [
             0.6666666666666666,
             "#ed7953"
            ],
            [
             0.7777777777777778,
             "#fb9f3a"
            ],
            [
             0.8888888888888888,
             "#fdca26"
            ],
            [
             1,
             "#f0f921"
            ]
           ],
           "sequentialminus": [
            [
             0,
             "#0d0887"
            ],
            [
             0.1111111111111111,
             "#46039f"
            ],
            [
             0.2222222222222222,
             "#7201a8"
            ],
            [
             0.3333333333333333,
             "#9c179e"
            ],
            [
             0.4444444444444444,
             "#bd3786"
            ],
            [
             0.5555555555555556,
             "#d8576b"
            ],
            [
             0.6666666666666666,
             "#ed7953"
            ],
            [
             0.7777777777777778,
             "#fb9f3a"
            ],
            [
             0.8888888888888888,
             "#fdca26"
            ],
            [
             1,
             "#f0f921"
            ]
           ]
          },
          "colorway": [
           "#636efa",
           "#EF553B",
           "#00cc96",
           "#ab63fa",
           "#FFA15A",
           "#19d3f3",
           "#FF6692",
           "#B6E880",
           "#FF97FF",
           "#FECB52"
          ],
          "font": {
           "color": "#2a3f5f"
          },
          "geo": {
           "bgcolor": "white",
           "lakecolor": "white",
           "landcolor": "#E5ECF6",
           "showlakes": true,
           "showland": true,
           "subunitcolor": "white"
          },
          "hoverlabel": {
           "align": "left"
          },
          "hovermode": "closest",
          "mapbox": {
           "style": "light"
          },
          "paper_bgcolor": "white",
          "plot_bgcolor": "#E5ECF6",
          "polar": {
           "angularaxis": {
            "gridcolor": "white",
            "linecolor": "white",
            "ticks": ""
           },
           "bgcolor": "#E5ECF6",
           "radialaxis": {
            "gridcolor": "white",
            "linecolor": "white",
            "ticks": ""
           }
          },
          "scene": {
           "xaxis": {
            "backgroundcolor": "#E5ECF6",
            "gridcolor": "white",
            "gridwidth": 2,
            "linecolor": "white",
            "showbackground": true,
            "ticks": "",
            "zerolinecolor": "white"
           },
           "yaxis": {
            "backgroundcolor": "#E5ECF6",
            "gridcolor": "white",
            "gridwidth": 2,
            "linecolor": "white",
            "showbackground": true,
            "ticks": "",
            "zerolinecolor": "white"
           },
           "zaxis": {
            "backgroundcolor": "#E5ECF6",
            "gridcolor": "white",
            "gridwidth": 2,
            "linecolor": "white",
            "showbackground": true,
            "ticks": "",
            "zerolinecolor": "white"
           }
          },
          "shapedefaults": {
           "line": {
            "color": "#2a3f5f"
           }
          },
          "ternary": {
           "aaxis": {
            "gridcolor": "white",
            "linecolor": "white",
            "ticks": ""
           },
           "baxis": {
            "gridcolor": "white",
            "linecolor": "white",
            "ticks": ""
           },
           "bgcolor": "#E5ECF6",
           "caxis": {
            "gridcolor": "white",
            "linecolor": "white",
            "ticks": ""
           }
          },
          "title": {
           "x": 0.05
          },
          "xaxis": {
           "automargin": true,
           "gridcolor": "white",
           "linecolor": "white",
           "ticks": "",
           "title": {
            "standoff": 15
           },
           "zerolinecolor": "white",
           "zerolinewidth": 2
          },
          "yaxis": {
           "automargin": true,
           "gridcolor": "white",
           "linecolor": "white",
           "ticks": "",
           "title": {
            "standoff": 15
           },
           "zerolinecolor": "white",
           "zerolinewidth": 2
          }
         }
        },
        "xaxis": {
         "anchor": "y",
         "domain": [
          0,
          1
         ],
         "title": {
          "text": "price"
         }
        },
        "yaxis": {
         "anchor": "x",
         "domain": [
          0,
          1
         ],
         "title": {
          "text": "rating"
         }
        }
       }
      }
     },
     "metadata": {},
     "output_type": "display_data"
    }
   ],
   "source": [
    "# Scatterplot de Price e Rating\n",
    "px.scatter(df_laptops, x='price', y='rating', color='brand')"
   ]
  },
  {
   "cell_type": "markdown",
   "metadata": {},
   "source": [
    "### Treinar modelos clustering hierarquico"
   ]
  },
  {
   "cell_type": "code",
   "execution_count": 17,
   "metadata": {},
   "outputs": [],
   "source": [
    "# Selecionar as colunas para clusterização\n",
    "X = df_laptops.copy()\n",
    "\n",
    "# Remover colunas desnecessárias\n",
    "X.drop(columns=['index', 'model'], axis=1, inplace=True)"
   ]
  },
  {
   "cell_type": "code",
   "execution_count": 18,
   "metadata": {},
   "outputs": [],
   "source": [
    "# Separando variáveis numéricas e categóricas\n",
    "numeric_features = ['price', 'rating', 'num_cores', 'num_threads', 'ram_memory', 'primary_storage_capacity', 'display_size', 'resolution_width', 'resolution_height']\n",
    "categorical_features = ['brand', 'processor_brand', 'gpu_brand', 'gpu_type', 'os']"
   ]
  },
  {
   "cell_type": "code",
   "execution_count": 19,
   "metadata": {},
   "outputs": [],
   "source": [
    "# Definir transformações\n",
    "numeric_transformer = StandardScaler()\n",
    "categorical_transformer = OneHotEncoder()"
   ]
  },
  {
   "cell_type": "code",
   "execution_count": 20,
   "metadata": {},
   "outputs": [],
   "source": [
    "# Criar Pre Processador de Transformações\n",
    "preprocessor = ColumnTransformer(\n",
    "  transformers=[\n",
    "    ('num', numeric_transformer, numeric_features),\n",
    "    ('cat', categorical_transformer, categorical_features)\n",
    "  ]\n",
    ")"
   ]
  },
  {
   "cell_type": "code",
   "execution_count": 21,
   "metadata": {},
   "outputs": [],
   "source": [
    "# Transformar os dados\n",
    "X_transformed = preprocessor.fit_transform(X)"
   ]
  },
  {
   "cell_type": "code",
   "execution_count": 22,
   "metadata": {},
   "outputs": [
    {
     "data": {
      "text/plain": [
       "<991x54 sparse matrix of type '<class 'numpy.float64'>'\n",
       "\twith 13874 stored elements in Compressed Sparse Row format>"
      ]
     },
     "execution_count": 22,
     "metadata": {},
     "output_type": "execute_result"
    }
   ],
   "source": [
    "# Visualizar X_transformed\n",
    "X_transformed"
   ]
  },
  {
   "cell_type": "code",
   "execution_count": 23,
   "metadata": {},
   "outputs": [],
   "source": [
    "def hierarchical_aglomerative_objective(trial):\n",
    "  # Definindo os hiperparâmetros a serem ajustados\n",
    "  n_clusters = trial.suggest_int('n_clusters', 10, 150)\n",
    "  # Linkage = Critério de distância entre dois conjuntos para formar os clusters\n",
    "  # Ward = Variância\n",
    "  # Average = Média\n",
    "  # Complete = Máxima\n",
    "  # Single = Mínima\n",
    "  linkage = trial.suggest_categorical('linkage', ['ward', 'average', 'complete', 'single'])\n",
    "\n",
    "  # Instânciar o modelo\n",
    "  hierarchical_model = AgglomerativeClustering(linkage=linkage, n_clusters=n_clusters)\n",
    "\n",
    "  # Treinar o modelo e já executar a clusterização\n",
    "  y = hierarchical_model.fit_predict(X_transformed.toarray())\n",
    "\n",
    "  # Calcular o Silhouette Score\n",
    "  silhouette_avg = silhouette_score(X_transformed, y)\n",
    "\n",
    "  return silhouette_avg"
   ]
  },
  {
   "cell_type": "code",
   "execution_count": 24,
   "metadata": {},
   "outputs": [
    {
     "name": "stderr",
     "output_type": "stream",
     "text": [
      "[I 2024-11-22 11:24:56,156] A new study created in memory with name: no-name-2941ff55-698e-4858-84db-ba80e996ff6d\n"
     ]
    }
   ],
   "source": [
    "# Criar um estudo no Optuna\n",
    "search_space_ag = {'n_clusters': range(10, 151), 'linkage': ['ward', 'average', 'complete', 'single']}\n",
    "sampler_ag = optuna.samplers.GridSampler(search_space=search_space_ag)\n",
    "estudo_ag = optuna.create_study(direction='maximize', sampler=sampler_ag)"
   ]
  },
  {
   "cell_type": "code",
   "execution_count": 25,
   "metadata": {},
   "outputs": [
    {
     "name": "stderr",
     "output_type": "stream",
     "text": [
      "[I 2024-11-22 11:24:56,359] Trial 0 finished with value: 0.2234907963314824 and parameters: {'n_clusters': 108, 'linkage': 'average'}. Best is trial 0 with value: 0.2234907963314824.\n",
      "[I 2024-11-22 11:24:56,454] Trial 1 finished with value: 0.17524794730527618 and parameters: {'n_clusters': 44, 'linkage': 'complete'}. Best is trial 0 with value: 0.2234907963314824.\n",
      "[I 2024-11-22 11:24:56,551] Trial 2 finished with value: 0.18192511775951023 and parameters: {'n_clusters': 57, 'linkage': 'average'}. Best is trial 0 with value: 0.2234907963314824.\n",
      "[I 2024-11-22 11:24:56,650] Trial 3 finished with value: 0.17426651499876017 and parameters: {'n_clusters': 46, 'linkage': 'complete'}. Best is trial 0 with value: 0.2234907963314824.\n",
      "[I 2024-11-22 11:24:56,749] Trial 4 finished with value: 0.22831449937222206 and parameters: {'n_clusters': 140, 'linkage': 'complete'}. Best is trial 4 with value: 0.22831449937222206.\n",
      "[I 2024-11-22 11:24:56,850] Trial 5 finished with value: 0.2354443546476447 and parameters: {'n_clusters': 150, 'linkage': 'average'}. Best is trial 5 with value: 0.2354443546476447.\n",
      "[I 2024-11-22 11:24:56,967] Trial 6 finished with value: 0.2318880104031542 and parameters: {'n_clusters': 145, 'linkage': 'complete'}. Best is trial 5 with value: 0.2354443546476447.\n",
      "[I 2024-11-22 11:24:57,073] Trial 7 finished with value: 0.21637852586425793 and parameters: {'n_clusters': 112, 'linkage': 'complete'}. Best is trial 5 with value: 0.2354443546476447.\n",
      "[I 2024-11-22 11:24:57,177] Trial 8 finished with value: -0.012385366737670744 and parameters: {'n_clusters': 103, 'linkage': 'single'}. Best is trial 5 with value: 0.2354443546476447.\n",
      "[I 2024-11-22 11:24:57,334] Trial 9 finished with value: 0.22484977768132305 and parameters: {'n_clusters': 111, 'linkage': 'average'}. Best is trial 5 with value: 0.2354443546476447.\n",
      "[I 2024-11-22 11:24:57,432] Trial 10 finished with value: 0.20088251312402894 and parameters: {'n_clusters': 75, 'linkage': 'complete'}. Best is trial 5 with value: 0.2354443546476447.\n",
      "[I 2024-11-22 11:24:57,534] Trial 11 finished with value: 0.22380660507267972 and parameters: {'n_clusters': 114, 'linkage': 'average'}. Best is trial 5 with value: 0.2354443546476447.\n",
      "[I 2024-11-22 11:24:57,633] Trial 12 finished with value: -0.006948212977119697 and parameters: {'n_clusters': 98, 'linkage': 'single'}. Best is trial 5 with value: 0.2354443546476447.\n",
      "[I 2024-11-22 11:24:57,736] Trial 13 finished with value: 0.2185755902202045 and parameters: {'n_clusters': 119, 'linkage': 'average'}. Best is trial 5 with value: 0.2354443546476447.\n",
      "[I 2024-11-22 11:24:57,836] Trial 14 finished with value: 0.20476442037998793 and parameters: {'n_clusters': 73, 'linkage': 'complete'}. Best is trial 5 with value: 0.2354443546476447.\n",
      "[I 2024-11-22 11:24:57,936] Trial 15 finished with value: 0.20209964266736868 and parameters: {'n_clusters': 76, 'linkage': 'complete'}. Best is trial 5 with value: 0.2354443546476447.\n",
      "[I 2024-11-22 11:24:58,037] Trial 16 finished with value: 0.2216944255575408 and parameters: {'n_clusters': 138, 'linkage': 'complete'}. Best is trial 5 with value: 0.2354443546476447.\n",
      "[I 2024-11-22 11:24:58,138] Trial 17 finished with value: 0.21575502601728042 and parameters: {'n_clusters': 120, 'linkage': 'complete'}. Best is trial 5 with value: 0.2354443546476447.\n",
      "[I 2024-11-22 11:24:58,240] Trial 18 finished with value: 0.21982110245597525 and parameters: {'n_clusters': 100, 'linkage': 'average'}. Best is trial 5 with value: 0.2354443546476447.\n",
      "[I 2024-11-22 11:24:58,347] Trial 19 finished with value: 0.15047744246806405 and parameters: {'n_clusters': 24, 'linkage': 'average'}. Best is trial 5 with value: 0.2354443546476447.\n",
      "[I 2024-11-22 11:24:58,454] Trial 20 finished with value: -0.020967760020367987 and parameters: {'n_clusters': 43, 'linkage': 'single'}. Best is trial 5 with value: 0.2354443546476447.\n",
      "[I 2024-11-22 11:24:58,557] Trial 21 finished with value: 0.21856440845928937 and parameters: {'n_clusters': 41, 'linkage': 'ward'}. Best is trial 5 with value: 0.2354443546476447.\n",
      "[I 2024-11-22 11:24:58,662] Trial 22 finished with value: 0.2466785062862802 and parameters: {'n_clusters': 85, 'linkage': 'ward'}. Best is trial 22 with value: 0.2466785062862802.\n",
      "[I 2024-11-22 11:24:58,768] Trial 23 finished with value: 0.29008750095185715 and parameters: {'n_clusters': 117, 'linkage': 'ward'}. Best is trial 23 with value: 0.29008750095185715.\n",
      "[I 2024-11-22 11:24:58,876] Trial 24 finished with value: 0.21574459736792392 and parameters: {'n_clusters': 88, 'linkage': 'average'}. Best is trial 23 with value: 0.29008750095185715.\n",
      "[I 2024-11-22 11:24:58,985] Trial 25 finished with value: 0.22590420165997852 and parameters: {'n_clusters': 47, 'linkage': 'ward'}. Best is trial 23 with value: 0.29008750095185715.\n",
      "[I 2024-11-22 11:24:59,093] Trial 26 finished with value: 0.2917053297000771 and parameters: {'n_clusters': 12, 'linkage': 'single'}. Best is trial 26 with value: 0.2917053297000771.\n",
      "[I 2024-11-22 11:24:59,200] Trial 27 finished with value: -0.011608217066892664 and parameters: {'n_clusters': 99, 'linkage': 'single'}. Best is trial 26 with value: 0.2917053297000771.\n",
      "[I 2024-11-22 11:24:59,309] Trial 28 finished with value: 0.16949061368130935 and parameters: {'n_clusters': 40, 'linkage': 'complete'}. Best is trial 26 with value: 0.2917053297000771.\n",
      "[I 2024-11-22 11:24:59,419] Trial 29 finished with value: 0.24805437685908638 and parameters: {'n_clusters': 88, 'linkage': 'ward'}. Best is trial 26 with value: 0.2917053297000771.\n",
      "[I 2024-11-22 11:24:59,528] Trial 30 finished with value: 0.20182401762192184 and parameters: {'n_clusters': 65, 'linkage': 'average'}. Best is trial 26 with value: 0.2917053297000771.\n",
      "[I 2024-11-22 11:24:59,638] Trial 31 finished with value: 0.20313139238453612 and parameters: {'n_clusters': 78, 'linkage': 'complete'}. Best is trial 26 with value: 0.2917053297000771.\n",
      "[I 2024-11-22 11:24:59,753] Trial 32 finished with value: 0.18291403053577054 and parameters: {'n_clusters': 20, 'linkage': 'ward'}. Best is trial 26 with value: 0.2917053297000771.\n",
      "[I 2024-11-22 11:24:59,868] Trial 33 finished with value: 0.08417562018430953 and parameters: {'n_clusters': 129, 'linkage': 'single'}. Best is trial 26 with value: 0.2917053297000771.\n",
      "[I 2024-11-22 11:25:00,020] Trial 34 finished with value: 0.2307623209852819 and parameters: {'n_clusters': 144, 'linkage': 'complete'}. Best is trial 26 with value: 0.2917053297000771.\n",
      "[I 2024-11-22 11:25:00,183] Trial 35 finished with value: 0.28125304508033033 and parameters: {'n_clusters': 112, 'linkage': 'ward'}. Best is trial 26 with value: 0.2917053297000771.\n",
      "[I 2024-11-22 11:25:00,336] Trial 36 finished with value: 0.28249440216065275 and parameters: {'n_clusters': 113, 'linkage': 'ward'}. Best is trial 26 with value: 0.2917053297000771.\n",
      "[I 2024-11-22 11:25:00,459] Trial 37 finished with value: 0.21707723787640335 and parameters: {'n_clusters': 131, 'linkage': 'complete'}. Best is trial 26 with value: 0.2917053297000771.\n",
      "[I 2024-11-22 11:25:00,624] Trial 38 finished with value: 0.21934455555096624 and parameters: {'n_clusters': 137, 'linkage': 'complete'}. Best is trial 26 with value: 0.2917053297000771.\n",
      "[I 2024-11-22 11:25:00,820] Trial 39 finished with value: -0.018912069436392277 and parameters: {'n_clusters': 40, 'linkage': 'single'}. Best is trial 26 with value: 0.2917053297000771.\n",
      "[I 2024-11-22 11:25:01,127] Trial 40 finished with value: 0.2641823440567754 and parameters: {'n_clusters': 99, 'linkage': 'ward'}. Best is trial 26 with value: 0.2917053297000771.\n",
      "[I 2024-11-22 11:25:01,341] Trial 41 finished with value: 0.21857661382519195 and parameters: {'n_clusters': 136, 'linkage': 'complete'}. Best is trial 26 with value: 0.2917053297000771.\n",
      "[I 2024-11-22 11:25:01,525] Trial 42 finished with value: -0.04585227746082969 and parameters: {'n_clusters': 80, 'linkage': 'single'}. Best is trial 26 with value: 0.2917053297000771.\n",
      "[I 2024-11-22 11:25:01,642] Trial 43 finished with value: 0.1751502223367616 and parameters: {'n_clusters': 43, 'linkage': 'complete'}. Best is trial 26 with value: 0.2917053297000771.\n",
      "[I 2024-11-22 11:25:01,773] Trial 44 finished with value: 0.2079170511581469 and parameters: {'n_clusters': 75, 'linkage': 'average'}. Best is trial 26 with value: 0.2917053297000771.\n",
      "[I 2024-11-22 11:25:01,919] Trial 45 finished with value: -0.0294564689590111 and parameters: {'n_clusters': 51, 'linkage': 'single'}. Best is trial 26 with value: 0.2917053297000771.\n",
      "[I 2024-11-22 11:25:02,148] Trial 46 finished with value: 0.14347402459378997 and parameters: {'n_clusters': 28, 'linkage': 'average'}. Best is trial 26 with value: 0.2917053297000771.\n",
      "[I 2024-11-22 11:25:02,383] Trial 47 finished with value: 0.17941347658410037 and parameters: {'n_clusters': 59, 'linkage': 'average'}. Best is trial 26 with value: 0.2917053297000771.\n",
      "[I 2024-11-22 11:25:02,569] Trial 48 finished with value: 0.20808350822768346 and parameters: {'n_clusters': 92, 'linkage': 'complete'}. Best is trial 26 with value: 0.2917053297000771.\n",
      "[I 2024-11-22 11:25:02,764] Trial 49 finished with value: 0.16825399221343482 and parameters: {'n_clusters': 31, 'linkage': 'average'}. Best is trial 26 with value: 0.2917053297000771.\n",
      "[I 2024-11-22 11:25:02,976] Trial 50 finished with value: 0.030679830280590577 and parameters: {'n_clusters': 123, 'linkage': 'single'}. Best is trial 26 with value: 0.2917053297000771.\n",
      "[I 2024-11-22 11:25:03,141] Trial 51 finished with value: -0.026775748007803264 and parameters: {'n_clusters': 49, 'linkage': 'single'}. Best is trial 26 with value: 0.2917053297000771.\n",
      "[I 2024-11-22 11:25:03,315] Trial 52 finished with value: 0.2900833667519171 and parameters: {'n_clusters': 118, 'linkage': 'ward'}. Best is trial 26 with value: 0.2917053297000771.\n",
      "[I 2024-11-22 11:25:03,454] Trial 53 finished with value: 0.19512325137619457 and parameters: {'n_clusters': 25, 'linkage': 'ward'}. Best is trial 26 with value: 0.2917053297000771.\n",
      "[I 2024-11-22 11:25:03,581] Trial 54 finished with value: 0.22566063117452445 and parameters: {'n_clusters': 115, 'linkage': 'average'}. Best is trial 26 with value: 0.2917053297000771.\n",
      "[I 2024-11-22 11:25:03,708] Trial 55 finished with value: 0.13407197799483717 and parameters: {'n_clusters': 29, 'linkage': 'complete'}. Best is trial 26 with value: 0.2917053297000771.\n",
      "[I 2024-11-22 11:25:03,838] Trial 56 finished with value: 0.1479242001156871 and parameters: {'n_clusters': 21, 'linkage': 'complete'}. Best is trial 26 with value: 0.2917053297000771.\n",
      "[I 2024-11-22 11:25:03,966] Trial 57 finished with value: 0.32729777740951294 and parameters: {'n_clusters': 150, 'linkage': 'ward'}. Best is trial 57 with value: 0.32729777740951294.\n",
      "[I 2024-11-22 11:25:04,091] Trial 58 finished with value: 0.19411235017994075 and parameters: {'n_clusters': 27, 'linkage': 'ward'}. Best is trial 57 with value: 0.32729777740951294.\n",
      "[I 2024-11-22 11:25:04,216] Trial 59 finished with value: 0.21803623538816608 and parameters: {'n_clusters': 135, 'linkage': 'complete'}. Best is trial 57 with value: 0.32729777740951294.\n",
      "[I 2024-11-22 11:25:04,376] Trial 60 finished with value: 0.20978890262923017 and parameters: {'n_clusters': 86, 'linkage': 'complete'}. Best is trial 57 with value: 0.32729777740951294.\n",
      "[I 2024-11-22 11:25:04,511] Trial 61 finished with value: 0.23985293218676346 and parameters: {'n_clusters': 76, 'linkage': 'ward'}. Best is trial 57 with value: 0.32729777740951294.\n",
      "[I 2024-11-22 11:25:04,640] Trial 62 finished with value: 0.2250607404717766 and parameters: {'n_clusters': 112, 'linkage': 'average'}. Best is trial 57 with value: 0.32729777740951294.\n",
      "[I 2024-11-22 11:25:04,770] Trial 63 finished with value: 0.21675325979778237 and parameters: {'n_clusters': 117, 'linkage': 'complete'}. Best is trial 57 with value: 0.32729777740951294.\n",
      "[I 2024-11-22 11:25:04,898] Trial 64 finished with value: 0.2321388764783042 and parameters: {'n_clusters': 55, 'linkage': 'ward'}. Best is trial 57 with value: 0.32729777740951294.\n",
      "[I 2024-11-22 11:25:05,023] Trial 65 finished with value: -0.015784956227349198 and parameters: {'n_clusters': 36, 'linkage': 'single'}. Best is trial 57 with value: 0.32729777740951294.\n",
      "[I 2024-11-22 11:25:05,150] Trial 66 finished with value: -0.010897187582202247 and parameters: {'n_clusters': 109, 'linkage': 'single'}. Best is trial 57 with value: 0.32729777740951294.\n",
      "[I 2024-11-22 11:25:05,279] Trial 67 finished with value: 0.23863587248186907 and parameters: {'n_clusters': 132, 'linkage': 'average'}. Best is trial 57 with value: 0.32729777740951294.\n",
      "[I 2024-11-22 11:25:05,406] Trial 68 finished with value: 0.22522817587557464 and parameters: {'n_clusters': 116, 'linkage': 'average'}. Best is trial 57 with value: 0.32729777740951294.\n",
      "[I 2024-11-22 11:25:05,536] Trial 69 finished with value: 0.06738110016804925 and parameters: {'n_clusters': 134, 'linkage': 'single'}. Best is trial 57 with value: 0.32729777740951294.\n",
      "[I 2024-11-22 11:25:05,669] Trial 70 finished with value: 0.142549778957606 and parameters: {'n_clusters': 10, 'linkage': 'complete'}. Best is trial 57 with value: 0.32729777740951294.\n",
      "[I 2024-11-22 11:25:05,933] Trial 71 finished with value: 0.17559516911786277 and parameters: {'n_clusters': 48, 'linkage': 'average'}. Best is trial 57 with value: 0.32729777740951294.\n",
      "[I 2024-11-22 11:25:06,144] Trial 72 finished with value: -0.03894495250452619 and parameters: {'n_clusters': 76, 'linkage': 'single'}. Best is trial 57 with value: 0.32729777740951294.\n",
      "[I 2024-11-22 11:25:06,303] Trial 73 finished with value: -0.01769488740174539 and parameters: {'n_clusters': 41, 'linkage': 'single'}. Best is trial 57 with value: 0.32729777740951294.\n",
      "[I 2024-11-22 11:25:06,474] Trial 74 finished with value: 0.23215144302942087 and parameters: {'n_clusters': 56, 'linkage': 'ward'}. Best is trial 57 with value: 0.32729777740951294.\n",
      "[I 2024-11-22 11:25:06,630] Trial 75 finished with value: 0.2964811611514021 and parameters: {'n_clusters': 128, 'linkage': 'ward'}. Best is trial 57 with value: 0.32729777740951294.\n",
      "[I 2024-11-22 11:25:06,790] Trial 76 finished with value: 0.14735821059107657 and parameters: {'n_clusters': 41, 'linkage': 'average'}. Best is trial 57 with value: 0.32729777740951294.\n",
      "[I 2024-11-22 11:25:06,943] Trial 77 finished with value: 0.19340598769463999 and parameters: {'n_clusters': 31, 'linkage': 'ward'}. Best is trial 57 with value: 0.32729777740951294.\n",
      "[I 2024-11-22 11:25:07,087] Trial 78 finished with value: 0.21793808860346364 and parameters: {'n_clusters': 114, 'linkage': 'complete'}. Best is trial 57 with value: 0.32729777740951294.\n",
      "[I 2024-11-22 11:25:07,227] Trial 79 finished with value: 0.04258202307108817 and parameters: {'n_clusters': 149, 'linkage': 'single'}. Best is trial 57 with value: 0.32729777740951294.\n",
      "[I 2024-11-22 11:25:07,374] Trial 80 finished with value: -0.025911536548773543 and parameters: {'n_clusters': 111, 'linkage': 'single'}. Best is trial 57 with value: 0.32729777740951294.\n",
      "[I 2024-11-22 11:25:07,519] Trial 81 finished with value: 0.22227577387921685 and parameters: {'n_clusters': 94, 'linkage': 'average'}. Best is trial 57 with value: 0.32729777740951294.\n",
      "[I 2024-11-22 11:25:07,677] Trial 82 finished with value: 0.31952336136695375 and parameters: {'n_clusters': 144, 'linkage': 'ward'}. Best is trial 57 with value: 0.32729777740951294.\n",
      "[I 2024-11-22 11:25:07,837] Trial 83 finished with value: 0.24361876308154698 and parameters: {'n_clusters': 81, 'linkage': 'ward'}. Best is trial 57 with value: 0.32729777740951294.\n",
      "[I 2024-11-22 11:25:07,994] Trial 84 finished with value: 0.21609792581497622 and parameters: {'n_clusters': 121, 'linkage': 'complete'}. Best is trial 57 with value: 0.32729777740951294.\n",
      "[I 2024-11-22 11:25:08,182] Trial 85 finished with value: 0.259008820188013 and parameters: {'n_clusters': 95, 'linkage': 'ward'}. Best is trial 57 with value: 0.32729777740951294.\n",
      "[I 2024-11-22 11:25:08,350] Trial 86 finished with value: 0.1973127735574832 and parameters: {'n_clusters': 61, 'linkage': 'complete'}. Best is trial 57 with value: 0.32729777740951294.\n",
      "[I 2024-11-22 11:25:08,518] Trial 87 finished with value: 0.26361667359163016 and parameters: {'n_clusters': 100, 'linkage': 'ward'}. Best is trial 57 with value: 0.32729777740951294.\n",
      "[I 2024-11-22 11:25:08,669] Trial 88 finished with value: -0.01221085869683866 and parameters: {'n_clusters': 102, 'linkage': 'single'}. Best is trial 57 with value: 0.32729777740951294.\n",
      "[I 2024-11-22 11:25:08,814] Trial 89 finished with value: 0.05468754282834488 and parameters: {'n_clusters': 142, 'linkage': 'single'}. Best is trial 57 with value: 0.32729777740951294.\n",
      "[I 2024-11-22 11:25:08,954] Trial 90 finished with value: -0.030690762504648906 and parameters: {'n_clusters': 115, 'linkage': 'single'}. Best is trial 57 with value: 0.32729777740951294.\n",
      "[I 2024-11-22 11:25:09,097] Trial 91 finished with value: 0.21099706125190115 and parameters: {'n_clusters': 104, 'linkage': 'complete'}. Best is trial 57 with value: 0.32729777740951294.\n",
      "[I 2024-11-22 11:25:09,239] Trial 92 finished with value: 0.21661623689564757 and parameters: {'n_clusters': 118, 'linkage': 'complete'}. Best is trial 57 with value: 0.32729777740951294.\n",
      "[I 2024-11-22 11:25:09,379] Trial 93 finished with value: 0.1582975350840369 and parameters: {'n_clusters': 34, 'linkage': 'complete'}. Best is trial 57 with value: 0.32729777740951294.\n",
      "[I 2024-11-22 11:25:09,523] Trial 94 finished with value: 0.19552405814399773 and parameters: {'n_clusters': 58, 'linkage': 'complete'}. Best is trial 57 with value: 0.32729777740951294.\n",
      "[I 2024-11-22 11:25:09,671] Trial 95 finished with value: 0.2071459872852789 and parameters: {'n_clusters': 74, 'linkage': 'average'}. Best is trial 57 with value: 0.32729777740951294.\n",
      "[I 2024-11-22 11:25:09,815] Trial 96 finished with value: 0.2743065021683862 and parameters: {'n_clusters': 106, 'linkage': 'ward'}. Best is trial 57 with value: 0.32729777740951294.\n",
      "[I 2024-11-22 11:25:09,959] Trial 97 finished with value: 0.21694284352360366 and parameters: {'n_clusters': 109, 'linkage': 'complete'}. Best is trial 57 with value: 0.32729777740951294.\n",
      "[I 2024-11-22 11:25:10,102] Trial 98 finished with value: 0.14936102331486922 and parameters: {'n_clusters': 44, 'linkage': 'average'}. Best is trial 57 with value: 0.32729777740951294.\n",
      "[I 2024-11-22 11:25:10,247] Trial 99 finished with value: 0.21655041719908974 and parameters: {'n_clusters': 130, 'linkage': 'complete'}. Best is trial 57 with value: 0.32729777740951294.\n",
      "[I 2024-11-22 11:25:10,390] Trial 100 finished with value: 0.21814530040547253 and parameters: {'n_clusters': 134, 'linkage': 'complete'}. Best is trial 57 with value: 0.32729777740951294.\n",
      "[I 2024-11-22 11:25:10,537] Trial 101 finished with value: 0.22325685723376285 and parameters: {'n_clusters': 109, 'linkage': 'average'}. Best is trial 57 with value: 0.32729777740951294.\n",
      "[I 2024-11-22 11:25:10,683] Trial 102 finished with value: 0.2085074141371235 and parameters: {'n_clusters': 100, 'linkage': 'complete'}. Best is trial 57 with value: 0.32729777740951294.\n",
      "[I 2024-11-22 11:25:10,832] Trial 103 finished with value: -0.049381453674799805 and parameters: {'n_clusters': 90, 'linkage': 'single'}. Best is trial 57 with value: 0.32729777740951294.\n",
      "[I 2024-11-22 11:25:10,982] Trial 104 finished with value: 0.2946698679679079 and parameters: {'n_clusters': 11, 'linkage': 'average'}. Best is trial 57 with value: 0.32729777740951294.\n",
      "[I 2024-11-22 11:25:11,130] Trial 105 finished with value: -0.030786914785083004 and parameters: {'n_clusters': 86, 'linkage': 'single'}. Best is trial 57 with value: 0.32729777740951294.\n",
      "[I 2024-11-22 11:25:11,279] Trial 106 finished with value: 0.08492238352974084 and parameters: {'n_clusters': 128, 'linkage': 'single'}. Best is trial 57 with value: 0.32729777740951294.\n",
      "[I 2024-11-22 11:25:11,427] Trial 107 finished with value: 0.08715589325953373 and parameters: {'n_clusters': 132, 'linkage': 'single'}. Best is trial 57 with value: 0.32729777740951294.\n",
      "[I 2024-11-22 11:25:11,578] Trial 108 finished with value: 0.1910297870259329 and parameters: {'n_clusters': 54, 'linkage': 'average'}. Best is trial 57 with value: 0.32729777740951294.\n",
      "[I 2024-11-22 11:25:11,726] Trial 109 finished with value: -0.03810384204063109 and parameters: {'n_clusters': 70, 'linkage': 'single'}. Best is trial 57 with value: 0.32729777740951294.\n",
      "[I 2024-11-22 11:25:11,880] Trial 110 finished with value: 0.17839405284953613 and parameters: {'n_clusters': 34, 'linkage': 'average'}. Best is trial 57 with value: 0.32729777740951294.\n",
      "[I 2024-11-22 11:25:12,031] Trial 111 finished with value: 0.16758133639394757 and parameters: {'n_clusters': 11, 'linkage': 'complete'}. Best is trial 57 with value: 0.32729777740951294.\n",
      "[I 2024-11-22 11:25:12,186] Trial 112 finished with value: 0.21177416239142763 and parameters: {'n_clusters': 93, 'linkage': 'average'}. Best is trial 57 with value: 0.32729777740951294.\n",
      "[I 2024-11-22 11:25:12,343] Trial 113 finished with value: 0.1783225739202815 and parameters: {'n_clusters': 11, 'linkage': 'ward'}. Best is trial 57 with value: 0.32729777740951294.\n",
      "[I 2024-11-22 11:25:12,496] Trial 114 finished with value: 0.19065488150261267 and parameters: {'n_clusters': 55, 'linkage': 'average'}. Best is trial 57 with value: 0.32729777740951294.\n",
      "[I 2024-11-22 11:25:12,654] Trial 115 finished with value: -0.028936379279647064 and parameters: {'n_clusters': 50, 'linkage': 'single'}. Best is trial 57 with value: 0.32729777740951294.\n",
      "[I 2024-11-22 11:25:12,811] Trial 116 finished with value: 0.19366691591765245 and parameters: {'n_clusters': 22, 'linkage': 'ward'}. Best is trial 57 with value: 0.32729777740951294.\n",
      "[I 2024-11-22 11:25:12,990] Trial 117 finished with value: -0.050084114836550724 and parameters: {'n_clusters': 68, 'linkage': 'single'}. Best is trial 57 with value: 0.32729777740951294.\n",
      "[I 2024-11-22 11:25:13,146] Trial 118 finished with value: -0.006074726212901375 and parameters: {'n_clusters': 96, 'linkage': 'single'}. Best is trial 57 with value: 0.32729777740951294.\n",
      "[I 2024-11-22 11:25:13,300] Trial 119 finished with value: 0.20412988721406675 and parameters: {'n_clusters': 72, 'linkage': 'complete'}. Best is trial 57 with value: 0.32729777740951294.\n",
      "[I 2024-11-22 11:25:13,454] Trial 120 finished with value: -0.0058448696331559104 and parameters: {'n_clusters': 95, 'linkage': 'single'}. Best is trial 57 with value: 0.32729777740951294.\n",
      "[I 2024-11-22 11:25:13,609] Trial 121 finished with value: 0.21522242809937703 and parameters: {'n_clusters': 82, 'linkage': 'average'}. Best is trial 57 with value: 0.32729777740951294.\n",
      "[I 2024-11-22 11:25:13,763] Trial 122 finished with value: 0.2937783766463805 and parameters: {'n_clusters': 123, 'linkage': 'ward'}. Best is trial 57 with value: 0.32729777740951294.\n",
      "[I 2024-11-22 11:25:13,920] Trial 123 finished with value: 0.19630927012822172 and parameters: {'n_clusters': 66, 'linkage': 'complete'}. Best is trial 57 with value: 0.32729777740951294.\n",
      "[I 2024-11-22 11:25:14,076] Trial 124 finished with value: 0.24772433335480548 and parameters: {'n_clusters': 86, 'linkage': 'ward'}. Best is trial 57 with value: 0.32729777740951294.\n",
      "[I 2024-11-22 11:25:14,231] Trial 125 finished with value: -0.04665126023634104 and parameters: {'n_clusters': 78, 'linkage': 'single'}. Best is trial 57 with value: 0.32729777740951294.\n",
      "[I 2024-11-22 11:25:14,386] Trial 126 finished with value: 0.19607730872407883 and parameters: {'n_clusters': 60, 'linkage': 'complete'}. Best is trial 57 with value: 0.32729777740951294.\n",
      "[I 2024-11-22 11:25:14,543] Trial 127 finished with value: 0.17197885718042494 and parameters: {'n_clusters': 13, 'linkage': 'complete'}. Best is trial 57 with value: 0.32729777740951294.\n",
      "[I 2024-11-22 11:25:14,702] Trial 128 finished with value: 0.3187099175280095 and parameters: {'n_clusters': 142, 'linkage': 'ward'}. Best is trial 57 with value: 0.32729777740951294.\n",
      "[I 2024-11-22 11:25:14,863] Trial 129 finished with value: 0.05705526277686684 and parameters: {'n_clusters': 147, 'linkage': 'single'}. Best is trial 57 with value: 0.32729777740951294.\n",
      "[I 2024-11-22 11:25:15,022] Trial 130 finished with value: -0.027474646795153136 and parameters: {'n_clusters': 60, 'linkage': 'single'}. Best is trial 57 with value: 0.32729777740951294.\n",
      "[I 2024-11-22 11:25:15,182] Trial 131 finished with value: 0.2377044534491781 and parameters: {'n_clusters': 147, 'linkage': 'average'}. Best is trial 57 with value: 0.32729777740951294.\n",
      "[I 2024-11-22 11:25:15,341] Trial 132 finished with value: 0.1706689810230835 and parameters: {'n_clusters': 12, 'linkage': 'complete'}. Best is trial 57 with value: 0.32729777740951294.\n",
      "[I 2024-11-22 11:25:15,502] Trial 133 finished with value: 0.20848797637787528 and parameters: {'n_clusters': 95, 'linkage': 'complete'}. Best is trial 57 with value: 0.32729777740951294.\n",
      "[I 2024-11-22 11:25:15,663] Trial 134 finished with value: 0.2924979182842741 and parameters: {'n_clusters': 122, 'linkage': 'ward'}. Best is trial 57 with value: 0.32729777740951294.\n",
      "[I 2024-11-22 11:25:15,826] Trial 135 finished with value: 0.05384456515506289 and parameters: {'n_clusters': 148, 'linkage': 'single'}. Best is trial 57 with value: 0.32729777740951294.\n",
      "[I 2024-11-22 11:25:15,987] Trial 136 finished with value: 0.17207909205329164 and parameters: {'n_clusters': 41, 'linkage': 'complete'}. Best is trial 57 with value: 0.32729777740951294.\n",
      "[I 2024-11-22 11:25:16,150] Trial 137 finished with value: 0.1523833634375463 and parameters: {'n_clusters': 26, 'linkage': 'average'}. Best is trial 57 with value: 0.32729777740951294.\n",
      "[I 2024-11-22 11:25:16,315] Trial 138 finished with value: 0.23995021578588382 and parameters: {'n_clusters': 75, 'linkage': 'ward'}. Best is trial 57 with value: 0.32729777740951294.\n",
      "[I 2024-11-22 11:25:16,481] Trial 139 finished with value: 0.21929060617600846 and parameters: {'n_clusters': 15, 'linkage': 'single'}. Best is trial 57 with value: 0.32729777740951294.\n",
      "[I 2024-11-22 11:25:16,647] Trial 140 finished with value: 0.31060760634148205 and parameters: {'n_clusters': 136, 'linkage': 'ward'}. Best is trial 57 with value: 0.32729777740951294.\n",
      "[I 2024-11-22 11:25:16,813] Trial 141 finished with value: 0.23057486969816468 and parameters: {'n_clusters': 148, 'linkage': 'complete'}. Best is trial 57 with value: 0.32729777740951294.\n",
      "[I 2024-11-22 11:25:16,978] Trial 142 finished with value: 0.16645591861907544 and parameters: {'n_clusters': 39, 'linkage': 'complete'}. Best is trial 57 with value: 0.32729777740951294.\n",
      "[I 2024-11-22 11:25:17,145] Trial 143 finished with value: 0.2188450843073677 and parameters: {'n_clusters': 118, 'linkage': 'average'}. Best is trial 57 with value: 0.32729777740951294.\n",
      "[I 2024-11-22 11:25:17,313] Trial 144 finished with value: 0.2197277071269907 and parameters: {'n_clusters': 99, 'linkage': 'average'}. Best is trial 57 with value: 0.32729777740951294.\n",
      "[I 2024-11-22 11:25:17,481] Trial 145 finished with value: 0.13809124747252385 and parameters: {'n_clusters': 19, 'linkage': 'single'}. Best is trial 57 with value: 0.32729777740951294.\n",
      "[I 2024-11-22 11:25:17,652] Trial 146 finished with value: 0.3224483612527445 and parameters: {'n_clusters': 147, 'linkage': 'ward'}. Best is trial 57 with value: 0.32729777740951294.\n",
      "[I 2024-11-22 11:25:17,823] Trial 147 finished with value: 0.2428461618165716 and parameters: {'n_clusters': 141, 'linkage': 'average'}. Best is trial 57 with value: 0.32729777740951294.\n",
      "[I 2024-11-22 11:25:17,992] Trial 148 finished with value: 0.17190663432093317 and parameters: {'n_clusters': 17, 'linkage': 'ward'}. Best is trial 57 with value: 0.32729777740951294.\n",
      "[I 2024-11-22 11:25:18,161] Trial 149 finished with value: 0.21753784060941067 and parameters: {'n_clusters': 128, 'linkage': 'complete'}. Best is trial 57 with value: 0.32729777740951294.\n",
      "[I 2024-11-22 11:25:18,332] Trial 150 finished with value: -0.010255366309576543 and parameters: {'n_clusters': 107, 'linkage': 'single'}. Best is trial 57 with value: 0.32729777740951294.\n",
      "[I 2024-11-22 11:25:18,504] Trial 151 finished with value: 0.20334097905045553 and parameters: {'n_clusters': 63, 'linkage': 'average'}. Best is trial 57 with value: 0.32729777740951294.\n",
      "[I 2024-11-22 11:25:18,674] Trial 152 finished with value: 0.0665196394921217 and parameters: {'n_clusters': 135, 'linkage': 'single'}. Best is trial 57 with value: 0.32729777740951294.\n",
      "[I 2024-11-22 11:25:18,845] Trial 153 finished with value: -0.027814167353891407 and parameters: {'n_clusters': 84, 'linkage': 'single'}. Best is trial 57 with value: 0.32729777740951294.\n",
      "[I 2024-11-22 11:25:19,024] Trial 154 finished with value: -0.04168772477017869 and parameters: {'n_clusters': 71, 'linkage': 'single'}. Best is trial 57 with value: 0.32729777740951294.\n",
      "[I 2024-11-22 11:25:19,202] Trial 155 finished with value: 0.2780371003873098 and parameters: {'n_clusters': 111, 'linkage': 'ward'}. Best is trial 57 with value: 0.32729777740951294.\n",
      "[I 2024-11-22 11:25:19,383] Trial 156 finished with value: 0.275107290298072 and parameters: {'n_clusters': 107, 'linkage': 'ward'}. Best is trial 57 with value: 0.32729777740951294.\n",
      "[I 2024-11-22 11:25:19,561] Trial 157 finished with value: 0.2205740945846991 and parameters: {'n_clusters': 105, 'linkage': 'average'}. Best is trial 57 with value: 0.32729777740951294.\n",
      "[I 2024-11-22 11:25:19,740] Trial 158 finished with value: 0.14967658445863533 and parameters: {'n_clusters': 22, 'linkage': 'average'}. Best is trial 57 with value: 0.32729777740951294.\n",
      "[I 2024-11-22 11:25:19,919] Trial 159 finished with value: 0.232067711035336 and parameters: {'n_clusters': 64, 'linkage': 'ward'}. Best is trial 57 with value: 0.32729777740951294.\n",
      "[I 2024-11-22 11:25:20,121] Trial 160 finished with value: 0.21696980940624 and parameters: {'n_clusters': 40, 'linkage': 'ward'}. Best is trial 57 with value: 0.32729777740951294.\n",
      "[I 2024-11-22 11:25:20,297] Trial 161 finished with value: 0.16620039233422498 and parameters: {'n_clusters': 38, 'linkage': 'complete'}. Best is trial 57 with value: 0.32729777740951294.\n",
      "[I 2024-11-22 11:25:20,472] Trial 162 finished with value: 0.23342747758705054 and parameters: {'n_clusters': 59, 'linkage': 'ward'}. Best is trial 57 with value: 0.32729777740951294.\n",
      "[I 2024-11-22 11:25:20,661] Trial 163 finished with value: 0.2771162338290132 and parameters: {'n_clusters': 110, 'linkage': 'ward'}. Best is trial 57 with value: 0.32729777740951294.\n",
      "[I 2024-11-22 11:25:20,856] Trial 164 finished with value: 0.21087738945323636 and parameters: {'n_clusters': 106, 'linkage': 'complete'}. Best is trial 57 with value: 0.32729777740951294.\n",
      "[I 2024-11-22 11:25:21,031] Trial 165 finished with value: -0.008060025912672256 and parameters: {'n_clusters': 100, 'linkage': 'single'}. Best is trial 57 with value: 0.32729777740951294.\n",
      "[I 2024-11-22 11:25:21,205] Trial 166 finished with value: 0.19707899251221453 and parameters: {'n_clusters': 67, 'linkage': 'complete'}. Best is trial 57 with value: 0.32729777740951294.\n",
      "[I 2024-11-22 11:25:21,381] Trial 167 finished with value: 0.19512227500396093 and parameters: {'n_clusters': 57, 'linkage': 'complete'}. Best is trial 57 with value: 0.32729777740951294.\n",
      "[I 2024-11-22 11:25:21,556] Trial 168 finished with value: 0.23606603254922776 and parameters: {'n_clusters': 66, 'linkage': 'ward'}. Best is trial 57 with value: 0.32729777740951294.\n",
      "[I 2024-11-22 11:25:21,734] Trial 169 finished with value: 0.28143962903438463 and parameters: {'n_clusters': 13, 'linkage': 'average'}. Best is trial 57 with value: 0.32729777740951294.\n",
      "[I 2024-11-22 11:25:21,936] Trial 170 finished with value: 0.237422908102927 and parameters: {'n_clusters': 70, 'linkage': 'ward'}. Best is trial 57 with value: 0.32729777740951294.\n",
      "[I 2024-11-22 11:25:22,136] Trial 171 finished with value: 0.17548060771779475 and parameters: {'n_clusters': 16, 'linkage': 'ward'}. Best is trial 57 with value: 0.32729777740951294.\n",
      "[I 2024-11-22 11:25:22,320] Trial 172 finished with value: 0.17461123005140128 and parameters: {'n_clusters': 18, 'linkage': 'ward'}. Best is trial 57 with value: 0.32729777740951294.\n",
      "[I 2024-11-22 11:25:22,510] Trial 173 finished with value: 0.2110599949670471 and parameters: {'n_clusters': 103, 'linkage': 'complete'}. Best is trial 57 with value: 0.32729777740951294.\n",
      "[I 2024-11-22 11:25:22,704] Trial 174 finished with value: 0.21857403123522168 and parameters: {'n_clusters': 102, 'linkage': 'average'}. Best is trial 57 with value: 0.32729777740951294.\n",
      "[I 2024-11-22 11:25:22,894] Trial 175 finished with value: 0.22164695368688064 and parameters: {'n_clusters': 98, 'linkage': 'average'}. Best is trial 57 with value: 0.32729777740951294.\n",
      "[I 2024-11-22 11:25:23,093] Trial 176 finished with value: 0.2011810684247101 and parameters: {'n_clusters': 74, 'linkage': 'complete'}. Best is trial 57 with value: 0.32729777740951294.\n",
      "[I 2024-11-22 11:25:23,288] Trial 177 finished with value: 0.2079962768526376 and parameters: {'n_clusters': 93, 'linkage': 'complete'}. Best is trial 57 with value: 0.32729777740951294.\n",
      "[I 2024-11-22 11:25:23,480] Trial 178 finished with value: 0.19534136261412813 and parameters: {'n_clusters': 68, 'linkage': 'complete'}. Best is trial 57 with value: 0.32729777740951294.\n",
      "[I 2024-11-22 11:25:23,677] Trial 179 finished with value: 0.22532081418842428 and parameters: {'n_clusters': 48, 'linkage': 'ward'}. Best is trial 57 with value: 0.32729777740951294.\n",
      "[I 2024-11-22 11:25:23,874] Trial 180 finished with value: 0.23828051215019258 and parameters: {'n_clusters': 131, 'linkage': 'average'}. Best is trial 57 with value: 0.32729777740951294.\n",
      "[I 2024-11-22 11:25:24,079] Trial 181 finished with value: 0.21973193981664024 and parameters: {'n_clusters': 110, 'linkage': 'complete'}. Best is trial 57 with value: 0.32729777740951294.\n",
      "[I 2024-11-22 11:25:24,349] Trial 182 finished with value: 0.22276180456553146 and parameters: {'n_clusters': 121, 'linkage': 'average'}. Best is trial 57 with value: 0.32729777740951294.\n",
      "[I 2024-11-22 11:25:24,543] Trial 183 finished with value: 0.18227341524631058 and parameters: {'n_clusters': 53, 'linkage': 'complete'}. Best is trial 57 with value: 0.32729777740951294.\n",
      "[I 2024-11-22 11:25:24,743] Trial 184 finished with value: 0.23801067555877786 and parameters: {'n_clusters': 137, 'linkage': 'average'}. Best is trial 57 with value: 0.32729777740951294.\n",
      "[I 2024-11-22 11:25:24,934] Trial 185 finished with value: 0.21872172065777487 and parameters: {'n_clusters': 80, 'linkage': 'average'}. Best is trial 57 with value: 0.32729777740951294.\n",
      "[I 2024-11-22 11:25:25,127] Trial 186 finished with value: 0.1981129477494152 and parameters: {'n_clusters': 71, 'linkage': 'average'}. Best is trial 57 with value: 0.32729777740951294.\n",
      "[I 2024-11-22 11:25:25,322] Trial 187 finished with value: -0.04034503810837412 and parameters: {'n_clusters': 77, 'linkage': 'single'}. Best is trial 57 with value: 0.32729777740951294.\n",
      "[I 2024-11-22 11:25:25,521] Trial 188 finished with value: 0.3063543786848593 and parameters: {'n_clusters': 134, 'linkage': 'ward'}. Best is trial 57 with value: 0.32729777740951294.\n",
      "[I 2024-11-22 11:25:25,733] Trial 189 finished with value: 0.1512347618495628 and parameters: {'n_clusters': 23, 'linkage': 'average'}. Best is trial 57 with value: 0.32729777740951294.\n",
      "[I 2024-11-22 11:25:25,932] Trial 190 finished with value: 0.15837508669646316 and parameters: {'n_clusters': 36, 'linkage': 'complete'}. Best is trial 57 with value: 0.32729777740951294.\n",
      "[I 2024-11-22 11:25:26,147] Trial 191 finished with value: 0.2364079449466678 and parameters: {'n_clusters': 69, 'linkage': 'ward'}. Best is trial 57 with value: 0.32729777740951294.\n",
      "[I 2024-11-22 11:25:26,351] Trial 192 finished with value: -0.02808309037036316 and parameters: {'n_clusters': 53, 'linkage': 'single'}. Best is trial 57 with value: 0.32729777740951294.\n",
      "[I 2024-11-22 11:25:26,563] Trial 193 finished with value: -0.044769524799501186 and parameters: {'n_clusters': 81, 'linkage': 'single'}. Best is trial 57 with value: 0.32729777740951294.\n",
      "[I 2024-11-22 11:25:26,763] Trial 194 finished with value: -0.03295456997308392 and parameters: {'n_clusters': 118, 'linkage': 'single'}. Best is trial 57 with value: 0.32729777740951294.\n",
      "[I 2024-11-22 11:25:26,964] Trial 195 finished with value: 0.05877099144512262 and parameters: {'n_clusters': 145, 'linkage': 'single'}. Best is trial 57 with value: 0.32729777740951294.\n",
      "[I 2024-11-22 11:25:27,165] Trial 196 finished with value: 0.10122400803621198 and parameters: {'n_clusters': 31, 'linkage': 'single'}. Best is trial 57 with value: 0.32729777740951294.\n",
      "[I 2024-11-22 11:25:27,370] Trial 197 finished with value: 0.23043322818745202 and parameters: {'n_clusters': 142, 'linkage': 'complete'}. Best is trial 57 with value: 0.32729777740951294.\n",
      "[I 2024-11-22 11:25:27,574] Trial 198 finished with value: 0.2094359654236086 and parameters: {'n_clusters': 81, 'linkage': 'complete'}. Best is trial 57 with value: 0.32729777740951294.\n",
      "[I 2024-11-22 11:25:27,779] Trial 199 finished with value: 0.20797041195681465 and parameters: {'n_clusters': 77, 'linkage': 'average'}. Best is trial 57 with value: 0.32729777740951294.\n",
      "[I 2024-11-22 11:25:27,991] Trial 200 finished with value: 0.23355261425585144 and parameters: {'n_clusters': 65, 'linkage': 'ward'}. Best is trial 57 with value: 0.32729777740951294.\n",
      "[I 2024-11-22 11:25:28,198] Trial 201 finished with value: 0.1466384109543751 and parameters: {'n_clusters': 40, 'linkage': 'average'}. Best is trial 57 with value: 0.32729777740951294.\n",
      "[I 2024-11-22 11:25:28,403] Trial 202 finished with value: -0.026424248793092815 and parameters: {'n_clusters': 52, 'linkage': 'single'}. Best is trial 57 with value: 0.32729777740951294.\n",
      "[I 2024-11-22 11:25:28,607] Trial 203 finished with value: 0.050172707544777866 and parameters: {'n_clusters': 126, 'linkage': 'single'}. Best is trial 57 with value: 0.32729777740951294.\n",
      "[I 2024-11-22 11:25:28,818] Trial 204 finished with value: 0.14380182349257942 and parameters: {'n_clusters': 27, 'linkage': 'average'}. Best is trial 57 with value: 0.32729777740951294.\n",
      "[I 2024-11-22 11:25:29,030] Trial 205 finished with value: 0.218438378476893 and parameters: {'n_clusters': 104, 'linkage': 'average'}. Best is trial 57 with value: 0.32729777740951294.\n",
      "[I 2024-11-22 11:25:29,255] Trial 206 finished with value: 0.22629517301916616 and parameters: {'n_clusters': 44, 'linkage': 'ward'}. Best is trial 57 with value: 0.32729777740951294.\n",
      "[I 2024-11-22 11:25:29,520] Trial 207 finished with value: -0.026931829799925307 and parameters: {'n_clusters': 114, 'linkage': 'single'}. Best is trial 57 with value: 0.32729777740951294.\n",
      "[I 2024-11-22 11:25:29,799] Trial 208 finished with value: 0.19365889500071226 and parameters: {'n_clusters': 28, 'linkage': 'ward'}. Best is trial 57 with value: 0.32729777740951294.\n",
      "[I 2024-11-22 11:25:30,017] Trial 209 finished with value: 0.23862257607943446 and parameters: {'n_clusters': 140, 'linkage': 'average'}. Best is trial 57 with value: 0.32729777740951294.\n",
      "[I 2024-11-22 11:25:30,238] Trial 210 finished with value: 0.23490918815355466 and parameters: {'n_clusters': 61, 'linkage': 'ward'}. Best is trial 57 with value: 0.32729777740951294.\n",
      "[I 2024-11-22 11:25:30,447] Trial 211 finished with value: 0.084955176975362 and parameters: {'n_clusters': 131, 'linkage': 'single'}. Best is trial 57 with value: 0.32729777740951294.\n",
      "[I 2024-11-22 11:25:30,660] Trial 212 finished with value: 0.2364066408074086 and parameters: {'n_clusters': 62, 'linkage': 'ward'}. Best is trial 57 with value: 0.32729777740951294.\n",
      "[I 2024-11-22 11:25:30,881] Trial 213 finished with value: 0.24353809578904564 and parameters: {'n_clusters': 84, 'linkage': 'ward'}. Best is trial 57 with value: 0.32729777740951294.\n",
      "[I 2024-11-22 11:25:31,185] Trial 214 finished with value: 0.20728220223778873 and parameters: {'n_clusters': 36, 'linkage': 'ward'}. Best is trial 57 with value: 0.32729777740951294.\n",
      "[I 2024-11-22 11:25:31,435] Trial 215 finished with value: 0.14670480341016384 and parameters: {'n_clusters': 42, 'linkage': 'average'}. Best is trial 57 with value: 0.32729777740951294.\n",
      "[I 2024-11-22 11:25:31,644] Trial 216 finished with value: 0.2667444430375785 and parameters: {'n_clusters': 102, 'linkage': 'ward'}. Best is trial 57 with value: 0.32729777740951294.\n",
      "[I 2024-11-22 11:25:31,855] Trial 217 finished with value: 0.17569156757450227 and parameters: {'n_clusters': 36, 'linkage': 'average'}. Best is trial 57 with value: 0.32729777740951294.\n",
      "[I 2024-11-22 11:25:32,059] Trial 218 finished with value: 0.18107402893566493 and parameters: {'n_clusters': 14, 'linkage': 'ward'}. Best is trial 57 with value: 0.32729777740951294.\n",
      "[I 2024-11-22 11:25:32,264] Trial 219 finished with value: 0.21704101468750023 and parameters: {'n_clusters': 129, 'linkage': 'complete'}. Best is trial 57 with value: 0.32729777740951294.\n",
      "[I 2024-11-22 11:25:32,468] Trial 220 finished with value: 0.19126593087822008 and parameters: {'n_clusters': 50, 'linkage': 'average'}. Best is trial 57 with value: 0.32729777740951294.\n",
      "[I 2024-11-22 11:25:32,671] Trial 221 finished with value: -0.021987146288277425 and parameters: {'n_clusters': 44, 'linkage': 'single'}. Best is trial 57 with value: 0.32729777740951294.\n",
      "[I 2024-11-22 11:25:32,875] Trial 222 finished with value: 0.22254867296699526 and parameters: {'n_clusters': 14, 'linkage': 'single'}. Best is trial 57 with value: 0.32729777740951294.\n",
      "[I 2024-11-22 11:25:33,080] Trial 223 finished with value: 0.2396814593198889 and parameters: {'n_clusters': 130, 'linkage': 'average'}. Best is trial 57 with value: 0.32729777740951294.\n",
      "[I 2024-11-22 11:25:33,284] Trial 224 finished with value: -0.07753448991406098 and parameters: {'n_clusters': 57, 'linkage': 'single'}. Best is trial 57 with value: 0.32729777740951294.\n",
      "[I 2024-11-22 11:25:33,494] Trial 225 finished with value: 0.18546643939299237 and parameters: {'n_clusters': 15, 'linkage': 'ward'}. Best is trial 57 with value: 0.32729777740951294.\n",
      "[I 2024-11-22 11:25:33,700] Trial 226 finished with value: 0.29770322107144354 and parameters: {'n_clusters': 10, 'linkage': 'average'}. Best is trial 57 with value: 0.32729777740951294.\n",
      "[I 2024-11-22 11:25:33,905] Trial 227 finished with value: -0.012572321264651489 and parameters: {'n_clusters': 110, 'linkage': 'single'}. Best is trial 57 with value: 0.32729777740951294.\n",
      "[I 2024-11-22 11:25:34,111] Trial 228 finished with value: 0.19986047010366845 and parameters: {'n_clusters': 69, 'linkage': 'average'}. Best is trial 57 with value: 0.32729777740951294.\n",
      "[I 2024-11-22 11:25:34,318] Trial 229 finished with value: 0.31929554358940726 and parameters: {'n_clusters': 145, 'linkage': 'ward'}. Best is trial 57 with value: 0.32729777740951294.\n",
      "[I 2024-11-22 11:25:34,528] Trial 230 finished with value: 0.040970981688963806 and parameters: {'n_clusters': 150, 'linkage': 'single'}. Best is trial 57 with value: 0.32729777740951294.\n",
      "[I 2024-11-22 11:25:34,771] Trial 231 finished with value: 0.3027020527964483 and parameters: {'n_clusters': 132, 'linkage': 'ward'}. Best is trial 57 with value: 0.32729777740951294.\n",
      "[I 2024-11-22 11:25:35,061] Trial 232 finished with value: -0.01863791720728406 and parameters: {'n_clusters': 39, 'linkage': 'single'}. Best is trial 57 with value: 0.32729777740951294.\n",
      "[I 2024-11-22 11:25:35,289] Trial 233 finished with value: 0.19299700592044122 and parameters: {'n_clusters': 32, 'linkage': 'ward'}. Best is trial 57 with value: 0.32729777740951294.\n",
      "[I 2024-11-22 11:25:35,518] Trial 234 finished with value: 0.2422542903620175 and parameters: {'n_clusters': 78, 'linkage': 'ward'}. Best is trial 57 with value: 0.32729777740951294.\n",
      "[I 2024-11-22 11:25:35,798] Trial 235 finished with value: 0.20747010581787484 and parameters: {'n_clusters': 79, 'linkage': 'average'}. Best is trial 57 with value: 0.32729777740951294.\n",
      "[I 2024-11-22 11:25:36,032] Trial 236 finished with value: 0.19747723662392355 and parameters: {'n_clusters': 30, 'linkage': 'ward'}. Best is trial 57 with value: 0.32729777740951294.\n",
      "[I 2024-11-22 11:25:36,241] Trial 237 finished with value: 0.12746853108008654 and parameters: {'n_clusters': 26, 'linkage': 'complete'}. Best is trial 57 with value: 0.32729777740951294.\n",
      "[I 2024-11-22 11:25:36,451] Trial 238 finished with value: -0.0468805711401071 and parameters: {'n_clusters': 94, 'linkage': 'single'}. Best is trial 57 with value: 0.32729777740951294.\n",
      "[I 2024-11-22 11:25:36,665] Trial 239 finished with value: 0.19441956623313553 and parameters: {'n_clusters': 24, 'linkage': 'ward'}. Best is trial 57 with value: 0.32729777740951294.\n",
      "[I 2024-11-22 11:25:36,877] Trial 240 finished with value: 0.16404085729227844 and parameters: {'n_clusters': 39, 'linkage': 'average'}. Best is trial 57 with value: 0.32729777740951294.\n",
      "[I 2024-11-22 11:25:37,090] Trial 241 finished with value: 0.20440126686475438 and parameters: {'n_clusters': 79, 'linkage': 'complete'}. Best is trial 57 with value: 0.32729777740951294.\n",
      "[I 2024-11-22 11:25:37,303] Trial 242 finished with value: 0.13406234041820514 and parameters: {'n_clusters': 27, 'linkage': 'complete'}. Best is trial 57 with value: 0.32729777740951294.\n",
      "[I 2024-11-22 11:25:37,518] Trial 243 finished with value: -0.07701134141319302 and parameters: {'n_clusters': 55, 'linkage': 'single'}. Best is trial 57 with value: 0.32729777740951294.\n",
      "[I 2024-11-22 11:25:37,735] Trial 244 finished with value: 0.21657261440320918 and parameters: {'n_clusters': 89, 'linkage': 'average'}. Best is trial 57 with value: 0.32729777740951294.\n",
      "[I 2024-11-22 11:25:37,951] Trial 245 finished with value: -0.011994014626722558 and parameters: {'n_clusters': 101, 'linkage': 'single'}. Best is trial 57 with value: 0.32729777740951294.\n",
      "[I 2024-11-22 11:25:38,172] Trial 246 finished with value: 0.23896763872392793 and parameters: {'n_clusters': 74, 'linkage': 'ward'}. Best is trial 57 with value: 0.32729777740951294.\n",
      "[I 2024-11-22 11:25:38,394] Trial 247 finished with value: -0.035435497766806 and parameters: {'n_clusters': 122, 'linkage': 'single'}. Best is trial 57 with value: 0.32729777740951294.\n",
      "[I 2024-11-22 11:25:38,628] Trial 248 finished with value: 0.23928187369321935 and parameters: {'n_clusters': 133, 'linkage': 'average'}. Best is trial 57 with value: 0.32729777740951294.\n",
      "[I 2024-11-22 11:25:38,881] Trial 249 finished with value: 0.2992267527701573 and parameters: {'n_clusters': 130, 'linkage': 'ward'}. Best is trial 57 with value: 0.32729777740951294.\n",
      "[I 2024-11-22 11:25:39,116] Trial 250 finished with value: 0.25379924928737624 and parameters: {'n_clusters': 91, 'linkage': 'ward'}. Best is trial 57 with value: 0.32729777740951294.\n",
      "[I 2024-11-22 11:25:39,356] Trial 251 finished with value: 0.06211022065895335 and parameters: {'n_clusters': 32, 'linkage': 'single'}. Best is trial 57 with value: 0.32729777740951294.\n",
      "[I 2024-11-22 11:25:39,615] Trial 252 finished with value: 0.20763286128479477 and parameters: {'n_clusters': 107, 'linkage': 'complete'}. Best is trial 57 with value: 0.32729777740951294.\n",
      "[I 2024-11-22 11:25:39,850] Trial 253 finished with value: 0.19625549740769382 and parameters: {'n_clusters': 70, 'linkage': 'complete'}. Best is trial 57 with value: 0.32729777740951294.\n",
      "[I 2024-11-22 11:25:40,079] Trial 254 finished with value: 0.17899463078516822 and parameters: {'n_clusters': 50, 'linkage': 'complete'}. Best is trial 57 with value: 0.32729777740951294.\n",
      "[I 2024-11-22 11:25:40,318] Trial 255 finished with value: 0.0667161546711643 and parameters: {'n_clusters': 136, 'linkage': 'single'}. Best is trial 57 with value: 0.32729777740951294.\n",
      "[I 2024-11-22 11:25:40,554] Trial 256 finished with value: 0.0848492119532411 and parameters: {'n_clusters': 130, 'linkage': 'single'}. Best is trial 57 with value: 0.32729777740951294.\n",
      "[I 2024-11-22 11:25:40,826] Trial 257 finished with value: 0.13771321527911337 and parameters: {'n_clusters': 29, 'linkage': 'average'}. Best is trial 57 with value: 0.32729777740951294.\n",
      "[I 2024-11-22 11:25:41,080] Trial 258 finished with value: 0.055762663031431674 and parameters: {'n_clusters': 139, 'linkage': 'single'}. Best is trial 57 with value: 0.32729777740951294.\n",
      "[I 2024-11-22 11:25:41,313] Trial 259 finished with value: 0.22434354853874838 and parameters: {'n_clusters': 107, 'linkage': 'average'}. Best is trial 57 with value: 0.32729777740951294.\n",
      "[I 2024-11-22 11:25:41,566] Trial 260 finished with value: 0.2405995960771114 and parameters: {'n_clusters': 145, 'linkage': 'average'}. Best is trial 57 with value: 0.32729777740951294.\n",
      "[I 2024-11-22 11:25:41,804] Trial 261 finished with value: 0.19656170308254153 and parameters: {'n_clusters': 65, 'linkage': 'complete'}. Best is trial 57 with value: 0.32729777740951294.\n",
      "[I 2024-11-22 11:25:42,035] Trial 262 finished with value: 0.2006565712312287 and parameters: {'n_clusters': 64, 'linkage': 'average'}. Best is trial 57 with value: 0.32729777740951294.\n",
      "[I 2024-11-22 11:25:42,280] Trial 263 finished with value: 0.2036349425890777 and parameters: {'n_clusters': 60, 'linkage': 'average'}. Best is trial 57 with value: 0.32729777740951294.\n",
      "[I 2024-11-22 11:25:42,517] Trial 264 finished with value: 0.29563867594644433 and parameters: {'n_clusters': 126, 'linkage': 'ward'}. Best is trial 57 with value: 0.32729777740951294.\n",
      "[I 2024-11-22 11:25:42,776] Trial 265 finished with value: 0.2097154072231901 and parameters: {'n_clusters': 90, 'linkage': 'complete'}. Best is trial 57 with value: 0.32729777740951294.\n",
      "[I 2024-11-22 11:25:43,018] Trial 266 finished with value: -0.02566085267241982 and parameters: {'n_clusters': 45, 'linkage': 'single'}. Best is trial 57 with value: 0.32729777740951294.\n",
      "[I 2024-11-22 11:25:43,282] Trial 267 finished with value: 0.17770823214498485 and parameters: {'n_clusters': 33, 'linkage': 'average'}. Best is trial 57 with value: 0.32729777740951294.\n",
      "[I 2024-11-22 11:25:43,533] Trial 268 finished with value: 0.2886854383454542 and parameters: {'n_clusters': 116, 'linkage': 'ward'}. Best is trial 57 with value: 0.32729777740951294.\n",
      "[I 2024-11-22 11:25:43,791] Trial 269 finished with value: 0.21464282161237228 and parameters: {'n_clusters': 123, 'linkage': 'complete'}. Best is trial 57 with value: 0.32729777740951294.\n",
      "[I 2024-11-22 11:25:44,053] Trial 270 finished with value: 0.23812647915950066 and parameters: {'n_clusters': 73, 'linkage': 'ward'}. Best is trial 57 with value: 0.32729777740951294.\n",
      "[I 2024-11-22 11:25:44,350] Trial 271 finished with value: 0.28771093850711843 and parameters: {'n_clusters': 115, 'linkage': 'ward'}. Best is trial 57 with value: 0.32729777740951294.\n",
      "[I 2024-11-22 11:25:44,618] Trial 272 finished with value: -0.0515757293326145 and parameters: {'n_clusters': 67, 'linkage': 'single'}. Best is trial 57 with value: 0.32729777740951294.\n",
      "[I 2024-11-22 11:25:44,877] Trial 273 finished with value: -0.032994422108979835 and parameters: {'n_clusters': 121, 'linkage': 'single'}. Best is trial 57 with value: 0.32729777740951294.\n",
      "[I 2024-11-22 11:25:45,124] Trial 274 finished with value: 0.057930653157175965 and parameters: {'n_clusters': 144, 'linkage': 'single'}. Best is trial 57 with value: 0.32729777740951294.\n",
      "[I 2024-11-22 11:25:45,363] Trial 275 finished with value: 0.20050043297346282 and parameters: {'n_clusters': 64, 'linkage': 'complete'}. Best is trial 57 with value: 0.32729777740951294.\n",
      "[I 2024-11-22 11:25:45,601] Trial 276 finished with value: 0.26987093777448085 and parameters: {'n_clusters': 103, 'linkage': 'ward'}. Best is trial 57 with value: 0.32729777740951294.\n",
      "[I 2024-11-22 11:25:45,836] Trial 277 finished with value: -0.05556656269236453 and parameters: {'n_clusters': 65, 'linkage': 'single'}. Best is trial 57 with value: 0.32729777740951294.\n",
      "[I 2024-11-22 11:25:46,070] Trial 278 finished with value: 0.22067051401784102 and parameters: {'n_clusters': 132, 'linkage': 'complete'}. Best is trial 57 with value: 0.32729777740951294.\n",
      "[I 2024-11-22 11:25:46,311] Trial 279 finished with value: -0.03942822953607895 and parameters: {'n_clusters': 83, 'linkage': 'single'}. Best is trial 57 with value: 0.32729777740951294.\n",
      "[I 2024-11-22 11:25:46,543] Trial 280 finished with value: 0.19974693370091323 and parameters: {'n_clusters': 67, 'linkage': 'average'}. Best is trial 57 with value: 0.32729777740951294.\n",
      "[I 2024-11-22 11:25:46,787] Trial 281 finished with value: 0.2784438926733835 and parameters: {'n_clusters': 14, 'linkage': 'average'}. Best is trial 57 with value: 0.32729777740951294.\n",
      "[I 2024-11-22 11:25:47,026] Trial 282 finished with value: 0.1925607593171684 and parameters: {'n_clusters': 19, 'linkage': 'average'}. Best is trial 57 with value: 0.32729777740951294.\n",
      "[I 2024-11-22 11:25:47,261] Trial 283 finished with value: 0.2273522361563746 and parameters: {'n_clusters': 49, 'linkage': 'ward'}. Best is trial 57 with value: 0.32729777740951294.\n",
      "[I 2024-11-22 11:25:47,514] Trial 284 finished with value: -0.010997424377944652 and parameters: {'n_clusters': 104, 'linkage': 'single'}. Best is trial 57 with value: 0.32729777740951294.\n",
      "[I 2024-11-22 11:25:47,764] Trial 285 finished with value: 0.19889951184034566 and parameters: {'n_clusters': 71, 'linkage': 'complete'}. Best is trial 57 with value: 0.32729777740951294.\n",
      "[I 2024-11-22 11:25:48,016] Trial 286 finished with value: 0.224811438268322 and parameters: {'n_clusters': 122, 'linkage': 'average'}. Best is trial 57 with value: 0.32729777740951294.\n",
      "[I 2024-11-22 11:25:48,429] Trial 287 finished with value: 0.17556818511761565 and parameters: {'n_clusters': 48, 'linkage': 'complete'}. Best is trial 57 with value: 0.32729777740951294.\n",
      "[I 2024-11-22 11:25:48,781] Trial 288 finished with value: -0.04661846843884509 and parameters: {'n_clusters': 79, 'linkage': 'single'}. Best is trial 57 with value: 0.32729777740951294.\n",
      "[I 2024-11-22 11:25:49,082] Trial 289 finished with value: 0.18287417537978612 and parameters: {'n_clusters': 12, 'linkage': 'ward'}. Best is trial 57 with value: 0.32729777740951294.\n",
      "[I 2024-11-22 11:25:49,332] Trial 290 finished with value: 0.21398164022541366 and parameters: {'n_clusters': 90, 'linkage': 'average'}. Best is trial 57 with value: 0.32729777740951294.\n",
      "[I 2024-11-22 11:25:49,582] Trial 291 finished with value: -0.03350219766005386 and parameters: {'n_clusters': 116, 'linkage': 'single'}. Best is trial 57 with value: 0.32729777740951294.\n",
      "[I 2024-11-22 11:25:49,828] Trial 292 finished with value: 0.27789886320676294 and parameters: {'n_clusters': 15, 'linkage': 'average'}. Best is trial 57 with value: 0.32729777740951294.\n",
      "[I 2024-11-22 11:25:50,069] Trial 293 finished with value: 0.17602041417909112 and parameters: {'n_clusters': 17, 'linkage': 'complete'}. Best is trial 57 with value: 0.32729777740951294.\n",
      "[I 2024-11-22 11:25:50,310] Trial 294 finished with value: 0.22310120709854364 and parameters: {'n_clusters': 110, 'linkage': 'average'}. Best is trial 57 with value: 0.32729777740951294.\n",
      "[I 2024-11-22 11:25:50,552] Trial 295 finished with value: -0.061041615175430775 and parameters: {'n_clusters': 91, 'linkage': 'single'}. Best is trial 57 with value: 0.32729777740951294.\n",
      "[I 2024-11-22 11:25:50,794] Trial 296 finished with value: 0.2968413542701591 and parameters: {'n_clusters': 11, 'linkage': 'single'}. Best is trial 57 with value: 0.32729777740951294.\n",
      "[I 2024-11-22 11:25:51,048] Trial 297 finished with value: 0.29426485670852903 and parameters: {'n_clusters': 124, 'linkage': 'ward'}. Best is trial 57 with value: 0.32729777740951294.\n",
      "[I 2024-11-22 11:25:51,309] Trial 298 finished with value: 0.15942775655922228 and parameters: {'n_clusters': 31, 'linkage': 'complete'}. Best is trial 57 with value: 0.32729777740951294.\n",
      "[I 2024-11-22 11:25:51,558] Trial 299 finished with value: 0.21735236668219218 and parameters: {'n_clusters': 119, 'linkage': 'complete'}. Best is trial 57 with value: 0.32729777740951294.\n",
      "[I 2024-11-22 11:25:51,835] Trial 300 finished with value: 0.1470761979006531 and parameters: {'n_clusters': 45, 'linkage': 'average'}. Best is trial 57 with value: 0.32729777740951294.\n",
      "[I 2024-11-22 11:25:52,088] Trial 301 finished with value: -0.037525222396808895 and parameters: {'n_clusters': 69, 'linkage': 'single'}. Best is trial 57 with value: 0.32729777740951294.\n",
      "[I 2024-11-22 11:25:52,336] Trial 302 finished with value: 0.1695687166982716 and parameters: {'n_clusters': 37, 'linkage': 'average'}. Best is trial 57 with value: 0.32729777740951294.\n",
      "[I 2024-11-22 11:25:52,581] Trial 303 finished with value: 0.20980959295277052 and parameters: {'n_clusters': 85, 'linkage': 'complete'}. Best is trial 57 with value: 0.32729777740951294.\n",
      "[I 2024-11-22 11:25:52,830] Trial 304 finished with value: -0.017860900502353786 and parameters: {'n_clusters': 37, 'linkage': 'single'}. Best is trial 57 with value: 0.32729777740951294.\n",
      "[I 2024-11-22 11:25:53,078] Trial 305 finished with value: 0.20772633614940483 and parameters: {'n_clusters': 94, 'linkage': 'complete'}. Best is trial 57 with value: 0.32729777740951294.\n",
      "[I 2024-11-22 11:25:53,330] Trial 306 finished with value: 0.20978572346447005 and parameters: {'n_clusters': 83, 'linkage': 'complete'}. Best is trial 57 with value: 0.32729777740951294.\n",
      "[I 2024-11-22 11:25:53,641] Trial 307 finished with value: 0.32043327823014345 and parameters: {'n_clusters': 146, 'linkage': 'ward'}. Best is trial 57 with value: 0.32729777740951294.\n",
      "[I 2024-11-22 11:25:53,888] Trial 308 finished with value: 0.15835929015129013 and parameters: {'n_clusters': 22, 'linkage': 'single'}. Best is trial 57 with value: 0.32729777740951294.\n",
      "[I 2024-11-22 11:25:54,143] Trial 309 finished with value: 0.2313302071387184 and parameters: {'n_clusters': 123, 'linkage': 'average'}. Best is trial 57 with value: 0.32729777740951294.\n",
      "[I 2024-11-22 11:25:54,399] Trial 310 finished with value: 0.21050138323315704 and parameters: {'n_clusters': 82, 'linkage': 'complete'}. Best is trial 57 with value: 0.32729777740951294.\n",
      "[I 2024-11-22 11:25:54,651] Trial 311 finished with value: 0.17466049688869262 and parameters: {'n_clusters': 47, 'linkage': 'complete'}. Best is trial 57 with value: 0.32729777740951294.\n",
      "[I 2024-11-22 11:25:54,907] Trial 312 finished with value: -0.039532919279455514 and parameters: {'n_clusters': 72, 'linkage': 'single'}. Best is trial 57 with value: 0.32729777740951294.\n",
      "[I 2024-11-22 11:25:55,163] Trial 313 finished with value: 0.09841825566449644 and parameters: {'n_clusters': 30, 'linkage': 'single'}. Best is trial 57 with value: 0.32729777740951294.\n",
      "[I 2024-11-22 11:25:55,416] Trial 314 finished with value: 0.2315208890931619 and parameters: {'n_clusters': 124, 'linkage': 'average'}. Best is trial 57 with value: 0.32729777740951294.\n",
      "[I 2024-11-22 11:25:55,668] Trial 315 finished with value: 0.21763138450620376 and parameters: {'n_clusters': 101, 'linkage': 'average'}. Best is trial 57 with value: 0.32729777740951294.\n",
      "[I 2024-11-22 11:25:55,988] Trial 316 finished with value: 0.3185445128986242 and parameters: {'n_clusters': 143, 'linkage': 'ward'}. Best is trial 57 with value: 0.32729777740951294.\n",
      "[I 2024-11-22 11:25:56,357] Trial 317 finished with value: 0.22327361792243564 and parameters: {'n_clusters': 43, 'linkage': 'ward'}. Best is trial 57 with value: 0.32729777740951294.\n",
      "[I 2024-11-22 11:25:56,661] Trial 318 finished with value: 0.26190027728624615 and parameters: {'n_clusters': 98, 'linkage': 'ward'}. Best is trial 57 with value: 0.32729777740951294.\n",
      "[I 2024-11-22 11:25:57,044] Trial 319 finished with value: 0.17709862503461418 and parameters: {'n_clusters': 18, 'linkage': 'complete'}. Best is trial 57 with value: 0.32729777740951294.\n",
      "[I 2024-11-22 11:25:57,374] Trial 320 finished with value: 0.2300115897189158 and parameters: {'n_clusters': 54, 'linkage': 'ward'}. Best is trial 57 with value: 0.32729777740951294.\n",
      "[I 2024-11-22 11:25:57,637] Trial 321 finished with value: 0.23777033103131473 and parameters: {'n_clusters': 71, 'linkage': 'ward'}. Best is trial 57 with value: 0.32729777740951294.\n",
      "[I 2024-11-22 11:25:57,901] Trial 322 finished with value: 0.19965022171261804 and parameters: {'n_clusters': 68, 'linkage': 'average'}. Best is trial 57 with value: 0.32729777740951294.\n",
      "[I 2024-11-22 11:25:58,177] Trial 323 finished with value: -0.043039199841860214 and parameters: {'n_clusters': 82, 'linkage': 'single'}. Best is trial 57 with value: 0.32729777740951294.\n",
      "[I 2024-11-22 11:25:58,441] Trial 324 finished with value: 0.0811475233552725 and parameters: {'n_clusters': 127, 'linkage': 'single'}. Best is trial 57 with value: 0.32729777740951294.\n",
      "[I 2024-11-22 11:25:58,720] Trial 325 finished with value: 0.21701634759264843 and parameters: {'n_clusters': 108, 'linkage': 'complete'}. Best is trial 57 with value: 0.32729777740951294.\n",
      "[I 2024-11-22 11:25:58,983] Trial 326 finished with value: 0.21811303345371058 and parameters: {'n_clusters': 113, 'linkage': 'complete'}. Best is trial 57 with value: 0.32729777740951294.\n",
      "[I 2024-11-22 11:25:59,249] Trial 327 finished with value: 0.21742433299416358 and parameters: {'n_clusters': 87, 'linkage': 'average'}. Best is trial 57 with value: 0.32729777740951294.\n",
      "[I 2024-11-22 11:25:59,513] Trial 328 finished with value: 0.1598661682801904 and parameters: {'n_clusters': 30, 'linkage': 'complete'}. Best is trial 57 with value: 0.32729777740951294.\n",
      "[I 2024-11-22 11:25:59,782] Trial 329 finished with value: 0.1275663264838102 and parameters: {'n_clusters': 25, 'linkage': 'complete'}. Best is trial 57 with value: 0.32729777740951294.\n",
      "[I 2024-11-22 11:26:00,046] Trial 330 finished with value: 0.24209625997965917 and parameters: {'n_clusters': 83, 'linkage': 'ward'}. Best is trial 57 with value: 0.32729777740951294.\n",
      "[I 2024-11-22 11:26:00,309] Trial 331 finished with value: 0.13826163193289398 and parameters: {'n_clusters': 23, 'linkage': 'complete'}. Best is trial 57 with value: 0.32729777740951294.\n",
      "[I 2024-11-22 11:26:00,572] Trial 332 finished with value: 0.22921777942654054 and parameters: {'n_clusters': 45, 'linkage': 'ward'}. Best is trial 57 with value: 0.32729777740951294.\n",
      "[I 2024-11-22 11:26:00,845] Trial 333 finished with value: 0.20899510686338463 and parameters: {'n_clusters': 89, 'linkage': 'complete'}. Best is trial 57 with value: 0.32729777740951294.\n",
      "[I 2024-11-22 11:26:01,121] Trial 334 finished with value: 0.21334115506165935 and parameters: {'n_clusters': 39, 'linkage': 'ward'}. Best is trial 57 with value: 0.32729777740951294.\n",
      "[I 2024-11-22 11:26:01,430] Trial 335 finished with value: -0.0241670363509758 and parameters: {'n_clusters': 42, 'linkage': 'single'}. Best is trial 57 with value: 0.32729777740951294.\n",
      "[I 2024-11-22 11:26:01,801] Trial 336 finished with value: 0.17683213552998414 and parameters: {'n_clusters': 16, 'linkage': 'single'}. Best is trial 57 with value: 0.32729777740951294.\n",
      "[I 2024-11-22 11:26:02,072] Trial 337 finished with value: 0.15830804059525252 and parameters: {'n_clusters': 23, 'linkage': 'single'}. Best is trial 57 with value: 0.32729777740951294.\n",
      "[I 2024-11-22 11:26:02,338] Trial 338 finished with value: 0.16950777389951255 and parameters: {'n_clusters': 37, 'linkage': 'complete'}. Best is trial 57 with value: 0.32729777740951294.\n",
      "[I 2024-11-22 11:26:02,629] Trial 339 finished with value: 0.05612018500406778 and parameters: {'n_clusters': 125, 'linkage': 'single'}. Best is trial 57 with value: 0.32729777740951294.\n",
      "[I 2024-11-22 11:26:02,903] Trial 340 finished with value: 0.21761579399372447 and parameters: {'n_clusters': 86, 'linkage': 'average'}. Best is trial 57 with value: 0.32729777740951294.\n",
      "[I 2024-11-22 11:26:03,173] Trial 341 finished with value: 0.2089756362131686 and parameters: {'n_clusters': 37, 'linkage': 'ward'}. Best is trial 57 with value: 0.32729777740951294.\n",
      "[I 2024-11-22 11:26:03,441] Trial 342 finished with value: 0.23025112960570635 and parameters: {'n_clusters': 149, 'linkage': 'complete'}. Best is trial 57 with value: 0.32729777740951294.\n",
      "[I 2024-11-22 11:26:03,707] Trial 343 finished with value: 0.23039723803054932 and parameters: {'n_clusters': 143, 'linkage': 'complete'}. Best is trial 57 with value: 0.32729777740951294.\n",
      "[I 2024-11-22 11:26:03,978] Trial 344 finished with value: 0.15065460744693257 and parameters: {'n_clusters': 25, 'linkage': 'average'}. Best is trial 57 with value: 0.32729777740951294.\n",
      "[I 2024-11-22 11:26:04,241] Trial 345 finished with value: 0.23233867421306736 and parameters: {'n_clusters': 150, 'linkage': 'complete'}. Best is trial 57 with value: 0.32729777740951294.\n",
      "[I 2024-11-22 11:26:04,509] Trial 346 finished with value: 0.1367988848991185 and parameters: {'n_clusters': 20, 'linkage': 'single'}. Best is trial 57 with value: 0.32729777740951294.\n",
      "[I 2024-11-22 11:26:04,783] Trial 347 finished with value: 0.32487339992902015 and parameters: {'n_clusters': 148, 'linkage': 'ward'}. Best is trial 57 with value: 0.32729777740951294.\n",
      "[I 2024-11-22 11:26:05,055] Trial 348 finished with value: 0.21821868643207368 and parameters: {'n_clusters': 81, 'linkage': 'average'}. Best is trial 57 with value: 0.32729777740951294.\n",
      "[I 2024-11-22 11:26:05,327] Trial 349 finished with value: 0.2857669264096271 and parameters: {'n_clusters': 114, 'linkage': 'ward'}. Best is trial 57 with value: 0.32729777740951294.\n",
      "[I 2024-11-22 11:26:05,596] Trial 350 finished with value: 0.12710406656875103 and parameters: {'n_clusters': 25, 'linkage': 'single'}. Best is trial 57 with value: 0.32729777740951294.\n",
      "[I 2024-11-22 11:26:05,868] Trial 351 finished with value: 0.16011282752800948 and parameters: {'n_clusters': 21, 'linkage': 'single'}. Best is trial 57 with value: 0.32729777740951294.\n",
      "[I 2024-11-22 11:26:06,140] Trial 352 finished with value: 0.11004670176078468 and parameters: {'n_clusters': 27, 'linkage': 'single'}. Best is trial 57 with value: 0.32729777740951294.\n",
      "[I 2024-11-22 11:26:06,410] Trial 353 finished with value: 0.2104267644104242 and parameters: {'n_clusters': 84, 'linkage': 'average'}. Best is trial 57 with value: 0.32729777740951294.\n",
      "[I 2024-11-22 11:26:06,683] Trial 354 finished with value: -0.03867495615215134 and parameters: {'n_clusters': 74, 'linkage': 'single'}. Best is trial 57 with value: 0.32729777740951294.\n",
      "[I 2024-11-22 11:26:06,957] Trial 355 finished with value: 0.18123086299169006 and parameters: {'n_clusters': 58, 'linkage': 'average'}. Best is trial 57 with value: 0.32729777740951294.\n",
      "[I 2024-11-22 11:26:07,229] Trial 356 finished with value: 0.21095133165102783 and parameters: {'n_clusters': 83, 'linkage': 'average'}. Best is trial 57 with value: 0.32729777740951294.\n",
      "[I 2024-11-22 11:26:07,501] Trial 357 finished with value: -0.010835928868282507 and parameters: {'n_clusters': 108, 'linkage': 'single'}. Best is trial 57 with value: 0.32729777740951294.\n",
      "[I 2024-11-22 11:26:07,773] Trial 358 finished with value: 0.19890053387823364 and parameters: {'n_clusters': 73, 'linkage': 'average'}. Best is trial 57 with value: 0.32729777740951294.\n",
      "[I 2024-11-22 11:26:08,045] Trial 359 finished with value: 0.21968558402008237 and parameters: {'n_clusters': 103, 'linkage': 'average'}. Best is trial 57 with value: 0.32729777740951294.\n",
      "[I 2024-11-22 11:26:08,315] Trial 360 finished with value: 0.23545274163784505 and parameters: {'n_clusters': 128, 'linkage': 'average'}. Best is trial 57 with value: 0.32729777740951294.\n",
      "[I 2024-11-22 11:26:08,590] Trial 361 finished with value: 0.2405955833588235 and parameters: {'n_clusters': 77, 'linkage': 'ward'}. Best is trial 57 with value: 0.32729777740951294.\n",
      "[I 2024-11-22 11:26:08,865] Trial 362 finished with value: 0.1993309596014807 and parameters: {'n_clusters': 34, 'linkage': 'ward'}. Best is trial 57 with value: 0.32729777740951294.\n",
      "[I 2024-11-22 11:26:09,140] Trial 363 finished with value: 0.21095040426466707 and parameters: {'n_clusters': 85, 'linkage': 'average'}. Best is trial 57 with value: 0.32729777740951294.\n",
      "[I 2024-11-22 11:26:09,414] Trial 364 finished with value: 0.1341021376087075 and parameters: {'n_clusters': 28, 'linkage': 'complete'}. Best is trial 57 with value: 0.32729777740951294.\n",
      "[I 2024-11-22 11:26:09,692] Trial 365 finished with value: 0.21220177114584043 and parameters: {'n_clusters': 92, 'linkage': 'average'}. Best is trial 57 with value: 0.32729777740951294.\n",
      "[I 2024-11-22 11:26:09,971] Trial 366 finished with value: 0.315594714097842 and parameters: {'n_clusters': 139, 'linkage': 'ward'}. Best is trial 57 with value: 0.32729777740951294.\n",
      "[I 2024-11-22 11:26:10,248] Trial 367 finished with value: -0.04852295644330355 and parameters: {'n_clusters': 66, 'linkage': 'single'}. Best is trial 57 with value: 0.32729777740951294.\n",
      "[I 2024-11-22 11:26:10,526] Trial 368 finished with value: 0.2919699728486305 and parameters: {'n_clusters': 121, 'linkage': 'ward'}. Best is trial 57 with value: 0.32729777740951294.\n",
      "[I 2024-11-22 11:26:10,805] Trial 369 finished with value: 0.17673537708817277 and parameters: {'n_clusters': 35, 'linkage': 'average'}. Best is trial 57 with value: 0.32729777740951294.\n",
      "[I 2024-11-22 11:26:11,083] Trial 370 finished with value: 0.23853076523814187 and parameters: {'n_clusters': 136, 'linkage': 'average'}. Best is trial 57 with value: 0.32729777740951294.\n",
      "[I 2024-11-22 11:26:11,366] Trial 371 finished with value: -0.027445195588072496 and parameters: {'n_clusters': 85, 'linkage': 'single'}. Best is trial 57 with value: 0.32729777740951294.\n",
      "[I 2024-11-22 11:26:11,648] Trial 372 finished with value: 0.22843230086935587 and parameters: {'n_clusters': 50, 'linkage': 'ward'}. Best is trial 57 with value: 0.32729777740951294.\n",
      "[I 2024-11-22 11:26:12,008] Trial 373 finished with value: 0.2419591310996437 and parameters: {'n_clusters': 143, 'linkage': 'average'}. Best is trial 57 with value: 0.32729777740951294.\n",
      "[I 2024-11-22 11:26:12,194] Trial 374 finished with value: 0.04538065334524472 and parameters: {'n_clusters': 33, 'linkage': 'single'}. Best is trial 57 with value: 0.32729777740951294.\n",
      "[I 2024-11-22 11:26:12,390] Trial 375 finished with value: 0.2503636469950694 and parameters: {'n_clusters': 89, 'linkage': 'ward'}. Best is trial 57 with value: 0.32729777740951294.\n",
      "[I 2024-11-22 11:26:12,614] Trial 376 finished with value: -0.07744379671214284 and parameters: {'n_clusters': 56, 'linkage': 'single'}. Best is trial 57 with value: 0.32729777740951294.\n",
      "[I 2024-11-22 11:26:12,801] Trial 377 finished with value: 0.049074551079755516 and parameters: {'n_clusters': 143, 'linkage': 'single'}. Best is trial 57 with value: 0.32729777740951294.\n",
      "[I 2024-11-22 11:26:12,993] Trial 378 finished with value: 0.18309893746741152 and parameters: {'n_clusters': 55, 'linkage': 'complete'}. Best is trial 57 with value: 0.32729777740951294.\n",
      "[I 2024-11-22 11:26:13,179] Trial 379 finished with value: 0.1954580408099718 and parameters: {'n_clusters': 23, 'linkage': 'ward'}. Best is trial 57 with value: 0.32729777740951294.\n",
      "[I 2024-11-22 11:26:13,366] Trial 380 finished with value: 0.1744905384837568 and parameters: {'n_clusters': 15, 'linkage': 'complete'}. Best is trial 57 with value: 0.32729777740951294.\n",
      "[I 2024-11-22 11:26:13,640] Trial 381 finished with value: 0.18004032453377464 and parameters: {'n_clusters': 54, 'linkage': 'complete'}. Best is trial 57 with value: 0.32729777740951294.\n",
      "[I 2024-11-22 11:26:13,942] Trial 382 finished with value: 0.30172233572304596 and parameters: {'n_clusters': 131, 'linkage': 'ward'}. Best is trial 57 with value: 0.32729777740951294.\n",
      "[I 2024-11-22 11:26:14,233] Trial 383 finished with value: 0.2231187433709101 and parameters: {'n_clusters': 120, 'linkage': 'average'}. Best is trial 57 with value: 0.32729777740951294.\n",
      "[I 2024-11-22 11:26:14,527] Trial 384 finished with value: 0.2206249869557132 and parameters: {'n_clusters': 97, 'linkage': 'average'}. Best is trial 57 with value: 0.32729777740951294.\n",
      "[I 2024-11-22 11:26:14,822] Trial 385 finished with value: 0.12668977290326564 and parameters: {'n_clusters': 26, 'linkage': 'single'}. Best is trial 57 with value: 0.32729777740951294.\n",
      "[I 2024-11-22 11:26:15,121] Trial 386 finished with value: 0.13245953277476302 and parameters: {'n_clusters': 30, 'linkage': 'average'}. Best is trial 57 with value: 0.32729777740951294.\n",
      "[I 2024-11-22 11:26:15,412] Trial 387 finished with value: 0.2576836085863808 and parameters: {'n_clusters': 93, 'linkage': 'ward'}. Best is trial 57 with value: 0.32729777740951294.\n",
      "[I 2024-11-22 11:26:15,710] Trial 388 finished with value: 0.2957516719663861 and parameters: {'n_clusters': 127, 'linkage': 'ward'}. Best is trial 57 with value: 0.32729777740951294.\n",
      "[I 2024-11-22 11:26:16,042] Trial 389 finished with value: 0.2100402481387842 and parameters: {'n_clusters': 102, 'linkage': 'complete'}. Best is trial 57 with value: 0.32729777740951294.\n",
      "[I 2024-11-22 11:26:16,346] Trial 390 finished with value: 0.21732771311478008 and parameters: {'n_clusters': 127, 'linkage': 'complete'}. Best is trial 57 with value: 0.32729777740951294.\n",
      "[I 2024-11-22 11:26:16,648] Trial 391 finished with value: 0.20228157903755048 and parameters: {'n_clusters': 35, 'linkage': 'ward'}. Best is trial 57 with value: 0.32729777740951294.\n",
      "[I 2024-11-22 11:26:16,946] Trial 392 finished with value: 0.2923911720018562 and parameters: {'n_clusters': 120, 'linkage': 'ward'}. Best is trial 57 with value: 0.32729777740951294.\n",
      "[I 2024-11-22 11:26:17,257] Trial 393 finished with value: 0.21123125207408924 and parameters: {'n_clusters': 18, 'linkage': 'average'}. Best is trial 57 with value: 0.32729777740951294.\n",
      "[I 2024-11-22 11:26:17,565] Trial 394 finished with value: 0.15019463148388285 and parameters: {'n_clusters': 21, 'linkage': 'average'}. Best is trial 57 with value: 0.32729777740951294.\n",
      "[I 2024-11-22 11:26:17,866] Trial 395 finished with value: 0.19640231259677227 and parameters: {'n_clusters': 26, 'linkage': 'ward'}. Best is trial 57 with value: 0.32729777740951294.\n",
      "[I 2024-11-22 11:26:18,172] Trial 396 finished with value: 0.2923372647462709 and parameters: {'n_clusters': 13, 'linkage': 'single'}. Best is trial 57 with value: 0.32729777740951294.\n",
      "[I 2024-11-22 11:26:18,498] Trial 397 finished with value: 0.19781389307263358 and parameters: {'n_clusters': 59, 'linkage': 'complete'}. Best is trial 57 with value: 0.32729777740951294.\n",
      "[I 2024-11-22 11:26:18,822] Trial 398 finished with value: 0.29217657249856227 and parameters: {'n_clusters': 119, 'linkage': 'ward'}. Best is trial 57 with value: 0.32729777740951294.\n",
      "[I 2024-11-22 11:26:19,127] Trial 399 finished with value: -0.04855905789796936 and parameters: {'n_clusters': 62, 'linkage': 'single'}. Best is trial 57 with value: 0.32729777740951294.\n",
      "[I 2024-11-22 11:26:19,431] Trial 400 finished with value: 0.09729502744855044 and parameters: {'n_clusters': 28, 'linkage': 'single'}. Best is trial 57 with value: 0.32729777740951294.\n",
      "[I 2024-11-22 11:26:19,743] Trial 401 finished with value: 0.32745480721431686 and parameters: {'n_clusters': 149, 'linkage': 'ward'}. Best is trial 401 with value: 0.32745480721431686.\n",
      "[I 2024-11-22 11:26:20,056] Trial 402 finished with value: 0.21658887884601227 and parameters: {'n_clusters': 106, 'linkage': 'average'}. Best is trial 401 with value: 0.32745480721431686.\n",
      "[I 2024-11-22 11:26:20,375] Trial 403 finished with value: 0.24025057171969064 and parameters: {'n_clusters': 129, 'linkage': 'average'}. Best is trial 401 with value: 0.32745480721431686.\n",
      "[I 2024-11-22 11:26:20,690] Trial 404 finished with value: 0.20569809787015683 and parameters: {'n_clusters': 80, 'linkage': 'complete'}. Best is trial 401 with value: 0.32745480721431686.\n",
      "[I 2024-11-22 11:26:21,008] Trial 405 finished with value: -0.003628250499849949 and parameters: {'n_clusters': 34, 'linkage': 'single'}. Best is trial 401 with value: 0.32745480721431686.\n",
      "[I 2024-11-22 11:26:21,310] Trial 406 finished with value: 0.17527818052814975 and parameters: {'n_clusters': 45, 'linkage': 'complete'}. Best is trial 401 with value: 0.32745480721431686.\n",
      "[I 2024-11-22 11:26:21,630] Trial 407 finished with value: 0.17960211035422183 and parameters: {'n_clusters': 51, 'linkage': 'complete'}. Best is trial 401 with value: 0.32745480721431686.\n",
      "[I 2024-11-22 11:26:21,952] Trial 408 finished with value: -0.05966834145631194 and parameters: {'n_clusters': 93, 'linkage': 'single'}. Best is trial 401 with value: 0.32745480721431686.\n",
      "[I 2024-11-22 11:26:22,272] Trial 409 finished with value: 0.22333931204345855 and parameters: {'n_clusters': 117, 'linkage': 'average'}. Best is trial 401 with value: 0.32745480721431686.\n",
      "[I 2024-11-22 11:26:22,578] Trial 410 finished with value: 0.22844218551884143 and parameters: {'n_clusters': 141, 'linkage': 'complete'}. Best is trial 401 with value: 0.32745480721431686.\n",
      "[I 2024-11-22 11:26:22,894] Trial 411 finished with value: -0.05960595120726148 and parameters: {'n_clusters': 92, 'linkage': 'single'}. Best is trial 401 with value: 0.32745480721431686.\n",
      "[I 2024-11-22 11:26:23,210] Trial 412 finished with value: 0.19540436364531646 and parameters: {'n_clusters': 29, 'linkage': 'ward'}. Best is trial 401 with value: 0.32745480721431686.\n",
      "[I 2024-11-22 11:26:23,521] Trial 413 finished with value: 0.19240884762415547 and parameters: {'n_clusters': 56, 'linkage': 'complete'}. Best is trial 401 with value: 0.32745480721431686.\n",
      "[I 2024-11-22 11:26:23,892] Trial 414 finished with value: 0.13729388289389444 and parameters: {'n_clusters': 24, 'linkage': 'complete'}. Best is trial 401 with value: 0.32745480721431686.\n",
      "[I 2024-11-22 11:26:24,286] Trial 415 finished with value: -0.02763246981327393 and parameters: {'n_clusters': 61, 'linkage': 'single'}. Best is trial 401 with value: 0.32745480721431686.\n",
      "[I 2024-11-22 11:26:24,645] Trial 416 finished with value: 0.23763470760149702 and parameters: {'n_clusters': 138, 'linkage': 'average'}. Best is trial 401 with value: 0.32745480721431686.\n",
      "[I 2024-11-22 11:26:25,005] Trial 417 finished with value: 0.2102942008068066 and parameters: {'n_clusters': 91, 'linkage': 'complete'}. Best is trial 401 with value: 0.32745480721431686.\n",
      "[I 2024-11-22 11:26:25,418] Trial 418 finished with value: 0.2217789479573064 and parameters: {'n_clusters': 95, 'linkage': 'average'}. Best is trial 401 with value: 0.32745480721431686.\n",
      "[I 2024-11-22 11:26:25,720] Trial 419 finished with value: 0.053492426697512786 and parameters: {'n_clusters': 141, 'linkage': 'single'}. Best is trial 401 with value: 0.32745480721431686.\n",
      "[I 2024-11-22 11:26:26,023] Trial 420 finished with value: 0.17321889728896364 and parameters: {'n_clusters': 13, 'linkage': 'ward'}. Best is trial 401 with value: 0.32745480721431686.\n",
      "[I 2024-11-22 11:26:26,328] Trial 421 finished with value: 0.15710043691356465 and parameters: {'n_clusters': 24, 'linkage': 'single'}. Best is trial 401 with value: 0.32745480721431686.\n",
      "[I 2024-11-22 11:26:26,632] Trial 422 finished with value: 0.30733651320656874 and parameters: {'n_clusters': 135, 'linkage': 'ward'}. Best is trial 401 with value: 0.32745480721431686.\n",
      "[I 2024-11-22 11:26:26,938] Trial 423 finished with value: 0.23590347853781163 and parameters: {'n_clusters': 149, 'linkage': 'average'}. Best is trial 401 with value: 0.32745480721431686.\n",
      "[I 2024-11-22 11:26:27,245] Trial 424 finished with value: 0.1735660966429939 and parameters: {'n_clusters': 14, 'linkage': 'complete'}. Best is trial 401 with value: 0.32745480721431686.\n",
      "[I 2024-11-22 11:26:27,552] Trial 425 finished with value: 0.24700514261089737 and parameters: {'n_clusters': 87, 'linkage': 'ward'}. Best is trial 401 with value: 0.32745480721431686.\n",
      "[I 2024-11-22 11:26:27,858] Trial 426 finished with value: 0.19173649995880054 and parameters: {'n_clusters': 53, 'linkage': 'average'}. Best is trial 401 with value: 0.32745480721431686.\n",
      "[I 2024-11-22 11:26:28,164] Trial 427 finished with value: 0.2092478212327144 and parameters: {'n_clusters': 99, 'linkage': 'complete'}. Best is trial 401 with value: 0.32745480721431686.\n",
      "[I 2024-11-22 11:26:28,472] Trial 428 finished with value: -0.04956810457931768 and parameters: {'n_clusters': 63, 'linkage': 'single'}. Best is trial 401 with value: 0.32745480721431686.\n",
      "[I 2024-11-22 11:26:28,778] Trial 429 finished with value: 0.05436585966019914 and parameters: {'n_clusters': 140, 'linkage': 'single'}. Best is trial 401 with value: 0.32745480721431686.\n",
      "[I 2024-11-22 11:26:29,089] Trial 430 finished with value: 0.240947527209999 and parameters: {'n_clusters': 144, 'linkage': 'average'}. Best is trial 401 with value: 0.32745480721431686.\n",
      "[I 2024-11-22 11:26:29,399] Trial 431 finished with value: 0.14835122918546384 and parameters: {'n_clusters': 22, 'linkage': 'complete'}. Best is trial 401 with value: 0.32745480721431686.\n",
      "[I 2024-11-22 11:26:29,710] Trial 432 finished with value: -0.031080422587074753 and parameters: {'n_clusters': 119, 'linkage': 'single'}. Best is trial 401 with value: 0.32745480721431686.\n",
      "[I 2024-11-22 11:26:30,026] Trial 433 finished with value: 0.1898991708938265 and parameters: {'n_clusters': 51, 'linkage': 'average'}. Best is trial 401 with value: 0.32745480721431686.\n",
      "[I 2024-11-22 11:26:30,440] Trial 434 finished with value: 0.2212420302678087 and parameters: {'n_clusters': 42, 'linkage': 'ward'}. Best is trial 401 with value: 0.32745480721431686.\n",
      "[I 2024-11-22 11:26:30,779] Trial 435 finished with value: 0.2517482372292342 and parameters: {'n_clusters': 90, 'linkage': 'ward'}. Best is trial 401 with value: 0.32745480721431686.\n",
      "[I 2024-11-22 11:26:31,111] Trial 436 finished with value: 0.15856059367953348 and parameters: {'n_clusters': 35, 'linkage': 'complete'}. Best is trial 401 with value: 0.32745480721431686.\n",
      "[I 2024-11-22 11:26:31,461] Trial 437 finished with value: 0.23451613748801164 and parameters: {'n_clusters': 127, 'linkage': 'average'}. Best is trial 401 with value: 0.32745480721431686.\n",
      "[I 2024-11-22 11:26:31,803] Trial 438 finished with value: 0.1860018540443145 and parameters: {'n_clusters': 21, 'linkage': 'ward'}. Best is trial 401 with value: 0.32745480721431686.\n",
      "[I 2024-11-22 11:26:32,255] Trial 439 finished with value: 0.2114980967491886 and parameters: {'n_clusters': 88, 'linkage': 'complete'}. Best is trial 401 with value: 0.32745480721431686.\n",
      "[I 2024-11-22 11:26:32,697] Trial 440 finished with value: -0.029099277066885053 and parameters: {'n_clusters': 54, 'linkage': 'single'}. Best is trial 401 with value: 0.32745480721431686.\n",
      "[I 2024-11-22 11:26:33,028] Trial 441 finished with value: 0.26126600614254436 and parameters: {'n_clusters': 96, 'linkage': 'ward'}. Best is trial 401 with value: 0.32745480721431686.\n",
      "[I 2024-11-22 11:26:33,351] Trial 442 finished with value: 0.23964384450953755 and parameters: {'n_clusters': 135, 'linkage': 'average'}. Best is trial 401 with value: 0.32745480721431686.\n",
      "[I 2024-11-22 11:26:33,661] Trial 443 finished with value: 0.22969857420862358 and parameters: {'n_clusters': 46, 'linkage': 'ward'}. Best is trial 401 with value: 0.32745480721431686.\n",
      "[I 2024-11-22 11:26:33,989] Trial 444 finished with value: 0.20286714923064503 and parameters: {'n_clusters': 62, 'linkage': 'average'}. Best is trial 401 with value: 0.32745480721431686.\n",
      "[I 2024-11-22 11:26:34,321] Trial 445 finished with value: 0.23625269589857809 and parameters: {'n_clusters': 68, 'linkage': 'ward'}. Best is trial 401 with value: 0.32745480721431686.\n",
      "[I 2024-11-22 11:26:34,640] Trial 446 finished with value: 0.22936815618560366 and parameters: {'n_clusters': 51, 'linkage': 'ward'}. Best is trial 401 with value: 0.32745480721431686.\n",
      "[I 2024-11-22 11:26:34,956] Trial 447 finished with value: 0.2383516863963981 and parameters: {'n_clusters': 139, 'linkage': 'average'}. Best is trial 401 with value: 0.32745480721431686.\n",
      "[I 2024-11-22 11:26:35,272] Trial 448 finished with value: 0.22776753334741912 and parameters: {'n_clusters': 139, 'linkage': 'complete'}. Best is trial 401 with value: 0.32745480721431686.\n",
      "[I 2024-11-22 11:26:35,588] Trial 449 finished with value: 0.23407030327917897 and parameters: {'n_clusters': 60, 'linkage': 'ward'}. Best is trial 401 with value: 0.32745480721431686.\n",
      "[I 2024-11-22 11:26:35,906] Trial 450 finished with value: 0.20625754024994433 and parameters: {'n_clusters': 78, 'linkage': 'average'}. Best is trial 401 with value: 0.32745480721431686.\n",
      "[I 2024-11-22 11:26:36,226] Trial 451 finished with value: -0.052314376516392126 and parameters: {'n_clusters': 89, 'linkage': 'single'}. Best is trial 401 with value: 0.32745480721431686.\n",
      "[I 2024-11-22 11:26:36,547] Trial 452 finished with value: -0.05135152870340016 and parameters: {'n_clusters': 88, 'linkage': 'single'}. Best is trial 401 with value: 0.32745480721431686.\n",
      "[I 2024-11-22 11:26:36,869] Trial 453 finished with value: -0.00915919301471713 and parameters: {'n_clusters': 106, 'linkage': 'single'}. Best is trial 401 with value: 0.32745480721431686.\n",
      "[I 2024-11-22 11:26:37,217] Trial 454 finished with value: -0.011023372350648684 and parameters: {'n_clusters': 105, 'linkage': 'single'}. Best is trial 401 with value: 0.32745480721431686.\n",
      "[I 2024-11-22 11:26:37,541] Trial 455 finished with value: -0.01793912162338041 and parameters: {'n_clusters': 38, 'linkage': 'single'}. Best is trial 401 with value: 0.32745480721431686.\n",
      "[I 2024-11-22 11:26:37,860] Trial 456 finished with value: 0.30442194047389254 and parameters: {'n_clusters': 133, 'linkage': 'ward'}. Best is trial 401 with value: 0.32745480721431686.\n",
      "[I 2024-11-22 11:26:38,187] Trial 457 finished with value: 0.2142385421611545 and parameters: {'n_clusters': 91, 'linkage': 'average'}. Best is trial 401 with value: 0.32745480721431686.\n",
      "[I 2024-11-22 11:26:38,509] Trial 458 finished with value: 0.2303639069077111 and parameters: {'n_clusters': 147, 'linkage': 'complete'}. Best is trial 401 with value: 0.32745480721431686.\n",
      "[I 2024-11-22 11:26:38,831] Trial 459 finished with value: 0.2379601682964414 and parameters: {'n_clusters': 72, 'linkage': 'ward'}. Best is trial 401 with value: 0.32745480721431686.\n",
      "[I 2024-11-22 11:26:39,151] Trial 460 finished with value: -0.05300215835511741 and parameters: {'n_clusters': 64, 'linkage': 'single'}. Best is trial 401 with value: 0.32745480721431686.\n",
      "[I 2024-11-22 11:26:39,474] Trial 461 finished with value: 0.20819440215575902 and parameters: {'n_clusters': 105, 'linkage': 'complete'}. Best is trial 401 with value: 0.32745480721431686.\n",
      "[I 2024-11-22 11:26:39,796] Trial 462 finished with value: 0.31792560911284873 and parameters: {'n_clusters': 140, 'linkage': 'ward'}. Best is trial 401 with value: 0.32745480721431686.\n",
      "[I 2024-11-22 11:26:40,119] Trial 463 finished with value: 0.1898778738544965 and parameters: {'n_clusters': 56, 'linkage': 'average'}. Best is trial 401 with value: 0.32745480721431686.\n",
      "[I 2024-11-22 11:26:40,442] Trial 464 finished with value: 0.1969249538839011 and parameters: {'n_clusters': 33, 'linkage': 'ward'}. Best is trial 401 with value: 0.32745480721431686.\n",
      "[I 2024-11-22 11:26:40,766] Trial 465 finished with value: -0.07796209866847381 and parameters: {'n_clusters': 58, 'linkage': 'single'}. Best is trial 401 with value: 0.32745480721431686.\n",
      "[I 2024-11-22 11:26:41,091] Trial 466 finished with value: 0.05579315211291585 and parameters: {'n_clusters': 137, 'linkage': 'single'}. Best is trial 401 with value: 0.32745480721431686.\n",
      "[I 2024-11-22 11:26:41,416] Trial 467 finished with value: 0.22819257932648418 and parameters: {'n_clusters': 53, 'linkage': 'ward'}. Best is trial 401 with value: 0.32745480721431686.\n",
      "[I 2024-11-22 11:26:41,740] Trial 468 finished with value: 0.20869905176945017 and parameters: {'n_clusters': 98, 'linkage': 'complete'}. Best is trial 401 with value: 0.32745480721431686.\n",
      "[I 2024-11-22 11:26:42,067] Trial 469 finished with value: 0.21465578928808468 and parameters: {'n_clusters': 122, 'linkage': 'complete'}. Best is trial 401 with value: 0.32745480721431686.\n",
      "[I 2024-11-22 11:26:42,402] Trial 470 finished with value: 0.17062847079327287 and parameters: {'n_clusters': 10, 'linkage': 'ward'}. Best is trial 401 with value: 0.32745480721431686.\n",
      "[I 2024-11-22 11:26:42,735] Trial 471 finished with value: 0.21543326441922986 and parameters: {'n_clusters': 111, 'linkage': 'complete'}. Best is trial 401 with value: 0.32745480721431686.\n",
      "[I 2024-11-22 11:26:43,070] Trial 472 finished with value: 0.1966138651934005 and parameters: {'n_clusters': 70, 'linkage': 'average'}. Best is trial 401 with value: 0.32745480721431686.\n",
      "[I 2024-11-22 11:26:43,404] Trial 473 finished with value: 0.21826098503493074 and parameters: {'n_clusters': 133, 'linkage': 'complete'}. Best is trial 401 with value: 0.32745480721431686.\n",
      "[I 2024-11-22 11:26:43,737] Trial 474 finished with value: 0.20924644807610013 and parameters: {'n_clusters': 96, 'linkage': 'complete'}. Best is trial 401 with value: 0.32745480721431686.\n",
      "[I 2024-11-22 11:26:44,068] Trial 475 finished with value: -0.028325991953246792 and parameters: {'n_clusters': 48, 'linkage': 'single'}. Best is trial 401 with value: 0.32745480721431686.\n",
      "[I 2024-11-22 11:26:44,404] Trial 476 finished with value: -0.02564590937948818 and parameters: {'n_clusters': 113, 'linkage': 'single'}. Best is trial 401 with value: 0.32745480721431686.\n",
      "[I 2024-11-22 11:26:44,737] Trial 477 finished with value: 0.27596859824296904 and parameters: {'n_clusters': 108, 'linkage': 'ward'}. Best is trial 401 with value: 0.32745480721431686.\n",
      "[I 2024-11-22 11:26:45,068] Trial 478 finished with value: 0.2176344903266656 and parameters: {'n_clusters': 115, 'linkage': 'complete'}. Best is trial 401 with value: 0.32745480721431686.\n",
      "[I 2024-11-22 11:26:45,397] Trial 479 finished with value: 0.2029305188757098 and parameters: {'n_clusters': 77, 'linkage': 'complete'}. Best is trial 401 with value: 0.32745480721431686.\n",
      "[I 2024-11-22 11:26:45,728] Trial 480 finished with value: 0.15945262065529955 and parameters: {'n_clusters': 32, 'linkage': 'complete'}. Best is trial 401 with value: 0.32745480721431686.\n",
      "[I 2024-11-22 11:26:46,058] Trial 481 finished with value: 0.23172676949173845 and parameters: {'n_clusters': 146, 'linkage': 'complete'}. Best is trial 401 with value: 0.32745480721431686.\n",
      "[I 2024-11-22 11:26:46,401] Trial 482 finished with value: 0.17100480884070085 and parameters: {'n_clusters': 20, 'linkage': 'complete'}. Best is trial 401 with value: 0.32745480721431686.\n",
      "[I 2024-11-22 11:26:46,732] Trial 483 finished with value: 0.17392803188504757 and parameters: {'n_clusters': 47, 'linkage': 'average'}. Best is trial 401 with value: 0.32745480721431686.\n",
      "[I 2024-11-22 11:26:47,061] Trial 484 finished with value: 0.20961496496305732 and parameters: {'n_clusters': 97, 'linkage': 'complete'}. Best is trial 401 with value: 0.32745480721431686.\n",
      "[I 2024-11-22 11:26:47,395] Trial 485 finished with value: 0.23578222555426126 and parameters: {'n_clusters': 125, 'linkage': 'average'}. Best is trial 401 with value: 0.32745480721431686.\n",
      "[I 2024-11-22 11:26:47,726] Trial 486 finished with value: 0.27211241621957377 and parameters: {'n_clusters': 104, 'linkage': 'ward'}. Best is trial 401 with value: 0.32745480721431686.\n",
      "[I 2024-11-22 11:26:48,058] Trial 487 finished with value: 0.19909488308169482 and parameters: {'n_clusters': 66, 'linkage': 'average'}. Best is trial 401 with value: 0.32745480721431686.\n",
      "[I 2024-11-22 11:26:48,392] Trial 488 finished with value: 0.2732319034268592 and parameters: {'n_clusters': 105, 'linkage': 'ward'}. Best is trial 401 with value: 0.32745480721431686.\n",
      "[I 2024-11-22 11:26:48,725] Trial 489 finished with value: 0.08482735984351049 and parameters: {'n_clusters': 133, 'linkage': 'single'}. Best is trial 401 with value: 0.32745480721431686.\n",
      "[I 2024-11-22 11:26:49,060] Trial 490 finished with value: 0.1691178088545011 and parameters: {'n_clusters': 32, 'linkage': 'average'}. Best is trial 401 with value: 0.32745480721431686.\n",
      "[I 2024-11-22 11:26:49,396] Trial 491 finished with value: 0.16166166475402693 and parameters: {'n_clusters': 38, 'linkage': 'average'}. Best is trial 401 with value: 0.32745480721431686.\n",
      "[I 2024-11-22 11:26:49,734] Trial 492 finished with value: 0.2452069856918441 and parameters: {'n_clusters': 79, 'linkage': 'ward'}. Best is trial 401 with value: 0.32745480721431686.\n",
      "[I 2024-11-22 11:26:50,069] Trial 493 finished with value: 0.15837835265277778 and parameters: {'n_clusters': 33, 'linkage': 'complete'}. Best is trial 401 with value: 0.32745480721431686.\n",
      "[I 2024-11-22 11:26:50,409] Trial 494 finished with value: 0.2327679263808043 and parameters: {'n_clusters': 58, 'linkage': 'ward'}. Best is trial 401 with value: 0.32745480721431686.\n",
      "[I 2024-11-22 11:26:50,745] Trial 495 finished with value: 0.19696221034056152 and parameters: {'n_clusters': 69, 'linkage': 'complete'}. Best is trial 401 with value: 0.32745480721431686.\n",
      "[I 2024-11-22 11:26:51,088] Trial 496 finished with value: 0.21046785689319697 and parameters: {'n_clusters': 101, 'linkage': 'complete'}. Best is trial 401 with value: 0.32745480721431686.\n",
      "[I 2024-11-22 11:26:51,449] Trial 497 finished with value: 0.2205641363735282 and parameters: {'n_clusters': 125, 'linkage': 'complete'}. Best is trial 401 with value: 0.32745480721431686.\n",
      "[I 2024-11-22 11:26:51,791] Trial 498 finished with value: 0.20779382085131243 and parameters: {'n_clusters': 76, 'linkage': 'average'}. Best is trial 401 with value: 0.32745480721431686.\n",
      "[I 2024-11-22 11:26:52,132] Trial 499 finished with value: 0.23729386413578146 and parameters: {'n_clusters': 148, 'linkage': 'average'}. Best is trial 401 with value: 0.32745480721431686.\n",
      "[I 2024-11-22 11:26:52,469] Trial 500 finished with value: -0.025769392486356013 and parameters: {'n_clusters': 112, 'linkage': 'single'}. Best is trial 401 with value: 0.32745480721431686.\n",
      "[I 2024-11-22 11:26:52,808] Trial 501 finished with value: 0.22024033598063295 and parameters: {'n_clusters': 96, 'linkage': 'average'}. Best is trial 401 with value: 0.32745480721431686.\n",
      "[I 2024-11-22 11:26:53,148] Trial 502 finished with value: 0.21200676205266103 and parameters: {'n_clusters': 17, 'linkage': 'average'}. Best is trial 401 with value: 0.32745480721431686.\n",
      "[I 2024-11-22 11:26:53,489] Trial 503 finished with value: 0.28109755907148515 and parameters: {'n_clusters': 12, 'linkage': 'average'}. Best is trial 401 with value: 0.32745480721431686.\n",
      "[I 2024-11-22 11:26:53,830] Trial 504 finished with value: 0.19744219178304742 and parameters: {'n_clusters': 62, 'linkage': 'complete'}. Best is trial 401 with value: 0.32745480721431686.\n",
      "[I 2024-11-22 11:26:54,171] Trial 505 finished with value: -0.03412415043821868 and parameters: {'n_clusters': 117, 'linkage': 'single'}. Best is trial 401 with value: 0.32745480721431686.\n",
      "[I 2024-11-22 11:26:54,512] Trial 506 finished with value: 0.191386662096416 and parameters: {'n_clusters': 49, 'linkage': 'average'}. Best is trial 401 with value: 0.32745480721431686.\n",
      "[I 2024-11-22 11:26:54,854] Trial 507 finished with value: 0.21160672791670568 and parameters: {'n_clusters': 84, 'linkage': 'complete'}. Best is trial 401 with value: 0.32745480721431686.\n",
      "[I 2024-11-22 11:26:55,198] Trial 508 finished with value: -0.028065810336298885 and parameters: {'n_clusters': 47, 'linkage': 'single'}. Best is trial 401 with value: 0.32745480721431686.\n",
      "[I 2024-11-22 11:26:55,541] Trial 509 finished with value: 0.31859227356939185 and parameters: {'n_clusters': 141, 'linkage': 'ward'}. Best is trial 401 with value: 0.32745480721431686.\n",
      "[I 2024-11-22 11:26:55,885] Trial 510 finished with value: -0.03760639474543915 and parameters: {'n_clusters': 87, 'linkage': 'single'}. Best is trial 401 with value: 0.32745480721431686.\n",
      "[I 2024-11-22 11:26:56,232] Trial 511 finished with value: 0.3135194413313813 and parameters: {'n_clusters': 137, 'linkage': 'ward'}. Best is trial 401 with value: 0.32745480721431686.\n",
      "[I 2024-11-22 11:26:56,578] Trial 512 finished with value: 0.23213341699096415 and parameters: {'n_clusters': 57, 'linkage': 'ward'}. Best is trial 401 with value: 0.32745480721431686.\n",
      "[I 2024-11-22 11:26:56,923] Trial 513 finished with value: 0.18073596425093819 and parameters: {'n_clusters': 52, 'linkage': 'complete'}. Best is trial 401 with value: 0.32745480721431686.\n",
      "[I 2024-11-22 11:26:57,272] Trial 514 finished with value: 0.19863394357192318 and parameters: {'n_clusters': 72, 'linkage': 'average'}. Best is trial 401 with value: 0.32745480721431686.\n",
      "[I 2024-11-22 11:26:57,622] Trial 515 finished with value: 0.258592594456579 and parameters: {'n_clusters': 94, 'linkage': 'ward'}. Best is trial 401 with value: 0.32745480721431686.\n",
      "[I 2024-11-22 11:26:57,971] Trial 516 finished with value: 0.2210258612737301 and parameters: {'n_clusters': 126, 'linkage': 'complete'}. Best is trial 401 with value: 0.32745480721431686.\n",
      "[I 2024-11-22 11:26:58,323] Trial 517 finished with value: 0.26386925251910803 and parameters: {'n_clusters': 101, 'linkage': 'ward'}. Best is trial 401 with value: 0.32745480721431686.\n",
      "[I 2024-11-22 11:26:58,677] Trial 518 finished with value: 0.25683700647652125 and parameters: {'n_clusters': 92, 'linkage': 'ward'}. Best is trial 401 with value: 0.32745480721431686.\n",
      "[I 2024-11-22 11:26:59,031] Trial 519 finished with value: 0.12714130828539671 and parameters: {'n_clusters': 17, 'linkage': 'single'}. Best is trial 401 with value: 0.32745480721431686.\n",
      "[I 2024-11-22 11:26:59,384] Trial 520 finished with value: 0.2978180411944391 and parameters: {'n_clusters': 129, 'linkage': 'ward'}. Best is trial 401 with value: 0.32745480721431686.\n",
      "[I 2024-11-22 11:26:59,736] Trial 521 finished with value: 0.17034797456196832 and parameters: {'n_clusters': 19, 'linkage': 'complete'}. Best is trial 401 with value: 0.32745480721431686.\n",
      "[I 2024-11-22 11:27:00,092] Trial 522 finished with value: 0.2345102135850503 and parameters: {'n_clusters': 67, 'linkage': 'ward'}. Best is trial 401 with value: 0.32745480721431686.\n",
      "[I 2024-11-22 11:27:00,443] Trial 523 finished with value: 0.17488887130319178 and parameters: {'n_clusters': 49, 'linkage': 'complete'}. Best is trial 401 with value: 0.32745480721431686.\n",
      "[I 2024-11-22 11:27:00,798] Trial 524 finished with value: 0.23476283928635183 and parameters: {'n_clusters': 126, 'linkage': 'average'}. Best is trial 401 with value: 0.32745480721431686.\n",
      "[I 2024-11-22 11:27:01,185] Trial 525 finished with value: 0.09940559526410245 and parameters: {'n_clusters': 29, 'linkage': 'single'}. Best is trial 401 with value: 0.32745480721431686.\n",
      "[I 2024-11-22 11:27:01,538] Trial 526 finished with value: 0.23205902148315236 and parameters: {'n_clusters': 52, 'linkage': 'ward'}. Best is trial 401 with value: 0.32745480721431686.\n",
      "[I 2024-11-22 11:27:01,889] Trial 527 finished with value: 0.21713878058513403 and parameters: {'n_clusters': 116, 'linkage': 'complete'}. Best is trial 401 with value: 0.32745480721431686.\n",
      "[I 2024-11-22 11:27:02,243] Trial 528 finished with value: 0.1995954512403341 and parameters: {'n_clusters': 63, 'linkage': 'complete'}. Best is trial 401 with value: 0.32745480721431686.\n",
      "[I 2024-11-22 11:27:02,595] Trial 529 finished with value: 0.2418420948008218 and parameters: {'n_clusters': 142, 'linkage': 'average'}. Best is trial 401 with value: 0.32745480721431686.\n",
      "[I 2024-11-22 11:27:02,954] Trial 530 finished with value: -0.03819171837578918 and parameters: {'n_clusters': 75, 'linkage': 'single'}. Best is trial 401 with value: 0.32745480721431686.\n",
      "[I 2024-11-22 11:27:03,310] Trial 531 finished with value: 0.23295247413137013 and parameters: {'n_clusters': 63, 'linkage': 'ward'}. Best is trial 401 with value: 0.32745480721431686.\n",
      "[I 2024-11-22 11:27:03,662] Trial 532 finished with value: -0.03152241181855998 and parameters: {'n_clusters': 120, 'linkage': 'single'}. Best is trial 401 with value: 0.32745480721431686.\n",
      "[I 2024-11-22 11:27:04,017] Trial 533 finished with value: 0.31473768706155225 and parameters: {'n_clusters': 138, 'linkage': 'ward'}. Best is trial 401 with value: 0.32745480721431686.\n",
      "[I 2024-11-22 11:27:04,371] Trial 534 finished with value: 0.21077929865830944 and parameters: {'n_clusters': 38, 'linkage': 'ward'}. Best is trial 401 with value: 0.32745480721431686.\n",
      "[I 2024-11-22 11:27:04,726] Trial 535 finished with value: 0.19075359213176088 and parameters: {'n_clusters': 52, 'linkage': 'average'}. Best is trial 401 with value: 0.32745480721431686.\n",
      "[I 2024-11-22 11:27:05,079] Trial 536 finished with value: -0.025480137594859974 and parameters: {'n_clusters': 46, 'linkage': 'single'}. Best is trial 401 with value: 0.32745480721431686.\n",
      "[I 2024-11-22 11:27:05,432] Trial 537 finished with value: -0.012675648012059292 and parameters: {'n_clusters': 97, 'linkage': 'single'}. Best is trial 401 with value: 0.32745480721431686.\n",
      "[I 2024-11-22 11:27:05,789] Trial 538 finished with value: 0.17287549734951102 and parameters: {'n_clusters': 20, 'linkage': 'average'}. Best is trial 401 with value: 0.32745480721431686.\n",
      "[I 2024-11-22 11:27:06,145] Trial 539 finished with value: 0.22507005420329737 and parameters: {'n_clusters': 113, 'linkage': 'average'}. Best is trial 401 with value: 0.32745480721431686.\n",
      "[I 2024-11-22 11:27:06,506] Trial 540 finished with value: 0.2397153642983391 and parameters: {'n_clusters': 134, 'linkage': 'average'}. Best is trial 401 with value: 0.32745480721431686.\n",
      "[I 2024-11-22 11:27:06,875] Trial 541 finished with value: 0.1745139349778808 and parameters: {'n_clusters': 16, 'linkage': 'complete'}. Best is trial 401 with value: 0.32745480721431686.\n",
      "[I 2024-11-22 11:27:07,240] Trial 542 finished with value: 0.3200005720218765 and parameters: {'n_clusters': 10, 'linkage': 'single'}. Best is trial 401 with value: 0.32745480721431686.\n",
      "[I 2024-11-22 11:27:07,609] Trial 543 finished with value: 0.27767761146435527 and parameters: {'n_clusters': 16, 'linkage': 'average'}. Best is trial 401 with value: 0.32745480721431686.\n",
      "[I 2024-11-22 11:27:07,971] Trial 544 finished with value: 0.17534479171586276 and parameters: {'n_clusters': 46, 'linkage': 'average'}. Best is trial 401 with value: 0.32745480721431686.\n",
      "[I 2024-11-22 11:27:08,333] Trial 545 finished with value: 0.2759988314658426 and parameters: {'n_clusters': 109, 'linkage': 'ward'}. Best is trial 401 with value: 0.32745480721431686.\n",
      "[I 2024-11-22 11:27:08,693] Trial 546 finished with value: -0.015198055476582163 and parameters: {'n_clusters': 35, 'linkage': 'single'}. Best is trial 401 with value: 0.32745480721431686.\n",
      "[I 2024-11-22 11:27:09,056] Trial 547 finished with value: 0.1337580321102011 and parameters: {'n_clusters': 18, 'linkage': 'single'}. Best is trial 401 with value: 0.32745480721431686.\n",
      "[I 2024-11-22 11:27:09,430] Trial 548 finished with value: 0.294730731253256 and parameters: {'n_clusters': 125, 'linkage': 'ward'}. Best is trial 401 with value: 0.32745480721431686.\n",
      "[I 2024-11-22 11:27:09,812] Trial 549 finished with value: 0.24322579763260066 and parameters: {'n_clusters': 82, 'linkage': 'ward'}. Best is trial 401 with value: 0.32745480721431686.\n",
      "[I 2024-11-22 11:27:10,180] Trial 550 finished with value: 0.0333915149261613 and parameters: {'n_clusters': 124, 'linkage': 'single'}. Best is trial 401 with value: 0.32745480721431686.\n",
      "[I 2024-11-22 11:27:10,545] Trial 551 finished with value: 0.14710804368225142 and parameters: {'n_clusters': 43, 'linkage': 'average'}. Best is trial 401 with value: 0.32745480721431686.\n",
      "[I 2024-11-22 11:27:10,911] Trial 552 finished with value: 0.26287598243004195 and parameters: {'n_clusters': 97, 'linkage': 'ward'}. Best is trial 401 with value: 0.32745480721431686.\n",
      "[I 2024-11-22 11:27:11,275] Trial 553 finished with value: 0.056957675538714767 and parameters: {'n_clusters': 138, 'linkage': 'single'}. Best is trial 401 with value: 0.32745480721431686.\n",
      "[I 2024-11-22 11:27:11,645] Trial 554 finished with value: -0.040794489492446885 and parameters: {'n_clusters': 73, 'linkage': 'single'}. Best is trial 401 with value: 0.32745480721431686.\n",
      "[I 2024-11-22 11:27:12,015] Trial 555 finished with value: 0.17517881267913998 and parameters: {'n_clusters': 42, 'linkage': 'complete'}. Best is trial 401 with value: 0.32745480721431686.\n",
      "[I 2024-11-22 11:27:12,380] Trial 556 finished with value: 0.21451426194275774 and parameters: {'n_clusters': 124, 'linkage': 'complete'}. Best is trial 401 with value: 0.32745480721431686.\n",
      "[I 2024-11-22 11:27:12,748] Trial 557 finished with value: -0.023953948706483316 and parameters: {'n_clusters': 59, 'linkage': 'single'}. Best is trial 401 with value: 0.32745480721431686.\n",
      "[I 2024-11-22 11:27:13,118] Trial 558 finished with value: 0.24696326549421785 and parameters: {'n_clusters': 80, 'linkage': 'ward'}. Best is trial 401 with value: 0.32745480721431686.\n",
      "[I 2024-11-22 11:27:13,489] Trial 559 finished with value: 0.2378273457559655 and parameters: {'n_clusters': 146, 'linkage': 'average'}. Best is trial 401 with value: 0.32745480721431686.\n",
      "[I 2024-11-22 11:27:13,866] Trial 560 finished with value: 0.18203263689703747 and parameters: {'n_clusters': 19, 'linkage': 'ward'}. Best is trial 401 with value: 0.32745480721431686.\n",
      "[I 2024-11-22 11:27:14,235] Trial 561 finished with value: 0.21041782467273695 and parameters: {'n_clusters': 87, 'linkage': 'complete'}. Best is trial 401 with value: 0.32745480721431686.\n",
      "[I 2024-11-22 11:27:14,609] Trial 562 finished with value: 0.20416843219378486 and parameters: {'n_clusters': 61, 'linkage': 'average'}. Best is trial 401 with value: 0.32745480721431686.\n",
      "[I 2024-11-22 11:27:14,980] Trial 563 finished with value: 0.058874925545870545 and parameters: {'n_clusters': 146, 'linkage': 'single'}. Best is trial 401 with value: 0.32745480721431686.\n"
     ]
    }
   ],
   "source": [
    "# Executar estudo do Optuna para Aglomerative\n",
    "estudo_ag.optimize(hierarchical_aglomerative_objective, n_trials=600)"
   ]
  },
  {
   "cell_type": "code",
   "execution_count": 26,
   "metadata": {},
   "outputs": [
    {
     "name": "stdout",
     "output_type": "stream",
     "text": [
      "Clusters = 149\n",
      "Linkage = ward\n"
     ]
    }
   ],
   "source": [
    "# Mostrar melhor configuração do Optuna (Aglomerative)\n",
    "best_params_ag = estudo_ag.best_params\n",
    "\n",
    "print(f\"Clusters = {best_params_ag['n_clusters']}\")\n",
    "print(f\"Linkage = {best_params_ag['linkage']}\")"
   ]
  },
  {
   "cell_type": "code",
   "execution_count": 27,
   "metadata": {},
   "outputs": [],
   "source": [
    "def hierarchical_divisive_objective(trial):\n",
    "  # Definindo os hiperparâmetros a serem ajustados\n",
    "  n_clusters = trial.suggest_int('n_clusters', 10, 150)\n",
    "\n",
    "  # Instânciar o modelo\n",
    "  hierarchical_model = BisectingKMeans(n_clusters=n_clusters)\n",
    "\n",
    "  # Treinar o modelo e já executar a clusterização\n",
    "  y = hierarchical_model.fit_predict(X_transformed.toarray())\n",
    "\n",
    "  # Calcular o Silhouette Score\n",
    "  silhouette_avg = silhouette_score(X_transformed, y)\n",
    "\n",
    "  return silhouette_avg"
   ]
  },
  {
   "cell_type": "code",
   "execution_count": 28,
   "metadata": {},
   "outputs": [
    {
     "name": "stderr",
     "output_type": "stream",
     "text": [
      "[I 2024-11-22 11:27:15,435] A new study created in memory with name: no-name-5d502273-d0e6-4e13-8b60-4b8af4c97e82\n"
     ]
    }
   ],
   "source": [
    "# Criar um estudo no Optuna\n",
    "search_space_di = {'n_clusters': range(10, 151)}\n",
    "sampler_di = optuna.samplers.GridSampler(search_space=search_space_di)\n",
    "estudo_di = optuna.create_study(direction='maximize', sampler=sampler_di)"
   ]
  },
  {
   "cell_type": "code",
   "execution_count": 29,
   "metadata": {},
   "outputs": [
    {
     "name": "stderr",
     "output_type": "stream",
     "text": [
      "[I 2024-11-22 11:27:16,416] Trial 0 finished with value: 0.1611263499175638 and parameters: {'n_clusters': 55}. Best is trial 0 with value: 0.1611263499175638.\n",
      "[I 2024-11-22 11:27:17,072] Trial 1 finished with value: 0.15985660524791792 and parameters: {'n_clusters': 70}. Best is trial 0 with value: 0.1611263499175638.\n",
      "[I 2024-11-22 11:27:17,433] Trial 2 finished with value: 0.13112756500717815 and parameters: {'n_clusters': 17}. Best is trial 0 with value: 0.1611263499175638.\n",
      "[I 2024-11-22 11:27:19,591] Trial 3 finished with value: 0.15186780940547168 and parameters: {'n_clusters': 61}. Best is trial 0 with value: 0.1611263499175638.\n",
      "[I 2024-11-22 11:27:20,371] Trial 4 finished with value: 0.15984080175143967 and parameters: {'n_clusters': 76}. Best is trial 0 with value: 0.1611263499175638.\n",
      "[I 2024-11-22 11:27:21,540] Trial 5 finished with value: 0.12370655082655327 and parameters: {'n_clusters': 37}. Best is trial 0 with value: 0.1611263499175638.\n",
      "[I 2024-11-22 11:27:22,575] Trial 6 finished with value: 0.15529871740424708 and parameters: {'n_clusters': 81}. Best is trial 0 with value: 0.1611263499175638.\n",
      "[I 2024-11-22 11:27:23,292] Trial 7 finished with value: 0.17589573568639122 and parameters: {'n_clusters': 64}. Best is trial 7 with value: 0.17589573568639122.\n",
      "[I 2024-11-22 11:27:24,268] Trial 8 finished with value: 0.18491339771507212 and parameters: {'n_clusters': 133}. Best is trial 8 with value: 0.18491339771507212.\n",
      "[I 2024-11-22 11:27:24,969] Trial 9 finished with value: 0.1347118706270096 and parameters: {'n_clusters': 18}. Best is trial 8 with value: 0.18491339771507212.\n",
      "[I 2024-11-22 11:27:25,836] Trial 10 finished with value: 0.15113693350390903 and parameters: {'n_clusters': 86}. Best is trial 8 with value: 0.18491339771507212.\n",
      "[I 2024-11-22 11:27:27,020] Trial 11 finished with value: 0.14051406636983135 and parameters: {'n_clusters': 26}. Best is trial 8 with value: 0.18491339771507212.\n",
      "[I 2024-11-22 11:27:28,357] Trial 12 finished with value: 0.18922338748966974 and parameters: {'n_clusters': 135}. Best is trial 12 with value: 0.18922338748966974.\n",
      "[I 2024-11-22 11:27:30,366] Trial 13 finished with value: 0.17523905039890342 and parameters: {'n_clusters': 132}. Best is trial 12 with value: 0.18922338748966974.\n",
      "[I 2024-11-22 11:27:31,144] Trial 14 finished with value: 0.1989115412155046 and parameters: {'n_clusters': 134}. Best is trial 14 with value: 0.1989115412155046.\n",
      "[I 2024-11-22 11:27:31,793] Trial 15 finished with value: 0.18743375901102968 and parameters: {'n_clusters': 108}. Best is trial 14 with value: 0.1989115412155046.\n",
      "[I 2024-11-22 11:27:33,960] Trial 16 finished with value: 0.17122395359743448 and parameters: {'n_clusters': 115}. Best is trial 14 with value: 0.1989115412155046.\n",
      "[I 2024-11-22 11:27:35,208] Trial 17 finished with value: 0.163109077044286 and parameters: {'n_clusters': 93}. Best is trial 14 with value: 0.1989115412155046.\n",
      "[I 2024-11-22 11:27:37,135] Trial 18 finished with value: 0.15633333156460322 and parameters: {'n_clusters': 43}. Best is trial 14 with value: 0.1989115412155046.\n",
      "[I 2024-11-22 11:27:37,863] Trial 19 finished with value: 0.15824165311070648 and parameters: {'n_clusters': 66}. Best is trial 14 with value: 0.1989115412155046.\n",
      "[I 2024-11-22 11:27:38,342] Trial 20 finished with value: 0.16380355885329909 and parameters: {'n_clusters': 101}. Best is trial 14 with value: 0.1989115412155046.\n",
      "[I 2024-11-22 11:27:38,928] Trial 21 finished with value: 0.15031889445106192 and parameters: {'n_clusters': 32}. Best is trial 14 with value: 0.1989115412155046.\n",
      "[I 2024-11-22 11:27:39,765] Trial 22 finished with value: 0.18231795647318685 and parameters: {'n_clusters': 147}. Best is trial 14 with value: 0.1989115412155046.\n",
      "[I 2024-11-22 11:27:40,873] Trial 23 finished with value: 0.13215986227883936 and parameters: {'n_clusters': 34}. Best is trial 14 with value: 0.1989115412155046.\n",
      "[I 2024-11-22 11:27:41,694] Trial 24 finished with value: 0.1439354050666606 and parameters: {'n_clusters': 12}. Best is trial 14 with value: 0.1989115412155046.\n",
      "[I 2024-11-22 11:27:43,379] Trial 25 finished with value: 0.1720813334573347 and parameters: {'n_clusters': 121}. Best is trial 14 with value: 0.1989115412155046.\n",
      "[I 2024-11-22 11:27:44,013] Trial 26 finished with value: 0.15206480223741306 and parameters: {'n_clusters': 36}. Best is trial 14 with value: 0.1989115412155046.\n",
      "[I 2024-11-22 11:27:46,387] Trial 27 finished with value: 0.17816406664115852 and parameters: {'n_clusters': 131}. Best is trial 14 with value: 0.1989115412155046.\n",
      "[I 2024-11-22 11:27:47,196] Trial 28 finished with value: 0.13093211420293446 and parameters: {'n_clusters': 28}. Best is trial 14 with value: 0.1989115412155046.\n",
      "[I 2024-11-22 11:27:48,402] Trial 29 finished with value: 0.13067567658975235 and parameters: {'n_clusters': 20}. Best is trial 14 with value: 0.1989115412155046.\n",
      "[I 2024-11-22 11:27:49,055] Trial 30 finished with value: 0.16125110485632804 and parameters: {'n_clusters': 106}. Best is trial 14 with value: 0.1989115412155046.\n",
      "[I 2024-11-22 11:27:49,543] Trial 31 finished with value: 0.15451995081040007 and parameters: {'n_clusters': 53}. Best is trial 14 with value: 0.1989115412155046.\n",
      "[I 2024-11-22 11:27:50,594] Trial 32 finished with value: 0.18856379636555706 and parameters: {'n_clusters': 110}. Best is trial 14 with value: 0.1989115412155046.\n",
      "[I 2024-11-22 11:27:51,656] Trial 33 finished with value: 0.20216868324767714 and parameters: {'n_clusters': 118}. Best is trial 33 with value: 0.20216868324767714.\n",
      "[I 2024-11-22 11:27:52,334] Trial 34 finished with value: 0.14914351079553811 and parameters: {'n_clusters': 60}. Best is trial 33 with value: 0.20216868324767714.\n",
      "[I 2024-11-22 11:27:53,373] Trial 35 finished with value: 0.16545513806402506 and parameters: {'n_clusters': 94}. Best is trial 33 with value: 0.20216868324767714.\n",
      "[I 2024-11-22 11:27:54,253] Trial 36 finished with value: 0.14806357287955413 and parameters: {'n_clusters': 71}. Best is trial 33 with value: 0.20216868324767714.\n",
      "[I 2024-11-22 11:27:55,014] Trial 37 finished with value: 0.1666755225922972 and parameters: {'n_clusters': 117}. Best is trial 33 with value: 0.20216868324767714.\n",
      "[I 2024-11-22 11:27:55,546] Trial 38 finished with value: 0.1709967100912488 and parameters: {'n_clusters': 100}. Best is trial 33 with value: 0.20216868324767714.\n",
      "[I 2024-11-22 11:27:55,972] Trial 39 finished with value: 0.14869910600846098 and parameters: {'n_clusters': 69}. Best is trial 33 with value: 0.20216868324767714.\n",
      "[I 2024-11-22 11:27:56,418] Trial 40 finished with value: 0.1613778355611006 and parameters: {'n_clusters': 54}. Best is trial 33 with value: 0.20216868324767714.\n",
      "[I 2024-11-22 11:27:57,372] Trial 41 finished with value: 0.14401444657605525 and parameters: {'n_clusters': 40}. Best is trial 33 with value: 0.20216868324767714.\n",
      "[I 2024-11-22 11:27:57,866] Trial 42 finished with value: 0.1837206336842457 and parameters: {'n_clusters': 122}. Best is trial 33 with value: 0.20216868324767714.\n",
      "[I 2024-11-22 11:27:58,572] Trial 43 finished with value: 0.17381449852779457 and parameters: {'n_clusters': 88}. Best is trial 33 with value: 0.20216868324767714.\n",
      "[I 2024-11-22 11:27:59,120] Trial 44 finished with value: 0.201380412897336 and parameters: {'n_clusters': 142}. Best is trial 33 with value: 0.20216868324767714.\n",
      "[I 2024-11-22 11:27:59,711] Trial 45 finished with value: 0.16756842564092944 and parameters: {'n_clusters': 78}. Best is trial 33 with value: 0.20216868324767714.\n",
      "[I 2024-11-22 11:28:00,217] Trial 46 finished with value: 0.17174119449521755 and parameters: {'n_clusters': 103}. Best is trial 33 with value: 0.20216868324767714.\n",
      "[I 2024-11-22 11:28:00,770] Trial 47 finished with value: 0.16374346137844212 and parameters: {'n_clusters': 95}. Best is trial 33 with value: 0.20216868324767714.\n",
      "[I 2024-11-22 11:28:01,953] Trial 48 finished with value: 0.15734654038073614 and parameters: {'n_clusters': 58}. Best is trial 33 with value: 0.20216868324767714.\n",
      "[I 2024-11-22 11:28:02,640] Trial 49 finished with value: 0.19233386640558484 and parameters: {'n_clusters': 145}. Best is trial 33 with value: 0.20216868324767714.\n",
      "[I 2024-11-22 11:28:02,988] Trial 50 finished with value: 0.11802767298809322 and parameters: {'n_clusters': 23}. Best is trial 33 with value: 0.20216868324767714.\n",
      "[I 2024-11-22 11:28:03,887] Trial 51 finished with value: 0.17306324462127118 and parameters: {'n_clusters': 102}. Best is trial 33 with value: 0.20216868324767714.\n",
      "[I 2024-11-22 11:28:04,459] Trial 52 finished with value: 0.18601219941933989 and parameters: {'n_clusters': 105}. Best is trial 33 with value: 0.20216868324767714.\n",
      "[I 2024-11-22 11:28:04,895] Trial 53 finished with value: 0.14259584285243077 and parameters: {'n_clusters': 83}. Best is trial 33 with value: 0.20216868324767714.\n",
      "[I 2024-11-22 11:28:05,360] Trial 54 finished with value: 0.18225581936647942 and parameters: {'n_clusters': 129}. Best is trial 33 with value: 0.20216868324767714.\n",
      "[I 2024-11-22 11:28:05,744] Trial 55 finished with value: 0.1308737198300084 and parameters: {'n_clusters': 25}. Best is trial 33 with value: 0.20216868324767714.\n",
      "[I 2024-11-22 11:28:06,379] Trial 56 finished with value: 0.1762381203865124 and parameters: {'n_clusters': 126}. Best is trial 33 with value: 0.20216868324767714.\n",
      "[I 2024-11-22 11:28:10,260] Trial 57 finished with value: 0.16466758459557593 and parameters: {'n_clusters': 50}. Best is trial 33 with value: 0.20216868324767714.\n",
      "[I 2024-11-22 11:28:11,767] Trial 58 finished with value: 0.18104347721825828 and parameters: {'n_clusters': 72}. Best is trial 33 with value: 0.20216868324767714.\n",
      "[I 2024-11-22 11:28:12,671] Trial 59 finished with value: 0.20942290863307036 and parameters: {'n_clusters': 138}. Best is trial 59 with value: 0.20942290863307036.\n",
      "[I 2024-11-22 11:28:13,480] Trial 60 finished with value: 0.19829862748537608 and parameters: {'n_clusters': 148}. Best is trial 59 with value: 0.20942290863307036.\n",
      "[I 2024-11-22 11:28:14,057] Trial 61 finished with value: 0.13286845833568522 and parameters: {'n_clusters': 13}. Best is trial 59 with value: 0.20942290863307036.\n",
      "[I 2024-11-22 11:28:14,607] Trial 62 finished with value: 0.15786893485108738 and parameters: {'n_clusters': 62}. Best is trial 59 with value: 0.20942290863307036.\n",
      "[I 2024-11-22 11:28:15,157] Trial 63 finished with value: 0.1751565276217201 and parameters: {'n_clusters': 73}. Best is trial 59 with value: 0.20942290863307036.\n",
      "[I 2024-11-22 11:28:16,046] Trial 64 finished with value: 0.1811759089225152 and parameters: {'n_clusters': 123}. Best is trial 59 with value: 0.20942290863307036.\n",
      "[I 2024-11-22 11:28:16,552] Trial 65 finished with value: 0.1431597848316324 and parameters: {'n_clusters': 16}. Best is trial 59 with value: 0.20942290863307036.\n",
      "[I 2024-11-22 11:28:17,735] Trial 66 finished with value: 0.1768727668552021 and parameters: {'n_clusters': 149}. Best is trial 59 with value: 0.20942290863307036.\n",
      "[I 2024-11-22 11:28:18,111] Trial 67 finished with value: 0.13992569868361932 and parameters: {'n_clusters': 22}. Best is trial 59 with value: 0.20942290863307036.\n",
      "[I 2024-11-22 11:28:20,132] Trial 68 finished with value: 0.15611132563468758 and parameters: {'n_clusters': 96}. Best is trial 59 with value: 0.20942290863307036.\n",
      "[I 2024-11-22 11:28:21,747] Trial 69 finished with value: 0.18102167241811573 and parameters: {'n_clusters': 114}. Best is trial 59 with value: 0.20942290863307036.\n",
      "[I 2024-11-22 11:28:22,669] Trial 70 finished with value: 0.18215067511289648 and parameters: {'n_clusters': 119}. Best is trial 59 with value: 0.20942290863307036.\n",
      "[I 2024-11-22 11:28:24,769] Trial 71 finished with value: 0.17379978744029978 and parameters: {'n_clusters': 137}. Best is trial 59 with value: 0.20942290863307036.\n",
      "[I 2024-11-22 11:28:25,708] Trial 72 finished with value: 0.147538970246025 and parameters: {'n_clusters': 21}. Best is trial 59 with value: 0.20942290863307036.\n",
      "[I 2024-11-22 11:28:28,752] Trial 73 finished with value: 0.19646369481144876 and parameters: {'n_clusters': 104}. Best is trial 59 with value: 0.20942290863307036.\n",
      "[I 2024-11-22 11:28:29,766] Trial 74 finished with value: 0.178500625787876 and parameters: {'n_clusters': 120}. Best is trial 59 with value: 0.20942290863307036.\n",
      "[I 2024-11-22 11:28:30,413] Trial 75 finished with value: 0.1335174049300559 and parameters: {'n_clusters': 51}. Best is trial 59 with value: 0.20942290863307036.\n",
      "[I 2024-11-22 11:28:31,020] Trial 76 finished with value: 0.17947423474236668 and parameters: {'n_clusters': 111}. Best is trial 59 with value: 0.20942290863307036.\n",
      "[I 2024-11-22 11:28:31,387] Trial 77 finished with value: 0.15309707711525458 and parameters: {'n_clusters': 11}. Best is trial 59 with value: 0.20942290863307036.\n",
      "[I 2024-11-22 11:28:31,927] Trial 78 finished with value: 0.16604966193109963 and parameters: {'n_clusters': 107}. Best is trial 59 with value: 0.20942290863307036.\n",
      "[I 2024-11-22 11:28:32,509] Trial 79 finished with value: 0.1951939480061592 and parameters: {'n_clusters': 140}. Best is trial 59 with value: 0.20942290863307036.\n",
      "[I 2024-11-22 11:28:33,026] Trial 80 finished with value: 0.159127046828719 and parameters: {'n_clusters': 52}. Best is trial 59 with value: 0.20942290863307036.\n",
      "[I 2024-11-22 11:28:33,960] Trial 81 finished with value: 0.13473849096929674 and parameters: {'n_clusters': 14}. Best is trial 59 with value: 0.20942290863307036.\n",
      "[I 2024-11-22 11:28:34,715] Trial 82 finished with value: 0.1841283338478853 and parameters: {'n_clusters': 124}. Best is trial 59 with value: 0.20942290863307036.\n",
      "[I 2024-11-22 11:28:35,470] Trial 83 finished with value: 0.13896563648843746 and parameters: {'n_clusters': 27}. Best is trial 59 with value: 0.20942290863307036.\n",
      "[I 2024-11-22 11:28:36,877] Trial 84 finished with value: 0.13756052380976375 and parameters: {'n_clusters': 48}. Best is trial 59 with value: 0.20942290863307036.\n",
      "[I 2024-11-22 11:28:37,472] Trial 85 finished with value: 0.14279453245367732 and parameters: {'n_clusters': 15}. Best is trial 59 with value: 0.20942290863307036.\n",
      "[I 2024-11-22 11:28:38,063] Trial 86 finished with value: 0.17471457164845422 and parameters: {'n_clusters': 63}. Best is trial 59 with value: 0.20942290863307036.\n",
      "[I 2024-11-22 11:28:38,934] Trial 87 finished with value: 0.20215991316184467 and parameters: {'n_clusters': 144}. Best is trial 59 with value: 0.20942290863307036.\n",
      "[I 2024-11-22 11:28:39,784] Trial 88 finished with value: 0.16023455504635836 and parameters: {'n_clusters': 99}. Best is trial 59 with value: 0.20942290863307036.\n",
      "[I 2024-11-22 11:28:40,681] Trial 89 finished with value: 0.1490473513144051 and parameters: {'n_clusters': 10}. Best is trial 59 with value: 0.20942290863307036.\n",
      "[I 2024-11-22 11:28:41,345] Trial 90 finished with value: 0.13917120457909413 and parameters: {'n_clusters': 44}. Best is trial 59 with value: 0.20942290863307036.\n",
      "[I 2024-11-22 11:28:42,231] Trial 91 finished with value: 0.1609014109079695 and parameters: {'n_clusters': 38}. Best is trial 59 with value: 0.20942290863307036.\n",
      "[I 2024-11-22 11:28:43,001] Trial 92 finished with value: 0.13896891174477144 and parameters: {'n_clusters': 65}. Best is trial 59 with value: 0.20942290863307036.\n",
      "[I 2024-11-22 11:28:44,302] Trial 93 finished with value: 0.15447444951023262 and parameters: {'n_clusters': 85}. Best is trial 59 with value: 0.20942290863307036.\n",
      "[I 2024-11-22 11:28:44,952] Trial 94 finished with value: 0.1559193930949599 and parameters: {'n_clusters': 45}. Best is trial 59 with value: 0.20942290863307036.\n",
      "[I 2024-11-22 11:28:45,928] Trial 95 finished with value: 0.151324027816971 and parameters: {'n_clusters': 33}. Best is trial 59 with value: 0.20942290863307036.\n",
      "[I 2024-11-22 11:28:46,721] Trial 96 finished with value: 0.16671921525370767 and parameters: {'n_clusters': 84}. Best is trial 59 with value: 0.20942290863307036.\n",
      "[I 2024-11-22 11:28:47,366] Trial 97 finished with value: 0.16083709355533998 and parameters: {'n_clusters': 41}. Best is trial 59 with value: 0.20942290863307036.\n",
      "[I 2024-11-22 11:28:48,281] Trial 98 finished with value: 0.1825490442771116 and parameters: {'n_clusters': 112}. Best is trial 59 with value: 0.20942290863307036.\n",
      "[I 2024-11-22 11:28:49,610] Trial 99 finished with value: 0.14994272133248793 and parameters: {'n_clusters': 67}. Best is trial 59 with value: 0.20942290863307036.\n",
      "[I 2024-11-22 11:28:50,716] Trial 100 finished with value: 0.18416937374422018 and parameters: {'n_clusters': 130}. Best is trial 59 with value: 0.20942290863307036.\n",
      "[I 2024-11-22 11:28:52,902] Trial 101 finished with value: 0.18252082172587544 and parameters: {'n_clusters': 75}. Best is trial 59 with value: 0.20942290863307036.\n",
      "[I 2024-11-22 11:28:55,947] Trial 102 finished with value: 0.14272821556173282 and parameters: {'n_clusters': 42}. Best is trial 59 with value: 0.20942290863307036.\n",
      "[I 2024-11-22 11:28:56,814] Trial 103 finished with value: 0.20337240464508707 and parameters: {'n_clusters': 139}. Best is trial 59 with value: 0.20942290863307036.\n",
      "[I 2024-11-22 11:28:57,450] Trial 104 finished with value: 0.13722965512710733 and parameters: {'n_clusters': 24}. Best is trial 59 with value: 0.20942290863307036.\n",
      "[I 2024-11-22 11:28:58,084] Trial 105 finished with value: 0.16758993483483617 and parameters: {'n_clusters': 116}. Best is trial 59 with value: 0.20942290863307036.\n",
      "[I 2024-11-22 11:28:59,093] Trial 106 finished with value: 0.15261444657461956 and parameters: {'n_clusters': 29}. Best is trial 59 with value: 0.20942290863307036.\n",
      "[I 2024-11-22 11:28:59,831] Trial 107 finished with value: 0.14126653473637316 and parameters: {'n_clusters': 39}. Best is trial 59 with value: 0.20942290863307036.\n",
      "[I 2024-11-22 11:29:01,863] Trial 108 finished with value: 0.15125347767029546 and parameters: {'n_clusters': 59}. Best is trial 59 with value: 0.20942290863307036.\n",
      "[I 2024-11-22 11:29:03,020] Trial 109 finished with value: 0.20486607737624787 and parameters: {'n_clusters': 136}. Best is trial 59 with value: 0.20942290863307036.\n",
      "[I 2024-11-22 11:29:03,626] Trial 110 finished with value: 0.18070134113837563 and parameters: {'n_clusters': 109}. Best is trial 59 with value: 0.20942290863307036.\n",
      "[I 2024-11-22 11:29:05,551] Trial 111 finished with value: 0.19262233498104256 and parameters: {'n_clusters': 92}. Best is trial 59 with value: 0.20942290863307036.\n",
      "[I 2024-11-22 11:29:07,066] Trial 112 finished with value: 0.1533327865250821 and parameters: {'n_clusters': 74}. Best is trial 59 with value: 0.20942290863307036.\n",
      "[I 2024-11-22 11:29:08,345] Trial 113 finished with value: 0.2012892585930164 and parameters: {'n_clusters': 150}. Best is trial 59 with value: 0.20942290863307036.\n",
      "[I 2024-11-22 11:29:10,128] Trial 114 finished with value: 0.15482727017196432 and parameters: {'n_clusters': 89}. Best is trial 59 with value: 0.20942290863307036.\n",
      "[I 2024-11-22 11:29:12,210] Trial 115 finished with value: 0.16196083624162358 and parameters: {'n_clusters': 79}. Best is trial 59 with value: 0.20942290863307036.\n",
      "[I 2024-11-22 11:29:13,249] Trial 116 finished with value: 0.18463255459721745 and parameters: {'n_clusters': 128}. Best is trial 59 with value: 0.20942290863307036.\n",
      "[I 2024-11-22 11:29:14,265] Trial 117 finished with value: 0.17074373549433441 and parameters: {'n_clusters': 90}. Best is trial 59 with value: 0.20942290863307036.\n",
      "[I 2024-11-22 11:29:15,117] Trial 118 finished with value: 0.1745481273604351 and parameters: {'n_clusters': 125}. Best is trial 59 with value: 0.20942290863307036.\n",
      "[I 2024-11-22 11:29:15,784] Trial 119 finished with value: 0.14708958191735116 and parameters: {'n_clusters': 30}. Best is trial 59 with value: 0.20942290863307036.\n",
      "[I 2024-11-22 11:29:16,620] Trial 120 finished with value: 0.2019118039873258 and parameters: {'n_clusters': 146}. Best is trial 59 with value: 0.20942290863307036.\n",
      "[I 2024-11-22 11:29:17,709] Trial 121 finished with value: 0.16060135506901868 and parameters: {'n_clusters': 82}. Best is trial 59 with value: 0.20942290863307036.\n",
      "[I 2024-11-22 11:29:19,125] Trial 122 finished with value: 0.17280377270162228 and parameters: {'n_clusters': 87}. Best is trial 59 with value: 0.20942290863307036.\n",
      "[I 2024-11-22 11:29:19,814] Trial 123 finished with value: 0.1493653442919497 and parameters: {'n_clusters': 35}. Best is trial 59 with value: 0.20942290863307036.\n",
      "[I 2024-11-22 11:29:20,481] Trial 124 finished with value: 0.14529564971816852 and parameters: {'n_clusters': 47}. Best is trial 59 with value: 0.20942290863307036.\n",
      "[I 2024-11-22 11:29:21,353] Trial 125 finished with value: 0.157966181327835 and parameters: {'n_clusters': 91}. Best is trial 59 with value: 0.20942290863307036.\n",
      "[I 2024-11-22 11:29:22,883] Trial 126 finished with value: 0.21375583664449674 and parameters: {'n_clusters': 141}. Best is trial 126 with value: 0.21375583664449674.\n",
      "[I 2024-11-22 11:29:24,336] Trial 127 finished with value: 0.16225464565129688 and parameters: {'n_clusters': 56}. Best is trial 126 with value: 0.21375583664449674.\n",
      "[I 2024-11-22 11:29:25,348] Trial 128 finished with value: 0.19723426699026134 and parameters: {'n_clusters': 143}. Best is trial 126 with value: 0.21375583664449674.\n",
      "[I 2024-11-22 11:29:25,988] Trial 129 finished with value: 0.14507971941595066 and parameters: {'n_clusters': 49}. Best is trial 126 with value: 0.21375583664449674.\n",
      "[I 2024-11-22 11:29:26,972] Trial 130 finished with value: 0.16961268412194488 and parameters: {'n_clusters': 68}. Best is trial 126 with value: 0.21375583664449674.\n",
      "[I 2024-11-22 11:29:28,372] Trial 131 finished with value: 0.1795967496720909 and parameters: {'n_clusters': 98}. Best is trial 126 with value: 0.21375583664449674.\n",
      "[I 2024-11-22 11:29:28,924] Trial 132 finished with value: 0.1546787272270119 and parameters: {'n_clusters': 80}. Best is trial 126 with value: 0.21375583664449674.\n",
      "[I 2024-11-22 11:29:29,415] Trial 133 finished with value: 0.17484168568970498 and parameters: {'n_clusters': 97}. Best is trial 126 with value: 0.21375583664449674.\n",
      "[I 2024-11-22 11:29:30,320] Trial 134 finished with value: 0.16725436902081453 and parameters: {'n_clusters': 46}. Best is trial 126 with value: 0.21375583664449674.\n",
      "[I 2024-11-22 11:29:30,938] Trial 135 finished with value: 0.136647458905136 and parameters: {'n_clusters': 31}. Best is trial 126 with value: 0.21375583664449674.\n",
      "[I 2024-11-22 11:29:31,900] Trial 136 finished with value: 0.14272130362243324 and parameters: {'n_clusters': 19}. Best is trial 126 with value: 0.21375583664449674.\n",
      "[I 2024-11-22 11:29:33,295] Trial 137 finished with value: 0.18663748495376406 and parameters: {'n_clusters': 113}. Best is trial 126 with value: 0.21375583664449674.\n",
      "[I 2024-11-22 11:29:33,904] Trial 138 finished with value: 0.17573051947645932 and parameters: {'n_clusters': 77}. Best is trial 126 with value: 0.21375583664449674.\n",
      "[I 2024-11-22 11:29:34,436] Trial 139 finished with value: 0.18560292667459427 and parameters: {'n_clusters': 127}. Best is trial 126 with value: 0.21375583664449674.\n",
      "[I 2024-11-22 11:29:35,159] Trial 140 finished with value: 0.16813513816715783 and parameters: {'n_clusters': 57}. Best is trial 126 with value: 0.21375583664449674.\n"
     ]
    }
   ],
   "source": [
    "# Executar estudo do Optuna para Divisive\n",
    "estudo_di.optimize(hierarchical_divisive_objective, n_trials=200)"
   ]
  },
  {
   "cell_type": "code",
   "execution_count": 30,
   "metadata": {},
   "outputs": [
    {
     "name": "stdout",
     "output_type": "stream",
     "text": [
      "Clusters = 141\n"
     ]
    }
   ],
   "source": [
    "# Mostrar melhor configuração do Optuna (Divisive)\n",
    "best_params_di = estudo_di.best_params\n",
    "\n",
    "print(f\"Clusters = {best_params_di['n_clusters']}\")"
   ]
  },
  {
   "cell_type": "code",
   "execution_count": 31,
   "metadata": {},
   "outputs": [],
   "source": [
    "# Criar Modelo com melhor configuração (Aglomerative)\n",
    "\n",
    "best_model = AgglomerativeClustering(\n",
    "  n_clusters=best_params_ag['n_clusters'],\n",
    "  linkage=best_params_ag['linkage']\n",
    ")"
   ]
  },
  {
   "cell_type": "code",
   "execution_count": 32,
   "metadata": {},
   "outputs": [
    {
     "data": {
      "text/html": [
       "<style>#sk-container-id-1 {\n",
       "  /* Definition of color scheme common for light and dark mode */\n",
       "  --sklearn-color-text: black;\n",
       "  --sklearn-color-line: gray;\n",
       "  /* Definition of color scheme for unfitted estimators */\n",
       "  --sklearn-color-unfitted-level-0: #fff5e6;\n",
       "  --sklearn-color-unfitted-level-1: #f6e4d2;\n",
       "  --sklearn-color-unfitted-level-2: #ffe0b3;\n",
       "  --sklearn-color-unfitted-level-3: chocolate;\n",
       "  /* Definition of color scheme for fitted estimators */\n",
       "  --sklearn-color-fitted-level-0: #f0f8ff;\n",
       "  --sklearn-color-fitted-level-1: #d4ebff;\n",
       "  --sklearn-color-fitted-level-2: #b3dbfd;\n",
       "  --sklearn-color-fitted-level-3: cornflowerblue;\n",
       "\n",
       "  /* Specific color for light theme */\n",
       "  --sklearn-color-text-on-default-background: var(--sg-text-color, var(--theme-code-foreground, var(--jp-content-font-color1, black)));\n",
       "  --sklearn-color-background: var(--sg-background-color, var(--theme-background, var(--jp-layout-color0, white)));\n",
       "  --sklearn-color-border-box: var(--sg-text-color, var(--theme-code-foreground, var(--jp-content-font-color1, black)));\n",
       "  --sklearn-color-icon: #696969;\n",
       "\n",
       "  @media (prefers-color-scheme: dark) {\n",
       "    /* Redefinition of color scheme for dark theme */\n",
       "    --sklearn-color-text-on-default-background: var(--sg-text-color, var(--theme-code-foreground, var(--jp-content-font-color1, white)));\n",
       "    --sklearn-color-background: var(--sg-background-color, var(--theme-background, var(--jp-layout-color0, #111)));\n",
       "    --sklearn-color-border-box: var(--sg-text-color, var(--theme-code-foreground, var(--jp-content-font-color1, white)));\n",
       "    --sklearn-color-icon: #878787;\n",
       "  }\n",
       "}\n",
       "\n",
       "#sk-container-id-1 {\n",
       "  color: var(--sklearn-color-text);\n",
       "}\n",
       "\n",
       "#sk-container-id-1 pre {\n",
       "  padding: 0;\n",
       "}\n",
       "\n",
       "#sk-container-id-1 input.sk-hidden--visually {\n",
       "  border: 0;\n",
       "  clip: rect(1px 1px 1px 1px);\n",
       "  clip: rect(1px, 1px, 1px, 1px);\n",
       "  height: 1px;\n",
       "  margin: -1px;\n",
       "  overflow: hidden;\n",
       "  padding: 0;\n",
       "  position: absolute;\n",
       "  width: 1px;\n",
       "}\n",
       "\n",
       "#sk-container-id-1 div.sk-dashed-wrapped {\n",
       "  border: 1px dashed var(--sklearn-color-line);\n",
       "  margin: 0 0.4em 0.5em 0.4em;\n",
       "  box-sizing: border-box;\n",
       "  padding-bottom: 0.4em;\n",
       "  background-color: var(--sklearn-color-background);\n",
       "}\n",
       "\n",
       "#sk-container-id-1 div.sk-container {\n",
       "  /* jupyter's `normalize.less` sets `[hidden] { display: none; }`\n",
       "     but bootstrap.min.css set `[hidden] { display: none !important; }`\n",
       "     so we also need the `!important` here to be able to override the\n",
       "     default hidden behavior on the sphinx rendered scikit-learn.org.\n",
       "     See: https://github.com/scikit-learn/scikit-learn/issues/21755 */\n",
       "  display: inline-block !important;\n",
       "  position: relative;\n",
       "}\n",
       "\n",
       "#sk-container-id-1 div.sk-text-repr-fallback {\n",
       "  display: none;\n",
       "}\n",
       "\n",
       "div.sk-parallel-item,\n",
       "div.sk-serial,\n",
       "div.sk-item {\n",
       "  /* draw centered vertical line to link estimators */\n",
       "  background-image: linear-gradient(var(--sklearn-color-text-on-default-background), var(--sklearn-color-text-on-default-background));\n",
       "  background-size: 2px 100%;\n",
       "  background-repeat: no-repeat;\n",
       "  background-position: center center;\n",
       "}\n",
       "\n",
       "/* Parallel-specific style estimator block */\n",
       "\n",
       "#sk-container-id-1 div.sk-parallel-item::after {\n",
       "  content: \"\";\n",
       "  width: 100%;\n",
       "  border-bottom: 2px solid var(--sklearn-color-text-on-default-background);\n",
       "  flex-grow: 1;\n",
       "}\n",
       "\n",
       "#sk-container-id-1 div.sk-parallel {\n",
       "  display: flex;\n",
       "  align-items: stretch;\n",
       "  justify-content: center;\n",
       "  background-color: var(--sklearn-color-background);\n",
       "  position: relative;\n",
       "}\n",
       "\n",
       "#sk-container-id-1 div.sk-parallel-item {\n",
       "  display: flex;\n",
       "  flex-direction: column;\n",
       "}\n",
       "\n",
       "#sk-container-id-1 div.sk-parallel-item:first-child::after {\n",
       "  align-self: flex-end;\n",
       "  width: 50%;\n",
       "}\n",
       "\n",
       "#sk-container-id-1 div.sk-parallel-item:last-child::after {\n",
       "  align-self: flex-start;\n",
       "  width: 50%;\n",
       "}\n",
       "\n",
       "#sk-container-id-1 div.sk-parallel-item:only-child::after {\n",
       "  width: 0;\n",
       "}\n",
       "\n",
       "/* Serial-specific style estimator block */\n",
       "\n",
       "#sk-container-id-1 div.sk-serial {\n",
       "  display: flex;\n",
       "  flex-direction: column;\n",
       "  align-items: center;\n",
       "  background-color: var(--sklearn-color-background);\n",
       "  padding-right: 1em;\n",
       "  padding-left: 1em;\n",
       "}\n",
       "\n",
       "\n",
       "/* Toggleable style: style used for estimator/Pipeline/ColumnTransformer box that is\n",
       "clickable and can be expanded/collapsed.\n",
       "- Pipeline and ColumnTransformer use this feature and define the default style\n",
       "- Estimators will overwrite some part of the style using the `sk-estimator` class\n",
       "*/\n",
       "\n",
       "/* Pipeline and ColumnTransformer style (default) */\n",
       "\n",
       "#sk-container-id-1 div.sk-toggleable {\n",
       "  /* Default theme specific background. It is overwritten whether we have a\n",
       "  specific estimator or a Pipeline/ColumnTransformer */\n",
       "  background-color: var(--sklearn-color-background);\n",
       "}\n",
       "\n",
       "/* Toggleable label */\n",
       "#sk-container-id-1 label.sk-toggleable__label {\n",
       "  cursor: pointer;\n",
       "  display: block;\n",
       "  width: 100%;\n",
       "  margin-bottom: 0;\n",
       "  padding: 0.5em;\n",
       "  box-sizing: border-box;\n",
       "  text-align: center;\n",
       "}\n",
       "\n",
       "#sk-container-id-1 label.sk-toggleable__label-arrow:before {\n",
       "  /* Arrow on the left of the label */\n",
       "  content: \"▸\";\n",
       "  float: left;\n",
       "  margin-right: 0.25em;\n",
       "  color: var(--sklearn-color-icon);\n",
       "}\n",
       "\n",
       "#sk-container-id-1 label.sk-toggleable__label-arrow:hover:before {\n",
       "  color: var(--sklearn-color-text);\n",
       "}\n",
       "\n",
       "/* Toggleable content - dropdown */\n",
       "\n",
       "#sk-container-id-1 div.sk-toggleable__content {\n",
       "  max-height: 0;\n",
       "  max-width: 0;\n",
       "  overflow: hidden;\n",
       "  text-align: left;\n",
       "  /* unfitted */\n",
       "  background-color: var(--sklearn-color-unfitted-level-0);\n",
       "}\n",
       "\n",
       "#sk-container-id-1 div.sk-toggleable__content.fitted {\n",
       "  /* fitted */\n",
       "  background-color: var(--sklearn-color-fitted-level-0);\n",
       "}\n",
       "\n",
       "#sk-container-id-1 div.sk-toggleable__content pre {\n",
       "  margin: 0.2em;\n",
       "  border-radius: 0.25em;\n",
       "  color: var(--sklearn-color-text);\n",
       "  /* unfitted */\n",
       "  background-color: var(--sklearn-color-unfitted-level-0);\n",
       "}\n",
       "\n",
       "#sk-container-id-1 div.sk-toggleable__content.fitted pre {\n",
       "  /* unfitted */\n",
       "  background-color: var(--sklearn-color-fitted-level-0);\n",
       "}\n",
       "\n",
       "#sk-container-id-1 input.sk-toggleable__control:checked~div.sk-toggleable__content {\n",
       "  /* Expand drop-down */\n",
       "  max-height: 200px;\n",
       "  max-width: 100%;\n",
       "  overflow: auto;\n",
       "}\n",
       "\n",
       "#sk-container-id-1 input.sk-toggleable__control:checked~label.sk-toggleable__label-arrow:before {\n",
       "  content: \"▾\";\n",
       "}\n",
       "\n",
       "/* Pipeline/ColumnTransformer-specific style */\n",
       "\n",
       "#sk-container-id-1 div.sk-label input.sk-toggleable__control:checked~label.sk-toggleable__label {\n",
       "  color: var(--sklearn-color-text);\n",
       "  background-color: var(--sklearn-color-unfitted-level-2);\n",
       "}\n",
       "\n",
       "#sk-container-id-1 div.sk-label.fitted input.sk-toggleable__control:checked~label.sk-toggleable__label {\n",
       "  background-color: var(--sklearn-color-fitted-level-2);\n",
       "}\n",
       "\n",
       "/* Estimator-specific style */\n",
       "\n",
       "/* Colorize estimator box */\n",
       "#sk-container-id-1 div.sk-estimator input.sk-toggleable__control:checked~label.sk-toggleable__label {\n",
       "  /* unfitted */\n",
       "  background-color: var(--sklearn-color-unfitted-level-2);\n",
       "}\n",
       "\n",
       "#sk-container-id-1 div.sk-estimator.fitted input.sk-toggleable__control:checked~label.sk-toggleable__label {\n",
       "  /* fitted */\n",
       "  background-color: var(--sklearn-color-fitted-level-2);\n",
       "}\n",
       "\n",
       "#sk-container-id-1 div.sk-label label.sk-toggleable__label,\n",
       "#sk-container-id-1 div.sk-label label {\n",
       "  /* The background is the default theme color */\n",
       "  color: var(--sklearn-color-text-on-default-background);\n",
       "}\n",
       "\n",
       "/* On hover, darken the color of the background */\n",
       "#sk-container-id-1 div.sk-label:hover label.sk-toggleable__label {\n",
       "  color: var(--sklearn-color-text);\n",
       "  background-color: var(--sklearn-color-unfitted-level-2);\n",
       "}\n",
       "\n",
       "/* Label box, darken color on hover, fitted */\n",
       "#sk-container-id-1 div.sk-label.fitted:hover label.sk-toggleable__label.fitted {\n",
       "  color: var(--sklearn-color-text);\n",
       "  background-color: var(--sklearn-color-fitted-level-2);\n",
       "}\n",
       "\n",
       "/* Estimator label */\n",
       "\n",
       "#sk-container-id-1 div.sk-label label {\n",
       "  font-family: monospace;\n",
       "  font-weight: bold;\n",
       "  display: inline-block;\n",
       "  line-height: 1.2em;\n",
       "}\n",
       "\n",
       "#sk-container-id-1 div.sk-label-container {\n",
       "  text-align: center;\n",
       "}\n",
       "\n",
       "/* Estimator-specific */\n",
       "#sk-container-id-1 div.sk-estimator {\n",
       "  font-family: monospace;\n",
       "  border: 1px dotted var(--sklearn-color-border-box);\n",
       "  border-radius: 0.25em;\n",
       "  box-sizing: border-box;\n",
       "  margin-bottom: 0.5em;\n",
       "  /* unfitted */\n",
       "  background-color: var(--sklearn-color-unfitted-level-0);\n",
       "}\n",
       "\n",
       "#sk-container-id-1 div.sk-estimator.fitted {\n",
       "  /* fitted */\n",
       "  background-color: var(--sklearn-color-fitted-level-0);\n",
       "}\n",
       "\n",
       "/* on hover */\n",
       "#sk-container-id-1 div.sk-estimator:hover {\n",
       "  /* unfitted */\n",
       "  background-color: var(--sklearn-color-unfitted-level-2);\n",
       "}\n",
       "\n",
       "#sk-container-id-1 div.sk-estimator.fitted:hover {\n",
       "  /* fitted */\n",
       "  background-color: var(--sklearn-color-fitted-level-2);\n",
       "}\n",
       "\n",
       "/* Specification for estimator info (e.g. \"i\" and \"?\") */\n",
       "\n",
       "/* Common style for \"i\" and \"?\" */\n",
       "\n",
       ".sk-estimator-doc-link,\n",
       "a:link.sk-estimator-doc-link,\n",
       "a:visited.sk-estimator-doc-link {\n",
       "  float: right;\n",
       "  font-size: smaller;\n",
       "  line-height: 1em;\n",
       "  font-family: monospace;\n",
       "  background-color: var(--sklearn-color-background);\n",
       "  border-radius: 1em;\n",
       "  height: 1em;\n",
       "  width: 1em;\n",
       "  text-decoration: none !important;\n",
       "  margin-left: 1ex;\n",
       "  /* unfitted */\n",
       "  border: var(--sklearn-color-unfitted-level-1) 1pt solid;\n",
       "  color: var(--sklearn-color-unfitted-level-1);\n",
       "}\n",
       "\n",
       ".sk-estimator-doc-link.fitted,\n",
       "a:link.sk-estimator-doc-link.fitted,\n",
       "a:visited.sk-estimator-doc-link.fitted {\n",
       "  /* fitted */\n",
       "  border: var(--sklearn-color-fitted-level-1) 1pt solid;\n",
       "  color: var(--sklearn-color-fitted-level-1);\n",
       "}\n",
       "\n",
       "/* On hover */\n",
       "div.sk-estimator:hover .sk-estimator-doc-link:hover,\n",
       ".sk-estimator-doc-link:hover,\n",
       "div.sk-label-container:hover .sk-estimator-doc-link:hover,\n",
       ".sk-estimator-doc-link:hover {\n",
       "  /* unfitted */\n",
       "  background-color: var(--sklearn-color-unfitted-level-3);\n",
       "  color: var(--sklearn-color-background);\n",
       "  text-decoration: none;\n",
       "}\n",
       "\n",
       "div.sk-estimator.fitted:hover .sk-estimator-doc-link.fitted:hover,\n",
       ".sk-estimator-doc-link.fitted:hover,\n",
       "div.sk-label-container:hover .sk-estimator-doc-link.fitted:hover,\n",
       ".sk-estimator-doc-link.fitted:hover {\n",
       "  /* fitted */\n",
       "  background-color: var(--sklearn-color-fitted-level-3);\n",
       "  color: var(--sklearn-color-background);\n",
       "  text-decoration: none;\n",
       "}\n",
       "\n",
       "/* Span, style for the box shown on hovering the info icon */\n",
       ".sk-estimator-doc-link span {\n",
       "  display: none;\n",
       "  z-index: 9999;\n",
       "  position: relative;\n",
       "  font-weight: normal;\n",
       "  right: .2ex;\n",
       "  padding: .5ex;\n",
       "  margin: .5ex;\n",
       "  width: min-content;\n",
       "  min-width: 20ex;\n",
       "  max-width: 50ex;\n",
       "  color: var(--sklearn-color-text);\n",
       "  box-shadow: 2pt 2pt 4pt #999;\n",
       "  /* unfitted */\n",
       "  background: var(--sklearn-color-unfitted-level-0);\n",
       "  border: .5pt solid var(--sklearn-color-unfitted-level-3);\n",
       "}\n",
       "\n",
       ".sk-estimator-doc-link.fitted span {\n",
       "  /* fitted */\n",
       "  background: var(--sklearn-color-fitted-level-0);\n",
       "  border: var(--sklearn-color-fitted-level-3);\n",
       "}\n",
       "\n",
       ".sk-estimator-doc-link:hover span {\n",
       "  display: block;\n",
       "}\n",
       "\n",
       "/* \"?\"-specific style due to the `<a>` HTML tag */\n",
       "\n",
       "#sk-container-id-1 a.estimator_doc_link {\n",
       "  float: right;\n",
       "  font-size: 1rem;\n",
       "  line-height: 1em;\n",
       "  font-family: monospace;\n",
       "  background-color: var(--sklearn-color-background);\n",
       "  border-radius: 1rem;\n",
       "  height: 1rem;\n",
       "  width: 1rem;\n",
       "  text-decoration: none;\n",
       "  /* unfitted */\n",
       "  color: var(--sklearn-color-unfitted-level-1);\n",
       "  border: var(--sklearn-color-unfitted-level-1) 1pt solid;\n",
       "}\n",
       "\n",
       "#sk-container-id-1 a.estimator_doc_link.fitted {\n",
       "  /* fitted */\n",
       "  border: var(--sklearn-color-fitted-level-1) 1pt solid;\n",
       "  color: var(--sklearn-color-fitted-level-1);\n",
       "}\n",
       "\n",
       "/* On hover */\n",
       "#sk-container-id-1 a.estimator_doc_link:hover {\n",
       "  /* unfitted */\n",
       "  background-color: var(--sklearn-color-unfitted-level-3);\n",
       "  color: var(--sklearn-color-background);\n",
       "  text-decoration: none;\n",
       "}\n",
       "\n",
       "#sk-container-id-1 a.estimator_doc_link.fitted:hover {\n",
       "  /* fitted */\n",
       "  background-color: var(--sklearn-color-fitted-level-3);\n",
       "}\n",
       "</style><div id=\"sk-container-id-1\" class=\"sk-top-container\"><div class=\"sk-text-repr-fallback\"><pre>AgglomerativeClustering(n_clusters=149)</pre><b>In a Jupyter environment, please rerun this cell to show the HTML representation or trust the notebook. <br />On GitHub, the HTML representation is unable to render, please try loading this page with nbviewer.org.</b></div><div class=\"sk-container\" hidden><div class=\"sk-item\"><div class=\"sk-estimator fitted sk-toggleable\"><input class=\"sk-toggleable__control sk-hidden--visually\" id=\"sk-estimator-id-1\" type=\"checkbox\" checked><label for=\"sk-estimator-id-1\" class=\"sk-toggleable__label fitted sk-toggleable__label-arrow fitted\">&nbsp;&nbsp;AgglomerativeClustering<a class=\"sk-estimator-doc-link fitted\" rel=\"noreferrer\" target=\"_blank\" href=\"https://scikit-learn.org/1.5/modules/generated/sklearn.cluster.AgglomerativeClustering.html\">?<span>Documentation for AgglomerativeClustering</span></a><span class=\"sk-estimator-doc-link fitted\">i<span>Fitted</span></span></label><div class=\"sk-toggleable__content fitted\"><pre>AgglomerativeClustering(n_clusters=149)</pre></div> </div></div></div></div>"
      ],
      "text/plain": [
       "AgglomerativeClustering(n_clusters=149)"
      ]
     },
     "execution_count": 32,
     "metadata": {},
     "output_type": "execute_result"
    }
   ],
   "source": [
    "# Treinar Modelo\n",
    "best_model.fit(X_transformed.toarray())"
   ]
  },
  {
   "cell_type": "code",
   "execution_count": 33,
   "metadata": {},
   "outputs": [
    {
     "data": {
      "text/plain": [
       "0.32745480721431686"
      ]
     },
     "execution_count": 33,
     "metadata": {},
     "output_type": "execute_result"
    }
   ],
   "source": [
    "# Verificar Silhouette Score\n",
    "best_score = silhouette_score(X_transformed, best_model.labels_)\n",
    "best_score"
   ]
  },
  {
   "cell_type": "code",
   "execution_count": 34,
   "metadata": {},
   "outputs": [],
   "source": [
    "# Criar Coluna com cluster escolhido no Dataframe original\n",
    "df_laptops['cluster'] = best_model.labels_"
   ]
  },
  {
   "cell_type": "markdown",
   "metadata": {},
   "source": [
    "### Visualizar Resultados"
   ]
  },
  {
   "cell_type": "code",
   "execution_count": 35,
   "metadata": {},
   "outputs": [
    {
     "data": {
      "application/vnd.plotly.v1+json": {
       "config": {
        "plotlyServerURL": "https://plot.ly"
       },
       "data": [
        {
         "mode": "markers",
         "name": "Objective Value",
         "type": "scatter",
         "x": [
          0,
          1,
          2,
          3,
          4,
          5,
          6,
          7,
          8,
          9,
          10,
          11,
          12,
          13,
          14,
          15,
          16,
          17,
          18,
          19,
          20,
          21,
          22,
          23,
          24,
          25,
          26,
          27,
          28,
          29,
          30,
          31,
          32,
          33,
          34,
          35,
          36,
          37,
          38,
          39,
          40,
          41,
          42,
          43,
          44,
          45,
          46,
          47,
          48,
          49,
          50,
          51,
          52,
          53,
          54,
          55,
          56,
          57,
          58,
          59,
          60,
          61,
          62,
          63,
          64,
          65,
          66,
          67,
          68,
          69,
          70,
          71,
          72,
          73,
          74,
          75,
          76,
          77,
          78,
          79,
          80,
          81,
          82,
          83,
          84,
          85,
          86,
          87,
          88,
          89,
          90,
          91,
          92,
          93,
          94,
          95,
          96,
          97,
          98,
          99,
          100,
          101,
          102,
          103,
          104,
          105,
          106,
          107,
          108,
          109,
          110,
          111,
          112,
          113,
          114,
          115,
          116,
          117,
          118,
          119,
          120,
          121,
          122,
          123,
          124,
          125,
          126,
          127,
          128,
          129,
          130,
          131,
          132,
          133,
          134,
          135,
          136,
          137,
          138,
          139,
          140,
          141,
          142,
          143,
          144,
          145,
          146,
          147,
          148,
          149,
          150,
          151,
          152,
          153,
          154,
          155,
          156,
          157,
          158,
          159,
          160,
          161,
          162,
          163,
          164,
          165,
          166,
          167,
          168,
          169,
          170,
          171,
          172,
          173,
          174,
          175,
          176,
          177,
          178,
          179,
          180,
          181,
          182,
          183,
          184,
          185,
          186,
          187,
          188,
          189,
          190,
          191,
          192,
          193,
          194,
          195,
          196,
          197,
          198,
          199,
          200,
          201,
          202,
          203,
          204,
          205,
          206,
          207,
          208,
          209,
          210,
          211,
          212,
          213,
          214,
          215,
          216,
          217,
          218,
          219,
          220,
          221,
          222,
          223,
          224,
          225,
          226,
          227,
          228,
          229,
          230,
          231,
          232,
          233,
          234,
          235,
          236,
          237,
          238,
          239,
          240,
          241,
          242,
          243,
          244,
          245,
          246,
          247,
          248,
          249,
          250,
          251,
          252,
          253,
          254,
          255,
          256,
          257,
          258,
          259,
          260,
          261,
          262,
          263,
          264,
          265,
          266,
          267,
          268,
          269,
          270,
          271,
          272,
          273,
          274,
          275,
          276,
          277,
          278,
          279,
          280,
          281,
          282,
          283,
          284,
          285,
          286,
          287,
          288,
          289,
          290,
          291,
          292,
          293,
          294,
          295,
          296,
          297,
          298,
          299,
          300,
          301,
          302,
          303,
          304,
          305,
          306,
          307,
          308,
          309,
          310,
          311,
          312,
          313,
          314,
          315,
          316,
          317,
          318,
          319,
          320,
          321,
          322,
          323,
          324,
          325,
          326,
          327,
          328,
          329,
          330,
          331,
          332,
          333,
          334,
          335,
          336,
          337,
          338,
          339,
          340,
          341,
          342,
          343,
          344,
          345,
          346,
          347,
          348,
          349,
          350,
          351,
          352,
          353,
          354,
          355,
          356,
          357,
          358,
          359,
          360,
          361,
          362,
          363,
          364,
          365,
          366,
          367,
          368,
          369,
          370,
          371,
          372,
          373,
          374,
          375,
          376,
          377,
          378,
          379,
          380,
          381,
          382,
          383,
          384,
          385,
          386,
          387,
          388,
          389,
          390,
          391,
          392,
          393,
          394,
          395,
          396,
          397,
          398,
          399,
          400,
          401,
          402,
          403,
          404,
          405,
          406,
          407,
          408,
          409,
          410,
          411,
          412,
          413,
          414,
          415,
          416,
          417,
          418,
          419,
          420,
          421,
          422,
          423,
          424,
          425,
          426,
          427,
          428,
          429,
          430,
          431,
          432,
          433,
          434,
          435,
          436,
          437,
          438,
          439,
          440,
          441,
          442,
          443,
          444,
          445,
          446,
          447,
          448,
          449,
          450,
          451,
          452,
          453,
          454,
          455,
          456,
          457,
          458,
          459,
          460,
          461,
          462,
          463,
          464,
          465,
          466,
          467,
          468,
          469,
          470,
          471,
          472,
          473,
          474,
          475,
          476,
          477,
          478,
          479,
          480,
          481,
          482,
          483,
          484,
          485,
          486,
          487,
          488,
          489,
          490,
          491,
          492,
          493,
          494,
          495,
          496,
          497,
          498,
          499,
          500,
          501,
          502,
          503,
          504,
          505,
          506,
          507,
          508,
          509,
          510,
          511,
          512,
          513,
          514,
          515,
          516,
          517,
          518,
          519,
          520,
          521,
          522,
          523,
          524,
          525,
          526,
          527,
          528,
          529,
          530,
          531,
          532,
          533,
          534,
          535,
          536,
          537,
          538,
          539,
          540,
          541,
          542,
          543,
          544,
          545,
          546,
          547,
          548,
          549,
          550,
          551,
          552,
          553,
          554,
          555,
          556,
          557,
          558,
          559,
          560,
          561,
          562,
          563
         ],
         "y": [
          0.2234907963314824,
          0.17524794730527618,
          0.18192511775951023,
          0.17426651499876017,
          0.22831449937222206,
          0.2354443546476447,
          0.2318880104031542,
          0.21637852586425793,
          -0.012385366737670744,
          0.22484977768132305,
          0.20088251312402894,
          0.22380660507267972,
          -0.006948212977119697,
          0.2185755902202045,
          0.20476442037998793,
          0.20209964266736868,
          0.2216944255575408,
          0.21575502601728042,
          0.21982110245597525,
          0.15047744246806405,
          -0.020967760020367987,
          0.21856440845928937,
          0.2466785062862802,
          0.29008750095185715,
          0.21574459736792392,
          0.22590420165997852,
          0.2917053297000771,
          -0.011608217066892664,
          0.16949061368130935,
          0.24805437685908638,
          0.20182401762192184,
          0.20313139238453612,
          0.18291403053577054,
          0.08417562018430953,
          0.2307623209852819,
          0.28125304508033033,
          0.28249440216065275,
          0.21707723787640335,
          0.21934455555096624,
          -0.018912069436392277,
          0.2641823440567754,
          0.21857661382519195,
          -0.04585227746082969,
          0.1751502223367616,
          0.2079170511581469,
          -0.0294564689590111,
          0.14347402459378997,
          0.17941347658410037,
          0.20808350822768346,
          0.16825399221343482,
          0.030679830280590577,
          -0.026775748007803264,
          0.2900833667519171,
          0.19512325137619457,
          0.22566063117452445,
          0.13407197799483717,
          0.1479242001156871,
          0.32729777740951294,
          0.19411235017994075,
          0.21803623538816608,
          0.20978890262923017,
          0.23985293218676346,
          0.2250607404717766,
          0.21675325979778237,
          0.2321388764783042,
          -0.015784956227349198,
          -0.010897187582202247,
          0.23863587248186907,
          0.22522817587557464,
          0.06738110016804925,
          0.142549778957606,
          0.17559516911786277,
          -0.03894495250452619,
          -0.01769488740174539,
          0.23215144302942087,
          0.2964811611514021,
          0.14735821059107657,
          0.19340598769463999,
          0.21793808860346364,
          0.04258202307108817,
          -0.025911536548773543,
          0.22227577387921685,
          0.31952336136695375,
          0.24361876308154698,
          0.21609792581497622,
          0.259008820188013,
          0.1973127735574832,
          0.26361667359163016,
          -0.01221085869683866,
          0.05468754282834488,
          -0.030690762504648906,
          0.21099706125190115,
          0.21661623689564757,
          0.1582975350840369,
          0.19552405814399773,
          0.2071459872852789,
          0.2743065021683862,
          0.21694284352360366,
          0.14936102331486922,
          0.21655041719908974,
          0.21814530040547253,
          0.22325685723376285,
          0.2085074141371235,
          -0.049381453674799805,
          0.2946698679679079,
          -0.030786914785083004,
          0.08492238352974084,
          0.08715589325953373,
          0.1910297870259329,
          -0.03810384204063109,
          0.17839405284953613,
          0.16758133639394757,
          0.21177416239142763,
          0.1783225739202815,
          0.19065488150261267,
          -0.028936379279647064,
          0.19366691591765245,
          -0.050084114836550724,
          -0.006074726212901375,
          0.20412988721406675,
          -0.0058448696331559104,
          0.21522242809937703,
          0.2937783766463805,
          0.19630927012822172,
          0.24772433335480548,
          -0.04665126023634104,
          0.19607730872407883,
          0.17197885718042494,
          0.3187099175280095,
          0.05705526277686684,
          -0.027474646795153136,
          0.2377044534491781,
          0.1706689810230835,
          0.20848797637787528,
          0.2924979182842741,
          0.05384456515506289,
          0.17207909205329164,
          0.1523833634375463,
          0.23995021578588382,
          0.21929060617600846,
          0.31060760634148205,
          0.23057486969816468,
          0.16645591861907544,
          0.2188450843073677,
          0.2197277071269907,
          0.13809124747252385,
          0.3224483612527445,
          0.2428461618165716,
          0.17190663432093317,
          0.21753784060941067,
          -0.010255366309576543,
          0.20334097905045553,
          0.0665196394921217,
          -0.027814167353891407,
          -0.04168772477017869,
          0.2780371003873098,
          0.275107290298072,
          0.2205740945846991,
          0.14967658445863533,
          0.232067711035336,
          0.21696980940624,
          0.16620039233422498,
          0.23342747758705054,
          0.2771162338290132,
          0.21087738945323636,
          -0.008060025912672256,
          0.19707899251221453,
          0.19512227500396093,
          0.23606603254922776,
          0.28143962903438463,
          0.237422908102927,
          0.17548060771779475,
          0.17461123005140128,
          0.2110599949670471,
          0.21857403123522168,
          0.22164695368688064,
          0.2011810684247101,
          0.2079962768526376,
          0.19534136261412813,
          0.22532081418842428,
          0.23828051215019258,
          0.21973193981664024,
          0.22276180456553146,
          0.18227341524631058,
          0.23801067555877786,
          0.21872172065777487,
          0.1981129477494152,
          -0.04034503810837412,
          0.3063543786848593,
          0.1512347618495628,
          0.15837508669646316,
          0.2364079449466678,
          -0.02808309037036316,
          -0.044769524799501186,
          -0.03295456997308392,
          0.05877099144512262,
          0.10122400803621198,
          0.23043322818745202,
          0.2094359654236086,
          0.20797041195681465,
          0.23355261425585144,
          0.1466384109543751,
          -0.026424248793092815,
          0.050172707544777866,
          0.14380182349257942,
          0.218438378476893,
          0.22629517301916616,
          -0.026931829799925307,
          0.19365889500071226,
          0.23862257607943446,
          0.23490918815355466,
          0.084955176975362,
          0.2364066408074086,
          0.24353809578904564,
          0.20728220223778873,
          0.14670480341016384,
          0.2667444430375785,
          0.17569156757450227,
          0.18107402893566493,
          0.21704101468750023,
          0.19126593087822008,
          -0.021987146288277425,
          0.22254867296699526,
          0.2396814593198889,
          -0.07753448991406098,
          0.18546643939299237,
          0.29770322107144354,
          -0.012572321264651489,
          0.19986047010366845,
          0.31929554358940726,
          0.040970981688963806,
          0.3027020527964483,
          -0.01863791720728406,
          0.19299700592044122,
          0.2422542903620175,
          0.20747010581787484,
          0.19747723662392355,
          0.12746853108008654,
          -0.0468805711401071,
          0.19441956623313553,
          0.16404085729227844,
          0.20440126686475438,
          0.13406234041820514,
          -0.07701134141319302,
          0.21657261440320918,
          -0.011994014626722558,
          0.23896763872392793,
          -0.035435497766806,
          0.23928187369321935,
          0.2992267527701573,
          0.25379924928737624,
          0.06211022065895335,
          0.20763286128479477,
          0.19625549740769382,
          0.17899463078516822,
          0.0667161546711643,
          0.0848492119532411,
          0.13771321527911337,
          0.055762663031431674,
          0.22434354853874838,
          0.2405995960771114,
          0.19656170308254153,
          0.2006565712312287,
          0.2036349425890777,
          0.29563867594644433,
          0.2097154072231901,
          -0.02566085267241982,
          0.17770823214498485,
          0.2886854383454542,
          0.21464282161237228,
          0.23812647915950066,
          0.28771093850711843,
          -0.0515757293326145,
          -0.032994422108979835,
          0.057930653157175965,
          0.20050043297346282,
          0.26987093777448085,
          -0.05556656269236453,
          0.22067051401784102,
          -0.03942822953607895,
          0.19974693370091323,
          0.2784438926733835,
          0.1925607593171684,
          0.2273522361563746,
          -0.010997424377944652,
          0.19889951184034566,
          0.224811438268322,
          0.17556818511761565,
          -0.04661846843884509,
          0.18287417537978612,
          0.21398164022541366,
          -0.03350219766005386,
          0.27789886320676294,
          0.17602041417909112,
          0.22310120709854364,
          -0.061041615175430775,
          0.2968413542701591,
          0.29426485670852903,
          0.15942775655922228,
          0.21735236668219218,
          0.1470761979006531,
          -0.037525222396808895,
          0.1695687166982716,
          0.20980959295277052,
          -0.017860900502353786,
          0.20772633614940483,
          0.20978572346447005,
          0.32043327823014345,
          0.15835929015129013,
          0.2313302071387184,
          0.21050138323315704,
          0.17466049688869262,
          -0.039532919279455514,
          0.09841825566449644,
          0.2315208890931619,
          0.21763138450620376,
          0.3185445128986242,
          0.22327361792243564,
          0.26190027728624615,
          0.17709862503461418,
          0.2300115897189158,
          0.23777033103131473,
          0.19965022171261804,
          -0.043039199841860214,
          0.0811475233552725,
          0.21701634759264843,
          0.21811303345371058,
          0.21742433299416358,
          0.1598661682801904,
          0.1275663264838102,
          0.24209625997965917,
          0.13826163193289398,
          0.22921777942654054,
          0.20899510686338463,
          0.21334115506165935,
          -0.0241670363509758,
          0.17683213552998414,
          0.15830804059525252,
          0.16950777389951255,
          0.05612018500406778,
          0.21761579399372447,
          0.2089756362131686,
          0.23025112960570635,
          0.23039723803054932,
          0.15065460744693257,
          0.23233867421306736,
          0.1367988848991185,
          0.32487339992902015,
          0.21821868643207368,
          0.2857669264096271,
          0.12710406656875103,
          0.16011282752800948,
          0.11004670176078468,
          0.2104267644104242,
          -0.03867495615215134,
          0.18123086299169006,
          0.21095133165102783,
          -0.010835928868282507,
          0.19890053387823364,
          0.21968558402008237,
          0.23545274163784505,
          0.2405955833588235,
          0.1993309596014807,
          0.21095040426466707,
          0.1341021376087075,
          0.21220177114584043,
          0.315594714097842,
          -0.04852295644330355,
          0.2919699728486305,
          0.17673537708817277,
          0.23853076523814187,
          -0.027445195588072496,
          0.22843230086935587,
          0.2419591310996437,
          0.04538065334524472,
          0.2503636469950694,
          -0.07744379671214284,
          0.049074551079755516,
          0.18309893746741152,
          0.1954580408099718,
          0.1744905384837568,
          0.18004032453377464,
          0.30172233572304596,
          0.2231187433709101,
          0.2206249869557132,
          0.12668977290326564,
          0.13245953277476302,
          0.2576836085863808,
          0.2957516719663861,
          0.2100402481387842,
          0.21732771311478008,
          0.20228157903755048,
          0.2923911720018562,
          0.21123125207408924,
          0.15019463148388285,
          0.19640231259677227,
          0.2923372647462709,
          0.19781389307263358,
          0.29217657249856227,
          -0.04855905789796936,
          0.09729502744855044,
          0.32745480721431686,
          0.21658887884601227,
          0.24025057171969064,
          0.20569809787015683,
          -0.003628250499849949,
          0.17527818052814975,
          0.17960211035422183,
          -0.05966834145631194,
          0.22333931204345855,
          0.22844218551884143,
          -0.05960595120726148,
          0.19540436364531646,
          0.19240884762415547,
          0.13729388289389444,
          -0.02763246981327393,
          0.23763470760149702,
          0.2102942008068066,
          0.2217789479573064,
          0.053492426697512786,
          0.17321889728896364,
          0.15710043691356465,
          0.30733651320656874,
          0.23590347853781163,
          0.1735660966429939,
          0.24700514261089737,
          0.19173649995880054,
          0.2092478212327144,
          -0.04956810457931768,
          0.05436585966019914,
          0.240947527209999,
          0.14835122918546384,
          -0.031080422587074753,
          0.1898991708938265,
          0.2212420302678087,
          0.2517482372292342,
          0.15856059367953348,
          0.23451613748801164,
          0.1860018540443145,
          0.2114980967491886,
          -0.029099277066885053,
          0.26126600614254436,
          0.23964384450953755,
          0.22969857420862358,
          0.20286714923064503,
          0.23625269589857809,
          0.22936815618560366,
          0.2383516863963981,
          0.22776753334741912,
          0.23407030327917897,
          0.20625754024994433,
          -0.052314376516392126,
          -0.05135152870340016,
          -0.00915919301471713,
          -0.011023372350648684,
          -0.01793912162338041,
          0.30442194047389254,
          0.2142385421611545,
          0.2303639069077111,
          0.2379601682964414,
          -0.05300215835511741,
          0.20819440215575902,
          0.31792560911284873,
          0.1898778738544965,
          0.1969249538839011,
          -0.07796209866847381,
          0.05579315211291585,
          0.22819257932648418,
          0.20869905176945017,
          0.21465578928808468,
          0.17062847079327287,
          0.21543326441922986,
          0.1966138651934005,
          0.21826098503493074,
          0.20924644807610013,
          -0.028325991953246792,
          -0.02564590937948818,
          0.27596859824296904,
          0.2176344903266656,
          0.2029305188757098,
          0.15945262065529955,
          0.23172676949173845,
          0.17100480884070085,
          0.17392803188504757,
          0.20961496496305732,
          0.23578222555426126,
          0.27211241621957377,
          0.19909488308169482,
          0.2732319034268592,
          0.08482735984351049,
          0.1691178088545011,
          0.16166166475402693,
          0.2452069856918441,
          0.15837835265277778,
          0.2327679263808043,
          0.19696221034056152,
          0.21046785689319697,
          0.2205641363735282,
          0.20779382085131243,
          0.23729386413578146,
          -0.025769392486356013,
          0.22024033598063295,
          0.21200676205266103,
          0.28109755907148515,
          0.19744219178304742,
          -0.03412415043821868,
          0.191386662096416,
          0.21160672791670568,
          -0.028065810336298885,
          0.31859227356939185,
          -0.03760639474543915,
          0.3135194413313813,
          0.23213341699096415,
          0.18073596425093819,
          0.19863394357192318,
          0.258592594456579,
          0.2210258612737301,
          0.26386925251910803,
          0.25683700647652125,
          0.12714130828539671,
          0.2978180411944391,
          0.17034797456196832,
          0.2345102135850503,
          0.17488887130319178,
          0.23476283928635183,
          0.09940559526410245,
          0.23205902148315236,
          0.21713878058513403,
          0.1995954512403341,
          0.2418420948008218,
          -0.03819171837578918,
          0.23295247413137013,
          -0.03152241181855998,
          0.31473768706155225,
          0.21077929865830944,
          0.19075359213176088,
          -0.025480137594859974,
          -0.012675648012059292,
          0.17287549734951102,
          0.22507005420329737,
          0.2397153642983391,
          0.1745139349778808,
          0.3200005720218765,
          0.27767761146435527,
          0.17534479171586276,
          0.2759988314658426,
          -0.015198055476582163,
          0.1337580321102011,
          0.294730731253256,
          0.24322579763260066,
          0.0333915149261613,
          0.14710804368225142,
          0.26287598243004195,
          0.056957675538714767,
          -0.040794489492446885,
          0.17517881267913998,
          0.21451426194275774,
          -0.023953948706483316,
          0.24696326549421785,
          0.2378273457559655,
          0.18203263689703747,
          0.21041782467273695,
          0.20416843219378486,
          0.058874925545870545
         ]
        },
        {
         "mode": "lines",
         "name": "Best Value",
         "type": "scatter",
         "x": [
          0,
          1,
          2,
          3,
          4,
          5,
          6,
          7,
          8,
          9,
          10,
          11,
          12,
          13,
          14,
          15,
          16,
          17,
          18,
          19,
          20,
          21,
          22,
          23,
          24,
          25,
          26,
          27,
          28,
          29,
          30,
          31,
          32,
          33,
          34,
          35,
          36,
          37,
          38,
          39,
          40,
          41,
          42,
          43,
          44,
          45,
          46,
          47,
          48,
          49,
          50,
          51,
          52,
          53,
          54,
          55,
          56,
          57,
          58,
          59,
          60,
          61,
          62,
          63,
          64,
          65,
          66,
          67,
          68,
          69,
          70,
          71,
          72,
          73,
          74,
          75,
          76,
          77,
          78,
          79,
          80,
          81,
          82,
          83,
          84,
          85,
          86,
          87,
          88,
          89,
          90,
          91,
          92,
          93,
          94,
          95,
          96,
          97,
          98,
          99,
          100,
          101,
          102,
          103,
          104,
          105,
          106,
          107,
          108,
          109,
          110,
          111,
          112,
          113,
          114,
          115,
          116,
          117,
          118,
          119,
          120,
          121,
          122,
          123,
          124,
          125,
          126,
          127,
          128,
          129,
          130,
          131,
          132,
          133,
          134,
          135,
          136,
          137,
          138,
          139,
          140,
          141,
          142,
          143,
          144,
          145,
          146,
          147,
          148,
          149,
          150,
          151,
          152,
          153,
          154,
          155,
          156,
          157,
          158,
          159,
          160,
          161,
          162,
          163,
          164,
          165,
          166,
          167,
          168,
          169,
          170,
          171,
          172,
          173,
          174,
          175,
          176,
          177,
          178,
          179,
          180,
          181,
          182,
          183,
          184,
          185,
          186,
          187,
          188,
          189,
          190,
          191,
          192,
          193,
          194,
          195,
          196,
          197,
          198,
          199,
          200,
          201,
          202,
          203,
          204,
          205,
          206,
          207,
          208,
          209,
          210,
          211,
          212,
          213,
          214,
          215,
          216,
          217,
          218,
          219,
          220,
          221,
          222,
          223,
          224,
          225,
          226,
          227,
          228,
          229,
          230,
          231,
          232,
          233,
          234,
          235,
          236,
          237,
          238,
          239,
          240,
          241,
          242,
          243,
          244,
          245,
          246,
          247,
          248,
          249,
          250,
          251,
          252,
          253,
          254,
          255,
          256,
          257,
          258,
          259,
          260,
          261,
          262,
          263,
          264,
          265,
          266,
          267,
          268,
          269,
          270,
          271,
          272,
          273,
          274,
          275,
          276,
          277,
          278,
          279,
          280,
          281,
          282,
          283,
          284,
          285,
          286,
          287,
          288,
          289,
          290,
          291,
          292,
          293,
          294,
          295,
          296,
          297,
          298,
          299,
          300,
          301,
          302,
          303,
          304,
          305,
          306,
          307,
          308,
          309,
          310,
          311,
          312,
          313,
          314,
          315,
          316,
          317,
          318,
          319,
          320,
          321,
          322,
          323,
          324,
          325,
          326,
          327,
          328,
          329,
          330,
          331,
          332,
          333,
          334,
          335,
          336,
          337,
          338,
          339,
          340,
          341,
          342,
          343,
          344,
          345,
          346,
          347,
          348,
          349,
          350,
          351,
          352,
          353,
          354,
          355,
          356,
          357,
          358,
          359,
          360,
          361,
          362,
          363,
          364,
          365,
          366,
          367,
          368,
          369,
          370,
          371,
          372,
          373,
          374,
          375,
          376,
          377,
          378,
          379,
          380,
          381,
          382,
          383,
          384,
          385,
          386,
          387,
          388,
          389,
          390,
          391,
          392,
          393,
          394,
          395,
          396,
          397,
          398,
          399,
          400,
          401,
          402,
          403,
          404,
          405,
          406,
          407,
          408,
          409,
          410,
          411,
          412,
          413,
          414,
          415,
          416,
          417,
          418,
          419,
          420,
          421,
          422,
          423,
          424,
          425,
          426,
          427,
          428,
          429,
          430,
          431,
          432,
          433,
          434,
          435,
          436,
          437,
          438,
          439,
          440,
          441,
          442,
          443,
          444,
          445,
          446,
          447,
          448,
          449,
          450,
          451,
          452,
          453,
          454,
          455,
          456,
          457,
          458,
          459,
          460,
          461,
          462,
          463,
          464,
          465,
          466,
          467,
          468,
          469,
          470,
          471,
          472,
          473,
          474,
          475,
          476,
          477,
          478,
          479,
          480,
          481,
          482,
          483,
          484,
          485,
          486,
          487,
          488,
          489,
          490,
          491,
          492,
          493,
          494,
          495,
          496,
          497,
          498,
          499,
          500,
          501,
          502,
          503,
          504,
          505,
          506,
          507,
          508,
          509,
          510,
          511,
          512,
          513,
          514,
          515,
          516,
          517,
          518,
          519,
          520,
          521,
          522,
          523,
          524,
          525,
          526,
          527,
          528,
          529,
          530,
          531,
          532,
          533,
          534,
          535,
          536,
          537,
          538,
          539,
          540,
          541,
          542,
          543,
          544,
          545,
          546,
          547,
          548,
          549,
          550,
          551,
          552,
          553,
          554,
          555,
          556,
          557,
          558,
          559,
          560,
          561,
          562,
          563
         ],
         "y": [
          0.2234907963314824,
          0.2234907963314824,
          0.2234907963314824,
          0.2234907963314824,
          0.22831449937222206,
          0.2354443546476447,
          0.2354443546476447,
          0.2354443546476447,
          0.2354443546476447,
          0.2354443546476447,
          0.2354443546476447,
          0.2354443546476447,
          0.2354443546476447,
          0.2354443546476447,
          0.2354443546476447,
          0.2354443546476447,
          0.2354443546476447,
          0.2354443546476447,
          0.2354443546476447,
          0.2354443546476447,
          0.2354443546476447,
          0.2354443546476447,
          0.2466785062862802,
          0.29008750095185715,
          0.29008750095185715,
          0.29008750095185715,
          0.2917053297000771,
          0.2917053297000771,
          0.2917053297000771,
          0.2917053297000771,
          0.2917053297000771,
          0.2917053297000771,
          0.2917053297000771,
          0.2917053297000771,
          0.2917053297000771,
          0.2917053297000771,
          0.2917053297000771,
          0.2917053297000771,
          0.2917053297000771,
          0.2917053297000771,
          0.2917053297000771,
          0.2917053297000771,
          0.2917053297000771,
          0.2917053297000771,
          0.2917053297000771,
          0.2917053297000771,
          0.2917053297000771,
          0.2917053297000771,
          0.2917053297000771,
          0.2917053297000771,
          0.2917053297000771,
          0.2917053297000771,
          0.2917053297000771,
          0.2917053297000771,
          0.2917053297000771,
          0.2917053297000771,
          0.2917053297000771,
          0.32729777740951294,
          0.32729777740951294,
          0.32729777740951294,
          0.32729777740951294,
          0.32729777740951294,
          0.32729777740951294,
          0.32729777740951294,
          0.32729777740951294,
          0.32729777740951294,
          0.32729777740951294,
          0.32729777740951294,
          0.32729777740951294,
          0.32729777740951294,
          0.32729777740951294,
          0.32729777740951294,
          0.32729777740951294,
          0.32729777740951294,
          0.32729777740951294,
          0.32729777740951294,
          0.32729777740951294,
          0.32729777740951294,
          0.32729777740951294,
          0.32729777740951294,
          0.32729777740951294,
          0.32729777740951294,
          0.32729777740951294,
          0.32729777740951294,
          0.32729777740951294,
          0.32729777740951294,
          0.32729777740951294,
          0.32729777740951294,
          0.32729777740951294,
          0.32729777740951294,
          0.32729777740951294,
          0.32729777740951294,
          0.32729777740951294,
          0.32729777740951294,
          0.32729777740951294,
          0.32729777740951294,
          0.32729777740951294,
          0.32729777740951294,
          0.32729777740951294,
          0.32729777740951294,
          0.32729777740951294,
          0.32729777740951294,
          0.32729777740951294,
          0.32729777740951294,
          0.32729777740951294,
          0.32729777740951294,
          0.32729777740951294,
          0.32729777740951294,
          0.32729777740951294,
          0.32729777740951294,
          0.32729777740951294,
          0.32729777740951294,
          0.32729777740951294,
          0.32729777740951294,
          0.32729777740951294,
          0.32729777740951294,
          0.32729777740951294,
          0.32729777740951294,
          0.32729777740951294,
          0.32729777740951294,
          0.32729777740951294,
          0.32729777740951294,
          0.32729777740951294,
          0.32729777740951294,
          0.32729777740951294,
          0.32729777740951294,
          0.32729777740951294,
          0.32729777740951294,
          0.32729777740951294,
          0.32729777740951294,
          0.32729777740951294,
          0.32729777740951294,
          0.32729777740951294,
          0.32729777740951294,
          0.32729777740951294,
          0.32729777740951294,
          0.32729777740951294,
          0.32729777740951294,
          0.32729777740951294,
          0.32729777740951294,
          0.32729777740951294,
          0.32729777740951294,
          0.32729777740951294,
          0.32729777740951294,
          0.32729777740951294,
          0.32729777740951294,
          0.32729777740951294,
          0.32729777740951294,
          0.32729777740951294,
          0.32729777740951294,
          0.32729777740951294,
          0.32729777740951294,
          0.32729777740951294,
          0.32729777740951294,
          0.32729777740951294,
          0.32729777740951294,
          0.32729777740951294,
          0.32729777740951294,
          0.32729777740951294,
          0.32729777740951294,
          0.32729777740951294,
          0.32729777740951294,
          0.32729777740951294,
          0.32729777740951294,
          0.32729777740951294,
          0.32729777740951294,
          0.32729777740951294,
          0.32729777740951294,
          0.32729777740951294,
          0.32729777740951294,
          0.32729777740951294,
          0.32729777740951294,
          0.32729777740951294,
          0.32729777740951294,
          0.32729777740951294,
          0.32729777740951294,
          0.32729777740951294,
          0.32729777740951294,
          0.32729777740951294,
          0.32729777740951294,
          0.32729777740951294,
          0.32729777740951294,
          0.32729777740951294,
          0.32729777740951294,
          0.32729777740951294,
          0.32729777740951294,
          0.32729777740951294,
          0.32729777740951294,
          0.32729777740951294,
          0.32729777740951294,
          0.32729777740951294,
          0.32729777740951294,
          0.32729777740951294,
          0.32729777740951294,
          0.32729777740951294,
          0.32729777740951294,
          0.32729777740951294,
          0.32729777740951294,
          0.32729777740951294,
          0.32729777740951294,
          0.32729777740951294,
          0.32729777740951294,
          0.32729777740951294,
          0.32729777740951294,
          0.32729777740951294,
          0.32729777740951294,
          0.32729777740951294,
          0.32729777740951294,
          0.32729777740951294,
          0.32729777740951294,
          0.32729777740951294,
          0.32729777740951294,
          0.32729777740951294,
          0.32729777740951294,
          0.32729777740951294,
          0.32729777740951294,
          0.32729777740951294,
          0.32729777740951294,
          0.32729777740951294,
          0.32729777740951294,
          0.32729777740951294,
          0.32729777740951294,
          0.32729777740951294,
          0.32729777740951294,
          0.32729777740951294,
          0.32729777740951294,
          0.32729777740951294,
          0.32729777740951294,
          0.32729777740951294,
          0.32729777740951294,
          0.32729777740951294,
          0.32729777740951294,
          0.32729777740951294,
          0.32729777740951294,
          0.32729777740951294,
          0.32729777740951294,
          0.32729777740951294,
          0.32729777740951294,
          0.32729777740951294,
          0.32729777740951294,
          0.32729777740951294,
          0.32729777740951294,
          0.32729777740951294,
          0.32729777740951294,
          0.32729777740951294,
          0.32729777740951294,
          0.32729777740951294,
          0.32729777740951294,
          0.32729777740951294,
          0.32729777740951294,
          0.32729777740951294,
          0.32729777740951294,
          0.32729777740951294,
          0.32729777740951294,
          0.32729777740951294,
          0.32729777740951294,
          0.32729777740951294,
          0.32729777740951294,
          0.32729777740951294,
          0.32729777740951294,
          0.32729777740951294,
          0.32729777740951294,
          0.32729777740951294,
          0.32729777740951294,
          0.32729777740951294,
          0.32729777740951294,
          0.32729777740951294,
          0.32729777740951294,
          0.32729777740951294,
          0.32729777740951294,
          0.32729777740951294,
          0.32729777740951294,
          0.32729777740951294,
          0.32729777740951294,
          0.32729777740951294,
          0.32729777740951294,
          0.32729777740951294,
          0.32729777740951294,
          0.32729777740951294,
          0.32729777740951294,
          0.32729777740951294,
          0.32729777740951294,
          0.32729777740951294,
          0.32729777740951294,
          0.32729777740951294,
          0.32729777740951294,
          0.32729777740951294,
          0.32729777740951294,
          0.32729777740951294,
          0.32729777740951294,
          0.32729777740951294,
          0.32729777740951294,
          0.32729777740951294,
          0.32729777740951294,
          0.32729777740951294,
          0.32729777740951294,
          0.32729777740951294,
          0.32729777740951294,
          0.32729777740951294,
          0.32729777740951294,
          0.32729777740951294,
          0.32729777740951294,
          0.32729777740951294,
          0.32729777740951294,
          0.32729777740951294,
          0.32729777740951294,
          0.32729777740951294,
          0.32729777740951294,
          0.32729777740951294,
          0.32729777740951294,
          0.32729777740951294,
          0.32729777740951294,
          0.32729777740951294,
          0.32729777740951294,
          0.32729777740951294,
          0.32729777740951294,
          0.32729777740951294,
          0.32729777740951294,
          0.32729777740951294,
          0.32729777740951294,
          0.32729777740951294,
          0.32729777740951294,
          0.32729777740951294,
          0.32729777740951294,
          0.32729777740951294,
          0.32729777740951294,
          0.32729777740951294,
          0.32729777740951294,
          0.32729777740951294,
          0.32729777740951294,
          0.32729777740951294,
          0.32729777740951294,
          0.32729777740951294,
          0.32729777740951294,
          0.32729777740951294,
          0.32729777740951294,
          0.32729777740951294,
          0.32729777740951294,
          0.32729777740951294,
          0.32729777740951294,
          0.32729777740951294,
          0.32729777740951294,
          0.32729777740951294,
          0.32729777740951294,
          0.32729777740951294,
          0.32729777740951294,
          0.32729777740951294,
          0.32729777740951294,
          0.32729777740951294,
          0.32729777740951294,
          0.32729777740951294,
          0.32729777740951294,
          0.32729777740951294,
          0.32729777740951294,
          0.32729777740951294,
          0.32729777740951294,
          0.32729777740951294,
          0.32729777740951294,
          0.32729777740951294,
          0.32729777740951294,
          0.32729777740951294,
          0.32729777740951294,
          0.32729777740951294,
          0.32729777740951294,
          0.32729777740951294,
          0.32729777740951294,
          0.32729777740951294,
          0.32729777740951294,
          0.32729777740951294,
          0.32729777740951294,
          0.32729777740951294,
          0.32729777740951294,
          0.32729777740951294,
          0.32729777740951294,
          0.32729777740951294,
          0.32729777740951294,
          0.32729777740951294,
          0.32729777740951294,
          0.32729777740951294,
          0.32729777740951294,
          0.32729777740951294,
          0.32729777740951294,
          0.32729777740951294,
          0.32729777740951294,
          0.32729777740951294,
          0.32729777740951294,
          0.32729777740951294,
          0.32729777740951294,
          0.32729777740951294,
          0.32729777740951294,
          0.32729777740951294,
          0.32729777740951294,
          0.32729777740951294,
          0.32729777740951294,
          0.32729777740951294,
          0.32729777740951294,
          0.32729777740951294,
          0.32729777740951294,
          0.32729777740951294,
          0.32729777740951294,
          0.32729777740951294,
          0.32745480721431686,
          0.32745480721431686,
          0.32745480721431686,
          0.32745480721431686,
          0.32745480721431686,
          0.32745480721431686,
          0.32745480721431686,
          0.32745480721431686,
          0.32745480721431686,
          0.32745480721431686,
          0.32745480721431686,
          0.32745480721431686,
          0.32745480721431686,
          0.32745480721431686,
          0.32745480721431686,
          0.32745480721431686,
          0.32745480721431686,
          0.32745480721431686,
          0.32745480721431686,
          0.32745480721431686,
          0.32745480721431686,
          0.32745480721431686,
          0.32745480721431686,
          0.32745480721431686,
          0.32745480721431686,
          0.32745480721431686,
          0.32745480721431686,
          0.32745480721431686,
          0.32745480721431686,
          0.32745480721431686,
          0.32745480721431686,
          0.32745480721431686,
          0.32745480721431686,
          0.32745480721431686,
          0.32745480721431686,
          0.32745480721431686,
          0.32745480721431686,
          0.32745480721431686,
          0.32745480721431686,
          0.32745480721431686,
          0.32745480721431686,
          0.32745480721431686,
          0.32745480721431686,
          0.32745480721431686,
          0.32745480721431686,
          0.32745480721431686,
          0.32745480721431686,
          0.32745480721431686,
          0.32745480721431686,
          0.32745480721431686,
          0.32745480721431686,
          0.32745480721431686,
          0.32745480721431686,
          0.32745480721431686,
          0.32745480721431686,
          0.32745480721431686,
          0.32745480721431686,
          0.32745480721431686,
          0.32745480721431686,
          0.32745480721431686,
          0.32745480721431686,
          0.32745480721431686,
          0.32745480721431686,
          0.32745480721431686,
          0.32745480721431686,
          0.32745480721431686,
          0.32745480721431686,
          0.32745480721431686,
          0.32745480721431686,
          0.32745480721431686,
          0.32745480721431686,
          0.32745480721431686,
          0.32745480721431686,
          0.32745480721431686,
          0.32745480721431686,
          0.32745480721431686,
          0.32745480721431686,
          0.32745480721431686,
          0.32745480721431686,
          0.32745480721431686,
          0.32745480721431686,
          0.32745480721431686,
          0.32745480721431686,
          0.32745480721431686,
          0.32745480721431686,
          0.32745480721431686,
          0.32745480721431686,
          0.32745480721431686,
          0.32745480721431686,
          0.32745480721431686,
          0.32745480721431686,
          0.32745480721431686,
          0.32745480721431686,
          0.32745480721431686,
          0.32745480721431686,
          0.32745480721431686,
          0.32745480721431686,
          0.32745480721431686,
          0.32745480721431686,
          0.32745480721431686,
          0.32745480721431686,
          0.32745480721431686,
          0.32745480721431686,
          0.32745480721431686,
          0.32745480721431686,
          0.32745480721431686,
          0.32745480721431686,
          0.32745480721431686,
          0.32745480721431686,
          0.32745480721431686,
          0.32745480721431686,
          0.32745480721431686,
          0.32745480721431686,
          0.32745480721431686,
          0.32745480721431686,
          0.32745480721431686,
          0.32745480721431686,
          0.32745480721431686,
          0.32745480721431686,
          0.32745480721431686,
          0.32745480721431686,
          0.32745480721431686,
          0.32745480721431686,
          0.32745480721431686,
          0.32745480721431686,
          0.32745480721431686,
          0.32745480721431686,
          0.32745480721431686,
          0.32745480721431686,
          0.32745480721431686,
          0.32745480721431686,
          0.32745480721431686,
          0.32745480721431686,
          0.32745480721431686,
          0.32745480721431686,
          0.32745480721431686,
          0.32745480721431686,
          0.32745480721431686,
          0.32745480721431686,
          0.32745480721431686,
          0.32745480721431686,
          0.32745480721431686,
          0.32745480721431686,
          0.32745480721431686,
          0.32745480721431686,
          0.32745480721431686,
          0.32745480721431686,
          0.32745480721431686,
          0.32745480721431686,
          0.32745480721431686,
          0.32745480721431686,
          0.32745480721431686,
          0.32745480721431686,
          0.32745480721431686,
          0.32745480721431686,
          0.32745480721431686,
          0.32745480721431686,
          0.32745480721431686,
          0.32745480721431686,
          0.32745480721431686,
          0.32745480721431686,
          0.32745480721431686,
          0.32745480721431686
         ]
        },
        {
         "marker": {
          "color": "#cccccc"
         },
         "mode": "markers",
         "name": "Infeasible Trial",
         "showlegend": false,
         "type": "scatter",
         "x": [],
         "y": []
        }
       ],
       "layout": {
        "template": {
         "data": {
          "bar": [
           {
            "error_x": {
             "color": "#2a3f5f"
            },
            "error_y": {
             "color": "#2a3f5f"
            },
            "marker": {
             "line": {
              "color": "#E5ECF6",
              "width": 0.5
             },
             "pattern": {
              "fillmode": "overlay",
              "size": 10,
              "solidity": 0.2
             }
            },
            "type": "bar"
           }
          ],
          "barpolar": [
           {
            "marker": {
             "line": {
              "color": "#E5ECF6",
              "width": 0.5
             },
             "pattern": {
              "fillmode": "overlay",
              "size": 10,
              "solidity": 0.2
             }
            },
            "type": "barpolar"
           }
          ],
          "carpet": [
           {
            "aaxis": {
             "endlinecolor": "#2a3f5f",
             "gridcolor": "white",
             "linecolor": "white",
             "minorgridcolor": "white",
             "startlinecolor": "#2a3f5f"
            },
            "baxis": {
             "endlinecolor": "#2a3f5f",
             "gridcolor": "white",
             "linecolor": "white",
             "minorgridcolor": "white",
             "startlinecolor": "#2a3f5f"
            },
            "type": "carpet"
           }
          ],
          "choropleth": [
           {
            "colorbar": {
             "outlinewidth": 0,
             "ticks": ""
            },
            "type": "choropleth"
           }
          ],
          "contour": [
           {
            "colorbar": {
             "outlinewidth": 0,
             "ticks": ""
            },
            "colorscale": [
             [
              0,
              "#0d0887"
             ],
             [
              0.1111111111111111,
              "#46039f"
             ],
             [
              0.2222222222222222,
              "#7201a8"
             ],
             [
              0.3333333333333333,
              "#9c179e"
             ],
             [
              0.4444444444444444,
              "#bd3786"
             ],
             [
              0.5555555555555556,
              "#d8576b"
             ],
             [
              0.6666666666666666,
              "#ed7953"
             ],
             [
              0.7777777777777778,
              "#fb9f3a"
             ],
             [
              0.8888888888888888,
              "#fdca26"
             ],
             [
              1,
              "#f0f921"
             ]
            ],
            "type": "contour"
           }
          ],
          "contourcarpet": [
           {
            "colorbar": {
             "outlinewidth": 0,
             "ticks": ""
            },
            "type": "contourcarpet"
           }
          ],
          "heatmap": [
           {
            "colorbar": {
             "outlinewidth": 0,
             "ticks": ""
            },
            "colorscale": [
             [
              0,
              "#0d0887"
             ],
             [
              0.1111111111111111,
              "#46039f"
             ],
             [
              0.2222222222222222,
              "#7201a8"
             ],
             [
              0.3333333333333333,
              "#9c179e"
             ],
             [
              0.4444444444444444,
              "#bd3786"
             ],
             [
              0.5555555555555556,
              "#d8576b"
             ],
             [
              0.6666666666666666,
              "#ed7953"
             ],
             [
              0.7777777777777778,
              "#fb9f3a"
             ],
             [
              0.8888888888888888,
              "#fdca26"
             ],
             [
              1,
              "#f0f921"
             ]
            ],
            "type": "heatmap"
           }
          ],
          "heatmapgl": [
           {
            "colorbar": {
             "outlinewidth": 0,
             "ticks": ""
            },
            "colorscale": [
             [
              0,
              "#0d0887"
             ],
             [
              0.1111111111111111,
              "#46039f"
             ],
             [
              0.2222222222222222,
              "#7201a8"
             ],
             [
              0.3333333333333333,
              "#9c179e"
             ],
             [
              0.4444444444444444,
              "#bd3786"
             ],
             [
              0.5555555555555556,
              "#d8576b"
             ],
             [
              0.6666666666666666,
              "#ed7953"
             ],
             [
              0.7777777777777778,
              "#fb9f3a"
             ],
             [
              0.8888888888888888,
              "#fdca26"
             ],
             [
              1,
              "#f0f921"
             ]
            ],
            "type": "heatmapgl"
           }
          ],
          "histogram": [
           {
            "marker": {
             "pattern": {
              "fillmode": "overlay",
              "size": 10,
              "solidity": 0.2
             }
            },
            "type": "histogram"
           }
          ],
          "histogram2d": [
           {
            "colorbar": {
             "outlinewidth": 0,
             "ticks": ""
            },
            "colorscale": [
             [
              0,
              "#0d0887"
             ],
             [
              0.1111111111111111,
              "#46039f"
             ],
             [
              0.2222222222222222,
              "#7201a8"
             ],
             [
              0.3333333333333333,
              "#9c179e"
             ],
             [
              0.4444444444444444,
              "#bd3786"
             ],
             [
              0.5555555555555556,
              "#d8576b"
             ],
             [
              0.6666666666666666,
              "#ed7953"
             ],
             [
              0.7777777777777778,
              "#fb9f3a"
             ],
             [
              0.8888888888888888,
              "#fdca26"
             ],
             [
              1,
              "#f0f921"
             ]
            ],
            "type": "histogram2d"
           }
          ],
          "histogram2dcontour": [
           {
            "colorbar": {
             "outlinewidth": 0,
             "ticks": ""
            },
            "colorscale": [
             [
              0,
              "#0d0887"
             ],
             [
              0.1111111111111111,
              "#46039f"
             ],
             [
              0.2222222222222222,
              "#7201a8"
             ],
             [
              0.3333333333333333,
              "#9c179e"
             ],
             [
              0.4444444444444444,
              "#bd3786"
             ],
             [
              0.5555555555555556,
              "#d8576b"
             ],
             [
              0.6666666666666666,
              "#ed7953"
             ],
             [
              0.7777777777777778,
              "#fb9f3a"
             ],
             [
              0.8888888888888888,
              "#fdca26"
             ],
             [
              1,
              "#f0f921"
             ]
            ],
            "type": "histogram2dcontour"
           }
          ],
          "mesh3d": [
           {
            "colorbar": {
             "outlinewidth": 0,
             "ticks": ""
            },
            "type": "mesh3d"
           }
          ],
          "parcoords": [
           {
            "line": {
             "colorbar": {
              "outlinewidth": 0,
              "ticks": ""
             }
            },
            "type": "parcoords"
           }
          ],
          "pie": [
           {
            "automargin": true,
            "type": "pie"
           }
          ],
          "scatter": [
           {
            "fillpattern": {
             "fillmode": "overlay",
             "size": 10,
             "solidity": 0.2
            },
            "type": "scatter"
           }
          ],
          "scatter3d": [
           {
            "line": {
             "colorbar": {
              "outlinewidth": 0,
              "ticks": ""
             }
            },
            "marker": {
             "colorbar": {
              "outlinewidth": 0,
              "ticks": ""
             }
            },
            "type": "scatter3d"
           }
          ],
          "scattercarpet": [
           {
            "marker": {
             "colorbar": {
              "outlinewidth": 0,
              "ticks": ""
             }
            },
            "type": "scattercarpet"
           }
          ],
          "scattergeo": [
           {
            "marker": {
             "colorbar": {
              "outlinewidth": 0,
              "ticks": ""
             }
            },
            "type": "scattergeo"
           }
          ],
          "scattergl": [
           {
            "marker": {
             "colorbar": {
              "outlinewidth": 0,
              "ticks": ""
             }
            },
            "type": "scattergl"
           }
          ],
          "scattermapbox": [
           {
            "marker": {
             "colorbar": {
              "outlinewidth": 0,
              "ticks": ""
             }
            },
            "type": "scattermapbox"
           }
          ],
          "scatterpolar": [
           {
            "marker": {
             "colorbar": {
              "outlinewidth": 0,
              "ticks": ""
             }
            },
            "type": "scatterpolar"
           }
          ],
          "scatterpolargl": [
           {
            "marker": {
             "colorbar": {
              "outlinewidth": 0,
              "ticks": ""
             }
            },
            "type": "scatterpolargl"
           }
          ],
          "scatterternary": [
           {
            "marker": {
             "colorbar": {
              "outlinewidth": 0,
              "ticks": ""
             }
            },
            "type": "scatterternary"
           }
          ],
          "surface": [
           {
            "colorbar": {
             "outlinewidth": 0,
             "ticks": ""
            },
            "colorscale": [
             [
              0,
              "#0d0887"
             ],
             [
              0.1111111111111111,
              "#46039f"
             ],
             [
              0.2222222222222222,
              "#7201a8"
             ],
             [
              0.3333333333333333,
              "#9c179e"
             ],
             [
              0.4444444444444444,
              "#bd3786"
             ],
             [
              0.5555555555555556,
              "#d8576b"
             ],
             [
              0.6666666666666666,
              "#ed7953"
             ],
             [
              0.7777777777777778,
              "#fb9f3a"
             ],
             [
              0.8888888888888888,
              "#fdca26"
             ],
             [
              1,
              "#f0f921"
             ]
            ],
            "type": "surface"
           }
          ],
          "table": [
           {
            "cells": {
             "fill": {
              "color": "#EBF0F8"
             },
             "line": {
              "color": "white"
             }
            },
            "header": {
             "fill": {
              "color": "#C8D4E3"
             },
             "line": {
              "color": "white"
             }
            },
            "type": "table"
           }
          ]
         },
         "layout": {
          "annotationdefaults": {
           "arrowcolor": "#2a3f5f",
           "arrowhead": 0,
           "arrowwidth": 1
          },
          "autotypenumbers": "strict",
          "coloraxis": {
           "colorbar": {
            "outlinewidth": 0,
            "ticks": ""
           }
          },
          "colorscale": {
           "diverging": [
            [
             0,
             "#8e0152"
            ],
            [
             0.1,
             "#c51b7d"
            ],
            [
             0.2,
             "#de77ae"
            ],
            [
             0.3,
             "#f1b6da"
            ],
            [
             0.4,
             "#fde0ef"
            ],
            [
             0.5,
             "#f7f7f7"
            ],
            [
             0.6,
             "#e6f5d0"
            ],
            [
             0.7,
             "#b8e186"
            ],
            [
             0.8,
             "#7fbc41"
            ],
            [
             0.9,
             "#4d9221"
            ],
            [
             1,
             "#276419"
            ]
           ],
           "sequential": [
            [
             0,
             "#0d0887"
            ],
            [
             0.1111111111111111,
             "#46039f"
            ],
            [
             0.2222222222222222,
             "#7201a8"
            ],
            [
             0.3333333333333333,
             "#9c179e"
            ],
            [
             0.4444444444444444,
             "#bd3786"
            ],
            [
             0.5555555555555556,
             "#d8576b"
            ],
            [
             0.6666666666666666,
             "#ed7953"
            ],
            [
             0.7777777777777778,
             "#fb9f3a"
            ],
            [
             0.8888888888888888,
             "#fdca26"
            ],
            [
             1,
             "#f0f921"
            ]
           ],
           "sequentialminus": [
            [
             0,
             "#0d0887"
            ],
            [
             0.1111111111111111,
             "#46039f"
            ],
            [
             0.2222222222222222,
             "#7201a8"
            ],
            [
             0.3333333333333333,
             "#9c179e"
            ],
            [
             0.4444444444444444,
             "#bd3786"
            ],
            [
             0.5555555555555556,
             "#d8576b"
            ],
            [
             0.6666666666666666,
             "#ed7953"
            ],
            [
             0.7777777777777778,
             "#fb9f3a"
            ],
            [
             0.8888888888888888,
             "#fdca26"
            ],
            [
             1,
             "#f0f921"
            ]
           ]
          },
          "colorway": [
           "#636efa",
           "#EF553B",
           "#00cc96",
           "#ab63fa",
           "#FFA15A",
           "#19d3f3",
           "#FF6692",
           "#B6E880",
           "#FF97FF",
           "#FECB52"
          ],
          "font": {
           "color": "#2a3f5f"
          },
          "geo": {
           "bgcolor": "white",
           "lakecolor": "white",
           "landcolor": "#E5ECF6",
           "showlakes": true,
           "showland": true,
           "subunitcolor": "white"
          },
          "hoverlabel": {
           "align": "left"
          },
          "hovermode": "closest",
          "mapbox": {
           "style": "light"
          },
          "paper_bgcolor": "white",
          "plot_bgcolor": "#E5ECF6",
          "polar": {
           "angularaxis": {
            "gridcolor": "white",
            "linecolor": "white",
            "ticks": ""
           },
           "bgcolor": "#E5ECF6",
           "radialaxis": {
            "gridcolor": "white",
            "linecolor": "white",
            "ticks": ""
           }
          },
          "scene": {
           "xaxis": {
            "backgroundcolor": "#E5ECF6",
            "gridcolor": "white",
            "gridwidth": 2,
            "linecolor": "white",
            "showbackground": true,
            "ticks": "",
            "zerolinecolor": "white"
           },
           "yaxis": {
            "backgroundcolor": "#E5ECF6",
            "gridcolor": "white",
            "gridwidth": 2,
            "linecolor": "white",
            "showbackground": true,
            "ticks": "",
            "zerolinecolor": "white"
           },
           "zaxis": {
            "backgroundcolor": "#E5ECF6",
            "gridcolor": "white",
            "gridwidth": 2,
            "linecolor": "white",
            "showbackground": true,
            "ticks": "",
            "zerolinecolor": "white"
           }
          },
          "shapedefaults": {
           "line": {
            "color": "#2a3f5f"
           }
          },
          "ternary": {
           "aaxis": {
            "gridcolor": "white",
            "linecolor": "white",
            "ticks": ""
           },
           "baxis": {
            "gridcolor": "white",
            "linecolor": "white",
            "ticks": ""
           },
           "bgcolor": "#E5ECF6",
           "caxis": {
            "gridcolor": "white",
            "linecolor": "white",
            "ticks": ""
           }
          },
          "title": {
           "x": 0.05
          },
          "xaxis": {
           "automargin": true,
           "gridcolor": "white",
           "linecolor": "white",
           "ticks": "",
           "title": {
            "standoff": 15
           },
           "zerolinecolor": "white",
           "zerolinewidth": 2
          },
          "yaxis": {
           "automargin": true,
           "gridcolor": "white",
           "linecolor": "white",
           "ticks": "",
           "title": {
            "standoff": 15
           },
           "zerolinecolor": "white",
           "zerolinewidth": 2
          }
         }
        },
        "title": {
         "text": "Optimization History Plot"
        },
        "xaxis": {
         "title": {
          "text": "Trial"
         }
        },
        "yaxis": {
         "title": {
          "text": "Objective Value"
         }
        }
       }
      }
     },
     "metadata": {},
     "output_type": "display_data"
    }
   ],
   "source": [
    "# Mostrar Chart com Trials do Optuna\n",
    "fig = optuna.visualization.plot_optimization_history(estudo_ag)\n",
    "fig.show()"
   ]
  },
  {
   "cell_type": "code",
   "execution_count": 36,
   "metadata": {},
   "outputs": [],
   "source": [
    "# Treinar modelo com Scipy\n",
    "modelo_de = linkage(X_transformed.toarray(), method=best_params_ag['linkage'], optimal_ordering=True)"
   ]
  },
  {
   "cell_type": "code",
   "execution_count": 37,
   "metadata": {},
   "outputs": [
    {
     "data": {
      "image/png": "[encoded data removed]",
      "text/plain": [
       "<Figure size 1000x700 with 1 Axes>"
      ]
     },
     "metadata": {},
     "output_type": "display_data"
    }
   ],
   "source": [
    "# Mostrar Dendrograma\n",
    "plt.figure(figsize=(10, 7))\n",
    "dendrogram(modelo_de, truncate_mode='lastp', p=50, leaf_rotation=90, leaf_font_size=10)\n",
    "plt.title('Dendrograma Clustering Hierárquico Aglomerativo')\n",
    "plt.xlabel('Tamanho do Cluster ou Objeto de Dado')\n",
    "plt.ylabel('Distância')\n",
    "plt.show()"
   ]
  },
  {
   "cell_type": "code",
   "execution_count": 38,
   "metadata": {},
   "outputs": [
    {
     "data": {
      "text/plain": [
       "5"
      ]
     },
     "execution_count": 38,
     "metadata": {},
     "output_type": "execute_result"
    }
   ],
   "source": [
    "# Cortar o dendrograma\n",
    "clusters_de_scipy = cut_tree(modelo_de, height=32)\n",
    "len(np.unique(clusters_de_scipy))"
   ]
  },
  {
   "cell_type": "code",
   "execution_count": 39,
   "metadata": {},
   "outputs": [
    {
     "data": {
      "application/vnd.plotly.v1+json": {
       "config": {
        "plotlyServerURL": "https://plot.ly"
       },
       "data": [
        {
         "hovertemplate": "brand=%{x}<br>price=%{y}<br>cluster=%{marker.color}<extra></extra>",
         "legendgroup": "",
         "marker": {
          "color": [
           73,
           44,
           28,
           53,
           14,
           113,
           4,
           19,
           95,
           83,
           91,
           54,
           7,
           37,
           4,
           24,
           107,
           20,
           32,
           8,
           35,
           14,
           142,
           15,
           74,
           47,
           72,
           89,
           84,
           21,
           15,
           107,
           148,
           64,
           113,
           80,
           25,
           4,
           84,
           3,
           131,
           38,
           28,
           72,
           38,
           80,
           89,
           29,
           7,
           57,
           74,
           49,
           32,
           11,
           121,
           89,
           27,
           43,
           5,
           31,
           114,
           52,
           46,
           30,
           3,
           38,
           38,
           88,
           74,
           5,
           60,
           15,
           47,
           19,
           11,
           13,
           31,
           105,
           39,
           20,
           46,
           135,
           82,
           14,
           20,
           14,
           11,
           7,
           39,
           132,
           26,
           11,
           31,
           31,
           114,
           82,
           3,
           44,
           85,
           11,
           86,
           135,
           28,
           19,
           111,
           4,
           147,
           129,
           49,
           83,
           129,
           47,
           122,
           130,
           115,
           64,
           99,
           30,
           30,
           16,
           139,
           139,
           146,
           137,
           132,
           73,
           122,
           131,
           93,
           148,
           37,
           46,
           74,
           113,
           31,
           64,
           1,
           14,
           82,
           104,
           6,
           101,
           101,
           103,
           88,
           27,
           91,
           19,
           121,
           42,
           136,
           4,
           17,
           39,
           49,
           6,
           95,
           4,
           25,
           49,
           5,
           50,
           96,
           19,
           109,
           13,
           35,
           47,
           100,
           2,
           39,
           64,
           104,
           3,
           20,
           132,
           53,
           8,
           8,
           21,
           53,
           25,
           19,
           21,
           72,
           128,
           111,
           111,
           111,
           127,
           38,
           24,
           60,
           13,
           3,
           133,
           20,
           89,
           46,
           121,
           107,
           102,
           3,
           3,
           19,
           31,
           84,
           53,
           7,
           75,
           46,
           11,
           89,
           88,
           89,
           49,
           107,
           89,
           28,
           31,
           37,
           47,
           97,
           23,
           78,
           78,
           10,
           15,
           4,
           7,
           95,
           84,
           3,
           43,
           25,
           10,
           7,
           139,
           62,
           52,
           40,
           93,
           9,
           48,
           82,
           28,
           18,
           18,
           137,
           21,
           57,
           33,
           37,
           147,
           37,
           15,
           107,
           74,
           32,
           74,
           28,
           38,
           95,
           9,
           9,
           126,
           94,
           9,
           17,
           59,
           11,
           84,
           17,
           73,
           114,
           113,
           113,
           15,
           105,
           135,
           45,
           54,
           57,
           8,
           63,
           48,
           56,
           138,
           89,
           109,
           48,
           22,
           78,
           64,
           107,
           0,
           75,
           112,
           90,
           14,
           71,
           0,
           21,
           107,
           102,
           121,
           65,
           5,
           5,
           75,
           91,
           90,
           94,
           66,
           137,
           44,
           22,
           49,
           46,
           33,
           33,
           124,
           119,
           119,
           61,
           2,
           50,
           33,
           114,
           50,
           2,
           66,
           88,
           13,
           72,
           112,
           95,
           44,
           90,
           38,
           29,
           77,
           53,
           116,
           65,
           70,
           72,
           96,
           27,
           20,
           62,
           48,
           116,
           67,
           14,
           38,
           82,
           14,
           3,
           148,
           41,
           50,
           61,
           124,
           85,
           120,
           91,
           50,
           65,
           29,
           33,
           49,
           60,
           47,
           130,
           39,
           135,
           33,
           86,
           24,
           1,
           30,
           59,
           43,
           5,
           51,
           27,
           50,
           148,
           105,
           43,
           15,
           2,
           51,
           14,
           65,
           95,
           51,
           17,
           29,
           17,
           51,
           92,
           14,
           81,
           51,
           82,
           69,
           127,
           44,
           47,
           14,
           148,
           25,
           36,
           91,
           46,
           68,
           68,
           14,
           50,
           50,
           82,
           91,
           35,
           107,
           15,
           4,
           48,
           146,
           15,
           107,
           102,
           26,
           20,
           112,
           82,
           62,
           43,
           73,
           25,
           42,
           4,
           148,
           4,
           68,
           62,
           77,
           89,
           99,
           5,
           92,
           114,
           28,
           148,
           9,
           111,
           0,
           61,
           139,
           92,
           132,
           137,
           16,
           9,
           116,
           4,
           31,
           25,
           16,
           73,
           51,
           4,
           96,
           96,
           62,
           41,
           25,
           107,
           20,
           82,
           42,
           47,
           130,
           10,
           3,
           2,
           2,
           2,
           93,
           41,
           2,
           122,
           107,
           3,
           0,
           51,
           9,
           62,
           14,
           147,
           75,
           3,
           3,
           3,
           7,
           82,
           7,
           106,
           106,
           93,
           85,
           48,
           144,
           91,
           5,
           3,
           11,
           110,
           139,
           30,
           148,
           26,
           85,
           5,
           8,
           56,
           128,
           73,
           51,
           53,
           4,
           63,
           91,
           128,
           51,
           76,
           102,
           76,
           63,
           134,
           65,
           32,
           5,
           65,
           51,
           10,
           21,
           7,
           87,
           27,
           87,
           19,
           7,
           7,
           87,
           30,
           38,
           73,
           29,
           30,
           28,
           56,
           93,
           62,
           13,
           147,
           38,
           3,
           85,
           78,
           85,
           27,
           28,
           91,
           51,
           74,
           111,
           9,
           111,
           73,
           114,
           31,
           29,
           114,
           10,
           114,
           32,
           66,
           30,
           130,
           136,
           58,
           126,
           76,
           99,
           76,
           93,
           70,
           53,
           128,
           143,
           18,
           29,
           23,
           49,
           10,
           97,
           125,
           42,
           62,
           3,
           3,
           62,
           4,
           14,
           85,
           27,
           54,
           108,
           32,
           62,
           130,
           36,
           85,
           20,
           9,
           38,
           4,
           16,
           38,
           79,
           37,
           10,
           105,
           145,
           36,
           54,
           47,
           31,
           124,
           35,
           134,
           5,
           133,
           0,
           50,
           7,
           14,
           39,
           19,
           31,
           3,
           70,
           31,
           57,
           82,
           84,
           84,
           121,
           121,
           121,
           84,
           48,
           18,
           15,
           63,
           13,
           134,
           114,
           62,
           146,
           146,
           9,
           49,
           50,
           72,
           102,
           84,
           48,
           56,
           18,
           25,
           3,
           79,
           94,
           21,
           132,
           50,
           73,
           111,
           94,
           48,
           7,
           67,
           91,
           102,
           0,
           90,
           137,
           102,
           136,
           14,
           56,
           137,
           69,
           11,
           71,
           23,
           69,
           23,
           46,
           19,
           15,
           23,
           69,
           41,
           80,
           0,
           19,
           12,
           117,
           90,
           9,
           37,
           13,
           72,
           5,
           66,
           18,
           124,
           102,
           14,
           97,
           0,
           121,
           14,
           85,
           123,
           40,
           74,
           47,
           14,
           46,
           82,
           0,
           146,
           14,
           0,
           52,
           4,
           19,
           70,
           15,
           35,
           27,
           55,
           94,
           94,
           127,
           91,
           46,
           94,
           94,
           65,
           66,
           32,
           4,
           65,
           57,
           84,
           28,
           64,
           67,
           56,
           32,
           106,
           122,
           21,
           106,
           16,
           11,
           86,
           80,
           137,
           84,
           137,
           78,
           80,
           80,
           122,
           46,
           53,
           107,
           33,
           9,
           93,
           98,
           17,
           30,
           34,
           23,
           10,
           17,
           4,
           20,
           85,
           34,
           79,
           23,
           37,
           146,
           123,
           10,
           31,
           3,
           38,
           59,
           140,
           34,
           27,
           135,
           84,
           21,
           19,
           18,
           139,
           135,
           52,
           21,
           10,
           55,
           97,
           27,
           129,
           27,
           123,
           9,
           84,
           21,
           4,
           135,
           50,
           114,
           89,
           12,
           95,
           12,
           105,
           147,
           59,
           95,
           59,
           95,
           135,
           11,
           42,
           109,
           127,
           16,
           91,
           93,
           140,
           46,
           147,
           57,
           130,
           17,
           21,
           89,
           13,
           13,
           129,
           30,
           46,
           95,
           13,
           31,
           46,
           38,
           9,
           11,
           16,
           93,
           17,
           1,
           56,
           15,
           7,
           21,
           32,
           55,
           32,
           55,
           97,
           25,
           1,
           27,
           21,
           31,
           31,
           6,
           31,
           56,
           56,
           13,
           31,
           13,
           13,
           31,
           31,
           93,
           102,
           9,
           93,
           61,
           57,
           66,
           41,
           15,
           69,
           40,
           58,
           66,
           147,
           130,
           137,
           56,
           78,
           29,
           67,
           71,
           14,
           14,
           96,
           132,
           64,
           147,
           94,
           136,
           73,
           147,
           82,
           75,
           80,
           141,
           147,
           41,
           10,
           45,
           67,
           115,
           118,
           36,
           67,
           139,
           75,
           55,
           48,
           18,
           25,
           57,
           45,
           47,
           0,
           53,
           110,
           21,
           136,
           48,
           85,
           52,
           110,
           11,
           107,
           53,
           29,
           53,
           0,
           58,
           57,
           21,
           86,
           116,
           37,
           11,
           85,
           7,
           64,
           115,
           36
          ],
          "coloraxis": "coloraxis",
          "symbol": "circle"
         },
         "mode": "markers",
         "name": "",
         "orientation": "v",
         "showlegend": false,
         "type": "scatter",
         "x": [
          "tecno",
          "tecno",
          "hp",
          "acer",
          "lenovo",
          "apple",
          "infinix",
          "asus",
          "hp",
          "infinix",
          "dell",
          "samsung",
          "msi",
          "asus",
          "lenovo",
          "hp",
          "lenovo",
          "asus",
          "hp",
          "wings",
          "hp",
          "lenovo",
          "apple",
          "asus",
          "asus",
          "acer",
          "hp",
          "ultimus",
          "hp",
          "msi",
          "samsung",
          "samsung",
          "lenovo",
          "asus",
          "apple",
          "dell",
          "acer",
          "acer",
          "hp",
          "asus",
          "asus",
          "hp",
          "hp",
          "hp",
          "hp",
          "dell",
          "msi",
          "asus",
          "msi",
          "dell",
          "infinix",
          "acer",
          "hp",
          "hp",
          "hp",
          "infinix",
          "hp",
          "asus",
          "dell",
          "asus",
          "lenovo",
          "dell",
          "asus",
          "asus",
          "asus",
          "hp",
          "hp",
          "apple",
          "infinix",
          "hp",
          "primebook",
          "dell",
          "acer",
          "hp",
          "hp",
          "asus",
          "asus",
          "iball",
          "ultimus",
          "dell",
          "asus",
          "hp",
          "lenovo",
          "lenovo",
          "hp",
          "lenovo",
          "hp",
          "msi",
          "ultimus",
          "lenovo",
          "msi",
          "msi",
          "asus",
          "asus",
          "lenovo",
          "lenovo",
          "asus",
          "infinix",
          "asus",
          "hp",
          "lenovo",
          "hp",
          "hp",
          "asus",
          "lenovo",
          "msi",
          "acer",
          "asus",
          "acer",
          "infinix",
          "asus",
          "acer",
          "asus",
          "acer",
          "asus",
          "hp",
          "asus",
          "acer",
          "acer",
          "hp",
          "hp",
          "hp",
          "lenovo",
          "acer",
          "lenovo",
          "hp",
          "dell",
          "asus",
          "asus",
          "lenovo",
          "asus",
          "acer",
          "asus",
          "apple",
          "asus",
          "hp",
          "hp",
          "lenovo",
          "lenovo",
          "dell",
          "hp",
          "apple",
          "apple",
          "apple",
          "apple",
          "lenovo",
          "dell",
          "hp",
          "hp",
          "dell",
          "acer",
          "asus",
          "lenovo",
          "ultimus",
          "zebronics",
          "hp",
          "hp",
          "zebronics",
          "zebronics",
          "zebronics",
          "hp",
          "lenovo",
          "asus",
          "hp",
          "chuwi",
          "acer",
          "hp",
          "gigabyte",
          "asus",
          "asus",
          "lenovo",
          "hp",
          "acer",
          "asus",
          "hp",
          "lenovo",
          "msi",
          "wings",
          "wings",
          "msi",
          "infinix",
          "hp",
          "msi",
          "msi",
          "hp",
          "lenovo",
          "lenovo",
          "lenovo",
          "lenovo",
          "hp",
          "hp",
          "hp",
          "jio",
          "asus",
          "asus",
          "hp",
          "dell",
          "chuwi",
          "msi",
          "hp",
          "infinix",
          "dell",
          "asus",
          "asus",
          "asus",
          "asus",
          "hp",
          "msi",
          "msi",
          "lenovo",
          "msi",
          "asus",
          "asus",
          "apple",
          "infinix",
          "acer",
          "dell",
          "acer",
          "hp",
          "asus",
          "asus",
          "acer",
          "acer",
          "asus",
          "asus",
          "asus",
          "asus",
          "asus",
          "hp",
          "msi",
          "hp",
          "hp",
          "asus",
          "asus",
          "hp",
          "acer",
          "msi",
          "hp",
          "asus",
          "asus",
          "asus",
          "asus",
          "honor",
          "lenovo",
          "lenovo",
          "hp",
          "dell",
          "msi",
          "acer",
          "msi",
          "hp",
          "acer",
          "asus",
          "asus",
          "asus",
          "samsung",
          "samsung",
          "infinix",
          "hp",
          "asus",
          "hp",
          "hp",
          "hp",
          "hp",
          "hp",
          "hp",
          "dell",
          "asus",
          "lenovo",
          "msi",
          "hp",
          "hp",
          "asus",
          "hp",
          "lenovo",
          "apple",
          "apple",
          "samsung",
          "lenovo",
          "hp",
          "hp",
          "samsung",
          "hp",
          "realme",
          "dell",
          "avita",
          "hp",
          "dell",
          "chuwi",
          "chuwi",
          "avita",
          "lenovo",
          "dell",
          "hp",
          "lenovo",
          "lenovo",
          "hp",
          "hp",
          "lenovo",
          "lenovo",
          "lenovo",
          "lenovo",
          "msi",
          "lenovo",
          "dell",
          "hp",
          "dell",
          "lenovo",
          "lenovo",
          "hp",
          "dell",
          "lenovo",
          "dell",
          "lenovo",
          "acer",
          "acer",
          "lenovo",
          "avita",
          "acer",
          "acer",
          "acer",
          "avita",
          "apple",
          "apple",
          "lenovo",
          "asus",
          "lenovo",
          "acer",
          "lenovo",
          "lenovo",
          "asus",
          "avita",
          "apple",
          "hp",
          "hp",
          "hp",
          "hp",
          "acer",
          "lenovo",
          "hp",
          "lenovo",
          "microsoft",
          "acer",
          "acer",
          "dell",
          "lenovo",
          "hp",
          "asus",
          "msi",
          "dell",
          "lenovo",
          "asus",
          "asus",
          "lenovo",
          "lenovo",
          "hp",
          "lenovo",
          "lenovo",
          "asus",
          "lenovo",
          "hp",
          "lenovo",
          "lenovo",
          "asus",
          "asus",
          "acer",
          "dell",
          "lenovo",
          "dell",
          "hp",
          "zebronics",
          "zebronics",
          "primebook",
          "acer",
          "acer",
          "ultimus",
          "hp",
          "zebronics",
          "hp",
          "hp",
          "hp",
          "hp",
          "hp",
          "asus",
          "lenovo",
          "lenovo",
          "lenovo",
          "lenovo",
          "lenovo",
          "asus",
          "asus",
          "asus",
          "asus",
          "lenovo",
          "lenovo",
          "dell",
          "hp",
          "lenovo",
          "lenovo",
          "lenovo",
          "lenovo",
          "lenovo",
          "lenovo",
          "lenovo",
          "msi",
          "lenovo",
          "lenovo",
          "msi",
          "hp",
          "acer",
          "acer",
          "lenovo",
          "lenovo",
          "asus",
          "acer",
          "dell",
          "hp",
          "asus",
          "asus",
          "lenovo",
          "lenovo",
          "lenovo",
          "lenovo",
          "dell",
          "lenovo",
          "dell",
          "dell",
          "acer",
          "lenovo",
          "lenovo",
          "dell",
          "lenovo",
          "dell",
          "msi",
          "asus",
          "hp",
          "lenovo",
          "lenovo",
          "asus",
          "lenovo",
          "hp",
          "dell",
          "lenovo",
          "lenovo",
          "acer",
          "lenovo",
          "lenovo",
          "microsoft",
          "ultimus",
          "lenovo",
          "dell",
          "lenovo",
          "lenovo",
          "hp",
          "lenovo",
          "hp",
          "lenovo",
          "lenovo",
          "lenovo",
          "hp",
          "lenovo",
          "lenovo",
          "acer",
          "asus",
          "fujitsu",
          "asus",
          "asus",
          "asus",
          "hp",
          "hp",
          "lenovo",
          "lenovo",
          "lenovo",
          "asus",
          "asus",
          "lenovo",
          "hp",
          "lenovo",
          "lenovo",
          "asus",
          "lenovo",
          "dell",
          "acer",
          "acer",
          "asus",
          "asus",
          "asus",
          "asus",
          "asus",
          "asus",
          "hp",
          "asus",
          "gigabyte",
          "lenovo",
          "asus",
          "lenovo",
          "lenovo",
          "fujitsu",
          "lenovo",
          "lenovo",
          "lenovo",
          "lenovo",
          "asus",
          "asus",
          "asus",
          "msi",
          "lenovo",
          "msi",
          "acer",
          "acer",
          "asus",
          "asus",
          "asus",
          "hp",
          "dell",
          "dell",
          "asus",
          "hp",
          "fujitsu",
          "hp",
          "hp",
          "lenovo",
          "dell",
          "asus",
          "lenovo",
          "wings",
          "acer",
          "lenovo",
          "lenovo",
          "lenovo",
          "infinix",
          "lenovo",
          "dell",
          "dell",
          "lenovo",
          "lenovo",
          "dell",
          "dell",
          "dell",
          "dell",
          "dell",
          "dell",
          "hp",
          "dell",
          "dell",
          "lenovo",
          "asus",
          "msi",
          "msi",
          "msi",
          "msi",
          "msi",
          "msi",
          "msi",
          "msi",
          "msi",
          "hp",
          "hp",
          "lenovo",
          "hp",
          "hp",
          "hp",
          "asus",
          "asus",
          "lenovo",
          "hp",
          "lenovo",
          "hp",
          "asus",
          "asus",
          "acer",
          "asus",
          "msi",
          "hp",
          "dell",
          "lenovo",
          "asus",
          "lenovo",
          "hp",
          "lenovo",
          "hp",
          "lenovo",
          "asus",
          "msi",
          "lenovo",
          "hp",
          "lenovo",
          "hp",
          "asus",
          "hp",
          "acer",
          "acer",
          "lenovo",
          "hp",
          "dell",
          "dell",
          "dell",
          "asus",
          "dell",
          "msi",
          "lenovo",
          "dell",
          "dell",
          "dell",
          "dell",
          "msi",
          "msi",
          "msi",
          "dell",
          "hp",
          "lenovo",
          "asus",
          "asus",
          "lenovo",
          "hp",
          "lenovo",
          "asus",
          "asus",
          "lg",
          "dell",
          "acer",
          "lenovo",
          "acer",
          "hp",
          "asus",
          "hp",
          "fujitsu",
          "hp",
          "acer",
          "hp",
          "hp",
          "asus",
          "lg",
          "hp",
          "lenovo",
          "lg",
          "hp",
          "lg",
          "acer",
          "asus",
          "walker",
          "hp",
          "dell",
          "dell",
          "hp",
          "lenovo",
          "lenovo",
          "msi",
          "lenovo",
          "lenovo",
          "msi",
          "asus",
          "asus",
          "lenovo",
          "asus",
          "lenovo",
          "lenovo",
          "hp",
          "hp",
          "hp",
          "hp",
          "hp",
          "hp",
          "hp",
          "hp",
          "asus",
          "dell",
          "hp",
          "dell",
          "lenovo",
          "lenovo",
          "lenovo",
          "lenovo",
          "hp",
          "acer",
          "lenovo",
          "hp",
          "dell",
          "hp",
          "hp",
          "hp",
          "hp",
          "hp",
          "asus",
          "asus",
          "dell",
          "asus",
          "lenovo",
          "lenovo",
          "lenovo",
          "lenovo",
          "dell",
          "hp",
          "msi",
          "lenovo",
          "dell",
          "dell",
          "lenovo",
          "lenovo",
          "acer",
          "dell",
          "acer",
          "lenovo",
          "hp",
          "acer",
          "msi",
          "msi",
          "dell",
          "msi",
          "msi",
          "msi",
          "acer",
          "msi",
          "asus",
          "msi",
          "msi",
          "hp",
          "dell",
          "msi",
          "msi",
          "dell",
          "dell",
          "lenovo",
          "lenovo",
          "lg",
          "lg",
          "hp",
          "lenovo",
          "axl",
          "msi",
          "axl",
          "dell",
          "lenovo",
          "asus",
          "lenovo",
          "hp",
          "lenovo",
          "asus",
          "dell",
          "asus",
          "asus",
          "acer",
          "lenovo",
          "lenovo",
          "lenovo",
          "lenovo",
          "lenovo",
          "lenovo",
          "lenovo",
          "dell",
          "lenovo",
          "hp",
          "lenovo",
          "dell",
          "hp",
          "dell",
          "dell",
          "dell",
          "dell",
          "hp",
          "dell",
          "infinix",
          "dell",
          "dell",
          "dell",
          "asus",
          "hp",
          "asus",
          "dell",
          "hp",
          "hp",
          "hp",
          "asus",
          "lenovo",
          "hp",
          "hp",
          "acer",
          "msi",
          "msi",
          "acer",
          "hp",
          "hp",
          "asus",
          "dell",
          "acer",
          "hp",
          "dell",
          "dell",
          "dell",
          "dell",
          "dell",
          "acer",
          "acer",
          "acer",
          "acer",
          "hp",
          "asus",
          "msi",
          "asus",
          "asus",
          "asus",
          "asus",
          "asus",
          "asus",
          "lenovo",
          "asus",
          "asus",
          "asus",
          "asus",
          "asus",
          "asus",
          "lenovo",
          "asus",
          "asus",
          "asus",
          "asus",
          "hp",
          "acer",
          "asus",
          "dell",
          "dell",
          "hp",
          "hp",
          "msi",
          "msi",
          "acer",
          "hp",
          "hp",
          "asus",
          "msi",
          "asus",
          "msi",
          "asus",
          "acer",
          "asus",
          "asus",
          "asus",
          "hp",
          "hp",
          "msi",
          "asus",
          "hp",
          "lenovo",
          "lenovo",
          "acer",
          "dell",
          "hp",
          "dell",
          "acer",
          "hp",
          "acer",
          "hp",
          "acer",
          "hp",
          "hp",
          "hp",
          "hp",
          "realme",
          "hp",
          "asus",
          "dell",
          "asus",
          "asus",
          "dell",
          "asus",
          "dell",
          "acer",
          "acer",
          "msi",
          "asus",
          "asus",
          "asus",
          "asus",
          "hp",
          "msi",
          "hp",
          "asus",
          "asus",
          "msi",
          "hp",
          "asus",
          "hp",
          "hp",
          "asus",
          "hp",
          "msi",
          "asus",
          "asus",
          "msi",
          "msi",
          "acer",
          "acer",
          "acer",
          "msi",
          "lenovo",
          "asus",
          "msi",
          "msi",
          "msi",
          "asus",
          "asus",
          "hp",
          "asus",
          "asus",
          "asus",
          "asus",
          "asus",
          "asus",
          "asus",
          "asus",
          "asus",
          "asus",
          "dell",
          "asus",
          "asus",
          "asus",
          "asus",
          "lenovo",
          "hp",
          "dell",
          "msi",
          "hp",
          "hp",
          "lenovo",
          "honor",
          "acer",
          "acer",
          "acer",
          "acer",
          "acer",
          "lenovo",
          "lenovo",
          "lenovo",
          "lenovo",
          "asus",
          "fujitsu",
          "hp",
          "msi",
          "dell",
          "acer",
          "lenovo",
          "msi",
          "lenovo",
          "lenovo",
          "dell",
          "lenovo",
          "asus",
          "hp",
          "lenovo",
          "hp",
          "lenovo",
          "asus",
          "hp",
          "hp",
          "lenovo",
          "hp",
          "lenovo",
          "asus",
          "asus",
          "asus",
          "lenovo",
          "msi",
          "hp",
          "acer",
          "msi",
          "msi",
          "msi",
          "msi",
          "acer",
          "asus",
          "asus",
          "lg",
          "msi",
          "acer",
          "msi",
          "msi",
          "asus",
          "msi",
          "msi",
          "hp",
          "asus",
          "msi",
          "asus",
          "asus",
          "asus",
          "acer",
          "asus",
          "msi",
          "asus",
          "asus",
          "hp"
         ],
         "xaxis": "x",
         "y": [
          287.72,
          431.64,
          612.86,
          479.62,
          342.77,
          851.41,
          419.65,
          599.55,
          443.64,
          719.48,
          419.65,
          779.45,
          635.53,
          688.3,
          569.57,
          1846.86,
          599.55,
          911.38,
          665.51,
          335.7,
          231.46,
          335.7,
          4796.16,
          479.62,
          335.7,
          935.36,
          947.36,
          239.75,
          863.51,
          800.92,
          539.58,
          575.56,
          575.56,
          563.57,
          1235.2,
          818.42,
          563.57,
          419.65,
          647.52,
          767.46,
          1362.1,
          1065.01,
          642.49,
          1403.11,
          849.25,
          974.94,
          431.16,
          3238.1,
          839.42,
          475.53,
          359.68,
          395.66,
          1002.53,
          653.52,
          509.71,
          335.7,
          1774.9,
          888.53,
          1037.31,
          731.48,
          683.5,
          869.4,
          431.64,
          1307.16,
          695.5,
          839.53,
          863.4,
          1439.09,
          323.7,
          934.27,
          179.78,
          599.67,
          683.5,
          695.5,
          599.66,
          869.4,
          835.81,
          117.54,
          191.77,
          1007.32,
          563.57,
          731.48,
          539.58,
          419.65,
          803.44,
          293.12,
          623.54,
          659.52,
          143.8,
          587.56,
          899.38,
          599.55,
          647.52,
          979.73,
          766.25,
          444.24,
          1139.25,
          431.64,
          875.4,
          671.51,
          1139.25,
          621.26,
          596.97,
          647.52,
          959.35,
          503.6,
          455.63,
          1031.31,
          473.73,
          695.5,
          815.43,
          1139.25,
          902.5,
          575.56,
          803.44,
          524.11,
          1858.86,
          1439.09,
          1259.19,
          418.45,
          389.67,
          520.51,
          491.61,
          371.68,
          491.61,
          372.87,
          827.42,
          1156.03,
          527.59,
          547.51,
          635.53,
          467.62,
          401.66,
          1319.15,
          875.4,
          485.72,
          2426.74,
          431.64,
          539.58,
          1780.9,
          1989.7,
          3476.88,
          4196.49,
          2997.15,
          2397.48,
          1834.87,
          455.63,
          731.48,
          611.65,
          791.44,
          395.66,
          575.56,
          1585.41,
          179.78,
          407.66,
          1989.7,
          476.14,
          395.66,
          635.53,
          359.68,
          824.07,
          740.14,
          1103.27,
          731.48,
          395.66,
          875.4,
          287.83,
          863.4,
          1019.32,
          215.76,
          309.31,
          383.78,
          2158.69,
          875.4,
          1112.99,
          587.56,
          659.52,
          479.62,
          299.71,
          743.47,
          467.62,
          875.51,
          635.53,
          755.46,
          1044.5,
          846.61,
          803.44,
          1379.12,
          1199.22,
          419.65,
          773.57,
          2116.82,
          176.31,
          899.38,
          1259.19,
          1139.25,
          929.37,
          299.71,
          479.62,
          671.51,
          587.56,
          470.62,
          1080.12,
          1029.03,
          695.5,
          731.48,
          875.76,
          647.52,
          683.5,
          395.54,
          443.64,
          719.48,
          383.67,
          1738.92,
          311.71,
          383.67,
          687.22,
          359.68,
          599.55,
          677.63,
          683.5,
          731.48,
          683.5,
          1439.09,
          2158.69,
          2278.62,
          1457.07,
          573.64,
          629.53,
          815.43,
          482.01,
          743.47,
          1079.29,
          667.9,
          1073.29,
          1439.09,
          785.45,
          419.65,
          839.42,
          947.36,
          1268.17,
          515.6,
          659.52,
          263.73,
          400.58,
          611.54,
          611.54,
          527.59,
          335.7,
          1271.18,
          563.57,
          563.57,
          647.52,
          582.63,
          851.41,
          839.42,
          911.38,
          299.71,
          851.41,
          370.48,
          623.54,
          695.5,
          581.08,
          959.35,
          767.46,
          231.46,
          839.53,
          750.79,
          1199.22,
          1007.32,
          718.06,
          683.61,
          1738.92,
          487.04,
          779.45,
          1595,
          1642.97,
          659.52,
          299.71,
          767.46,
          299.71,
          1403.11,
          500.72,
          443.64,
          626.04,
          256.54,
          1084.97,
          1055.3,
          263.73,
          419.65,
          395.17,
          1799.01,
          2500.5,
          953.08,
          683.5,
          659.52,
          689.62,
          654.83,
          755.57,
          437.64,
          551.58,
          563.57,
          795.76,
          755.46,
          440.53,
          622.47,
          718.28,
          887.39,
          743.47,
          807.01,
          419.65,
          898.3,
          1823,
          383.67,
          359.68,
          557.69,
          2626.43,
          390.38,
          599.55,
          539.69,
          515.7,
          232.92,
          2277.54,
          2877.21,
          1477.47,
          393.68,
          827.42,
          563.57,
          1294.22,
          622.39,
          362.19,
          251.85,
          2037.68,
          1862.56,
          1342.58,
          918.68,
          491.61,
          557.57,
          563.57,
          1192.98,
          4306.77,
          959.35,
          683.5,
          477.34,
          1067.29,
          661.92,
          1355.13,
          1037.43,
          2398.56,
          1265.18,
          743.47,
          570.29,
          779.45,
          593.66,
          443.64,
          1091.39,
          414.85,
          389.67,
          1188.68,
          668.03,
          430.56,
          841.82,
          1105.67,
          335.7,
          959.11,
          287.72,
          617.5,
          623.54,
          683.5,
          4107.74,
          479.62,
          395.66,
          155.79,
          767.57,
          791.44,
          197.77,
          637.93,
          611.54,
          1110.47,
          3112.27,
          3514.05,
          1990.89,
          2020.89,
          1031.31,
          1019.32,
          961.75,
          1309.56,
          649.92,
          649.92,
          179.78,
          800.18,
          647.52,
          251.74,
          937.76,
          479.62,
          743.47,
          467.62,
          1117.66,
          1969.19,
          3585.9,
          1669.36,
          841.82,
          1240.06,
          479.62,
          5396.91,
          1079.41,
          419.65,
          959.35,
          347.69,
          599.55,
          739.99,
          395.66,
          599.55,
          1039.7,
          305.71,
          815.89,
          1079.39,
          832.79,
          887.39,
          479.62,
          764.12,
          599.55,
          395.66,
          675.71,
          362.08,
          682.18,
          683.5,
          479.62,
          359.68,
          563.57,
          611.54,
          659.52,
          467.62,
          2357.66,
          1199.22,
          899.49,
          509.71,
          815.43,
          1033.7,
          439.56,
          1367.23,
          791.44,
          587.56,
          599.55,
          419.65,
          1043.31,
          791.44,
          1169.24,
          274.8,
          2230.65,
          1193.1,
          1547.03,
          1367.13,
          623.54,
          623.54,
          1087.67,
          839.42,
          575.56,
          1201.62,
          480.93,
          1648.97,
          647.52,
          515.6,
          338.09,
          887.39,
          881.07,
          539.58,
          724.15,
          910.18,
          335.7,
          443.76,
          1057.7,
          755.46,
          887.39,
          839.42,
          796.23,
          731.58,
          863.4,
          741.9,
          1187.23,
          443.64,
          719.48,
          683.5,
          635.53,
          1091.28,
          1379.12,
          203.77,
          308.84,
          227.75,
          535.37,
          533.59,
          275.74,
          1079.29,
          745.87,
          1180.97,
          707.49,
          721.88,
          887.39,
          769.86,
          503.6,
          539.58,
          545.58,
          911.38,
          911.38,
          1131.8,
          755.46,
          569.57,
          1139.25,
          443.64,
          503.6,
          490.84,
          858.73,
          407.66,
          2194.67,
          449.63,
          1031.31,
          695.5,
          696.46,
          1319.15,
          383.67,
          1834.87,
          705.81,
          2677.82,
          719.48,
          767.46,
          323.7,
          497.61,
          841.82,
          440.04,
          805.84,
          539.58,
          563.57,
          550.14,
          459.93,
          1009.72,
          1043.31,
          1187.23,
          395.66,
          1049.3,
          575.56,
          929.37,
          496.92,
          898.9,
          1046.9,
          725.48,
          935.36,
          1079.29,
          1163.24,
          1259.19,
          1798.89,
          1798.89,
          1379.12,
          671.51,
          707.49,
          671.51,
          2398.56,
          1432.01,
          1199.33,
          449.75,
          2870.01,
          1590.31,
          611.65,
          450.81,
          443.64,
          707.49,
          1259.74,
          527.59,
          1220.93,
          1139.25,
          839.42,
          1918.82,
          875.4,
          1439.09,
          677.51,
          447.13,
          833.47,
          393.26,
          1175.23,
          936.68,
          1097.28,
          441.24,
          1061.74,
          719.48,
          3597.9,
          1199.22,
          1762.91,
          1319.15,
          1475.31,
          311.71,
          1678.95,
          809.54,
          431.64,
          2700.79,
          275.73,
          1013.32,
          3088.18,
          1151.25,
          472.42,
          730.4,
          983.34,
          1078.07,
          5450.88,
          814.23,
          3885.74,
          2266.63,
          443.64,
          1912.07,
          1079.29,
          5408.9,
          524.53,
          899.38,
          779.45,
          1067.41,
          779.45,
          520.51,
          486.81,
          839.54,
          1702.93,
          1187.33,
          3597.9,
          1559.02,
          791.44,
          905.49,
          311.71,
          918.69,
          1520.76,
          1199.22,
          1598.35,
          503.6,
          395.66,
          1444.59,
          1559.02,
          939.07,
          2759.2,
          290.12,
          1828.98,
          611.54,
          1414.01,
          863.4,
          767.46,
          191.77,
          287.83,
          785.57,
          887.39,
          1175.34,
          635.53,
          755.46,
          887.39,
          394.57,
          299.71,
          575.56,
          887.39,
          1199.22,
          635.53,
          743.47,
          831.68,
          539.58,
          1158.44,
          1055.3,
          1039.71,
          1051.7,
          946.16,
          1007.32,
          467.62,
          611.54,
          671.51,
          471.22,
          1292.44,
          719.48,
          875.4,
          680.03,
          791.44,
          647.52,
          935.71,
          369.28,
          688.3,
          1387.71,
          501.42,
          1319.15,
          539.58,
          575.56,
          635.53,
          1391.11,
          1002.64,
          1678.95,
          1055.3,
          707.49,
          599.55,
          725.48,
          425.65,
          863.4,
          1085.28,
          539.58,
          1343.14,
          545.7,
          491.61,
          523.99,
          599.66,
          793.95,
          359.56,
          671.51,
          353.69,
          401.66,
          644.03,
          515.6,
          695.5,
          659.52,
          575.56,
          1259.19,
          899.38,
          1139.25,
          491.61,
          611.54,
          575.44,
          1139.25,
          1019.32,
          467.62,
          955.75,
          731.48,
          623.54,
          3352.03,
          2422.55,
          803.56,
          1499.17,
          1076.99,
          1810.99,
          1574.92,
          905.49,
          215.76,
          635.53,
          179.78,
          490.41,
          491.61,
          839.42,
          563.57,
          780.77,
          457.8,
          779.45,
          2464.52,
          1142.97,
          420.76,
          659.52,
          335.7,
          886.31,
          419.65,
          419.65,
          562.49,
          359.68,
          557.57,
          1138.17,
          624.87,
          701.6,
          898.17,
          743.47,
          344.81,
          1894.84,
          1996.78,
          1193.22,
          959.71,
          338.29,
          515.6,
          467.62,
          1067.17,
          863.4,
          887.39,
          335.7,
          887.39,
          593.55,
          743.47,
          550.48,
          821.42,
          759.35,
          587.56,
          377.67,
          467.62,
          779.45,
          394.46,
          1103.27,
          1055.3,
          347.8,
          353.69,
          743.47,
          923.37,
          1790.49,
          479.62,
          905.9,
          515.72,
          2254.64,
          1319.15,
          1559.02,
          976.29,
          599.55,
          698.84,
          677.51,
          670.43,
          1104.23,
          479.62,
          3358.03,
          1256.3,
          1521.84,
          2398.56,
          1583.01,
          1605.8,
          1858.86,
          634.45,
          1731.92,
          1139.25,
          3130.16,
          1798.89,
          1618.99,
          724.15,
          633.18,
          2517.29,
          1858.86,
          839.42,
          1018.84,
          839.42,
          1719.85,
          1360.06,
          2704.39,
          2650.42,
          808.35,
          779.45,
          923.37,
          875.4,
          707.49,
          395.66,
          737.47,
          1271.18,
          1043.31,
          1336.53,
          2998.23,
          918.92,
          1715.04,
          1127.37,
          1937.09,
          2398.56,
          1415.22,
          954.55,
          767.46,
          431.64,
          635.53,
          757.86,
          971.46,
          479.62,
          4659.31,
          480.93,
          4419.44,
          441.36,
          557.57,
          1259.29,
          571.49,
          1379.12,
          563.57,
          725.48,
          599.55,
          786.65,
          515.6,
          851.53,
          370.92,
          575.56,
          555.15,
          1499.05,
          623.54,
          707.49,
          461.63,
          539.63,
          1067.29,
          1163.24,
          383.67,
          1583.13,
          1391.11,
          1079.29,
          1319.15,
          983.34,
          630.73,
          1094.28,
          755.46,
          839.42,
          773.57,
          862.78,
          623.54,
          407.64,
          477.22,
          1439.09,
          3130.16,
          467.5,
          671.51,
          781.85,
          875.4,
          827.42,
          2399.76,
          934.17,
          2638.43,
          1478.44,
          851.41,
          2590.45,
          2062.74,
          839.42,
          749.59,
          825.15,
          1724.94,
          1031.31,
          551.58,
          719.48,
          1259.19,
          820.23,
          1175.23,
          1115.27,
          779.45,
          899.38,
          527.59,
          539.58,
          767.46,
          470.64,
          1559.02,
          707.49,
          266.72,
          449.63,
          670.43,
          743.47,
          1749.82,
          1661.22,
          263.73,
          527.59,
          551.58,
          395.66,
          384.87,
          2218.77,
          2998.23,
          263.73,
          551.58,
          401.66,
          430.44,
          953.47,
          677.55,
          517.99,
          527.59,
          1434.41,
          335.7,
          437.64,
          587.56,
          551.58,
          791.55,
          1055.3,
          407.66,
          609.08,
          695.5,
          1754.29,
          394.46,
          521.71,
          742.39,
          474.35,
          251.74,
          371.68,
          323.81,
          386.19,
          2998.23,
          539.34,
          547.98,
          719.48,
          503.6,
          371.78,
          917.48,
          455.63,
          569.57,
          1115.27,
          995.33,
          359.68,
          386.07,
          827.42,
          1421.2,
          1048.11,
          827.53,
          606.76,
          731.48,
          3358.03,
          647.52,
          491.61,
          1858.96,
          659.52,
          1439.09,
          935.36,
          803.44,
          719.48,
          905.5,
          791.44,
          1103.27,
          539.58,
          815.43,
          251.74
         ],
         "yaxis": "y"
        }
       ],
       "layout": {
        "coloraxis": {
         "colorbar": {
          "title": {
           "text": "cluster"
          }
         },
         "colorscale": [
          [
           0,
           "#0d0887"
          ],
          [
           0.1111111111111111,
           "#46039f"
          ],
          [
           0.2222222222222222,
           "#7201a8"
          ],
          [
           0.3333333333333333,
           "#9c179e"
          ],
          [
           0.4444444444444444,
           "#bd3786"
          ],
          [
           0.5555555555555556,
           "#d8576b"
          ],
          [
           0.6666666666666666,
           "#ed7953"
          ],
          [
           0.7777777777777778,
           "#fb9f3a"
          ],
          [
           0.8888888888888888,
           "#fdca26"
          ],
          [
           1,
           "#f0f921"
          ]
         ]
        },
        "legend": {
         "tracegroupgap": 0
        },
        "margin": {
         "t": 60
        },
        "template": {
         "data": {
          "bar": [
           {
            "error_x": {
             "color": "#2a3f5f"
            },
            "error_y": {
             "color": "#2a3f5f"
            },
            "marker": {
             "line": {
              "color": "#E5ECF6",
              "width": 0.5
             },
             "pattern": {
              "fillmode": "overlay",
              "size": 10,
              "solidity": 0.2
             }
            },
            "type": "bar"
           }
          ],
          "barpolar": [
           {
            "marker": {
             "line": {
              "color": "#E5ECF6",
              "width": 0.5
             },
             "pattern": {
              "fillmode": "overlay",
              "size": 10,
              "solidity": 0.2
             }
            },
            "type": "barpolar"
           }
          ],
          "carpet": [
           {
            "aaxis": {
             "endlinecolor": "#2a3f5f",
             "gridcolor": "white",
             "linecolor": "white",
             "minorgridcolor": "white",
             "startlinecolor": "#2a3f5f"
            },
            "baxis": {
             "endlinecolor": "#2a3f5f",
             "gridcolor": "white",
             "linecolor": "white",
             "minorgridcolor": "white",
             "startlinecolor": "#2a3f5f"
            },
            "type": "carpet"
           }
          ],
          "choropleth": [
           {
            "colorbar": {
             "outlinewidth": 0,
             "ticks": ""
            },
            "type": "choropleth"
           }
          ],
          "contour": [
           {
            "colorbar": {
             "outlinewidth": 0,
             "ticks": ""
            },
            "colorscale": [
             [
              0,
              "#0d0887"
             ],
             [
              0.1111111111111111,
              "#46039f"
             ],
             [
              0.2222222222222222,
              "#7201a8"
             ],
             [
              0.3333333333333333,
              "#9c179e"
             ],
             [
              0.4444444444444444,
              "#bd3786"
             ],
             [
              0.5555555555555556,
              "#d8576b"
             ],
             [
              0.6666666666666666,
              "#ed7953"
             ],
             [
              0.7777777777777778,
              "#fb9f3a"
             ],
             [
              0.8888888888888888,
              "#fdca26"
             ],
             [
              1,
              "#f0f921"
             ]
            ],
            "type": "contour"
           }
          ],
          "contourcarpet": [
           {
            "colorbar": {
             "outlinewidth": 0,
             "ticks": ""
            },
            "type": "contourcarpet"
           }
          ],
          "heatmap": [
           {
            "colorbar": {
             "outlinewidth": 0,
             "ticks": ""
            },
            "colorscale": [
             [
              0,
              "#0d0887"
             ],
             [
              0.1111111111111111,
              "#46039f"
             ],
             [
              0.2222222222222222,
              "#7201a8"
             ],
             [
              0.3333333333333333,
              "#9c179e"
             ],
             [
              0.4444444444444444,
              "#bd3786"
             ],
             [
              0.5555555555555556,
              "#d8576b"
             ],
             [
              0.6666666666666666,
              "#ed7953"
             ],
             [
              0.7777777777777778,
              "#fb9f3a"
             ],
             [
              0.8888888888888888,
              "#fdca26"
             ],
             [
              1,
              "#f0f921"
             ]
            ],
            "type": "heatmap"
           }
          ],
          "heatmapgl": [
           {
            "colorbar": {
             "outlinewidth": 0,
             "ticks": ""
            },
            "colorscale": [
             [
              0,
              "#0d0887"
             ],
             [
              0.1111111111111111,
              "#46039f"
             ],
             [
              0.2222222222222222,
              "#7201a8"
             ],
             [
              0.3333333333333333,
              "#9c179e"
             ],
             [
              0.4444444444444444,
              "#bd3786"
             ],
             [
              0.5555555555555556,
              "#d8576b"
             ],
             [
              0.6666666666666666,
              "#ed7953"
             ],
             [
              0.7777777777777778,
              "#fb9f3a"
             ],
             [
              0.8888888888888888,
              "#fdca26"
             ],
             [
              1,
              "#f0f921"
             ]
            ],
            "type": "heatmapgl"
           }
          ],
          "histogram": [
           {
            "marker": {
             "pattern": {
              "fillmode": "overlay",
              "size": 10,
              "solidity": 0.2
             }
            },
            "type": "histogram"
           }
          ],
          "histogram2d": [
           {
            "colorbar": {
             "outlinewidth": 0,
             "ticks": ""
            },
            "colorscale": [
             [
              0,
              "#0d0887"
             ],
             [
              0.1111111111111111,
              "#46039f"
             ],
             [
              0.2222222222222222,
              "#7201a8"
             ],
             [
              0.3333333333333333,
              "#9c179e"
             ],
             [
              0.4444444444444444,
              "#bd3786"
             ],
             [
              0.5555555555555556,
              "#d8576b"
             ],
             [
              0.6666666666666666,
              "#ed7953"
             ],
             [
              0.7777777777777778,
              "#fb9f3a"
             ],
             [
              0.8888888888888888,
              "#fdca26"
             ],
             [
              1,
              "#f0f921"
             ]
            ],
            "type": "histogram2d"
           }
          ],
          "histogram2dcontour": [
           {
            "colorbar": {
             "outlinewidth": 0,
             "ticks": ""
            },
            "colorscale": [
             [
              0,
              "#0d0887"
             ],
             [
              0.1111111111111111,
              "#46039f"
             ],
             [
              0.2222222222222222,
              "#7201a8"
             ],
             [
              0.3333333333333333,
              "#9c179e"
             ],
             [
              0.4444444444444444,
              "#bd3786"
             ],
             [
              0.5555555555555556,
              "#d8576b"
             ],
             [
              0.6666666666666666,
              "#ed7953"
             ],
             [
              0.7777777777777778,
              "#fb9f3a"
             ],
             [
              0.8888888888888888,
              "#fdca26"
             ],
             [
              1,
              "#f0f921"
             ]
            ],
            "type": "histogram2dcontour"
           }
          ],
          "mesh3d": [
           {
            "colorbar": {
             "outlinewidth": 0,
             "ticks": ""
            },
            "type": "mesh3d"
           }
          ],
          "parcoords": [
           {
            "line": {
             "colorbar": {
              "outlinewidth": 0,
              "ticks": ""
             }
            },
            "type": "parcoords"
           }
          ],
          "pie": [
           {
            "automargin": true,
            "type": "pie"
           }
          ],
          "scatter": [
           {
            "fillpattern": {
             "fillmode": "overlay",
             "size": 10,
             "solidity": 0.2
            },
            "type": "scatter"
           }
          ],
          "scatter3d": [
           {
            "line": {
             "colorbar": {
              "outlinewidth": 0,
              "ticks": ""
             }
            },
            "marker": {
             "colorbar": {
              "outlinewidth": 0,
              "ticks": ""
             }
            },
            "type": "scatter3d"
           }
          ],
          "scattercarpet": [
           {
            "marker": {
             "colorbar": {
              "outlinewidth": 0,
              "ticks": ""
             }
            },
            "type": "scattercarpet"
           }
          ],
          "scattergeo": [
           {
            "marker": {
             "colorbar": {
              "outlinewidth": 0,
              "ticks": ""
             }
            },
            "type": "scattergeo"
           }
          ],
          "scattergl": [
           {
            "marker": {
             "colorbar": {
              "outlinewidth": 0,
              "ticks": ""
             }
            },
            "type": "scattergl"
           }
          ],
          "scattermapbox": [
           {
            "marker": {
             "colorbar": {
              "outlinewidth": 0,
              "ticks": ""
             }
            },
            "type": "scattermapbox"
           }
          ],
          "scatterpolar": [
           {
            "marker": {
             "colorbar": {
              "outlinewidth": 0,
              "ticks": ""
             }
            },
            "type": "scatterpolar"
           }
          ],
          "scatterpolargl": [
           {
            "marker": {
             "colorbar": {
              "outlinewidth": 0,
              "ticks": ""
             }
            },
            "type": "scatterpolargl"
           }
          ],
          "scatterternary": [
           {
            "marker": {
             "colorbar": {
              "outlinewidth": 0,
              "ticks": ""
             }
            },
            "type": "scatterternary"
           }
          ],
          "surface": [
           {
            "colorbar": {
             "outlinewidth": 0,
             "ticks": ""
            },
            "colorscale": [
             [
              0,
              "#0d0887"
             ],
             [
              0.1111111111111111,
              "#46039f"
             ],
             [
              0.2222222222222222,
              "#7201a8"
             ],
             [
              0.3333333333333333,
              "#9c179e"
             ],
             [
              0.4444444444444444,
              "#bd3786"
             ],
             [
              0.5555555555555556,
              "#d8576b"
             ],
             [
              0.6666666666666666,
              "#ed7953"
             ],
             [
              0.7777777777777778,
              "#fb9f3a"
             ],
             [
              0.8888888888888888,
              "#fdca26"
             ],
             [
              1,
              "#f0f921"
             ]
            ],
            "type": "surface"
           }
          ],
          "table": [
           {
            "cells": {
             "fill": {
              "color": "#EBF0F8"
             },
             "line": {
              "color": "white"
             }
            },
            "header": {
             "fill": {
              "color": "#C8D4E3"
             },
             "line": {
              "color": "white"
             }
            },
            "type": "table"
           }
          ]
         },
         "layout": {
          "annotationdefaults": {
           "arrowcolor": "#2a3f5f",
           "arrowhead": 0,
           "arrowwidth": 1
          },
          "autotypenumbers": "strict",
          "coloraxis": {
           "colorbar": {
            "outlinewidth": 0,
            "ticks": ""
           }
          },
          "colorscale": {
           "diverging": [
            [
             0,
             "#8e0152"
            ],
            [
             0.1,
             "#c51b7d"
            ],
            [
             0.2,
             "#de77ae"
            ],
            [
             0.3,
             "#f1b6da"
            ],
            [
             0.4,
             "#fde0ef"
            ],
            [
             0.5,
             "#f7f7f7"
            ],
            [
             0.6,
             "#e6f5d0"
            ],
            [
             0.7,
             "#b8e186"
            ],
            [
             0.8,
             "#7fbc41"
            ],
            [
             0.9,
             "#4d9221"
            ],
            [
             1,
             "#276419"
            ]
           ],
           "sequential": [
            [
             0,
             "#0d0887"
            ],
            [
             0.1111111111111111,
             "#46039f"
            ],
            [
             0.2222222222222222,
             "#7201a8"
            ],
            [
             0.3333333333333333,
             "#9c179e"
            ],
            [
             0.4444444444444444,
             "#bd3786"
            ],
            [
             0.5555555555555556,
             "#d8576b"
            ],
            [
             0.6666666666666666,
             "#ed7953"
            ],
            [
             0.7777777777777778,
             "#fb9f3a"
            ],
            [
             0.8888888888888888,
             "#fdca26"
            ],
            [
             1,
             "#f0f921"
            ]
           ],
           "sequentialminus": [
            [
             0,
             "#0d0887"
            ],
            [
             0.1111111111111111,
             "#46039f"
            ],
            [
             0.2222222222222222,
             "#7201a8"
            ],
            [
             0.3333333333333333,
             "#9c179e"
            ],
            [
             0.4444444444444444,
             "#bd3786"
            ],
            [
             0.5555555555555556,
             "#d8576b"
            ],
            [
             0.6666666666666666,
             "#ed7953"
            ],
            [
             0.7777777777777778,
             "#fb9f3a"
            ],
            [
             0.8888888888888888,
             "#fdca26"
            ],
            [
             1,
             "#f0f921"
            ]
           ]
          },
          "colorway": [
           "#636efa",
           "#EF553B",
           "#00cc96",
           "#ab63fa",
           "#FFA15A",
           "#19d3f3",
           "#FF6692",
           "#B6E880",
           "#FF97FF",
           "#FECB52"
          ],
          "font": {
           "color": "#2a3f5f"
          },
          "geo": {
           "bgcolor": "white",
           "lakecolor": "white",
           "landcolor": "#E5ECF6",
           "showlakes": true,
           "showland": true,
           "subunitcolor": "white"
          },
          "hoverlabel": {
           "align": "left"
          },
          "hovermode": "closest",
          "mapbox": {
           "style": "light"
          },
          "paper_bgcolor": "white",
          "plot_bgcolor": "#E5ECF6",
          "polar": {
           "angularaxis": {
            "gridcolor": "white",
            "linecolor": "white",
            "ticks": ""
           },
           "bgcolor": "#E5ECF6",
           "radialaxis": {
            "gridcolor": "white",
            "linecolor": "white",
            "ticks": ""
           }
          },
          "scene": {
           "xaxis": {
            "backgroundcolor": "#E5ECF6",
            "gridcolor": "white",
            "gridwidth": 2,
            "linecolor": "white",
            "showbackground": true,
            "ticks": "",
            "zerolinecolor": "white"
           },
           "yaxis": {
            "backgroundcolor": "#E5ECF6",
            "gridcolor": "white",
            "gridwidth": 2,
            "linecolor": "white",
            "showbackground": true,
            "ticks": "",
            "zerolinecolor": "white"
           },
           "zaxis": {
            "backgroundcolor": "#E5ECF6",
            "gridcolor": "white",
            "gridwidth": 2,
            "linecolor": "white",
            "showbackground": true,
            "ticks": "",
            "zerolinecolor": "white"
           }
          },
          "shapedefaults": {
           "line": {
            "color": "#2a3f5f"
           }
          },
          "ternary": {
           "aaxis": {
            "gridcolor": "white",
            "linecolor": "white",
            "ticks": ""
           },
           "baxis": {
            "gridcolor": "white",
            "linecolor": "white",
            "ticks": ""
           },
           "bgcolor": "#E5ECF6",
           "caxis": {
            "gridcolor": "white",
            "linecolor": "white",
            "ticks": ""
           }
          },
          "title": {
           "x": 0.05
          },
          "xaxis": {
           "automargin": true,
           "gridcolor": "white",
           "linecolor": "white",
           "ticks": "",
           "title": {
            "standoff": 15
           },
           "zerolinecolor": "white",
           "zerolinewidth": 2
          },
          "yaxis": {
           "automargin": true,
           "gridcolor": "white",
           "linecolor": "white",
           "ticks": "",
           "title": {
            "standoff": 15
           },
           "zerolinecolor": "white",
           "zerolinewidth": 2
          }
         }
        },
        "xaxis": {
         "anchor": "y",
         "domain": [
          0,
          1
         ],
         "title": {
          "text": "brand"
         }
        },
        "yaxis": {
         "anchor": "x",
         "domain": [
          0,
          1
         ],
         "title": {
          "text": "price"
         }
        }
       }
      }
     },
     "metadata": {},
     "output_type": "display_data"
    }
   ],
   "source": [
    "# Cruzamento entre brand e price, apresentando os clusters\n",
    "px.scatter(df_laptops, x='brand', y='price', color='cluster')"
   ]
  },
  {
   "cell_type": "code",
   "execution_count": 40,
   "metadata": {},
   "outputs": [
    {
     "data": {
      "application/vnd.plotly.v1+json": {
       "config": {
        "plotlyServerURL": "https://plot.ly"
       },
       "data": [
        {
         "hovertemplate": "brand=tecno<br>cluster=%{x}<br>price=%{y}<extra></extra>",
         "legendgroup": "tecno",
         "marker": {
          "color": "#636efa",
          "symbol": "circle"
         },
         "mode": "markers",
         "name": "tecno",
         "orientation": "v",
         "showlegend": true,
         "type": "scatter",
         "x": [
          73,
          44
         ],
         "xaxis": "x",
         "y": [
          287.72,
          431.64
         ],
         "yaxis": "y"
        },
        {
         "hovertemplate": "brand=hp<br>cluster=%{x}<br>price=%{y}<extra></extra>",
         "legendgroup": "hp",
         "marker": {
          "color": "#EF553B",
          "symbol": "circle"
         },
         "mode": "markers",
         "name": "hp",
         "orientation": "v",
         "showlegend": true,
         "type": "scatter",
         "x": [
          28,
          95,
          24,
          32,
          35,
          72,
          84,
          84,
          38,
          28,
          72,
          38,
          32,
          11,
          121,
          27,
          38,
          38,
          5,
          19,
          11,
          135,
          20,
          11,
          11,
          135,
          28,
          64,
          16,
          139,
          139,
          73,
          64,
          1,
          6,
          19,
          121,
          6,
          95,
          5,
          19,
          35,
          64,
          20,
          25,
          72,
          127,
          38,
          24,
          133,
          121,
          84,
          28,
          4,
          95,
          84,
          25,
          139,
          28,
          57,
          32,
          28,
          38,
          95,
          9,
          9,
          126,
          11,
          84,
          73,
          135,
          45,
          57,
          56,
          64,
          75,
          112,
          121,
          75,
          13,
          72,
          112,
          95,
          38,
          72,
          38,
          41,
          29,
          135,
          86,
          24,
          1,
          30,
          59,
          95,
          127,
          46,
          112,
          25,
          28,
          9,
          139,
          25,
          16,
          41,
          41,
          144,
          11,
          139,
          30,
          32,
          30,
          38,
          29,
          30,
          28,
          13,
          38,
          28,
          9,
          73,
          10,
          32,
          30,
          126,
          42,
          4,
          36,
          20,
          38,
          16,
          38,
          10,
          36,
          35,
          133,
          84,
          84,
          121,
          121,
          121,
          84,
          48,
          18,
          13,
          9,
          72,
          84,
          48,
          56,
          18,
          25,
          48,
          56,
          41,
          72,
          121,
          19,
          35,
          127,
          32,
          57,
          84,
          28,
          56,
          32,
          16,
          11,
          84,
          9,
          38,
          135,
          84,
          139,
          135,
          9,
          84,
          135,
          95,
          147,
          95,
          95,
          135,
          11,
          42,
          127,
          30,
          95,
          38,
          11,
          16,
          17,
          6,
          41,
          40,
          58,
          64,
          41,
          45,
          118,
          36,
          139,
          45,
          58,
          36
         ],
         "xaxis": "x",
         "y": [
          612.86,
          443.64,
          1846.86,
          665.51,
          231.46,
          947.36,
          863.51,
          647.52,
          1065.01,
          642.49,
          1403.11,
          849.25,
          1002.53,
          653.52,
          509.71,
          1774.9,
          839.53,
          863.4,
          934.27,
          695.5,
          599.66,
          731.48,
          803.44,
          623.54,
          671.51,
          621.26,
          596.97,
          524.11,
          418.45,
          389.67,
          520.51,
          372.87,
          485.72,
          2426.74,
          1989.7,
          731.48,
          611.65,
          1989.7,
          476.14,
          824.07,
          731.48,
          287.83,
          383.78,
          1112.99,
          875.51,
          1044.5,
          419.65,
          773.57,
          2116.82,
          1139.25,
          671.51,
          875.76,
          599.55,
          629.53,
          482.01,
          743.47,
          1073.29,
          419.65,
          611.54,
          563.57,
          851.41,
          623.54,
          695.5,
          581.08,
          959.35,
          767.46,
          231.46,
          718.06,
          683.61,
          487.04,
          767.46,
          299.71,
          500.72,
          1084.97,
          953.08,
          689.62,
          654.83,
          622.47,
          807.01,
          1862.56,
          1342.58,
          918.68,
          491.61,
          1192.98,
          1355.13,
          1091.39,
          430.56,
          4107.74,
          637.93,
          1110.47,
          3112.27,
          3514.05,
          1990.89,
          2020.89,
          467.62,
          347.69,
          1079.39,
          899.49,
          1367.23,
          623.54,
          1087.67,
          480.93,
          910.18,
          335.7,
          731.58,
          533.59,
          2194.67,
          696.46,
          383.67,
          1834.87,
          898.9,
          1432.01,
          1199.33,
          2870.01,
          1590.31,
          611.65,
          1259.74,
          1220.93,
          677.51,
          936.68,
          441.24,
          1762.91,
          1475.31,
          1678.95,
          275.73,
          524.53,
          520.51,
          311.71,
          1520.76,
          1598.35,
          395.66,
          1444.59,
          2759.2,
          611.54,
          287.83,
          1175.34,
          1158.44,
          1055.3,
          1039.71,
          1051.7,
          946.16,
          1007.32,
          467.62,
          611.54,
          1292.44,
          935.71,
          1387.71,
          1319.15,
          539.58,
          575.56,
          635.53,
          1391.11,
          539.58,
          644.03,
          467.62,
          1574.92,
          780.77,
          701.6,
          344.81,
          338.29,
          887.39,
          550.48,
          821.42,
          759.35,
          467.62,
          779.45,
          353.69,
          743.47,
          905.9,
          1104.23,
          839.42,
          808.35,
          779.45,
          395.66,
          737.47,
          1415.22,
          954.55,
          635.53,
          480.93,
          557.57,
          571.49,
          563.57,
          725.48,
          599.55,
          786.65,
          851.53,
          1319.15,
          630.73,
          773.57,
          623.54,
          407.64,
          1439.09,
          1724.94,
          449.63,
          1749.82,
          1661.22,
          517.99,
          695.5,
          394.46,
          474.35,
          251.74,
          323.81,
          371.78,
          1858.96,
          251.74
         ],
         "yaxis": "y"
        },
        {
         "hovertemplate": "brand=acer<br>cluster=%{x}<br>price=%{y}<extra></extra>",
         "legendgroup": "acer",
         "marker": {
          "color": "#00cc96",
          "symbol": "circle"
         },
         "mode": "markers",
         "name": "acer",
         "orientation": "v",
         "showlegend": true,
         "type": "scatter",
         "x": [
          53,
          47,
          25,
          4,
          49,
          47,
          147,
          49,
          47,
          130,
          30,
          30,
          137,
          46,
          136,
          13,
          104,
          49,
          89,
          47,
          97,
          10,
          137,
          33,
          137,
          44,
          46,
          33,
          33,
          33,
          44,
          53,
          116,
          120,
          47,
          130,
          44,
          47,
          36,
          4,
          4,
          137,
          47,
          130,
          106,
          106,
          56,
          78,
          130,
          136,
          32,
          130,
          4,
          47,
          49,
          137,
          136,
          137,
          46,
          47,
          106,
          106,
          137,
          46,
          53,
          107,
          33,
          59,
          18,
          27,
          89,
          105,
          59,
          59,
          130,
          17,
          32,
          55,
          32,
          130,
          137,
          56,
          78,
          29,
          136,
          47,
          136,
          11,
          11
         ],
         "xaxis": "x",
         "y": [
          479.62,
          935.36,
          563.57,
          419.65,
          395.66,
          683.5,
          455.63,
          473.73,
          1139.25,
          575.56,
          1439.09,
          1259.19,
          371.68,
          467.62,
          395.66,
          875.4,
          2158.69,
          383.67,
          359.68,
          731.48,
          683.5,
          1439.09,
          335.7,
          563.57,
          359.68,
          557.69,
          599.55,
          539.69,
          515.7,
          563.57,
          557.57,
          683.5,
          477.34,
          287.72,
          767.57,
          791.44,
          599.55,
          739.99,
          305.71,
          479.62,
          419.65,
          515.6,
          683.5,
          635.53,
          443.64,
          503.6,
          497.61,
          1918.82,
          809.54,
          431.64,
          1559.02,
          905.49,
          503.6,
          863.4,
          369.28,
          359.56,
          353.69,
          515.6,
          491.61,
          659.52,
          394.46,
          347.8,
          479.62,
          599.55,
          698.84,
          677.51,
          670.43,
          1719.85,
          707.49,
          1715.04,
          479.62,
          441.36,
          1259.29,
          1379.12,
          539.63,
          1067.29,
          827.42,
          2399.76,
          934.17,
          551.58,
          395.66,
          384.87,
          2218.77,
          2998.23,
          335.7,
          917.48,
          359.68,
          827.53,
          905.5
         ],
         "yaxis": "y"
        },
        {
         "hovertemplate": "brand=lenovo<br>cluster=%{x}<br>price=%{y}<extra></extra>",
         "legendgroup": "lenovo",
         "marker": {
          "color": "#ab63fa",
          "symbol": "circle"
         },
         "mode": "markers",
         "name": "lenovo",
         "orientation": "v",
         "showlegend": true,
         "type": "scatter",
         "x": [
          14,
          4,
          107,
          14,
          148,
          114,
          82,
          14,
          14,
          132,
          114,
          82,
          86,
          111,
          146,
          132,
          148,
          14,
          82,
          27,
          17,
          50,
          39,
          132,
          128,
          111,
          111,
          111,
          75,
          48,
          82,
          17,
          114,
          105,
          22,
          107,
          0,
          90,
          14,
          71,
          0,
          107,
          5,
          5,
          90,
          66,
          22,
          61,
          50,
          114,
          50,
          90,
          29,
          70,
          62,
          67,
          14,
          82,
          14,
          148,
          50,
          61,
          50,
          5,
          51,
          27,
          50,
          148,
          51,
          14,
          51,
          17,
          29,
          17,
          51,
          92,
          14,
          51,
          82,
          14,
          148,
          14,
          50,
          50,
          82,
          35,
          48,
          146,
          107,
          82,
          62,
          73,
          4,
          148,
          68,
          62,
          99,
          92,
          114,
          148,
          111,
          0,
          61,
          92,
          132,
          73,
          51,
          4,
          62,
          25,
          107,
          82,
          107,
          0,
          51,
          62,
          14,
          147,
          75,
          82,
          148,
          5,
          128,
          73,
          51,
          4,
          128,
          51,
          51,
          73,
          62,
          147,
          51,
          111,
          111,
          114,
          114,
          114,
          58,
          128,
          62,
          62,
          14,
          62,
          105,
          0,
          50,
          14,
          39,
          70,
          57,
          82,
          114,
          62,
          146,
          146,
          50,
          132,
          50,
          73,
          111,
          67,
          0,
          90,
          14,
          90,
          9,
          5,
          14,
          0,
          14,
          14,
          46,
          82,
          0,
          146,
          14,
          0,
          4,
          70,
          67,
          4,
          146,
          50,
          114,
          97,
          66,
          66,
          67,
          71,
          14,
          14,
          73,
          82,
          75,
          141,
          10,
          67,
          67,
          75,
          25
         ],
         "xaxis": "x",
         "y": [
          342.77,
          569.57,
          599.55,
          335.7,
          575.56,
          683.5,
          539.58,
          419.65,
          293.12,
          587.56,
          766.25,
          444.24,
          1139.25,
          959.35,
          491.61,
          491.61,
          547.51,
          431.64,
          539.58,
          1834.87,
          1585.41,
          740.14,
          309.31,
          587.56,
          846.61,
          803.44,
          1379.12,
          1199.22,
          395.54,
          263.73,
          400.58,
          1199.22,
          779.45,
          299.71,
          1799.01,
          683.5,
          659.52,
          755.57,
          437.64,
          551.58,
          563.57,
          755.46,
          887.39,
          743.47,
          898.3,
          383.67,
          2626.43,
          1477.47,
          827.42,
          1294.22,
          622.39,
          563.57,
          4306.77,
          661.92,
          743.47,
          593.66,
          443.64,
          414.85,
          389.67,
          668.03,
          841.82,
          1105.67,
          623.54,
          1019.32,
          961.75,
          1309.56,
          649.92,
          649.92,
          937.76,
          479.62,
          1117.66,
          1969.19,
          3585.9,
          1669.36,
          841.82,
          1240.06,
          479.62,
          1079.41,
          419.65,
          395.66,
          599.55,
          479.62,
          764.12,
          599.55,
          395.66,
          362.08,
          359.68,
          563.57,
          659.52,
          509.71,
          815.43,
          439.56,
          587.56,
          599.55,
          1043.31,
          791.44,
          2230.65,
          1547.03,
          1367.13,
          623.54,
          839.42,
          575.56,
          1201.62,
          1648.97,
          647.52,
          443.76,
          1057.7,
          755.46,
          796.23,
          863.4,
          741.9,
          443.64,
          745.87,
          707.49,
          721.88,
          769.86,
          503.6,
          539.58,
          545.58,
          569.57,
          705.81,
          767.46,
          841.82,
          440.04,
          805.84,
          563.57,
          1009.72,
          1043.31,
          935.36,
          449.75,
          707.49,
          527.59,
          833.47,
          1175.23,
          1097.28,
          1061.74,
          1199.22,
          1319.15,
          2700.79,
          1078.07,
          899.38,
          779.45,
          486.81,
          791.44,
          290.12,
          635.53,
          755.46,
          394.57,
          299.71,
          635.53,
          831.68,
          539.58,
          875.4,
          680.03,
          791.44,
          647.52,
          688.3,
          599.55,
          725.48,
          425.65,
          863.4,
          545.7,
          599.66,
          793.95,
          401.66,
          803.56,
          1499.17,
          905.49,
          491.61,
          563.57,
          457.8,
          335.7,
          886.31,
          419.65,
          419.65,
          562.49,
          359.68,
          557.57,
          624.87,
          898.17,
          377.67,
          634.45,
          633.18,
          757.86,
          971.46,
          1478.44,
          266.72,
          263.73,
          263.73,
          551.58,
          401.66,
          430.44,
          437.64,
          551.58,
          791.55,
          407.66,
          1754.29,
          521.71,
          371.68,
          386.19,
          719.48
         ],
         "yaxis": "y"
        },
        {
         "hovertemplate": "brand=apple<br>cluster=%{x}<br>price=%{y}<extra></extra>",
         "legendgroup": "apple",
         "marker": {
          "color": "#FFA15A",
          "symbol": "circle"
         },
         "mode": "markers",
         "name": "apple",
         "orientation": "v",
         "showlegend": true,
         "type": "scatter",
         "x": [
          113,
          142,
          113,
          88,
          113,
          101,
          101,
          103,
          88,
          88,
          113,
          113,
          119,
          119,
          88
         ],
         "xaxis": "x",
         "y": [
          851.41,
          4796.16,
          1235.2,
          1439.09,
          1319.15,
          3476.88,
          4196.49,
          2997.15,
          2397.48,
          1738.92,
          1595,
          1642.97,
          2277.54,
          2877.21,
          2037.68
         ],
         "yaxis": "y"
        },
        {
         "hovertemplate": "brand=infinix<br>cluster=%{x}<br>price=%{y}<extra></extra>",
         "legendgroup": "infinix",
         "marker": {
          "color": "#19d3f3",
          "symbol": "circle"
         },
         "mode": "markers",
         "name": "infinix",
         "orientation": "v",
         "showlegend": true,
         "type": "scatter",
         "x": [
          4,
          83,
          74,
          89,
          74,
          44,
          83,
          53,
          107,
          89,
          74,
          53,
          46
         ],
         "xaxis": "x",
         "y": [
          419.65,
          719.48,
          359.68,
          335.7,
          323.7,
          431.64,
          695.5,
          467.62,
          587.56,
          311.71,
          299.71,
          539.58,
          467.62
         ],
         "yaxis": "y"
        },
        {
         "hovertemplate": "brand=asus<br>cluster=%{x}<br>price=%{y}<extra></extra>",
         "legendgroup": "asus",
         "marker": {
          "color": "#FF6692",
          "symbol": "circle"
         },
         "mode": "markers",
         "name": "asus",
         "orientation": "v",
         "showlegend": true,
         "type": "scatter",
         "x": [
          19,
          37,
          20,
          15,
          74,
          64,
          3,
          131,
          29,
          43,
          31,
          46,
          30,
          3,
          13,
          31,
          46,
          31,
          31,
          3,
          85,
          19,
          129,
          129,
          122,
          115,
          99,
          131,
          93,
          37,
          74,
          31,
          4,
          96,
          100,
          2,
          3,
          13,
          3,
          3,
          3,
          19,
          31,
          11,
          89,
          31,
          37,
          23,
          78,
          78,
          10,
          15,
          3,
          43,
          62,
          52,
          40,
          93,
          37,
          147,
          37,
          74,
          9,
          17,
          2,
          2,
          96,
          48,
          116,
          3,
          124,
          85,
          43,
          105,
          43,
          15,
          2,
          25,
          68,
          68,
          20,
          43,
          16,
          116,
          4,
          31,
          96,
          96,
          20,
          10,
          3,
          2,
          2,
          2,
          93,
          2,
          3,
          3,
          3,
          3,
          93,
          85,
          48,
          3,
          85,
          10,
          56,
          93,
          3,
          85,
          85,
          74,
          31,
          66,
          93,
          3,
          3,
          85,
          27,
          85,
          79,
          31,
          31,
          3,
          31,
          15,
          3,
          79,
          21,
          15,
          97,
          85,
          40,
          74,
          66,
          4,
          64,
          86,
          93,
          17,
          30,
          34,
          23,
          10,
          17,
          20,
          85,
          34,
          79,
          23,
          37,
          123,
          10,
          31,
          3,
          140,
          52,
          10,
          97,
          129,
          27,
          123,
          4,
          16,
          93,
          140,
          147,
          89,
          13,
          13,
          129,
          13,
          31,
          9,
          93,
          56,
          15,
          25,
          31,
          31,
          31,
          56,
          56,
          13,
          31,
          13,
          13,
          31,
          31,
          93,
          9,
          93,
          61,
          57,
          96,
          147,
          115,
          55,
          48,
          18,
          48,
          85,
          29,
          57,
          86,
          116,
          37,
          85,
          64,
          115
         ],
         "xaxis": "x",
         "y": [
          599.55,
          688.3,
          911.38,
          479.62,
          335.7,
          563.57,
          767.46,
          1362.1,
          3238.1,
          888.53,
          731.48,
          431.64,
          1307.16,
          695.5,
          869.4,
          835.81,
          563.57,
          647.52,
          979.73,
          1139.25,
          875.4,
          647.52,
          1031.31,
          815.43,
          902.5,
          803.44,
          1858.86,
          1156.03,
          527.59,
          635.53,
          401.66,
          875.4,
          575.56,
          1103.27,
          1019.32,
          215.76,
          875.4,
          899.38,
          1259.19,
          1080.12,
          1029.03,
          695.5,
          731.48,
          719.48,
          383.67,
          677.63,
          683.5,
          1439.09,
          2158.69,
          2278.62,
          1457.07,
          573.64,
          1079.29,
          667.9,
          839.42,
          947.36,
          1268.17,
          515.6,
          647.52,
          582.63,
          851.41,
          370.48,
          750.79,
          1738.92,
          393.68,
          362.19,
          1037.43,
          570.29,
          779.45,
          1188.68,
          335.7,
          959.11,
          1031.31,
          179.78,
          800.18,
          647.52,
          251.74,
          1039.7,
          832.79,
          887.39,
          1199.22,
          1033.7,
          338.09,
          881.07,
          539.58,
          724.15,
          887.39,
          839.42,
          1187.23,
          1091.28,
          1379.12,
          203.77,
          308.84,
          227.75,
          535.37,
          275.74,
          1180.97,
          911.38,
          911.38,
          1131.8,
          490.84,
          858.73,
          407.66,
          695.5,
          719.48,
          1079.29,
          450.81,
          443.64,
          1139.25,
          839.42,
          875.4,
          393.26,
          719.48,
          311.71,
          472.42,
          779.45,
          1067.41,
          839.54,
          1702.93,
          918.69,
          1559.02,
          767.46,
          887.39,
          1199.22,
          743.47,
          671.51,
          1002.64,
          1678.95,
          707.49,
          575.44,
          839.42,
          779.45,
          1142.97,
          420.76,
          335.7,
          593.55,
          587.56,
          923.37,
          479.62,
          1256.3,
          1521.84,
          2398.56,
          1583.01,
          1605.8,
          1858.86,
          1731.92,
          1139.25,
          3130.16,
          1798.89,
          1618.99,
          724.15,
          2517.29,
          1858.86,
          839.42,
          1018.84,
          1360.06,
          1271.18,
          1336.53,
          918.92,
          1127.37,
          1937.09,
          2398.56,
          431.64,
          370.92,
          555.15,
          1499.05,
          707.49,
          383.67,
          1583.13,
          1391.11,
          1079.29,
          1094.28,
          755.46,
          862.78,
          477.22,
          467.5,
          671.51,
          851.41,
          749.59,
          825.15,
          1031.31,
          551.58,
          719.48,
          1259.19,
          820.23,
          1175.23,
          1115.27,
          779.45,
          899.38,
          527.59,
          767.46,
          470.64,
          1559.02,
          707.49,
          953.47,
          609.08,
          742.39,
          2998.23,
          539.34,
          547.98,
          386.07,
          827.42,
          3358.03,
          659.52,
          935.36,
          803.44,
          719.48,
          791.44,
          539.58,
          815.43
         ],
         "yaxis": "y"
        },
        {
         "hovertemplate": "brand=dell<br>cluster=%{x}<br>price=%{y}<extra></extra>",
         "legendgroup": "dell",
         "marker": {
          "color": "#B6E880",
          "symbol": "circle"
         },
         "mode": "markers",
         "name": "dell",
         "orientation": "v",
         "showlegend": true,
         "type": "scatter",
         "x": [
          91,
          80,
          80,
          57,
          5,
          52,
          15,
          20,
          122,
          104,
          91,
          42,
          20,
          102,
          107,
          18,
          94,
          63,
          138,
          78,
          102,
          65,
          91,
          94,
          65,
          20,
          91,
          65,
          65,
          91,
          91,
          107,
          15,
          15,
          102,
          42,
          5,
          42,
          91,
          5,
          26,
          63,
          91,
          76,
          102,
          76,
          63,
          134,
          65,
          5,
          65,
          91,
          76,
          99,
          76,
          70,
          143,
          18,
          29,
          23,
          125,
          108,
          134,
          5,
          63,
          134,
          102,
          94,
          94,
          91,
          102,
          102,
          71,
          80,
          12,
          117,
          102,
          123,
          52,
          15,
          27,
          55,
          94,
          94,
          91,
          94,
          94,
          65,
          65,
          80,
          137,
          78,
          80,
          80,
          122,
          34,
          27,
          12,
          12,
          91,
          46,
          57,
          102,
          15,
          94,
          80
         ],
         "xaxis": "x",
         "y": [
          419.65,
          818.42,
          974.94,
          475.53,
          1037.31,
          869.4,
          599.67,
          1007.32,
          827.42,
          1780.9,
          455.63,
          791.44,
          929.37,
          470.62,
          687.22,
          611.54,
          839.53,
          626.04,
          1055.3,
          2500.5,
          440.53,
          718.28,
          419.65,
          1823,
          1067.29,
          1265.18,
          617.5,
          683.5,
          743.47,
          815.89,
          675.71,
          682.18,
          683.5,
          611.54,
          467.62,
          791.44,
          1193.1,
          719.48,
          449.63,
          1031.31,
          2677.82,
          550.14,
          459.93,
          1187.23,
          395.66,
          1049.3,
          575.56,
          929.37,
          496.92,
          1046.9,
          725.48,
          447.13,
          1013.32,
          3088.18,
          1151.25,
          730.4,
          5450.88,
          814.23,
          3885.74,
          2266.63,
          5408.9,
          3597.9,
          785.57,
          887.39,
          471.22,
          719.48,
          501.42,
          1055.3,
          1085.28,
          491.61,
          523.99,
          671.51,
          575.56,
          955.75,
          3352.03,
          2422.55,
          490.41,
          2464.52,
          1138.17,
          743.47,
          1894.84,
          1996.78,
          1193.22,
          959.71,
          515.6,
          1067.17,
          863.4,
          887.39,
          743.47,
          1790.49,
          515.72,
          2254.64,
          1319.15,
          1559.02,
          976.29,
          2704.39,
          2650.42,
          4659.31,
          4419.44,
          575.56,
          623.54,
          461.63,
          539.58,
          670.43,
          1434.41,
          1055.3
         ],
         "yaxis": "y"
        },
        {
         "hovertemplate": "brand=samsung<br>cluster=%{x}<br>price=%{y}<extra></extra>",
         "legendgroup": "samsung",
         "marker": {
          "color": "#FF97FF",
          "symbol": "circle"
         },
         "mode": "markers",
         "name": "samsung",
         "orientation": "v",
         "showlegend": true,
         "type": "scatter",
         "x": [
          54,
          15,
          107,
          15,
          107,
          15,
          54
         ],
         "xaxis": "x",
         "y": [
          779.45,
          539.58,
          575.56,
          839.42,
          911.38,
          659.52,
          1403.11
         ],
         "yaxis": "y"
        },
        {
         "hovertemplate": "brand=msi<br>cluster=%{x}<br>price=%{y}<extra></extra>",
         "legendgroup": "msi",
         "marker": {
          "color": "#FECB52",
          "symbol": "circle"
         },
         "mode": "markers",
         "name": "msi",
         "orientation": "v",
         "showlegend": true,
         "type": "scatter",
         "x": [
          7,
          21,
          89,
          7,
          7,
          26,
          11,
          4,
          53,
          21,
          19,
          21,
          46,
          53,
          7,
          46,
          7,
          7,
          18,
          21,
          59,
          21,
          27,
          81,
          69,
          26,
          7,
          7,
          21,
          7,
          87,
          27,
          87,
          19,
          7,
          7,
          87,
          27,
          29,
          53,
          49,
          10,
          97,
          7,
          19,
          7,
          69,
          11,
          23,
          69,
          23,
          19,
          23,
          69,
          0,
          19,
          18,
          122,
          21,
          98,
          21,
          19,
          21,
          55,
          21,
          21,
          46,
          46,
          1,
          7,
          21,
          55,
          1,
          27,
          21,
          69,
          147,
          147,
          57,
          0,
          53,
          110,
          21,
          110,
          107,
          53,
          53,
          0,
          21,
          7
         ],
         "xaxis": "x",
         "y": [
          635.53,
          800.92,
          431.16,
          839.42,
          659.52,
          899.38,
          599.55,
          503.6,
          659.52,
          743.47,
          635.53,
          755.46,
          479.62,
          647.52,
          683.5,
          443.64,
          815.43,
          785.45,
          527.59,
          1271.18,
          1007.32,
          795.76,
          2398.56,
          5396.91,
          959.35,
          2357.66,
          755.46,
          1139.25,
          1163.24,
          1259.19,
          1798.89,
          1798.89,
          1379.12,
          671.51,
          707.49,
          671.51,
          2398.56,
          1439.09,
          3597.9,
          983.34,
          443.64,
          1912.07,
          1079.29,
          887.39,
          575.56,
          1343.14,
          695.5,
          659.52,
          1259.19,
          899.38,
          1139.25,
          611.54,
          1139.25,
          1019.32,
          731.48,
          623.54,
          635.53,
          1103.27,
          1055.3,
          3358.03,
          923.37,
          875.4,
          1043.31,
          2998.23,
          767.46,
          1163.24,
          983.34,
          839.42,
          3130.16,
          781.85,
          875.4,
          2638.43,
          2590.45,
          2062.74,
          839.42,
          743.47,
          527.59,
          587.56,
          503.6,
          455.63,
          569.57,
          1115.27,
          995.33,
          1048.11,
          606.76,
          731.48,
          647.52,
          491.61,
          1439.09,
          1103.27
         ],
         "yaxis": "y"
        },
        {
         "hovertemplate": "brand=wings<br>cluster=%{x}<br>price=%{y}<extra></extra>",
         "legendgroup": "wings",
         "marker": {
          "color": "#636efa",
          "symbol": "circle"
         },
         "mode": "markers",
         "name": "wings",
         "orientation": "v",
         "showlegend": true,
         "type": "scatter",
         "x": [
          8,
          8,
          8,
          8
         ],
         "xaxis": "x",
         "y": [
          335.7,
          479.62,
          299.71,
          323.7
         ],
         "yaxis": "y"
        },
        {
         "hovertemplate": "brand=ultimus<br>cluster=%{x}<br>price=%{y}<extra></extra>",
         "legendgroup": "ultimus",
         "marker": {
          "color": "#EF553B",
          "symbol": "circle"
         },
         "mode": "markers",
         "name": "ultimus",
         "orientation": "v",
         "showlegend": true,
         "type": "scatter",
         "x": [
          89,
          39,
          39,
          39,
          39,
          89
         ],
         "xaxis": "x",
         "y": [
          239.75,
          191.77,
          143.8,
          179.78,
          197.77,
          274.8
         ],
         "yaxis": "y"
        },
        {
         "hovertemplate": "brand=primebook<br>cluster=%{x}<br>price=%{y}<extra></extra>",
         "legendgroup": "primebook",
         "marker": {
          "color": "#00cc96",
          "symbol": "circle"
         },
         "mode": "markers",
         "name": "primebook",
         "orientation": "v",
         "showlegend": true,
         "type": "scatter",
         "x": [
          60,
          60
         ],
         "xaxis": "x",
         "y": [
          179.78,
          155.79
         ],
         "yaxis": "y"
        },
        {
         "hovertemplate": "brand=iball<br>cluster=%{x}<br>price=%{y}<extra></extra>",
         "legendgroup": "iball",
         "marker": {
          "color": "#ab63fa",
          "symbol": "circle"
         },
         "mode": "markers",
         "name": "iball",
         "orientation": "v",
         "showlegend": true,
         "type": "scatter",
         "x": [
          105
         ],
         "xaxis": "x",
         "y": [
          117.54
         ],
         "yaxis": "y"
        },
        {
         "hovertemplate": "brand=zebronics<br>cluster=%{x}<br>price=%{y}<extra></extra>",
         "legendgroup": "zebronics",
         "marker": {
          "color": "#FFA15A",
          "symbol": "circle"
         },
         "mode": "markers",
         "name": "zebronics",
         "orientation": "v",
         "showlegend": true,
         "type": "scatter",
         "x": [
          49,
          4,
          25,
          49,
          33,
          49,
          33
         ],
         "xaxis": "x",
         "y": [
          407.66,
          395.66,
          635.53,
          359.68,
          479.62,
          395.66,
          611.54
         ],
         "yaxis": "y"
        },
        {
         "hovertemplate": "brand=chuwi<br>cluster=%{x}<br>price=%{y}<extra></extra>",
         "legendgroup": "chuwi",
         "marker": {
          "color": "#19d3f3",
          "symbol": "circle"
         },
         "mode": "markers",
         "name": "chuwi",
         "orientation": "v",
         "showlegend": true,
         "type": "scatter",
         "x": [
          109,
          89,
          89,
          109
         ],
         "xaxis": "x",
         "y": [
          395.66,
          299.71,
          263.73,
          419.65
         ],
         "yaxis": "y"
        },
        {
         "hovertemplate": "brand=gigabyte<br>cluster=%{x}<br>price=%{y}<extra></extra>",
         "legendgroup": "gigabyte",
         "marker": {
          "color": "#FF6692",
          "symbol": "circle"
         },
         "mode": "markers",
         "name": "gigabyte",
         "orientation": "v",
         "showlegend": true,
         "type": "scatter",
         "x": [
          47,
          122
         ],
         "xaxis": "x",
         "y": [
          863.4,
          1079.29
         ],
         "yaxis": "y"
        },
        {
         "hovertemplate": "brand=jio<br>cluster=%{x}<br>price=%{y}<extra></extra>",
         "legendgroup": "jio",
         "marker": {
          "color": "#B6E880",
          "symbol": "circle"
         },
         "mode": "markers",
         "name": "jio",
         "orientation": "v",
         "showlegend": true,
         "type": "scatter",
         "x": [
          60
         ],
         "xaxis": "x",
         "y": [
          176.31
         ],
         "yaxis": "y"
        },
        {
         "hovertemplate": "brand=honor<br>cluster=%{x}<br>price=%{y}<extra></extra>",
         "legendgroup": "honor",
         "marker": {
          "color": "#FF97FF",
          "symbol": "circle"
         },
         "mode": "markers",
         "name": "honor",
         "orientation": "v",
         "showlegend": true,
         "type": "scatter",
         "x": [
          9,
          147
         ],
         "xaxis": "x",
         "y": [
          659.52,
          527.59
         ],
         "yaxis": "y"
        },
        {
         "hovertemplate": "brand=realme<br>cluster=%{x}<br>price=%{y}<extra></extra>",
         "legendgroup": "realme",
         "marker": {
          "color": "#FECB52",
          "symbol": "circle"
         },
         "mode": "markers",
         "name": "realme",
         "orientation": "v",
         "showlegend": true,
         "type": "scatter",
         "x": [
          8,
          109
         ],
         "xaxis": "x",
         "y": [
          443.64,
          515.6
         ],
         "yaxis": "y"
        },
        {
         "hovertemplate": "brand=avita<br>cluster=%{x}<br>price=%{y}<extra></extra>",
         "legendgroup": "avita",
         "marker": {
          "color": "#636efa",
          "symbol": "circle"
         },
         "mode": "markers",
         "name": "avita",
         "orientation": "v",
         "showlegend": true,
         "type": "scatter",
         "x": [
          48,
          48,
          49,
          124,
          66
         ],
         "xaxis": "x",
         "y": [
          256.54,
          395.17,
          390.38,
          232.92,
          251.85
         ],
         "yaxis": "y"
        },
        {
         "hovertemplate": "brand=microsoft<br>cluster=%{x}<br>price=%{y}<extra></extra>",
         "legendgroup": "microsoft",
         "marker": {
          "color": "#EF553B",
          "symbol": "circle"
         },
         "mode": "markers",
         "name": "microsoft",
         "orientation": "v",
         "showlegend": true,
         "type": "scatter",
         "x": [
          77,
          77
         ],
         "xaxis": "x",
         "y": [
          959.35,
          1169.24
         ],
         "yaxis": "y"
        },
        {
         "hovertemplate": "brand=fujitsu<br>cluster=%{x}<br>price=%{y}<extra></extra>",
         "legendgroup": "fujitsu",
         "marker": {
          "color": "#00cc96",
          "symbol": "circle"
         },
         "mode": "markers",
         "name": "fujitsu",
         "orientation": "v",
         "showlegend": true,
         "type": "scatter",
         "x": [
          9,
          9,
          110,
          9,
          132
         ],
         "xaxis": "x",
         "y": [
          887.39,
          887.39,
          1319.15,
          1199.22,
          677.55
         ],
         "yaxis": "y"
        },
        {
         "hovertemplate": "brand=lg<br>cluster=%{x}<br>price=%{y}<extra></extra>",
         "legendgroup": "lg",
         "marker": {
          "color": "#ab63fa",
          "symbol": "circle"
         },
         "mode": "markers",
         "name": "lg",
         "orientation": "v",
         "showlegend": true,
         "type": "scatter",
         "x": [
          54,
          37,
          145,
          54,
          37,
          13,
          52
         ],
         "xaxis": "x",
         "y": [
          1187.33,
          939.07,
          1828.98,
          1414.01,
          1076.99,
          1810.99,
          1421.2
         ],
         "yaxis": "y"
        },
        {
         "hovertemplate": "brand=walker<br>cluster=%{x}<br>price=%{y}<extra></extra>",
         "legendgroup": "walker",
         "marker": {
          "color": "#FFA15A",
          "symbol": "circle"
         },
         "mode": "markers",
         "name": "walker",
         "orientation": "v",
         "showlegend": true,
         "type": "scatter",
         "x": [
          124
         ],
         "xaxis": "x",
         "y": [
          191.77
         ],
         "yaxis": "y"
        },
        {
         "hovertemplate": "brand=axl<br>cluster=%{x}<br>price=%{y}<extra></extra>",
         "legendgroup": "axl",
         "marker": {
          "color": "#19d3f3",
          "symbol": "circle"
         },
         "mode": "markers",
         "name": "axl",
         "orientation": "v",
         "showlegend": true,
         "type": "scatter",
         "x": [
          66,
          124
         ],
         "xaxis": "x",
         "y": [
          215.76,
          179.78
         ],
         "yaxis": "y"
        }
       ],
       "layout": {
        "legend": {
         "title": {
          "text": "brand"
         },
         "tracegroupgap": 0
        },
        "margin": {
         "t": 60
        },
        "template": {
         "data": {
          "bar": [
           {
            "error_x": {
             "color": "#2a3f5f"
            },
            "error_y": {
             "color": "#2a3f5f"
            },
            "marker": {
             "line": {
              "color": "#E5ECF6",
              "width": 0.5
             },
             "pattern": {
              "fillmode": "overlay",
              "size": 10,
              "solidity": 0.2
             }
            },
            "type": "bar"
           }
          ],
          "barpolar": [
           {
            "marker": {
             "line": {
              "color": "#E5ECF6",
              "width": 0.5
             },
             "pattern": {
              "fillmode": "overlay",
              "size": 10,
              "solidity": 0.2
             }
            },
            "type": "barpolar"
           }
          ],
          "carpet": [
           {
            "aaxis": {
             "endlinecolor": "#2a3f5f",
             "gridcolor": "white",
             "linecolor": "white",
             "minorgridcolor": "white",
             "startlinecolor": "#2a3f5f"
            },
            "baxis": {
             "endlinecolor": "#2a3f5f",
             "gridcolor": "white",
             "linecolor": "white",
             "minorgridcolor": "white",
             "startlinecolor": "#2a3f5f"
            },
            "type": "carpet"
           }
          ],
          "choropleth": [
           {
            "colorbar": {
             "outlinewidth": 0,
             "ticks": ""
            },
            "type": "choropleth"
           }
          ],
          "contour": [
           {
            "colorbar": {
             "outlinewidth": 0,
             "ticks": ""
            },
            "colorscale": [
             [
              0,
              "#0d0887"
             ],
             [
              0.1111111111111111,
              "#46039f"
             ],
             [
              0.2222222222222222,
              "#7201a8"
             ],
             [
              0.3333333333333333,
              "#9c179e"
             ],
             [
              0.4444444444444444,
              "#bd3786"
             ],
             [
              0.5555555555555556,
              "#d8576b"
             ],
             [
              0.6666666666666666,
              "#ed7953"
             ],
             [
              0.7777777777777778,
              "#fb9f3a"
             ],
             [
              0.8888888888888888,
              "#fdca26"
             ],
             [
              1,
              "#f0f921"
             ]
            ],
            "type": "contour"
           }
          ],
          "contourcarpet": [
           {
            "colorbar": {
             "outlinewidth": 0,
             "ticks": ""
            },
            "type": "contourcarpet"
           }
          ],
          "heatmap": [
           {
            "colorbar": {
             "outlinewidth": 0,
             "ticks": ""
            },
            "colorscale": [
             [
              0,
              "#0d0887"
             ],
             [
              0.1111111111111111,
              "#46039f"
             ],
             [
              0.2222222222222222,
              "#7201a8"
             ],
             [
              0.3333333333333333,
              "#9c179e"
             ],
             [
              0.4444444444444444,
              "#bd3786"
             ],
             [
              0.5555555555555556,
              "#d8576b"
             ],
             [
              0.6666666666666666,
              "#ed7953"
             ],
             [
              0.7777777777777778,
              "#fb9f3a"
             ],
             [
              0.8888888888888888,
              "#fdca26"
             ],
             [
              1,
              "#f0f921"
             ]
            ],
            "type": "heatmap"
           }
          ],
          "heatmapgl": [
           {
            "colorbar": {
             "outlinewidth": 0,
             "ticks": ""
            },
            "colorscale": [
             [
              0,
              "#0d0887"
             ],
             [
              0.1111111111111111,
              "#46039f"
             ],
             [
              0.2222222222222222,
              "#7201a8"
             ],
             [
              0.3333333333333333,
              "#9c179e"
             ],
             [
              0.4444444444444444,
              "#bd3786"
             ],
             [
              0.5555555555555556,
              "#d8576b"
             ],
             [
              0.6666666666666666,
              "#ed7953"
             ],
             [
              0.7777777777777778,
              "#fb9f3a"
             ],
             [
              0.8888888888888888,
              "#fdca26"
             ],
             [
              1,
              "#f0f921"
             ]
            ],
            "type": "heatmapgl"
           }
          ],
          "histogram": [
           {
            "marker": {
             "pattern": {
              "fillmode": "overlay",
              "size": 10,
              "solidity": 0.2
             }
            },
            "type": "histogram"
           }
          ],
          "histogram2d": [
           {
            "colorbar": {
             "outlinewidth": 0,
             "ticks": ""
            },
            "colorscale": [
             [
              0,
              "#0d0887"
             ],
             [
              0.1111111111111111,
              "#46039f"
             ],
             [
              0.2222222222222222,
              "#7201a8"
             ],
             [
              0.3333333333333333,
              "#9c179e"
             ],
             [
              0.4444444444444444,
              "#bd3786"
             ],
             [
              0.5555555555555556,
              "#d8576b"
             ],
             [
              0.6666666666666666,
              "#ed7953"
             ],
             [
              0.7777777777777778,
              "#fb9f3a"
             ],
             [
              0.8888888888888888,
              "#fdca26"
             ],
             [
              1,
              "#f0f921"
             ]
            ],
            "type": "histogram2d"
           }
          ],
          "histogram2dcontour": [
           {
            "colorbar": {
             "outlinewidth": 0,
             "ticks": ""
            },
            "colorscale": [
             [
              0,
              "#0d0887"
             ],
             [
              0.1111111111111111,
              "#46039f"
             ],
             [
              0.2222222222222222,
              "#7201a8"
             ],
             [
              0.3333333333333333,
              "#9c179e"
             ],
             [
              0.4444444444444444,
              "#bd3786"
             ],
             [
              0.5555555555555556,
              "#d8576b"
             ],
             [
              0.6666666666666666,
              "#ed7953"
             ],
             [
              0.7777777777777778,
              "#fb9f3a"
             ],
             [
              0.8888888888888888,
              "#fdca26"
             ],
             [
              1,
              "#f0f921"
             ]
            ],
            "type": "histogram2dcontour"
           }
          ],
          "mesh3d": [
           {
            "colorbar": {
             "outlinewidth": 0,
             "ticks": ""
            },
            "type": "mesh3d"
           }
          ],
          "parcoords": [
           {
            "line": {
             "colorbar": {
              "outlinewidth": 0,
              "ticks": ""
             }
            },
            "type": "parcoords"
           }
          ],
          "pie": [
           {
            "automargin": true,
            "type": "pie"
           }
          ],
          "scatter": [
           {
            "fillpattern": {
             "fillmode": "overlay",
             "size": 10,
             "solidity": 0.2
            },
            "type": "scatter"
           }
          ],
          "scatter3d": [
           {
            "line": {
             "colorbar": {
              "outlinewidth": 0,
              "ticks": ""
             }
            },
            "marker": {
             "colorbar": {
              "outlinewidth": 0,
              "ticks": ""
             }
            },
            "type": "scatter3d"
           }
          ],
          "scattercarpet": [
           {
            "marker": {
             "colorbar": {
              "outlinewidth": 0,
              "ticks": ""
             }
            },
            "type": "scattercarpet"
           }
          ],
          "scattergeo": [
           {
            "marker": {
             "colorbar": {
              "outlinewidth": 0,
              "ticks": ""
             }
            },
            "type": "scattergeo"
           }
          ],
          "scattergl": [
           {
            "marker": {
             "colorbar": {
              "outlinewidth": 0,
              "ticks": ""
             }
            },
            "type": "scattergl"
           }
          ],
          "scattermapbox": [
           {
            "marker": {
             "colorbar": {
              "outlinewidth": 0,
              "ticks": ""
             }
            },
            "type": "scattermapbox"
           }
          ],
          "scatterpolar": [
           {
            "marker": {
             "colorbar": {
              "outlinewidth": 0,
              "ticks": ""
             }
            },
            "type": "scatterpolar"
           }
          ],
          "scatterpolargl": [
           {
            "marker": {
             "colorbar": {
              "outlinewidth": 0,
              "ticks": ""
             }
            },
            "type": "scatterpolargl"
           }
          ],
          "scatterternary": [
           {
            "marker": {
             "colorbar": {
              "outlinewidth": 0,
              "ticks": ""
             }
            },
            "type": "scatterternary"
           }
          ],
          "surface": [
           {
            "colorbar": {
             "outlinewidth": 0,
             "ticks": ""
            },
            "colorscale": [
             [
              0,
              "#0d0887"
             ],
             [
              0.1111111111111111,
              "#46039f"
             ],
             [
              0.2222222222222222,
              "#7201a8"
             ],
             [
              0.3333333333333333,
              "#9c179e"
             ],
             [
              0.4444444444444444,
              "#bd3786"
             ],
             [
              0.5555555555555556,
              "#d8576b"
             ],
             [
              0.6666666666666666,
              "#ed7953"
             ],
             [
              0.7777777777777778,
              "#fb9f3a"
             ],
             [
              0.8888888888888888,
              "#fdca26"
             ],
             [
              1,
              "#f0f921"
             ]
            ],
            "type": "surface"
           }
          ],
          "table": [
           {
            "cells": {
             "fill": {
              "color": "#EBF0F8"
             },
             "line": {
              "color": "white"
             }
            },
            "header": {
             "fill": {
              "color": "#C8D4E3"
             },
             "line": {
              "color": "white"
             }
            },
            "type": "table"
           }
          ]
         },
         "layout": {
          "annotationdefaults": {
           "arrowcolor": "#2a3f5f",
           "arrowhead": 0,
           "arrowwidth": 1
          },
          "autotypenumbers": "strict",
          "coloraxis": {
           "colorbar": {
            "outlinewidth": 0,
            "ticks": ""
           }
          },
          "colorscale": {
           "diverging": [
            [
             0,
             "#8e0152"
            ],
            [
             0.1,
             "#c51b7d"
            ],
            [
             0.2,
             "#de77ae"
            ],
            [
             0.3,
             "#f1b6da"
            ],
            [
             0.4,
             "#fde0ef"
            ],
            [
             0.5,
             "#f7f7f7"
            ],
            [
             0.6,
             "#e6f5d0"
            ],
            [
             0.7,
             "#b8e186"
            ],
            [
             0.8,
             "#7fbc41"
            ],
            [
             0.9,
             "#4d9221"
            ],
            [
             1,
             "#276419"
            ]
           ],
           "sequential": [
            [
             0,
             "#0d0887"
            ],
            [
             0.1111111111111111,
             "#46039f"
            ],
            [
             0.2222222222222222,
             "#7201a8"
            ],
            [
             0.3333333333333333,
             "#9c179e"
            ],
            [
             0.4444444444444444,
             "#bd3786"
            ],
            [
             0.5555555555555556,
             "#d8576b"
            ],
            [
             0.6666666666666666,
             "#ed7953"
            ],
            [
             0.7777777777777778,
             "#fb9f3a"
            ],
            [
             0.8888888888888888,
             "#fdca26"
            ],
            [
             1,
             "#f0f921"
            ]
           ],
           "sequentialminus": [
            [
             0,
             "#0d0887"
            ],
            [
             0.1111111111111111,
             "#46039f"
            ],
            [
             0.2222222222222222,
             "#7201a8"
            ],
            [
             0.3333333333333333,
             "#9c179e"
            ],
            [
             0.4444444444444444,
             "#bd3786"
            ],
            [
             0.5555555555555556,
             "#d8576b"
            ],
            [
             0.6666666666666666,
             "#ed7953"
            ],
            [
             0.7777777777777778,
             "#fb9f3a"
            ],
            [
             0.8888888888888888,
             "#fdca26"
            ],
            [
             1,
             "#f0f921"
            ]
           ]
          },
          "colorway": [
           "#636efa",
           "#EF553B",
           "#00cc96",
           "#ab63fa",
           "#FFA15A",
           "#19d3f3",
           "#FF6692",
           "#B6E880",
           "#FF97FF",
           "#FECB52"
          ],
          "font": {
           "color": "#2a3f5f"
          },
          "geo": {
           "bgcolor": "white",
           "lakecolor": "white",
           "landcolor": "#E5ECF6",
           "showlakes": true,
           "showland": true,
           "subunitcolor": "white"
          },
          "hoverlabel": {
           "align": "left"
          },
          "hovermode": "closest",
          "mapbox": {
           "style": "light"
          },
          "paper_bgcolor": "white",
          "plot_bgcolor": "#E5ECF6",
          "polar": {
           "angularaxis": {
            "gridcolor": "white",
            "linecolor": "white",
            "ticks": ""
           },
           "bgcolor": "#E5ECF6",
           "radialaxis": {
            "gridcolor": "white",
            "linecolor": "white",
            "ticks": ""
           }
          },
          "scene": {
           "xaxis": {
            "backgroundcolor": "#E5ECF6",
            "gridcolor": "white",
            "gridwidth": 2,
            "linecolor": "white",
            "showbackground": true,
            "ticks": "",
            "zerolinecolor": "white"
           },
           "yaxis": {
            "backgroundcolor": "#E5ECF6",
            "gridcolor": "white",
            "gridwidth": 2,
            "linecolor": "white",
            "showbackground": true,
            "ticks": "",
            "zerolinecolor": "white"
           },
           "zaxis": {
            "backgroundcolor": "#E5ECF6",
            "gridcolor": "white",
            "gridwidth": 2,
            "linecolor": "white",
            "showbackground": true,
            "ticks": "",
            "zerolinecolor": "white"
           }
          },
          "shapedefaults": {
           "line": {
            "color": "#2a3f5f"
           }
          },
          "ternary": {
           "aaxis": {
            "gridcolor": "white",
            "linecolor": "white",
            "ticks": ""
           },
           "baxis": {
            "gridcolor": "white",
            "linecolor": "white",
            "ticks": ""
           },
           "bgcolor": "#E5ECF6",
           "caxis": {
            "gridcolor": "white",
            "linecolor": "white",
            "ticks": ""
           }
          },
          "title": {
           "x": 0.05
          },
          "xaxis": {
           "automargin": true,
           "gridcolor": "white",
           "linecolor": "white",
           "ticks": "",
           "title": {
            "standoff": 15
           },
           "zerolinecolor": "white",
           "zerolinewidth": 2
          },
          "yaxis": {
           "automargin": true,
           "gridcolor": "white",
           "linecolor": "white",
           "ticks": "",
           "title": {
            "standoff": 15
           },
           "zerolinecolor": "white",
           "zerolinewidth": 2
          }
         }
        },
        "xaxis": {
         "anchor": "y",
         "domain": [
          0,
          1
         ],
         "title": {
          "text": "cluster"
         }
        },
        "yaxis": {
         "anchor": "x",
         "domain": [
          0,
          1
         ],
         "title": {
          "text": "price"
         }
        }
       }
      }
     },
     "metadata": {},
     "output_type": "display_data"
    }
   ],
   "source": [
    "# Cruzamento entre brand e price, apresentando os clusters\n",
    "px.scatter(df_laptops, x='cluster', y='price', color='brand')"
   ]
  },
  {
   "cell_type": "code",
   "execution_count": 41,
   "metadata": {},
   "outputs": [
    {
     "data": {
      "application/vnd.plotly.v1+json": {
       "config": {
        "plotlyServerURL": "https://plot.ly"
       },
       "data": [
        {
         "hovertemplate": "brand=%{x}<br>rating=%{y}<br>cluster=%{marker.color}<extra></extra>",
         "legendgroup": "",
         "marker": {
          "color": [
           73,
           44,
           28,
           53,
           14,
           113,
           4,
           19,
           95,
           83,
           91,
           54,
           7,
           37,
           4,
           24,
           107,
           20,
           32,
           8,
           35,
           14,
           142,
           15,
           74,
           47,
           72,
           89,
           84,
           21,
           15,
           107,
           148,
           64,
           113,
           80,
           25,
           4,
           84,
           3,
           131,
           38,
           28,
           72,
           38,
           80,
           89,
           29,
           7,
           57,
           74,
           49,
           32,
           11,
           121,
           89,
           27,
           43,
           5,
           31,
           114,
           52,
           46,
           30,
           3,
           38,
           38,
           88,
           74,
           5,
           60,
           15,
           47,
           19,
           11,
           13,
           31,
           105,
           39,
           20,
           46,
           135,
           82,
           14,
           20,
           14,
           11,
           7,
           39,
           132,
           26,
           11,
           31,
           31,
           114,
           82,
           3,
           44,
           85,
           11,
           86,
           135,
           28,
           19,
           111,
           4,
           147,
           129,
           49,
           83,
           129,
           47,
           122,
           130,
           115,
           64,
           99,
           30,
           30,
           16,
           139,
           139,
           146,
           137,
           132,
           73,
           122,
           131,
           93,
           148,
           37,
           46,
           74,
           113,
           31,
           64,
           1,
           14,
           82,
           104,
           6,
           101,
           101,
           103,
           88,
           27,
           91,
           19,
           121,
           42,
           136,
           4,
           17,
           39,
           49,
           6,
           95,
           4,
           25,
           49,
           5,
           50,
           96,
           19,
           109,
           13,
           35,
           47,
           100,
           2,
           39,
           64,
           104,
           3,
           20,
           132,
           53,
           8,
           8,
           21,
           53,
           25,
           19,
           21,
           72,
           128,
           111,
           111,
           111,
           127,
           38,
           24,
           60,
           13,
           3,
           133,
           20,
           89,
           46,
           121,
           107,
           102,
           3,
           3,
           19,
           31,
           84,
           53,
           7,
           75,
           46,
           11,
           89,
           88,
           89,
           49,
           107,
           89,
           28,
           31,
           37,
           47,
           97,
           23,
           78,
           78,
           10,
           15,
           4,
           7,
           95,
           84,
           3,
           43,
           25,
           10,
           7,
           139,
           62,
           52,
           40,
           93,
           9,
           48,
           82,
           28,
           18,
           18,
           137,
           21,
           57,
           33,
           37,
           147,
           37,
           15,
           107,
           74,
           32,
           74,
           28,
           38,
           95,
           9,
           9,
           126,
           94,
           9,
           17,
           59,
           11,
           84,
           17,
           73,
           114,
           113,
           113,
           15,
           105,
           135,
           45,
           54,
           57,
           8,
           63,
           48,
           56,
           138,
           89,
           109,
           48,
           22,
           78,
           64,
           107,
           0,
           75,
           112,
           90,
           14,
           71,
           0,
           21,
           107,
           102,
           121,
           65,
           5,
           5,
           75,
           91,
           90,
           94,
           66,
           137,
           44,
           22,
           49,
           46,
           33,
           33,
           124,
           119,
           119,
           61,
           2,
           50,
           33,
           114,
           50,
           2,
           66,
           88,
           13,
           72,
           112,
           95,
           44,
           90,
           38,
           29,
           77,
           53,
           116,
           65,
           70,
           72,
           96,
           27,
           20,
           62,
           48,
           116,
           67,
           14,
           38,
           82,
           14,
           3,
           148,
           41,
           50,
           61,
           124,
           85,
           120,
           91,
           50,
           65,
           29,
           33,
           49,
           60,
           47,
           130,
           39,
           135,
           33,
           86,
           24,
           1,
           30,
           59,
           43,
           5,
           51,
           27,
           50,
           148,
           105,
           43,
           15,
           2,
           51,
           14,
           65,
           95,
           51,
           17,
           29,
           17,
           51,
           92,
           14,
           81,
           51,
           82,
           69,
           127,
           44,
           47,
           14,
           148,
           25,
           36,
           91,
           46,
           68,
           68,
           14,
           50,
           50,
           82,
           91,
           35,
           107,
           15,
           4,
           48,
           146,
           15,
           107,
           102,
           26,
           20,
           112,
           82,
           62,
           43,
           73,
           25,
           42,
           4,
           148,
           4,
           68,
           62,
           77,
           89,
           99,
           5,
           92,
           114,
           28,
           148,
           9,
           111,
           0,
           61,
           139,
           92,
           132,
           137,
           16,
           9,
           116,
           4,
           31,
           25,
           16,
           73,
           51,
           4,
           96,
           96,
           62,
           41,
           25,
           107,
           20,
           82,
           42,
           47,
           130,
           10,
           3,
           2,
           2,
           2,
           93,
           41,
           2,
           122,
           107,
           3,
           0,
           51,
           9,
           62,
           14,
           147,
           75,
           3,
           3,
           3,
           7,
           82,
           7,
           106,
           106,
           93,
           85,
           48,
           144,
           91,
           5,
           3,
           11,
           110,
           139,
           30,
           148,
           26,
           85,
           5,
           8,
           56,
           128,
           73,
           51,
           53,
           4,
           63,
           91,
           128,
           51,
           76,
           102,
           76,
           63,
           134,
           65,
           32,
           5,
           65,
           51,
           10,
           21,
           7,
           87,
           27,
           87,
           19,
           7,
           7,
           87,
           30,
           38,
           73,
           29,
           30,
           28,
           56,
           93,
           62,
           13,
           147,
           38,
           3,
           85,
           78,
           85,
           27,
           28,
           91,
           51,
           74,
           111,
           9,
           111,
           73,
           114,
           31,
           29,
           114,
           10,
           114,
           32,
           66,
           30,
           130,
           136,
           58,
           126,
           76,
           99,
           76,
           93,
           70,
           53,
           128,
           143,
           18,
           29,
           23,
           49,
           10,
           97,
           125,
           42,
           62,
           3,
           3,
           62,
           4,
           14,
           85,
           27,
           54,
           108,
           32,
           62,
           130,
           36,
           85,
           20,
           9,
           38,
           4,
           16,
           38,
           79,
           37,
           10,
           105,
           145,
           36,
           54,
           47,
           31,
           124,
           35,
           134,
           5,
           133,
           0,
           50,
           7,
           14,
           39,
           19,
           31,
           3,
           70,
           31,
           57,
           82,
           84,
           84,
           121,
           121,
           121,
           84,
           48,
           18,
           15,
           63,
           13,
           134,
           114,
           62,
           146,
           146,
           9,
           49,
           50,
           72,
           102,
           84,
           48,
           56,
           18,
           25,
           3,
           79,
           94,
           21,
           132,
           50,
           73,
           111,
           94,
           48,
           7,
           67,
           91,
           102,
           0,
           90,
           137,
           102,
           136,
           14,
           56,
           137,
           69,
           11,
           71,
           23,
           69,
           23,
           46,
           19,
           15,
           23,
           69,
           41,
           80,
           0,
           19,
           12,
           117,
           90,
           9,
           37,
           13,
           72,
           5,
           66,
           18,
           124,
           102,
           14,
           97,
           0,
           121,
           14,
           85,
           123,
           40,
           74,
           47,
           14,
           46,
           82,
           0,
           146,
           14,
           0,
           52,
           4,
           19,
           70,
           15,
           35,
           27,
           55,
           94,
           94,
           127,
           91,
           46,
           94,
           94,
           65,
           66,
           32,
           4,
           65,
           57,
           84,
           28,
           64,
           67,
           56,
           32,
           106,
           122,
           21,
           106,
           16,
           11,
           86,
           80,
           137,
           84,
           137,
           78,
           80,
           80,
           122,
           46,
           53,
           107,
           33,
           9,
           93,
           98,
           17,
           30,
           34,
           23,
           10,
           17,
           4,
           20,
           85,
           34,
           79,
           23,
           37,
           146,
           123,
           10,
           31,
           3,
           38,
           59,
           140,
           34,
           27,
           135,
           84,
           21,
           19,
           18,
           139,
           135,
           52,
           21,
           10,
           55,
           97,
           27,
           129,
           27,
           123,
           9,
           84,
           21,
           4,
           135,
           50,
           114,
           89,
           12,
           95,
           12,
           105,
           147,
           59,
           95,
           59,
           95,
           135,
           11,
           42,
           109,
           127,
           16,
           91,
           93,
           140,
           46,
           147,
           57,
           130,
           17,
           21,
           89,
           13,
           13,
           129,
           30,
           46,
           95,
           13,
           31,
           46,
           38,
           9,
           11,
           16,
           93,
           17,
           1,
           56,
           15,
           7,
           21,
           32,
           55,
           32,
           55,
           97,
           25,
           1,
           27,
           21,
           31,
           31,
           6,
           31,
           56,
           56,
           13,
           31,
           13,
           13,
           31,
           31,
           93,
           102,
           9,
           93,
           61,
           57,
           66,
           41,
           15,
           69,
           40,
           58,
           66,
           147,
           130,
           137,
           56,
           78,
           29,
           67,
           71,
           14,
           14,
           96,
           132,
           64,
           147,
           94,
           136,
           73,
           147,
           82,
           75,
           80,
           141,
           147,
           41,
           10,
           45,
           67,
           115,
           118,
           36,
           67,
           139,
           75,
           55,
           48,
           18,
           25,
           57,
           45,
           47,
           0,
           53,
           110,
           21,
           136,
           48,
           85,
           52,
           110,
           11,
           107,
           53,
           29,
           53,
           0,
           58,
           57,
           21,
           86,
           116,
           37,
           11,
           85,
           7,
           64,
           115,
           36
          ],
          "coloraxis": "coloraxis",
          "symbol": "circle"
         },
         "mode": "markers",
         "name": "",
         "orientation": "v",
         "showlegend": false,
         "type": "scatter",
         "x": [
          "tecno",
          "tecno",
          "hp",
          "acer",
          "lenovo",
          "apple",
          "infinix",
          "asus",
          "hp",
          "infinix",
          "dell",
          "samsung",
          "msi",
          "asus",
          "lenovo",
          "hp",
          "lenovo",
          "asus",
          "hp",
          "wings",
          "hp",
          "lenovo",
          "apple",
          "asus",
          "asus",
          "acer",
          "hp",
          "ultimus",
          "hp",
          "msi",
          "samsung",
          "samsung",
          "lenovo",
          "asus",
          "apple",
          "dell",
          "acer",
          "acer",
          "hp",
          "asus",
          "asus",
          "hp",
          "hp",
          "hp",
          "hp",
          "dell",
          "msi",
          "asus",
          "msi",
          "dell",
          "infinix",
          "acer",
          "hp",
          "hp",
          "hp",
          "infinix",
          "hp",
          "asus",
          "dell",
          "asus",
          "lenovo",
          "dell",
          "asus",
          "asus",
          "asus",
          "hp",
          "hp",
          "apple",
          "infinix",
          "hp",
          "primebook",
          "dell",
          "acer",
          "hp",
          "hp",
          "asus",
          "asus",
          "iball",
          "ultimus",
          "dell",
          "asus",
          "hp",
          "lenovo",
          "lenovo",
          "hp",
          "lenovo",
          "hp",
          "msi",
          "ultimus",
          "lenovo",
          "msi",
          "msi",
          "asus",
          "asus",
          "lenovo",
          "lenovo",
          "asus",
          "infinix",
          "asus",
          "hp",
          "lenovo",
          "hp",
          "hp",
          "asus",
          "lenovo",
          "msi",
          "acer",
          "asus",
          "acer",
          "infinix",
          "asus",
          "acer",
          "asus",
          "acer",
          "asus",
          "hp",
          "asus",
          "acer",
          "acer",
          "hp",
          "hp",
          "hp",
          "lenovo",
          "acer",
          "lenovo",
          "hp",
          "dell",
          "asus",
          "asus",
          "lenovo",
          "asus",
          "acer",
          "asus",
          "apple",
          "asus",
          "hp",
          "hp",
          "lenovo",
          "lenovo",
          "dell",
          "hp",
          "apple",
          "apple",
          "apple",
          "apple",
          "lenovo",
          "dell",
          "hp",
          "hp",
          "dell",
          "acer",
          "asus",
          "lenovo",
          "ultimus",
          "zebronics",
          "hp",
          "hp",
          "zebronics",
          "zebronics",
          "zebronics",
          "hp",
          "lenovo",
          "asus",
          "hp",
          "chuwi",
          "acer",
          "hp",
          "gigabyte",
          "asus",
          "asus",
          "lenovo",
          "hp",
          "acer",
          "asus",
          "hp",
          "lenovo",
          "msi",
          "wings",
          "wings",
          "msi",
          "infinix",
          "hp",
          "msi",
          "msi",
          "hp",
          "lenovo",
          "lenovo",
          "lenovo",
          "lenovo",
          "hp",
          "hp",
          "hp",
          "jio",
          "asus",
          "asus",
          "hp",
          "dell",
          "chuwi",
          "msi",
          "hp",
          "infinix",
          "dell",
          "asus",
          "asus",
          "asus",
          "asus",
          "hp",
          "msi",
          "msi",
          "lenovo",
          "msi",
          "asus",
          "asus",
          "apple",
          "infinix",
          "acer",
          "dell",
          "acer",
          "hp",
          "asus",
          "asus",
          "acer",
          "acer",
          "asus",
          "asus",
          "asus",
          "asus",
          "asus",
          "hp",
          "msi",
          "hp",
          "hp",
          "asus",
          "asus",
          "hp",
          "acer",
          "msi",
          "hp",
          "asus",
          "asus",
          "asus",
          "asus",
          "honor",
          "lenovo",
          "lenovo",
          "hp",
          "dell",
          "msi",
          "acer",
          "msi",
          "hp",
          "acer",
          "asus",
          "asus",
          "asus",
          "samsung",
          "samsung",
          "infinix",
          "hp",
          "asus",
          "hp",
          "hp",
          "hp",
          "hp",
          "hp",
          "hp",
          "dell",
          "asus",
          "lenovo",
          "msi",
          "hp",
          "hp",
          "asus",
          "hp",
          "lenovo",
          "apple",
          "apple",
          "samsung",
          "lenovo",
          "hp",
          "hp",
          "samsung",
          "hp",
          "realme",
          "dell",
          "avita",
          "hp",
          "dell",
          "chuwi",
          "chuwi",
          "avita",
          "lenovo",
          "dell",
          "hp",
          "lenovo",
          "lenovo",
          "hp",
          "hp",
          "lenovo",
          "lenovo",
          "lenovo",
          "lenovo",
          "msi",
          "lenovo",
          "dell",
          "hp",
          "dell",
          "lenovo",
          "lenovo",
          "hp",
          "dell",
          "lenovo",
          "dell",
          "lenovo",
          "acer",
          "acer",
          "lenovo",
          "avita",
          "acer",
          "acer",
          "acer",
          "avita",
          "apple",
          "apple",
          "lenovo",
          "asus",
          "lenovo",
          "acer",
          "lenovo",
          "lenovo",
          "asus",
          "avita",
          "apple",
          "hp",
          "hp",
          "hp",
          "hp",
          "acer",
          "lenovo",
          "hp",
          "lenovo",
          "microsoft",
          "acer",
          "acer",
          "dell",
          "lenovo",
          "hp",
          "asus",
          "msi",
          "dell",
          "lenovo",
          "asus",
          "asus",
          "lenovo",
          "lenovo",
          "hp",
          "lenovo",
          "lenovo",
          "asus",
          "lenovo",
          "hp",
          "lenovo",
          "lenovo",
          "asus",
          "asus",
          "acer",
          "dell",
          "lenovo",
          "dell",
          "hp",
          "zebronics",
          "zebronics",
          "primebook",
          "acer",
          "acer",
          "ultimus",
          "hp",
          "zebronics",
          "hp",
          "hp",
          "hp",
          "hp",
          "hp",
          "asus",
          "lenovo",
          "lenovo",
          "lenovo",
          "lenovo",
          "lenovo",
          "asus",
          "asus",
          "asus",
          "asus",
          "lenovo",
          "lenovo",
          "dell",
          "hp",
          "lenovo",
          "lenovo",
          "lenovo",
          "lenovo",
          "lenovo",
          "lenovo",
          "lenovo",
          "msi",
          "lenovo",
          "lenovo",
          "msi",
          "hp",
          "acer",
          "acer",
          "lenovo",
          "lenovo",
          "asus",
          "acer",
          "dell",
          "hp",
          "asus",
          "asus",
          "lenovo",
          "lenovo",
          "lenovo",
          "lenovo",
          "dell",
          "lenovo",
          "dell",
          "dell",
          "acer",
          "lenovo",
          "lenovo",
          "dell",
          "lenovo",
          "dell",
          "msi",
          "asus",
          "hp",
          "lenovo",
          "lenovo",
          "asus",
          "lenovo",
          "hp",
          "dell",
          "lenovo",
          "lenovo",
          "acer",
          "lenovo",
          "lenovo",
          "microsoft",
          "ultimus",
          "lenovo",
          "dell",
          "lenovo",
          "lenovo",
          "hp",
          "lenovo",
          "hp",
          "lenovo",
          "lenovo",
          "lenovo",
          "hp",
          "lenovo",
          "lenovo",
          "acer",
          "asus",
          "fujitsu",
          "asus",
          "asus",
          "asus",
          "hp",
          "hp",
          "lenovo",
          "lenovo",
          "lenovo",
          "asus",
          "asus",
          "lenovo",
          "hp",
          "lenovo",
          "lenovo",
          "asus",
          "lenovo",
          "dell",
          "acer",
          "acer",
          "asus",
          "asus",
          "asus",
          "asus",
          "asus",
          "asus",
          "hp",
          "asus",
          "gigabyte",
          "lenovo",
          "asus",
          "lenovo",
          "lenovo",
          "fujitsu",
          "lenovo",
          "lenovo",
          "lenovo",
          "lenovo",
          "asus",
          "asus",
          "asus",
          "msi",
          "lenovo",
          "msi",
          "acer",
          "acer",
          "asus",
          "asus",
          "asus",
          "hp",
          "dell",
          "dell",
          "asus",
          "hp",
          "fujitsu",
          "hp",
          "hp",
          "lenovo",
          "dell",
          "asus",
          "lenovo",
          "wings",
          "acer",
          "lenovo",
          "lenovo",
          "lenovo",
          "infinix",
          "lenovo",
          "dell",
          "dell",
          "lenovo",
          "lenovo",
          "dell",
          "dell",
          "dell",
          "dell",
          "dell",
          "dell",
          "hp",
          "dell",
          "dell",
          "lenovo",
          "asus",
          "msi",
          "msi",
          "msi",
          "msi",
          "msi",
          "msi",
          "msi",
          "msi",
          "msi",
          "hp",
          "hp",
          "lenovo",
          "hp",
          "hp",
          "hp",
          "asus",
          "asus",
          "lenovo",
          "hp",
          "lenovo",
          "hp",
          "asus",
          "asus",
          "acer",
          "asus",
          "msi",
          "hp",
          "dell",
          "lenovo",
          "asus",
          "lenovo",
          "hp",
          "lenovo",
          "hp",
          "lenovo",
          "asus",
          "msi",
          "lenovo",
          "hp",
          "lenovo",
          "hp",
          "asus",
          "hp",
          "acer",
          "acer",
          "lenovo",
          "hp",
          "dell",
          "dell",
          "dell",
          "asus",
          "dell",
          "msi",
          "lenovo",
          "dell",
          "dell",
          "dell",
          "dell",
          "msi",
          "msi",
          "msi",
          "dell",
          "hp",
          "lenovo",
          "asus",
          "asus",
          "lenovo",
          "hp",
          "lenovo",
          "asus",
          "asus",
          "lg",
          "dell",
          "acer",
          "lenovo",
          "acer",
          "hp",
          "asus",
          "hp",
          "fujitsu",
          "hp",
          "acer",
          "hp",
          "hp",
          "asus",
          "lg",
          "hp",
          "lenovo",
          "lg",
          "hp",
          "lg",
          "acer",
          "asus",
          "walker",
          "hp",
          "dell",
          "dell",
          "hp",
          "lenovo",
          "lenovo",
          "msi",
          "lenovo",
          "lenovo",
          "msi",
          "asus",
          "asus",
          "lenovo",
          "asus",
          "lenovo",
          "lenovo",
          "hp",
          "hp",
          "hp",
          "hp",
          "hp",
          "hp",
          "hp",
          "hp",
          "asus",
          "dell",
          "hp",
          "dell",
          "lenovo",
          "lenovo",
          "lenovo",
          "lenovo",
          "hp",
          "acer",
          "lenovo",
          "hp",
          "dell",
          "hp",
          "hp",
          "hp",
          "hp",
          "hp",
          "asus",
          "asus",
          "dell",
          "asus",
          "lenovo",
          "lenovo",
          "lenovo",
          "lenovo",
          "dell",
          "hp",
          "msi",
          "lenovo",
          "dell",
          "dell",
          "lenovo",
          "lenovo",
          "acer",
          "dell",
          "acer",
          "lenovo",
          "hp",
          "acer",
          "msi",
          "msi",
          "dell",
          "msi",
          "msi",
          "msi",
          "acer",
          "msi",
          "asus",
          "msi",
          "msi",
          "hp",
          "dell",
          "msi",
          "msi",
          "dell",
          "dell",
          "lenovo",
          "lenovo",
          "lg",
          "lg",
          "hp",
          "lenovo",
          "axl",
          "msi",
          "axl",
          "dell",
          "lenovo",
          "asus",
          "lenovo",
          "hp",
          "lenovo",
          "asus",
          "dell",
          "asus",
          "asus",
          "acer",
          "lenovo",
          "lenovo",
          "lenovo",
          "lenovo",
          "lenovo",
          "lenovo",
          "lenovo",
          "dell",
          "lenovo",
          "hp",
          "lenovo",
          "dell",
          "hp",
          "dell",
          "dell",
          "dell",
          "dell",
          "hp",
          "dell",
          "infinix",
          "dell",
          "dell",
          "dell",
          "asus",
          "hp",
          "asus",
          "dell",
          "hp",
          "hp",
          "hp",
          "asus",
          "lenovo",
          "hp",
          "hp",
          "acer",
          "msi",
          "msi",
          "acer",
          "hp",
          "hp",
          "asus",
          "dell",
          "acer",
          "hp",
          "dell",
          "dell",
          "dell",
          "dell",
          "dell",
          "acer",
          "acer",
          "acer",
          "acer",
          "hp",
          "asus",
          "msi",
          "asus",
          "asus",
          "asus",
          "asus",
          "asus",
          "asus",
          "lenovo",
          "asus",
          "asus",
          "asus",
          "asus",
          "asus",
          "asus",
          "lenovo",
          "asus",
          "asus",
          "asus",
          "asus",
          "hp",
          "acer",
          "asus",
          "dell",
          "dell",
          "hp",
          "hp",
          "msi",
          "msi",
          "acer",
          "hp",
          "hp",
          "asus",
          "msi",
          "asus",
          "msi",
          "asus",
          "acer",
          "asus",
          "asus",
          "asus",
          "hp",
          "hp",
          "msi",
          "asus",
          "hp",
          "lenovo",
          "lenovo",
          "acer",
          "dell",
          "hp",
          "dell",
          "acer",
          "hp",
          "acer",
          "hp",
          "acer",
          "hp",
          "hp",
          "hp",
          "hp",
          "realme",
          "hp",
          "asus",
          "dell",
          "asus",
          "asus",
          "dell",
          "asus",
          "dell",
          "acer",
          "acer",
          "msi",
          "asus",
          "asus",
          "asus",
          "asus",
          "hp",
          "msi",
          "hp",
          "asus",
          "asus",
          "msi",
          "hp",
          "asus",
          "hp",
          "hp",
          "asus",
          "hp",
          "msi",
          "asus",
          "asus",
          "msi",
          "msi",
          "acer",
          "acer",
          "acer",
          "msi",
          "lenovo",
          "asus",
          "msi",
          "msi",
          "msi",
          "asus",
          "asus",
          "hp",
          "asus",
          "asus",
          "asus",
          "asus",
          "asus",
          "asus",
          "asus",
          "asus",
          "asus",
          "asus",
          "dell",
          "asus",
          "asus",
          "asus",
          "asus",
          "lenovo",
          "hp",
          "dell",
          "msi",
          "hp",
          "hp",
          "lenovo",
          "honor",
          "acer",
          "acer",
          "acer",
          "acer",
          "acer",
          "lenovo",
          "lenovo",
          "lenovo",
          "lenovo",
          "asus",
          "fujitsu",
          "hp",
          "msi",
          "dell",
          "acer",
          "lenovo",
          "msi",
          "lenovo",
          "lenovo",
          "dell",
          "lenovo",
          "asus",
          "hp",
          "lenovo",
          "hp",
          "lenovo",
          "asus",
          "hp",
          "hp",
          "lenovo",
          "hp",
          "lenovo",
          "asus",
          "asus",
          "asus",
          "lenovo",
          "msi",
          "hp",
          "acer",
          "msi",
          "msi",
          "msi",
          "msi",
          "acer",
          "asus",
          "asus",
          "lg",
          "msi",
          "acer",
          "msi",
          "msi",
          "asus",
          "msi",
          "msi",
          "hp",
          "asus",
          "msi",
          "asus",
          "asus",
          "asus",
          "acer",
          "asus",
          "msi",
          "asus",
          "asus",
          "hp"
         ],
         "xaxis": "x",
         "y": [
          63,
          67,
          73,
          62,
          62,
          45,
          56,
          70,
          60,
          71,
          60,
          68,
          71,
          71,
          66,
          85,
          59,
          76,
          71,
          56,
          49,
          59,
          65,
          57,
          57,
          63,
          77,
          54,
          66,
          76,
          59,
          62,
          71,
          65,
          48,
          66,
          64,
          60,
          62,
          72,
          77,
          71,
          71,
          80,
          71,
          71,
          58,
          83,
          70,
          66,
          54,
          58,
          76,
          70,
          63,
          50,
          80,
          75,
          66,
          67,
          69,
          70,
          64,
          78,
          72,
          72,
          65,
          53,
          53,
          70,
          26,
          60,
          71,
          70,
          70,
          62,
          64,
          41,
          46,
          72,
          57,
          54,
          51,
          66,
          72,
          47,
          70,
          65,
          41,
          70,
          75,
          65,
          63,
          71,
          63,
          59,
          70,
          60,
          70,
          67,
          80,
          57,
          62,
          66,
          70,
          63,
          60,
          75,
          62,
          63,
          72,
          72,
          72,
          67,
          64,
          62,
          88,
          75,
          70,
          58,
          54,
          52,
          66,
          49,
          64,
          60,
          74,
          79,
          60,
          67,
          65,
          64,
          56,
          43,
          70,
          60,
          82,
          60,
          64,
          78,
          76,
          63,
          64,
          58,
          56,
          77,
          59,
          64,
          58,
          53,
          54,
          62,
          83,
          45,
          65,
          76,
          59,
          63,
          72,
          56,
          67,
          60,
          71,
          66,
          50,
          64,
          49,
          67,
          69,
          35,
          50,
          56,
          78,
          71,
          76,
          64,
          60,
          58,
          49,
          73,
          56,
          63,
          65,
          73,
          76,
          62,
          69,
          63,
          67,
          63,
          75,
          85,
          24,
          65,
          76,
          70,
          73,
          50,
          62,
          63,
          57,
          63,
          77,
          76,
          70,
          66,
          66,
          65,
          72,
          53,
          62,
          60,
          59,
          56,
          57,
          57,
          62,
          59,
          65,
          64,
          58,
          70,
          67,
          80,
          77,
          79,
          78,
          64,
          65,
          73,
          59,
          57,
          67,
          64,
          69,
          75,
          69,
          54,
          70,
          65,
          71,
          59,
          66,
          53,
          53,
          67,
          68,
          62,
          49,
          79,
          68,
          67,
          65,
          60,
          65,
          56,
          60,
          52,
          69,
          50,
          67,
          73,
          62,
          71,
          64,
          39,
          62,
          73,
          78,
          78,
          71,
          54,
          85,
          58,
          74,
          45,
          45,
          59,
          49,
          62,
          52,
          68,
          64,
          52,
          56,
          56,
          56,
          67,
          50,
          54,
          50,
          64,
          80,
          64,
          57,
          58,
          51,
          58,
          62,
          50,
          58,
          62,
          69,
          66,
          53,
          62,
          58,
          57,
          60,
          52,
          49,
          63,
          59,
          51,
          47,
          64,
          64,
          51,
          64,
          64,
          62,
          41,
          53,
          58,
          67,
          37,
          66,
          63,
          75,
          65,
          44,
          43,
          51,
          70,
          78,
          69,
          57,
          63,
          57,
          77,
          86,
          58,
          56,
          62,
          64,
          70,
          76,
          67,
          80,
          75,
          69,
          58,
          65,
          54,
          53,
          72,
          57,
          56,
          69,
          69,
          60,
          67,
          75,
          45,
          63,
          38,
          58,
          63,
          57,
          88,
          66,
          60,
          31,
          65,
          62,
          47,
          62,
          72,
          70,
          85,
          88,
          79,
          78,
          70,
          58,
          57,
          63,
          65,
          69,
          38,
          66,
          51,
          38,
          64,
          56,
          53,
          57,
          58,
          84,
          85,
          78,
          58,
          77,
          57,
          89,
          65,
          57,
          70,
          47,
          67,
          65,
          57,
          67,
          73,
          38,
          53,
          70,
          58,
          62,
          58,
          60,
          62,
          51,
          57,
          46,
          57,
          56,
          58,
          51,
          63,
          57,
          64,
          56,
          83,
          70,
          64,
          43,
          69,
          71,
          58,
          75,
          57,
          59,
          65,
          62,
          71,
          63,
          60,
          52,
          89,
          62,
          83,
          79,
          67,
          67,
          70,
          66,
          56,
          65,
          57,
          83,
          69,
          50,
          43,
          67,
          67,
          59,
          60,
          59,
          51,
          52,
          58,
          60,
          64,
          63,
          62,
          58,
          58,
          58,
          73,
          53,
          53,
          72,
          70,
          64,
          72,
          37,
          41,
          37,
          57,
          62,
          37,
          73,
          63,
          72,
          58,
          59,
          65,
          69,
          58,
          60,
          56,
          65,
          66,
          70,
          71,
          65,
          76,
          63,
          60,
          57,
          62,
          56,
          78,
          58,
          57,
          69,
          63,
          76,
          51,
          70,
          64,
          78,
          63,
          60,
          51,
          45,
          60,
          60,
          62,
          57,
          65,
          56,
          58,
          64,
          62,
          63,
          58,
          62,
          54,
          59,
          57,
          71,
          60,
          63,
          60,
          76,
          76,
          77,
          79,
          76,
          77,
          69,
          71,
          70,
          83,
          72,
          71,
          59,
          86,
          75,
          67,
          59,
          57,
          64,
          67,
          58,
          72,
          72,
          66,
          79,
          72,
          73,
          70,
          58,
          60,
          54,
          72,
          67,
          71,
          60,
          73,
          64,
          89,
          73,
          77,
          75,
          73,
          45,
          77,
          65,
          58,
          73,
          44,
          60,
          85,
          63,
          57,
          65,
          63,
          63,
          83,
          65,
          85,
          80,
          58,
          77,
          71,
          83,
          56,
          69,
          72,
          75,
          72,
          57,
          57,
          70,
          82,
          67,
          89,
          80,
          69,
          59,
          44,
          72,
          69,
          73,
          69,
          64,
          46,
          67,
          71,
          72,
          80,
          38,
          78,
          38,
          69,
          70,
          65,
          37,
          52,
          60,
          63,
          73,
          62,
          65,
          65,
          59,
          50,
          67,
          60,
          75,
          70,
          64,
          62,
          58,
          66,
          66,
          66,
          70,
          66,
          72,
          57,
          60,
          60,
          60,
          71,
          56,
          69,
          64,
          67,
          66,
          69,
          59,
          67,
          71,
          53,
          69,
          58,
          53,
          60,
          70,
          72,
          83,
          56,
          71,
          64,
          67,
          59,
          70,
          67,
          58,
          78,
          57,
          58,
          52,
          62,
          62,
          50,
          60,
          57,
          57,
          62,
          50,
          67,
          65,
          60,
          78,
          69,
          77,
          60,
          66,
          59,
          77,
          75,
          63,
          70,
          63,
          70,
          88,
          82,
          63,
          75,
          75,
          72,
          72,
          62,
          38,
          65,
          37,
          54,
          57,
          69,
          57,
          66,
          59,
          64,
          72,
          66,
          53,
          69,
          54,
          64,
          53,
          54,
          56,
          59,
          57,
          71,
          66,
          71,
          64,
          56,
          49,
          78,
          82,
          59,
          58,
          50,
          57,
          58,
          56,
          52,
          57,
          45,
          67,
          58,
          56,
          63,
          65,
          67,
          63,
          50,
          47,
          66,
          56,
          75,
          75,
          53,
          50,
          64,
          64,
          76,
          51,
          66,
          52,
          79,
          73,
          75,
          69,
          50,
          59,
          52,
          50,
          71,
          54,
          85,
          71,
          73,
          89,
          84,
          75,
          83,
          67,
          73,
          77,
          89,
          76,
          80,
          67,
          58,
          73,
          82,
          66,
          72,
          65,
          70,
          75,
          78,
          83,
          57,
          59,
          69,
          71,
          62,
          58,
          57,
          66,
          73,
          76,
          86,
          66,
          78,
          70,
          84,
          71,
          75,
          66,
          71,
          56,
          57,
          67,
          71,
          58,
          82,
          54,
          83,
          47,
          54,
          65,
          51,
          66,
          51,
          54,
          67,
          56,
          62,
          67,
          45,
          63,
          56,
          78,
          63,
          60,
          59,
          64,
          65,
          77,
          59,
          73,
          73,
          70,
          71,
          65,
          60,
          75,
          59,
          70,
          75,
          64,
          67,
          56,
          52,
          77,
          89,
          48,
          59,
          65,
          71,
          73,
          74,
          72,
          84,
          78,
          63,
          87,
          80,
          70,
          56,
          62,
          75,
          60,
          57,
          56,
          71,
          64,
          64,
          70,
          62,
          60,
          53,
          62,
          58,
          51,
          74,
          62,
          47,
          64,
          59,
          72,
          79,
          72,
          43,
          59,
          59,
          50,
          44,
          71,
          77,
          45,
          58,
          56,
          56,
          67,
          70,
          58,
          53,
          68,
          52,
          60,
          54,
          66,
          55,
          72,
          52,
          59,
          59,
          75,
          52,
          54,
          67,
          43,
          37,
          50,
          59,
          48,
          89,
          58,
          59,
          64,
          60,
          47,
          71,
          58,
          59,
          72,
          74,
          54,
          53,
          72,
          72,
          67,
          71,
          59,
          61,
          83,
          58,
          56,
          73,
          68,
          76,
          68,
          65,
          64,
          67,
          68,
          73,
          59,
          68,
          37
         ],
         "yaxis": "y"
        }
       ],
       "layout": {
        "coloraxis": {
         "colorbar": {
          "title": {
           "text": "cluster"
          }
         },
         "colorscale": [
          [
           0,
           "#0d0887"
          ],
          [
           0.1111111111111111,
           "#46039f"
          ],
          [
           0.2222222222222222,
           "#7201a8"
          ],
          [
           0.3333333333333333,
           "#9c179e"
          ],
          [
           0.4444444444444444,
           "#bd3786"
          ],
          [
           0.5555555555555556,
           "#d8576b"
          ],
          [
           0.6666666666666666,
           "#ed7953"
          ],
          [
           0.7777777777777778,
           "#fb9f3a"
          ],
          [
           0.8888888888888888,
           "#fdca26"
          ],
          [
           1,
           "#f0f921"
          ]
         ]
        },
        "legend": {
         "tracegroupgap": 0
        },
        "margin": {
         "t": 60
        },
        "template": {
         "data": {
          "bar": [
           {
            "error_x": {
             "color": "#2a3f5f"
            },
            "error_y": {
             "color": "#2a3f5f"
            },
            "marker": {
             "line": {
              "color": "#E5ECF6",
              "width": 0.5
             },
             "pattern": {
              "fillmode": "overlay",
              "size": 10,
              "solidity": 0.2
             }
            },
            "type": "bar"
           }
          ],
          "barpolar": [
           {
            "marker": {
             "line": {
              "color": "#E5ECF6",
              "width": 0.5
             },
             "pattern": {
              "fillmode": "overlay",
              "size": 10,
              "solidity": 0.2
             }
            },
            "type": "barpolar"
           }
          ],
          "carpet": [
           {
            "aaxis": {
             "endlinecolor": "#2a3f5f",
             "gridcolor": "white",
             "linecolor": "white",
             "minorgridcolor": "white",
             "startlinecolor": "#2a3f5f"
            },
            "baxis": {
             "endlinecolor": "#2a3f5f",
             "gridcolor": "white",
             "linecolor": "white",
             "minorgridcolor": "white",
             "startlinecolor": "#2a3f5f"
            },
            "type": "carpet"
           }
          ],
          "choropleth": [
           {
            "colorbar": {
             "outlinewidth": 0,
             "ticks": ""
            },
            "type": "choropleth"
           }
          ],
          "contour": [
           {
            "colorbar": {
             "outlinewidth": 0,
             "ticks": ""
            },
            "colorscale": [
             [
              0,
              "#0d0887"
             ],
             [
              0.1111111111111111,
              "#46039f"
             ],
             [
              0.2222222222222222,
              "#7201a8"
             ],
             [
              0.3333333333333333,
              "#9c179e"
             ],
             [
              0.4444444444444444,
              "#bd3786"
             ],
             [
              0.5555555555555556,
              "#d8576b"
             ],
             [
              0.6666666666666666,
              "#ed7953"
             ],
             [
              0.7777777777777778,
              "#fb9f3a"
             ],
             [
              0.8888888888888888,
              "#fdca26"
             ],
             [
              1,
              "#f0f921"
             ]
            ],
            "type": "contour"
           }
          ],
          "contourcarpet": [
           {
            "colorbar": {
             "outlinewidth": 0,
             "ticks": ""
            },
            "type": "contourcarpet"
           }
          ],
          "heatmap": [
           {
            "colorbar": {
             "outlinewidth": 0,
             "ticks": ""
            },
            "colorscale": [
             [
              0,
              "#0d0887"
             ],
             [
              0.1111111111111111,
              "#46039f"
             ],
             [
              0.2222222222222222,
              "#7201a8"
             ],
             [
              0.3333333333333333,
              "#9c179e"
             ],
             [
              0.4444444444444444,
              "#bd3786"
             ],
             [
              0.5555555555555556,
              "#d8576b"
             ],
             [
              0.6666666666666666,
              "#ed7953"
             ],
             [
              0.7777777777777778,
              "#fb9f3a"
             ],
             [
              0.8888888888888888,
              "#fdca26"
             ],
             [
              1,
              "#f0f921"
             ]
            ],
            "type": "heatmap"
           }
          ],
          "heatmapgl": [
           {
            "colorbar": {
             "outlinewidth": 0,
             "ticks": ""
            },
            "colorscale": [
             [
              0,
              "#0d0887"
             ],
             [
              0.1111111111111111,
              "#46039f"
             ],
             [
              0.2222222222222222,
              "#7201a8"
             ],
             [
              0.3333333333333333,
              "#9c179e"
             ],
             [
              0.4444444444444444,
              "#bd3786"
             ],
             [
              0.5555555555555556,
              "#d8576b"
             ],
             [
              0.6666666666666666,
              "#ed7953"
             ],
             [
              0.7777777777777778,
              "#fb9f3a"
             ],
             [
              0.8888888888888888,
              "#fdca26"
             ],
             [
              1,
              "#f0f921"
             ]
            ],
            "type": "heatmapgl"
           }
          ],
          "histogram": [
           {
            "marker": {
             "pattern": {
              "fillmode": "overlay",
              "size": 10,
              "solidity": 0.2
             }
            },
            "type": "histogram"
           }
          ],
          "histogram2d": [
           {
            "colorbar": {
             "outlinewidth": 0,
             "ticks": ""
            },
            "colorscale": [
             [
              0,
              "#0d0887"
             ],
             [
              0.1111111111111111,
              "#46039f"
             ],
             [
              0.2222222222222222,
              "#7201a8"
             ],
             [
              0.3333333333333333,
              "#9c179e"
             ],
             [
              0.4444444444444444,
              "#bd3786"
             ],
             [
              0.5555555555555556,
              "#d8576b"
             ],
             [
              0.6666666666666666,
              "#ed7953"
             ],
             [
              0.7777777777777778,
              "#fb9f3a"
             ],
             [
              0.8888888888888888,
              "#fdca26"
             ],
             [
              1,
              "#f0f921"
             ]
            ],
            "type": "histogram2d"
           }
          ],
          "histogram2dcontour": [
           {
            "colorbar": {
             "outlinewidth": 0,
             "ticks": ""
            },
            "colorscale": [
             [
              0,
              "#0d0887"
             ],
             [
              0.1111111111111111,
              "#46039f"
             ],
             [
              0.2222222222222222,
              "#7201a8"
             ],
             [
              0.3333333333333333,
              "#9c179e"
             ],
             [
              0.4444444444444444,
              "#bd3786"
             ],
             [
              0.5555555555555556,
              "#d8576b"
             ],
             [
              0.6666666666666666,
              "#ed7953"
             ],
             [
              0.7777777777777778,
              "#fb9f3a"
             ],
             [
              0.8888888888888888,
              "#fdca26"
             ],
             [
              1,
              "#f0f921"
             ]
            ],
            "type": "histogram2dcontour"
           }
          ],
          "mesh3d": [
           {
            "colorbar": {
             "outlinewidth": 0,
             "ticks": ""
            },
            "type": "mesh3d"
           }
          ],
          "parcoords": [
           {
            "line": {
             "colorbar": {
              "outlinewidth": 0,
              "ticks": ""
             }
            },
            "type": "parcoords"
           }
          ],
          "pie": [
           {
            "automargin": true,
            "type": "pie"
           }
          ],
          "scatter": [
           {
            "fillpattern": {
             "fillmode": "overlay",
             "size": 10,
             "solidity": 0.2
            },
            "type": "scatter"
           }
          ],
          "scatter3d": [
           {
            "line": {
             "colorbar": {
              "outlinewidth": 0,
              "ticks": ""
             }
            },
            "marker": {
             "colorbar": {
              "outlinewidth": 0,
              "ticks": ""
             }
            },
            "type": "scatter3d"
           }
          ],
          "scattercarpet": [
           {
            "marker": {
             "colorbar": {
              "outlinewidth": 0,
              "ticks": ""
             }
            },
            "type": "scattercarpet"
           }
          ],
          "scattergeo": [
           {
            "marker": {
             "colorbar": {
              "outlinewidth": 0,
              "ticks": ""
             }
            },
            "type": "scattergeo"
           }
          ],
          "scattergl": [
           {
            "marker": {
             "colorbar": {
              "outlinewidth": 0,
              "ticks": ""
             }
            },
            "type": "scattergl"
           }
          ],
          "scattermapbox": [
           {
            "marker": {
             "colorbar": {
              "outlinewidth": 0,
              "ticks": ""
             }
            },
            "type": "scattermapbox"
           }
          ],
          "scatterpolar": [
           {
            "marker": {
             "colorbar": {
              "outlinewidth": 0,
              "ticks": ""
             }
            },
            "type": "scatterpolar"
           }
          ],
          "scatterpolargl": [
           {
            "marker": {
             "colorbar": {
              "outlinewidth": 0,
              "ticks": ""
             }
            },
            "type": "scatterpolargl"
           }
          ],
          "scatterternary": [
           {
            "marker": {
             "colorbar": {
              "outlinewidth": 0,
              "ticks": ""
             }
            },
            "type": "scatterternary"
           }
          ],
          "surface": [
           {
            "colorbar": {
             "outlinewidth": 0,
             "ticks": ""
            },
            "colorscale": [
             [
              0,
              "#0d0887"
             ],
             [
              0.1111111111111111,
              "#46039f"
             ],
             [
              0.2222222222222222,
              "#7201a8"
             ],
             [
              0.3333333333333333,
              "#9c179e"
             ],
             [
              0.4444444444444444,
              "#bd3786"
             ],
             [
              0.5555555555555556,
              "#d8576b"
             ],
             [
              0.6666666666666666,
              "#ed7953"
             ],
             [
              0.7777777777777778,
              "#fb9f3a"
             ],
             [
              0.8888888888888888,
              "#fdca26"
             ],
             [
              1,
              "#f0f921"
             ]
            ],
            "type": "surface"
           }
          ],
          "table": [
           {
            "cells": {
             "fill": {
              "color": "#EBF0F8"
             },
             "line": {
              "color": "white"
             }
            },
            "header": {
             "fill": {
              "color": "#C8D4E3"
             },
             "line": {
              "color": "white"
             }
            },
            "type": "table"
           }
          ]
         },
         "layout": {
          "annotationdefaults": {
           "arrowcolor": "#2a3f5f",
           "arrowhead": 0,
           "arrowwidth": 1
          },
          "autotypenumbers": "strict",
          "coloraxis": {
           "colorbar": {
            "outlinewidth": 0,
            "ticks": ""
           }
          },
          "colorscale": {
           "diverging": [
            [
             0,
             "#8e0152"
            ],
            [
             0.1,
             "#c51b7d"
            ],
            [
             0.2,
             "#de77ae"
            ],
            [
             0.3,
             "#f1b6da"
            ],
            [
             0.4,
             "#fde0ef"
            ],
            [
             0.5,
             "#f7f7f7"
            ],
            [
             0.6,
             "#e6f5d0"
            ],
            [
             0.7,
             "#b8e186"
            ],
            [
             0.8,
             "#7fbc41"
            ],
            [
             0.9,
             "#4d9221"
            ],
            [
             1,
             "#276419"
            ]
           ],
           "sequential": [
            [
             0,
             "#0d0887"
            ],
            [
             0.1111111111111111,
             "#46039f"
            ],
            [
             0.2222222222222222,
             "#7201a8"
            ],
            [
             0.3333333333333333,
             "#9c179e"
            ],
            [
             0.4444444444444444,
             "#bd3786"
            ],
            [
             0.5555555555555556,
             "#d8576b"
            ],
            [
             0.6666666666666666,
             "#ed7953"
            ],
            [
             0.7777777777777778,
             "#fb9f3a"
            ],
            [
             0.8888888888888888,
             "#fdca26"
            ],
            [
             1,
             "#f0f921"
            ]
           ],
           "sequentialminus": [
            [
             0,
             "#0d0887"
            ],
            [
             0.1111111111111111,
             "#46039f"
            ],
            [
             0.2222222222222222,
             "#7201a8"
            ],
            [
             0.3333333333333333,
             "#9c179e"
            ],
            [
             0.4444444444444444,
             "#bd3786"
            ],
            [
             0.5555555555555556,
             "#d8576b"
            ],
            [
             0.6666666666666666,
             "#ed7953"
            ],
            [
             0.7777777777777778,
             "#fb9f3a"
            ],
            [
             0.8888888888888888,
             "#fdca26"
            ],
            [
             1,
             "#f0f921"
            ]
           ]
          },
          "colorway": [
           "#636efa",
           "#EF553B",
           "#00cc96",
           "#ab63fa",
           "#FFA15A",
           "#19d3f3",
           "#FF6692",
           "#B6E880",
           "#FF97FF",
           "#FECB52"
          ],
          "font": {
           "color": "#2a3f5f"
          },
          "geo": {
           "bgcolor": "white",
           "lakecolor": "white",
           "landcolor": "#E5ECF6",
           "showlakes": true,
           "showland": true,
           "subunitcolor": "white"
          },
          "hoverlabel": {
           "align": "left"
          },
          "hovermode": "closest",
          "mapbox": {
           "style": "light"
          },
          "paper_bgcolor": "white",
          "plot_bgcolor": "#E5ECF6",
          "polar": {
           "angularaxis": {
            "gridcolor": "white",
            "linecolor": "white",
            "ticks": ""
           },
           "bgcolor": "#E5ECF6",
           "radialaxis": {
            "gridcolor": "white",
            "linecolor": "white",
            "ticks": ""
           }
          },
          "scene": {
           "xaxis": {
            "backgroundcolor": "#E5ECF6",
            "gridcolor": "white",
            "gridwidth": 2,
            "linecolor": "white",
            "showbackground": true,
            "ticks": "",
            "zerolinecolor": "white"
           },
           "yaxis": {
            "backgroundcolor": "#E5ECF6",
            "gridcolor": "white",
            "gridwidth": 2,
            "linecolor": "white",
            "showbackground": true,
            "ticks": "",
            "zerolinecolor": "white"
           },
           "zaxis": {
            "backgroundcolor": "#E5ECF6",
            "gridcolor": "white",
            "gridwidth": 2,
            "linecolor": "white",
            "showbackground": true,
            "ticks": "",
            "zerolinecolor": "white"
           }
          },
          "shapedefaults": {
           "line": {
            "color": "#2a3f5f"
           }
          },
          "ternary": {
           "aaxis": {
            "gridcolor": "white",
            "linecolor": "white",
            "ticks": ""
           },
           "baxis": {
            "gridcolor": "white",
            "linecolor": "white",
            "ticks": ""
           },
           "bgcolor": "#E5ECF6",
           "caxis": {
            "gridcolor": "white",
            "linecolor": "white",
            "ticks": ""
           }
          },
          "title": {
           "x": 0.05
          },
          "xaxis": {
           "automargin": true,
           "gridcolor": "white",
           "linecolor": "white",
           "ticks": "",
           "title": {
            "standoff": 15
           },
           "zerolinecolor": "white",
           "zerolinewidth": 2
          },
          "yaxis": {
           "automargin": true,
           "gridcolor": "white",
           "linecolor": "white",
           "ticks": "",
           "title": {
            "standoff": 15
           },
           "zerolinecolor": "white",
           "zerolinewidth": 2
          }
         }
        },
        "xaxis": {
         "anchor": "y",
         "domain": [
          0,
          1
         ],
         "title": {
          "text": "brand"
         }
        },
        "yaxis": {
         "anchor": "x",
         "domain": [
          0,
          1
         ],
         "title": {
          "text": "rating"
         }
        }
       }
      }
     },
     "metadata": {},
     "output_type": "display_data"
    }
   ],
   "source": [
    "# Cruzamento entre brand e rating, apresentando os clusters\n",
    "px.scatter(df_laptops, x='brand', y='rating', color='cluster')"
   ]
  },
  {
   "cell_type": "code",
   "execution_count": 42,
   "metadata": {},
   "outputs": [
    {
     "data": {
      "application/vnd.plotly.v1+json": {
       "config": {
        "plotlyServerURL": "https://plot.ly"
       },
       "data": [
        {
         "hovertemplate": "brand=tecno<br>cluster=%{x}<br>rating=%{y}<extra></extra>",
         "legendgroup": "tecno",
         "marker": {
          "color": "#636efa",
          "symbol": "circle"
         },
         "mode": "markers",
         "name": "tecno",
         "orientation": "v",
         "showlegend": true,
         "type": "scatter",
         "x": [
          73,
          44
         ],
         "xaxis": "x",
         "y": [
          63,
          67
         ],
         "yaxis": "y"
        },
        {
         "hovertemplate": "brand=hp<br>cluster=%{x}<br>rating=%{y}<extra></extra>",
         "legendgroup": "hp",
         "marker": {
          "color": "#EF553B",
          "symbol": "circle"
         },
         "mode": "markers",
         "name": "hp",
         "orientation": "v",
         "showlegend": true,
         "type": "scatter",
         "x": [
          28,
          95,
          24,
          32,
          35,
          72,
          84,
          84,
          38,
          28,
          72,
          38,
          32,
          11,
          121,
          27,
          38,
          38,
          5,
          19,
          11,
          135,
          20,
          11,
          11,
          135,
          28,
          64,
          16,
          139,
          139,
          73,
          64,
          1,
          6,
          19,
          121,
          6,
          95,
          5,
          19,
          35,
          64,
          20,
          25,
          72,
          127,
          38,
          24,
          133,
          121,
          84,
          28,
          4,
          95,
          84,
          25,
          139,
          28,
          57,
          32,
          28,
          38,
          95,
          9,
          9,
          126,
          11,
          84,
          73,
          135,
          45,
          57,
          56,
          64,
          75,
          112,
          121,
          75,
          13,
          72,
          112,
          95,
          38,
          72,
          38,
          41,
          29,
          135,
          86,
          24,
          1,
          30,
          59,
          95,
          127,
          46,
          112,
          25,
          28,
          9,
          139,
          25,
          16,
          41,
          41,
          144,
          11,
          139,
          30,
          32,
          30,
          38,
          29,
          30,
          28,
          13,
          38,
          28,
          9,
          73,
          10,
          32,
          30,
          126,
          42,
          4,
          36,
          20,
          38,
          16,
          38,
          10,
          36,
          35,
          133,
          84,
          84,
          121,
          121,
          121,
          84,
          48,
          18,
          13,
          9,
          72,
          84,
          48,
          56,
          18,
          25,
          48,
          56,
          41,
          72,
          121,
          19,
          35,
          127,
          32,
          57,
          84,
          28,
          56,
          32,
          16,
          11,
          84,
          9,
          38,
          135,
          84,
          139,
          135,
          9,
          84,
          135,
          95,
          147,
          95,
          95,
          135,
          11,
          42,
          127,
          30,
          95,
          38,
          11,
          16,
          17,
          6,
          41,
          40,
          58,
          64,
          41,
          45,
          118,
          36,
          139,
          45,
          58,
          36
         ],
         "xaxis": "x",
         "y": [
          73,
          60,
          85,
          71,
          49,
          77,
          66,
          62,
          71,
          71,
          80,
          71,
          76,
          70,
          63,
          80,
          72,
          65,
          70,
          70,
          70,
          54,
          72,
          70,
          67,
          57,
          62,
          62,
          58,
          54,
          52,
          60,
          60,
          82,
          76,
          64,
          58,
          76,
          59,
          67,
          66,
          49,
          56,
          76,
          63,
          76,
          63,
          75,
          85,
          70,
          63,
          66,
          65,
          65,
          59,
          57,
          69,
          54,
          67,
          68,
          69,
          67,
          73,
          62,
          71,
          64,
          39,
          71,
          54,
          58,
          62,
          52,
          64,
          56,
          64,
          51,
          58,
          62,
          52,
          70,
          78,
          69,
          57,
          77,
          76,
          72,
          60,
          88,
          62,
          70,
          85,
          88,
          79,
          78,
          57,
          47,
          70,
          64,
          75,
          67,
          70,
          57,
          59,
          51,
          58,
          62,
          78,
          63,
          51,
          70,
          71,
          72,
          71,
          86,
          75,
          67,
          67,
          72,
          70,
          67,
          60,
          77,
          73,
          77,
          44,
          56,
          57,
          44,
          69,
          69,
          46,
          67,
          80,
          38,
          52,
          73,
          66,
          66,
          66,
          70,
          66,
          72,
          57,
          60,
          71,
          69,
          71,
          69,
          58,
          53,
          60,
          70,
          58,
          62,
          63,
          72,
          66,
          71,
          49,
          50,
          67,
          63,
          65,
          67,
          47,
          66,
          50,
          64,
          66,
          71,
          65,
          57,
          59,
          58,
          57,
          75,
          66,
          57,
          54,
          54,
          51,
          51,
          54,
          67,
          56,
          67,
          71,
          60,
          75,
          67,
          56,
          77,
          75,
          64,
          79,
          72,
          58,
          59,
          52,
          43,
          37,
          59,
          47,
          73,
          37
         ],
         "yaxis": "y"
        },
        {
         "hovertemplate": "brand=acer<br>cluster=%{x}<br>rating=%{y}<extra></extra>",
         "legendgroup": "acer",
         "marker": {
          "color": "#00cc96",
          "symbol": "circle"
         },
         "mode": "markers",
         "name": "acer",
         "orientation": "v",
         "showlegend": true,
         "type": "scatter",
         "x": [
          53,
          47,
          25,
          4,
          49,
          47,
          147,
          49,
          47,
          130,
          30,
          30,
          137,
          46,
          136,
          13,
          104,
          49,
          89,
          47,
          97,
          10,
          137,
          33,
          137,
          44,
          46,
          33,
          33,
          33,
          44,
          53,
          116,
          120,
          47,
          130,
          44,
          47,
          36,
          4,
          4,
          137,
          47,
          130,
          106,
          106,
          56,
          78,
          130,
          136,
          32,
          130,
          4,
          47,
          49,
          137,
          136,
          137,
          46,
          47,
          106,
          106,
          137,
          46,
          53,
          107,
          33,
          59,
          18,
          27,
          89,
          105,
          59,
          59,
          130,
          17,
          32,
          55,
          32,
          130,
          137,
          56,
          78,
          29,
          136,
          47,
          136,
          11,
          11
         ],
         "xaxis": "x",
         "y": [
          62,
          63,
          64,
          60,
          58,
          71,
          60,
          62,
          72,
          67,
          75,
          70,
          49,
          64,
          54,
          64,
          78,
          57,
          59,
          70,
          67,
          75,
          49,
          67,
          47,
          64,
          64,
          64,
          62,
          63,
          63,
          56,
          62,
          38,
          65,
          62,
          67,
          65,
          38,
          58,
          62,
          50,
          72,
          70,
          63,
          60,
          45,
          79,
          65,
          58,
          80,
          59,
          64,
          70,
          59,
          50,
          57,
          50,
          60,
          69,
          56,
          53,
          51,
          50,
          59,
          52,
          50,
          70,
          62,
          78,
          58,
          47,
          65,
          66,
          64,
          65,
          73,
          74,
          72,
          59,
          50,
          44,
          71,
          77,
          52,
          71,
          54,
          71,
          67
         ],
         "yaxis": "y"
        },
        {
         "hovertemplate": "brand=lenovo<br>cluster=%{x}<br>rating=%{y}<extra></extra>",
         "legendgroup": "lenovo",
         "marker": {
          "color": "#ab63fa",
          "symbol": "circle"
         },
         "mode": "markers",
         "name": "lenovo",
         "orientation": "v",
         "showlegend": true,
         "type": "scatter",
         "x": [
          14,
          4,
          107,
          14,
          148,
          114,
          82,
          14,
          14,
          132,
          114,
          82,
          86,
          111,
          146,
          132,
          148,
          14,
          82,
          27,
          17,
          50,
          39,
          132,
          128,
          111,
          111,
          111,
          75,
          48,
          82,
          17,
          114,
          105,
          22,
          107,
          0,
          90,
          14,
          71,
          0,
          107,
          5,
          5,
          90,
          66,
          22,
          61,
          50,
          114,
          50,
          90,
          29,
          70,
          62,
          67,
          14,
          82,
          14,
          148,
          50,
          61,
          50,
          5,
          51,
          27,
          50,
          148,
          51,
          14,
          51,
          17,
          29,
          17,
          51,
          92,
          14,
          51,
          82,
          14,
          148,
          14,
          50,
          50,
          82,
          35,
          48,
          146,
          107,
          82,
          62,
          73,
          4,
          148,
          68,
          62,
          99,
          92,
          114,
          148,
          111,
          0,
          61,
          92,
          132,
          73,
          51,
          4,
          62,
          25,
          107,
          82,
          107,
          0,
          51,
          62,
          14,
          147,
          75,
          82,
          148,
          5,
          128,
          73,
          51,
          4,
          128,
          51,
          51,
          73,
          62,
          147,
          51,
          111,
          111,
          114,
          114,
          114,
          58,
          128,
          62,
          62,
          14,
          62,
          105,
          0,
          50,
          14,
          39,
          70,
          57,
          82,
          114,
          62,
          146,
          146,
          50,
          132,
          50,
          73,
          111,
          67,
          0,
          90,
          14,
          90,
          9,
          5,
          14,
          0,
          14,
          14,
          46,
          82,
          0,
          146,
          14,
          0,
          4,
          70,
          67,
          4,
          146,
          50,
          114,
          97,
          66,
          66,
          67,
          71,
          14,
          14,
          73,
          82,
          75,
          141,
          10,
          67,
          67,
          75,
          25
         ],
         "xaxis": "x",
         "y": [
          62,
          66,
          59,
          59,
          71,
          69,
          51,
          66,
          47,
          70,
          63,
          59,
          80,
          70,
          66,
          64,
          67,
          60,
          64,
          77,
          83,
          60,
          50,
          64,
          62,
          69,
          63,
          67,
          53,
          53,
          53,
          78,
          74,
          49,
          64,
          57,
          58,
          62,
          50,
          58,
          62,
          66,
          57,
          60,
          63,
          51,
          64,
          67,
          66,
          75,
          65,
          57,
          86,
          70,
          69,
          54,
          53,
          57,
          56,
          69,
          67,
          75,
          63,
          58,
          57,
          63,
          65,
          69,
          64,
          56,
          58,
          84,
          85,
          78,
          58,
          77,
          57,
          65,
          57,
          57,
          67,
          58,
          60,
          62,
          51,
          46,
          51,
          63,
          64,
          43,
          69,
          58,
          59,
          65,
          71,
          63,
          89,
          83,
          79,
          67,
          66,
          56,
          65,
          83,
          69,
          52,
          58,
          60,
          62,
          58,
          58,
          53,
          63,
          58,
          59,
          69,
          58,
          60,
          56,
          65,
          64,
          60,
          60,
          60,
          62,
          65,
          64,
          62,
          60,
          59,
          64,
          58,
          60,
          72,
          71,
          73,
          73,
          75,
          73,
          63,
          69,
          72,
          57,
          69,
          38,
          62,
          65,
          59,
          50,
          70,
          62,
          58,
          69,
          64,
          67,
          66,
          67,
          64,
          67,
          59,
          70,
          57,
          62,
          62,
          57,
          63,
          75,
          62,
          57,
          57,
          59,
          54,
          64,
          53,
          54,
          56,
          59,
          57,
          66,
          64,
          50,
          67,
          58,
          67,
          71,
          78,
          47,
          43,
          45,
          58,
          56,
          56,
          60,
          66,
          55,
          52,
          75,
          54,
          50,
          48,
          64
         ],
         "yaxis": "y"
        },
        {
         "hovertemplate": "brand=apple<br>cluster=%{x}<br>rating=%{y}<extra></extra>",
         "legendgroup": "apple",
         "marker": {
          "color": "#FFA15A",
          "symbol": "circle"
         },
         "mode": "markers",
         "name": "apple",
         "orientation": "v",
         "showlegend": true,
         "type": "scatter",
         "x": [
          113,
          142,
          113,
          88,
          113,
          101,
          101,
          103,
          88,
          88,
          113,
          113,
          119,
          119,
          88
         ],
         "xaxis": "x",
         "y": [
          45,
          65,
          48,
          53,
          43,
          63,
          64,
          58,
          56,
          56,
          45,
          45,
          53,
          58,
          51
         ],
         "yaxis": "y"
        },
        {
         "hovertemplate": "brand=infinix<br>cluster=%{x}<br>rating=%{y}<extra></extra>",
         "legendgroup": "infinix",
         "marker": {
          "color": "#19d3f3",
          "symbol": "circle"
         },
         "mode": "markers",
         "name": "infinix",
         "orientation": "v",
         "showlegend": true,
         "type": "scatter",
         "x": [
          4,
          83,
          74,
          89,
          74,
          44,
          83,
          53,
          107,
          89,
          74,
          53,
          46
         ],
         "xaxis": "x",
         "y": [
          56,
          71,
          54,
          50,
          53,
          60,
          63,
          56,
          57,
          57,
          52,
          57,
          58
         ],
         "yaxis": "y"
        },
        {
         "hovertemplate": "brand=asus<br>cluster=%{x}<br>rating=%{y}<extra></extra>",
         "legendgroup": "asus",
         "marker": {
          "color": "#FF6692",
          "symbol": "circle"
         },
         "mode": "markers",
         "name": "asus",
         "orientation": "v",
         "showlegend": true,
         "type": "scatter",
         "x": [
          19,
          37,
          20,
          15,
          74,
          64,
          3,
          131,
          29,
          43,
          31,
          46,
          30,
          3,
          13,
          31,
          46,
          31,
          31,
          3,
          85,
          19,
          129,
          129,
          122,
          115,
          99,
          131,
          93,
          37,
          74,
          31,
          4,
          96,
          100,
          2,
          3,
          13,
          3,
          3,
          3,
          19,
          31,
          11,
          89,
          31,
          37,
          23,
          78,
          78,
          10,
          15,
          3,
          43,
          62,
          52,
          40,
          93,
          37,
          147,
          37,
          74,
          9,
          17,
          2,
          2,
          96,
          48,
          116,
          3,
          124,
          85,
          43,
          105,
          43,
          15,
          2,
          25,
          68,
          68,
          20,
          43,
          16,
          116,
          4,
          31,
          96,
          96,
          20,
          10,
          3,
          2,
          2,
          2,
          93,
          2,
          3,
          3,
          3,
          3,
          93,
          85,
          48,
          3,
          85,
          10,
          56,
          93,
          3,
          85,
          85,
          74,
          31,
          66,
          93,
          3,
          3,
          85,
          27,
          85,
          79,
          31,
          31,
          3,
          31,
          15,
          3,
          79,
          21,
          15,
          97,
          85,
          40,
          74,
          66,
          4,
          64,
          86,
          93,
          17,
          30,
          34,
          23,
          10,
          17,
          20,
          85,
          34,
          79,
          23,
          37,
          123,
          10,
          31,
          3,
          140,
          52,
          10,
          97,
          129,
          27,
          123,
          4,
          16,
          93,
          140,
          147,
          89,
          13,
          13,
          129,
          13,
          31,
          9,
          93,
          56,
          15,
          25,
          31,
          31,
          31,
          56,
          56,
          13,
          31,
          13,
          13,
          31,
          31,
          93,
          9,
          93,
          61,
          57,
          96,
          147,
          115,
          55,
          48,
          18,
          48,
          85,
          29,
          57,
          86,
          116,
          37,
          85,
          64,
          115
         ],
         "xaxis": "x",
         "y": [
          70,
          71,
          76,
          57,
          57,
          65,
          72,
          77,
          83,
          75,
          67,
          64,
          78,
          72,
          62,
          64,
          57,
          63,
          71,
          70,
          70,
          66,
          75,
          72,
          72,
          64,
          88,
          79,
          60,
          65,
          56,
          70,
          62,
          71,
          69,
          35,
          71,
          65,
          76,
          77,
          76,
          70,
          66,
          60,
          59,
          64,
          58,
          80,
          77,
          79,
          78,
          64,
          67,
          64,
          70,
          65,
          71,
          59,
          65,
          60,
          65,
          50,
          73,
          85,
          37,
          44,
          67,
          58,
          65,
          69,
          45,
          63,
          70,
          38,
          66,
          51,
          38,
          73,
          58,
          62,
          70,
          71,
          43,
          67,
          59,
          60,
          64,
          63,
          73,
          64,
          72,
          37,
          41,
          37,
          57,
          37,
          72,
          65,
          66,
          70,
          57,
          62,
          56,
          69,
          63,
          76,
          59,
          57,
          72,
          66,
          72,
          54,
          64,
          45,
          57,
          72,
          75,
          70,
          82,
          72,
          71,
          65,
          60,
          75,
          64,
          60,
          72,
          83,
          71,
          59,
          69,
          64,
          66,
          53,
          45,
          58,
          63,
          64,
          54,
          71,
          73,
          89,
          84,
          75,
          83,
          73,
          77,
          89,
          76,
          80,
          67,
          73,
          82,
          66,
          72,
          75,
          66,
          76,
          66,
          70,
          84,
          71,
          56,
          45,
          56,
          78,
          60,
          59,
          73,
          73,
          70,
          75,
          59,
          64,
          52,
          48,
          59,
          63,
          56,
          62,
          60,
          57,
          56,
          71,
          64,
          64,
          70,
          62,
          60,
          53,
          58,
          51,
          74,
          62,
          67,
          59,
          67,
          89,
          58,
          59,
          53,
          72,
          83,
          68,
          68,
          65,
          64,
          68,
          59,
          68
         ],
         "yaxis": "y"
        },
        {
         "hovertemplate": "brand=dell<br>cluster=%{x}<br>rating=%{y}<extra></extra>",
         "legendgroup": "dell",
         "marker": {
          "color": "#B6E880",
          "symbol": "circle"
         },
         "mode": "markers",
         "name": "dell",
         "orientation": "v",
         "showlegend": true,
         "type": "scatter",
         "x": [
          91,
          80,
          80,
          57,
          5,
          52,
          15,
          20,
          122,
          104,
          91,
          42,
          20,
          102,
          107,
          18,
          94,
          63,
          138,
          78,
          102,
          65,
          91,
          94,
          65,
          20,
          91,
          65,
          65,
          91,
          91,
          107,
          15,
          15,
          102,
          42,
          5,
          42,
          91,
          5,
          26,
          63,
          91,
          76,
          102,
          76,
          63,
          134,
          65,
          5,
          65,
          91,
          76,
          99,
          76,
          70,
          143,
          18,
          29,
          23,
          125,
          108,
          134,
          5,
          63,
          134,
          102,
          94,
          94,
          91,
          102,
          102,
          71,
          80,
          12,
          117,
          102,
          123,
          52,
          15,
          27,
          55,
          94,
          94,
          91,
          94,
          94,
          65,
          65,
          80,
          137,
          78,
          80,
          80,
          122,
          34,
          27,
          12,
          12,
          91,
          46,
          57,
          102,
          15,
          94,
          80
         ],
         "xaxis": "x",
         "y": [
          60,
          66,
          71,
          66,
          66,
          70,
          60,
          72,
          74,
          78,
          59,
          53,
          73,
          63,
          62,
          68,
          62,
          56,
          67,
          80,
          53,
          58,
          49,
          59,
          64,
          75,
          58,
          57,
          53,
          53,
          57,
          57,
          56,
          57,
          56,
          57,
          62,
          53,
          58,
          57,
          78,
          56,
          58,
          63,
          58,
          62,
          54,
          59,
          57,
          60,
          63,
          58,
          60,
          85,
          63,
          65,
          83,
          65,
          85,
          80,
          83,
          89,
          60,
          63,
          60,
          56,
          53,
          56,
          67,
          58,
          52,
          60,
          60,
          70,
          88,
          82,
          54,
          72,
          71,
          56,
          78,
          82,
          59,
          58,
          57,
          56,
          52,
          57,
          56,
          76,
          52,
          79,
          73,
          75,
          69,
          78,
          83,
          82,
          83,
          63,
          63,
          59,
          62,
          59,
          68,
          72
         ],
         "yaxis": "y"
        },
        {
         "hovertemplate": "brand=samsung<br>cluster=%{x}<br>rating=%{y}<extra></extra>",
         "legendgroup": "samsung",
         "marker": {
          "color": "#FF97FF",
          "symbol": "circle"
         },
         "mode": "markers",
         "name": "samsung",
         "orientation": "v",
         "showlegend": true,
         "type": "scatter",
         "x": [
          54,
          15,
          107,
          15,
          107,
          15,
          54
         ],
         "xaxis": "x",
         "y": [
          68,
          59,
          62,
          56,
          60,
          59,
          68
         ],
         "yaxis": "y"
        },
        {
         "hovertemplate": "brand=msi<br>cluster=%{x}<br>rating=%{y}<extra></extra>",
         "legendgroup": "msi",
         "marker": {
          "color": "#FECB52",
          "symbol": "circle"
         },
         "mode": "markers",
         "name": "msi",
         "orientation": "v",
         "showlegend": true,
         "type": "scatter",
         "x": [
          7,
          21,
          89,
          7,
          7,
          26,
          11,
          4,
          53,
          21,
          19,
          21,
          46,
          53,
          7,
          46,
          7,
          7,
          18,
          21,
          59,
          21,
          27,
          81,
          69,
          26,
          7,
          7,
          21,
          7,
          87,
          27,
          87,
          19,
          7,
          7,
          87,
          27,
          29,
          53,
          49,
          10,
          97,
          7,
          19,
          7,
          69,
          11,
          23,
          69,
          23,
          19,
          23,
          69,
          0,
          19,
          18,
          122,
          21,
          98,
          21,
          19,
          21,
          55,
          21,
          21,
          46,
          46,
          1,
          7,
          21,
          55,
          1,
          27,
          21,
          69,
          147,
          147,
          57,
          0,
          53,
          110,
          21,
          110,
          107,
          53,
          53,
          0,
          21,
          7
         ],
         "xaxis": "x",
         "y": [
          71,
          76,
          58,
          70,
          65,
          75,
          65,
          63,
          60,
          73,
          65,
          73,
          62,
          65,
          72,
          62,
          73,
          69,
          62,
          79,
          78,
          69,
          80,
          89,
          70,
          83,
          71,
          76,
          76,
          77,
          79,
          76,
          77,
          69,
          71,
          70,
          83,
          73,
          89,
          63,
          58,
          77,
          71,
          65,
          67,
          78,
          67,
          65,
          78,
          69,
          77,
          66,
          77,
          75,
          63,
          70,
          65,
          75,
          75,
          85,
          69,
          71,
          73,
          86,
          71,
          77,
          65,
          70,
          89,
          65,
          71,
          84,
          87,
          80,
          70,
          72,
          53,
          54,
          60,
          58,
          59,
          72,
          74,
          67,
          59,
          61,
          58,
          56,
          76,
          73
         ],
         "yaxis": "y"
        },
        {
         "hovertemplate": "brand=wings<br>cluster=%{x}<br>rating=%{y}<extra></extra>",
         "legendgroup": "wings",
         "marker": {
          "color": "#636efa",
          "symbol": "circle"
         },
         "mode": "markers",
         "name": "wings",
         "orientation": "v",
         "showlegend": true,
         "type": "scatter",
         "x": [
          8,
          8,
          8,
          8
         ],
         "xaxis": "x",
         "y": [
          56,
          58,
          49,
          51
         ],
         "yaxis": "y"
        },
        {
         "hovertemplate": "brand=ultimus<br>cluster=%{x}<br>rating=%{y}<extra></extra>",
         "legendgroup": "ultimus",
         "marker": {
          "color": "#EF553B",
          "symbol": "circle"
         },
         "mode": "markers",
         "name": "ultimus",
         "orientation": "v",
         "showlegend": true,
         "type": "scatter",
         "x": [
          89,
          39,
          39,
          39,
          39,
          89
         ],
         "xaxis": "x",
         "y": [
          54,
          46,
          41,
          45,
          47,
          52
         ],
         "yaxis": "y"
        },
        {
         "hovertemplate": "brand=primebook<br>cluster=%{x}<br>rating=%{y}<extra></extra>",
         "legendgroup": "primebook",
         "marker": {
          "color": "#00cc96",
          "symbol": "circle"
         },
         "mode": "markers",
         "name": "primebook",
         "orientation": "v",
         "showlegend": true,
         "type": "scatter",
         "x": [
          60,
          60
         ],
         "xaxis": "x",
         "y": [
          26,
          31
         ],
         "yaxis": "y"
        },
        {
         "hovertemplate": "brand=iball<br>cluster=%{x}<br>rating=%{y}<extra></extra>",
         "legendgroup": "iball",
         "marker": {
          "color": "#ab63fa",
          "symbol": "circle"
         },
         "mode": "markers",
         "name": "iball",
         "orientation": "v",
         "showlegend": true,
         "type": "scatter",
         "x": [
          105
         ],
         "xaxis": "x",
         "y": [
          41
         ],
         "yaxis": "y"
        },
        {
         "hovertemplate": "brand=zebronics<br>cluster=%{x}<br>rating=%{y}<extra></extra>",
         "legendgroup": "zebronics",
         "marker": {
          "color": "#FFA15A",
          "symbol": "circle"
         },
         "mode": "markers",
         "name": "zebronics",
         "orientation": "v",
         "showlegend": true,
         "type": "scatter",
         "x": [
          49,
          4,
          25,
          49,
          33,
          49,
          33
         ],
         "xaxis": "x",
         "y": [
          65,
          63,
          72,
          56,
          66,
          60,
          72
         ],
         "yaxis": "y"
        },
        {
         "hovertemplate": "brand=chuwi<br>cluster=%{x}<br>rating=%{y}<extra></extra>",
         "legendgroup": "chuwi",
         "marker": {
          "color": "#19d3f3",
          "symbol": "circle"
         },
         "mode": "markers",
         "name": "chuwi",
         "orientation": "v",
         "showlegend": true,
         "type": "scatter",
         "x": [
          109,
          89,
          89,
          109
         ],
         "xaxis": "x",
         "y": [
          50,
          50,
          50,
          54
         ],
         "yaxis": "y"
        },
        {
         "hovertemplate": "brand=gigabyte<br>cluster=%{x}<br>rating=%{y}<extra></extra>",
         "legendgroup": "gigabyte",
         "marker": {
          "color": "#FF6692",
          "symbol": "circle"
         },
         "mode": "markers",
         "name": "gigabyte",
         "orientation": "v",
         "showlegend": true,
         "type": "scatter",
         "x": [
          47,
          122
         ],
         "xaxis": "x",
         "y": [
          67,
          73
         ],
         "yaxis": "y"
        },
        {
         "hovertemplate": "brand=jio<br>cluster=%{x}<br>rating=%{y}<extra></extra>",
         "legendgroup": "jio",
         "marker": {
          "color": "#B6E880",
          "symbol": "circle"
         },
         "mode": "markers",
         "name": "jio",
         "orientation": "v",
         "showlegend": true,
         "type": "scatter",
         "x": [
          60
         ],
         "xaxis": "x",
         "y": [
          24
         ],
         "yaxis": "y"
        },
        {
         "hovertemplate": "brand=honor<br>cluster=%{x}<br>rating=%{y}<extra></extra>",
         "legendgroup": "honor",
         "marker": {
          "color": "#FF97FF",
          "symbol": "circle"
         },
         "mode": "markers",
         "name": "honor",
         "orientation": "v",
         "showlegend": true,
         "type": "scatter",
         "x": [
          9,
          147
         ],
         "xaxis": "x",
         "y": [
          66,
          59
         ],
         "yaxis": "y"
        },
        {
         "hovertemplate": "brand=realme<br>cluster=%{x}<br>rating=%{y}<extra></extra>",
         "legendgroup": "realme",
         "marker": {
          "color": "#FECB52",
          "symbol": "circle"
         },
         "mode": "markers",
         "name": "realme",
         "orientation": "v",
         "showlegend": true,
         "type": "scatter",
         "x": [
          8,
          109
         ],
         "xaxis": "x",
         "y": [
          52,
          62
         ],
         "yaxis": "y"
        },
        {
         "hovertemplate": "brand=avita<br>cluster=%{x}<br>rating=%{y}<extra></extra>",
         "legendgroup": "avita",
         "marker": {
          "color": "#636efa",
          "symbol": "circle"
         },
         "mode": "markers",
         "name": "avita",
         "orientation": "v",
         "showlegend": true,
         "type": "scatter",
         "x": [
          48,
          48,
          49,
          124,
          66
         ],
         "xaxis": "x",
         "y": [
          56,
          50,
          51,
          41,
          43
         ],
         "yaxis": "y"
        },
        {
         "hovertemplate": "brand=microsoft<br>cluster=%{x}<br>rating=%{y}<extra></extra>",
         "legendgroup": "microsoft",
         "marker": {
          "color": "#EF553B",
          "symbol": "circle"
         },
         "mode": "markers",
         "name": "microsoft",
         "orientation": "v",
         "showlegend": true,
         "type": "scatter",
         "x": [
          77,
          77
         ],
         "xaxis": "x",
         "y": [
          58,
          60
         ],
         "yaxis": "y"
        },
        {
         "hovertemplate": "brand=fujitsu<br>cluster=%{x}<br>rating=%{y}<extra></extra>",
         "legendgroup": "fujitsu",
         "marker": {
          "color": "#00cc96",
          "symbol": "circle"
         },
         "mode": "markers",
         "name": "fujitsu",
         "orientation": "v",
         "showlegend": true,
         "type": "scatter",
         "x": [
          9,
          9,
          110,
          9,
          132
         ],
         "xaxis": "x",
         "y": [
          67,
          65,
          76,
          73,
          70
         ],
         "yaxis": "y"
        },
        {
         "hovertemplate": "brand=lg<br>cluster=%{x}<br>rating=%{y}<extra></extra>",
         "legendgroup": "lg",
         "marker": {
          "color": "#ab63fa",
          "symbol": "circle"
         },
         "mode": "markers",
         "name": "lg",
         "orientation": "v",
         "showlegend": true,
         "type": "scatter",
         "x": [
          54,
          37,
          145,
          54,
          37,
          13,
          52
         ],
         "xaxis": "x",
         "y": [
          67,
          72,
          78,
          69,
          75,
          72,
          72
         ],
         "yaxis": "y"
        },
        {
         "hovertemplate": "brand=walker<br>cluster=%{x}<br>rating=%{y}<extra></extra>",
         "legendgroup": "walker",
         "marker": {
          "color": "#FFA15A",
          "symbol": "circle"
         },
         "mode": "markers",
         "name": "walker",
         "orientation": "v",
         "showlegend": true,
         "type": "scatter",
         "x": [
          124
         ],
         "xaxis": "x",
         "y": [
          37
         ],
         "yaxis": "y"
        },
        {
         "hovertemplate": "brand=axl<br>cluster=%{x}<br>rating=%{y}<extra></extra>",
         "legendgroup": "axl",
         "marker": {
          "color": "#19d3f3",
          "symbol": "circle"
         },
         "mode": "markers",
         "name": "axl",
         "orientation": "v",
         "showlegend": true,
         "type": "scatter",
         "x": [
          66,
          124
         ],
         "xaxis": "x",
         "y": [
          38,
          37
         ],
         "yaxis": "y"
        }
       ],
       "layout": {
        "legend": {
         "title": {
          "text": "brand"
         },
         "tracegroupgap": 0
        },
        "margin": {
         "t": 60
        },
        "template": {
         "data": {
          "bar": [
           {
            "error_x": {
             "color": "#2a3f5f"
            },
            "error_y": {
             "color": "#2a3f5f"
            },
            "marker": {
             "line": {
              "color": "#E5ECF6",
              "width": 0.5
             },
             "pattern": {
              "fillmode": "overlay",
              "size": 10,
              "solidity": 0.2
             }
            },
            "type": "bar"
           }
          ],
          "barpolar": [
           {
            "marker": {
             "line": {
              "color": "#E5ECF6",
              "width": 0.5
             },
             "pattern": {
              "fillmode": "overlay",
              "size": 10,
              "solidity": 0.2
             }
            },
            "type": "barpolar"
           }
          ],
          "carpet": [
           {
            "aaxis": {
             "endlinecolor": "#2a3f5f",
             "gridcolor": "white",
             "linecolor": "white",
             "minorgridcolor": "white",
             "startlinecolor": "#2a3f5f"
            },
            "baxis": {
             "endlinecolor": "#2a3f5f",
             "gridcolor": "white",
             "linecolor": "white",
             "minorgridcolor": "white",
             "startlinecolor": "#2a3f5f"
            },
            "type": "carpet"
           }
          ],
          "choropleth": [
           {
            "colorbar": {
             "outlinewidth": 0,
             "ticks": ""
            },
            "type": "choropleth"
           }
          ],
          "contour": [
           {
            "colorbar": {
             "outlinewidth": 0,
             "ticks": ""
            },
            "colorscale": [
             [
              0,
              "#0d0887"
             ],
             [
              0.1111111111111111,
              "#46039f"
             ],
             [
              0.2222222222222222,
              "#7201a8"
             ],
             [
              0.3333333333333333,
              "#9c179e"
             ],
             [
              0.4444444444444444,
              "#bd3786"
             ],
             [
              0.5555555555555556,
              "#d8576b"
             ],
             [
              0.6666666666666666,
              "#ed7953"
             ],
             [
              0.7777777777777778,
              "#fb9f3a"
             ],
             [
              0.8888888888888888,
              "#fdca26"
             ],
             [
              1,
              "#f0f921"
             ]
            ],
            "type": "contour"
           }
          ],
          "contourcarpet": [
           {
            "colorbar": {
             "outlinewidth": 0,
             "ticks": ""
            },
            "type": "contourcarpet"
           }
          ],
          "heatmap": [
           {
            "colorbar": {
             "outlinewidth": 0,
             "ticks": ""
            },
            "colorscale": [
             [
              0,
              "#0d0887"
             ],
             [
              0.1111111111111111,
              "#46039f"
             ],
             [
              0.2222222222222222,
              "#7201a8"
             ],
             [
              0.3333333333333333,
              "#9c179e"
             ],
             [
              0.4444444444444444,
              "#bd3786"
             ],
             [
              0.5555555555555556,
              "#d8576b"
             ],
             [
              0.6666666666666666,
              "#ed7953"
             ],
             [
              0.7777777777777778,
              "#fb9f3a"
             ],
             [
              0.8888888888888888,
              "#fdca26"
             ],
             [
              1,
              "#f0f921"
             ]
            ],
            "type": "heatmap"
           }
          ],
          "heatmapgl": [
           {
            "colorbar": {
             "outlinewidth": 0,
             "ticks": ""
            },
            "colorscale": [
             [
              0,
              "#0d0887"
             ],
             [
              0.1111111111111111,
              "#46039f"
             ],
             [
              0.2222222222222222,
              "#7201a8"
             ],
             [
              0.3333333333333333,
              "#9c179e"
             ],
             [
              0.4444444444444444,
              "#bd3786"
             ],
             [
              0.5555555555555556,
              "#d8576b"
             ],
             [
              0.6666666666666666,
              "#ed7953"
             ],
             [
              0.7777777777777778,
              "#fb9f3a"
             ],
             [
              0.8888888888888888,
              "#fdca26"
             ],
             [
              1,
              "#f0f921"
             ]
            ],
            "type": "heatmapgl"
           }
          ],
          "histogram": [
           {
            "marker": {
             "pattern": {
              "fillmode": "overlay",
              "size": 10,
              "solidity": 0.2
             }
            },
            "type": "histogram"
           }
          ],
          "histogram2d": [
           {
            "colorbar": {
             "outlinewidth": 0,
             "ticks": ""
            },
            "colorscale": [
             [
              0,
              "#0d0887"
             ],
             [
              0.1111111111111111,
              "#46039f"
             ],
             [
              0.2222222222222222,
              "#7201a8"
             ],
             [
              0.3333333333333333,
              "#9c179e"
             ],
             [
              0.4444444444444444,
              "#bd3786"
             ],
             [
              0.5555555555555556,
              "#d8576b"
             ],
             [
              0.6666666666666666,
              "#ed7953"
             ],
             [
              0.7777777777777778,
              "#fb9f3a"
             ],
             [
              0.8888888888888888,
              "#fdca26"
             ],
             [
              1,
              "#f0f921"
             ]
            ],
            "type": "histogram2d"
           }
          ],
          "histogram2dcontour": [
           {
            "colorbar": {
             "outlinewidth": 0,
             "ticks": ""
            },
            "colorscale": [
             [
              0,
              "#0d0887"
             ],
             [
              0.1111111111111111,
              "#46039f"
             ],
             [
              0.2222222222222222,
              "#7201a8"
             ],
             [
              0.3333333333333333,
              "#9c179e"
             ],
             [
              0.4444444444444444,
              "#bd3786"
             ],
             [
              0.5555555555555556,
              "#d8576b"
             ],
             [
              0.6666666666666666,
              "#ed7953"
             ],
             [
              0.7777777777777778,
              "#fb9f3a"
             ],
             [
              0.8888888888888888,
              "#fdca26"
             ],
             [
              1,
              "#f0f921"
             ]
            ],
            "type": "histogram2dcontour"
           }
          ],
          "mesh3d": [
           {
            "colorbar": {
             "outlinewidth": 0,
             "ticks": ""
            },
            "type": "mesh3d"
           }
          ],
          "parcoords": [
           {
            "line": {
             "colorbar": {
              "outlinewidth": 0,
              "ticks": ""
             }
            },
            "type": "parcoords"
           }
          ],
          "pie": [
           {
            "automargin": true,
            "type": "pie"
           }
          ],
          "scatter": [
           {
            "fillpattern": {
             "fillmode": "overlay",
             "size": 10,
             "solidity": 0.2
            },
            "type": "scatter"
           }
          ],
          "scatter3d": [
           {
            "line": {
             "colorbar": {
              "outlinewidth": 0,
              "ticks": ""
             }
            },
            "marker": {
             "colorbar": {
              "outlinewidth": 0,
              "ticks": ""
             }
            },
            "type": "scatter3d"
           }
          ],
          "scattercarpet": [
           {
            "marker": {
             "colorbar": {
              "outlinewidth": 0,
              "ticks": ""
             }
            },
            "type": "scattercarpet"
           }
          ],
          "scattergeo": [
           {
            "marker": {
             "colorbar": {
              "outlinewidth": 0,
              "ticks": ""
             }
            },
            "type": "scattergeo"
           }
          ],
          "scattergl": [
           {
            "marker": {
             "colorbar": {
              "outlinewidth": 0,
              "ticks": ""
             }
            },
            "type": "scattergl"
           }
          ],
          "scattermapbox": [
           {
            "marker": {
             "colorbar": {
              "outlinewidth": 0,
              "ticks": ""
             }
            },
            "type": "scattermapbox"
           }
          ],
          "scatterpolar": [
           {
            "marker": {
             "colorbar": {
              "outlinewidth": 0,
              "ticks": ""
             }
            },
            "type": "scatterpolar"
           }
          ],
          "scatterpolargl": [
           {
            "marker": {
             "colorbar": {
              "outlinewidth": 0,
              "ticks": ""
             }
            },
            "type": "scatterpolargl"
           }
          ],
          "scatterternary": [
           {
            "marker": {
             "colorbar": {
              "outlinewidth": 0,
              "ticks": ""
             }
            },
            "type": "scatterternary"
           }
          ],
          "surface": [
           {
            "colorbar": {
             "outlinewidth": 0,
             "ticks": ""
            },
            "colorscale": [
             [
              0,
              "#0d0887"
             ],
             [
              0.1111111111111111,
              "#46039f"
             ],
             [
              0.2222222222222222,
              "#7201a8"
             ],
             [
              0.3333333333333333,
              "#9c179e"
             ],
             [
              0.4444444444444444,
              "#bd3786"
             ],
             [
              0.5555555555555556,
              "#d8576b"
             ],
             [
              0.6666666666666666,
              "#ed7953"
             ],
             [
              0.7777777777777778,
              "#fb9f3a"
             ],
             [
              0.8888888888888888,
              "#fdca26"
             ],
             [
              1,
              "#f0f921"
             ]
            ],
            "type": "surface"
           }
          ],
          "table": [
           {
            "cells": {
             "fill": {
              "color": "#EBF0F8"
             },
             "line": {
              "color": "white"
             }
            },
            "header": {
             "fill": {
              "color": "#C8D4E3"
             },
             "line": {
              "color": "white"
             }
            },
            "type": "table"
           }
          ]
         },
         "layout": {
          "annotationdefaults": {
           "arrowcolor": "#2a3f5f",
           "arrowhead": 0,
           "arrowwidth": 1
          },
          "autotypenumbers": "strict",
          "coloraxis": {
           "colorbar": {
            "outlinewidth": 0,
            "ticks": ""
           }
          },
          "colorscale": {
           "diverging": [
            [
             0,
             "#8e0152"
            ],
            [
             0.1,
             "#c51b7d"
            ],
            [
             0.2,
             "#de77ae"
            ],
            [
             0.3,
             "#f1b6da"
            ],
            [
             0.4,
             "#fde0ef"
            ],
            [
             0.5,
             "#f7f7f7"
            ],
            [
             0.6,
             "#e6f5d0"
            ],
            [
             0.7,
             "#b8e186"
            ],
            [
             0.8,
             "#7fbc41"
            ],
            [
             0.9,
             "#4d9221"
            ],
            [
             1,
             "#276419"
            ]
           ],
           "sequential": [
            [
             0,
             "#0d0887"
            ],
            [
             0.1111111111111111,
             "#46039f"
            ],
            [
             0.2222222222222222,
             "#7201a8"
            ],
            [
             0.3333333333333333,
             "#9c179e"
            ],
            [
             0.4444444444444444,
             "#bd3786"
            ],
            [
             0.5555555555555556,
             "#d8576b"
            ],
            [
             0.6666666666666666,
             "#ed7953"
            ],
            [
             0.7777777777777778,
             "#fb9f3a"
            ],
            [
             0.8888888888888888,
             "#fdca26"
            ],
            [
             1,
             "#f0f921"
            ]
           ],
           "sequentialminus": [
            [
             0,
             "#0d0887"
            ],
            [
             0.1111111111111111,
             "#46039f"
            ],
            [
             0.2222222222222222,
             "#7201a8"
            ],
            [
             0.3333333333333333,
             "#9c179e"
            ],
            [
             0.4444444444444444,
             "#bd3786"
            ],
            [
             0.5555555555555556,
             "#d8576b"
            ],
            [
             0.6666666666666666,
             "#ed7953"
            ],
            [
             0.7777777777777778,
             "#fb9f3a"
            ],
            [
             0.8888888888888888,
             "#fdca26"
            ],
            [
             1,
             "#f0f921"
            ]
           ]
          },
          "colorway": [
           "#636efa",
           "#EF553B",
           "#00cc96",
           "#ab63fa",
           "#FFA15A",
           "#19d3f3",
           "#FF6692",
           "#B6E880",
           "#FF97FF",
           "#FECB52"
          ],
          "font": {
           "color": "#2a3f5f"
          },
          "geo": {
           "bgcolor": "white",
           "lakecolor": "white",
           "landcolor": "#E5ECF6",
           "showlakes": true,
           "showland": true,
           "subunitcolor": "white"
          },
          "hoverlabel": {
           "align": "left"
          },
          "hovermode": "closest",
          "mapbox": {
           "style": "light"
          },
          "paper_bgcolor": "white",
          "plot_bgcolor": "#E5ECF6",
          "polar": {
           "angularaxis": {
            "gridcolor": "white",
            "linecolor": "white",
            "ticks": ""
           },
           "bgcolor": "#E5ECF6",
           "radialaxis": {
            "gridcolor": "white",
            "linecolor": "white",
            "ticks": ""
           }
          },
          "scene": {
           "xaxis": {
            "backgroundcolor": "#E5ECF6",
            "gridcolor": "white",
            "gridwidth": 2,
            "linecolor": "white",
            "showbackground": true,
            "ticks": "",
            "zerolinecolor": "white"
           },
           "yaxis": {
            "backgroundcolor": "#E5ECF6",
            "gridcolor": "white",
            "gridwidth": 2,
            "linecolor": "white",
            "showbackground": true,
            "ticks": "",
            "zerolinecolor": "white"
           },
           "zaxis": {
            "backgroundcolor": "#E5ECF6",
            "gridcolor": "white",
            "gridwidth": 2,
            "linecolor": "white",
            "showbackground": true,
            "ticks": "",
            "zerolinecolor": "white"
           }
          },
          "shapedefaults": {
           "line": {
            "color": "#2a3f5f"
           }
          },
          "ternary": {
           "aaxis": {
            "gridcolor": "white",
            "linecolor": "white",
            "ticks": ""
           },
           "baxis": {
            "gridcolor": "white",
            "linecolor": "white",
            "ticks": ""
           },
           "bgcolor": "#E5ECF6",
           "caxis": {
            "gridcolor": "white",
            "linecolor": "white",
            "ticks": ""
           }
          },
          "title": {
           "x": 0.05
          },
          "xaxis": {
           "automargin": true,
           "gridcolor": "white",
           "linecolor": "white",
           "ticks": "",
           "title": {
            "standoff": 15
           },
           "zerolinecolor": "white",
           "zerolinewidth": 2
          },
          "yaxis": {
           "automargin": true,
           "gridcolor": "white",
           "linecolor": "white",
           "ticks": "",
           "title": {
            "standoff": 15
           },
           "zerolinecolor": "white",
           "zerolinewidth": 2
          }
         }
        },
        "xaxis": {
         "anchor": "y",
         "domain": [
          0,
          1
         ],
         "title": {
          "text": "cluster"
         }
        },
        "yaxis": {
         "anchor": "x",
         "domain": [
          0,
          1
         ],
         "title": {
          "text": "rating"
         }
        }
       }
      }
     },
     "metadata": {},
     "output_type": "display_data"
    }
   ],
   "source": [
    "# Cruzamento entre brand e rating, apresentando os clusters\n",
    "px.scatter(df_laptops, x='cluster', y='rating', color='brand')"
   ]
  },
  {
   "cell_type": "code",
   "execution_count": 43,
   "metadata": {},
   "outputs": [
    {
     "data": {
      "application/vnd.plotly.v1+json": {
       "config": {
        "plotlyServerURL": "https://plot.ly"
       },
       "data": [
        {
         "alignmentgroup": "True",
         "hovertemplate": "cluster=%{marker.color}<br>value=%{y}<extra></extra>",
         "legendgroup": "",
         "marker": {
          "color": [
           14,
           3,
           31,
           4,
           21,
           7,
           9,
           11,
           38,
           15,
           46,
           82,
           13,
           84,
           107,
           19,
           5,
           91,
           85,
           27,
           0,
           50,
           47,
           62,
           51,
           25,
           53,
           93,
           89,
           48,
           10,
           73,
           56,
           32,
           147,
           28,
           95,
           20,
           114,
           30,
           17,
           137,
           49,
           57,
           94,
           102,
           37,
           29,
           65,
           111,
           121,
           135,
           64,
           74,
           148,
           18,
           2,
           80,
           16,
           72,
           130,
           66,
           139,
           33,
           23,
           39,
           146,
           75,
           41,
           78,
           132,
           67,
           35,
           36,
           55,
           113,
           122,
           105,
           90,
           97,
           96,
           69,
           42,
           43,
           8,
           44,
           136,
           59,
           52,
           124,
           116,
           127,
           129,
           106,
           128,
           54,
           88,
           70,
           86,
           76,
           61,
           63,
           1,
           26,
           123,
           71,
           24,
           68,
           115,
           134,
           6,
           60,
           58,
           45,
           12,
           79,
           87,
           99,
           92,
           40,
           34,
           112,
           110,
           109,
           22,
           140,
           104,
           133,
           131,
           101,
           77,
           83,
           126,
           119,
           108,
           142,
           98,
           118,
           145,
           144,
           143,
           100,
           141,
           138,
           120,
           103,
           125,
           117,
           81
          ],
          "coloraxis": "coloraxis",
          "pattern": {
           "shape": ""
          }
         },
         "name": "",
         "offsetgroup": "",
         "orientation": "v",
         "showlegend": false,
         "textposition": "auto",
         "type": "bar",
         "x": [
          14,
          3,
          31,
          4,
          21,
          7,
          9,
          11,
          38,
          15,
          46,
          82,
          13,
          84,
          107,
          19,
          5,
          91,
          85,
          27,
          0,
          50,
          47,
          62,
          51,
          25,
          53,
          93,
          89,
          48,
          10,
          73,
          56,
          32,
          147,
          28,
          95,
          20,
          114,
          30,
          17,
          137,
          49,
          57,
          94,
          102,
          37,
          29,
          65,
          111,
          121,
          135,
          64,
          74,
          148,
          18,
          2,
          80,
          16,
          72,
          130,
          66,
          139,
          33,
          23,
          39,
          146,
          75,
          41,
          78,
          132,
          67,
          35,
          36,
          55,
          113,
          122,
          105,
          90,
          97,
          96,
          69,
          42,
          43,
          8,
          44,
          136,
          59,
          52,
          124,
          116,
          127,
          129,
          106,
          128,
          54,
          88,
          70,
          86,
          76,
          61,
          63,
          1,
          26,
          123,
          71,
          24,
          68,
          115,
          134,
          6,
          60,
          58,
          45,
          12,
          79,
          87,
          99,
          92,
          40,
          34,
          112,
          110,
          109,
          22,
          140,
          104,
          133,
          131,
          101,
          77,
          83,
          126,
          119,
          108,
          142,
          98,
          118,
          145,
          144,
          143,
          100,
          141,
          138,
          120,
          103,
          125,
          117,
          81
         ],
         "xaxis": "x",
         "y": [
          2.219979818365288,
          2.119071644803229,
          2.0181634712411705,
          1.917255297679112,
          1.6145307769929365,
          1.513622603430878,
          1.513622603430878,
          1.4127144298688195,
          1.4127144298688195,
          1.4127144298688195,
          1.4127144298688195,
          1.3118062563067607,
          1.3118062563067607,
          1.3118062563067607,
          1.3118062563067607,
          1.3118062563067607,
          1.2108980827447022,
          1.2108980827447022,
          1.2108980827447022,
          1.2108980827447022,
          1.2108980827447022,
          1.2108980827447022,
          1.109989909182644,
          1.109989909182644,
          1.109989909182644,
          1.109989909182644,
          1.109989909182644,
          1.109989909182644,
          1.109989909182644,
          1.109989909182644,
          1.109989909182644,
          1.0090817356205852,
          1.0090817356205852,
          1.0090817356205852,
          1.0090817356205852,
          1.0090817356205852,
          1.0090817356205852,
          1.0090817356205852,
          1.0090817356205852,
          1.0090817356205852,
          0.9081735620585267,
          0.9081735620585267,
          0.9081735620585267,
          0.9081735620585267,
          0.9081735620585267,
          0.9081735620585267,
          0.9081735620585267,
          0.9081735620585267,
          0.8072653884964682,
          0.8072653884964682,
          0.8072653884964682,
          0.8072653884964682,
          0.8072653884964682,
          0.8072653884964682,
          0.8072653884964682,
          0.8072653884964682,
          0.8072653884964682,
          0.7063572149344097,
          0.7063572149344097,
          0.7063572149344097,
          0.7063572149344097,
          0.7063572149344097,
          0.7063572149344097,
          0.7063572149344097,
          0.7063572149344097,
          0.6054490413723511,
          0.6054490413723511,
          0.6054490413723511,
          0.6054490413723511,
          0.6054490413723511,
          0.6054490413723511,
          0.6054490413723511,
          0.5045408678102926,
          0.5045408678102926,
          0.5045408678102926,
          0.5045408678102926,
          0.5045408678102926,
          0.5045408678102926,
          0.5045408678102926,
          0.5045408678102926,
          0.5045408678102926,
          0.5045408678102926,
          0.5045408678102926,
          0.5045408678102926,
          0.5045408678102926,
          0.5045408678102926,
          0.5045408678102926,
          0.5045408678102926,
          0.5045408678102926,
          0.4036326942482341,
          0.4036326942482341,
          0.4036326942482341,
          0.4036326942482341,
          0.4036326942482341,
          0.4036326942482341,
          0.4036326942482341,
          0.4036326942482341,
          0.4036326942482341,
          0.4036326942482341,
          0.4036326942482341,
          0.4036326942482341,
          0.4036326942482341,
          0.4036326942482341,
          0.30272452068617556,
          0.30272452068617556,
          0.30272452068617556,
          0.30272452068617556,
          0.30272452068617556,
          0.30272452068617556,
          0.30272452068617556,
          0.30272452068617556,
          0.30272452068617556,
          0.30272452068617556,
          0.30272452068617556,
          0.30272452068617556,
          0.30272452068617556,
          0.30272452068617556,
          0.30272452068617556,
          0.30272452068617556,
          0.30272452068617556,
          0.30272452068617556,
          0.30272452068617556,
          0.30272452068617556,
          0.30272452068617556,
          0.20181634712411706,
          0.20181634712411706,
          0.20181634712411706,
          0.20181634712411706,
          0.20181634712411706,
          0.20181634712411706,
          0.20181634712411706,
          0.20181634712411706,
          0.20181634712411706,
          0.20181634712411706,
          0.10090817356205853,
          0.10090817356205853,
          0.10090817356205853,
          0.10090817356205853,
          0.10090817356205853,
          0.10090817356205853,
          0.10090817356205853,
          0.10090817356205853,
          0.10090817356205853,
          0.10090817356205853,
          0.10090817356205853,
          0.10090817356205853,
          0.10090817356205853,
          0.10090817356205853,
          0.10090817356205853
         ],
         "yaxis": "y"
        }
       ],
       "layout": {
        "barmode": "relative",
        "coloraxis": {
         "colorbar": {
          "title": {
           "text": "cluster"
          }
         },
         "colorscale": [
          [
           0,
           "#0d0887"
          ],
          [
           0.1111111111111111,
           "#46039f"
          ],
          [
           0.2222222222222222,
           "#7201a8"
          ],
          [
           0.3333333333333333,
           "#9c179e"
          ],
          [
           0.4444444444444444,
           "#bd3786"
          ],
          [
           0.5555555555555556,
           "#d8576b"
          ],
          [
           0.6666666666666666,
           "#ed7953"
          ],
          [
           0.7777777777777778,
           "#fb9f3a"
          ],
          [
           0.8888888888888888,
           "#fdca26"
          ],
          [
           1,
           "#f0f921"
          ]
         ]
        },
        "legend": {
         "tracegroupgap": 0
        },
        "margin": {
         "t": 60
        },
        "template": {
         "data": {
          "bar": [
           {
            "error_x": {
             "color": "#2a3f5f"
            },
            "error_y": {
             "color": "#2a3f5f"
            },
            "marker": {
             "line": {
              "color": "#E5ECF6",
              "width": 0.5
             },
             "pattern": {
              "fillmode": "overlay",
              "size": 10,
              "solidity": 0.2
             }
            },
            "type": "bar"
           }
          ],
          "barpolar": [
           {
            "marker": {
             "line": {
              "color": "#E5ECF6",
              "width": 0.5
             },
             "pattern": {
              "fillmode": "overlay",
              "size": 10,
              "solidity": 0.2
             }
            },
            "type": "barpolar"
           }
          ],
          "carpet": [
           {
            "aaxis": {
             "endlinecolor": "#2a3f5f",
             "gridcolor": "white",
             "linecolor": "white",
             "minorgridcolor": "white",
             "startlinecolor": "#2a3f5f"
            },
            "baxis": {
             "endlinecolor": "#2a3f5f",
             "gridcolor": "white",
             "linecolor": "white",
             "minorgridcolor": "white",
             "startlinecolor": "#2a3f5f"
            },
            "type": "carpet"
           }
          ],
          "choropleth": [
           {
            "colorbar": {
             "outlinewidth": 0,
             "ticks": ""
            },
            "type": "choropleth"
           }
          ],
          "contour": [
           {
            "colorbar": {
             "outlinewidth": 0,
             "ticks": ""
            },
            "colorscale": [
             [
              0,
              "#0d0887"
             ],
             [
              0.1111111111111111,
              "#46039f"
             ],
             [
              0.2222222222222222,
              "#7201a8"
             ],
             [
              0.3333333333333333,
              "#9c179e"
             ],
             [
              0.4444444444444444,
              "#bd3786"
             ],
             [
              0.5555555555555556,
              "#d8576b"
             ],
             [
              0.6666666666666666,
              "#ed7953"
             ],
             [
              0.7777777777777778,
              "#fb9f3a"
             ],
             [
              0.8888888888888888,
              "#fdca26"
             ],
             [
              1,
              "#f0f921"
             ]
            ],
            "type": "contour"
           }
          ],
          "contourcarpet": [
           {
            "colorbar": {
             "outlinewidth": 0,
             "ticks": ""
            },
            "type": "contourcarpet"
           }
          ],
          "heatmap": [
           {
            "colorbar": {
             "outlinewidth": 0,
             "ticks": ""
            },
            "colorscale": [
             [
              0,
              "#0d0887"
             ],
             [
              0.1111111111111111,
              "#46039f"
             ],
             [
              0.2222222222222222,
              "#7201a8"
             ],
             [
              0.3333333333333333,
              "#9c179e"
             ],
             [
              0.4444444444444444,
              "#bd3786"
             ],
             [
              0.5555555555555556,
              "#d8576b"
             ],
             [
              0.6666666666666666,
              "#ed7953"
             ],
             [
              0.7777777777777778,
              "#fb9f3a"
             ],
             [
              0.8888888888888888,
              "#fdca26"
             ],
             [
              1,
              "#f0f921"
             ]
            ],
            "type": "heatmap"
           }
          ],
          "heatmapgl": [
           {
            "colorbar": {
             "outlinewidth": 0,
             "ticks": ""
            },
            "colorscale": [
             [
              0,
              "#0d0887"
             ],
             [
              0.1111111111111111,
              "#46039f"
             ],
             [
              0.2222222222222222,
              "#7201a8"
             ],
             [
              0.3333333333333333,
              "#9c179e"
             ],
             [
              0.4444444444444444,
              "#bd3786"
             ],
             [
              0.5555555555555556,
              "#d8576b"
             ],
             [
              0.6666666666666666,
              "#ed7953"
             ],
             [
              0.7777777777777778,
              "#fb9f3a"
             ],
             [
              0.8888888888888888,
              "#fdca26"
             ],
             [
              1,
              "#f0f921"
             ]
            ],
            "type": "heatmapgl"
           }
          ],
          "histogram": [
           {
            "marker": {
             "pattern": {
              "fillmode": "overlay",
              "size": 10,
              "solidity": 0.2
             }
            },
            "type": "histogram"
           }
          ],
          "histogram2d": [
           {
            "colorbar": {
             "outlinewidth": 0,
             "ticks": ""
            },
            "colorscale": [
             [
              0,
              "#0d0887"
             ],
             [
              0.1111111111111111,
              "#46039f"
             ],
             [
              0.2222222222222222,
              "#7201a8"
             ],
             [
              0.3333333333333333,
              "#9c179e"
             ],
             [
              0.4444444444444444,
              "#bd3786"
             ],
             [
              0.5555555555555556,
              "#d8576b"
             ],
             [
              0.6666666666666666,
              "#ed7953"
             ],
             [
              0.7777777777777778,
              "#fb9f3a"
             ],
             [
              0.8888888888888888,
              "#fdca26"
             ],
             [
              1,
              "#f0f921"
             ]
            ],
            "type": "histogram2d"
           }
          ],
          "histogram2dcontour": [
           {
            "colorbar": {
             "outlinewidth": 0,
             "ticks": ""
            },
            "colorscale": [
             [
              0,
              "#0d0887"
             ],
             [
              0.1111111111111111,
              "#46039f"
             ],
             [
              0.2222222222222222,
              "#7201a8"
             ],
             [
              0.3333333333333333,
              "#9c179e"
             ],
             [
              0.4444444444444444,
              "#bd3786"
             ],
             [
              0.5555555555555556,
              "#d8576b"
             ],
             [
              0.6666666666666666,
              "#ed7953"
             ],
             [
              0.7777777777777778,
              "#fb9f3a"
             ],
             [
              0.8888888888888888,
              "#fdca26"
             ],
             [
              1,
              "#f0f921"
             ]
            ],
            "type": "histogram2dcontour"
           }
          ],
          "mesh3d": [
           {
            "colorbar": {
             "outlinewidth": 0,
             "ticks": ""
            },
            "type": "mesh3d"
           }
          ],
          "parcoords": [
           {
            "line": {
             "colorbar": {
              "outlinewidth": 0,
              "ticks": ""
             }
            },
            "type": "parcoords"
           }
          ],
          "pie": [
           {
            "automargin": true,
            "type": "pie"
           }
          ],
          "scatter": [
           {
            "fillpattern": {
             "fillmode": "overlay",
             "size": 10,
             "solidity": 0.2
            },
            "type": "scatter"
           }
          ],
          "scatter3d": [
           {
            "line": {
             "colorbar": {
              "outlinewidth": 0,
              "ticks": ""
             }
            },
            "marker": {
             "colorbar": {
              "outlinewidth": 0,
              "ticks": ""
             }
            },
            "type": "scatter3d"
           }
          ],
          "scattercarpet": [
           {
            "marker": {
             "colorbar": {
              "outlinewidth": 0,
              "ticks": ""
             }
            },
            "type": "scattercarpet"
           }
          ],
          "scattergeo": [
           {
            "marker": {
             "colorbar": {
              "outlinewidth": 0,
              "ticks": ""
             }
            },
            "type": "scattergeo"
           }
          ],
          "scattergl": [
           {
            "marker": {
             "colorbar": {
              "outlinewidth": 0,
              "ticks": ""
             }
            },
            "type": "scattergl"
           }
          ],
          "scattermapbox": [
           {
            "marker": {
             "colorbar": {
              "outlinewidth": 0,
              "ticks": ""
             }
            },
            "type": "scattermapbox"
           }
          ],
          "scatterpolar": [
           {
            "marker": {
             "colorbar": {
              "outlinewidth": 0,
              "ticks": ""
             }
            },
            "type": "scatterpolar"
           }
          ],
          "scatterpolargl": [
           {
            "marker": {
             "colorbar": {
              "outlinewidth": 0,
              "ticks": ""
             }
            },
            "type": "scatterpolargl"
           }
          ],
          "scatterternary": [
           {
            "marker": {
             "colorbar": {
              "outlinewidth": 0,
              "ticks": ""
             }
            },
            "type": "scatterternary"
           }
          ],
          "surface": [
           {
            "colorbar": {
             "outlinewidth": 0,
             "ticks": ""
            },
            "colorscale": [
             [
              0,
              "#0d0887"
             ],
             [
              0.1111111111111111,
              "#46039f"
             ],
             [
              0.2222222222222222,
              "#7201a8"
             ],
             [
              0.3333333333333333,
              "#9c179e"
             ],
             [
              0.4444444444444444,
              "#bd3786"
             ],
             [
              0.5555555555555556,
              "#d8576b"
             ],
             [
              0.6666666666666666,
              "#ed7953"
             ],
             [
              0.7777777777777778,
              "#fb9f3a"
             ],
             [
              0.8888888888888888,
              "#fdca26"
             ],
             [
              1,
              "#f0f921"
             ]
            ],
            "type": "surface"
           }
          ],
          "table": [
           {
            "cells": {
             "fill": {
              "color": "#EBF0F8"
             },
             "line": {
              "color": "white"
             }
            },
            "header": {
             "fill": {
              "color": "#C8D4E3"
             },
             "line": {
              "color": "white"
             }
            },
            "type": "table"
           }
          ]
         },
         "layout": {
          "annotationdefaults": {
           "arrowcolor": "#2a3f5f",
           "arrowhead": 0,
           "arrowwidth": 1
          },
          "autotypenumbers": "strict",
          "coloraxis": {
           "colorbar": {
            "outlinewidth": 0,
            "ticks": ""
           }
          },
          "colorscale": {
           "diverging": [
            [
             0,
             "#8e0152"
            ],
            [
             0.1,
             "#c51b7d"
            ],
            [
             0.2,
             "#de77ae"
            ],
            [
             0.3,
             "#f1b6da"
            ],
            [
             0.4,
             "#fde0ef"
            ],
            [
             0.5,
             "#f7f7f7"
            ],
            [
             0.6,
             "#e6f5d0"
            ],
            [
             0.7,
             "#b8e186"
            ],
            [
             0.8,
             "#7fbc41"
            ],
            [
             0.9,
             "#4d9221"
            ],
            [
             1,
             "#276419"
            ]
           ],
           "sequential": [
            [
             0,
             "#0d0887"
            ],
            [
             0.1111111111111111,
             "#46039f"
            ],
            [
             0.2222222222222222,
             "#7201a8"
            ],
            [
             0.3333333333333333,
             "#9c179e"
            ],
            [
             0.4444444444444444,
             "#bd3786"
            ],
            [
             0.5555555555555556,
             "#d8576b"
            ],
            [
             0.6666666666666666,
             "#ed7953"
            ],
            [
             0.7777777777777778,
             "#fb9f3a"
            ],
            [
             0.8888888888888888,
             "#fdca26"
            ],
            [
             1,
             "#f0f921"
            ]
           ],
           "sequentialminus": [
            [
             0,
             "#0d0887"
            ],
            [
             0.1111111111111111,
             "#46039f"
            ],
            [
             0.2222222222222222,
             "#7201a8"
            ],
            [
             0.3333333333333333,
             "#9c179e"
            ],
            [
             0.4444444444444444,
             "#bd3786"
            ],
            [
             0.5555555555555556,
             "#d8576b"
            ],
            [
             0.6666666666666666,
             "#ed7953"
            ],
            [
             0.7777777777777778,
             "#fb9f3a"
            ],
            [
             0.8888888888888888,
             "#fdca26"
            ],
            [
             1,
             "#f0f921"
            ]
           ]
          },
          "colorway": [
           "#636efa",
           "#EF553B",
           "#00cc96",
           "#ab63fa",
           "#FFA15A",
           "#19d3f3",
           "#FF6692",
           "#B6E880",
           "#FF97FF",
           "#FECB52"
          ],
          "font": {
           "color": "#2a3f5f"
          },
          "geo": {
           "bgcolor": "white",
           "lakecolor": "white",
           "landcolor": "#E5ECF6",
           "showlakes": true,
           "showland": true,
           "subunitcolor": "white"
          },
          "hoverlabel": {
           "align": "left"
          },
          "hovermode": "closest",
          "mapbox": {
           "style": "light"
          },
          "paper_bgcolor": "white",
          "plot_bgcolor": "#E5ECF6",
          "polar": {
           "angularaxis": {
            "gridcolor": "white",
            "linecolor": "white",
            "ticks": ""
           },
           "bgcolor": "#E5ECF6",
           "radialaxis": {
            "gridcolor": "white",
            "linecolor": "white",
            "ticks": ""
           }
          },
          "scene": {
           "xaxis": {
            "backgroundcolor": "#E5ECF6",
            "gridcolor": "white",
            "gridwidth": 2,
            "linecolor": "white",
            "showbackground": true,
            "ticks": "",
            "zerolinecolor": "white"
           },
           "yaxis": {
            "backgroundcolor": "#E5ECF6",
            "gridcolor": "white",
            "gridwidth": 2,
            "linecolor": "white",
            "showbackground": true,
            "ticks": "",
            "zerolinecolor": "white"
           },
           "zaxis": {
            "backgroundcolor": "#E5ECF6",
            "gridcolor": "white",
            "gridwidth": 2,
            "linecolor": "white",
            "showbackground": true,
            "ticks": "",
            "zerolinecolor": "white"
           }
          },
          "shapedefaults": {
           "line": {
            "color": "#2a3f5f"
           }
          },
          "ternary": {
           "aaxis": {
            "gridcolor": "white",
            "linecolor": "white",
            "ticks": ""
           },
           "baxis": {
            "gridcolor": "white",
            "linecolor": "white",
            "ticks": ""
           },
           "bgcolor": "#E5ECF6",
           "caxis": {
            "gridcolor": "white",
            "linecolor": "white",
            "ticks": ""
           }
          },
          "title": {
           "x": 0.05
          },
          "xaxis": {
           "automargin": true,
           "gridcolor": "white",
           "linecolor": "white",
           "ticks": "",
           "title": {
            "standoff": 15
           },
           "zerolinecolor": "white",
           "zerolinewidth": 2
          },
          "yaxis": {
           "automargin": true,
           "gridcolor": "white",
           "linecolor": "white",
           "ticks": "",
           "title": {
            "standoff": 15
           },
           "zerolinecolor": "white",
           "zerolinewidth": 2
          }
         }
        },
        "xaxis": {
         "anchor": "y",
         "domain": [
          0,
          1
         ],
         "title": {
          "text": "cluster"
         }
        },
        "yaxis": {
         "anchor": "x",
         "domain": [
          0,
          1
         ],
         "title": {
          "text": "value"
         }
        }
       }
      }
     },
     "metadata": {},
     "output_type": "display_data"
    }
   ],
   "source": [
    "# Distribuição da variável cluster\n",
    "percentual_cluster = df_laptops.value_counts('cluster') / len(df_laptops) * 100\n",
    "px.bar(percentual_cluster, color=percentual_cluster.index)"
   ]
  },
  {
   "cell_type": "code",
   "execution_count": 44,
   "metadata": {},
   "outputs": [
    {
     "data": {
      "application/vnd.plotly.v1+json": {
       "config": {
        "plotlyServerURL": "https://plot.ly"
       },
       "data": [
        {
         "alignmentgroup": "True",
         "hovertemplate": "cluster=%{marker.color}<br>value=%{y}<extra></extra>",
         "legendgroup": "",
         "marker": {
          "color": [
           14,
           3,
           31,
           4,
           21,
           7,
           9,
           11,
           38,
           15,
           46,
           82,
           13,
           84,
           107,
           19,
           5,
           91,
           85,
           27,
           0,
           50,
           47,
           62,
           51,
           25,
           53,
           93,
           89,
           48,
           10,
           73,
           56,
           32,
           147,
           28,
           95,
           20,
           114,
           30,
           17,
           137,
           49,
           57,
           94,
           102,
           37,
           29,
           65,
           111,
           121,
           135,
           64,
           74,
           148,
           18,
           2,
           80,
           16,
           72,
           130,
           66,
           139,
           33,
           23,
           39,
           146,
           75,
           41,
           78,
           132,
           67,
           35,
           36,
           55,
           113,
           122,
           105,
           90,
           97,
           96,
           69,
           42,
           43,
           8,
           44,
           136,
           59,
           52,
           124,
           116,
           127,
           129,
           106,
           128,
           54,
           88,
           70,
           86,
           76,
           61,
           63,
           1,
           26,
           123,
           71,
           24,
           68,
           115,
           134,
           6,
           60,
           58,
           45,
           12,
           79,
           87,
           99,
           92,
           40,
           34,
           112,
           110,
           109,
           22,
           140,
           104,
           133,
           131,
           101,
           77,
           83,
           126,
           119,
           108,
           142,
           98,
           118,
           145,
           144,
           143,
           100,
           141,
           138,
           120,
           103,
           125,
           117,
           81
          ],
          "coloraxis": "coloraxis",
          "pattern": {
           "shape": ""
          }
         },
         "name": "",
         "offsetgroup": "",
         "orientation": "v",
         "showlegend": false,
         "textposition": "auto",
         "type": "bar",
         "x": [
          14,
          3,
          31,
          4,
          21,
          7,
          9,
          11,
          38,
          15,
          46,
          82,
          13,
          84,
          107,
          19,
          5,
          91,
          85,
          27,
          0,
          50,
          47,
          62,
          51,
          25,
          53,
          93,
          89,
          48,
          10,
          73,
          56,
          32,
          147,
          28,
          95,
          20,
          114,
          30,
          17,
          137,
          49,
          57,
          94,
          102,
          37,
          29,
          65,
          111,
          121,
          135,
          64,
          74,
          148,
          18,
          2,
          80,
          16,
          72,
          130,
          66,
          139,
          33,
          23,
          39,
          146,
          75,
          41,
          78,
          132,
          67,
          35,
          36,
          55,
          113,
          122,
          105,
          90,
          97,
          96,
          69,
          42,
          43,
          8,
          44,
          136,
          59,
          52,
          124,
          116,
          127,
          129,
          106,
          128,
          54,
          88,
          70,
          86,
          76,
          61,
          63,
          1,
          26,
          123,
          71,
          24,
          68,
          115,
          134,
          6,
          60,
          58,
          45,
          12,
          79,
          87,
          99,
          92,
          40,
          34,
          112,
          110,
          109,
          22,
          140,
          104,
          133,
          131,
          101,
          77,
          83,
          126,
          119,
          108,
          142,
          98,
          118,
          145,
          144,
          143,
          100,
          141,
          138,
          120,
          103,
          125,
          117,
          81
         ],
         "xaxis": "x",
         "y": [
          22,
          21,
          20,
          19,
          16,
          15,
          15,
          14,
          14,
          14,
          14,
          13,
          13,
          13,
          13,
          13,
          12,
          12,
          12,
          12,
          12,
          12,
          11,
          11,
          11,
          11,
          11,
          11,
          11,
          11,
          11,
          10,
          10,
          10,
          10,
          10,
          10,
          10,
          10,
          10,
          9,
          9,
          9,
          9,
          9,
          9,
          9,
          9,
          8,
          8,
          8,
          8,
          8,
          8,
          8,
          8,
          8,
          7,
          7,
          7,
          7,
          7,
          7,
          7,
          7,
          6,
          6,
          6,
          6,
          6,
          6,
          6,
          5,
          5,
          5,
          5,
          5,
          5,
          5,
          5,
          5,
          5,
          5,
          5,
          5,
          5,
          5,
          5,
          5,
          4,
          4,
          4,
          4,
          4,
          4,
          4,
          4,
          4,
          4,
          4,
          4,
          4,
          4,
          3,
          3,
          3,
          3,
          3,
          3,
          3,
          3,
          3,
          3,
          3,
          3,
          3,
          3,
          3,
          3,
          3,
          3,
          3,
          3,
          3,
          2,
          2,
          2,
          2,
          2,
          2,
          2,
          2,
          2,
          2,
          1,
          1,
          1,
          1,
          1,
          1,
          1,
          1,
          1,
          1,
          1,
          1,
          1,
          1,
          1
         ],
         "yaxis": "y"
        }
       ],
       "layout": {
        "barmode": "relative",
        "coloraxis": {
         "colorbar": {
          "title": {
           "text": "cluster"
          }
         },
         "colorscale": [
          [
           0,
           "#0d0887"
          ],
          [
           0.1111111111111111,
           "#46039f"
          ],
          [
           0.2222222222222222,
           "#7201a8"
          ],
          [
           0.3333333333333333,
           "#9c179e"
          ],
          [
           0.4444444444444444,
           "#bd3786"
          ],
          [
           0.5555555555555556,
           "#d8576b"
          ],
          [
           0.6666666666666666,
           "#ed7953"
          ],
          [
           0.7777777777777778,
           "#fb9f3a"
          ],
          [
           0.8888888888888888,
           "#fdca26"
          ],
          [
           1,
           "#f0f921"
          ]
         ]
        },
        "legend": {
         "tracegroupgap": 0
        },
        "margin": {
         "t": 60
        },
        "template": {
         "data": {
          "bar": [
           {
            "error_x": {
             "color": "#2a3f5f"
            },
            "error_y": {
             "color": "#2a3f5f"
            },
            "marker": {
             "line": {
              "color": "#E5ECF6",
              "width": 0.5
             },
             "pattern": {
              "fillmode": "overlay",
              "size": 10,
              "solidity": 0.2
             }
            },
            "type": "bar"
           }
          ],
          "barpolar": [
           {
            "marker": {
             "line": {
              "color": "#E5ECF6",
              "width": 0.5
             },
             "pattern": {
              "fillmode": "overlay",
              "size": 10,
              "solidity": 0.2
             }
            },
            "type": "barpolar"
           }
          ],
          "carpet": [
           {
            "aaxis": {
             "endlinecolor": "#2a3f5f",
             "gridcolor": "white",
             "linecolor": "white",
             "minorgridcolor": "white",
             "startlinecolor": "#2a3f5f"
            },
            "baxis": {
             "endlinecolor": "#2a3f5f",
             "gridcolor": "white",
             "linecolor": "white",
             "minorgridcolor": "white",
             "startlinecolor": "#2a3f5f"
            },
            "type": "carpet"
           }
          ],
          "choropleth": [
           {
            "colorbar": {
             "outlinewidth": 0,
             "ticks": ""
            },
            "type": "choropleth"
           }
          ],
          "contour": [
           {
            "colorbar": {
             "outlinewidth": 0,
             "ticks": ""
            },
            "colorscale": [
             [
              0,
              "#0d0887"
             ],
             [
              0.1111111111111111,
              "#46039f"
             ],
             [
              0.2222222222222222,
              "#7201a8"
             ],
             [
              0.3333333333333333,
              "#9c179e"
             ],
             [
              0.4444444444444444,
              "#bd3786"
             ],
             [
              0.5555555555555556,
              "#d8576b"
             ],
             [
              0.6666666666666666,
              "#ed7953"
             ],
             [
              0.7777777777777778,
              "#fb9f3a"
             ],
             [
              0.8888888888888888,
              "#fdca26"
             ],
             [
              1,
              "#f0f921"
             ]
            ],
            "type": "contour"
           }
          ],
          "contourcarpet": [
           {
            "colorbar": {
             "outlinewidth": 0,
             "ticks": ""
            },
            "type": "contourcarpet"
           }
          ],
          "heatmap": [
           {
            "colorbar": {
             "outlinewidth": 0,
             "ticks": ""
            },
            "colorscale": [
             [
              0,
              "#0d0887"
             ],
             [
              0.1111111111111111,
              "#46039f"
             ],
             [
              0.2222222222222222,
              "#7201a8"
             ],
             [
              0.3333333333333333,
              "#9c179e"
             ],
             [
              0.4444444444444444,
              "#bd3786"
             ],
             [
              0.5555555555555556,
              "#d8576b"
             ],
             [
              0.6666666666666666,
              "#ed7953"
             ],
             [
              0.7777777777777778,
              "#fb9f3a"
             ],
             [
              0.8888888888888888,
              "#fdca26"
             ],
             [
              1,
              "#f0f921"
             ]
            ],
            "type": "heatmap"
           }
          ],
          "heatmapgl": [
           {
            "colorbar": {
             "outlinewidth": 0,
             "ticks": ""
            },
            "colorscale": [
             [
              0,
              "#0d0887"
             ],
             [
              0.1111111111111111,
              "#46039f"
             ],
             [
              0.2222222222222222,
              "#7201a8"
             ],
             [
              0.3333333333333333,
              "#9c179e"
             ],
             [
              0.4444444444444444,
              "#bd3786"
             ],
             [
              0.5555555555555556,
              "#d8576b"
             ],
             [
              0.6666666666666666,
              "#ed7953"
             ],
             [
              0.7777777777777778,
              "#fb9f3a"
             ],
             [
              0.8888888888888888,
              "#fdca26"
             ],
             [
              1,
              "#f0f921"
             ]
            ],
            "type": "heatmapgl"
           }
          ],
          "histogram": [
           {
            "marker": {
             "pattern": {
              "fillmode": "overlay",
              "size": 10,
              "solidity": 0.2
             }
            },
            "type": "histogram"
           }
          ],
          "histogram2d": [
           {
            "colorbar": {
             "outlinewidth": 0,
             "ticks": ""
            },
            "colorscale": [
             [
              0,
              "#0d0887"
             ],
             [
              0.1111111111111111,
              "#46039f"
             ],
             [
              0.2222222222222222,
              "#7201a8"
             ],
             [
              0.3333333333333333,
              "#9c179e"
             ],
             [
              0.4444444444444444,
              "#bd3786"
             ],
             [
              0.5555555555555556,
              "#d8576b"
             ],
             [
              0.6666666666666666,
              "#ed7953"
             ],
             [
              0.7777777777777778,
              "#fb9f3a"
             ],
             [
              0.8888888888888888,
              "#fdca26"
             ],
             [
              1,
              "#f0f921"
             ]
            ],
            "type": "histogram2d"
           }
          ],
          "histogram2dcontour": [
           {
            "colorbar": {
             "outlinewidth": 0,
             "ticks": ""
            },
            "colorscale": [
             [
              0,
              "#0d0887"
             ],
             [
              0.1111111111111111,
              "#46039f"
             ],
             [
              0.2222222222222222,
              "#7201a8"
             ],
             [
              0.3333333333333333,
              "#9c179e"
             ],
             [
              0.4444444444444444,
              "#bd3786"
             ],
             [
              0.5555555555555556,
              "#d8576b"
             ],
             [
              0.6666666666666666,
              "#ed7953"
             ],
             [
              0.7777777777777778,
              "#fb9f3a"
             ],
             [
              0.8888888888888888,
              "#fdca26"
             ],
             [
              1,
              "#f0f921"
             ]
            ],
            "type": "histogram2dcontour"
           }
          ],
          "mesh3d": [
           {
            "colorbar": {
             "outlinewidth": 0,
             "ticks": ""
            },
            "type": "mesh3d"
           }
          ],
          "parcoords": [
           {
            "line": {
             "colorbar": {
              "outlinewidth": 0,
              "ticks": ""
             }
            },
            "type": "parcoords"
           }
          ],
          "pie": [
           {
            "automargin": true,
            "type": "pie"
           }
          ],
          "scatter": [
           {
            "fillpattern": {
             "fillmode": "overlay",
             "size": 10,
             "solidity": 0.2
            },
            "type": "scatter"
           }
          ],
          "scatter3d": [
           {
            "line": {
             "colorbar": {
              "outlinewidth": 0,
              "ticks": ""
             }
            },
            "marker": {
             "colorbar": {
              "outlinewidth": 0,
              "ticks": ""
             }
            },
            "type": "scatter3d"
           }
          ],
          "scattercarpet": [
           {
            "marker": {
             "colorbar": {
              "outlinewidth": 0,
              "ticks": ""
             }
            },
            "type": "scattercarpet"
           }
          ],
          "scattergeo": [
           {
            "marker": {
             "colorbar": {
              "outlinewidth": 0,
              "ticks": ""
             }
            },
            "type": "scattergeo"
           }
          ],
          "scattergl": [
           {
            "marker": {
             "colorbar": {
              "outlinewidth": 0,
              "ticks": ""
             }
            },
            "type": "scattergl"
           }
          ],
          "scattermapbox": [
           {
            "marker": {
             "colorbar": {
              "outlinewidth": 0,
              "ticks": ""
             }
            },
            "type": "scattermapbox"
           }
          ],
          "scatterpolar": [
           {
            "marker": {
             "colorbar": {
              "outlinewidth": 0,
              "ticks": ""
             }
            },
            "type": "scatterpolar"
           }
          ],
          "scatterpolargl": [
           {
            "marker": {
             "colorbar": {
              "outlinewidth": 0,
              "ticks": ""
             }
            },
            "type": "scatterpolargl"
           }
          ],
          "scatterternary": [
           {
            "marker": {
             "colorbar": {
              "outlinewidth": 0,
              "ticks": ""
             }
            },
            "type": "scatterternary"
           }
          ],
          "surface": [
           {
            "colorbar": {
             "outlinewidth": 0,
             "ticks": ""
            },
            "colorscale": [
             [
              0,
              "#0d0887"
             ],
             [
              0.1111111111111111,
              "#46039f"
             ],
             [
              0.2222222222222222,
              "#7201a8"
             ],
             [
              0.3333333333333333,
              "#9c179e"
             ],
             [
              0.4444444444444444,
              "#bd3786"
             ],
             [
              0.5555555555555556,
              "#d8576b"
             ],
             [
              0.6666666666666666,
              "#ed7953"
             ],
             [
              0.7777777777777778,
              "#fb9f3a"
             ],
             [
              0.8888888888888888,
              "#fdca26"
             ],
             [
              1,
              "#f0f921"
             ]
            ],
            "type": "surface"
           }
          ],
          "table": [
           {
            "cells": {
             "fill": {
              "color": "#EBF0F8"
             },
             "line": {
              "color": "white"
             }
            },
            "header": {
             "fill": {
              "color": "#C8D4E3"
             },
             "line": {
              "color": "white"
             }
            },
            "type": "table"
           }
          ]
         },
         "layout": {
          "annotationdefaults": {
           "arrowcolor": "#2a3f5f",
           "arrowhead": 0,
           "arrowwidth": 1
          },
          "autotypenumbers": "strict",
          "coloraxis": {
           "colorbar": {
            "outlinewidth": 0,
            "ticks": ""
           }
          },
          "colorscale": {
           "diverging": [
            [
             0,
             "#8e0152"
            ],
            [
             0.1,
             "#c51b7d"
            ],
            [
             0.2,
             "#de77ae"
            ],
            [
             0.3,
             "#f1b6da"
            ],
            [
             0.4,
             "#fde0ef"
            ],
            [
             0.5,
             "#f7f7f7"
            ],
            [
             0.6,
             "#e6f5d0"
            ],
            [
             0.7,
             "#b8e186"
            ],
            [
             0.8,
             "#7fbc41"
            ],
            [
             0.9,
             "#4d9221"
            ],
            [
             1,
             "#276419"
            ]
           ],
           "sequential": [
            [
             0,
             "#0d0887"
            ],
            [
             0.1111111111111111,
             "#46039f"
            ],
            [
             0.2222222222222222,
             "#7201a8"
            ],
            [
             0.3333333333333333,
             "#9c179e"
            ],
            [
             0.4444444444444444,
             "#bd3786"
            ],
            [
             0.5555555555555556,
             "#d8576b"
            ],
            [
             0.6666666666666666,
             "#ed7953"
            ],
            [
             0.7777777777777778,
             "#fb9f3a"
            ],
            [
             0.8888888888888888,
             "#fdca26"
            ],
            [
             1,
             "#f0f921"
            ]
           ],
           "sequentialminus": [
            [
             0,
             "#0d0887"
            ],
            [
             0.1111111111111111,
             "#46039f"
            ],
            [
             0.2222222222222222,
             "#7201a8"
            ],
            [
             0.3333333333333333,
             "#9c179e"
            ],
            [
             0.4444444444444444,
             "#bd3786"
            ],
            [
             0.5555555555555556,
             "#d8576b"
            ],
            [
             0.6666666666666666,
             "#ed7953"
            ],
            [
             0.7777777777777778,
             "#fb9f3a"
            ],
            [
             0.8888888888888888,
             "#fdca26"
            ],
            [
             1,
             "#f0f921"
            ]
           ]
          },
          "colorway": [
           "#636efa",
           "#EF553B",
           "#00cc96",
           "#ab63fa",
           "#FFA15A",
           "#19d3f3",
           "#FF6692",
           "#B6E880",
           "#FF97FF",
           "#FECB52"
          ],
          "font": {
           "color": "#2a3f5f"
          },
          "geo": {
           "bgcolor": "white",
           "lakecolor": "white",
           "landcolor": "#E5ECF6",
           "showlakes": true,
           "showland": true,
           "subunitcolor": "white"
          },
          "hoverlabel": {
           "align": "left"
          },
          "hovermode": "closest",
          "mapbox": {
           "style": "light"
          },
          "paper_bgcolor": "white",
          "plot_bgcolor": "#E5ECF6",
          "polar": {
           "angularaxis": {
            "gridcolor": "white",
            "linecolor": "white",
            "ticks": ""
           },
           "bgcolor": "#E5ECF6",
           "radialaxis": {
            "gridcolor": "white",
            "linecolor": "white",
            "ticks": ""
           }
          },
          "scene": {
           "xaxis": {
            "backgroundcolor": "#E5ECF6",
            "gridcolor": "white",
            "gridwidth": 2,
            "linecolor": "white",
            "showbackground": true,
            "ticks": "",
            "zerolinecolor": "white"
           },
           "yaxis": {
            "backgroundcolor": "#E5ECF6",
            "gridcolor": "white",
            "gridwidth": 2,
            "linecolor": "white",
            "showbackground": true,
            "ticks": "",
            "zerolinecolor": "white"
           },
           "zaxis": {
            "backgroundcolor": "#E5ECF6",
            "gridcolor": "white",
            "gridwidth": 2,
            "linecolor": "white",
            "showbackground": true,
            "ticks": "",
            "zerolinecolor": "white"
           }
          },
          "shapedefaults": {
           "line": {
            "color": "#2a3f5f"
           }
          },
          "ternary": {
           "aaxis": {
            "gridcolor": "white",
            "linecolor": "white",
            "ticks": ""
           },
           "baxis": {
            "gridcolor": "white",
            "linecolor": "white",
            "ticks": ""
           },
           "bgcolor": "#E5ECF6",
           "caxis": {
            "gridcolor": "white",
            "linecolor": "white",
            "ticks": ""
           }
          },
          "title": {
           "x": 0.05
          },
          "xaxis": {
           "automargin": true,
           "gridcolor": "white",
           "linecolor": "white",
           "ticks": "",
           "title": {
            "standoff": 15
           },
           "zerolinecolor": "white",
           "zerolinewidth": 2
          },
          "yaxis": {
           "automargin": true,
           "gridcolor": "white",
           "linecolor": "white",
           "ticks": "",
           "title": {
            "standoff": 15
           },
           "zerolinecolor": "white",
           "zerolinewidth": 2
          }
         }
        },
        "xaxis": {
         "anchor": "y",
         "domain": [
          0,
          1
         ],
         "title": {
          "text": "cluster"
         }
        },
        "yaxis": {
         "anchor": "x",
         "domain": [
          0,
          1
         ],
         "title": {
          "text": "value"
         }
        }
       }
      }
     },
     "metadata": {},
     "output_type": "display_data"
    }
   ],
   "source": [
    "# Distribuição da variável cluster\n",
    "qtde_cluster = df_laptops.value_counts('cluster')\n",
    "px.bar(qtde_cluster, color=qtde_cluster.index)"
   ]
  },
  {
   "cell_type": "markdown",
   "metadata": {},
   "source": [
    "### Salvar Modelo, PreProcessor e CSV Atualizado"
   ]
  },
  {
   "cell_type": "code",
   "execution_count": 45,
   "metadata": {},
   "outputs": [
    {
     "data": {
      "text/plain": [
       "['./preprocessor_clusterizacao_laptops.pkl']"
      ]
     },
     "execution_count": 45,
     "metadata": {},
     "output_type": "execute_result"
    }
   ],
   "source": [
    "# Salvar Modelo e Preprocessor\n",
    "import joblib\n",
    "\n",
    "# Salvar o modelo\n",
    "joblib.dump(best_model, './modelo_clusterizacao_laptops.pkl')\n",
    "\n",
    "# Salvar o Preprocessor\n",
    "joblib.dump(preprocessor, './preprocessor_clusterizacao_laptops.pkl')"
   ]
  },
  {
   "cell_type": "code",
   "execution_count": 46,
   "metadata": {},
   "outputs": [],
   "source": [
    "# Salvar CSV atualizado com dados de cluster\n",
    "df_laptops.to_csv('./datasets/clusterizacao_laptops.csv', index=False)"
   ]
  }
 ],
 "metadata": {
  "kernelspec": {
   "display_name": "clusterizacao_hierarquica-Lyd2bmwZ",
   "language": "python",
   "name": "python3"
  },
  "language_info": {
   "codemirror_mode": {
    "name": "ipython",
    "version": 3
   },
   "file_extension": ".py",
   "mimetype": "text/x-python",
   "name": "python",
   "nbconvert_exporter": "python",
   "pygments_lexer": "ipython3",
   "version": "3.10.12"
  }
 },
 "nbformat": 4,
 "nbformat_minor": 2
}
