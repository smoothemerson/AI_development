{
 "cells": [
  {
   "cell_type": "code",
   "execution_count": 1,
   "metadata": {},
   "outputs": [],
   "source": [
    "# EDA e Visualização de Dados\n",
    "import pandas as pd\n",
    "import plotly.express as px\n",
    "import seaborn as sns\n",
    "from matplotlib import pyplot as plt\n",
    "\n",
    "# ML\n",
    "from sklearn.decomposition import PCA\n",
    "from sklearn.metrics import mean_squared_error\n",
    "from sklearn.preprocessing import StandardScaler\n",
    "from sklearn.compose import ColumnTransformer\n",
    "import numpy as np"
   ]
  },
  {
   "cell_type": "markdown",
   "metadata": {},
   "source": [
    "### Carregar os dados"
   ]
  },
  {
   "cell_type": "code",
   "execution_count": 2,
   "metadata": {},
   "outputs": [],
   "source": [
    "# Carregar Dataframe\n",
    "df_countries = pd.read_csv('./datasets/Country_Data.csv', sep=';', decimal=',')"
   ]
  },
  {
   "cell_type": "code",
   "execution_count": 3,
   "metadata": {},
   "outputs": [
    {
     "name": "stdout",
     "output_type": "stream",
     "text": [
      "<class 'pandas.core.frame.DataFrame'>\n",
      "RangeIndex: 165 entries, 0 to 164\n",
      "Data columns (total 11 columns):\n",
      " #   Column           Non-Null Count  Dtype  \n",
      "---  ------           --------------  -----  \n",
      " 0   country          165 non-null    object \n",
      " 1   child_mort       165 non-null    float64\n",
      " 2   exports          165 non-null    float64\n",
      " 3   health           165 non-null    float64\n",
      " 4   imports          165 non-null    float64\n",
      " 5   income           165 non-null    int64  \n",
      " 6   inflation        165 non-null    float64\n",
      " 7   life_expec       165 non-null    float64\n",
      " 8   total_fer        165 non-null    float64\n",
      " 9   gdpp             165 non-null    int64  \n",
      " 10  income_category  165 non-null    object \n",
      "dtypes: float64(7), int64(2), object(2)\n",
      "memory usage: 14.3+ KB\n"
     ]
    }
   ],
   "source": [
    "# Analisar a estrutura\n",
    "df_countries.info()"
   ]
  },
  {
   "cell_type": "code",
   "execution_count": 4,
   "metadata": {},
   "outputs": [
    {
     "data": {
      "text/html": [
       "<div>\n",
       "<style scoped>\n",
       "    .dataframe tbody tr th:only-of-type {\n",
       "        vertical-align: middle;\n",
       "    }\n",
       "\n",
       "    .dataframe tbody tr th {\n",
       "        vertical-align: top;\n",
       "    }\n",
       "\n",
       "    .dataframe thead th {\n",
       "        text-align: right;\n",
       "    }\n",
       "</style>\n",
       "<table border=\"1\" class=\"dataframe\">\n",
       "  <thead>\n",
       "    <tr style=\"text-align: right;\">\n",
       "      <th></th>\n",
       "      <th>country</th>\n",
       "      <th>child_mort</th>\n",
       "      <th>exports</th>\n",
       "      <th>health</th>\n",
       "      <th>imports</th>\n",
       "      <th>income</th>\n",
       "      <th>inflation</th>\n",
       "      <th>life_expec</th>\n",
       "      <th>total_fer</th>\n",
       "      <th>gdpp</th>\n",
       "      <th>income_category</th>\n",
       "    </tr>\n",
       "  </thead>\n",
       "  <tbody>\n",
       "    <tr>\n",
       "      <th>0</th>\n",
       "      <td>Afghanistan</td>\n",
       "      <td>90.2</td>\n",
       "      <td>10.0</td>\n",
       "      <td>7.58</td>\n",
       "      <td>44.9</td>\n",
       "      <td>1610</td>\n",
       "      <td>9.44</td>\n",
       "      <td>56.2</td>\n",
       "      <td>5.82</td>\n",
       "      <td>553</td>\n",
       "      <td>Low income</td>\n",
       "    </tr>\n",
       "    <tr>\n",
       "      <th>1</th>\n",
       "      <td>Albania</td>\n",
       "      <td>16.6</td>\n",
       "      <td>28.0</td>\n",
       "      <td>6.55</td>\n",
       "      <td>48.6</td>\n",
       "      <td>9930</td>\n",
       "      <td>4.49</td>\n",
       "      <td>76.3</td>\n",
       "      <td>1.65</td>\n",
       "      <td>4090</td>\n",
       "      <td>Upper middle income</td>\n",
       "    </tr>\n",
       "    <tr>\n",
       "      <th>2</th>\n",
       "      <td>Algeria</td>\n",
       "      <td>27.3</td>\n",
       "      <td>38.4</td>\n",
       "      <td>4.17</td>\n",
       "      <td>31.4</td>\n",
       "      <td>12900</td>\n",
       "      <td>16.10</td>\n",
       "      <td>76.5</td>\n",
       "      <td>2.89</td>\n",
       "      <td>4460</td>\n",
       "      <td>Lower middle income</td>\n",
       "    </tr>\n",
       "    <tr>\n",
       "      <th>3</th>\n",
       "      <td>Angola</td>\n",
       "      <td>119.0</td>\n",
       "      <td>62.3</td>\n",
       "      <td>2.85</td>\n",
       "      <td>42.9</td>\n",
       "      <td>5900</td>\n",
       "      <td>22.40</td>\n",
       "      <td>60.1</td>\n",
       "      <td>6.16</td>\n",
       "      <td>3530</td>\n",
       "      <td>Lower middle income</td>\n",
       "    </tr>\n",
       "    <tr>\n",
       "      <th>4</th>\n",
       "      <td>Antigua and Barbuda</td>\n",
       "      <td>10.3</td>\n",
       "      <td>45.5</td>\n",
       "      <td>6.03</td>\n",
       "      <td>58.9</td>\n",
       "      <td>19100</td>\n",
       "      <td>1.44</td>\n",
       "      <td>76.8</td>\n",
       "      <td>2.13</td>\n",
       "      <td>12200</td>\n",
       "      <td>High income</td>\n",
       "    </tr>\n",
       "  </tbody>\n",
       "</table>\n",
       "</div>"
      ],
      "text/plain": [
       "               country  child_mort  exports  health  imports  income  \\\n",
       "0          Afghanistan        90.2     10.0    7.58     44.9    1610   \n",
       "1              Albania        16.6     28.0    6.55     48.6    9930   \n",
       "2              Algeria        27.3     38.4    4.17     31.4   12900   \n",
       "3               Angola       119.0     62.3    2.85     42.9    5900   \n",
       "4  Antigua and Barbuda        10.3     45.5    6.03     58.9   19100   \n",
       "\n",
       "   inflation  life_expec  total_fer   gdpp      income_category  \n",
       "0       9.44        56.2       5.82    553           Low income  \n",
       "1       4.49        76.3       1.65   4090  Upper middle income  \n",
       "2      16.10        76.5       2.89   4460  Lower middle income  \n",
       "3      22.40        60.1       6.16   3530  Lower middle income  \n",
       "4       1.44        76.8       2.13  12200          High income  "
      ]
     },
     "execution_count": 4,
     "metadata": {},
     "output_type": "execute_result"
    }
   ],
   "source": [
    "# Visualizar os primeiros registros\n",
    "df_countries.head(5)"
   ]
  },
  {
   "cell_type": "code",
   "execution_count": 5,
   "metadata": {},
   "outputs": [
    {
     "data": {
      "text/html": [
       "<div>\n",
       "<style scoped>\n",
       "    .dataframe tbody tr th:only-of-type {\n",
       "        vertical-align: middle;\n",
       "    }\n",
       "\n",
       "    .dataframe tbody tr th {\n",
       "        vertical-align: top;\n",
       "    }\n",
       "\n",
       "    .dataframe thead th {\n",
       "        text-align: right;\n",
       "    }\n",
       "</style>\n",
       "<table border=\"1\" class=\"dataframe\">\n",
       "  <thead>\n",
       "    <tr style=\"text-align: right;\">\n",
       "      <th></th>\n",
       "      <th>country</th>\n",
       "      <th>child_mort</th>\n",
       "      <th>exports</th>\n",
       "      <th>health</th>\n",
       "      <th>imports</th>\n",
       "      <th>income</th>\n",
       "      <th>inflation</th>\n",
       "      <th>life_expec</th>\n",
       "      <th>total_fer</th>\n",
       "      <th>gdpp</th>\n",
       "      <th>income_category</th>\n",
       "    </tr>\n",
       "  </thead>\n",
       "  <tbody>\n",
       "    <tr>\n",
       "      <th>160</th>\n",
       "      <td>Uzbekistan</td>\n",
       "      <td>36.3</td>\n",
       "      <td>31.7</td>\n",
       "      <td>5.81</td>\n",
       "      <td>28.5</td>\n",
       "      <td>4240</td>\n",
       "      <td>16.50</td>\n",
       "      <td>68.8</td>\n",
       "      <td>2.34</td>\n",
       "      <td>1380</td>\n",
       "      <td>Lower middle income</td>\n",
       "    </tr>\n",
       "    <tr>\n",
       "      <th>161</th>\n",
       "      <td>Vanuatu</td>\n",
       "      <td>29.2</td>\n",
       "      <td>46.6</td>\n",
       "      <td>5.25</td>\n",
       "      <td>52.7</td>\n",
       "      <td>2950</td>\n",
       "      <td>2.62</td>\n",
       "      <td>63.0</td>\n",
       "      <td>3.50</td>\n",
       "      <td>2970</td>\n",
       "      <td>Lower middle income</td>\n",
       "    </tr>\n",
       "    <tr>\n",
       "      <th>162</th>\n",
       "      <td>Vietnam</td>\n",
       "      <td>23.3</td>\n",
       "      <td>72.0</td>\n",
       "      <td>6.84</td>\n",
       "      <td>80.2</td>\n",
       "      <td>4490</td>\n",
       "      <td>12.10</td>\n",
       "      <td>73.1</td>\n",
       "      <td>1.95</td>\n",
       "      <td>1310</td>\n",
       "      <td>Lower middle income</td>\n",
       "    </tr>\n",
       "    <tr>\n",
       "      <th>163</th>\n",
       "      <td>Yemen</td>\n",
       "      <td>56.3</td>\n",
       "      <td>30.0</td>\n",
       "      <td>5.18</td>\n",
       "      <td>34.4</td>\n",
       "      <td>4480</td>\n",
       "      <td>23.60</td>\n",
       "      <td>67.5</td>\n",
       "      <td>4.67</td>\n",
       "      <td>1310</td>\n",
       "      <td>Low income</td>\n",
       "    </tr>\n",
       "    <tr>\n",
       "      <th>164</th>\n",
       "      <td>Zambia</td>\n",
       "      <td>83.1</td>\n",
       "      <td>37.0</td>\n",
       "      <td>5.89</td>\n",
       "      <td>30.9</td>\n",
       "      <td>3280</td>\n",
       "      <td>14.00</td>\n",
       "      <td>52.0</td>\n",
       "      <td>5.40</td>\n",
       "      <td>1460</td>\n",
       "      <td>Lower middle income</td>\n",
       "    </tr>\n",
       "  </tbody>\n",
       "</table>\n",
       "</div>"
      ],
      "text/plain": [
       "        country  child_mort  exports  health  imports  income  inflation  \\\n",
       "160  Uzbekistan        36.3     31.7    5.81     28.5    4240      16.50   \n",
       "161     Vanuatu        29.2     46.6    5.25     52.7    2950       2.62   \n",
       "162     Vietnam        23.3     72.0    6.84     80.2    4490      12.10   \n",
       "163       Yemen        56.3     30.0    5.18     34.4    4480      23.60   \n",
       "164      Zambia        83.1     37.0    5.89     30.9    3280      14.00   \n",
       "\n",
       "     life_expec  total_fer  gdpp      income_category  \n",
       "160        68.8       2.34  1380  Lower middle income  \n",
       "161        63.0       3.50  2970  Lower middle income  \n",
       "162        73.1       1.95  1310  Lower middle income  \n",
       "163        67.5       4.67  1310           Low income  \n",
       "164        52.0       5.40  1460  Lower middle income  "
      ]
     },
     "execution_count": 5,
     "metadata": {},
     "output_type": "execute_result"
    }
   ],
   "source": [
    "# Visualizar os últimos registros\n",
    "df_countries.tail(5)"
   ]
  },
  {
   "cell_type": "markdown",
   "metadata": {},
   "source": [
    "### EDA"
   ]
  },
  {
   "cell_type": "markdown",
   "metadata": {},
   "source": [
    "### Análise Univariada"
   ]
  },
  {
   "cell_type": "code",
   "execution_count": 6,
   "metadata": {},
   "outputs": [
    {
     "data": {
      "text/html": [
       "<div>\n",
       "<style scoped>\n",
       "    .dataframe tbody tr th:only-of-type {\n",
       "        vertical-align: middle;\n",
       "    }\n",
       "\n",
       "    .dataframe tbody tr th {\n",
       "        vertical-align: top;\n",
       "    }\n",
       "\n",
       "    .dataframe thead th {\n",
       "        text-align: right;\n",
       "    }\n",
       "</style>\n",
       "<table border=\"1\" class=\"dataframe\">\n",
       "  <thead>\n",
       "    <tr style=\"text-align: right;\">\n",
       "      <th></th>\n",
       "      <th>child_mort</th>\n",
       "      <th>exports</th>\n",
       "      <th>health</th>\n",
       "      <th>imports</th>\n",
       "      <th>income</th>\n",
       "      <th>inflation</th>\n",
       "      <th>life_expec</th>\n",
       "      <th>total_fer</th>\n",
       "      <th>gdpp</th>\n",
       "    </tr>\n",
       "  </thead>\n",
       "  <tbody>\n",
       "    <tr>\n",
       "      <th>count</th>\n",
       "      <td>165.000000</td>\n",
       "      <td>165.000000</td>\n",
       "      <td>165.000000</td>\n",
       "      <td>165.000000</td>\n",
       "      <td>165.000000</td>\n",
       "      <td>165.000000</td>\n",
       "      <td>165.000000</td>\n",
       "      <td>165.000000</td>\n",
       "      <td>165.000000</td>\n",
       "    </tr>\n",
       "    <tr>\n",
       "      <th>mean</th>\n",
       "      <td>38.567273</td>\n",
       "      <td>41.193327</td>\n",
       "      <td>6.825576</td>\n",
       "      <td>46.999793</td>\n",
       "      <td>17183.412121</td>\n",
       "      <td>7.585612</td>\n",
       "      <td>70.505455</td>\n",
       "      <td>2.959818</td>\n",
       "      <td>13011.963636</td>\n",
       "    </tr>\n",
       "    <tr>\n",
       "      <th>std</th>\n",
       "      <td>40.480851</td>\n",
       "      <td>27.560749</td>\n",
       "      <td>2.759425</td>\n",
       "      <td>24.233083</td>\n",
       "      <td>19389.968166</td>\n",
       "      <td>10.198185</td>\n",
       "      <td>8.935045</td>\n",
       "      <td>1.518166</td>\n",
       "      <td>18428.279743</td>\n",
       "    </tr>\n",
       "    <tr>\n",
       "      <th>min</th>\n",
       "      <td>2.600000</td>\n",
       "      <td>0.109000</td>\n",
       "      <td>1.810000</td>\n",
       "      <td>0.065900</td>\n",
       "      <td>609.000000</td>\n",
       "      <td>-4.210000</td>\n",
       "      <td>32.100000</td>\n",
       "      <td>1.150000</td>\n",
       "      <td>231.000000</td>\n",
       "    </tr>\n",
       "    <tr>\n",
       "      <th>25%</th>\n",
       "      <td>7.900000</td>\n",
       "      <td>23.800000</td>\n",
       "      <td>4.930000</td>\n",
       "      <td>30.400000</td>\n",
       "      <td>3340.000000</td>\n",
       "      <td>1.770000</td>\n",
       "      <td>65.300000</td>\n",
       "      <td>1.800000</td>\n",
       "      <td>1310.000000</td>\n",
       "    </tr>\n",
       "    <tr>\n",
       "      <th>50%</th>\n",
       "      <td>19.700000</td>\n",
       "      <td>35.000000</td>\n",
       "      <td>6.320000</td>\n",
       "      <td>43.300000</td>\n",
       "      <td>9940.000000</td>\n",
       "      <td>5.390000</td>\n",
       "      <td>73.100000</td>\n",
       "      <td>2.410000</td>\n",
       "      <td>4660.000000</td>\n",
       "    </tr>\n",
       "    <tr>\n",
       "      <th>75%</th>\n",
       "      <td>62.200000</td>\n",
       "      <td>51.400000</td>\n",
       "      <td>8.650000</td>\n",
       "      <td>58.900000</td>\n",
       "      <td>22900.000000</td>\n",
       "      <td>10.600000</td>\n",
       "      <td>76.800000</td>\n",
       "      <td>3.910000</td>\n",
       "      <td>14600.000000</td>\n",
       "    </tr>\n",
       "    <tr>\n",
       "      <th>max</th>\n",
       "      <td>208.000000</td>\n",
       "      <td>200.000000</td>\n",
       "      <td>17.900000</td>\n",
       "      <td>174.000000</td>\n",
       "      <td>125000.000000</td>\n",
       "      <td>104.000000</td>\n",
       "      <td>82.800000</td>\n",
       "      <td>7.490000</td>\n",
       "      <td>105000.000000</td>\n",
       "    </tr>\n",
       "  </tbody>\n",
       "</table>\n",
       "</div>"
      ],
      "text/plain": [
       "       child_mort     exports      health     imports         income  \\\n",
       "count  165.000000  165.000000  165.000000  165.000000     165.000000   \n",
       "mean    38.567273   41.193327    6.825576   46.999793   17183.412121   \n",
       "std     40.480851   27.560749    2.759425   24.233083   19389.968166   \n",
       "min      2.600000    0.109000    1.810000    0.065900     609.000000   \n",
       "25%      7.900000   23.800000    4.930000   30.400000    3340.000000   \n",
       "50%     19.700000   35.000000    6.320000   43.300000    9940.000000   \n",
       "75%     62.200000   51.400000    8.650000   58.900000   22900.000000   \n",
       "max    208.000000  200.000000   17.900000  174.000000  125000.000000   \n",
       "\n",
       "        inflation  life_expec   total_fer           gdpp  \n",
       "count  165.000000  165.000000  165.000000     165.000000  \n",
       "mean     7.585612   70.505455    2.959818   13011.963636  \n",
       "std     10.198185    8.935045    1.518166   18428.279743  \n",
       "min     -4.210000   32.100000    1.150000     231.000000  \n",
       "25%      1.770000   65.300000    1.800000    1310.000000  \n",
       "50%      5.390000   73.100000    2.410000    4660.000000  \n",
       "75%     10.600000   76.800000    3.910000   14600.000000  \n",
       "max    104.000000   82.800000    7.490000  105000.000000  "
      ]
     },
     "execution_count": 6,
     "metadata": {},
     "output_type": "execute_result"
    }
   ],
   "source": [
    "# Estatísticas das variáveis\n",
    "df_countries.describe()"
   ]
  },
  {
   "cell_type": "code",
   "execution_count": 7,
   "metadata": {},
   "outputs": [
    {
     "data": {
      "application/vnd.plotly.v1+json": {
       "config": {
        "plotlyServerURL": "https://plot.ly"
       },
       "data": [
        {
         "alignmentgroup": "True",
         "hovertemplate": "income_category=%{x}<br>value=%{y}<extra></extra>",
         "legendgroup": "High income",
         "marker": {
          "color": "#636efa",
          "pattern": {
           "shape": ""
          }
         },
         "name": "High income",
         "offsetgroup": "High income",
         "orientation": "v",
         "showlegend": true,
         "textposition": "auto",
         "type": "bar",
         "x": [
          "High income"
         ],
         "xaxis": "x",
         "y": [
          32.121212121212125
         ],
         "yaxis": "y"
        },
        {
         "alignmentgroup": "True",
         "hovertemplate": "income_category=%{x}<br>value=%{y}<extra></extra>",
         "legendgroup": "Lower middle income",
         "marker": {
          "color": "#EF553B",
          "pattern": {
           "shape": ""
          }
         },
         "name": "Lower middle income",
         "offsetgroup": "Lower middle income",
         "orientation": "v",
         "showlegend": true,
         "textposition": "auto",
         "type": "bar",
         "x": [
          "Lower middle income"
         ],
         "xaxis": "x",
         "y": [
          28.484848484848484
         ],
         "yaxis": "y"
        },
        {
         "alignmentgroup": "True",
         "hovertemplate": "income_category=%{x}<br>value=%{y}<extra></extra>",
         "legendgroup": "Upper middle income",
         "marker": {
          "color": "#00cc96",
          "pattern": {
           "shape": ""
          }
         },
         "name": "Upper middle income",
         "offsetgroup": "Upper middle income",
         "orientation": "v",
         "showlegend": true,
         "textposition": "auto",
         "type": "bar",
         "x": [
          "Upper middle income"
         ],
         "xaxis": "x",
         "y": [
          26.666666666666668
         ],
         "yaxis": "y"
        },
        {
         "alignmentgroup": "True",
         "hovertemplate": "income_category=%{x}<br>value=%{y}<extra></extra>",
         "legendgroup": "Low income",
         "marker": {
          "color": "#ab63fa",
          "pattern": {
           "shape": ""
          }
         },
         "name": "Low income",
         "offsetgroup": "Low income",
         "orientation": "v",
         "showlegend": true,
         "textposition": "auto",
         "type": "bar",
         "x": [
          "Low income"
         ],
         "xaxis": "x",
         "y": [
          12.727272727272727
         ],
         "yaxis": "y"
        }
       ],
       "layout": {
        "barmode": "relative",
        "legend": {
         "title": {
          "text": "income_category"
         },
         "tracegroupgap": 0
        },
        "margin": {
         "t": 60
        },
        "template": {
         "data": {
          "bar": [
           {
            "error_x": {
             "color": "#2a3f5f"
            },
            "error_y": {
             "color": "#2a3f5f"
            },
            "marker": {
             "line": {
              "color": "#E5ECF6",
              "width": 0.5
             },
             "pattern": {
              "fillmode": "overlay",
              "size": 10,
              "solidity": 0.2
             }
            },
            "type": "bar"
           }
          ],
          "barpolar": [
           {
            "marker": {
             "line": {
              "color": "#E5ECF6",
              "width": 0.5
             },
             "pattern": {
              "fillmode": "overlay",
              "size": 10,
              "solidity": 0.2
             }
            },
            "type": "barpolar"
           }
          ],
          "carpet": [
           {
            "aaxis": {
             "endlinecolor": "#2a3f5f",
             "gridcolor": "white",
             "linecolor": "white",
             "minorgridcolor": "white",
             "startlinecolor": "#2a3f5f"
            },
            "baxis": {
             "endlinecolor": "#2a3f5f",
             "gridcolor": "white",
             "linecolor": "white",
             "minorgridcolor": "white",
             "startlinecolor": "#2a3f5f"
            },
            "type": "carpet"
           }
          ],
          "choropleth": [
           {
            "colorbar": {
             "outlinewidth": 0,
             "ticks": ""
            },
            "type": "choropleth"
           }
          ],
          "contour": [
           {
            "colorbar": {
             "outlinewidth": 0,
             "ticks": ""
            },
            "colorscale": [
             [
              0,
              "#0d0887"
             ],
             [
              0.1111111111111111,
              "#46039f"
             ],
             [
              0.2222222222222222,
              "#7201a8"
             ],
             [
              0.3333333333333333,
              "#9c179e"
             ],
             [
              0.4444444444444444,
              "#bd3786"
             ],
             [
              0.5555555555555556,
              "#d8576b"
             ],
             [
              0.6666666666666666,
              "#ed7953"
             ],
             [
              0.7777777777777778,
              "#fb9f3a"
             ],
             [
              0.8888888888888888,
              "#fdca26"
             ],
             [
              1,
              "#f0f921"
             ]
            ],
            "type": "contour"
           }
          ],
          "contourcarpet": [
           {
            "colorbar": {
             "outlinewidth": 0,
             "ticks": ""
            },
            "type": "contourcarpet"
           }
          ],
          "heatmap": [
           {
            "colorbar": {
             "outlinewidth": 0,
             "ticks": ""
            },
            "colorscale": [
             [
              0,
              "#0d0887"
             ],
             [
              0.1111111111111111,
              "#46039f"
             ],
             [
              0.2222222222222222,
              "#7201a8"
             ],
             [
              0.3333333333333333,
              "#9c179e"
             ],
             [
              0.4444444444444444,
              "#bd3786"
             ],
             [
              0.5555555555555556,
              "#d8576b"
             ],
             [
              0.6666666666666666,
              "#ed7953"
             ],
             [
              0.7777777777777778,
              "#fb9f3a"
             ],
             [
              0.8888888888888888,
              "#fdca26"
             ],
             [
              1,
              "#f0f921"
             ]
            ],
            "type": "heatmap"
           }
          ],
          "heatmapgl": [
           {
            "colorbar": {
             "outlinewidth": 0,
             "ticks": ""
            },
            "colorscale": [
             [
              0,
              "#0d0887"
             ],
             [
              0.1111111111111111,
              "#46039f"
             ],
             [
              0.2222222222222222,
              "#7201a8"
             ],
             [
              0.3333333333333333,
              "#9c179e"
             ],
             [
              0.4444444444444444,
              "#bd3786"
             ],
             [
              0.5555555555555556,
              "#d8576b"
             ],
             [
              0.6666666666666666,
              "#ed7953"
             ],
             [
              0.7777777777777778,
              "#fb9f3a"
             ],
             [
              0.8888888888888888,
              "#fdca26"
             ],
             [
              1,
              "#f0f921"
             ]
            ],
            "type": "heatmapgl"
           }
          ],
          "histogram": [
           {
            "marker": {
             "pattern": {
              "fillmode": "overlay",
              "size": 10,
              "solidity": 0.2
             }
            },
            "type": "histogram"
           }
          ],
          "histogram2d": [
           {
            "colorbar": {
             "outlinewidth": 0,
             "ticks": ""
            },
            "colorscale": [
             [
              0,
              "#0d0887"
             ],
             [
              0.1111111111111111,
              "#46039f"
             ],
             [
              0.2222222222222222,
              "#7201a8"
             ],
             [
              0.3333333333333333,
              "#9c179e"
             ],
             [
              0.4444444444444444,
              "#bd3786"
             ],
             [
              0.5555555555555556,
              "#d8576b"
             ],
             [
              0.6666666666666666,
              "#ed7953"
             ],
             [
              0.7777777777777778,
              "#fb9f3a"
             ],
             [
              0.8888888888888888,
              "#fdca26"
             ],
             [
              1,
              "#f0f921"
             ]
            ],
            "type": "histogram2d"
           }
          ],
          "histogram2dcontour": [
           {
            "colorbar": {
             "outlinewidth": 0,
             "ticks": ""
            },
            "colorscale": [
             [
              0,
              "#0d0887"
             ],
             [
              0.1111111111111111,
              "#46039f"
             ],
             [
              0.2222222222222222,
              "#7201a8"
             ],
             [
              0.3333333333333333,
              "#9c179e"
             ],
             [
              0.4444444444444444,
              "#bd3786"
             ],
             [
              0.5555555555555556,
              "#d8576b"
             ],
             [
              0.6666666666666666,
              "#ed7953"
             ],
             [
              0.7777777777777778,
              "#fb9f3a"
             ],
             [
              0.8888888888888888,
              "#fdca26"
             ],
             [
              1,
              "#f0f921"
             ]
            ],
            "type": "histogram2dcontour"
           }
          ],
          "mesh3d": [
           {
            "colorbar": {
             "outlinewidth": 0,
             "ticks": ""
            },
            "type": "mesh3d"
           }
          ],
          "parcoords": [
           {
            "line": {
             "colorbar": {
              "outlinewidth": 0,
              "ticks": ""
             }
            },
            "type": "parcoords"
           }
          ],
          "pie": [
           {
            "automargin": true,
            "type": "pie"
           }
          ],
          "scatter": [
           {
            "fillpattern": {
             "fillmode": "overlay",
             "size": 10,
             "solidity": 0.2
            },
            "type": "scatter"
           }
          ],
          "scatter3d": [
           {
            "line": {
             "colorbar": {
              "outlinewidth": 0,
              "ticks": ""
             }
            },
            "marker": {
             "colorbar": {
              "outlinewidth": 0,
              "ticks": ""
             }
            },
            "type": "scatter3d"
           }
          ],
          "scattercarpet": [
           {
            "marker": {
             "colorbar": {
              "outlinewidth": 0,
              "ticks": ""
             }
            },
            "type": "scattercarpet"
           }
          ],
          "scattergeo": [
           {
            "marker": {
             "colorbar": {
              "outlinewidth": 0,
              "ticks": ""
             }
            },
            "type": "scattergeo"
           }
          ],
          "scattergl": [
           {
            "marker": {
             "colorbar": {
              "outlinewidth": 0,
              "ticks": ""
             }
            },
            "type": "scattergl"
           }
          ],
          "scattermapbox": [
           {
            "marker": {
             "colorbar": {
              "outlinewidth": 0,
              "ticks": ""
             }
            },
            "type": "scattermapbox"
           }
          ],
          "scatterpolar": [
           {
            "marker": {
             "colorbar": {
              "outlinewidth": 0,
              "ticks": ""
             }
            },
            "type": "scatterpolar"
           }
          ],
          "scatterpolargl": [
           {
            "marker": {
             "colorbar": {
              "outlinewidth": 0,
              "ticks": ""
             }
            },
            "type": "scatterpolargl"
           }
          ],
          "scatterternary": [
           {
            "marker": {
             "colorbar": {
              "outlinewidth": 0,
              "ticks": ""
             }
            },
            "type": "scatterternary"
           }
          ],
          "surface": [
           {
            "colorbar": {
             "outlinewidth": 0,
             "ticks": ""
            },
            "colorscale": [
             [
              0,
              "#0d0887"
             ],
             [
              0.1111111111111111,
              "#46039f"
             ],
             [
              0.2222222222222222,
              "#7201a8"
             ],
             [
              0.3333333333333333,
              "#9c179e"
             ],
             [
              0.4444444444444444,
              "#bd3786"
             ],
             [
              0.5555555555555556,
              "#d8576b"
             ],
             [
              0.6666666666666666,
              "#ed7953"
             ],
             [
              0.7777777777777778,
              "#fb9f3a"
             ],
             [
              0.8888888888888888,
              "#fdca26"
             ],
             [
              1,
              "#f0f921"
             ]
            ],
            "type": "surface"
           }
          ],
          "table": [
           {
            "cells": {
             "fill": {
              "color": "#EBF0F8"
             },
             "line": {
              "color": "white"
             }
            },
            "header": {
             "fill": {
              "color": "#C8D4E3"
             },
             "line": {
              "color": "white"
             }
            },
            "type": "table"
           }
          ]
         },
         "layout": {
          "annotationdefaults": {
           "arrowcolor": "#2a3f5f",
           "arrowhead": 0,
           "arrowwidth": 1
          },
          "autotypenumbers": "strict",
          "coloraxis": {
           "colorbar": {
            "outlinewidth": 0,
            "ticks": ""
           }
          },
          "colorscale": {
           "diverging": [
            [
             0,
             "#8e0152"
            ],
            [
             0.1,
             "#c51b7d"
            ],
            [
             0.2,
             "#de77ae"
            ],
            [
             0.3,
             "#f1b6da"
            ],
            [
             0.4,
             "#fde0ef"
            ],
            [
             0.5,
             "#f7f7f7"
            ],
            [
             0.6,
             "#e6f5d0"
            ],
            [
             0.7,
             "#b8e186"
            ],
            [
             0.8,
             "#7fbc41"
            ],
            [
             0.9,
             "#4d9221"
            ],
            [
             1,
             "#276419"
            ]
           ],
           "sequential": [
            [
             0,
             "#0d0887"
            ],
            [
             0.1111111111111111,
             "#46039f"
            ],
            [
             0.2222222222222222,
             "#7201a8"
            ],
            [
             0.3333333333333333,
             "#9c179e"
            ],
            [
             0.4444444444444444,
             "#bd3786"
            ],
            [
             0.5555555555555556,
             "#d8576b"
            ],
            [
             0.6666666666666666,
             "#ed7953"
            ],
            [
             0.7777777777777778,
             "#fb9f3a"
            ],
            [
             0.8888888888888888,
             "#fdca26"
            ],
            [
             1,
             "#f0f921"
            ]
           ],
           "sequentialminus": [
            [
             0,
             "#0d0887"
            ],
            [
             0.1111111111111111,
             "#46039f"
            ],
            [
             0.2222222222222222,
             "#7201a8"
            ],
            [
             0.3333333333333333,
             "#9c179e"
            ],
            [
             0.4444444444444444,
             "#bd3786"
            ],
            [
             0.5555555555555556,
             "#d8576b"
            ],
            [
             0.6666666666666666,
             "#ed7953"
            ],
            [
             0.7777777777777778,
             "#fb9f3a"
            ],
            [
             0.8888888888888888,
             "#fdca26"
            ],
            [
             1,
             "#f0f921"
            ]
           ]
          },
          "colorway": [
           "#636efa",
           "#EF553B",
           "#00cc96",
           "#ab63fa",
           "#FFA15A",
           "#19d3f3",
           "#FF6692",
           "#B6E880",
           "#FF97FF",
           "#FECB52"
          ],
          "font": {
           "color": "#2a3f5f"
          },
          "geo": {
           "bgcolor": "white",
           "lakecolor": "white",
           "landcolor": "#E5ECF6",
           "showlakes": true,
           "showland": true,
           "subunitcolor": "white"
          },
          "hoverlabel": {
           "align": "left"
          },
          "hovermode": "closest",
          "mapbox": {
           "style": "light"
          },
          "paper_bgcolor": "white",
          "plot_bgcolor": "#E5ECF6",
          "polar": {
           "angularaxis": {
            "gridcolor": "white",
            "linecolor": "white",
            "ticks": ""
           },
           "bgcolor": "#E5ECF6",
           "radialaxis": {
            "gridcolor": "white",
            "linecolor": "white",
            "ticks": ""
           }
          },
          "scene": {
           "xaxis": {
            "backgroundcolor": "#E5ECF6",
            "gridcolor": "white",
            "gridwidth": 2,
            "linecolor": "white",
            "showbackground": true,
            "ticks": "",
            "zerolinecolor": "white"
           },
           "yaxis": {
            "backgroundcolor": "#E5ECF6",
            "gridcolor": "white",
            "gridwidth": 2,
            "linecolor": "white",
            "showbackground": true,
            "ticks": "",
            "zerolinecolor": "white"
           },
           "zaxis": {
            "backgroundcolor": "#E5ECF6",
            "gridcolor": "white",
            "gridwidth": 2,
            "linecolor": "white",
            "showbackground": true,
            "ticks": "",
            "zerolinecolor": "white"
           }
          },
          "shapedefaults": {
           "line": {
            "color": "#2a3f5f"
           }
          },
          "ternary": {
           "aaxis": {
            "gridcolor": "white",
            "linecolor": "white",
            "ticks": ""
           },
           "baxis": {
            "gridcolor": "white",
            "linecolor": "white",
            "ticks": ""
           },
           "bgcolor": "#E5ECF6",
           "caxis": {
            "gridcolor": "white",
            "linecolor": "white",
            "ticks": ""
           }
          },
          "title": {
           "x": 0.05
          },
          "xaxis": {
           "automargin": true,
           "gridcolor": "white",
           "linecolor": "white",
           "ticks": "",
           "title": {
            "standoff": 15
           },
           "zerolinecolor": "white",
           "zerolinewidth": 2
          },
          "yaxis": {
           "automargin": true,
           "gridcolor": "white",
           "linecolor": "white",
           "ticks": "",
           "title": {
            "standoff": 15
           },
           "zerolinecolor": "white",
           "zerolinewidth": 2
          }
         }
        },
        "xaxis": {
         "anchor": "y",
         "categoryarray": [
          "High income",
          "Lower middle income",
          "Upper middle income",
          "Low income"
         ],
         "categoryorder": "array",
         "domain": [
          0,
          1
         ],
         "title": {
          "text": "income_category"
         }
        },
        "yaxis": {
         "anchor": "x",
         "domain": [
          0,
          1
         ],
         "title": {
          "text": "value"
         }
        }
       }
      }
     },
     "metadata": {},
     "output_type": "display_data"
    }
   ],
   "source": [
    "# Distribuição da variável income_category\n",
    "percentual_income_category = df_countries.value_counts('income_category') / len(df_countries) * 100\n",
    "px.bar(percentual_income_category, color=percentual_income_category.index)"
   ]
  },
  {
   "cell_type": "code",
   "execution_count": 8,
   "metadata": {},
   "outputs": [
    {
     "data": {
      "application/vnd.plotly.v1+json": {
       "config": {
        "plotlyServerURL": "https://plot.ly"
       },
       "data": [
        {
         "alignmentgroup": "True",
         "bingroup": "x",
         "hovertemplate": "variable=income<br>value=%{x}<br>count=%{y}<extra></extra>",
         "legendgroup": "income",
         "marker": {
          "color": "#636efa",
          "pattern": {
           "shape": ""
          }
         },
         "name": "income",
         "offsetgroup": "income",
         "orientation": "v",
         "showlegend": true,
         "type": "histogram",
         "x": [
          1610,
          9930,
          12900,
          5900,
          19100,
          18700,
          6700,
          41400,
          43200,
          16000,
          22900,
          41100,
          2440,
          15300,
          16200,
          41100,
          7880,
          1820,
          6420,
          5410,
          9720,
          13300,
          14500,
          80600,
          15300,
          1430,
          764,
          2520,
          2660,
          40700,
          5830,
          888,
          1930,
          19400,
          9530,
          10900,
          1410,
          609,
          5190,
          13000,
          2690,
          20100,
          33900,
          28300,
          44000,
          11100,
          9350,
          9860,
          7300,
          33700,
          1420,
          22700,
          7350,
          39800,
          36900,
          15400,
          1660,
          6730,
          40400,
          3060,
          28700,
          11200,
          6710,
          1190,
          1390,
          5840,
          1500,
          22300,
          38800,
          4410,
          8430,
          17400,
          12700,
          45700,
          29600,
          36200,
          8000,
          35800,
          9470,
          20100,
          2480,
          1730,
          75200,
          2790,
          3980,
          18300,
          16300,
          2380,
          700,
          29600,
          21100,
          91700,
          1390,
          1030,
          21100,
          10500,
          1870,
          28300,
          3320,
          15900,
          3340,
          3910,
          7710,
          14000,
          6440,
          918,
          3720,
          8460,
          1990,
          45500,
          32300,
          814,
          5150,
          62300,
          45300,
          4280,
          15400,
          7290,
          9960,
          5600,
          21800,
          27200,
          125000,
          17800,
          23100,
          1350,
          5400,
          45400,
          2180,
          12700,
          20400,
          1220,
          72100,
          25200,
          28700,
          1780,
          12000,
          30400,
          32500,
          8560,
          9920,
          3370,
          14200,
          42900,
          55500,
          2110,
          2090,
          13500,
          1850,
          1210,
          4980,
          10400,
          18000,
          9940,
          1540,
          7820,
          57600,
          36200,
          49400,
          17100,
          4240,
          2950,
          4490,
          4480,
          3280
         ],
         "xaxis": "x",
         "yaxis": "y"
        }
       ],
       "layout": {
        "barmode": "relative",
        "legend": {
         "title": {
          "text": "variable"
         },
         "tracegroupgap": 0
        },
        "template": {
         "data": {
          "bar": [
           {
            "error_x": {
             "color": "#2a3f5f"
            },
            "error_y": {
             "color": "#2a3f5f"
            },
            "marker": {
             "line": {
              "color": "#E5ECF6",
              "width": 0.5
             },
             "pattern": {
              "fillmode": "overlay",
              "size": 10,
              "solidity": 0.2
             }
            },
            "type": "bar"
           }
          ],
          "barpolar": [
           {
            "marker": {
             "line": {
              "color": "#E5ECF6",
              "width": 0.5
             },
             "pattern": {
              "fillmode": "overlay",
              "size": 10,
              "solidity": 0.2
             }
            },
            "type": "barpolar"
           }
          ],
          "carpet": [
           {
            "aaxis": {
             "endlinecolor": "#2a3f5f",
             "gridcolor": "white",
             "linecolor": "white",
             "minorgridcolor": "white",
             "startlinecolor": "#2a3f5f"
            },
            "baxis": {
             "endlinecolor": "#2a3f5f",
             "gridcolor": "white",
             "linecolor": "white",
             "minorgridcolor": "white",
             "startlinecolor": "#2a3f5f"
            },
            "type": "carpet"
           }
          ],
          "choropleth": [
           {
            "colorbar": {
             "outlinewidth": 0,
             "ticks": ""
            },
            "type": "choropleth"
           }
          ],
          "contour": [
           {
            "colorbar": {
             "outlinewidth": 0,
             "ticks": ""
            },
            "colorscale": [
             [
              0,
              "#0d0887"
             ],
             [
              0.1111111111111111,
              "#46039f"
             ],
             [
              0.2222222222222222,
              "#7201a8"
             ],
             [
              0.3333333333333333,
              "#9c179e"
             ],
             [
              0.4444444444444444,
              "#bd3786"
             ],
             [
              0.5555555555555556,
              "#d8576b"
             ],
             [
              0.6666666666666666,
              "#ed7953"
             ],
             [
              0.7777777777777778,
              "#fb9f3a"
             ],
             [
              0.8888888888888888,
              "#fdca26"
             ],
             [
              1,
              "#f0f921"
             ]
            ],
            "type": "contour"
           }
          ],
          "contourcarpet": [
           {
            "colorbar": {
             "outlinewidth": 0,
             "ticks": ""
            },
            "type": "contourcarpet"
           }
          ],
          "heatmap": [
           {
            "colorbar": {
             "outlinewidth": 0,
             "ticks": ""
            },
            "colorscale": [
             [
              0,
              "#0d0887"
             ],
             [
              0.1111111111111111,
              "#46039f"
             ],
             [
              0.2222222222222222,
              "#7201a8"
             ],
             [
              0.3333333333333333,
              "#9c179e"
             ],
             [
              0.4444444444444444,
              "#bd3786"
             ],
             [
              0.5555555555555556,
              "#d8576b"
             ],
             [
              0.6666666666666666,
              "#ed7953"
             ],
             [
              0.7777777777777778,
              "#fb9f3a"
             ],
             [
              0.8888888888888888,
              "#fdca26"
             ],
             [
              1,
              "#f0f921"
             ]
            ],
            "type": "heatmap"
           }
          ],
          "heatmapgl": [
           {
            "colorbar": {
             "outlinewidth": 0,
             "ticks": ""
            },
            "colorscale": [
             [
              0,
              "#0d0887"
             ],
             [
              0.1111111111111111,
              "#46039f"
             ],
             [
              0.2222222222222222,
              "#7201a8"
             ],
             [
              0.3333333333333333,
              "#9c179e"
             ],
             [
              0.4444444444444444,
              "#bd3786"
             ],
             [
              0.5555555555555556,
              "#d8576b"
             ],
             [
              0.6666666666666666,
              "#ed7953"
             ],
             [
              0.7777777777777778,
              "#fb9f3a"
             ],
             [
              0.8888888888888888,
              "#fdca26"
             ],
             [
              1,
              "#f0f921"
             ]
            ],
            "type": "heatmapgl"
           }
          ],
          "histogram": [
           {
            "marker": {
             "pattern": {
              "fillmode": "overlay",
              "size": 10,
              "solidity": 0.2
             }
            },
            "type": "histogram"
           }
          ],
          "histogram2d": [
           {
            "colorbar": {
             "outlinewidth": 0,
             "ticks": ""
            },
            "colorscale": [
             [
              0,
              "#0d0887"
             ],
             [
              0.1111111111111111,
              "#46039f"
             ],
             [
              0.2222222222222222,
              "#7201a8"
             ],
             [
              0.3333333333333333,
              "#9c179e"
             ],
             [
              0.4444444444444444,
              "#bd3786"
             ],
             [
              0.5555555555555556,
              "#d8576b"
             ],
             [
              0.6666666666666666,
              "#ed7953"
             ],
             [
              0.7777777777777778,
              "#fb9f3a"
             ],
             [
              0.8888888888888888,
              "#fdca26"
             ],
             [
              1,
              "#f0f921"
             ]
            ],
            "type": "histogram2d"
           }
          ],
          "histogram2dcontour": [
           {
            "colorbar": {
             "outlinewidth": 0,
             "ticks": ""
            },
            "colorscale": [
             [
              0,
              "#0d0887"
             ],
             [
              0.1111111111111111,
              "#46039f"
             ],
             [
              0.2222222222222222,
              "#7201a8"
             ],
             [
              0.3333333333333333,
              "#9c179e"
             ],
             [
              0.4444444444444444,
              "#bd3786"
             ],
             [
              0.5555555555555556,
              "#d8576b"
             ],
             [
              0.6666666666666666,
              "#ed7953"
             ],
             [
              0.7777777777777778,
              "#fb9f3a"
             ],
             [
              0.8888888888888888,
              "#fdca26"
             ],
             [
              1,
              "#f0f921"
             ]
            ],
            "type": "histogram2dcontour"
           }
          ],
          "mesh3d": [
           {
            "colorbar": {
             "outlinewidth": 0,
             "ticks": ""
            },
            "type": "mesh3d"
           }
          ],
          "parcoords": [
           {
            "line": {
             "colorbar": {
              "outlinewidth": 0,
              "ticks": ""
             }
            },
            "type": "parcoords"
           }
          ],
          "pie": [
           {
            "automargin": true,
            "type": "pie"
           }
          ],
          "scatter": [
           {
            "fillpattern": {
             "fillmode": "overlay",
             "size": 10,
             "solidity": 0.2
            },
            "type": "scatter"
           }
          ],
          "scatter3d": [
           {
            "line": {
             "colorbar": {
              "outlinewidth": 0,
              "ticks": ""
             }
            },
            "marker": {
             "colorbar": {
              "outlinewidth": 0,
              "ticks": ""
             }
            },
            "type": "scatter3d"
           }
          ],
          "scattercarpet": [
           {
            "marker": {
             "colorbar": {
              "outlinewidth": 0,
              "ticks": ""
             }
            },
            "type": "scattercarpet"
           }
          ],
          "scattergeo": [
           {
            "marker": {
             "colorbar": {
              "outlinewidth": 0,
              "ticks": ""
             }
            },
            "type": "scattergeo"
           }
          ],
          "scattergl": [
           {
            "marker": {
             "colorbar": {
              "outlinewidth": 0,
              "ticks": ""
             }
            },
            "type": "scattergl"
           }
          ],
          "scattermapbox": [
           {
            "marker": {
             "colorbar": {
              "outlinewidth": 0,
              "ticks": ""
             }
            },
            "type": "scattermapbox"
           }
          ],
          "scatterpolar": [
           {
            "marker": {
             "colorbar": {
              "outlinewidth": 0,
              "ticks": ""
             }
            },
            "type": "scatterpolar"
           }
          ],
          "scatterpolargl": [
           {
            "marker": {
             "colorbar": {
              "outlinewidth": 0,
              "ticks": ""
             }
            },
            "type": "scatterpolargl"
           }
          ],
          "scatterternary": [
           {
            "marker": {
             "colorbar": {
              "outlinewidth": 0,
              "ticks": ""
             }
            },
            "type": "scatterternary"
           }
          ],
          "surface": [
           {
            "colorbar": {
             "outlinewidth": 0,
             "ticks": ""
            },
            "colorscale": [
             [
              0,
              "#0d0887"
             ],
             [
              0.1111111111111111,
              "#46039f"
             ],
             [
              0.2222222222222222,
              "#7201a8"
             ],
             [
              0.3333333333333333,
              "#9c179e"
             ],
             [
              0.4444444444444444,
              "#bd3786"
             ],
             [
              0.5555555555555556,
              "#d8576b"
             ],
             [
              0.6666666666666666,
              "#ed7953"
             ],
             [
              0.7777777777777778,
              "#fb9f3a"
             ],
             [
              0.8888888888888888,
              "#fdca26"
             ],
             [
              1,
              "#f0f921"
             ]
            ],
            "type": "surface"
           }
          ],
          "table": [
           {
            "cells": {
             "fill": {
              "color": "#EBF0F8"
             },
             "line": {
              "color": "white"
             }
            },
            "header": {
             "fill": {
              "color": "#C8D4E3"
             },
             "line": {
              "color": "white"
             }
            },
            "type": "table"
           }
          ]
         },
         "layout": {
          "annotationdefaults": {
           "arrowcolor": "#2a3f5f",
           "arrowhead": 0,
           "arrowwidth": 1
          },
          "autotypenumbers": "strict",
          "coloraxis": {
           "colorbar": {
            "outlinewidth": 0,
            "ticks": ""
           }
          },
          "colorscale": {
           "diverging": [
            [
             0,
             "#8e0152"
            ],
            [
             0.1,
             "#c51b7d"
            ],
            [
             0.2,
             "#de77ae"
            ],
            [
             0.3,
             "#f1b6da"
            ],
            [
             0.4,
             "#fde0ef"
            ],
            [
             0.5,
             "#f7f7f7"
            ],
            [
             0.6,
             "#e6f5d0"
            ],
            [
             0.7,
             "#b8e186"
            ],
            [
             0.8,
             "#7fbc41"
            ],
            [
             0.9,
             "#4d9221"
            ],
            [
             1,
             "#276419"
            ]
           ],
           "sequential": [
            [
             0,
             "#0d0887"
            ],
            [
             0.1111111111111111,
             "#46039f"
            ],
            [
             0.2222222222222222,
             "#7201a8"
            ],
            [
             0.3333333333333333,
             "#9c179e"
            ],
            [
             0.4444444444444444,
             "#bd3786"
            ],
            [
             0.5555555555555556,
             "#d8576b"
            ],
            [
             0.6666666666666666,
             "#ed7953"
            ],
            [
             0.7777777777777778,
             "#fb9f3a"
            ],
            [
             0.8888888888888888,
             "#fdca26"
            ],
            [
             1,
             "#f0f921"
            ]
           ],
           "sequentialminus": [
            [
             0,
             "#0d0887"
            ],
            [
             0.1111111111111111,
             "#46039f"
            ],
            [
             0.2222222222222222,
             "#7201a8"
            ],
            [
             0.3333333333333333,
             "#9c179e"
            ],
            [
             0.4444444444444444,
             "#bd3786"
            ],
            [
             0.5555555555555556,
             "#d8576b"
            ],
            [
             0.6666666666666666,
             "#ed7953"
            ],
            [
             0.7777777777777778,
             "#fb9f3a"
            ],
            [
             0.8888888888888888,
             "#fdca26"
            ],
            [
             1,
             "#f0f921"
            ]
           ]
          },
          "colorway": [
           "#636efa",
           "#EF553B",
           "#00cc96",
           "#ab63fa",
           "#FFA15A",
           "#19d3f3",
           "#FF6692",
           "#B6E880",
           "#FF97FF",
           "#FECB52"
          ],
          "font": {
           "color": "#2a3f5f"
          },
          "geo": {
           "bgcolor": "white",
           "lakecolor": "white",
           "landcolor": "#E5ECF6",
           "showlakes": true,
           "showland": true,
           "subunitcolor": "white"
          },
          "hoverlabel": {
           "align": "left"
          },
          "hovermode": "closest",
          "mapbox": {
           "style": "light"
          },
          "paper_bgcolor": "white",
          "plot_bgcolor": "#E5ECF6",
          "polar": {
           "angularaxis": {
            "gridcolor": "white",
            "linecolor": "white",
            "ticks": ""
           },
           "bgcolor": "#E5ECF6",
           "radialaxis": {
            "gridcolor": "white",
            "linecolor": "white",
            "ticks": ""
           }
          },
          "scene": {
           "xaxis": {
            "backgroundcolor": "#E5ECF6",
            "gridcolor": "white",
            "gridwidth": 2,
            "linecolor": "white",
            "showbackground": true,
            "ticks": "",
            "zerolinecolor": "white"
           },
           "yaxis": {
            "backgroundcolor": "#E5ECF6",
            "gridcolor": "white",
            "gridwidth": 2,
            "linecolor": "white",
            "showbackground": true,
            "ticks": "",
            "zerolinecolor": "white"
           },
           "zaxis": {
            "backgroundcolor": "#E5ECF6",
            "gridcolor": "white",
            "gridwidth": 2,
            "linecolor": "white",
            "showbackground": true,
            "ticks": "",
            "zerolinecolor": "white"
           }
          },
          "shapedefaults": {
           "line": {
            "color": "#2a3f5f"
           }
          },
          "ternary": {
           "aaxis": {
            "gridcolor": "white",
            "linecolor": "white",
            "ticks": ""
           },
           "baxis": {
            "gridcolor": "white",
            "linecolor": "white",
            "ticks": ""
           },
           "bgcolor": "#E5ECF6",
           "caxis": {
            "gridcolor": "white",
            "linecolor": "white",
            "ticks": ""
           }
          },
          "title": {
           "x": 0.05
          },
          "xaxis": {
           "automargin": true,
           "gridcolor": "white",
           "linecolor": "white",
           "ticks": "",
           "title": {
            "standoff": 15
           },
           "zerolinecolor": "white",
           "zerolinewidth": 2
          },
          "yaxis": {
           "automargin": true,
           "gridcolor": "white",
           "linecolor": "white",
           "ticks": "",
           "title": {
            "standoff": 15
           },
           "zerolinecolor": "white",
           "zerolinewidth": 2
          }
         }
        },
        "title": {
         "text": "Histograma da variável Income"
        },
        "xaxis": {
         "anchor": "y",
         "domain": [
          0,
          1
         ],
         "title": {
          "text": "value"
         }
        },
        "yaxis": {
         "anchor": "x",
         "domain": [
          0,
          1
         ],
         "title": {
          "text": "count"
         }
        }
       }
      }
     },
     "metadata": {},
     "output_type": "display_data"
    }
   ],
   "source": [
    "# Distribuição da variável income\n",
    "px.histogram(df_countries['income'], title='Histograma da variável Income')"
   ]
  },
  {
   "cell_type": "code",
   "execution_count": 9,
   "metadata": {},
   "outputs": [
    {
     "data": {
      "application/vnd.plotly.v1+json": {
       "config": {
        "plotlyServerURL": "https://plot.ly"
       },
       "data": [
        {
         "alignmentgroup": "True",
         "bingroup": "x",
         "hovertemplate": "variable=gdpp<br>value=%{x}<br>count=%{y}<extra></extra>",
         "legendgroup": "gdpp",
         "marker": {
          "color": "#636efa",
          "pattern": {
           "shape": ""
          }
         },
         "name": "gdpp",
         "offsetgroup": "gdpp",
         "orientation": "v",
         "showlegend": true,
         "type": "histogram",
         "x": [
          553,
          4090,
          4460,
          3530,
          12200,
          10300,
          3220,
          51900,
          46900,
          5840,
          28000,
          20700,
          758,
          16000,
          6030,
          44400,
          4340,
          758,
          2180,
          1980,
          4610,
          6350,
          11200,
          35300,
          6840,
          575,
          231,
          786,
          1310,
          47400,
          3310,
          446,
          897,
          12900,
          4560,
          6250,
          769,
          334,
          2740,
          8200,
          1220,
          13500,
          30800,
          19800,
          58000,
          5450,
          4660,
          2600,
          2990,
          17100,
          482,
          14600,
          3650,
          46200,
          40600,
          8750,
          562,
          2960,
          41800,
          1310,
          26900,
          7370,
          2830,
          648,
          547,
          3040,
          662,
          13100,
          41900,
          1350,
          3110,
          6530,
          4500,
          48700,
          30600,
          35800,
          4680,
          44500,
          3680,
          9070,
          967,
          1490,
          38500,
          880,
          1140,
          11300,
          8860,
          1170,
          327,
          12100,
          12000,
          105000,
          413,
          459,
          9070,
          7100,
          708,
          21100,
          1200,
          8000,
          2860,
          1630,
          2650,
          6680,
          2830,
          419,
          988,
          5190,
          592,
          50300,
          33700,
          348,
          2330,
          87800,
          19300,
          1040,
          8080,
          3230,
          5020,
          2130,
          12600,
          22500,
          70300,
          8230,
          10700,
          563,
          3450,
          19300,
          1000,
          5410,
          10800,
          399,
          46600,
          16600,
          23400,
          1290,
          7280,
          22100,
          30700,
          2810,
          6230,
          1480,
          8300,
          52100,
          74600,
          738,
          702,
          5080,
          3600,
          488,
          3550,
          4140,
          10700,
          4440,
          595,
          2970,
          35000,
          38900,
          48400,
          11900,
          1380,
          2970,
          1310,
          1310,
          1460
         ],
         "xaxis": "x",
         "yaxis": "y"
        }
       ],
       "layout": {
        "barmode": "relative",
        "legend": {
         "title": {
          "text": "variable"
         },
         "tracegroupgap": 0
        },
        "template": {
         "data": {
          "bar": [
           {
            "error_x": {
             "color": "#2a3f5f"
            },
            "error_y": {
             "color": "#2a3f5f"
            },
            "marker": {
             "line": {
              "color": "#E5ECF6",
              "width": 0.5
             },
             "pattern": {
              "fillmode": "overlay",
              "size": 10,
              "solidity": 0.2
             }
            },
            "type": "bar"
           }
          ],
          "barpolar": [
           {
            "marker": {
             "line": {
              "color": "#E5ECF6",
              "width": 0.5
             },
             "pattern": {
              "fillmode": "overlay",
              "size": 10,
              "solidity": 0.2
             }
            },
            "type": "barpolar"
           }
          ],
          "carpet": [
           {
            "aaxis": {
             "endlinecolor": "#2a3f5f",
             "gridcolor": "white",
             "linecolor": "white",
             "minorgridcolor": "white",
             "startlinecolor": "#2a3f5f"
            },
            "baxis": {
             "endlinecolor": "#2a3f5f",
             "gridcolor": "white",
             "linecolor": "white",
             "minorgridcolor": "white",
             "startlinecolor": "#2a3f5f"
            },
            "type": "carpet"
           }
          ],
          "choropleth": [
           {
            "colorbar": {
             "outlinewidth": 0,
             "ticks": ""
            },
            "type": "choropleth"
           }
          ],
          "contour": [
           {
            "colorbar": {
             "outlinewidth": 0,
             "ticks": ""
            },
            "colorscale": [
             [
              0,
              "#0d0887"
             ],
             [
              0.1111111111111111,
              "#46039f"
             ],
             [
              0.2222222222222222,
              "#7201a8"
             ],
             [
              0.3333333333333333,
              "#9c179e"
             ],
             [
              0.4444444444444444,
              "#bd3786"
             ],
             [
              0.5555555555555556,
              "#d8576b"
             ],
             [
              0.6666666666666666,
              "#ed7953"
             ],
             [
              0.7777777777777778,
              "#fb9f3a"
             ],
             [
              0.8888888888888888,
              "#fdca26"
             ],
             [
              1,
              "#f0f921"
             ]
            ],
            "type": "contour"
           }
          ],
          "contourcarpet": [
           {
            "colorbar": {
             "outlinewidth": 0,
             "ticks": ""
            },
            "type": "contourcarpet"
           }
          ],
          "heatmap": [
           {
            "colorbar": {
             "outlinewidth": 0,
             "ticks": ""
            },
            "colorscale": [
             [
              0,
              "#0d0887"
             ],
             [
              0.1111111111111111,
              "#46039f"
             ],
             [
              0.2222222222222222,
              "#7201a8"
             ],
             [
              0.3333333333333333,
              "#9c179e"
             ],
             [
              0.4444444444444444,
              "#bd3786"
             ],
             [
              0.5555555555555556,
              "#d8576b"
             ],
             [
              0.6666666666666666,
              "#ed7953"
             ],
             [
              0.7777777777777778,
              "#fb9f3a"
             ],
             [
              0.8888888888888888,
              "#fdca26"
             ],
             [
              1,
              "#f0f921"
             ]
            ],
            "type": "heatmap"
           }
          ],
          "heatmapgl": [
           {
            "colorbar": {
             "outlinewidth": 0,
             "ticks": ""
            },
            "colorscale": [
             [
              0,
              "#0d0887"
             ],
             [
              0.1111111111111111,
              "#46039f"
             ],
             [
              0.2222222222222222,
              "#7201a8"
             ],
             [
              0.3333333333333333,
              "#9c179e"
             ],
             [
              0.4444444444444444,
              "#bd3786"
             ],
             [
              0.5555555555555556,
              "#d8576b"
             ],
             [
              0.6666666666666666,
              "#ed7953"
             ],
             [
              0.7777777777777778,
              "#fb9f3a"
             ],
             [
              0.8888888888888888,
              "#fdca26"
             ],
             [
              1,
              "#f0f921"
             ]
            ],
            "type": "heatmapgl"
           }
          ],
          "histogram": [
           {
            "marker": {
             "pattern": {
              "fillmode": "overlay",
              "size": 10,
              "solidity": 0.2
             }
            },
            "type": "histogram"
           }
          ],
          "histogram2d": [
           {
            "colorbar": {
             "outlinewidth": 0,
             "ticks": ""
            },
            "colorscale": [
             [
              0,
              "#0d0887"
             ],
             [
              0.1111111111111111,
              "#46039f"
             ],
             [
              0.2222222222222222,
              "#7201a8"
             ],
             [
              0.3333333333333333,
              "#9c179e"
             ],
             [
              0.4444444444444444,
              "#bd3786"
             ],
             [
              0.5555555555555556,
              "#d8576b"
             ],
             [
              0.6666666666666666,
              "#ed7953"
             ],
             [
              0.7777777777777778,
              "#fb9f3a"
             ],
             [
              0.8888888888888888,
              "#fdca26"
             ],
             [
              1,
              "#f0f921"
             ]
            ],
            "type": "histogram2d"
           }
          ],
          "histogram2dcontour": [
           {
            "colorbar": {
             "outlinewidth": 0,
             "ticks": ""
            },
            "colorscale": [
             [
              0,
              "#0d0887"
             ],
             [
              0.1111111111111111,
              "#46039f"
             ],
             [
              0.2222222222222222,
              "#7201a8"
             ],
             [
              0.3333333333333333,
              "#9c179e"
             ],
             [
              0.4444444444444444,
              "#bd3786"
             ],
             [
              0.5555555555555556,
              "#d8576b"
             ],
             [
              0.6666666666666666,
              "#ed7953"
             ],
             [
              0.7777777777777778,
              "#fb9f3a"
             ],
             [
              0.8888888888888888,
              "#fdca26"
             ],
             [
              1,
              "#f0f921"
             ]
            ],
            "type": "histogram2dcontour"
           }
          ],
          "mesh3d": [
           {
            "colorbar": {
             "outlinewidth": 0,
             "ticks": ""
            },
            "type": "mesh3d"
           }
          ],
          "parcoords": [
           {
            "line": {
             "colorbar": {
              "outlinewidth": 0,
              "ticks": ""
             }
            },
            "type": "parcoords"
           }
          ],
          "pie": [
           {
            "automargin": true,
            "type": "pie"
           }
          ],
          "scatter": [
           {
            "fillpattern": {
             "fillmode": "overlay",
             "size": 10,
             "solidity": 0.2
            },
            "type": "scatter"
           }
          ],
          "scatter3d": [
           {
            "line": {
             "colorbar": {
              "outlinewidth": 0,
              "ticks": ""
             }
            },
            "marker": {
             "colorbar": {
              "outlinewidth": 0,
              "ticks": ""
             }
            },
            "type": "scatter3d"
           }
          ],
          "scattercarpet": [
           {
            "marker": {
             "colorbar": {
              "outlinewidth": 0,
              "ticks": ""
             }
            },
            "type": "scattercarpet"
           }
          ],
          "scattergeo": [
           {
            "marker": {
             "colorbar": {
              "outlinewidth": 0,
              "ticks": ""
             }
            },
            "type": "scattergeo"
           }
          ],
          "scattergl": [
           {
            "marker": {
             "colorbar": {
              "outlinewidth": 0,
              "ticks": ""
             }
            },
            "type": "scattergl"
           }
          ],
          "scattermapbox": [
           {
            "marker": {
             "colorbar": {
              "outlinewidth": 0,
              "ticks": ""
             }
            },
            "type": "scattermapbox"
           }
          ],
          "scatterpolar": [
           {
            "marker": {
             "colorbar": {
              "outlinewidth": 0,
              "ticks": ""
             }
            },
            "type": "scatterpolar"
           }
          ],
          "scatterpolargl": [
           {
            "marker": {
             "colorbar": {
              "outlinewidth": 0,
              "ticks": ""
             }
            },
            "type": "scatterpolargl"
           }
          ],
          "scatterternary": [
           {
            "marker": {
             "colorbar": {
              "outlinewidth": 0,
              "ticks": ""
             }
            },
            "type": "scatterternary"
           }
          ],
          "surface": [
           {
            "colorbar": {
             "outlinewidth": 0,
             "ticks": ""
            },
            "colorscale": [
             [
              0,
              "#0d0887"
             ],
             [
              0.1111111111111111,
              "#46039f"
             ],
             [
              0.2222222222222222,
              "#7201a8"
             ],
             [
              0.3333333333333333,
              "#9c179e"
             ],
             [
              0.4444444444444444,
              "#bd3786"
             ],
             [
              0.5555555555555556,
              "#d8576b"
             ],
             [
              0.6666666666666666,
              "#ed7953"
             ],
             [
              0.7777777777777778,
              "#fb9f3a"
             ],
             [
              0.8888888888888888,
              "#fdca26"
             ],
             [
              1,
              "#f0f921"
             ]
            ],
            "type": "surface"
           }
          ],
          "table": [
           {
            "cells": {
             "fill": {
              "color": "#EBF0F8"
             },
             "line": {
              "color": "white"
             }
            },
            "header": {
             "fill": {
              "color": "#C8D4E3"
             },
             "line": {
              "color": "white"
             }
            },
            "type": "table"
           }
          ]
         },
         "layout": {
          "annotationdefaults": {
           "arrowcolor": "#2a3f5f",
           "arrowhead": 0,
           "arrowwidth": 1
          },
          "autotypenumbers": "strict",
          "coloraxis": {
           "colorbar": {
            "outlinewidth": 0,
            "ticks": ""
           }
          },
          "colorscale": {
           "diverging": [
            [
             0,
             "#8e0152"
            ],
            [
             0.1,
             "#c51b7d"
            ],
            [
             0.2,
             "#de77ae"
            ],
            [
             0.3,
             "#f1b6da"
            ],
            [
             0.4,
             "#fde0ef"
            ],
            [
             0.5,
             "#f7f7f7"
            ],
            [
             0.6,
             "#e6f5d0"
            ],
            [
             0.7,
             "#b8e186"
            ],
            [
             0.8,
             "#7fbc41"
            ],
            [
             0.9,
             "#4d9221"
            ],
            [
             1,
             "#276419"
            ]
           ],
           "sequential": [
            [
             0,
             "#0d0887"
            ],
            [
             0.1111111111111111,
             "#46039f"
            ],
            [
             0.2222222222222222,
             "#7201a8"
            ],
            [
             0.3333333333333333,
             "#9c179e"
            ],
            [
             0.4444444444444444,
             "#bd3786"
            ],
            [
             0.5555555555555556,
             "#d8576b"
            ],
            [
             0.6666666666666666,
             "#ed7953"
            ],
            [
             0.7777777777777778,
             "#fb9f3a"
            ],
            [
             0.8888888888888888,
             "#fdca26"
            ],
            [
             1,
             "#f0f921"
            ]
           ],
           "sequentialminus": [
            [
             0,
             "#0d0887"
            ],
            [
             0.1111111111111111,
             "#46039f"
            ],
            [
             0.2222222222222222,
             "#7201a8"
            ],
            [
             0.3333333333333333,
             "#9c179e"
            ],
            [
             0.4444444444444444,
             "#bd3786"
            ],
            [
             0.5555555555555556,
             "#d8576b"
            ],
            [
             0.6666666666666666,
             "#ed7953"
            ],
            [
             0.7777777777777778,
             "#fb9f3a"
            ],
            [
             0.8888888888888888,
             "#fdca26"
            ],
            [
             1,
             "#f0f921"
            ]
           ]
          },
          "colorway": [
           "#636efa",
           "#EF553B",
           "#00cc96",
           "#ab63fa",
           "#FFA15A",
           "#19d3f3",
           "#FF6692",
           "#B6E880",
           "#FF97FF",
           "#FECB52"
          ],
          "font": {
           "color": "#2a3f5f"
          },
          "geo": {
           "bgcolor": "white",
           "lakecolor": "white",
           "landcolor": "#E5ECF6",
           "showlakes": true,
           "showland": true,
           "subunitcolor": "white"
          },
          "hoverlabel": {
           "align": "left"
          },
          "hovermode": "closest",
          "mapbox": {
           "style": "light"
          },
          "paper_bgcolor": "white",
          "plot_bgcolor": "#E5ECF6",
          "polar": {
           "angularaxis": {
            "gridcolor": "white",
            "linecolor": "white",
            "ticks": ""
           },
           "bgcolor": "#E5ECF6",
           "radialaxis": {
            "gridcolor": "white",
            "linecolor": "white",
            "ticks": ""
           }
          },
          "scene": {
           "xaxis": {
            "backgroundcolor": "#E5ECF6",
            "gridcolor": "white",
            "gridwidth": 2,
            "linecolor": "white",
            "showbackground": true,
            "ticks": "",
            "zerolinecolor": "white"
           },
           "yaxis": {
            "backgroundcolor": "#E5ECF6",
            "gridcolor": "white",
            "gridwidth": 2,
            "linecolor": "white",
            "showbackground": true,
            "ticks": "",
            "zerolinecolor": "white"
           },
           "zaxis": {
            "backgroundcolor": "#E5ECF6",
            "gridcolor": "white",
            "gridwidth": 2,
            "linecolor": "white",
            "showbackground": true,
            "ticks": "",
            "zerolinecolor": "white"
           }
          },
          "shapedefaults": {
           "line": {
            "color": "#2a3f5f"
           }
          },
          "ternary": {
           "aaxis": {
            "gridcolor": "white",
            "linecolor": "white",
            "ticks": ""
           },
           "baxis": {
            "gridcolor": "white",
            "linecolor": "white",
            "ticks": ""
           },
           "bgcolor": "#E5ECF6",
           "caxis": {
            "gridcolor": "white",
            "linecolor": "white",
            "ticks": ""
           }
          },
          "title": {
           "x": 0.05
          },
          "xaxis": {
           "automargin": true,
           "gridcolor": "white",
           "linecolor": "white",
           "ticks": "",
           "title": {
            "standoff": 15
           },
           "zerolinecolor": "white",
           "zerolinewidth": 2
          },
          "yaxis": {
           "automargin": true,
           "gridcolor": "white",
           "linecolor": "white",
           "ticks": "",
           "title": {
            "standoff": 15
           },
           "zerolinecolor": "white",
           "zerolinewidth": 2
          }
         }
        },
        "title": {
         "text": "Histograma da variável GDPP"
        },
        "xaxis": {
         "anchor": "y",
         "domain": [
          0,
          1
         ],
         "title": {
          "text": "value"
         }
        },
        "yaxis": {
         "anchor": "x",
         "domain": [
          0,
          1
         ],
         "title": {
          "text": "count"
         }
        }
       }
      }
     },
     "metadata": {},
     "output_type": "display_data"
    }
   ],
   "source": [
    "# Distribuição da variável GDPP (PIB per capita)\n",
    "px.histogram(df_countries['gdpp'], title='Histograma da variável GDPP')"
   ]
  },
  {
   "cell_type": "code",
   "execution_count": 10,
   "metadata": {},
   "outputs": [
    {
     "data": {
      "application/vnd.plotly.v1+json": {
       "config": {
        "plotlyServerURL": "https://plot.ly"
       },
       "data": [
        {
         "alignmentgroup": "True",
         "bingroup": "x",
         "hovertemplate": "variable=inflation<br>value=%{x}<br>count=%{y}<extra></extra>",
         "legendgroup": "inflation",
         "marker": {
          "color": "#636efa",
          "pattern": {
           "shape": ""
          }
         },
         "name": "inflation",
         "offsetgroup": "inflation",
         "orientation": "v",
         "showlegend": true,
         "type": "histogram",
         "x": [
          9.44,
          4.49,
          16.1,
          22.4,
          1.44,
          20.9,
          7.77,
          1.16,
          0.873,
          13.8,
          -0.393,
          7.44,
          7.14,
          0.321,
          15.1,
          1.88,
          1.14,
          0.885,
          5.99,
          8.78,
          1.4,
          8.92,
          8.41,
          16.7,
          1.11,
          6.81,
          12.3,
          3.12,
          1.91,
          2.87,
          0.505,
          2.01,
          6.39,
          8.96,
          6.94,
          3.86,
          3.87,
          20.8,
          20.7,
          6.57,
          5.39,
          0.821,
          2.01,
          -1.43,
          3.22,
          5.44,
          7.47,
          10.1,
          2.65,
          24.9,
          11.6,
          1.74,
          4.23,
          0.351,
          1.05,
          16.6,
          4.3,
          8.55,
          0.758,
          16.6,
          0.673,
          0.48,
          5.14,
          16.1,
          2.97,
          5.73,
          5.45,
          2.33,
          5.47,
          8.98,
          15.3,
          15.9,
          16.6,
          -3.22,
          1.77,
          0.319,
          9.81,
          -1.9,
          8.43,
          19.5,
          2.09,
          1.52,
          11.2,
          10,
          9.2,
          -0.812,
          0.238,
          4.15,
          5.47,
          14.2,
          2.38,
          3.62,
          8.79,
          12.1,
          7.27,
          2.88,
          4.37,
          3.83,
          18.9,
          1.13,
          3.8,
          11.1,
          39.2,
          1.6,
          0.976,
          7.64,
          7.04,
          3.56,
          15.1,
          0.848,
          3.73,
          2.55,
          104,
          5.95,
          15.6,
          10.9,
          2.59,
          6.1,
          5.71,
          4.22,
          1.66,
          0.643,
          6.98,
          3.53,
          14.2,
          2.61,
          1.72,
          17.2,
          1.85,
          5.88,
          -4.21,
          17.2,
          -0.046,
          0.485,
          -0.987,
          6.81,
          6.35,
          3.16,
          0.16,
          22.8,
          4.44,
          19.6,
          7.2,
          0.991,
          0.317,
          12.5,
          9.25,
          4.08,
          26.5,
          1.18,
          3.68,
          3.82,
          7.01,
          2.31,
          10.6,
          13.4,
          12.5,
          1.57,
          1.22,
          4.91,
          16.5,
          2.62,
          12.1,
          23.6,
          14
         ],
         "xaxis": "x",
         "yaxis": "y"
        }
       ],
       "layout": {
        "barmode": "relative",
        "legend": {
         "title": {
          "text": "variable"
         },
         "tracegroupgap": 0
        },
        "template": {
         "data": {
          "bar": [
           {
            "error_x": {
             "color": "#2a3f5f"
            },
            "error_y": {
             "color": "#2a3f5f"
            },
            "marker": {
             "line": {
              "color": "#E5ECF6",
              "width": 0.5
             },
             "pattern": {
              "fillmode": "overlay",
              "size": 10,
              "solidity": 0.2
             }
            },
            "type": "bar"
           }
          ],
          "barpolar": [
           {
            "marker": {
             "line": {
              "color": "#E5ECF6",
              "width": 0.5
             },
             "pattern": {
              "fillmode": "overlay",
              "size": 10,
              "solidity": 0.2
             }
            },
            "type": "barpolar"
           }
          ],
          "carpet": [
           {
            "aaxis": {
             "endlinecolor": "#2a3f5f",
             "gridcolor": "white",
             "linecolor": "white",
             "minorgridcolor": "white",
             "startlinecolor": "#2a3f5f"
            },
            "baxis": {
             "endlinecolor": "#2a3f5f",
             "gridcolor": "white",
             "linecolor": "white",
             "minorgridcolor": "white",
             "startlinecolor": "#2a3f5f"
            },
            "type": "carpet"
           }
          ],
          "choropleth": [
           {
            "colorbar": {
             "outlinewidth": 0,
             "ticks": ""
            },
            "type": "choropleth"
           }
          ],
          "contour": [
           {
            "colorbar": {
             "outlinewidth": 0,
             "ticks": ""
            },
            "colorscale": [
             [
              0,
              "#0d0887"
             ],
             [
              0.1111111111111111,
              "#46039f"
             ],
             [
              0.2222222222222222,
              "#7201a8"
             ],
             [
              0.3333333333333333,
              "#9c179e"
             ],
             [
              0.4444444444444444,
              "#bd3786"
             ],
             [
              0.5555555555555556,
              "#d8576b"
             ],
             [
              0.6666666666666666,
              "#ed7953"
             ],
             [
              0.7777777777777778,
              "#fb9f3a"
             ],
             [
              0.8888888888888888,
              "#fdca26"
             ],
             [
              1,
              "#f0f921"
             ]
            ],
            "type": "contour"
           }
          ],
          "contourcarpet": [
           {
            "colorbar": {
             "outlinewidth": 0,
             "ticks": ""
            },
            "type": "contourcarpet"
           }
          ],
          "heatmap": [
           {
            "colorbar": {
             "outlinewidth": 0,
             "ticks": ""
            },
            "colorscale": [
             [
              0,
              "#0d0887"
             ],
             [
              0.1111111111111111,
              "#46039f"
             ],
             [
              0.2222222222222222,
              "#7201a8"
             ],
             [
              0.3333333333333333,
              "#9c179e"
             ],
             [
              0.4444444444444444,
              "#bd3786"
             ],
             [
              0.5555555555555556,
              "#d8576b"
             ],
             [
              0.6666666666666666,
              "#ed7953"
             ],
             [
              0.7777777777777778,
              "#fb9f3a"
             ],
             [
              0.8888888888888888,
              "#fdca26"
             ],
             [
              1,
              "#f0f921"
             ]
            ],
            "type": "heatmap"
           }
          ],
          "heatmapgl": [
           {
            "colorbar": {
             "outlinewidth": 0,
             "ticks": ""
            },
            "colorscale": [
             [
              0,
              "#0d0887"
             ],
             [
              0.1111111111111111,
              "#46039f"
             ],
             [
              0.2222222222222222,
              "#7201a8"
             ],
             [
              0.3333333333333333,
              "#9c179e"
             ],
             [
              0.4444444444444444,
              "#bd3786"
             ],
             [
              0.5555555555555556,
              "#d8576b"
             ],
             [
              0.6666666666666666,
              "#ed7953"
             ],
             [
              0.7777777777777778,
              "#fb9f3a"
             ],
             [
              0.8888888888888888,
              "#fdca26"
             ],
             [
              1,
              "#f0f921"
             ]
            ],
            "type": "heatmapgl"
           }
          ],
          "histogram": [
           {
            "marker": {
             "pattern": {
              "fillmode": "overlay",
              "size": 10,
              "solidity": 0.2
             }
            },
            "type": "histogram"
           }
          ],
          "histogram2d": [
           {
            "colorbar": {
             "outlinewidth": 0,
             "ticks": ""
            },
            "colorscale": [
             [
              0,
              "#0d0887"
             ],
             [
              0.1111111111111111,
              "#46039f"
             ],
             [
              0.2222222222222222,
              "#7201a8"
             ],
             [
              0.3333333333333333,
              "#9c179e"
             ],
             [
              0.4444444444444444,
              "#bd3786"
             ],
             [
              0.5555555555555556,
              "#d8576b"
             ],
             [
              0.6666666666666666,
              "#ed7953"
             ],
             [
              0.7777777777777778,
              "#fb9f3a"
             ],
             [
              0.8888888888888888,
              "#fdca26"
             ],
             [
              1,
              "#f0f921"
             ]
            ],
            "type": "histogram2d"
           }
          ],
          "histogram2dcontour": [
           {
            "colorbar": {
             "outlinewidth": 0,
             "ticks": ""
            },
            "colorscale": [
             [
              0,
              "#0d0887"
             ],
             [
              0.1111111111111111,
              "#46039f"
             ],
             [
              0.2222222222222222,
              "#7201a8"
             ],
             [
              0.3333333333333333,
              "#9c179e"
             ],
             [
              0.4444444444444444,
              "#bd3786"
             ],
             [
              0.5555555555555556,
              "#d8576b"
             ],
             [
              0.6666666666666666,
              "#ed7953"
             ],
             [
              0.7777777777777778,
              "#fb9f3a"
             ],
             [
              0.8888888888888888,
              "#fdca26"
             ],
             [
              1,
              "#f0f921"
             ]
            ],
            "type": "histogram2dcontour"
           }
          ],
          "mesh3d": [
           {
            "colorbar": {
             "outlinewidth": 0,
             "ticks": ""
            },
            "type": "mesh3d"
           }
          ],
          "parcoords": [
           {
            "line": {
             "colorbar": {
              "outlinewidth": 0,
              "ticks": ""
             }
            },
            "type": "parcoords"
           }
          ],
          "pie": [
           {
            "automargin": true,
            "type": "pie"
           }
          ],
          "scatter": [
           {
            "fillpattern": {
             "fillmode": "overlay",
             "size": 10,
             "solidity": 0.2
            },
            "type": "scatter"
           }
          ],
          "scatter3d": [
           {
            "line": {
             "colorbar": {
              "outlinewidth": 0,
              "ticks": ""
             }
            },
            "marker": {
             "colorbar": {
              "outlinewidth": 0,
              "ticks": ""
             }
            },
            "type": "scatter3d"
           }
          ],
          "scattercarpet": [
           {
            "marker": {
             "colorbar": {
              "outlinewidth": 0,
              "ticks": ""
             }
            },
            "type": "scattercarpet"
           }
          ],
          "scattergeo": [
           {
            "marker": {
             "colorbar": {
              "outlinewidth": 0,
              "ticks": ""
             }
            },
            "type": "scattergeo"
           }
          ],
          "scattergl": [
           {
            "marker": {
             "colorbar": {
              "outlinewidth": 0,
              "ticks": ""
             }
            },
            "type": "scattergl"
           }
          ],
          "scattermapbox": [
           {
            "marker": {
             "colorbar": {
              "outlinewidth": 0,
              "ticks": ""
             }
            },
            "type": "scattermapbox"
           }
          ],
          "scatterpolar": [
           {
            "marker": {
             "colorbar": {
              "outlinewidth": 0,
              "ticks": ""
             }
            },
            "type": "scatterpolar"
           }
          ],
          "scatterpolargl": [
           {
            "marker": {
             "colorbar": {
              "outlinewidth": 0,
              "ticks": ""
             }
            },
            "type": "scatterpolargl"
           }
          ],
          "scatterternary": [
           {
            "marker": {
             "colorbar": {
              "outlinewidth": 0,
              "ticks": ""
             }
            },
            "type": "scatterternary"
           }
          ],
          "surface": [
           {
            "colorbar": {
             "outlinewidth": 0,
             "ticks": ""
            },
            "colorscale": [
             [
              0,
              "#0d0887"
             ],
             [
              0.1111111111111111,
              "#46039f"
             ],
             [
              0.2222222222222222,
              "#7201a8"
             ],
             [
              0.3333333333333333,
              "#9c179e"
             ],
             [
              0.4444444444444444,
              "#bd3786"
             ],
             [
              0.5555555555555556,
              "#d8576b"
             ],
             [
              0.6666666666666666,
              "#ed7953"
             ],
             [
              0.7777777777777778,
              "#fb9f3a"
             ],
             [
              0.8888888888888888,
              "#fdca26"
             ],
             [
              1,
              "#f0f921"
             ]
            ],
            "type": "surface"
           }
          ],
          "table": [
           {
            "cells": {
             "fill": {
              "color": "#EBF0F8"
             },
             "line": {
              "color": "white"
             }
            },
            "header": {
             "fill": {
              "color": "#C8D4E3"
             },
             "line": {
              "color": "white"
             }
            },
            "type": "table"
           }
          ]
         },
         "layout": {
          "annotationdefaults": {
           "arrowcolor": "#2a3f5f",
           "arrowhead": 0,
           "arrowwidth": 1
          },
          "autotypenumbers": "strict",
          "coloraxis": {
           "colorbar": {
            "outlinewidth": 0,
            "ticks": ""
           }
          },
          "colorscale": {
           "diverging": [
            [
             0,
             "#8e0152"
            ],
            [
             0.1,
             "#c51b7d"
            ],
            [
             0.2,
             "#de77ae"
            ],
            [
             0.3,
             "#f1b6da"
            ],
            [
             0.4,
             "#fde0ef"
            ],
            [
             0.5,
             "#f7f7f7"
            ],
            [
             0.6,
             "#e6f5d0"
            ],
            [
             0.7,
             "#b8e186"
            ],
            [
             0.8,
             "#7fbc41"
            ],
            [
             0.9,
             "#4d9221"
            ],
            [
             1,
             "#276419"
            ]
           ],
           "sequential": [
            [
             0,
             "#0d0887"
            ],
            [
             0.1111111111111111,
             "#46039f"
            ],
            [
             0.2222222222222222,
             "#7201a8"
            ],
            [
             0.3333333333333333,
             "#9c179e"
            ],
            [
             0.4444444444444444,
             "#bd3786"
            ],
            [
             0.5555555555555556,
             "#d8576b"
            ],
            [
             0.6666666666666666,
             "#ed7953"
            ],
            [
             0.7777777777777778,
             "#fb9f3a"
            ],
            [
             0.8888888888888888,
             "#fdca26"
            ],
            [
             1,
             "#f0f921"
            ]
           ],
           "sequentialminus": [
            [
             0,
             "#0d0887"
            ],
            [
             0.1111111111111111,
             "#46039f"
            ],
            [
             0.2222222222222222,
             "#7201a8"
            ],
            [
             0.3333333333333333,
             "#9c179e"
            ],
            [
             0.4444444444444444,
             "#bd3786"
            ],
            [
             0.5555555555555556,
             "#d8576b"
            ],
            [
             0.6666666666666666,
             "#ed7953"
            ],
            [
             0.7777777777777778,
             "#fb9f3a"
            ],
            [
             0.8888888888888888,
             "#fdca26"
            ],
            [
             1,
             "#f0f921"
            ]
           ]
          },
          "colorway": [
           "#636efa",
           "#EF553B",
           "#00cc96",
           "#ab63fa",
           "#FFA15A",
           "#19d3f3",
           "#FF6692",
           "#B6E880",
           "#FF97FF",
           "#FECB52"
          ],
          "font": {
           "color": "#2a3f5f"
          },
          "geo": {
           "bgcolor": "white",
           "lakecolor": "white",
           "landcolor": "#E5ECF6",
           "showlakes": true,
           "showland": true,
           "subunitcolor": "white"
          },
          "hoverlabel": {
           "align": "left"
          },
          "hovermode": "closest",
          "mapbox": {
           "style": "light"
          },
          "paper_bgcolor": "white",
          "plot_bgcolor": "#E5ECF6",
          "polar": {
           "angularaxis": {
            "gridcolor": "white",
            "linecolor": "white",
            "ticks": ""
           },
           "bgcolor": "#E5ECF6",
           "radialaxis": {
            "gridcolor": "white",
            "linecolor": "white",
            "ticks": ""
           }
          },
          "scene": {
           "xaxis": {
            "backgroundcolor": "#E5ECF6",
            "gridcolor": "white",
            "gridwidth": 2,
            "linecolor": "white",
            "showbackground": true,
            "ticks": "",
            "zerolinecolor": "white"
           },
           "yaxis": {
            "backgroundcolor": "#E5ECF6",
            "gridcolor": "white",
            "gridwidth": 2,
            "linecolor": "white",
            "showbackground": true,
            "ticks": "",
            "zerolinecolor": "white"
           },
           "zaxis": {
            "backgroundcolor": "#E5ECF6",
            "gridcolor": "white",
            "gridwidth": 2,
            "linecolor": "white",
            "showbackground": true,
            "ticks": "",
            "zerolinecolor": "white"
           }
          },
          "shapedefaults": {
           "line": {
            "color": "#2a3f5f"
           }
          },
          "ternary": {
           "aaxis": {
            "gridcolor": "white",
            "linecolor": "white",
            "ticks": ""
           },
           "baxis": {
            "gridcolor": "white",
            "linecolor": "white",
            "ticks": ""
           },
           "bgcolor": "#E5ECF6",
           "caxis": {
            "gridcolor": "white",
            "linecolor": "white",
            "ticks": ""
           }
          },
          "title": {
           "x": 0.05
          },
          "xaxis": {
           "automargin": true,
           "gridcolor": "white",
           "linecolor": "white",
           "ticks": "",
           "title": {
            "standoff": 15
           },
           "zerolinecolor": "white",
           "zerolinewidth": 2
          },
          "yaxis": {
           "automargin": true,
           "gridcolor": "white",
           "linecolor": "white",
           "ticks": "",
           "title": {
            "standoff": 15
           },
           "zerolinecolor": "white",
           "zerolinewidth": 2
          }
         }
        },
        "title": {
         "text": "Histograma da variável inflation"
        },
        "xaxis": {
         "anchor": "y",
         "domain": [
          0,
          1
         ],
         "title": {
          "text": "value"
         }
        },
        "yaxis": {
         "anchor": "x",
         "domain": [
          0,
          1
         ],
         "title": {
          "text": "count"
         }
        }
       }
      }
     },
     "metadata": {},
     "output_type": "display_data"
    }
   ],
   "source": [
    "# Distribuição da variável inflation\n",
    "px.histogram(df_countries['inflation'], title='Histograma da variável inflation')"
   ]
  },
  {
   "cell_type": "code",
   "execution_count": 11,
   "metadata": {},
   "outputs": [
    {
     "data": {
      "application/vnd.plotly.v1+json": {
       "config": {
        "plotlyServerURL": "https://plot.ly"
       },
       "data": [
        {
         "alignmentgroup": "True",
         "bingroup": "x",
         "hovertemplate": "variable=life_expec<br>value=%{x}<br>count=%{y}<extra></extra>",
         "legendgroup": "life_expec",
         "marker": {
          "color": "#636efa",
          "pattern": {
           "shape": ""
          }
         },
         "name": "life_expec",
         "offsetgroup": "life_expec",
         "orientation": "v",
         "showlegend": true,
         "type": "histogram",
         "x": [
          56.2,
          76.3,
          76.5,
          60.1,
          76.8,
          75.8,
          73.3,
          82,
          80.5,
          69.1,
          73.8,
          76,
          70.4,
          76.7,
          70.4,
          80,
          71.4,
          61.8,
          72.1,
          71.6,
          76.8,
          57.1,
          74.2,
          77.1,
          73.9,
          57.9,
          57.7,
          66.1,
          57.3,
          81.3,
          72.5,
          47.5,
          56.5,
          79.1,
          74.6,
          76.4,
          65.9,
          57.5,
          60.4,
          80.4,
          56.3,
          76.3,
          79.9,
          77.5,
          79.5,
          74.6,
          76.7,
          70.5,
          74.1,
          60.9,
          61.7,
          76,
          65.3,
          80,
          81.4,
          62.9,
          65.5,
          72.8,
          80.1,
          62.2,
          80.4,
          71.3,
          71.3,
          58,
          55.6,
          65.5,
          32.1,
          74.5,
          82,
          66.2,
          69.9,
          74.5,
          67.2,
          80.4,
          81.4,
          81.7,
          74.7,
          82.8,
          75.8,
          68.4,
          62.8,
          60.7,
          78.2,
          68.5,
          63.8,
          73.1,
          79.8,
          46.5,
          60.8,
          76.1,
          73.2,
          81.3,
          60.8,
          53.1,
          74.5,
          77.9,
          59.5,
          80.3,
          68.2,
          73.4,
          65.4,
          69.7,
          66.2,
          76.4,
          73.5,
          54.5,
          66.8,
          58.6,
          68.3,
          80.7,
          80.9,
          58.8,
          60.5,
          81,
          76.1,
          65.3,
          77.8,
          74.1,
          77.9,
          69,
          76.3,
          79.8,
          79.5,
          73.7,
          69.2,
          64.6,
          71.5,
          75.1,
          64,
          74.7,
          73.4,
          55,
          82.7,
          75.5,
          79.5,
          61.7,
          54.3,
          80.1,
          81.9,
          74.4,
          71.6,
          66.3,
          70.3,
          81.5,
          82.2,
          69.6,
          59.3,
          76.6,
          71.1,
          58.7,
          69.9,
          76.9,
          78.2,
          67.9,
          56.8,
          70.4,
          76.5,
          80.3,
          78.7,
          76.4,
          68.8,
          63,
          73.1,
          67.5,
          52
         ],
         "xaxis": "x",
         "yaxis": "y"
        }
       ],
       "layout": {
        "barmode": "relative",
        "legend": {
         "title": {
          "text": "variable"
         },
         "tracegroupgap": 0
        },
        "template": {
         "data": {
          "bar": [
           {
            "error_x": {
             "color": "#2a3f5f"
            },
            "error_y": {
             "color": "#2a3f5f"
            },
            "marker": {
             "line": {
              "color": "#E5ECF6",
              "width": 0.5
             },
             "pattern": {
              "fillmode": "overlay",
              "size": 10,
              "solidity": 0.2
             }
            },
            "type": "bar"
           }
          ],
          "barpolar": [
           {
            "marker": {
             "line": {
              "color": "#E5ECF6",
              "width": 0.5
             },
             "pattern": {
              "fillmode": "overlay",
              "size": 10,
              "solidity": 0.2
             }
            },
            "type": "barpolar"
           }
          ],
          "carpet": [
           {
            "aaxis": {
             "endlinecolor": "#2a3f5f",
             "gridcolor": "white",
             "linecolor": "white",
             "minorgridcolor": "white",
             "startlinecolor": "#2a3f5f"
            },
            "baxis": {
             "endlinecolor": "#2a3f5f",
             "gridcolor": "white",
             "linecolor": "white",
             "minorgridcolor": "white",
             "startlinecolor": "#2a3f5f"
            },
            "type": "carpet"
           }
          ],
          "choropleth": [
           {
            "colorbar": {
             "outlinewidth": 0,
             "ticks": ""
            },
            "type": "choropleth"
           }
          ],
          "contour": [
           {
            "colorbar": {
             "outlinewidth": 0,
             "ticks": ""
            },
            "colorscale": [
             [
              0,
              "#0d0887"
             ],
             [
              0.1111111111111111,
              "#46039f"
             ],
             [
              0.2222222222222222,
              "#7201a8"
             ],
             [
              0.3333333333333333,
              "#9c179e"
             ],
             [
              0.4444444444444444,
              "#bd3786"
             ],
             [
              0.5555555555555556,
              "#d8576b"
             ],
             [
              0.6666666666666666,
              "#ed7953"
             ],
             [
              0.7777777777777778,
              "#fb9f3a"
             ],
             [
              0.8888888888888888,
              "#fdca26"
             ],
             [
              1,
              "#f0f921"
             ]
            ],
            "type": "contour"
           }
          ],
          "contourcarpet": [
           {
            "colorbar": {
             "outlinewidth": 0,
             "ticks": ""
            },
            "type": "contourcarpet"
           }
          ],
          "heatmap": [
           {
            "colorbar": {
             "outlinewidth": 0,
             "ticks": ""
            },
            "colorscale": [
             [
              0,
              "#0d0887"
             ],
             [
              0.1111111111111111,
              "#46039f"
             ],
             [
              0.2222222222222222,
              "#7201a8"
             ],
             [
              0.3333333333333333,
              "#9c179e"
             ],
             [
              0.4444444444444444,
              "#bd3786"
             ],
             [
              0.5555555555555556,
              "#d8576b"
             ],
             [
              0.6666666666666666,
              "#ed7953"
             ],
             [
              0.7777777777777778,
              "#fb9f3a"
             ],
             [
              0.8888888888888888,
              "#fdca26"
             ],
             [
              1,
              "#f0f921"
             ]
            ],
            "type": "heatmap"
           }
          ],
          "heatmapgl": [
           {
            "colorbar": {
             "outlinewidth": 0,
             "ticks": ""
            },
            "colorscale": [
             [
              0,
              "#0d0887"
             ],
             [
              0.1111111111111111,
              "#46039f"
             ],
             [
              0.2222222222222222,
              "#7201a8"
             ],
             [
              0.3333333333333333,
              "#9c179e"
             ],
             [
              0.4444444444444444,
              "#bd3786"
             ],
             [
              0.5555555555555556,
              "#d8576b"
             ],
             [
              0.6666666666666666,
              "#ed7953"
             ],
             [
              0.7777777777777778,
              "#fb9f3a"
             ],
             [
              0.8888888888888888,
              "#fdca26"
             ],
             [
              1,
              "#f0f921"
             ]
            ],
            "type": "heatmapgl"
           }
          ],
          "histogram": [
           {
            "marker": {
             "pattern": {
              "fillmode": "overlay",
              "size": 10,
              "solidity": 0.2
             }
            },
            "type": "histogram"
           }
          ],
          "histogram2d": [
           {
            "colorbar": {
             "outlinewidth": 0,
             "ticks": ""
            },
            "colorscale": [
             [
              0,
              "#0d0887"
             ],
             [
              0.1111111111111111,
              "#46039f"
             ],
             [
              0.2222222222222222,
              "#7201a8"
             ],
             [
              0.3333333333333333,
              "#9c179e"
             ],
             [
              0.4444444444444444,
              "#bd3786"
             ],
             [
              0.5555555555555556,
              "#d8576b"
             ],
             [
              0.6666666666666666,
              "#ed7953"
             ],
             [
              0.7777777777777778,
              "#fb9f3a"
             ],
             [
              0.8888888888888888,
              "#fdca26"
             ],
             [
              1,
              "#f0f921"
             ]
            ],
            "type": "histogram2d"
           }
          ],
          "histogram2dcontour": [
           {
            "colorbar": {
             "outlinewidth": 0,
             "ticks": ""
            },
            "colorscale": [
             [
              0,
              "#0d0887"
             ],
             [
              0.1111111111111111,
              "#46039f"
             ],
             [
              0.2222222222222222,
              "#7201a8"
             ],
             [
              0.3333333333333333,
              "#9c179e"
             ],
             [
              0.4444444444444444,
              "#bd3786"
             ],
             [
              0.5555555555555556,
              "#d8576b"
             ],
             [
              0.6666666666666666,
              "#ed7953"
             ],
             [
              0.7777777777777778,
              "#fb9f3a"
             ],
             [
              0.8888888888888888,
              "#fdca26"
             ],
             [
              1,
              "#f0f921"
             ]
            ],
            "type": "histogram2dcontour"
           }
          ],
          "mesh3d": [
           {
            "colorbar": {
             "outlinewidth": 0,
             "ticks": ""
            },
            "type": "mesh3d"
           }
          ],
          "parcoords": [
           {
            "line": {
             "colorbar": {
              "outlinewidth": 0,
              "ticks": ""
             }
            },
            "type": "parcoords"
           }
          ],
          "pie": [
           {
            "automargin": true,
            "type": "pie"
           }
          ],
          "scatter": [
           {
            "fillpattern": {
             "fillmode": "overlay",
             "size": 10,
             "solidity": 0.2
            },
            "type": "scatter"
           }
          ],
          "scatter3d": [
           {
            "line": {
             "colorbar": {
              "outlinewidth": 0,
              "ticks": ""
             }
            },
            "marker": {
             "colorbar": {
              "outlinewidth": 0,
              "ticks": ""
             }
            },
            "type": "scatter3d"
           }
          ],
          "scattercarpet": [
           {
            "marker": {
             "colorbar": {
              "outlinewidth": 0,
              "ticks": ""
             }
            },
            "type": "scattercarpet"
           }
          ],
          "scattergeo": [
           {
            "marker": {
             "colorbar": {
              "outlinewidth": 0,
              "ticks": ""
             }
            },
            "type": "scattergeo"
           }
          ],
          "scattergl": [
           {
            "marker": {
             "colorbar": {
              "outlinewidth": 0,
              "ticks": ""
             }
            },
            "type": "scattergl"
           }
          ],
          "scattermapbox": [
           {
            "marker": {
             "colorbar": {
              "outlinewidth": 0,
              "ticks": ""
             }
            },
            "type": "scattermapbox"
           }
          ],
          "scatterpolar": [
           {
            "marker": {
             "colorbar": {
              "outlinewidth": 0,
              "ticks": ""
             }
            },
            "type": "scatterpolar"
           }
          ],
          "scatterpolargl": [
           {
            "marker": {
             "colorbar": {
              "outlinewidth": 0,
              "ticks": ""
             }
            },
            "type": "scatterpolargl"
           }
          ],
          "scatterternary": [
           {
            "marker": {
             "colorbar": {
              "outlinewidth": 0,
              "ticks": ""
             }
            },
            "type": "scatterternary"
           }
          ],
          "surface": [
           {
            "colorbar": {
             "outlinewidth": 0,
             "ticks": ""
            },
            "colorscale": [
             [
              0,
              "#0d0887"
             ],
             [
              0.1111111111111111,
              "#46039f"
             ],
             [
              0.2222222222222222,
              "#7201a8"
             ],
             [
              0.3333333333333333,
              "#9c179e"
             ],
             [
              0.4444444444444444,
              "#bd3786"
             ],
             [
              0.5555555555555556,
              "#d8576b"
             ],
             [
              0.6666666666666666,
              "#ed7953"
             ],
             [
              0.7777777777777778,
              "#fb9f3a"
             ],
             [
              0.8888888888888888,
              "#fdca26"
             ],
             [
              1,
              "#f0f921"
             ]
            ],
            "type": "surface"
           }
          ],
          "table": [
           {
            "cells": {
             "fill": {
              "color": "#EBF0F8"
             },
             "line": {
              "color": "white"
             }
            },
            "header": {
             "fill": {
              "color": "#C8D4E3"
             },
             "line": {
              "color": "white"
             }
            },
            "type": "table"
           }
          ]
         },
         "layout": {
          "annotationdefaults": {
           "arrowcolor": "#2a3f5f",
           "arrowhead": 0,
           "arrowwidth": 1
          },
          "autotypenumbers": "strict",
          "coloraxis": {
           "colorbar": {
            "outlinewidth": 0,
            "ticks": ""
           }
          },
          "colorscale": {
           "diverging": [
            [
             0,
             "#8e0152"
            ],
            [
             0.1,
             "#c51b7d"
            ],
            [
             0.2,
             "#de77ae"
            ],
            [
             0.3,
             "#f1b6da"
            ],
            [
             0.4,
             "#fde0ef"
            ],
            [
             0.5,
             "#f7f7f7"
            ],
            [
             0.6,
             "#e6f5d0"
            ],
            [
             0.7,
             "#b8e186"
            ],
            [
             0.8,
             "#7fbc41"
            ],
            [
             0.9,
             "#4d9221"
            ],
            [
             1,
             "#276419"
            ]
           ],
           "sequential": [
            [
             0,
             "#0d0887"
            ],
            [
             0.1111111111111111,
             "#46039f"
            ],
            [
             0.2222222222222222,
             "#7201a8"
            ],
            [
             0.3333333333333333,
             "#9c179e"
            ],
            [
             0.4444444444444444,
             "#bd3786"
            ],
            [
             0.5555555555555556,
             "#d8576b"
            ],
            [
             0.6666666666666666,
             "#ed7953"
            ],
            [
             0.7777777777777778,
             "#fb9f3a"
            ],
            [
             0.8888888888888888,
             "#fdca26"
            ],
            [
             1,
             "#f0f921"
            ]
           ],
           "sequentialminus": [
            [
             0,
             "#0d0887"
            ],
            [
             0.1111111111111111,
             "#46039f"
            ],
            [
             0.2222222222222222,
             "#7201a8"
            ],
            [
             0.3333333333333333,
             "#9c179e"
            ],
            [
             0.4444444444444444,
             "#bd3786"
            ],
            [
             0.5555555555555556,
             "#d8576b"
            ],
            [
             0.6666666666666666,
             "#ed7953"
            ],
            [
             0.7777777777777778,
             "#fb9f3a"
            ],
            [
             0.8888888888888888,
             "#fdca26"
            ],
            [
             1,
             "#f0f921"
            ]
           ]
          },
          "colorway": [
           "#636efa",
           "#EF553B",
           "#00cc96",
           "#ab63fa",
           "#FFA15A",
           "#19d3f3",
           "#FF6692",
           "#B6E880",
           "#FF97FF",
           "#FECB52"
          ],
          "font": {
           "color": "#2a3f5f"
          },
          "geo": {
           "bgcolor": "white",
           "lakecolor": "white",
           "landcolor": "#E5ECF6",
           "showlakes": true,
           "showland": true,
           "subunitcolor": "white"
          },
          "hoverlabel": {
           "align": "left"
          },
          "hovermode": "closest",
          "mapbox": {
           "style": "light"
          },
          "paper_bgcolor": "white",
          "plot_bgcolor": "#E5ECF6",
          "polar": {
           "angularaxis": {
            "gridcolor": "white",
            "linecolor": "white",
            "ticks": ""
           },
           "bgcolor": "#E5ECF6",
           "radialaxis": {
            "gridcolor": "white",
            "linecolor": "white",
            "ticks": ""
           }
          },
          "scene": {
           "xaxis": {
            "backgroundcolor": "#E5ECF6",
            "gridcolor": "white",
            "gridwidth": 2,
            "linecolor": "white",
            "showbackground": true,
            "ticks": "",
            "zerolinecolor": "white"
           },
           "yaxis": {
            "backgroundcolor": "#E5ECF6",
            "gridcolor": "white",
            "gridwidth": 2,
            "linecolor": "white",
            "showbackground": true,
            "ticks": "",
            "zerolinecolor": "white"
           },
           "zaxis": {
            "backgroundcolor": "#E5ECF6",
            "gridcolor": "white",
            "gridwidth": 2,
            "linecolor": "white",
            "showbackground": true,
            "ticks": "",
            "zerolinecolor": "white"
           }
          },
          "shapedefaults": {
           "line": {
            "color": "#2a3f5f"
           }
          },
          "ternary": {
           "aaxis": {
            "gridcolor": "white",
            "linecolor": "white",
            "ticks": ""
           },
           "baxis": {
            "gridcolor": "white",
            "linecolor": "white",
            "ticks": ""
           },
           "bgcolor": "#E5ECF6",
           "caxis": {
            "gridcolor": "white",
            "linecolor": "white",
            "ticks": ""
           }
          },
          "title": {
           "x": 0.05
          },
          "xaxis": {
           "automargin": true,
           "gridcolor": "white",
           "linecolor": "white",
           "ticks": "",
           "title": {
            "standoff": 15
           },
           "zerolinecolor": "white",
           "zerolinewidth": 2
          },
          "yaxis": {
           "automargin": true,
           "gridcolor": "white",
           "linecolor": "white",
           "ticks": "",
           "title": {
            "standoff": 15
           },
           "zerolinecolor": "white",
           "zerolinewidth": 2
          }
         }
        },
        "title": {
         "text": "Histograma da variável Life Expectation"
        },
        "xaxis": {
         "anchor": "y",
         "domain": [
          0,
          1
         ],
         "title": {
          "text": "value"
         }
        },
        "yaxis": {
         "anchor": "x",
         "domain": [
          0,
          1
         ],
         "title": {
          "text": "count"
         }
        }
       }
      }
     },
     "metadata": {},
     "output_type": "display_data"
    }
   ],
   "source": [
    "# Distribuição da variável Life Expectation\n",
    "px.histogram(df_countries['life_expec'], title='Histograma da variável Life Expectation')"
   ]
  },
  {
   "cell_type": "markdown",
   "metadata": {},
   "source": [
    "### Análise Bivariada"
   ]
  },
  {
   "cell_type": "code",
   "execution_count": 12,
   "metadata": {},
   "outputs": [
    {
     "data": {
      "application/vnd.plotly.v1+json": {
       "config": {
        "plotlyServerURL": "https://plot.ly"
       },
       "data": [
        {
         "alignmentgroup": "True",
         "customdata": [
          [
           "Afghanistan"
          ],
          [
           "Burkina Faso"
          ],
          [
           "Burundi"
          ],
          [
           "Central African Republic"
          ],
          [
           "Chad"
          ],
          [
           "Congo Dem. Rep."
          ],
          [
           "Eritrea"
          ],
          [
           "Gambia"
          ],
          [
           "Guinea-Bissau"
          ],
          [
           "Liberia"
          ],
          [
           "Madagascar"
          ],
          [
           "Malawi"
          ],
          [
           "Mali"
          ],
          [
           "Mozambique"
          ],
          [
           "Niger"
          ],
          [
           "Rwanda"
          ],
          [
           "Sierra Leone"
          ],
          [
           "Sudan"
          ],
          [
           "Togo"
          ],
          [
           "Uganda"
          ],
          [
           "Yemen"
          ]
         ],
         "hovertemplate": "income_category=%{y}<br>income=%{x}<br>country=%{customdata[0]}<extra></extra>",
         "legendgroup": "Low income",
         "marker": {
          "color": "#636efa"
         },
         "name": "Low income",
         "notched": false,
         "offsetgroup": "Low income",
         "orientation": "h",
         "showlegend": true,
         "type": "box",
         "x": [
          1610,
          1430,
          764,
          888,
          1930,
          609,
          1420,
          1660,
          1390,
          700,
          1390,
          1030,
          1870,
          918,
          814,
          1350,
          1220,
          3370,
          1210,
          1540,
          4480
         ],
         "x0": " ",
         "xaxis": "x",
         "y": [
          "Low income",
          "Low income",
          "Low income",
          "Low income",
          "Low income",
          "Low income",
          "Low income",
          "Low income",
          "Low income",
          "Low income",
          "Low income",
          "Low income",
          "Low income",
          "Low income",
          "Low income",
          "Low income",
          "Low income",
          "Low income",
          "Low income",
          "Low income",
          "Low income"
         ],
         "y0": " ",
         "yaxis": "y"
        },
        {
         "alignmentgroup": "True",
         "customdata": [
          [
           "Albania"
          ],
          [
           "Argentina"
          ],
          [
           "Armenia"
          ],
          [
           "Azerbaijan"
          ],
          [
           "Belarus"
          ],
          [
           "Belize"
          ],
          [
           "Bosnia and Herzegovina"
          ],
          [
           "Botswana"
          ],
          [
           "Brazil"
          ],
          [
           "Bulgaria"
          ],
          [
           "China"
          ],
          [
           "Colombia"
          ],
          [
           "Costa Rica"
          ],
          [
           "Dominican Republic"
          ],
          [
           "Ecuador"
          ],
          [
           "El Salvador"
          ],
          [
           "Equatorial Guinea"
          ],
          [
           "Fiji"
          ],
          [
           "Gabon"
          ],
          [
           "Georgia"
          ],
          [
           "Grenada"
          ],
          [
           "Guatemala"
          ],
          [
           "Indonesia"
          ],
          [
           "Iraq"
          ],
          [
           "Jamaica"
          ],
          [
           "Kazakhstan"
          ],
          [
           "Libya"
          ],
          [
           "Malaysia"
          ],
          [
           "Maldives"
          ],
          [
           "Mauritius"
          ],
          [
           "Moldova"
          ],
          [
           "Montenegro"
          ],
          [
           "Namibia"
          ],
          [
           "Paraguay"
          ],
          [
           "Peru"
          ],
          [
           "Russia"
          ],
          [
           "Serbia"
          ],
          [
           "South Africa"
          ],
          [
           "St. Vincent and the Grenadines"
          ],
          [
           "Suriname"
          ],
          [
           "Thailand"
          ],
          [
           "Tonga"
          ],
          [
           "Turkey"
          ],
          [
           "Turkmenistan"
          ]
         ],
         "hovertemplate": "income_category=%{y}<br>income=%{x}<br>country=%{customdata[0]}<extra></extra>",
         "legendgroup": "Upper middle income",
         "marker": {
          "color": "#EF553B"
         },
         "name": "Upper middle income",
         "notched": false,
         "offsetgroup": "Upper middle income",
         "orientation": "h",
         "showlegend": true,
         "type": "box",
         "x": [
          9930,
          18700,
          6700,
          16000,
          16200,
          7880,
          9720,
          13300,
          14500,
          15300,
          9530,
          10900,
          13000,
          11100,
          9350,
          7300,
          33700,
          7350,
          15400,
          6730,
          11200,
          6710,
          8430,
          12700,
          8000,
          20100,
          29600,
          21100,
          10500,
          15900,
          3910,
          14000,
          8460,
          7290,
          9960,
          23100,
          12700,
          12000,
          9920,
          14200,
          13500,
          4980,
          18000,
          9940
         ],
         "x0": " ",
         "xaxis": "x",
         "y": [
          "Upper middle income",
          "Upper middle income",
          "Upper middle income",
          "Upper middle income",
          "Upper middle income",
          "Upper middle income",
          "Upper middle income",
          "Upper middle income",
          "Upper middle income",
          "Upper middle income",
          "Upper middle income",
          "Upper middle income",
          "Upper middle income",
          "Upper middle income",
          "Upper middle income",
          "Upper middle income",
          "Upper middle income",
          "Upper middle income",
          "Upper middle income",
          "Upper middle income",
          "Upper middle income",
          "Upper middle income",
          "Upper middle income",
          "Upper middle income",
          "Upper middle income",
          "Upper middle income",
          "Upper middle income",
          "Upper middle income",
          "Upper middle income",
          "Upper middle income",
          "Upper middle income",
          "Upper middle income",
          "Upper middle income",
          "Upper middle income",
          "Upper middle income",
          "Upper middle income",
          "Upper middle income",
          "Upper middle income",
          "Upper middle income",
          "Upper middle income",
          "Upper middle income",
          "Upper middle income",
          "Upper middle income",
          "Upper middle income"
         ],
         "y0": " ",
         "yaxis": "y"
        },
        {
         "alignmentgroup": "True",
         "customdata": [
          [
           "Algeria"
          ],
          [
           "Angola"
          ],
          [
           "Bangladesh"
          ],
          [
           "Benin"
          ],
          [
           "Bhutan"
          ],
          [
           "Bolivia"
          ],
          [
           "Cambodia"
          ],
          [
           "Cameroon"
          ],
          [
           "Cape Verde"
          ],
          [
           "Comoros"
          ],
          [
           "Congo Rep."
          ],
          [
           "Cote d'Ivoire"
          ],
          [
           "Egypt"
          ],
          [
           "Ghana"
          ],
          [
           "Guinea"
          ],
          [
           "Haiti"
          ],
          [
           "India"
          ],
          [
           "Iran"
          ],
          [
           "Jordan"
          ],
          [
           "Kenya"
          ],
          [
           "Kiribati"
          ],
          [
           "Kyrgyz Republic"
          ],
          [
           "Lao"
          ],
          [
           "Lebanon"
          ],
          [
           "Lesotho"
          ],
          [
           "Mauritania"
          ],
          [
           "Micronesia"
          ],
          [
           "Mongolia"
          ],
          [
           "Morocco"
          ],
          [
           "Myanmar"
          ],
          [
           "Nepal"
          ],
          [
           "Nigeria"
          ],
          [
           "Pakistan"
          ],
          [
           "Philippines"
          ],
          [
           "Samoa"
          ],
          [
           "Senegal"
          ],
          [
           "Solomon Islands"
          ],
          [
           "Sri Lanka"
          ],
          [
           "Tajikistan"
          ],
          [
           "Tanzania"
          ],
          [
           "Timor-Leste"
          ],
          [
           "Tunisia"
          ],
          [
           "Ukraine"
          ],
          [
           "Uzbekistan"
          ],
          [
           "Vanuatu"
          ],
          [
           "Vietnam"
          ],
          [
           "Zambia"
          ]
         ],
         "hovertemplate": "income_category=%{y}<br>income=%{x}<br>country=%{customdata[0]}<extra></extra>",
         "legendgroup": "Lower middle income",
         "marker": {
          "color": "#00cc96"
         },
         "name": "Lower middle income",
         "notched": false,
         "offsetgroup": "Lower middle income",
         "orientation": "h",
         "showlegend": true,
         "type": "box",
         "x": [
          12900,
          5900,
          2440,
          1820,
          6420,
          5410,
          2520,
          2660,
          5830,
          1410,
          5190,
          2690,
          9860,
          3060,
          1190,
          1500,
          4410,
          17400,
          9470,
          2480,
          1730,
          2790,
          3980,
          16300,
          2380,
          3320,
          3340,
          7710,
          6440,
          3720,
          1990,
          5150,
          4280,
          5600,
          5400,
          2180,
          1780,
          8560,
          2110,
          2090,
          1850,
          10400,
          7820,
          4240,
          2950,
          4490,
          3280
         ],
         "x0": " ",
         "xaxis": "x",
         "y": [
          "Lower middle income",
          "Lower middle income",
          "Lower middle income",
          "Lower middle income",
          "Lower middle income",
          "Lower middle income",
          "Lower middle income",
          "Lower middle income",
          "Lower middle income",
          "Lower middle income",
          "Lower middle income",
          "Lower middle income",
          "Lower middle income",
          "Lower middle income",
          "Lower middle income",
          "Lower middle income",
          "Lower middle income",
          "Lower middle income",
          "Lower middle income",
          "Lower middle income",
          "Lower middle income",
          "Lower middle income",
          "Lower middle income",
          "Lower middle income",
          "Lower middle income",
          "Lower middle income",
          "Lower middle income",
          "Lower middle income",
          "Lower middle income",
          "Lower middle income",
          "Lower middle income",
          "Lower middle income",
          "Lower middle income",
          "Lower middle income",
          "Lower middle income",
          "Lower middle income",
          "Lower middle income",
          "Lower middle income",
          "Lower middle income",
          "Lower middle income",
          "Lower middle income",
          "Lower middle income",
          "Lower middle income",
          "Lower middle income",
          "Lower middle income",
          "Lower middle income",
          "Lower middle income"
         ],
         "y0": " ",
         "yaxis": "y"
        },
        {
         "alignmentgroup": "True",
         "customdata": [
          [
           "Antigua and Barbuda"
          ],
          [
           "Australia"
          ],
          [
           "Austria"
          ],
          [
           "Bahamas"
          ],
          [
           "Bahrain"
          ],
          [
           "Barbados"
          ],
          [
           "Belgium"
          ],
          [
           "Brunei"
          ],
          [
           "Canada"
          ],
          [
           "Chile"
          ],
          [
           "Croatia"
          ],
          [
           "Cyprus"
          ],
          [
           "Czech Republic"
          ],
          [
           "Denmark"
          ],
          [
           "Estonia"
          ],
          [
           "Finland"
          ],
          [
           "France"
          ],
          [
           "Germany"
          ],
          [
           "Greece"
          ],
          [
           "Guyana"
          ],
          [
           "Hungary"
          ],
          [
           "Iceland"
          ],
          [
           "Ireland"
          ],
          [
           "Israel"
          ],
          [
           "Italy"
          ],
          [
           "Japan"
          ],
          [
           "Kuwait"
          ],
          [
           "Latvia"
          ],
          [
           "Lithuania"
          ],
          [
           "Luxembourg"
          ],
          [
           "Malta"
          ],
          [
           "Netherlands"
          ],
          [
           "New Zealand"
          ],
          [
           "Norway"
          ],
          [
           "Oman"
          ],
          [
           "Panama"
          ],
          [
           "Poland"
          ],
          [
           "Portugal"
          ],
          [
           "Qatar"
          ],
          [
           "Romania"
          ],
          [
           "Saudi Arabia"
          ],
          [
           "Seychelles"
          ],
          [
           "Singapore"
          ],
          [
           "Slovak Republic"
          ],
          [
           "Slovenia"
          ],
          [
           "South Korea"
          ],
          [
           "Spain"
          ],
          [
           "Sweden"
          ],
          [
           "Switzerland"
          ],
          [
           "United Arab Emirates"
          ],
          [
           "United Kingdom"
          ],
          [
           "United States"
          ],
          [
           "Uruguay"
          ]
         ],
         "hovertemplate": "income_category=%{y}<br>income=%{x}<br>country=%{customdata[0]}<extra></extra>",
         "legendgroup": "High income",
         "marker": {
          "color": "#ab63fa"
         },
         "name": "High income",
         "notched": false,
         "offsetgroup": "High income",
         "orientation": "h",
         "showlegend": true,
         "type": "box",
         "x": [
          19100,
          41400,
          43200,
          22900,
          41100,
          15300,
          41100,
          80600,
          40700,
          19400,
          20100,
          33900,
          28300,
          44000,
          22700,
          39800,
          36900,
          40400,
          28700,
          5840,
          22300,
          38800,
          45700,
          29600,
          36200,
          35800,
          75200,
          18300,
          21100,
          91700,
          28300,
          45500,
          32300,
          62300,
          45300,
          15400,
          21800,
          27200,
          125000,
          17800,
          45400,
          20400,
          72100,
          25200,
          28700,
          30400,
          32500,
          42900,
          55500,
          57600,
          36200,
          49400,
          17100
         ],
         "x0": " ",
         "xaxis": "x",
         "y": [
          "High income",
          "High income",
          "High income",
          "High income",
          "High income",
          "High income",
          "High income",
          "High income",
          "High income",
          "High income",
          "High income",
          "High income",
          "High income",
          "High income",
          "High income",
          "High income",
          "High income",
          "High income",
          "High income",
          "High income",
          "High income",
          "High income",
          "High income",
          "High income",
          "High income",
          "High income",
          "High income",
          "High income",
          "High income",
          "High income",
          "High income",
          "High income",
          "High income",
          "High income",
          "High income",
          "High income",
          "High income",
          "High income",
          "High income",
          "High income",
          "High income",
          "High income",
          "High income",
          "High income",
          "High income",
          "High income",
          "High income",
          "High income",
          "High income",
          "High income",
          "High income",
          "High income",
          "High income"
         ],
         "y0": " ",
         "yaxis": "y"
        }
       ],
       "layout": {
        "boxmode": "overlay",
        "legend": {
         "title": {
          "text": "income_category"
         },
         "tracegroupgap": 0
        },
        "margin": {
         "t": 60
        },
        "template": {
         "data": {
          "bar": [
           {
            "error_x": {
             "color": "#2a3f5f"
            },
            "error_y": {
             "color": "#2a3f5f"
            },
            "marker": {
             "line": {
              "color": "#E5ECF6",
              "width": 0.5
             },
             "pattern": {
              "fillmode": "overlay",
              "size": 10,
              "solidity": 0.2
             }
            },
            "type": "bar"
           }
          ],
          "barpolar": [
           {
            "marker": {
             "line": {
              "color": "#E5ECF6",
              "width": 0.5
             },
             "pattern": {
              "fillmode": "overlay",
              "size": 10,
              "solidity": 0.2
             }
            },
            "type": "barpolar"
           }
          ],
          "carpet": [
           {
            "aaxis": {
             "endlinecolor": "#2a3f5f",
             "gridcolor": "white",
             "linecolor": "white",
             "minorgridcolor": "white",
             "startlinecolor": "#2a3f5f"
            },
            "baxis": {
             "endlinecolor": "#2a3f5f",
             "gridcolor": "white",
             "linecolor": "white",
             "minorgridcolor": "white",
             "startlinecolor": "#2a3f5f"
            },
            "type": "carpet"
           }
          ],
          "choropleth": [
           {
            "colorbar": {
             "outlinewidth": 0,
             "ticks": ""
            },
            "type": "choropleth"
           }
          ],
          "contour": [
           {
            "colorbar": {
             "outlinewidth": 0,
             "ticks": ""
            },
            "colorscale": [
             [
              0,
              "#0d0887"
             ],
             [
              0.1111111111111111,
              "#46039f"
             ],
             [
              0.2222222222222222,
              "#7201a8"
             ],
             [
              0.3333333333333333,
              "#9c179e"
             ],
             [
              0.4444444444444444,
              "#bd3786"
             ],
             [
              0.5555555555555556,
              "#d8576b"
             ],
             [
              0.6666666666666666,
              "#ed7953"
             ],
             [
              0.7777777777777778,
              "#fb9f3a"
             ],
             [
              0.8888888888888888,
              "#fdca26"
             ],
             [
              1,
              "#f0f921"
             ]
            ],
            "type": "contour"
           }
          ],
          "contourcarpet": [
           {
            "colorbar": {
             "outlinewidth": 0,
             "ticks": ""
            },
            "type": "contourcarpet"
           }
          ],
          "heatmap": [
           {
            "colorbar": {
             "outlinewidth": 0,
             "ticks": ""
            },
            "colorscale": [
             [
              0,
              "#0d0887"
             ],
             [
              0.1111111111111111,
              "#46039f"
             ],
             [
              0.2222222222222222,
              "#7201a8"
             ],
             [
              0.3333333333333333,
              "#9c179e"
             ],
             [
              0.4444444444444444,
              "#bd3786"
             ],
             [
              0.5555555555555556,
              "#d8576b"
             ],
             [
              0.6666666666666666,
              "#ed7953"
             ],
             [
              0.7777777777777778,
              "#fb9f3a"
             ],
             [
              0.8888888888888888,
              "#fdca26"
             ],
             [
              1,
              "#f0f921"
             ]
            ],
            "type": "heatmap"
           }
          ],
          "heatmapgl": [
           {
            "colorbar": {
             "outlinewidth": 0,
             "ticks": ""
            },
            "colorscale": [
             [
              0,
              "#0d0887"
             ],
             [
              0.1111111111111111,
              "#46039f"
             ],
             [
              0.2222222222222222,
              "#7201a8"
             ],
             [
              0.3333333333333333,
              "#9c179e"
             ],
             [
              0.4444444444444444,
              "#bd3786"
             ],
             [
              0.5555555555555556,
              "#d8576b"
             ],
             [
              0.6666666666666666,
              "#ed7953"
             ],
             [
              0.7777777777777778,
              "#fb9f3a"
             ],
             [
              0.8888888888888888,
              "#fdca26"
             ],
             [
              1,
              "#f0f921"
             ]
            ],
            "type": "heatmapgl"
           }
          ],
          "histogram": [
           {
            "marker": {
             "pattern": {
              "fillmode": "overlay",
              "size": 10,
              "solidity": 0.2
             }
            },
            "type": "histogram"
           }
          ],
          "histogram2d": [
           {
            "colorbar": {
             "outlinewidth": 0,
             "ticks": ""
            },
            "colorscale": [
             [
              0,
              "#0d0887"
             ],
             [
              0.1111111111111111,
              "#46039f"
             ],
             [
              0.2222222222222222,
              "#7201a8"
             ],
             [
              0.3333333333333333,
              "#9c179e"
             ],
             [
              0.4444444444444444,
              "#bd3786"
             ],
             [
              0.5555555555555556,
              "#d8576b"
             ],
             [
              0.6666666666666666,
              "#ed7953"
             ],
             [
              0.7777777777777778,
              "#fb9f3a"
             ],
             [
              0.8888888888888888,
              "#fdca26"
             ],
             [
              1,
              "#f0f921"
             ]
            ],
            "type": "histogram2d"
           }
          ],
          "histogram2dcontour": [
           {
            "colorbar": {
             "outlinewidth": 0,
             "ticks": ""
            },
            "colorscale": [
             [
              0,
              "#0d0887"
             ],
             [
              0.1111111111111111,
              "#46039f"
             ],
             [
              0.2222222222222222,
              "#7201a8"
             ],
             [
              0.3333333333333333,
              "#9c179e"
             ],
             [
              0.4444444444444444,
              "#bd3786"
             ],
             [
              0.5555555555555556,
              "#d8576b"
             ],
             [
              0.6666666666666666,
              "#ed7953"
             ],
             [
              0.7777777777777778,
              "#fb9f3a"
             ],
             [
              0.8888888888888888,
              "#fdca26"
             ],
             [
              1,
              "#f0f921"
             ]
            ],
            "type": "histogram2dcontour"
           }
          ],
          "mesh3d": [
           {
            "colorbar": {
             "outlinewidth": 0,
             "ticks": ""
            },
            "type": "mesh3d"
           }
          ],
          "parcoords": [
           {
            "line": {
             "colorbar": {
              "outlinewidth": 0,
              "ticks": ""
             }
            },
            "type": "parcoords"
           }
          ],
          "pie": [
           {
            "automargin": true,
            "type": "pie"
           }
          ],
          "scatter": [
           {
            "fillpattern": {
             "fillmode": "overlay",
             "size": 10,
             "solidity": 0.2
            },
            "type": "scatter"
           }
          ],
          "scatter3d": [
           {
            "line": {
             "colorbar": {
              "outlinewidth": 0,
              "ticks": ""
             }
            },
            "marker": {
             "colorbar": {
              "outlinewidth": 0,
              "ticks": ""
             }
            },
            "type": "scatter3d"
           }
          ],
          "scattercarpet": [
           {
            "marker": {
             "colorbar": {
              "outlinewidth": 0,
              "ticks": ""
             }
            },
            "type": "scattercarpet"
           }
          ],
          "scattergeo": [
           {
            "marker": {
             "colorbar": {
              "outlinewidth": 0,
              "ticks": ""
             }
            },
            "type": "scattergeo"
           }
          ],
          "scattergl": [
           {
            "marker": {
             "colorbar": {
              "outlinewidth": 0,
              "ticks": ""
             }
            },
            "type": "scattergl"
           }
          ],
          "scattermapbox": [
           {
            "marker": {
             "colorbar": {
              "outlinewidth": 0,
              "ticks": ""
             }
            },
            "type": "scattermapbox"
           }
          ],
          "scatterpolar": [
           {
            "marker": {
             "colorbar": {
              "outlinewidth": 0,
              "ticks": ""
             }
            },
            "type": "scatterpolar"
           }
          ],
          "scatterpolargl": [
           {
            "marker": {
             "colorbar": {
              "outlinewidth": 0,
              "ticks": ""
             }
            },
            "type": "scatterpolargl"
           }
          ],
          "scatterternary": [
           {
            "marker": {
             "colorbar": {
              "outlinewidth": 0,
              "ticks": ""
             }
            },
            "type": "scatterternary"
           }
          ],
          "surface": [
           {
            "colorbar": {
             "outlinewidth": 0,
             "ticks": ""
            },
            "colorscale": [
             [
              0,
              "#0d0887"
             ],
             [
              0.1111111111111111,
              "#46039f"
             ],
             [
              0.2222222222222222,
              "#7201a8"
             ],
             [
              0.3333333333333333,
              "#9c179e"
             ],
             [
              0.4444444444444444,
              "#bd3786"
             ],
             [
              0.5555555555555556,
              "#d8576b"
             ],
             [
              0.6666666666666666,
              "#ed7953"
             ],
             [
              0.7777777777777778,
              "#fb9f3a"
             ],
             [
              0.8888888888888888,
              "#fdca26"
             ],
             [
              1,
              "#f0f921"
             ]
            ],
            "type": "surface"
           }
          ],
          "table": [
           {
            "cells": {
             "fill": {
              "color": "#EBF0F8"
             },
             "line": {
              "color": "white"
             }
            },
            "header": {
             "fill": {
              "color": "#C8D4E3"
             },
             "line": {
              "color": "white"
             }
            },
            "type": "table"
           }
          ]
         },
         "layout": {
          "annotationdefaults": {
           "arrowcolor": "#2a3f5f",
           "arrowhead": 0,
           "arrowwidth": 1
          },
          "autotypenumbers": "strict",
          "coloraxis": {
           "colorbar": {
            "outlinewidth": 0,
            "ticks": ""
           }
          },
          "colorscale": {
           "diverging": [
            [
             0,
             "#8e0152"
            ],
            [
             0.1,
             "#c51b7d"
            ],
            [
             0.2,
             "#de77ae"
            ],
            [
             0.3,
             "#f1b6da"
            ],
            [
             0.4,
             "#fde0ef"
            ],
            [
             0.5,
             "#f7f7f7"
            ],
            [
             0.6,
             "#e6f5d0"
            ],
            [
             0.7,
             "#b8e186"
            ],
            [
             0.8,
             "#7fbc41"
            ],
            [
             0.9,
             "#4d9221"
            ],
            [
             1,
             "#276419"
            ]
           ],
           "sequential": [
            [
             0,
             "#0d0887"
            ],
            [
             0.1111111111111111,
             "#46039f"
            ],
            [
             0.2222222222222222,
             "#7201a8"
            ],
            [
             0.3333333333333333,
             "#9c179e"
            ],
            [
             0.4444444444444444,
             "#bd3786"
            ],
            [
             0.5555555555555556,
             "#d8576b"
            ],
            [
             0.6666666666666666,
             "#ed7953"
            ],
            [
             0.7777777777777778,
             "#fb9f3a"
            ],
            [
             0.8888888888888888,
             "#fdca26"
            ],
            [
             1,
             "#f0f921"
            ]
           ],
           "sequentialminus": [
            [
             0,
             "#0d0887"
            ],
            [
             0.1111111111111111,
             "#46039f"
            ],
            [
             0.2222222222222222,
             "#7201a8"
            ],
            [
             0.3333333333333333,
             "#9c179e"
            ],
            [
             0.4444444444444444,
             "#bd3786"
            ],
            [
             0.5555555555555556,
             "#d8576b"
            ],
            [
             0.6666666666666666,
             "#ed7953"
            ],
            [
             0.7777777777777778,
             "#fb9f3a"
            ],
            [
             0.8888888888888888,
             "#fdca26"
            ],
            [
             1,
             "#f0f921"
            ]
           ]
          },
          "colorway": [
           "#636efa",
           "#EF553B",
           "#00cc96",
           "#ab63fa",
           "#FFA15A",
           "#19d3f3",
           "#FF6692",
           "#B6E880",
           "#FF97FF",
           "#FECB52"
          ],
          "font": {
           "color": "#2a3f5f"
          },
          "geo": {
           "bgcolor": "white",
           "lakecolor": "white",
           "landcolor": "#E5ECF6",
           "showlakes": true,
           "showland": true,
           "subunitcolor": "white"
          },
          "hoverlabel": {
           "align": "left"
          },
          "hovermode": "closest",
          "mapbox": {
           "style": "light"
          },
          "paper_bgcolor": "white",
          "plot_bgcolor": "#E5ECF6",
          "polar": {
           "angularaxis": {
            "gridcolor": "white",
            "linecolor": "white",
            "ticks": ""
           },
           "bgcolor": "#E5ECF6",
           "radialaxis": {
            "gridcolor": "white",
            "linecolor": "white",
            "ticks": ""
           }
          },
          "scene": {
           "xaxis": {
            "backgroundcolor": "#E5ECF6",
            "gridcolor": "white",
            "gridwidth": 2,
            "linecolor": "white",
            "showbackground": true,
            "ticks": "",
            "zerolinecolor": "white"
           },
           "yaxis": {
            "backgroundcolor": "#E5ECF6",
            "gridcolor": "white",
            "gridwidth": 2,
            "linecolor": "white",
            "showbackground": true,
            "ticks": "",
            "zerolinecolor": "white"
           },
           "zaxis": {
            "backgroundcolor": "#E5ECF6",
            "gridcolor": "white",
            "gridwidth": 2,
            "linecolor": "white",
            "showbackground": true,
            "ticks": "",
            "zerolinecolor": "white"
           }
          },
          "shapedefaults": {
           "line": {
            "color": "#2a3f5f"
           }
          },
          "ternary": {
           "aaxis": {
            "gridcolor": "white",
            "linecolor": "white",
            "ticks": ""
           },
           "baxis": {
            "gridcolor": "white",
            "linecolor": "white",
            "ticks": ""
           },
           "bgcolor": "#E5ECF6",
           "caxis": {
            "gridcolor": "white",
            "linecolor": "white",
            "ticks": ""
           }
          },
          "title": {
           "x": 0.05
          },
          "xaxis": {
           "automargin": true,
           "gridcolor": "white",
           "linecolor": "white",
           "ticks": "",
           "title": {
            "standoff": 15
           },
           "zerolinecolor": "white",
           "zerolinewidth": 2
          },
          "yaxis": {
           "automargin": true,
           "gridcolor": "white",
           "linecolor": "white",
           "ticks": "",
           "title": {
            "standoff": 15
           },
           "zerolinecolor": "white",
           "zerolinewidth": 2
          }
         }
        },
        "xaxis": {
         "anchor": "y",
         "domain": [
          0,
          1
         ],
         "title": {
          "text": "income"
         }
        },
        "yaxis": {
         "anchor": "x",
         "categoryarray": [
          "High income",
          "Lower middle income",
          "Upper middle income",
          "Low income"
         ],
         "categoryorder": "array",
         "domain": [
          0,
          1
         ],
         "title": {
          "text": "income_category"
         }
        }
       }
      }
     },
     "metadata": {},
     "output_type": "display_data"
    }
   ],
   "source": [
    "# Plot de Distribuição (BoxPlot) por income e income_category\n",
    "px.box(df_countries, x='income', y='income_category', color='income_category', orientation='h', hover_data=['country'])"
   ]
  },
  {
   "cell_type": "code",
   "execution_count": 13,
   "metadata": {},
   "outputs": [
    {
     "data": {
      "application/vnd.plotly.v1+json": {
       "config": {
        "plotlyServerURL": "https://plot.ly"
       },
       "data": [
        {
         "alignmentgroup": "True",
         "customdata": [
          [
           "Afghanistan"
          ],
          [
           "Burkina Faso"
          ],
          [
           "Burundi"
          ],
          [
           "Central African Republic"
          ],
          [
           "Chad"
          ],
          [
           "Congo Dem. Rep."
          ],
          [
           "Eritrea"
          ],
          [
           "Gambia"
          ],
          [
           "Guinea-Bissau"
          ],
          [
           "Liberia"
          ],
          [
           "Madagascar"
          ],
          [
           "Malawi"
          ],
          [
           "Mali"
          ],
          [
           "Mozambique"
          ],
          [
           "Niger"
          ],
          [
           "Rwanda"
          ],
          [
           "Sierra Leone"
          ],
          [
           "Sudan"
          ],
          [
           "Togo"
          ],
          [
           "Uganda"
          ],
          [
           "Yemen"
          ]
         ],
         "hovertemplate": "income_category=%{y}<br>gdpp=%{x}<br>country=%{customdata[0]}<extra></extra>",
         "legendgroup": "Low income",
         "marker": {
          "color": "#636efa"
         },
         "name": "Low income",
         "notched": false,
         "offsetgroup": "Low income",
         "orientation": "h",
         "showlegend": true,
         "type": "box",
         "x": [
          553,
          575,
          231,
          446,
          897,
          334,
          482,
          562,
          547,
          327,
          413,
          459,
          708,
          419,
          348,
          563,
          399,
          1480,
          488,
          595,
          1310
         ],
         "x0": " ",
         "xaxis": "x",
         "y": [
          "Low income",
          "Low income",
          "Low income",
          "Low income",
          "Low income",
          "Low income",
          "Low income",
          "Low income",
          "Low income",
          "Low income",
          "Low income",
          "Low income",
          "Low income",
          "Low income",
          "Low income",
          "Low income",
          "Low income",
          "Low income",
          "Low income",
          "Low income",
          "Low income"
         ],
         "y0": " ",
         "yaxis": "y"
        },
        {
         "alignmentgroup": "True",
         "customdata": [
          [
           "Albania"
          ],
          [
           "Argentina"
          ],
          [
           "Armenia"
          ],
          [
           "Azerbaijan"
          ],
          [
           "Belarus"
          ],
          [
           "Belize"
          ],
          [
           "Bosnia and Herzegovina"
          ],
          [
           "Botswana"
          ],
          [
           "Brazil"
          ],
          [
           "Bulgaria"
          ],
          [
           "China"
          ],
          [
           "Colombia"
          ],
          [
           "Costa Rica"
          ],
          [
           "Dominican Republic"
          ],
          [
           "Ecuador"
          ],
          [
           "El Salvador"
          ],
          [
           "Equatorial Guinea"
          ],
          [
           "Fiji"
          ],
          [
           "Gabon"
          ],
          [
           "Georgia"
          ],
          [
           "Grenada"
          ],
          [
           "Guatemala"
          ],
          [
           "Indonesia"
          ],
          [
           "Iraq"
          ],
          [
           "Jamaica"
          ],
          [
           "Kazakhstan"
          ],
          [
           "Libya"
          ],
          [
           "Malaysia"
          ],
          [
           "Maldives"
          ],
          [
           "Mauritius"
          ],
          [
           "Moldova"
          ],
          [
           "Montenegro"
          ],
          [
           "Namibia"
          ],
          [
           "Paraguay"
          ],
          [
           "Peru"
          ],
          [
           "Russia"
          ],
          [
           "Serbia"
          ],
          [
           "South Africa"
          ],
          [
           "St. Vincent and the Grenadines"
          ],
          [
           "Suriname"
          ],
          [
           "Thailand"
          ],
          [
           "Tonga"
          ],
          [
           "Turkey"
          ],
          [
           "Turkmenistan"
          ]
         ],
         "hovertemplate": "income_category=%{y}<br>gdpp=%{x}<br>country=%{customdata[0]}<extra></extra>",
         "legendgroup": "Upper middle income",
         "marker": {
          "color": "#EF553B"
         },
         "name": "Upper middle income",
         "notched": false,
         "offsetgroup": "Upper middle income",
         "orientation": "h",
         "showlegend": true,
         "type": "box",
         "x": [
          4090,
          10300,
          3220,
          5840,
          6030,
          4340,
          4610,
          6350,
          11200,
          6840,
          4560,
          6250,
          8200,
          5450,
          4660,
          2990,
          17100,
          3650,
          8750,
          2960,
          7370,
          2830,
          3110,
          4500,
          4680,
          9070,
          12100,
          9070,
          7100,
          8000,
          1630,
          6680,
          5190,
          3230,
          5020,
          10700,
          5410,
          7280,
          6230,
          8300,
          5080,
          3550,
          10700,
          4440
         ],
         "x0": " ",
         "xaxis": "x",
         "y": [
          "Upper middle income",
          "Upper middle income",
          "Upper middle income",
          "Upper middle income",
          "Upper middle income",
          "Upper middle income",
          "Upper middle income",
          "Upper middle income",
          "Upper middle income",
          "Upper middle income",
          "Upper middle income",
          "Upper middle income",
          "Upper middle income",
          "Upper middle income",
          "Upper middle income",
          "Upper middle income",
          "Upper middle income",
          "Upper middle income",
          "Upper middle income",
          "Upper middle income",
          "Upper middle income",
          "Upper middle income",
          "Upper middle income",
          "Upper middle income",
          "Upper middle income",
          "Upper middle income",
          "Upper middle income",
          "Upper middle income",
          "Upper middle income",
          "Upper middle income",
          "Upper middle income",
          "Upper middle income",
          "Upper middle income",
          "Upper middle income",
          "Upper middle income",
          "Upper middle income",
          "Upper middle income",
          "Upper middle income",
          "Upper middle income",
          "Upper middle income",
          "Upper middle income",
          "Upper middle income",
          "Upper middle income",
          "Upper middle income"
         ],
         "y0": " ",
         "yaxis": "y"
        },
        {
         "alignmentgroup": "True",
         "customdata": [
          [
           "Algeria"
          ],
          [
           "Angola"
          ],
          [
           "Bangladesh"
          ],
          [
           "Benin"
          ],
          [
           "Bhutan"
          ],
          [
           "Bolivia"
          ],
          [
           "Cambodia"
          ],
          [
           "Cameroon"
          ],
          [
           "Cape Verde"
          ],
          [
           "Comoros"
          ],
          [
           "Congo Rep."
          ],
          [
           "Cote d'Ivoire"
          ],
          [
           "Egypt"
          ],
          [
           "Ghana"
          ],
          [
           "Guinea"
          ],
          [
           "Haiti"
          ],
          [
           "India"
          ],
          [
           "Iran"
          ],
          [
           "Jordan"
          ],
          [
           "Kenya"
          ],
          [
           "Kiribati"
          ],
          [
           "Kyrgyz Republic"
          ],
          [
           "Lao"
          ],
          [
           "Lebanon"
          ],
          [
           "Lesotho"
          ],
          [
           "Mauritania"
          ],
          [
           "Micronesia"
          ],
          [
           "Mongolia"
          ],
          [
           "Morocco"
          ],
          [
           "Myanmar"
          ],
          [
           "Nepal"
          ],
          [
           "Nigeria"
          ],
          [
           "Pakistan"
          ],
          [
           "Philippines"
          ],
          [
           "Samoa"
          ],
          [
           "Senegal"
          ],
          [
           "Solomon Islands"
          ],
          [
           "Sri Lanka"
          ],
          [
           "Tajikistan"
          ],
          [
           "Tanzania"
          ],
          [
           "Timor-Leste"
          ],
          [
           "Tunisia"
          ],
          [
           "Ukraine"
          ],
          [
           "Uzbekistan"
          ],
          [
           "Vanuatu"
          ],
          [
           "Vietnam"
          ],
          [
           "Zambia"
          ]
         ],
         "hovertemplate": "income_category=%{y}<br>gdpp=%{x}<br>country=%{customdata[0]}<extra></extra>",
         "legendgroup": "Lower middle income",
         "marker": {
          "color": "#00cc96"
         },
         "name": "Lower middle income",
         "notched": false,
         "offsetgroup": "Lower middle income",
         "orientation": "h",
         "showlegend": true,
         "type": "box",
         "x": [
          4460,
          3530,
          758,
          758,
          2180,
          1980,
          786,
          1310,
          3310,
          769,
          2740,
          1220,
          2600,
          1310,
          648,
          662,
          1350,
          6530,
          3680,
          967,
          1490,
          880,
          1140,
          8860,
          1170,
          1200,
          2860,
          2650,
          2830,
          988,
          592,
          2330,
          1040,
          2130,
          3450,
          1000,
          1290,
          2810,
          738,
          702,
          3600,
          4140,
          2970,
          1380,
          2970,
          1310,
          1460
         ],
         "x0": " ",
         "xaxis": "x",
         "y": [
          "Lower middle income",
          "Lower middle income",
          "Lower middle income",
          "Lower middle income",
          "Lower middle income",
          "Lower middle income",
          "Lower middle income",
          "Lower middle income",
          "Lower middle income",
          "Lower middle income",
          "Lower middle income",
          "Lower middle income",
          "Lower middle income",
          "Lower middle income",
          "Lower middle income",
          "Lower middle income",
          "Lower middle income",
          "Lower middle income",
          "Lower middle income",
          "Lower middle income",
          "Lower middle income",
          "Lower middle income",
          "Lower middle income",
          "Lower middle income",
          "Lower middle income",
          "Lower middle income",
          "Lower middle income",
          "Lower middle income",
          "Lower middle income",
          "Lower middle income",
          "Lower middle income",
          "Lower middle income",
          "Lower middle income",
          "Lower middle income",
          "Lower middle income",
          "Lower middle income",
          "Lower middle income",
          "Lower middle income",
          "Lower middle income",
          "Lower middle income",
          "Lower middle income",
          "Lower middle income",
          "Lower middle income",
          "Lower middle income",
          "Lower middle income",
          "Lower middle income",
          "Lower middle income"
         ],
         "y0": " ",
         "yaxis": "y"
        },
        {
         "alignmentgroup": "True",
         "customdata": [
          [
           "Antigua and Barbuda"
          ],
          [
           "Australia"
          ],
          [
           "Austria"
          ],
          [
           "Bahamas"
          ],
          [
           "Bahrain"
          ],
          [
           "Barbados"
          ],
          [
           "Belgium"
          ],
          [
           "Brunei"
          ],
          [
           "Canada"
          ],
          [
           "Chile"
          ],
          [
           "Croatia"
          ],
          [
           "Cyprus"
          ],
          [
           "Czech Republic"
          ],
          [
           "Denmark"
          ],
          [
           "Estonia"
          ],
          [
           "Finland"
          ],
          [
           "France"
          ],
          [
           "Germany"
          ],
          [
           "Greece"
          ],
          [
           "Guyana"
          ],
          [
           "Hungary"
          ],
          [
           "Iceland"
          ],
          [
           "Ireland"
          ],
          [
           "Israel"
          ],
          [
           "Italy"
          ],
          [
           "Japan"
          ],
          [
           "Kuwait"
          ],
          [
           "Latvia"
          ],
          [
           "Lithuania"
          ],
          [
           "Luxembourg"
          ],
          [
           "Malta"
          ],
          [
           "Netherlands"
          ],
          [
           "New Zealand"
          ],
          [
           "Norway"
          ],
          [
           "Oman"
          ],
          [
           "Panama"
          ],
          [
           "Poland"
          ],
          [
           "Portugal"
          ],
          [
           "Qatar"
          ],
          [
           "Romania"
          ],
          [
           "Saudi Arabia"
          ],
          [
           "Seychelles"
          ],
          [
           "Singapore"
          ],
          [
           "Slovak Republic"
          ],
          [
           "Slovenia"
          ],
          [
           "South Korea"
          ],
          [
           "Spain"
          ],
          [
           "Sweden"
          ],
          [
           "Switzerland"
          ],
          [
           "United Arab Emirates"
          ],
          [
           "United Kingdom"
          ],
          [
           "United States"
          ],
          [
           "Uruguay"
          ]
         ],
         "hovertemplate": "income_category=%{y}<br>gdpp=%{x}<br>country=%{customdata[0]}<extra></extra>",
         "legendgroup": "High income",
         "marker": {
          "color": "#ab63fa"
         },
         "name": "High income",
         "notched": false,
         "offsetgroup": "High income",
         "orientation": "h",
         "showlegend": true,
         "type": "box",
         "x": [
          12200,
          51900,
          46900,
          28000,
          20700,
          16000,
          44400,
          35300,
          47400,
          12900,
          13500,
          30800,
          19800,
          58000,
          14600,
          46200,
          40600,
          41800,
          26900,
          3040,
          13100,
          41900,
          48700,
          30600,
          35800,
          44500,
          38500,
          11300,
          12000,
          105000,
          21100,
          50300,
          33700,
          87800,
          19300,
          8080,
          12600,
          22500,
          70300,
          8230,
          19300,
          10800,
          46600,
          16600,
          23400,
          22100,
          30700,
          52100,
          74600,
          35000,
          38900,
          48400,
          11900
         ],
         "x0": " ",
         "xaxis": "x",
         "y": [
          "High income",
          "High income",
          "High income",
          "High income",
          "High income",
          "High income",
          "High income",
          "High income",
          "High income",
          "High income",
          "High income",
          "High income",
          "High income",
          "High income",
          "High income",
          "High income",
          "High income",
          "High income",
          "High income",
          "High income",
          "High income",
          "High income",
          "High income",
          "High income",
          "High income",
          "High income",
          "High income",
          "High income",
          "High income",
          "High income",
          "High income",
          "High income",
          "High income",
          "High income",
          "High income",
          "High income",
          "High income",
          "High income",
          "High income",
          "High income",
          "High income",
          "High income",
          "High income",
          "High income",
          "High income",
          "High income",
          "High income",
          "High income",
          "High income",
          "High income",
          "High income",
          "High income",
          "High income"
         ],
         "y0": " ",
         "yaxis": "y"
        }
       ],
       "layout": {
        "boxmode": "overlay",
        "legend": {
         "title": {
          "text": "income_category"
         },
         "tracegroupgap": 0
        },
        "margin": {
         "t": 60
        },
        "template": {
         "data": {
          "bar": [
           {
            "error_x": {
             "color": "#2a3f5f"
            },
            "error_y": {
             "color": "#2a3f5f"
            },
            "marker": {
             "line": {
              "color": "#E5ECF6",
              "width": 0.5
             },
             "pattern": {
              "fillmode": "overlay",
              "size": 10,
              "solidity": 0.2
             }
            },
            "type": "bar"
           }
          ],
          "barpolar": [
           {
            "marker": {
             "line": {
              "color": "#E5ECF6",
              "width": 0.5
             },
             "pattern": {
              "fillmode": "overlay",
              "size": 10,
              "solidity": 0.2
             }
            },
            "type": "barpolar"
           }
          ],
          "carpet": [
           {
            "aaxis": {
             "endlinecolor": "#2a3f5f",
             "gridcolor": "white",
             "linecolor": "white",
             "minorgridcolor": "white",
             "startlinecolor": "#2a3f5f"
            },
            "baxis": {
             "endlinecolor": "#2a3f5f",
             "gridcolor": "white",
             "linecolor": "white",
             "minorgridcolor": "white",
             "startlinecolor": "#2a3f5f"
            },
            "type": "carpet"
           }
          ],
          "choropleth": [
           {
            "colorbar": {
             "outlinewidth": 0,
             "ticks": ""
            },
            "type": "choropleth"
           }
          ],
          "contour": [
           {
            "colorbar": {
             "outlinewidth": 0,
             "ticks": ""
            },
            "colorscale": [
             [
              0,
              "#0d0887"
             ],
             [
              0.1111111111111111,
              "#46039f"
             ],
             [
              0.2222222222222222,
              "#7201a8"
             ],
             [
              0.3333333333333333,
              "#9c179e"
             ],
             [
              0.4444444444444444,
              "#bd3786"
             ],
             [
              0.5555555555555556,
              "#d8576b"
             ],
             [
              0.6666666666666666,
              "#ed7953"
             ],
             [
              0.7777777777777778,
              "#fb9f3a"
             ],
             [
              0.8888888888888888,
              "#fdca26"
             ],
             [
              1,
              "#f0f921"
             ]
            ],
            "type": "contour"
           }
          ],
          "contourcarpet": [
           {
            "colorbar": {
             "outlinewidth": 0,
             "ticks": ""
            },
            "type": "contourcarpet"
           }
          ],
          "heatmap": [
           {
            "colorbar": {
             "outlinewidth": 0,
             "ticks": ""
            },
            "colorscale": [
             [
              0,
              "#0d0887"
             ],
             [
              0.1111111111111111,
              "#46039f"
             ],
             [
              0.2222222222222222,
              "#7201a8"
             ],
             [
              0.3333333333333333,
              "#9c179e"
             ],
             [
              0.4444444444444444,
              "#bd3786"
             ],
             [
              0.5555555555555556,
              "#d8576b"
             ],
             [
              0.6666666666666666,
              "#ed7953"
             ],
             [
              0.7777777777777778,
              "#fb9f3a"
             ],
             [
              0.8888888888888888,
              "#fdca26"
             ],
             [
              1,
              "#f0f921"
             ]
            ],
            "type": "heatmap"
           }
          ],
          "heatmapgl": [
           {
            "colorbar": {
             "outlinewidth": 0,
             "ticks": ""
            },
            "colorscale": [
             [
              0,
              "#0d0887"
             ],
             [
              0.1111111111111111,
              "#46039f"
             ],
             [
              0.2222222222222222,
              "#7201a8"
             ],
             [
              0.3333333333333333,
              "#9c179e"
             ],
             [
              0.4444444444444444,
              "#bd3786"
             ],
             [
              0.5555555555555556,
              "#d8576b"
             ],
             [
              0.6666666666666666,
              "#ed7953"
             ],
             [
              0.7777777777777778,
              "#fb9f3a"
             ],
             [
              0.8888888888888888,
              "#fdca26"
             ],
             [
              1,
              "#f0f921"
             ]
            ],
            "type": "heatmapgl"
           }
          ],
          "histogram": [
           {
            "marker": {
             "pattern": {
              "fillmode": "overlay",
              "size": 10,
              "solidity": 0.2
             }
            },
            "type": "histogram"
           }
          ],
          "histogram2d": [
           {
            "colorbar": {
             "outlinewidth": 0,
             "ticks": ""
            },
            "colorscale": [
             [
              0,
              "#0d0887"
             ],
             [
              0.1111111111111111,
              "#46039f"
             ],
             [
              0.2222222222222222,
              "#7201a8"
             ],
             [
              0.3333333333333333,
              "#9c179e"
             ],
             [
              0.4444444444444444,
              "#bd3786"
             ],
             [
              0.5555555555555556,
              "#d8576b"
             ],
             [
              0.6666666666666666,
              "#ed7953"
             ],
             [
              0.7777777777777778,
              "#fb9f3a"
             ],
             [
              0.8888888888888888,
              "#fdca26"
             ],
             [
              1,
              "#f0f921"
             ]
            ],
            "type": "histogram2d"
           }
          ],
          "histogram2dcontour": [
           {
            "colorbar": {
             "outlinewidth": 0,
             "ticks": ""
            },
            "colorscale": [
             [
              0,
              "#0d0887"
             ],
             [
              0.1111111111111111,
              "#46039f"
             ],
             [
              0.2222222222222222,
              "#7201a8"
             ],
             [
              0.3333333333333333,
              "#9c179e"
             ],
             [
              0.4444444444444444,
              "#bd3786"
             ],
             [
              0.5555555555555556,
              "#d8576b"
             ],
             [
              0.6666666666666666,
              "#ed7953"
             ],
             [
              0.7777777777777778,
              "#fb9f3a"
             ],
             [
              0.8888888888888888,
              "#fdca26"
             ],
             [
              1,
              "#f0f921"
             ]
            ],
            "type": "histogram2dcontour"
           }
          ],
          "mesh3d": [
           {
            "colorbar": {
             "outlinewidth": 0,
             "ticks": ""
            },
            "type": "mesh3d"
           }
          ],
          "parcoords": [
           {
            "line": {
             "colorbar": {
              "outlinewidth": 0,
              "ticks": ""
             }
            },
            "type": "parcoords"
           }
          ],
          "pie": [
           {
            "automargin": true,
            "type": "pie"
           }
          ],
          "scatter": [
           {
            "fillpattern": {
             "fillmode": "overlay",
             "size": 10,
             "solidity": 0.2
            },
            "type": "scatter"
           }
          ],
          "scatter3d": [
           {
            "line": {
             "colorbar": {
              "outlinewidth": 0,
              "ticks": ""
             }
            },
            "marker": {
             "colorbar": {
              "outlinewidth": 0,
              "ticks": ""
             }
            },
            "type": "scatter3d"
           }
          ],
          "scattercarpet": [
           {
            "marker": {
             "colorbar": {
              "outlinewidth": 0,
              "ticks": ""
             }
            },
            "type": "scattercarpet"
           }
          ],
          "scattergeo": [
           {
            "marker": {
             "colorbar": {
              "outlinewidth": 0,
              "ticks": ""
             }
            },
            "type": "scattergeo"
           }
          ],
          "scattergl": [
           {
            "marker": {
             "colorbar": {
              "outlinewidth": 0,
              "ticks": ""
             }
            },
            "type": "scattergl"
           }
          ],
          "scattermapbox": [
           {
            "marker": {
             "colorbar": {
              "outlinewidth": 0,
              "ticks": ""
             }
            },
            "type": "scattermapbox"
           }
          ],
          "scatterpolar": [
           {
            "marker": {
             "colorbar": {
              "outlinewidth": 0,
              "ticks": ""
             }
            },
            "type": "scatterpolar"
           }
          ],
          "scatterpolargl": [
           {
            "marker": {
             "colorbar": {
              "outlinewidth": 0,
              "ticks": ""
             }
            },
            "type": "scatterpolargl"
           }
          ],
          "scatterternary": [
           {
            "marker": {
             "colorbar": {
              "outlinewidth": 0,
              "ticks": ""
             }
            },
            "type": "scatterternary"
           }
          ],
          "surface": [
           {
            "colorbar": {
             "outlinewidth": 0,
             "ticks": ""
            },
            "colorscale": [
             [
              0,
              "#0d0887"
             ],
             [
              0.1111111111111111,
              "#46039f"
             ],
             [
              0.2222222222222222,
              "#7201a8"
             ],
             [
              0.3333333333333333,
              "#9c179e"
             ],
             [
              0.4444444444444444,
              "#bd3786"
             ],
             [
              0.5555555555555556,
              "#d8576b"
             ],
             [
              0.6666666666666666,
              "#ed7953"
             ],
             [
              0.7777777777777778,
              "#fb9f3a"
             ],
             [
              0.8888888888888888,
              "#fdca26"
             ],
             [
              1,
              "#f0f921"
             ]
            ],
            "type": "surface"
           }
          ],
          "table": [
           {
            "cells": {
             "fill": {
              "color": "#EBF0F8"
             },
             "line": {
              "color": "white"
             }
            },
            "header": {
             "fill": {
              "color": "#C8D4E3"
             },
             "line": {
              "color": "white"
             }
            },
            "type": "table"
           }
          ]
         },
         "layout": {
          "annotationdefaults": {
           "arrowcolor": "#2a3f5f",
           "arrowhead": 0,
           "arrowwidth": 1
          },
          "autotypenumbers": "strict",
          "coloraxis": {
           "colorbar": {
            "outlinewidth": 0,
            "ticks": ""
           }
          },
          "colorscale": {
           "diverging": [
            [
             0,
             "#8e0152"
            ],
            [
             0.1,
             "#c51b7d"
            ],
            [
             0.2,
             "#de77ae"
            ],
            [
             0.3,
             "#f1b6da"
            ],
            [
             0.4,
             "#fde0ef"
            ],
            [
             0.5,
             "#f7f7f7"
            ],
            [
             0.6,
             "#e6f5d0"
            ],
            [
             0.7,
             "#b8e186"
            ],
            [
             0.8,
             "#7fbc41"
            ],
            [
             0.9,
             "#4d9221"
            ],
            [
             1,
             "#276419"
            ]
           ],
           "sequential": [
            [
             0,
             "#0d0887"
            ],
            [
             0.1111111111111111,
             "#46039f"
            ],
            [
             0.2222222222222222,
             "#7201a8"
            ],
            [
             0.3333333333333333,
             "#9c179e"
            ],
            [
             0.4444444444444444,
             "#bd3786"
            ],
            [
             0.5555555555555556,
             "#d8576b"
            ],
            [
             0.6666666666666666,
             "#ed7953"
            ],
            [
             0.7777777777777778,
             "#fb9f3a"
            ],
            [
             0.8888888888888888,
             "#fdca26"
            ],
            [
             1,
             "#f0f921"
            ]
           ],
           "sequentialminus": [
            [
             0,
             "#0d0887"
            ],
            [
             0.1111111111111111,
             "#46039f"
            ],
            [
             0.2222222222222222,
             "#7201a8"
            ],
            [
             0.3333333333333333,
             "#9c179e"
            ],
            [
             0.4444444444444444,
             "#bd3786"
            ],
            [
             0.5555555555555556,
             "#d8576b"
            ],
            [
             0.6666666666666666,
             "#ed7953"
            ],
            [
             0.7777777777777778,
             "#fb9f3a"
            ],
            [
             0.8888888888888888,
             "#fdca26"
            ],
            [
             1,
             "#f0f921"
            ]
           ]
          },
          "colorway": [
           "#636efa",
           "#EF553B",
           "#00cc96",
           "#ab63fa",
           "#FFA15A",
           "#19d3f3",
           "#FF6692",
           "#B6E880",
           "#FF97FF",
           "#FECB52"
          ],
          "font": {
           "color": "#2a3f5f"
          },
          "geo": {
           "bgcolor": "white",
           "lakecolor": "white",
           "landcolor": "#E5ECF6",
           "showlakes": true,
           "showland": true,
           "subunitcolor": "white"
          },
          "hoverlabel": {
           "align": "left"
          },
          "hovermode": "closest",
          "mapbox": {
           "style": "light"
          },
          "paper_bgcolor": "white",
          "plot_bgcolor": "#E5ECF6",
          "polar": {
           "angularaxis": {
            "gridcolor": "white",
            "linecolor": "white",
            "ticks": ""
           },
           "bgcolor": "#E5ECF6",
           "radialaxis": {
            "gridcolor": "white",
            "linecolor": "white",
            "ticks": ""
           }
          },
          "scene": {
           "xaxis": {
            "backgroundcolor": "#E5ECF6",
            "gridcolor": "white",
            "gridwidth": 2,
            "linecolor": "white",
            "showbackground": true,
            "ticks": "",
            "zerolinecolor": "white"
           },
           "yaxis": {
            "backgroundcolor": "#E5ECF6",
            "gridcolor": "white",
            "gridwidth": 2,
            "linecolor": "white",
            "showbackground": true,
            "ticks": "",
            "zerolinecolor": "white"
           },
           "zaxis": {
            "backgroundcolor": "#E5ECF6",
            "gridcolor": "white",
            "gridwidth": 2,
            "linecolor": "white",
            "showbackground": true,
            "ticks": "",
            "zerolinecolor": "white"
           }
          },
          "shapedefaults": {
           "line": {
            "color": "#2a3f5f"
           }
          },
          "ternary": {
           "aaxis": {
            "gridcolor": "white",
            "linecolor": "white",
            "ticks": ""
           },
           "baxis": {
            "gridcolor": "white",
            "linecolor": "white",
            "ticks": ""
           },
           "bgcolor": "#E5ECF6",
           "caxis": {
            "gridcolor": "white",
            "linecolor": "white",
            "ticks": ""
           }
          },
          "title": {
           "x": 0.05
          },
          "xaxis": {
           "automargin": true,
           "gridcolor": "white",
           "linecolor": "white",
           "ticks": "",
           "title": {
            "standoff": 15
           },
           "zerolinecolor": "white",
           "zerolinewidth": 2
          },
          "yaxis": {
           "automargin": true,
           "gridcolor": "white",
           "linecolor": "white",
           "ticks": "",
           "title": {
            "standoff": 15
           },
           "zerolinecolor": "white",
           "zerolinewidth": 2
          }
         }
        },
        "xaxis": {
         "anchor": "y",
         "domain": [
          0,
          1
         ],
         "title": {
          "text": "gdpp"
         }
        },
        "yaxis": {
         "anchor": "x",
         "categoryarray": [
          "High income",
          "Lower middle income",
          "Upper middle income",
          "Low income"
         ],
         "categoryorder": "array",
         "domain": [
          0,
          1
         ],
         "title": {
          "text": "income_category"
         }
        }
       }
      }
     },
     "metadata": {},
     "output_type": "display_data"
    }
   ],
   "source": [
    "# Plot de Distribuição (BoxPlot) por gdpp e income_category\n",
    "px.box(df_countries, x='gdpp', y='income_category', color='income_category', orientation='h', hover_data=['country'])"
   ]
  },
  {
   "cell_type": "code",
   "execution_count": 14,
   "metadata": {},
   "outputs": [
    {
     "data": {
      "application/vnd.plotly.v1+json": {
       "config": {
        "plotlyServerURL": "https://plot.ly"
       },
       "data": [
        {
         "alignmentgroup": "True",
         "customdata": [
          [
           "Afghanistan"
          ],
          [
           "Burkina Faso"
          ],
          [
           "Burundi"
          ],
          [
           "Central African Republic"
          ],
          [
           "Chad"
          ],
          [
           "Congo Dem. Rep."
          ],
          [
           "Eritrea"
          ],
          [
           "Gambia"
          ],
          [
           "Guinea-Bissau"
          ],
          [
           "Liberia"
          ],
          [
           "Madagascar"
          ],
          [
           "Malawi"
          ],
          [
           "Mali"
          ],
          [
           "Mozambique"
          ],
          [
           "Niger"
          ],
          [
           "Rwanda"
          ],
          [
           "Sierra Leone"
          ],
          [
           "Sudan"
          ],
          [
           "Togo"
          ],
          [
           "Uganda"
          ],
          [
           "Yemen"
          ]
         ],
         "hovertemplate": "income_category=%{y}<br>inflation=%{x}<br>country=%{customdata[0]}<extra></extra>",
         "legendgroup": "Low income",
         "marker": {
          "color": "#636efa"
         },
         "name": "Low income",
         "notched": false,
         "offsetgroup": "Low income",
         "orientation": "h",
         "showlegend": true,
         "type": "box",
         "x": [
          9.44,
          6.81,
          12.3,
          2.01,
          6.39,
          20.8,
          11.6,
          4.3,
          2.97,
          5.47,
          8.79,
          12.1,
          4.37,
          7.64,
          2.55,
          2.61,
          17.2,
          19.6,
          1.18,
          10.6,
          23.6
         ],
         "x0": " ",
         "xaxis": "x",
         "y": [
          "Low income",
          "Low income",
          "Low income",
          "Low income",
          "Low income",
          "Low income",
          "Low income",
          "Low income",
          "Low income",
          "Low income",
          "Low income",
          "Low income",
          "Low income",
          "Low income",
          "Low income",
          "Low income",
          "Low income",
          "Low income",
          "Low income",
          "Low income",
          "Low income"
         ],
         "y0": " ",
         "yaxis": "y"
        },
        {
         "alignmentgroup": "True",
         "customdata": [
          [
           "Albania"
          ],
          [
           "Argentina"
          ],
          [
           "Armenia"
          ],
          [
           "Azerbaijan"
          ],
          [
           "Belarus"
          ],
          [
           "Belize"
          ],
          [
           "Bosnia and Herzegovina"
          ],
          [
           "Botswana"
          ],
          [
           "Brazil"
          ],
          [
           "Bulgaria"
          ],
          [
           "China"
          ],
          [
           "Colombia"
          ],
          [
           "Costa Rica"
          ],
          [
           "Dominican Republic"
          ],
          [
           "Ecuador"
          ],
          [
           "El Salvador"
          ],
          [
           "Equatorial Guinea"
          ],
          [
           "Fiji"
          ],
          [
           "Gabon"
          ],
          [
           "Georgia"
          ],
          [
           "Grenada"
          ],
          [
           "Guatemala"
          ],
          [
           "Indonesia"
          ],
          [
           "Iraq"
          ],
          [
           "Jamaica"
          ],
          [
           "Kazakhstan"
          ],
          [
           "Libya"
          ],
          [
           "Malaysia"
          ],
          [
           "Maldives"
          ],
          [
           "Mauritius"
          ],
          [
           "Moldova"
          ],
          [
           "Montenegro"
          ],
          [
           "Namibia"
          ],
          [
           "Paraguay"
          ],
          [
           "Peru"
          ],
          [
           "Russia"
          ],
          [
           "Serbia"
          ],
          [
           "South Africa"
          ],
          [
           "St. Vincent and the Grenadines"
          ],
          [
           "Suriname"
          ],
          [
           "Thailand"
          ],
          [
           "Tonga"
          ],
          [
           "Turkey"
          ],
          [
           "Turkmenistan"
          ]
         ],
         "hovertemplate": "income_category=%{y}<br>inflation=%{x}<br>country=%{customdata[0]}<extra></extra>",
         "legendgroup": "Upper middle income",
         "marker": {
          "color": "#EF553B"
         },
         "name": "Upper middle income",
         "notched": false,
         "offsetgroup": "Upper middle income",
         "orientation": "h",
         "showlegend": true,
         "type": "box",
         "x": [
          4.49,
          20.9,
          7.77,
          13.8,
          15.1,
          1.14,
          1.4,
          8.92,
          8.41,
          1.11,
          6.94,
          3.86,
          6.57,
          5.44,
          7.47,
          2.65,
          24.9,
          4.23,
          16.6,
          8.55,
          0.48,
          5.14,
          15.3,
          16.6,
          9.81,
          19.5,
          14.2,
          7.27,
          2.88,
          1.13,
          11.1,
          1.6,
          3.56,
          6.1,
          5.71,
          14.2,
          5.88,
          6.35,
          4.44,
          7.2,
          4.08,
          3.68,
          7.01,
          2.31
         ],
         "x0": " ",
         "xaxis": "x",
         "y": [
          "Upper middle income",
          "Upper middle income",
          "Upper middle income",
          "Upper middle income",
          "Upper middle income",
          "Upper middle income",
          "Upper middle income",
          "Upper middle income",
          "Upper middle income",
          "Upper middle income",
          "Upper middle income",
          "Upper middle income",
          "Upper middle income",
          "Upper middle income",
          "Upper middle income",
          "Upper middle income",
          "Upper middle income",
          "Upper middle income",
          "Upper middle income",
          "Upper middle income",
          "Upper middle income",
          "Upper middle income",
          "Upper middle income",
          "Upper middle income",
          "Upper middle income",
          "Upper middle income",
          "Upper middle income",
          "Upper middle income",
          "Upper middle income",
          "Upper middle income",
          "Upper middle income",
          "Upper middle income",
          "Upper middle income",
          "Upper middle income",
          "Upper middle income",
          "Upper middle income",
          "Upper middle income",
          "Upper middle income",
          "Upper middle income",
          "Upper middle income",
          "Upper middle income",
          "Upper middle income",
          "Upper middle income",
          "Upper middle income"
         ],
         "y0": " ",
         "yaxis": "y"
        },
        {
         "alignmentgroup": "True",
         "customdata": [
          [
           "Algeria"
          ],
          [
           "Angola"
          ],
          [
           "Bangladesh"
          ],
          [
           "Benin"
          ],
          [
           "Bhutan"
          ],
          [
           "Bolivia"
          ],
          [
           "Cambodia"
          ],
          [
           "Cameroon"
          ],
          [
           "Cape Verde"
          ],
          [
           "Comoros"
          ],
          [
           "Congo Rep."
          ],
          [
           "Cote d'Ivoire"
          ],
          [
           "Egypt"
          ],
          [
           "Ghana"
          ],
          [
           "Guinea"
          ],
          [
           "Haiti"
          ],
          [
           "India"
          ],
          [
           "Iran"
          ],
          [
           "Jordan"
          ],
          [
           "Kenya"
          ],
          [
           "Kiribati"
          ],
          [
           "Kyrgyz Republic"
          ],
          [
           "Lao"
          ],
          [
           "Lebanon"
          ],
          [
           "Lesotho"
          ],
          [
           "Mauritania"
          ],
          [
           "Micronesia"
          ],
          [
           "Mongolia"
          ],
          [
           "Morocco"
          ],
          [
           "Myanmar"
          ],
          [
           "Nepal"
          ],
          [
           "Nigeria"
          ],
          [
           "Pakistan"
          ],
          [
           "Philippines"
          ],
          [
           "Samoa"
          ],
          [
           "Senegal"
          ],
          [
           "Solomon Islands"
          ],
          [
           "Sri Lanka"
          ],
          [
           "Tajikistan"
          ],
          [
           "Tanzania"
          ],
          [
           "Timor-Leste"
          ],
          [
           "Tunisia"
          ],
          [
           "Ukraine"
          ],
          [
           "Uzbekistan"
          ],
          [
           "Vanuatu"
          ],
          [
           "Vietnam"
          ],
          [
           "Zambia"
          ]
         ],
         "hovertemplate": "income_category=%{y}<br>inflation=%{x}<br>country=%{customdata[0]}<extra></extra>",
         "legendgroup": "Lower middle income",
         "marker": {
          "color": "#00cc96"
         },
         "name": "Lower middle income",
         "notched": false,
         "offsetgroup": "Lower middle income",
         "orientation": "h",
         "showlegend": true,
         "type": "box",
         "x": [
          16.1,
          22.4,
          7.14,
          0.885,
          5.99,
          8.78,
          3.12,
          1.91,
          0.505,
          3.87,
          20.7,
          5.39,
          10.1,
          16.6,
          16.1,
          5.45,
          8.98,
          15.9,
          8.43,
          2.09,
          1.52,
          10,
          9.2,
          0.238,
          4.15,
          18.9,
          3.8,
          39.2,
          0.976,
          7.04,
          15.1,
          104,
          10.9,
          4.22,
          1.72,
          1.85,
          6.81,
          22.8,
          12.5,
          9.25,
          26.5,
          3.82,
          13.4,
          16.5,
          2.62,
          12.1,
          14
         ],
         "x0": " ",
         "xaxis": "x",
         "y": [
          "Lower middle income",
          "Lower middle income",
          "Lower middle income",
          "Lower middle income",
          "Lower middle income",
          "Lower middle income",
          "Lower middle income",
          "Lower middle income",
          "Lower middle income",
          "Lower middle income",
          "Lower middle income",
          "Lower middle income",
          "Lower middle income",
          "Lower middle income",
          "Lower middle income",
          "Lower middle income",
          "Lower middle income",
          "Lower middle income",
          "Lower middle income",
          "Lower middle income",
          "Lower middle income",
          "Lower middle income",
          "Lower middle income",
          "Lower middle income",
          "Lower middle income",
          "Lower middle income",
          "Lower middle income",
          "Lower middle income",
          "Lower middle income",
          "Lower middle income",
          "Lower middle income",
          "Lower middle income",
          "Lower middle income",
          "Lower middle income",
          "Lower middle income",
          "Lower middle income",
          "Lower middle income",
          "Lower middle income",
          "Lower middle income",
          "Lower middle income",
          "Lower middle income",
          "Lower middle income",
          "Lower middle income",
          "Lower middle income",
          "Lower middle income",
          "Lower middle income",
          "Lower middle income"
         ],
         "y0": " ",
         "yaxis": "y"
        },
        {
         "alignmentgroup": "True",
         "customdata": [
          [
           "Antigua and Barbuda"
          ],
          [
           "Australia"
          ],
          [
           "Austria"
          ],
          [
           "Bahamas"
          ],
          [
           "Bahrain"
          ],
          [
           "Barbados"
          ],
          [
           "Belgium"
          ],
          [
           "Brunei"
          ],
          [
           "Canada"
          ],
          [
           "Chile"
          ],
          [
           "Croatia"
          ],
          [
           "Cyprus"
          ],
          [
           "Czech Republic"
          ],
          [
           "Denmark"
          ],
          [
           "Estonia"
          ],
          [
           "Finland"
          ],
          [
           "France"
          ],
          [
           "Germany"
          ],
          [
           "Greece"
          ],
          [
           "Guyana"
          ],
          [
           "Hungary"
          ],
          [
           "Iceland"
          ],
          [
           "Ireland"
          ],
          [
           "Israel"
          ],
          [
           "Italy"
          ],
          [
           "Japan"
          ],
          [
           "Kuwait"
          ],
          [
           "Latvia"
          ],
          [
           "Lithuania"
          ],
          [
           "Luxembourg"
          ],
          [
           "Malta"
          ],
          [
           "Netherlands"
          ],
          [
           "New Zealand"
          ],
          [
           "Norway"
          ],
          [
           "Oman"
          ],
          [
           "Panama"
          ],
          [
           "Poland"
          ],
          [
           "Portugal"
          ],
          [
           "Qatar"
          ],
          [
           "Romania"
          ],
          [
           "Saudi Arabia"
          ],
          [
           "Seychelles"
          ],
          [
           "Singapore"
          ],
          [
           "Slovak Republic"
          ],
          [
           "Slovenia"
          ],
          [
           "South Korea"
          ],
          [
           "Spain"
          ],
          [
           "Sweden"
          ],
          [
           "Switzerland"
          ],
          [
           "United Arab Emirates"
          ],
          [
           "United Kingdom"
          ],
          [
           "United States"
          ],
          [
           "Uruguay"
          ]
         ],
         "hovertemplate": "income_category=%{y}<br>inflation=%{x}<br>country=%{customdata[0]}<extra></extra>",
         "legendgroup": "High income",
         "marker": {
          "color": "#ab63fa"
         },
         "name": "High income",
         "notched": false,
         "offsetgroup": "High income",
         "orientation": "h",
         "showlegend": true,
         "type": "box",
         "x": [
          1.44,
          1.16,
          0.873,
          -0.393,
          7.44,
          0.321,
          1.88,
          16.7,
          2.87,
          8.96,
          0.821,
          2.01,
          -1.43,
          3.22,
          1.74,
          0.351,
          1.05,
          0.758,
          0.673,
          5.73,
          2.33,
          5.47,
          -3.22,
          1.77,
          0.319,
          -1.9,
          11.2,
          -0.812,
          2.38,
          3.62,
          3.83,
          0.848,
          3.73,
          5.95,
          15.6,
          2.59,
          1.66,
          0.643,
          6.98,
          3.53,
          17.2,
          -4.21,
          -0.046,
          0.485,
          -0.987,
          3.16,
          0.16,
          0.991,
          0.317,
          12.5,
          1.57,
          1.22,
          4.91
         ],
         "x0": " ",
         "xaxis": "x",
         "y": [
          "High income",
          "High income",
          "High income",
          "High income",
          "High income",
          "High income",
          "High income",
          "High income",
          "High income",
          "High income",
          "High income",
          "High income",
          "High income",
          "High income",
          "High income",
          "High income",
          "High income",
          "High income",
          "High income",
          "High income",
          "High income",
          "High income",
          "High income",
          "High income",
          "High income",
          "High income",
          "High income",
          "High income",
          "High income",
          "High income",
          "High income",
          "High income",
          "High income",
          "High income",
          "High income",
          "High income",
          "High income",
          "High income",
          "High income",
          "High income",
          "High income",
          "High income",
          "High income",
          "High income",
          "High income",
          "High income",
          "High income",
          "High income",
          "High income",
          "High income",
          "High income",
          "High income",
          "High income"
         ],
         "y0": " ",
         "yaxis": "y"
        }
       ],
       "layout": {
        "boxmode": "overlay",
        "legend": {
         "title": {
          "text": "income_category"
         },
         "tracegroupgap": 0
        },
        "margin": {
         "t": 60
        },
        "template": {
         "data": {
          "bar": [
           {
            "error_x": {
             "color": "#2a3f5f"
            },
            "error_y": {
             "color": "#2a3f5f"
            },
            "marker": {
             "line": {
              "color": "#E5ECF6",
              "width": 0.5
             },
             "pattern": {
              "fillmode": "overlay",
              "size": 10,
              "solidity": 0.2
             }
            },
            "type": "bar"
           }
          ],
          "barpolar": [
           {
            "marker": {
             "line": {
              "color": "#E5ECF6",
              "width": 0.5
             },
             "pattern": {
              "fillmode": "overlay",
              "size": 10,
              "solidity": 0.2
             }
            },
            "type": "barpolar"
           }
          ],
          "carpet": [
           {
            "aaxis": {
             "endlinecolor": "#2a3f5f",
             "gridcolor": "white",
             "linecolor": "white",
             "minorgridcolor": "white",
             "startlinecolor": "#2a3f5f"
            },
            "baxis": {
             "endlinecolor": "#2a3f5f",
             "gridcolor": "white",
             "linecolor": "white",
             "minorgridcolor": "white",
             "startlinecolor": "#2a3f5f"
            },
            "type": "carpet"
           }
          ],
          "choropleth": [
           {
            "colorbar": {
             "outlinewidth": 0,
             "ticks": ""
            },
            "type": "choropleth"
           }
          ],
          "contour": [
           {
            "colorbar": {
             "outlinewidth": 0,
             "ticks": ""
            },
            "colorscale": [
             [
              0,
              "#0d0887"
             ],
             [
              0.1111111111111111,
              "#46039f"
             ],
             [
              0.2222222222222222,
              "#7201a8"
             ],
             [
              0.3333333333333333,
              "#9c179e"
             ],
             [
              0.4444444444444444,
              "#bd3786"
             ],
             [
              0.5555555555555556,
              "#d8576b"
             ],
             [
              0.6666666666666666,
              "#ed7953"
             ],
             [
              0.7777777777777778,
              "#fb9f3a"
             ],
             [
              0.8888888888888888,
              "#fdca26"
             ],
             [
              1,
              "#f0f921"
             ]
            ],
            "type": "contour"
           }
          ],
          "contourcarpet": [
           {
            "colorbar": {
             "outlinewidth": 0,
             "ticks": ""
            },
            "type": "contourcarpet"
           }
          ],
          "heatmap": [
           {
            "colorbar": {
             "outlinewidth": 0,
             "ticks": ""
            },
            "colorscale": [
             [
              0,
              "#0d0887"
             ],
             [
              0.1111111111111111,
              "#46039f"
             ],
             [
              0.2222222222222222,
              "#7201a8"
             ],
             [
              0.3333333333333333,
              "#9c179e"
             ],
             [
              0.4444444444444444,
              "#bd3786"
             ],
             [
              0.5555555555555556,
              "#d8576b"
             ],
             [
              0.6666666666666666,
              "#ed7953"
             ],
             [
              0.7777777777777778,
              "#fb9f3a"
             ],
             [
              0.8888888888888888,
              "#fdca26"
             ],
             [
              1,
              "#f0f921"
             ]
            ],
            "type": "heatmap"
           }
          ],
          "heatmapgl": [
           {
            "colorbar": {
             "outlinewidth": 0,
             "ticks": ""
            },
            "colorscale": [
             [
              0,
              "#0d0887"
             ],
             [
              0.1111111111111111,
              "#46039f"
             ],
             [
              0.2222222222222222,
              "#7201a8"
             ],
             [
              0.3333333333333333,
              "#9c179e"
             ],
             [
              0.4444444444444444,
              "#bd3786"
             ],
             [
              0.5555555555555556,
              "#d8576b"
             ],
             [
              0.6666666666666666,
              "#ed7953"
             ],
             [
              0.7777777777777778,
              "#fb9f3a"
             ],
             [
              0.8888888888888888,
              "#fdca26"
             ],
             [
              1,
              "#f0f921"
             ]
            ],
            "type": "heatmapgl"
           }
          ],
          "histogram": [
           {
            "marker": {
             "pattern": {
              "fillmode": "overlay",
              "size": 10,
              "solidity": 0.2
             }
            },
            "type": "histogram"
           }
          ],
          "histogram2d": [
           {
            "colorbar": {
             "outlinewidth": 0,
             "ticks": ""
            },
            "colorscale": [
             [
              0,
              "#0d0887"
             ],
             [
              0.1111111111111111,
              "#46039f"
             ],
             [
              0.2222222222222222,
              "#7201a8"
             ],
             [
              0.3333333333333333,
              "#9c179e"
             ],
             [
              0.4444444444444444,
              "#bd3786"
             ],
             [
              0.5555555555555556,
              "#d8576b"
             ],
             [
              0.6666666666666666,
              "#ed7953"
             ],
             [
              0.7777777777777778,
              "#fb9f3a"
             ],
             [
              0.8888888888888888,
              "#fdca26"
             ],
             [
              1,
              "#f0f921"
             ]
            ],
            "type": "histogram2d"
           }
          ],
          "histogram2dcontour": [
           {
            "colorbar": {
             "outlinewidth": 0,
             "ticks": ""
            },
            "colorscale": [
             [
              0,
              "#0d0887"
             ],
             [
              0.1111111111111111,
              "#46039f"
             ],
             [
              0.2222222222222222,
              "#7201a8"
             ],
             [
              0.3333333333333333,
              "#9c179e"
             ],
             [
              0.4444444444444444,
              "#bd3786"
             ],
             [
              0.5555555555555556,
              "#d8576b"
             ],
             [
              0.6666666666666666,
              "#ed7953"
             ],
             [
              0.7777777777777778,
              "#fb9f3a"
             ],
             [
              0.8888888888888888,
              "#fdca26"
             ],
             [
              1,
              "#f0f921"
             ]
            ],
            "type": "histogram2dcontour"
           }
          ],
          "mesh3d": [
           {
            "colorbar": {
             "outlinewidth": 0,
             "ticks": ""
            },
            "type": "mesh3d"
           }
          ],
          "parcoords": [
           {
            "line": {
             "colorbar": {
              "outlinewidth": 0,
              "ticks": ""
             }
            },
            "type": "parcoords"
           }
          ],
          "pie": [
           {
            "automargin": true,
            "type": "pie"
           }
          ],
          "scatter": [
           {
            "fillpattern": {
             "fillmode": "overlay",
             "size": 10,
             "solidity": 0.2
            },
            "type": "scatter"
           }
          ],
          "scatter3d": [
           {
            "line": {
             "colorbar": {
              "outlinewidth": 0,
              "ticks": ""
             }
            },
            "marker": {
             "colorbar": {
              "outlinewidth": 0,
              "ticks": ""
             }
            },
            "type": "scatter3d"
           }
          ],
          "scattercarpet": [
           {
            "marker": {
             "colorbar": {
              "outlinewidth": 0,
              "ticks": ""
             }
            },
            "type": "scattercarpet"
           }
          ],
          "scattergeo": [
           {
            "marker": {
             "colorbar": {
              "outlinewidth": 0,
              "ticks": ""
             }
            },
            "type": "scattergeo"
           }
          ],
          "scattergl": [
           {
            "marker": {
             "colorbar": {
              "outlinewidth": 0,
              "ticks": ""
             }
            },
            "type": "scattergl"
           }
          ],
          "scattermapbox": [
           {
            "marker": {
             "colorbar": {
              "outlinewidth": 0,
              "ticks": ""
             }
            },
            "type": "scattermapbox"
           }
          ],
          "scatterpolar": [
           {
            "marker": {
             "colorbar": {
              "outlinewidth": 0,
              "ticks": ""
             }
            },
            "type": "scatterpolar"
           }
          ],
          "scatterpolargl": [
           {
            "marker": {
             "colorbar": {
              "outlinewidth": 0,
              "ticks": ""
             }
            },
            "type": "scatterpolargl"
           }
          ],
          "scatterternary": [
           {
            "marker": {
             "colorbar": {
              "outlinewidth": 0,
              "ticks": ""
             }
            },
            "type": "scatterternary"
           }
          ],
          "surface": [
           {
            "colorbar": {
             "outlinewidth": 0,
             "ticks": ""
            },
            "colorscale": [
             [
              0,
              "#0d0887"
             ],
             [
              0.1111111111111111,
              "#46039f"
             ],
             [
              0.2222222222222222,
              "#7201a8"
             ],
             [
              0.3333333333333333,
              "#9c179e"
             ],
             [
              0.4444444444444444,
              "#bd3786"
             ],
             [
              0.5555555555555556,
              "#d8576b"
             ],
             [
              0.6666666666666666,
              "#ed7953"
             ],
             [
              0.7777777777777778,
              "#fb9f3a"
             ],
             [
              0.8888888888888888,
              "#fdca26"
             ],
             [
              1,
              "#f0f921"
             ]
            ],
            "type": "surface"
           }
          ],
          "table": [
           {
            "cells": {
             "fill": {
              "color": "#EBF0F8"
             },
             "line": {
              "color": "white"
             }
            },
            "header": {
             "fill": {
              "color": "#C8D4E3"
             },
             "line": {
              "color": "white"
             }
            },
            "type": "table"
           }
          ]
         },
         "layout": {
          "annotationdefaults": {
           "arrowcolor": "#2a3f5f",
           "arrowhead": 0,
           "arrowwidth": 1
          },
          "autotypenumbers": "strict",
          "coloraxis": {
           "colorbar": {
            "outlinewidth": 0,
            "ticks": ""
           }
          },
          "colorscale": {
           "diverging": [
            [
             0,
             "#8e0152"
            ],
            [
             0.1,
             "#c51b7d"
            ],
            [
             0.2,
             "#de77ae"
            ],
            [
             0.3,
             "#f1b6da"
            ],
            [
             0.4,
             "#fde0ef"
            ],
            [
             0.5,
             "#f7f7f7"
            ],
            [
             0.6,
             "#e6f5d0"
            ],
            [
             0.7,
             "#b8e186"
            ],
            [
             0.8,
             "#7fbc41"
            ],
            [
             0.9,
             "#4d9221"
            ],
            [
             1,
             "#276419"
            ]
           ],
           "sequential": [
            [
             0,
             "#0d0887"
            ],
            [
             0.1111111111111111,
             "#46039f"
            ],
            [
             0.2222222222222222,
             "#7201a8"
            ],
            [
             0.3333333333333333,
             "#9c179e"
            ],
            [
             0.4444444444444444,
             "#bd3786"
            ],
            [
             0.5555555555555556,
             "#d8576b"
            ],
            [
             0.6666666666666666,
             "#ed7953"
            ],
            [
             0.7777777777777778,
             "#fb9f3a"
            ],
            [
             0.8888888888888888,
             "#fdca26"
            ],
            [
             1,
             "#f0f921"
            ]
           ],
           "sequentialminus": [
            [
             0,
             "#0d0887"
            ],
            [
             0.1111111111111111,
             "#46039f"
            ],
            [
             0.2222222222222222,
             "#7201a8"
            ],
            [
             0.3333333333333333,
             "#9c179e"
            ],
            [
             0.4444444444444444,
             "#bd3786"
            ],
            [
             0.5555555555555556,
             "#d8576b"
            ],
            [
             0.6666666666666666,
             "#ed7953"
            ],
            [
             0.7777777777777778,
             "#fb9f3a"
            ],
            [
             0.8888888888888888,
             "#fdca26"
            ],
            [
             1,
             "#f0f921"
            ]
           ]
          },
          "colorway": [
           "#636efa",
           "#EF553B",
           "#00cc96",
           "#ab63fa",
           "#FFA15A",
           "#19d3f3",
           "#FF6692",
           "#B6E880",
           "#FF97FF",
           "#FECB52"
          ],
          "font": {
           "color": "#2a3f5f"
          },
          "geo": {
           "bgcolor": "white",
           "lakecolor": "white",
           "landcolor": "#E5ECF6",
           "showlakes": true,
           "showland": true,
           "subunitcolor": "white"
          },
          "hoverlabel": {
           "align": "left"
          },
          "hovermode": "closest",
          "mapbox": {
           "style": "light"
          },
          "paper_bgcolor": "white",
          "plot_bgcolor": "#E5ECF6",
          "polar": {
           "angularaxis": {
            "gridcolor": "white",
            "linecolor": "white",
            "ticks": ""
           },
           "bgcolor": "#E5ECF6",
           "radialaxis": {
            "gridcolor": "white",
            "linecolor": "white",
            "ticks": ""
           }
          },
          "scene": {
           "xaxis": {
            "backgroundcolor": "#E5ECF6",
            "gridcolor": "white",
            "gridwidth": 2,
            "linecolor": "white",
            "showbackground": true,
            "ticks": "",
            "zerolinecolor": "white"
           },
           "yaxis": {
            "backgroundcolor": "#E5ECF6",
            "gridcolor": "white",
            "gridwidth": 2,
            "linecolor": "white",
            "showbackground": true,
            "ticks": "",
            "zerolinecolor": "white"
           },
           "zaxis": {
            "backgroundcolor": "#E5ECF6",
            "gridcolor": "white",
            "gridwidth": 2,
            "linecolor": "white",
            "showbackground": true,
            "ticks": "",
            "zerolinecolor": "white"
           }
          },
          "shapedefaults": {
           "line": {
            "color": "#2a3f5f"
           }
          },
          "ternary": {
           "aaxis": {
            "gridcolor": "white",
            "linecolor": "white",
            "ticks": ""
           },
           "baxis": {
            "gridcolor": "white",
            "linecolor": "white",
            "ticks": ""
           },
           "bgcolor": "#E5ECF6",
           "caxis": {
            "gridcolor": "white",
            "linecolor": "white",
            "ticks": ""
           }
          },
          "title": {
           "x": 0.05
          },
          "xaxis": {
           "automargin": true,
           "gridcolor": "white",
           "linecolor": "white",
           "ticks": "",
           "title": {
            "standoff": 15
           },
           "zerolinecolor": "white",
           "zerolinewidth": 2
          },
          "yaxis": {
           "automargin": true,
           "gridcolor": "white",
           "linecolor": "white",
           "ticks": "",
           "title": {
            "standoff": 15
           },
           "zerolinecolor": "white",
           "zerolinewidth": 2
          }
         }
        },
        "xaxis": {
         "anchor": "y",
         "domain": [
          0,
          1
         ],
         "title": {
          "text": "inflation"
         }
        },
        "yaxis": {
         "anchor": "x",
         "categoryarray": [
          "High income",
          "Lower middle income",
          "Upper middle income",
          "Low income"
         ],
         "categoryorder": "array",
         "domain": [
          0,
          1
         ],
         "title": {
          "text": "income_category"
         }
        }
       }
      }
     },
     "metadata": {},
     "output_type": "display_data"
    }
   ],
   "source": [
    "# Plot de Distribuição (BoxPlot) por inflation e income_category\n",
    "px.box(df_countries, x='inflation', y='income_category', color='income_category', orientation='h', hover_data=['country'])"
   ]
  },
  {
   "cell_type": "code",
   "execution_count": 15,
   "metadata": {},
   "outputs": [
    {
     "data": {
      "application/vnd.plotly.v1+json": {
       "config": {
        "plotlyServerURL": "https://plot.ly"
       },
       "data": [
        {
         "alignmentgroup": "True",
         "customdata": [
          [
           "Afghanistan"
          ],
          [
           "Burkina Faso"
          ],
          [
           "Burundi"
          ],
          [
           "Central African Republic"
          ],
          [
           "Chad"
          ],
          [
           "Congo Dem. Rep."
          ],
          [
           "Eritrea"
          ],
          [
           "Gambia"
          ],
          [
           "Guinea-Bissau"
          ],
          [
           "Liberia"
          ],
          [
           "Madagascar"
          ],
          [
           "Malawi"
          ],
          [
           "Mali"
          ],
          [
           "Mozambique"
          ],
          [
           "Niger"
          ],
          [
           "Rwanda"
          ],
          [
           "Sierra Leone"
          ],
          [
           "Sudan"
          ],
          [
           "Togo"
          ],
          [
           "Uganda"
          ],
          [
           "Yemen"
          ]
         ],
         "hovertemplate": "income_category=%{y}<br>life_expec=%{x}<br>country=%{customdata[0]}<extra></extra>",
         "legendgroup": "Low income",
         "marker": {
          "color": "#636efa"
         },
         "name": "Low income",
         "notched": false,
         "offsetgroup": "Low income",
         "orientation": "h",
         "showlegend": true,
         "type": "box",
         "x": [
          56.2,
          57.9,
          57.7,
          47.5,
          56.5,
          57.5,
          61.7,
          65.5,
          55.6,
          60.8,
          60.8,
          53.1,
          59.5,
          54.5,
          58.8,
          64.6,
          55,
          66.3,
          58.7,
          56.8,
          67.5
         ],
         "x0": " ",
         "xaxis": "x",
         "y": [
          "Low income",
          "Low income",
          "Low income",
          "Low income",
          "Low income",
          "Low income",
          "Low income",
          "Low income",
          "Low income",
          "Low income",
          "Low income",
          "Low income",
          "Low income",
          "Low income",
          "Low income",
          "Low income",
          "Low income",
          "Low income",
          "Low income",
          "Low income",
          "Low income"
         ],
         "y0": " ",
         "yaxis": "y"
        },
        {
         "alignmentgroup": "True",
         "customdata": [
          [
           "Albania"
          ],
          [
           "Argentina"
          ],
          [
           "Armenia"
          ],
          [
           "Azerbaijan"
          ],
          [
           "Belarus"
          ],
          [
           "Belize"
          ],
          [
           "Bosnia and Herzegovina"
          ],
          [
           "Botswana"
          ],
          [
           "Brazil"
          ],
          [
           "Bulgaria"
          ],
          [
           "China"
          ],
          [
           "Colombia"
          ],
          [
           "Costa Rica"
          ],
          [
           "Dominican Republic"
          ],
          [
           "Ecuador"
          ],
          [
           "El Salvador"
          ],
          [
           "Equatorial Guinea"
          ],
          [
           "Fiji"
          ],
          [
           "Gabon"
          ],
          [
           "Georgia"
          ],
          [
           "Grenada"
          ],
          [
           "Guatemala"
          ],
          [
           "Indonesia"
          ],
          [
           "Iraq"
          ],
          [
           "Jamaica"
          ],
          [
           "Kazakhstan"
          ],
          [
           "Libya"
          ],
          [
           "Malaysia"
          ],
          [
           "Maldives"
          ],
          [
           "Mauritius"
          ],
          [
           "Moldova"
          ],
          [
           "Montenegro"
          ],
          [
           "Namibia"
          ],
          [
           "Paraguay"
          ],
          [
           "Peru"
          ],
          [
           "Russia"
          ],
          [
           "Serbia"
          ],
          [
           "South Africa"
          ],
          [
           "St. Vincent and the Grenadines"
          ],
          [
           "Suriname"
          ],
          [
           "Thailand"
          ],
          [
           "Tonga"
          ],
          [
           "Turkey"
          ],
          [
           "Turkmenistan"
          ]
         ],
         "hovertemplate": "income_category=%{y}<br>life_expec=%{x}<br>country=%{customdata[0]}<extra></extra>",
         "legendgroup": "Upper middle income",
         "marker": {
          "color": "#EF553B"
         },
         "name": "Upper middle income",
         "notched": false,
         "offsetgroup": "Upper middle income",
         "orientation": "h",
         "showlegend": true,
         "type": "box",
         "x": [
          76.3,
          75.8,
          73.3,
          69.1,
          70.4,
          71.4,
          76.8,
          57.1,
          74.2,
          73.9,
          74.6,
          76.4,
          80.4,
          74.6,
          76.7,
          74.1,
          60.9,
          65.3,
          62.9,
          72.8,
          71.3,
          71.3,
          69.9,
          67.2,
          74.7,
          68.4,
          76.1,
          74.5,
          77.9,
          73.4,
          69.7,
          76.4,
          58.6,
          74.1,
          77.9,
          69.2,
          74.7,
          54.3,
          71.6,
          70.3,
          76.6,
          69.9,
          78.2,
          67.9
         ],
         "x0": " ",
         "xaxis": "x",
         "y": [
          "Upper middle income",
          "Upper middle income",
          "Upper middle income",
          "Upper middle income",
          "Upper middle income",
          "Upper middle income",
          "Upper middle income",
          "Upper middle income",
          "Upper middle income",
          "Upper middle income",
          "Upper middle income",
          "Upper middle income",
          "Upper middle income",
          "Upper middle income",
          "Upper middle income",
          "Upper middle income",
          "Upper middle income",
          "Upper middle income",
          "Upper middle income",
          "Upper middle income",
          "Upper middle income",
          "Upper middle income",
          "Upper middle income",
          "Upper middle income",
          "Upper middle income",
          "Upper middle income",
          "Upper middle income",
          "Upper middle income",
          "Upper middle income",
          "Upper middle income",
          "Upper middle income",
          "Upper middle income",
          "Upper middle income",
          "Upper middle income",
          "Upper middle income",
          "Upper middle income",
          "Upper middle income",
          "Upper middle income",
          "Upper middle income",
          "Upper middle income",
          "Upper middle income",
          "Upper middle income",
          "Upper middle income",
          "Upper middle income"
         ],
         "y0": " ",
         "yaxis": "y"
        },
        {
         "alignmentgroup": "True",
         "customdata": [
          [
           "Algeria"
          ],
          [
           "Angola"
          ],
          [
           "Bangladesh"
          ],
          [
           "Benin"
          ],
          [
           "Bhutan"
          ],
          [
           "Bolivia"
          ],
          [
           "Cambodia"
          ],
          [
           "Cameroon"
          ],
          [
           "Cape Verde"
          ],
          [
           "Comoros"
          ],
          [
           "Congo Rep."
          ],
          [
           "Cote d'Ivoire"
          ],
          [
           "Egypt"
          ],
          [
           "Ghana"
          ],
          [
           "Guinea"
          ],
          [
           "Haiti"
          ],
          [
           "India"
          ],
          [
           "Iran"
          ],
          [
           "Jordan"
          ],
          [
           "Kenya"
          ],
          [
           "Kiribati"
          ],
          [
           "Kyrgyz Republic"
          ],
          [
           "Lao"
          ],
          [
           "Lebanon"
          ],
          [
           "Lesotho"
          ],
          [
           "Mauritania"
          ],
          [
           "Micronesia"
          ],
          [
           "Mongolia"
          ],
          [
           "Morocco"
          ],
          [
           "Myanmar"
          ],
          [
           "Nepal"
          ],
          [
           "Nigeria"
          ],
          [
           "Pakistan"
          ],
          [
           "Philippines"
          ],
          [
           "Samoa"
          ],
          [
           "Senegal"
          ],
          [
           "Solomon Islands"
          ],
          [
           "Sri Lanka"
          ],
          [
           "Tajikistan"
          ],
          [
           "Tanzania"
          ],
          [
           "Timor-Leste"
          ],
          [
           "Tunisia"
          ],
          [
           "Ukraine"
          ],
          [
           "Uzbekistan"
          ],
          [
           "Vanuatu"
          ],
          [
           "Vietnam"
          ],
          [
           "Zambia"
          ]
         ],
         "hovertemplate": "income_category=%{y}<br>life_expec=%{x}<br>country=%{customdata[0]}<extra></extra>",
         "legendgroup": "Lower middle income",
         "marker": {
          "color": "#00cc96"
         },
         "name": "Lower middle income",
         "notched": false,
         "offsetgroup": "Lower middle income",
         "orientation": "h",
         "showlegend": true,
         "type": "box",
         "x": [
          76.5,
          60.1,
          70.4,
          61.8,
          72.1,
          71.6,
          66.1,
          57.3,
          72.5,
          65.9,
          60.4,
          56.3,
          70.5,
          62.2,
          58,
          32.1,
          66.2,
          74.5,
          75.8,
          62.8,
          60.7,
          68.5,
          63.8,
          79.8,
          46.5,
          68.2,
          65.4,
          66.2,
          73.5,
          66.8,
          68.3,
          60.5,
          65.3,
          69,
          71.5,
          64,
          61.7,
          74.4,
          69.6,
          59.3,
          71.1,
          76.9,
          70.4,
          68.8,
          63,
          73.1,
          52
         ],
         "x0": " ",
         "xaxis": "x",
         "y": [
          "Lower middle income",
          "Lower middle income",
          "Lower middle income",
          "Lower middle income",
          "Lower middle income",
          "Lower middle income",
          "Lower middle income",
          "Lower middle income",
          "Lower middle income",
          "Lower middle income",
          "Lower middle income",
          "Lower middle income",
          "Lower middle income",
          "Lower middle income",
          "Lower middle income",
          "Lower middle income",
          "Lower middle income",
          "Lower middle income",
          "Lower middle income",
          "Lower middle income",
          "Lower middle income",
          "Lower middle income",
          "Lower middle income",
          "Lower middle income",
          "Lower middle income",
          "Lower middle income",
          "Lower middle income",
          "Lower middle income",
          "Lower middle income",
          "Lower middle income",
          "Lower middle income",
          "Lower middle income",
          "Lower middle income",
          "Lower middle income",
          "Lower middle income",
          "Lower middle income",
          "Lower middle income",
          "Lower middle income",
          "Lower middle income",
          "Lower middle income",
          "Lower middle income",
          "Lower middle income",
          "Lower middle income",
          "Lower middle income",
          "Lower middle income",
          "Lower middle income",
          "Lower middle income"
         ],
         "y0": " ",
         "yaxis": "y"
        },
        {
         "alignmentgroup": "True",
         "customdata": [
          [
           "Antigua and Barbuda"
          ],
          [
           "Australia"
          ],
          [
           "Austria"
          ],
          [
           "Bahamas"
          ],
          [
           "Bahrain"
          ],
          [
           "Barbados"
          ],
          [
           "Belgium"
          ],
          [
           "Brunei"
          ],
          [
           "Canada"
          ],
          [
           "Chile"
          ],
          [
           "Croatia"
          ],
          [
           "Cyprus"
          ],
          [
           "Czech Republic"
          ],
          [
           "Denmark"
          ],
          [
           "Estonia"
          ],
          [
           "Finland"
          ],
          [
           "France"
          ],
          [
           "Germany"
          ],
          [
           "Greece"
          ],
          [
           "Guyana"
          ],
          [
           "Hungary"
          ],
          [
           "Iceland"
          ],
          [
           "Ireland"
          ],
          [
           "Israel"
          ],
          [
           "Italy"
          ],
          [
           "Japan"
          ],
          [
           "Kuwait"
          ],
          [
           "Latvia"
          ],
          [
           "Lithuania"
          ],
          [
           "Luxembourg"
          ],
          [
           "Malta"
          ],
          [
           "Netherlands"
          ],
          [
           "New Zealand"
          ],
          [
           "Norway"
          ],
          [
           "Oman"
          ],
          [
           "Panama"
          ],
          [
           "Poland"
          ],
          [
           "Portugal"
          ],
          [
           "Qatar"
          ],
          [
           "Romania"
          ],
          [
           "Saudi Arabia"
          ],
          [
           "Seychelles"
          ],
          [
           "Singapore"
          ],
          [
           "Slovak Republic"
          ],
          [
           "Slovenia"
          ],
          [
           "South Korea"
          ],
          [
           "Spain"
          ],
          [
           "Sweden"
          ],
          [
           "Switzerland"
          ],
          [
           "United Arab Emirates"
          ],
          [
           "United Kingdom"
          ],
          [
           "United States"
          ],
          [
           "Uruguay"
          ]
         ],
         "hovertemplate": "income_category=%{y}<br>life_expec=%{x}<br>country=%{customdata[0]}<extra></extra>",
         "legendgroup": "High income",
         "marker": {
          "color": "#ab63fa"
         },
         "name": "High income",
         "notched": false,
         "offsetgroup": "High income",
         "orientation": "h",
         "showlegend": true,
         "type": "box",
         "x": [
          76.8,
          82,
          80.5,
          73.8,
          76,
          76.7,
          80,
          77.1,
          81.3,
          79.1,
          76.3,
          79.9,
          77.5,
          79.5,
          76,
          80,
          81.4,
          80.1,
          80.4,
          65.5,
          74.5,
          82,
          80.4,
          81.4,
          81.7,
          82.8,
          78.2,
          73.1,
          73.2,
          81.3,
          80.3,
          80.7,
          80.9,
          81,
          76.1,
          77.8,
          76.3,
          79.8,
          79.5,
          73.7,
          75.1,
          73.4,
          82.7,
          75.5,
          79.5,
          80.1,
          81.9,
          81.5,
          82.2,
          76.5,
          80.3,
          78.7,
          76.4
         ],
         "x0": " ",
         "xaxis": "x",
         "y": [
          "High income",
          "High income",
          "High income",
          "High income",
          "High income",
          "High income",
          "High income",
          "High income",
          "High income",
          "High income",
          "High income",
          "High income",
          "High income",
          "High income",
          "High income",
          "High income",
          "High income",
          "High income",
          "High income",
          "High income",
          "High income",
          "High income",
          "High income",
          "High income",
          "High income",
          "High income",
          "High income",
          "High income",
          "High income",
          "High income",
          "High income",
          "High income",
          "High income",
          "High income",
          "High income",
          "High income",
          "High income",
          "High income",
          "High income",
          "High income",
          "High income",
          "High income",
          "High income",
          "High income",
          "High income",
          "High income",
          "High income",
          "High income",
          "High income",
          "High income",
          "High income",
          "High income",
          "High income"
         ],
         "y0": " ",
         "yaxis": "y"
        }
       ],
       "layout": {
        "boxmode": "overlay",
        "legend": {
         "title": {
          "text": "income_category"
         },
         "tracegroupgap": 0
        },
        "margin": {
         "t": 60
        },
        "template": {
         "data": {
          "bar": [
           {
            "error_x": {
             "color": "#2a3f5f"
            },
            "error_y": {
             "color": "#2a3f5f"
            },
            "marker": {
             "line": {
              "color": "#E5ECF6",
              "width": 0.5
             },
             "pattern": {
              "fillmode": "overlay",
              "size": 10,
              "solidity": 0.2
             }
            },
            "type": "bar"
           }
          ],
          "barpolar": [
           {
            "marker": {
             "line": {
              "color": "#E5ECF6",
              "width": 0.5
             },
             "pattern": {
              "fillmode": "overlay",
              "size": 10,
              "solidity": 0.2
             }
            },
            "type": "barpolar"
           }
          ],
          "carpet": [
           {
            "aaxis": {
             "endlinecolor": "#2a3f5f",
             "gridcolor": "white",
             "linecolor": "white",
             "minorgridcolor": "white",
             "startlinecolor": "#2a3f5f"
            },
            "baxis": {
             "endlinecolor": "#2a3f5f",
             "gridcolor": "white",
             "linecolor": "white",
             "minorgridcolor": "white",
             "startlinecolor": "#2a3f5f"
            },
            "type": "carpet"
           }
          ],
          "choropleth": [
           {
            "colorbar": {
             "outlinewidth": 0,
             "ticks": ""
            },
            "type": "choropleth"
           }
          ],
          "contour": [
           {
            "colorbar": {
             "outlinewidth": 0,
             "ticks": ""
            },
            "colorscale": [
             [
              0,
              "#0d0887"
             ],
             [
              0.1111111111111111,
              "#46039f"
             ],
             [
              0.2222222222222222,
              "#7201a8"
             ],
             [
              0.3333333333333333,
              "#9c179e"
             ],
             [
              0.4444444444444444,
              "#bd3786"
             ],
             [
              0.5555555555555556,
              "#d8576b"
             ],
             [
              0.6666666666666666,
              "#ed7953"
             ],
             [
              0.7777777777777778,
              "#fb9f3a"
             ],
             [
              0.8888888888888888,
              "#fdca26"
             ],
             [
              1,
              "#f0f921"
             ]
            ],
            "type": "contour"
           }
          ],
          "contourcarpet": [
           {
            "colorbar": {
             "outlinewidth": 0,
             "ticks": ""
            },
            "type": "contourcarpet"
           }
          ],
          "heatmap": [
           {
            "colorbar": {
             "outlinewidth": 0,
             "ticks": ""
            },
            "colorscale": [
             [
              0,
              "#0d0887"
             ],
             [
              0.1111111111111111,
              "#46039f"
             ],
             [
              0.2222222222222222,
              "#7201a8"
             ],
             [
              0.3333333333333333,
              "#9c179e"
             ],
             [
              0.4444444444444444,
              "#bd3786"
             ],
             [
              0.5555555555555556,
              "#d8576b"
             ],
             [
              0.6666666666666666,
              "#ed7953"
             ],
             [
              0.7777777777777778,
              "#fb9f3a"
             ],
             [
              0.8888888888888888,
              "#fdca26"
             ],
             [
              1,
              "#f0f921"
             ]
            ],
            "type": "heatmap"
           }
          ],
          "heatmapgl": [
           {
            "colorbar": {
             "outlinewidth": 0,
             "ticks": ""
            },
            "colorscale": [
             [
              0,
              "#0d0887"
             ],
             [
              0.1111111111111111,
              "#46039f"
             ],
             [
              0.2222222222222222,
              "#7201a8"
             ],
             [
              0.3333333333333333,
              "#9c179e"
             ],
             [
              0.4444444444444444,
              "#bd3786"
             ],
             [
              0.5555555555555556,
              "#d8576b"
             ],
             [
              0.6666666666666666,
              "#ed7953"
             ],
             [
              0.7777777777777778,
              "#fb9f3a"
             ],
             [
              0.8888888888888888,
              "#fdca26"
             ],
             [
              1,
              "#f0f921"
             ]
            ],
            "type": "heatmapgl"
           }
          ],
          "histogram": [
           {
            "marker": {
             "pattern": {
              "fillmode": "overlay",
              "size": 10,
              "solidity": 0.2
             }
            },
            "type": "histogram"
           }
          ],
          "histogram2d": [
           {
            "colorbar": {
             "outlinewidth": 0,
             "ticks": ""
            },
            "colorscale": [
             [
              0,
              "#0d0887"
             ],
             [
              0.1111111111111111,
              "#46039f"
             ],
             [
              0.2222222222222222,
              "#7201a8"
             ],
             [
              0.3333333333333333,
              "#9c179e"
             ],
             [
              0.4444444444444444,
              "#bd3786"
             ],
             [
              0.5555555555555556,
              "#d8576b"
             ],
             [
              0.6666666666666666,
              "#ed7953"
             ],
             [
              0.7777777777777778,
              "#fb9f3a"
             ],
             [
              0.8888888888888888,
              "#fdca26"
             ],
             [
              1,
              "#f0f921"
             ]
            ],
            "type": "histogram2d"
           }
          ],
          "histogram2dcontour": [
           {
            "colorbar": {
             "outlinewidth": 0,
             "ticks": ""
            },
            "colorscale": [
             [
              0,
              "#0d0887"
             ],
             [
              0.1111111111111111,
              "#46039f"
             ],
             [
              0.2222222222222222,
              "#7201a8"
             ],
             [
              0.3333333333333333,
              "#9c179e"
             ],
             [
              0.4444444444444444,
              "#bd3786"
             ],
             [
              0.5555555555555556,
              "#d8576b"
             ],
             [
              0.6666666666666666,
              "#ed7953"
             ],
             [
              0.7777777777777778,
              "#fb9f3a"
             ],
             [
              0.8888888888888888,
              "#fdca26"
             ],
             [
              1,
              "#f0f921"
             ]
            ],
            "type": "histogram2dcontour"
           }
          ],
          "mesh3d": [
           {
            "colorbar": {
             "outlinewidth": 0,
             "ticks": ""
            },
            "type": "mesh3d"
           }
          ],
          "parcoords": [
           {
            "line": {
             "colorbar": {
              "outlinewidth": 0,
              "ticks": ""
             }
            },
            "type": "parcoords"
           }
          ],
          "pie": [
           {
            "automargin": true,
            "type": "pie"
           }
          ],
          "scatter": [
           {
            "fillpattern": {
             "fillmode": "overlay",
             "size": 10,
             "solidity": 0.2
            },
            "type": "scatter"
           }
          ],
          "scatter3d": [
           {
            "line": {
             "colorbar": {
              "outlinewidth": 0,
              "ticks": ""
             }
            },
            "marker": {
             "colorbar": {
              "outlinewidth": 0,
              "ticks": ""
             }
            },
            "type": "scatter3d"
           }
          ],
          "scattercarpet": [
           {
            "marker": {
             "colorbar": {
              "outlinewidth": 0,
              "ticks": ""
             }
            },
            "type": "scattercarpet"
           }
          ],
          "scattergeo": [
           {
            "marker": {
             "colorbar": {
              "outlinewidth": 0,
              "ticks": ""
             }
            },
            "type": "scattergeo"
           }
          ],
          "scattergl": [
           {
            "marker": {
             "colorbar": {
              "outlinewidth": 0,
              "ticks": ""
             }
            },
            "type": "scattergl"
           }
          ],
          "scattermapbox": [
           {
            "marker": {
             "colorbar": {
              "outlinewidth": 0,
              "ticks": ""
             }
            },
            "type": "scattermapbox"
           }
          ],
          "scatterpolar": [
           {
            "marker": {
             "colorbar": {
              "outlinewidth": 0,
              "ticks": ""
             }
            },
            "type": "scatterpolar"
           }
          ],
          "scatterpolargl": [
           {
            "marker": {
             "colorbar": {
              "outlinewidth": 0,
              "ticks": ""
             }
            },
            "type": "scatterpolargl"
           }
          ],
          "scatterternary": [
           {
            "marker": {
             "colorbar": {
              "outlinewidth": 0,
              "ticks": ""
             }
            },
            "type": "scatterternary"
           }
          ],
          "surface": [
           {
            "colorbar": {
             "outlinewidth": 0,
             "ticks": ""
            },
            "colorscale": [
             [
              0,
              "#0d0887"
             ],
             [
              0.1111111111111111,
              "#46039f"
             ],
             [
              0.2222222222222222,
              "#7201a8"
             ],
             [
              0.3333333333333333,
              "#9c179e"
             ],
             [
              0.4444444444444444,
              "#bd3786"
             ],
             [
              0.5555555555555556,
              "#d8576b"
             ],
             [
              0.6666666666666666,
              "#ed7953"
             ],
             [
              0.7777777777777778,
              "#fb9f3a"
             ],
             [
              0.8888888888888888,
              "#fdca26"
             ],
             [
              1,
              "#f0f921"
             ]
            ],
            "type": "surface"
           }
          ],
          "table": [
           {
            "cells": {
             "fill": {
              "color": "#EBF0F8"
             },
             "line": {
              "color": "white"
             }
            },
            "header": {
             "fill": {
              "color": "#C8D4E3"
             },
             "line": {
              "color": "white"
             }
            },
            "type": "table"
           }
          ]
         },
         "layout": {
          "annotationdefaults": {
           "arrowcolor": "#2a3f5f",
           "arrowhead": 0,
           "arrowwidth": 1
          },
          "autotypenumbers": "strict",
          "coloraxis": {
           "colorbar": {
            "outlinewidth": 0,
            "ticks": ""
           }
          },
          "colorscale": {
           "diverging": [
            [
             0,
             "#8e0152"
            ],
            [
             0.1,
             "#c51b7d"
            ],
            [
             0.2,
             "#de77ae"
            ],
            [
             0.3,
             "#f1b6da"
            ],
            [
             0.4,
             "#fde0ef"
            ],
            [
             0.5,
             "#f7f7f7"
            ],
            [
             0.6,
             "#e6f5d0"
            ],
            [
             0.7,
             "#b8e186"
            ],
            [
             0.8,
             "#7fbc41"
            ],
            [
             0.9,
             "#4d9221"
            ],
            [
             1,
             "#276419"
            ]
           ],
           "sequential": [
            [
             0,
             "#0d0887"
            ],
            [
             0.1111111111111111,
             "#46039f"
            ],
            [
             0.2222222222222222,
             "#7201a8"
            ],
            [
             0.3333333333333333,
             "#9c179e"
            ],
            [
             0.4444444444444444,
             "#bd3786"
            ],
            [
             0.5555555555555556,
             "#d8576b"
            ],
            [
             0.6666666666666666,
             "#ed7953"
            ],
            [
             0.7777777777777778,
             "#fb9f3a"
            ],
            [
             0.8888888888888888,
             "#fdca26"
            ],
            [
             1,
             "#f0f921"
            ]
           ],
           "sequentialminus": [
            [
             0,
             "#0d0887"
            ],
            [
             0.1111111111111111,
             "#46039f"
            ],
            [
             0.2222222222222222,
             "#7201a8"
            ],
            [
             0.3333333333333333,
             "#9c179e"
            ],
            [
             0.4444444444444444,
             "#bd3786"
            ],
            [
             0.5555555555555556,
             "#d8576b"
            ],
            [
             0.6666666666666666,
             "#ed7953"
            ],
            [
             0.7777777777777778,
             "#fb9f3a"
            ],
            [
             0.8888888888888888,
             "#fdca26"
            ],
            [
             1,
             "#f0f921"
            ]
           ]
          },
          "colorway": [
           "#636efa",
           "#EF553B",
           "#00cc96",
           "#ab63fa",
           "#FFA15A",
           "#19d3f3",
           "#FF6692",
           "#B6E880",
           "#FF97FF",
           "#FECB52"
          ],
          "font": {
           "color": "#2a3f5f"
          },
          "geo": {
           "bgcolor": "white",
           "lakecolor": "white",
           "landcolor": "#E5ECF6",
           "showlakes": true,
           "showland": true,
           "subunitcolor": "white"
          },
          "hoverlabel": {
           "align": "left"
          },
          "hovermode": "closest",
          "mapbox": {
           "style": "light"
          },
          "paper_bgcolor": "white",
          "plot_bgcolor": "#E5ECF6",
          "polar": {
           "angularaxis": {
            "gridcolor": "white",
            "linecolor": "white",
            "ticks": ""
           },
           "bgcolor": "#E5ECF6",
           "radialaxis": {
            "gridcolor": "white",
            "linecolor": "white",
            "ticks": ""
           }
          },
          "scene": {
           "xaxis": {
            "backgroundcolor": "#E5ECF6",
            "gridcolor": "white",
            "gridwidth": 2,
            "linecolor": "white",
            "showbackground": true,
            "ticks": "",
            "zerolinecolor": "white"
           },
           "yaxis": {
            "backgroundcolor": "#E5ECF6",
            "gridcolor": "white",
            "gridwidth": 2,
            "linecolor": "white",
            "showbackground": true,
            "ticks": "",
            "zerolinecolor": "white"
           },
           "zaxis": {
            "backgroundcolor": "#E5ECF6",
            "gridcolor": "white",
            "gridwidth": 2,
            "linecolor": "white",
            "showbackground": true,
            "ticks": "",
            "zerolinecolor": "white"
           }
          },
          "shapedefaults": {
           "line": {
            "color": "#2a3f5f"
           }
          },
          "ternary": {
           "aaxis": {
            "gridcolor": "white",
            "linecolor": "white",
            "ticks": ""
           },
           "baxis": {
            "gridcolor": "white",
            "linecolor": "white",
            "ticks": ""
           },
           "bgcolor": "#E5ECF6",
           "caxis": {
            "gridcolor": "white",
            "linecolor": "white",
            "ticks": ""
           }
          },
          "title": {
           "x": 0.05
          },
          "xaxis": {
           "automargin": true,
           "gridcolor": "white",
           "linecolor": "white",
           "ticks": "",
           "title": {
            "standoff": 15
           },
           "zerolinecolor": "white",
           "zerolinewidth": 2
          },
          "yaxis": {
           "automargin": true,
           "gridcolor": "white",
           "linecolor": "white",
           "ticks": "",
           "title": {
            "standoff": 15
           },
           "zerolinecolor": "white",
           "zerolinewidth": 2
          }
         }
        },
        "xaxis": {
         "anchor": "y",
         "domain": [
          0,
          1
         ],
         "title": {
          "text": "life_expec"
         }
        },
        "yaxis": {
         "anchor": "x",
         "categoryarray": [
          "High income",
          "Lower middle income",
          "Upper middle income",
          "Low income"
         ],
         "categoryorder": "array",
         "domain": [
          0,
          1
         ],
         "title": {
          "text": "income_category"
         }
        }
       }
      }
     },
     "metadata": {},
     "output_type": "display_data"
    }
   ],
   "source": [
    "# Plot de Distribuição (BoxPlot) por life_expec e income_category\n",
    "px.box(df_countries, x='life_expec', y='income_category', color='income_category', orientation='h', hover_data=['country'])"
   ]
  },
  {
   "cell_type": "code",
   "execution_count": 16,
   "metadata": {},
   "outputs": [
    {
     "data": {
      "application/vnd.plotly.v1+json": {
       "config": {
        "plotlyServerURL": "https://plot.ly"
       },
       "data": [
        {
         "customdata": [
          [
           "Afghanistan"
          ],
          [
           "Burkina Faso"
          ],
          [
           "Burundi"
          ],
          [
           "Central African Republic"
          ],
          [
           "Chad"
          ],
          [
           "Congo Dem. Rep."
          ],
          [
           "Eritrea"
          ],
          [
           "Gambia"
          ],
          [
           "Guinea-Bissau"
          ],
          [
           "Liberia"
          ],
          [
           "Madagascar"
          ],
          [
           "Malawi"
          ],
          [
           "Mali"
          ],
          [
           "Mozambique"
          ],
          [
           "Niger"
          ],
          [
           "Rwanda"
          ],
          [
           "Sierra Leone"
          ],
          [
           "Sudan"
          ],
          [
           "Togo"
          ],
          [
           "Uganda"
          ],
          [
           "Yemen"
          ]
         ],
         "hovertemplate": "income_category=Low income<br>income=%{x}<br>gdpp=%{y}<br>country=%{customdata[0]}<extra></extra>",
         "legendgroup": "Low income",
         "marker": {
          "color": "#636efa",
          "symbol": "circle"
         },
         "mode": "markers",
         "name": "Low income",
         "orientation": "v",
         "showlegend": true,
         "type": "scatter",
         "x": [
          1610,
          1430,
          764,
          888,
          1930,
          609,
          1420,
          1660,
          1390,
          700,
          1390,
          1030,
          1870,
          918,
          814,
          1350,
          1220,
          3370,
          1210,
          1540,
          4480
         ],
         "xaxis": "x",
         "y": [
          553,
          575,
          231,
          446,
          897,
          334,
          482,
          562,
          547,
          327,
          413,
          459,
          708,
          419,
          348,
          563,
          399,
          1480,
          488,
          595,
          1310
         ],
         "yaxis": "y"
        },
        {
         "customdata": [
          [
           "Albania"
          ],
          [
           "Argentina"
          ],
          [
           "Armenia"
          ],
          [
           "Azerbaijan"
          ],
          [
           "Belarus"
          ],
          [
           "Belize"
          ],
          [
           "Bosnia and Herzegovina"
          ],
          [
           "Botswana"
          ],
          [
           "Brazil"
          ],
          [
           "Bulgaria"
          ],
          [
           "China"
          ],
          [
           "Colombia"
          ],
          [
           "Costa Rica"
          ],
          [
           "Dominican Republic"
          ],
          [
           "Ecuador"
          ],
          [
           "El Salvador"
          ],
          [
           "Equatorial Guinea"
          ],
          [
           "Fiji"
          ],
          [
           "Gabon"
          ],
          [
           "Georgia"
          ],
          [
           "Grenada"
          ],
          [
           "Guatemala"
          ],
          [
           "Indonesia"
          ],
          [
           "Iraq"
          ],
          [
           "Jamaica"
          ],
          [
           "Kazakhstan"
          ],
          [
           "Libya"
          ],
          [
           "Malaysia"
          ],
          [
           "Maldives"
          ],
          [
           "Mauritius"
          ],
          [
           "Moldova"
          ],
          [
           "Montenegro"
          ],
          [
           "Namibia"
          ],
          [
           "Paraguay"
          ],
          [
           "Peru"
          ],
          [
           "Russia"
          ],
          [
           "Serbia"
          ],
          [
           "South Africa"
          ],
          [
           "St. Vincent and the Grenadines"
          ],
          [
           "Suriname"
          ],
          [
           "Thailand"
          ],
          [
           "Tonga"
          ],
          [
           "Turkey"
          ],
          [
           "Turkmenistan"
          ]
         ],
         "hovertemplate": "income_category=Upper middle income<br>income=%{x}<br>gdpp=%{y}<br>country=%{customdata[0]}<extra></extra>",
         "legendgroup": "Upper middle income",
         "marker": {
          "color": "#EF553B",
          "symbol": "circle"
         },
         "mode": "markers",
         "name": "Upper middle income",
         "orientation": "v",
         "showlegend": true,
         "type": "scatter",
         "x": [
          9930,
          18700,
          6700,
          16000,
          16200,
          7880,
          9720,
          13300,
          14500,
          15300,
          9530,
          10900,
          13000,
          11100,
          9350,
          7300,
          33700,
          7350,
          15400,
          6730,
          11200,
          6710,
          8430,
          12700,
          8000,
          20100,
          29600,
          21100,
          10500,
          15900,
          3910,
          14000,
          8460,
          7290,
          9960,
          23100,
          12700,
          12000,
          9920,
          14200,
          13500,
          4980,
          18000,
          9940
         ],
         "xaxis": "x",
         "y": [
          4090,
          10300,
          3220,
          5840,
          6030,
          4340,
          4610,
          6350,
          11200,
          6840,
          4560,
          6250,
          8200,
          5450,
          4660,
          2990,
          17100,
          3650,
          8750,
          2960,
          7370,
          2830,
          3110,
          4500,
          4680,
          9070,
          12100,
          9070,
          7100,
          8000,
          1630,
          6680,
          5190,
          3230,
          5020,
          10700,
          5410,
          7280,
          6230,
          8300,
          5080,
          3550,
          10700,
          4440
         ],
         "yaxis": "y"
        },
        {
         "customdata": [
          [
           "Algeria"
          ],
          [
           "Angola"
          ],
          [
           "Bangladesh"
          ],
          [
           "Benin"
          ],
          [
           "Bhutan"
          ],
          [
           "Bolivia"
          ],
          [
           "Cambodia"
          ],
          [
           "Cameroon"
          ],
          [
           "Cape Verde"
          ],
          [
           "Comoros"
          ],
          [
           "Congo Rep."
          ],
          [
           "Cote d'Ivoire"
          ],
          [
           "Egypt"
          ],
          [
           "Ghana"
          ],
          [
           "Guinea"
          ],
          [
           "Haiti"
          ],
          [
           "India"
          ],
          [
           "Iran"
          ],
          [
           "Jordan"
          ],
          [
           "Kenya"
          ],
          [
           "Kiribati"
          ],
          [
           "Kyrgyz Republic"
          ],
          [
           "Lao"
          ],
          [
           "Lebanon"
          ],
          [
           "Lesotho"
          ],
          [
           "Mauritania"
          ],
          [
           "Micronesia"
          ],
          [
           "Mongolia"
          ],
          [
           "Morocco"
          ],
          [
           "Myanmar"
          ],
          [
           "Nepal"
          ],
          [
           "Nigeria"
          ],
          [
           "Pakistan"
          ],
          [
           "Philippines"
          ],
          [
           "Samoa"
          ],
          [
           "Senegal"
          ],
          [
           "Solomon Islands"
          ],
          [
           "Sri Lanka"
          ],
          [
           "Tajikistan"
          ],
          [
           "Tanzania"
          ],
          [
           "Timor-Leste"
          ],
          [
           "Tunisia"
          ],
          [
           "Ukraine"
          ],
          [
           "Uzbekistan"
          ],
          [
           "Vanuatu"
          ],
          [
           "Vietnam"
          ],
          [
           "Zambia"
          ]
         ],
         "hovertemplate": "income_category=Lower middle income<br>income=%{x}<br>gdpp=%{y}<br>country=%{customdata[0]}<extra></extra>",
         "legendgroup": "Lower middle income",
         "marker": {
          "color": "#00cc96",
          "symbol": "circle"
         },
         "mode": "markers",
         "name": "Lower middle income",
         "orientation": "v",
         "showlegend": true,
         "type": "scatter",
         "x": [
          12900,
          5900,
          2440,
          1820,
          6420,
          5410,
          2520,
          2660,
          5830,
          1410,
          5190,
          2690,
          9860,
          3060,
          1190,
          1500,
          4410,
          17400,
          9470,
          2480,
          1730,
          2790,
          3980,
          16300,
          2380,
          3320,
          3340,
          7710,
          6440,
          3720,
          1990,
          5150,
          4280,
          5600,
          5400,
          2180,
          1780,
          8560,
          2110,
          2090,
          1850,
          10400,
          7820,
          4240,
          2950,
          4490,
          3280
         ],
         "xaxis": "x",
         "y": [
          4460,
          3530,
          758,
          758,
          2180,
          1980,
          786,
          1310,
          3310,
          769,
          2740,
          1220,
          2600,
          1310,
          648,
          662,
          1350,
          6530,
          3680,
          967,
          1490,
          880,
          1140,
          8860,
          1170,
          1200,
          2860,
          2650,
          2830,
          988,
          592,
          2330,
          1040,
          2130,
          3450,
          1000,
          1290,
          2810,
          738,
          702,
          3600,
          4140,
          2970,
          1380,
          2970,
          1310,
          1460
         ],
         "yaxis": "y"
        },
        {
         "customdata": [
          [
           "Antigua and Barbuda"
          ],
          [
           "Australia"
          ],
          [
           "Austria"
          ],
          [
           "Bahamas"
          ],
          [
           "Bahrain"
          ],
          [
           "Barbados"
          ],
          [
           "Belgium"
          ],
          [
           "Brunei"
          ],
          [
           "Canada"
          ],
          [
           "Chile"
          ],
          [
           "Croatia"
          ],
          [
           "Cyprus"
          ],
          [
           "Czech Republic"
          ],
          [
           "Denmark"
          ],
          [
           "Estonia"
          ],
          [
           "Finland"
          ],
          [
           "France"
          ],
          [
           "Germany"
          ],
          [
           "Greece"
          ],
          [
           "Guyana"
          ],
          [
           "Hungary"
          ],
          [
           "Iceland"
          ],
          [
           "Ireland"
          ],
          [
           "Israel"
          ],
          [
           "Italy"
          ],
          [
           "Japan"
          ],
          [
           "Kuwait"
          ],
          [
           "Latvia"
          ],
          [
           "Lithuania"
          ],
          [
           "Luxembourg"
          ],
          [
           "Malta"
          ],
          [
           "Netherlands"
          ],
          [
           "New Zealand"
          ],
          [
           "Norway"
          ],
          [
           "Oman"
          ],
          [
           "Panama"
          ],
          [
           "Poland"
          ],
          [
           "Portugal"
          ],
          [
           "Qatar"
          ],
          [
           "Romania"
          ],
          [
           "Saudi Arabia"
          ],
          [
           "Seychelles"
          ],
          [
           "Singapore"
          ],
          [
           "Slovak Republic"
          ],
          [
           "Slovenia"
          ],
          [
           "South Korea"
          ],
          [
           "Spain"
          ],
          [
           "Sweden"
          ],
          [
           "Switzerland"
          ],
          [
           "United Arab Emirates"
          ],
          [
           "United Kingdom"
          ],
          [
           "United States"
          ],
          [
           "Uruguay"
          ]
         ],
         "hovertemplate": "income_category=High income<br>income=%{x}<br>gdpp=%{y}<br>country=%{customdata[0]}<extra></extra>",
         "legendgroup": "High income",
         "marker": {
          "color": "#ab63fa",
          "symbol": "circle"
         },
         "mode": "markers",
         "name": "High income",
         "orientation": "v",
         "showlegend": true,
         "type": "scatter",
         "x": [
          19100,
          41400,
          43200,
          22900,
          41100,
          15300,
          41100,
          80600,
          40700,
          19400,
          20100,
          33900,
          28300,
          44000,
          22700,
          39800,
          36900,
          40400,
          28700,
          5840,
          22300,
          38800,
          45700,
          29600,
          36200,
          35800,
          75200,
          18300,
          21100,
          91700,
          28300,
          45500,
          32300,
          62300,
          45300,
          15400,
          21800,
          27200,
          125000,
          17800,
          45400,
          20400,
          72100,
          25200,
          28700,
          30400,
          32500,
          42900,
          55500,
          57600,
          36200,
          49400,
          17100
         ],
         "xaxis": "x",
         "y": [
          12200,
          51900,
          46900,
          28000,
          20700,
          16000,
          44400,
          35300,
          47400,
          12900,
          13500,
          30800,
          19800,
          58000,
          14600,
          46200,
          40600,
          41800,
          26900,
          3040,
          13100,
          41900,
          48700,
          30600,
          35800,
          44500,
          38500,
          11300,
          12000,
          105000,
          21100,
          50300,
          33700,
          87800,
          19300,
          8080,
          12600,
          22500,
          70300,
          8230,
          19300,
          10800,
          46600,
          16600,
          23400,
          22100,
          30700,
          52100,
          74600,
          35000,
          38900,
          48400,
          11900
         ],
         "yaxis": "y"
        }
       ],
       "layout": {
        "legend": {
         "title": {
          "text": "income_category"
         },
         "tracegroupgap": 0
        },
        "margin": {
         "t": 60
        },
        "template": {
         "data": {
          "bar": [
           {
            "error_x": {
             "color": "#2a3f5f"
            },
            "error_y": {
             "color": "#2a3f5f"
            },
            "marker": {
             "line": {
              "color": "#E5ECF6",
              "width": 0.5
             },
             "pattern": {
              "fillmode": "overlay",
              "size": 10,
              "solidity": 0.2
             }
            },
            "type": "bar"
           }
          ],
          "barpolar": [
           {
            "marker": {
             "line": {
              "color": "#E5ECF6",
              "width": 0.5
             },
             "pattern": {
              "fillmode": "overlay",
              "size": 10,
              "solidity": 0.2
             }
            },
            "type": "barpolar"
           }
          ],
          "carpet": [
           {
            "aaxis": {
             "endlinecolor": "#2a3f5f",
             "gridcolor": "white",
             "linecolor": "white",
             "minorgridcolor": "white",
             "startlinecolor": "#2a3f5f"
            },
            "baxis": {
             "endlinecolor": "#2a3f5f",
             "gridcolor": "white",
             "linecolor": "white",
             "minorgridcolor": "white",
             "startlinecolor": "#2a3f5f"
            },
            "type": "carpet"
           }
          ],
          "choropleth": [
           {
            "colorbar": {
             "outlinewidth": 0,
             "ticks": ""
            },
            "type": "choropleth"
           }
          ],
          "contour": [
           {
            "colorbar": {
             "outlinewidth": 0,
             "ticks": ""
            },
            "colorscale": [
             [
              0,
              "#0d0887"
             ],
             [
              0.1111111111111111,
              "#46039f"
             ],
             [
              0.2222222222222222,
              "#7201a8"
             ],
             [
              0.3333333333333333,
              "#9c179e"
             ],
             [
              0.4444444444444444,
              "#bd3786"
             ],
             [
              0.5555555555555556,
              "#d8576b"
             ],
             [
              0.6666666666666666,
              "#ed7953"
             ],
             [
              0.7777777777777778,
              "#fb9f3a"
             ],
             [
              0.8888888888888888,
              "#fdca26"
             ],
             [
              1,
              "#f0f921"
             ]
            ],
            "type": "contour"
           }
          ],
          "contourcarpet": [
           {
            "colorbar": {
             "outlinewidth": 0,
             "ticks": ""
            },
            "type": "contourcarpet"
           }
          ],
          "heatmap": [
           {
            "colorbar": {
             "outlinewidth": 0,
             "ticks": ""
            },
            "colorscale": [
             [
              0,
              "#0d0887"
             ],
             [
              0.1111111111111111,
              "#46039f"
             ],
             [
              0.2222222222222222,
              "#7201a8"
             ],
             [
              0.3333333333333333,
              "#9c179e"
             ],
             [
              0.4444444444444444,
              "#bd3786"
             ],
             [
              0.5555555555555556,
              "#d8576b"
             ],
             [
              0.6666666666666666,
              "#ed7953"
             ],
             [
              0.7777777777777778,
              "#fb9f3a"
             ],
             [
              0.8888888888888888,
              "#fdca26"
             ],
             [
              1,
              "#f0f921"
             ]
            ],
            "type": "heatmap"
           }
          ],
          "heatmapgl": [
           {
            "colorbar": {
             "outlinewidth": 0,
             "ticks": ""
            },
            "colorscale": [
             [
              0,
              "#0d0887"
             ],
             [
              0.1111111111111111,
              "#46039f"
             ],
             [
              0.2222222222222222,
              "#7201a8"
             ],
             [
              0.3333333333333333,
              "#9c179e"
             ],
             [
              0.4444444444444444,
              "#bd3786"
             ],
             [
              0.5555555555555556,
              "#d8576b"
             ],
             [
              0.6666666666666666,
              "#ed7953"
             ],
             [
              0.7777777777777778,
              "#fb9f3a"
             ],
             [
              0.8888888888888888,
              "#fdca26"
             ],
             [
              1,
              "#f0f921"
             ]
            ],
            "type": "heatmapgl"
           }
          ],
          "histogram": [
           {
            "marker": {
             "pattern": {
              "fillmode": "overlay",
              "size": 10,
              "solidity": 0.2
             }
            },
            "type": "histogram"
           }
          ],
          "histogram2d": [
           {
            "colorbar": {
             "outlinewidth": 0,
             "ticks": ""
            },
            "colorscale": [
             [
              0,
              "#0d0887"
             ],
             [
              0.1111111111111111,
              "#46039f"
             ],
             [
              0.2222222222222222,
              "#7201a8"
             ],
             [
              0.3333333333333333,
              "#9c179e"
             ],
             [
              0.4444444444444444,
              "#bd3786"
             ],
             [
              0.5555555555555556,
              "#d8576b"
             ],
             [
              0.6666666666666666,
              "#ed7953"
             ],
             [
              0.7777777777777778,
              "#fb9f3a"
             ],
             [
              0.8888888888888888,
              "#fdca26"
             ],
             [
              1,
              "#f0f921"
             ]
            ],
            "type": "histogram2d"
           }
          ],
          "histogram2dcontour": [
           {
            "colorbar": {
             "outlinewidth": 0,
             "ticks": ""
            },
            "colorscale": [
             [
              0,
              "#0d0887"
             ],
             [
              0.1111111111111111,
              "#46039f"
             ],
             [
              0.2222222222222222,
              "#7201a8"
             ],
             [
              0.3333333333333333,
              "#9c179e"
             ],
             [
              0.4444444444444444,
              "#bd3786"
             ],
             [
              0.5555555555555556,
              "#d8576b"
             ],
             [
              0.6666666666666666,
              "#ed7953"
             ],
             [
              0.7777777777777778,
              "#fb9f3a"
             ],
             [
              0.8888888888888888,
              "#fdca26"
             ],
             [
              1,
              "#f0f921"
             ]
            ],
            "type": "histogram2dcontour"
           }
          ],
          "mesh3d": [
           {
            "colorbar": {
             "outlinewidth": 0,
             "ticks": ""
            },
            "type": "mesh3d"
           }
          ],
          "parcoords": [
           {
            "line": {
             "colorbar": {
              "outlinewidth": 0,
              "ticks": ""
             }
            },
            "type": "parcoords"
           }
          ],
          "pie": [
           {
            "automargin": true,
            "type": "pie"
           }
          ],
          "scatter": [
           {
            "fillpattern": {
             "fillmode": "overlay",
             "size": 10,
             "solidity": 0.2
            },
            "type": "scatter"
           }
          ],
          "scatter3d": [
           {
            "line": {
             "colorbar": {
              "outlinewidth": 0,
              "ticks": ""
             }
            },
            "marker": {
             "colorbar": {
              "outlinewidth": 0,
              "ticks": ""
             }
            },
            "type": "scatter3d"
           }
          ],
          "scattercarpet": [
           {
            "marker": {
             "colorbar": {
              "outlinewidth": 0,
              "ticks": ""
             }
            },
            "type": "scattercarpet"
           }
          ],
          "scattergeo": [
           {
            "marker": {
             "colorbar": {
              "outlinewidth": 0,
              "ticks": ""
             }
            },
            "type": "scattergeo"
           }
          ],
          "scattergl": [
           {
            "marker": {
             "colorbar": {
              "outlinewidth": 0,
              "ticks": ""
             }
            },
            "type": "scattergl"
           }
          ],
          "scattermapbox": [
           {
            "marker": {
             "colorbar": {
              "outlinewidth": 0,
              "ticks": ""
             }
            },
            "type": "scattermapbox"
           }
          ],
          "scatterpolar": [
           {
            "marker": {
             "colorbar": {
              "outlinewidth": 0,
              "ticks": ""
             }
            },
            "type": "scatterpolar"
           }
          ],
          "scatterpolargl": [
           {
            "marker": {
             "colorbar": {
              "outlinewidth": 0,
              "ticks": ""
             }
            },
            "type": "scatterpolargl"
           }
          ],
          "scatterternary": [
           {
            "marker": {
             "colorbar": {
              "outlinewidth": 0,
              "ticks": ""
             }
            },
            "type": "scatterternary"
           }
          ],
          "surface": [
           {
            "colorbar": {
             "outlinewidth": 0,
             "ticks": ""
            },
            "colorscale": [
             [
              0,
              "#0d0887"
             ],
             [
              0.1111111111111111,
              "#46039f"
             ],
             [
              0.2222222222222222,
              "#7201a8"
             ],
             [
              0.3333333333333333,
              "#9c179e"
             ],
             [
              0.4444444444444444,
              "#bd3786"
             ],
             [
              0.5555555555555556,
              "#d8576b"
             ],
             [
              0.6666666666666666,
              "#ed7953"
             ],
             [
              0.7777777777777778,
              "#fb9f3a"
             ],
             [
              0.8888888888888888,
              "#fdca26"
             ],
             [
              1,
              "#f0f921"
             ]
            ],
            "type": "surface"
           }
          ],
          "table": [
           {
            "cells": {
             "fill": {
              "color": "#EBF0F8"
             },
             "line": {
              "color": "white"
             }
            },
            "header": {
             "fill": {
              "color": "#C8D4E3"
             },
             "line": {
              "color": "white"
             }
            },
            "type": "table"
           }
          ]
         },
         "layout": {
          "annotationdefaults": {
           "arrowcolor": "#2a3f5f",
           "arrowhead": 0,
           "arrowwidth": 1
          },
          "autotypenumbers": "strict",
          "coloraxis": {
           "colorbar": {
            "outlinewidth": 0,
            "ticks": ""
           }
          },
          "colorscale": {
           "diverging": [
            [
             0,
             "#8e0152"
            ],
            [
             0.1,
             "#c51b7d"
            ],
            [
             0.2,
             "#de77ae"
            ],
            [
             0.3,
             "#f1b6da"
            ],
            [
             0.4,
             "#fde0ef"
            ],
            [
             0.5,
             "#f7f7f7"
            ],
            [
             0.6,
             "#e6f5d0"
            ],
            [
             0.7,
             "#b8e186"
            ],
            [
             0.8,
             "#7fbc41"
            ],
            [
             0.9,
             "#4d9221"
            ],
            [
             1,
             "#276419"
            ]
           ],
           "sequential": [
            [
             0,
             "#0d0887"
            ],
            [
             0.1111111111111111,
             "#46039f"
            ],
            [
             0.2222222222222222,
             "#7201a8"
            ],
            [
             0.3333333333333333,
             "#9c179e"
            ],
            [
             0.4444444444444444,
             "#bd3786"
            ],
            [
             0.5555555555555556,
             "#d8576b"
            ],
            [
             0.6666666666666666,
             "#ed7953"
            ],
            [
             0.7777777777777778,
             "#fb9f3a"
            ],
            [
             0.8888888888888888,
             "#fdca26"
            ],
            [
             1,
             "#f0f921"
            ]
           ],
           "sequentialminus": [
            [
             0,
             "#0d0887"
            ],
            [
             0.1111111111111111,
             "#46039f"
            ],
            [
             0.2222222222222222,
             "#7201a8"
            ],
            [
             0.3333333333333333,
             "#9c179e"
            ],
            [
             0.4444444444444444,
             "#bd3786"
            ],
            [
             0.5555555555555556,
             "#d8576b"
            ],
            [
             0.6666666666666666,
             "#ed7953"
            ],
            [
             0.7777777777777778,
             "#fb9f3a"
            ],
            [
             0.8888888888888888,
             "#fdca26"
            ],
            [
             1,
             "#f0f921"
            ]
           ]
          },
          "colorway": [
           "#636efa",
           "#EF553B",
           "#00cc96",
           "#ab63fa",
           "#FFA15A",
           "#19d3f3",
           "#FF6692",
           "#B6E880",
           "#FF97FF",
           "#FECB52"
          ],
          "font": {
           "color": "#2a3f5f"
          },
          "geo": {
           "bgcolor": "white",
           "lakecolor": "white",
           "landcolor": "#E5ECF6",
           "showlakes": true,
           "showland": true,
           "subunitcolor": "white"
          },
          "hoverlabel": {
           "align": "left"
          },
          "hovermode": "closest",
          "mapbox": {
           "style": "light"
          },
          "paper_bgcolor": "white",
          "plot_bgcolor": "#E5ECF6",
          "polar": {
           "angularaxis": {
            "gridcolor": "white",
            "linecolor": "white",
            "ticks": ""
           },
           "bgcolor": "#E5ECF6",
           "radialaxis": {
            "gridcolor": "white",
            "linecolor": "white",
            "ticks": ""
           }
          },
          "scene": {
           "xaxis": {
            "backgroundcolor": "#E5ECF6",
            "gridcolor": "white",
            "gridwidth": 2,
            "linecolor": "white",
            "showbackground": true,
            "ticks": "",
            "zerolinecolor": "white"
           },
           "yaxis": {
            "backgroundcolor": "#E5ECF6",
            "gridcolor": "white",
            "gridwidth": 2,
            "linecolor": "white",
            "showbackground": true,
            "ticks": "",
            "zerolinecolor": "white"
           },
           "zaxis": {
            "backgroundcolor": "#E5ECF6",
            "gridcolor": "white",
            "gridwidth": 2,
            "linecolor": "white",
            "showbackground": true,
            "ticks": "",
            "zerolinecolor": "white"
           }
          },
          "shapedefaults": {
           "line": {
            "color": "#2a3f5f"
           }
          },
          "ternary": {
           "aaxis": {
            "gridcolor": "white",
            "linecolor": "white",
            "ticks": ""
           },
           "baxis": {
            "gridcolor": "white",
            "linecolor": "white",
            "ticks": ""
           },
           "bgcolor": "#E5ECF6",
           "caxis": {
            "gridcolor": "white",
            "linecolor": "white",
            "ticks": ""
           }
          },
          "title": {
           "x": 0.05
          },
          "xaxis": {
           "automargin": true,
           "gridcolor": "white",
           "linecolor": "white",
           "ticks": "",
           "title": {
            "standoff": 15
           },
           "zerolinecolor": "white",
           "zerolinewidth": 2
          },
          "yaxis": {
           "automargin": true,
           "gridcolor": "white",
           "linecolor": "white",
           "ticks": "",
           "title": {
            "standoff": 15
           },
           "zerolinecolor": "white",
           "zerolinewidth": 2
          }
         }
        },
        "xaxis": {
         "anchor": "y",
         "domain": [
          0,
          1
         ],
         "title": {
          "text": "income"
         }
        },
        "yaxis": {
         "anchor": "x",
         "domain": [
          0,
          1
         ],
         "title": {
          "text": "gdpp"
         }
        }
       }
      }
     },
     "metadata": {},
     "output_type": "display_data"
    }
   ],
   "source": [
    "# Scatterplot de Income e GDPP\n",
    "px.scatter(df_countries, x='income', y='gdpp', color='income_category', hover_data=['country'])"
   ]
  },
  {
   "cell_type": "code",
   "execution_count": 17,
   "metadata": {},
   "outputs": [],
   "source": [
    "# Gerar Matriz de Correlação\n",
    "matriz_correlacao_countries = df_countries.corr(numeric_only=True)"
   ]
  },
  {
   "cell_type": "code",
   "execution_count": 18,
   "metadata": {},
   "outputs": [
    {
     "data": {
      "text/plain": [
       "<Axes: >"
      ]
     },
     "execution_count": 18,
     "metadata": {},
     "output_type": "execute_result"
    },
    {
     "data": {
      "image/png": "[encoded data removed]",
      "text/plain": [
       "<Figure size 640x480 with 2 Axes>"
      ]
     },
     "metadata": {},
     "output_type": "display_data"
    }
   ],
   "source": [
    "# Plotar Matriz de Correlação\n",
    "sns.heatmap(matriz_correlacao_countries, vmin=-1, vmax=1, annot=True)"
   ]
  },
  {
   "cell_type": "markdown",
   "metadata": {},
   "source": [
    "### Treinar o algoritmo PCA"
   ]
  },
  {
   "cell_type": "code",
   "execution_count": 19,
   "metadata": {},
   "outputs": [],
   "source": [
    "# Selecionar as colunas para PCA\n",
    "X = df_countries.copy()\n",
    "\n",
    "# Remover colunas desnecessárias\n",
    "X.drop(columns=['country', 'income_category'], axis=1, inplace=True)"
   ]
  },
  {
   "cell_type": "code",
   "execution_count": 20,
   "metadata": {},
   "outputs": [],
   "source": [
    "# Separarando variáveis quantitativas\n",
    "numeric_features = ['child_mort', 'exports', 'health', 'imports', 'income', 'inflation', 'life_expec', 'total_fer', 'gdpp']"
   ]
  },
  {
   "cell_type": "code",
   "execution_count": 21,
   "metadata": {},
   "outputs": [],
   "source": [
    "# Definir transformações\n",
    "numeric_transformer = StandardScaler()"
   ]
  },
  {
   "cell_type": "code",
   "execution_count": 22,
   "metadata": {},
   "outputs": [],
   "source": [
    "# Criar Pre Processador de Transformações\n",
    "preprocessor = ColumnTransformer(\n",
    "  transformers=[\n",
    "    ('num', numeric_transformer, numeric_features)\n",
    "  ]\n",
    ")"
   ]
  },
  {
   "cell_type": "code",
   "execution_count": 23,
   "metadata": {},
   "outputs": [],
   "source": [
    "# Transformar os dados\n",
    "X_transformed = preprocessor.fit_transform(X)"
   ]
  },
  {
   "cell_type": "code",
   "execution_count": 24,
   "metadata": {},
   "outputs": [
    {
     "data": {
      "text/plain": [
       "array([[ 1.27936799, -1.13524796,  0.2742313 , ..., -1.6059239 ,\n",
       "         1.88970656, -0.67813658],\n",
       "       [-0.54431031, -0.48015711, -0.10017109, ...,  0.65049307,\n",
       "        -0.86538974, -0.48561903],\n",
       "       [-0.27918316, -0.10166017, -0.96529507, ...,  0.67294498,\n",
       "        -0.04612849, -0.46548008],\n",
       "       ...,\n",
       "       [-0.37829611,  1.12117608,  0.00524318, ...,  0.29126251,\n",
       "        -0.66718138, -0.63693336],\n",
       "       [ 0.43938573, -0.40736924, -0.59816262, ..., -0.33739098,\n",
       "         1.12990782, -0.63693336],\n",
       "       [ 1.1034425 , -0.15261168, -0.34007942, ..., -2.07741401,\n",
       "         1.61221484, -0.62876892]])"
      ]
     },
     "execution_count": 24,
     "metadata": {},
     "output_type": "execute_result"
    }
   ],
   "source": [
    "# Visualizar X_transformed\n",
    "X_transformed"
   ]
  },
  {
   "cell_type": "code",
   "execution_count": 25,
   "metadata": {},
   "outputs": [
    {
     "data": {
      "text/plain": [
       "array([[ 1.28101845, -0.30929073, -0.13299078, ..., -0.31162981,\n",
       "         0.6038062 ,  1.11986219],\n",
       "       [-0.30929073,  0.19023088,  0.05718309, ...,  0.14855132,\n",
       "        -0.14287309, -0.40453184],\n",
       "       [-0.13299078,  0.05718309,  0.3368898 , ...,  0.03260987,\n",
       "         0.28911912, -0.02412952],\n",
       "       ...,\n",
       "       [-0.31162981,  0.14855132,  0.03260987, ...,  0.5954005 ,\n",
       "        -0.08211639, -0.23881978],\n",
       "       [ 0.6038062 , -0.14287309,  0.28911912, ..., -0.08211639,\n",
       "         0.71221987,  0.6856765 ],\n",
       "       [ 1.11986219, -0.40453184, -0.02412952, ..., -0.23881978,\n",
       "         0.6856765 ,  1.231984  ]])"
      ]
     },
     "execution_count": 25,
     "metadata": {},
     "output_type": "execute_result"
    }
   ],
   "source": [
    "# Matriz de Covariância\n",
    "np.cov(X_transformed)"
   ]
  },
  {
   "cell_type": "code",
   "execution_count": 26,
   "metadata": {},
   "outputs": [],
   "source": [
    "# Criar modelo PCA\n",
    "modelo_pca = PCA(n_components=2)"
   ]
  },
  {
   "cell_type": "code",
   "execution_count": 27,
   "metadata": {},
   "outputs": [],
   "source": [
    "# Executar PCA\n",
    "X_pca = modelo_pca.fit_transform(X_transformed)"
   ]
  },
  {
   "cell_type": "code",
   "execution_count": 28,
   "metadata": {},
   "outputs": [],
   "source": [
    "# Gerar um dataframe com base nos componentes principais\n",
    "# df_pca = pd.DataFrame(X_pca, columns=['PC1', 'PC2', 'PC3'])\n",
    "df_pca = pd.DataFrame(X_pca, columns=['PC1', 'PC2'])"
   ]
  },
  {
   "cell_type": "code",
   "execution_count": 29,
   "metadata": {},
   "outputs": [
    {
     "data": {
      "text/html": [
       "<div>\n",
       "<style scoped>\n",
       "    .dataframe tbody tr th:only-of-type {\n",
       "        vertical-align: middle;\n",
       "    }\n",
       "\n",
       "    .dataframe tbody tr th {\n",
       "        vertical-align: top;\n",
       "    }\n",
       "\n",
       "    .dataframe thead th {\n",
       "        text-align: right;\n",
       "    }\n",
       "</style>\n",
       "<table border=\"1\" class=\"dataframe\">\n",
       "  <thead>\n",
       "    <tr style=\"text-align: right;\">\n",
       "      <th></th>\n",
       "      <th>PC1</th>\n",
       "      <th>PC2</th>\n",
       "    </tr>\n",
       "  </thead>\n",
       "  <tbody>\n",
       "    <tr>\n",
       "      <th>0</th>\n",
       "      <td>-2.898491</td>\n",
       "      <td>0.043830</td>\n",
       "    </tr>\n",
       "    <tr>\n",
       "      <th>1</th>\n",
       "      <td>0.435969</td>\n",
       "      <td>-0.602095</td>\n",
       "    </tr>\n",
       "    <tr>\n",
       "      <th>2</th>\n",
       "      <td>-0.294489</td>\n",
       "      <td>-0.393013</td>\n",
       "    </tr>\n",
       "    <tr>\n",
       "      <th>3</th>\n",
       "      <td>-2.941128</td>\n",
       "      <td>1.746346</td>\n",
       "    </tr>\n",
       "    <tr>\n",
       "      <th>4</th>\n",
       "      <td>1.038913</td>\n",
       "      <td>0.117437</td>\n",
       "    </tr>\n",
       "  </tbody>\n",
       "</table>\n",
       "</div>"
      ],
      "text/plain": [
       "        PC1       PC2\n",
       "0 -2.898491  0.043830\n",
       "1  0.435969 -0.602095\n",
       "2 -0.294489 -0.393013\n",
       "3 -2.941128  1.746346\n",
       "4  1.038913  0.117437"
      ]
     },
     "execution_count": 29,
     "metadata": {},
     "output_type": "execute_result"
    }
   ],
   "source": [
    "# Visualizar componentes principais\n",
    "df_pca.head(5)"
   ]
  },
  {
   "cell_type": "code",
   "execution_count": 30,
   "metadata": {},
   "outputs": [
    {
     "data": {
      "text/plain": [
       "165"
      ]
     },
     "execution_count": 30,
     "metadata": {},
     "output_type": "execute_result"
    }
   ],
   "source": [
    "# Verificar tamanho do Dataframe de PCA\n",
    "len(df_pca)"
   ]
  },
  {
   "cell_type": "code",
   "execution_count": 31,
   "metadata": {},
   "outputs": [],
   "source": [
    "# Incluir componentes principais no dataframe original\n",
    "df_countries['PC1'] = df_pca['PC1']\n",
    "df_countries['PC2'] = df_pca['PC2']\n",
    "# df_countries['PC3'] = df_pca['PC3']"
   ]
  },
  {
   "cell_type": "code",
   "execution_count": 32,
   "metadata": {},
   "outputs": [
    {
     "data": {
      "text/html": [
       "<div>\n",
       "<style scoped>\n",
       "    .dataframe tbody tr th:only-of-type {\n",
       "        vertical-align: middle;\n",
       "    }\n",
       "\n",
       "    .dataframe tbody tr th {\n",
       "        vertical-align: top;\n",
       "    }\n",
       "\n",
       "    .dataframe thead th {\n",
       "        text-align: right;\n",
       "    }\n",
       "</style>\n",
       "<table border=\"1\" class=\"dataframe\">\n",
       "  <thead>\n",
       "    <tr style=\"text-align: right;\">\n",
       "      <th></th>\n",
       "      <th>country</th>\n",
       "      <th>child_mort</th>\n",
       "      <th>exports</th>\n",
       "      <th>health</th>\n",
       "      <th>imports</th>\n",
       "      <th>income</th>\n",
       "      <th>inflation</th>\n",
       "      <th>life_expec</th>\n",
       "      <th>total_fer</th>\n",
       "      <th>gdpp</th>\n",
       "      <th>income_category</th>\n",
       "      <th>PC1</th>\n",
       "      <th>PC2</th>\n",
       "    </tr>\n",
       "  </thead>\n",
       "  <tbody>\n",
       "    <tr>\n",
       "      <th>0</th>\n",
       "      <td>Afghanistan</td>\n",
       "      <td>90.2</td>\n",
       "      <td>10.0</td>\n",
       "      <td>7.58</td>\n",
       "      <td>44.9</td>\n",
       "      <td>1610</td>\n",
       "      <td>9.44</td>\n",
       "      <td>56.2</td>\n",
       "      <td>5.82</td>\n",
       "      <td>553</td>\n",
       "      <td>Low income</td>\n",
       "      <td>-2.898491</td>\n",
       "      <td>0.043830</td>\n",
       "    </tr>\n",
       "    <tr>\n",
       "      <th>1</th>\n",
       "      <td>Albania</td>\n",
       "      <td>16.6</td>\n",
       "      <td>28.0</td>\n",
       "      <td>6.55</td>\n",
       "      <td>48.6</td>\n",
       "      <td>9930</td>\n",
       "      <td>4.49</td>\n",
       "      <td>76.3</td>\n",
       "      <td>1.65</td>\n",
       "      <td>4090</td>\n",
       "      <td>Upper middle income</td>\n",
       "      <td>0.435969</td>\n",
       "      <td>-0.602095</td>\n",
       "    </tr>\n",
       "    <tr>\n",
       "      <th>2</th>\n",
       "      <td>Algeria</td>\n",
       "      <td>27.3</td>\n",
       "      <td>38.4</td>\n",
       "      <td>4.17</td>\n",
       "      <td>31.4</td>\n",
       "      <td>12900</td>\n",
       "      <td>16.10</td>\n",
       "      <td>76.5</td>\n",
       "      <td>2.89</td>\n",
       "      <td>4460</td>\n",
       "      <td>Lower middle income</td>\n",
       "      <td>-0.294489</td>\n",
       "      <td>-0.393013</td>\n",
       "    </tr>\n",
       "    <tr>\n",
       "      <th>3</th>\n",
       "      <td>Angola</td>\n",
       "      <td>119.0</td>\n",
       "      <td>62.3</td>\n",
       "      <td>2.85</td>\n",
       "      <td>42.9</td>\n",
       "      <td>5900</td>\n",
       "      <td>22.40</td>\n",
       "      <td>60.1</td>\n",
       "      <td>6.16</td>\n",
       "      <td>3530</td>\n",
       "      <td>Lower middle income</td>\n",
       "      <td>-2.941128</td>\n",
       "      <td>1.746346</td>\n",
       "    </tr>\n",
       "    <tr>\n",
       "      <th>4</th>\n",
       "      <td>Antigua and Barbuda</td>\n",
       "      <td>10.3</td>\n",
       "      <td>45.5</td>\n",
       "      <td>6.03</td>\n",
       "      <td>58.9</td>\n",
       "      <td>19100</td>\n",
       "      <td>1.44</td>\n",
       "      <td>76.8</td>\n",
       "      <td>2.13</td>\n",
       "      <td>12200</td>\n",
       "      <td>High income</td>\n",
       "      <td>1.038913</td>\n",
       "      <td>0.117437</td>\n",
       "    </tr>\n",
       "  </tbody>\n",
       "</table>\n",
       "</div>"
      ],
      "text/plain": [
       "               country  child_mort  exports  health  imports  income  \\\n",
       "0          Afghanistan        90.2     10.0    7.58     44.9    1610   \n",
       "1              Albania        16.6     28.0    6.55     48.6    9930   \n",
       "2              Algeria        27.3     38.4    4.17     31.4   12900   \n",
       "3               Angola       119.0     62.3    2.85     42.9    5900   \n",
       "4  Antigua and Barbuda        10.3     45.5    6.03     58.9   19100   \n",
       "\n",
       "   inflation  life_expec  total_fer   gdpp      income_category       PC1  \\\n",
       "0       9.44        56.2       5.82    553           Low income -2.898491   \n",
       "1       4.49        76.3       1.65   4090  Upper middle income  0.435969   \n",
       "2      16.10        76.5       2.89   4460  Lower middle income -0.294489   \n",
       "3      22.40        60.1       6.16   3530  Lower middle income -2.941128   \n",
       "4       1.44        76.8       2.13  12200          High income  1.038913   \n",
       "\n",
       "        PC2  \n",
       "0  0.043830  \n",
       "1 -0.602095  \n",
       "2 -0.393013  \n",
       "3  1.746346  \n",
       "4  0.117437  "
      ]
     },
     "execution_count": 32,
     "metadata": {},
     "output_type": "execute_result"
    }
   ],
   "source": [
    "# Mostrar Dataframe original com Componentes Principais\n",
    "df_countries.head(5)"
   ]
  },
  {
   "cell_type": "markdown",
   "metadata": {},
   "source": [
    "### Visualizar Resultados"
   ]
  },
  {
   "cell_type": "code",
   "execution_count": 33,
   "metadata": {},
   "outputs": [
    {
     "name": "stdout",
     "output_type": "stream",
     "text": [
      "Autovetores:\n",
      "[4.18194258 1.55676483]\n",
      "\n",
      "Autovalores:\n",
      "[[-0.41944537  0.28242091  0.15068193  0.16069962  0.39721431 -0.20064752\n",
      "   0.42542863 -0.40370133  0.39213733]\n",
      " [ 0.18639458  0.61906392 -0.26537269  0.6623149   0.03301443  0.03814569\n",
      "  -0.21355639  0.15172601 -0.04196516]]\n"
     ]
    }
   ],
   "source": [
    "# Autovalores\n",
    "autovetores = modelo_pca.explained_variance_\n",
    "\n",
    "# Autovetores\n",
    "autovalores = modelo_pca.components_\n",
    "\n",
    "print(\"Autovetores:\")\n",
    "print(autovetores)\n",
    "print(\"\\nAutovalores:\")\n",
    "print(autovalores)"
   ]
  },
  {
   "cell_type": "code",
   "execution_count": 34,
   "metadata": {},
   "outputs": [],
   "source": [
    "# Mostrar Chart 3D com os componentes principais\n",
    "# fig = px.scatter_3d(df_countries, x='PC1', y='PC2', z='PC3', color='income_category', title='Visualização PCA', width=800, height=600, hover_data=['country'])\n",
    "# fig.show()"
   ]
  },
  {
   "cell_type": "code",
   "execution_count": 35,
   "metadata": {},
   "outputs": [
    {
     "data": {
      "application/vnd.plotly.v1+json": {
       "config": {
        "plotlyServerURL": "https://plot.ly"
       },
       "data": [
        {
         "customdata": [
          [
           "Afghanistan"
          ],
          [
           "Burkina Faso"
          ],
          [
           "Burundi"
          ],
          [
           "Central African Republic"
          ],
          [
           "Chad"
          ],
          [
           "Congo Dem. Rep."
          ],
          [
           "Eritrea"
          ],
          [
           "Gambia"
          ],
          [
           "Guinea-Bissau"
          ],
          [
           "Liberia"
          ],
          [
           "Madagascar"
          ],
          [
           "Malawi"
          ],
          [
           "Mali"
          ],
          [
           "Mozambique"
          ],
          [
           "Niger"
          ],
          [
           "Rwanda"
          ],
          [
           "Sierra Leone"
          ],
          [
           "Sudan"
          ],
          [
           "Togo"
          ],
          [
           "Uganda"
          ],
          [
           "Yemen"
          ]
         ],
         "hovertemplate": "income_category=Low income<br>PC1=%{x}<br>PC2=%{y}<br>country=%{customdata[0]}<extra></extra>",
         "legendgroup": "Low income",
         "marker": {
          "color": "#636efa",
          "symbol": "circle"
         },
         "mode": "markers",
         "name": "Low income",
         "orientation": "v",
         "showlegend": true,
         "type": "scatter",
         "x": [
          -2.898490769252384,
          -3.1033238206419775,
          -2.8890748913798783,
          -3.9339629262532405,
          -3.5378470612401496,
          -3.177021235158956,
          -2.4640774867318185,
          -2.1957615472053003,
          -2.809855692310718,
          -1.7592902135524848,
          -2.1242186024052216,
          -2.9692265942698963,
          -3.389318607407586,
          -2.9043124176691246,
          -3.4246165255582386,
          -1.6604128123753088,
          -3.3772533732498298,
          -2.323220495586789,
          -1.976622774742041,
          -2.842791629203895,
          -1.8998035592532427
         ],
         "xaxis": "x",
         "y": [
          0.043830035561565055,
          -0.014111671237769727,
          -0.4906711840356293,
          0.31735415825295593,
          1.2379706822570546,
          1.0431123677731722,
          -0.5979632028009292,
          0.17782316535258103,
          -0.177954772223977,
          0.9388778187981105,
          0.3328259472556797,
          0.18735518293174894,
          0.5056394279140648,
          0.8494257465659196,
          0.8970997807320236,
          -1.0828959630577437,
          -0.3027545026093977,
          -0.7351665977774877,
          0.8711956436084007,
          -0.4006560025467829,
          -0.0483607357400035
         ],
         "yaxis": "y"
        },
        {
         "customdata": [
          [
           "Albania"
          ],
          [
           "Argentina"
          ],
          [
           "Armenia"
          ],
          [
           "Azerbaijan"
          ],
          [
           "Belarus"
          ],
          [
           "Belize"
          ],
          [
           "Bosnia and Herzegovina"
          ],
          [
           "Botswana"
          ],
          [
           "Brazil"
          ],
          [
           "Bulgaria"
          ],
          [
           "China"
          ],
          [
           "Colombia"
          ],
          [
           "Costa Rica"
          ],
          [
           "Dominican Republic"
          ],
          [
           "Ecuador"
          ],
          [
           "El Salvador"
          ],
          [
           "Equatorial Guinea"
          ],
          [
           "Fiji"
          ],
          [
           "Gabon"
          ],
          [
           "Georgia"
          ],
          [
           "Grenada"
          ],
          [
           "Guatemala"
          ],
          [
           "Indonesia"
          ],
          [
           "Iraq"
          ],
          [
           "Jamaica"
          ],
          [
           "Kazakhstan"
          ],
          [
           "Libya"
          ],
          [
           "Malaysia"
          ],
          [
           "Maldives"
          ],
          [
           "Mauritius"
          ],
          [
           "Moldova"
          ],
          [
           "Montenegro"
          ],
          [
           "Namibia"
          ],
          [
           "Paraguay"
          ],
          [
           "Peru"
          ],
          [
           "Russia"
          ],
          [
           "Serbia"
          ],
          [
           "South Africa"
          ],
          [
           "St. Vincent and the Grenadines"
          ],
          [
           "Suriname"
          ],
          [
           "Thailand"
          ],
          [
           "Tonga"
          ],
          [
           "Turkey"
          ],
          [
           "Turkmenistan"
          ]
         ],
         "hovertemplate": "income_category=Upper middle income<br>PC1=%{x}<br>PC2=%{y}<br>country=%{customdata[0]}<extra></extra>",
         "legendgroup": "Upper middle income",
         "marker": {
          "color": "#EF553B",
          "symbol": "circle"
         },
         "mode": "markers",
         "name": "Upper middle income",
         "orientation": "v",
         "showlegend": true,
         "type": "scatter",
         "x": [
          0.4359685213222645,
          0.00529976074514112,
          -0.09694990407604168,
          -0.18839957375263333,
          0.567879401149783,
          0.2213490666770026,
          1.0037584208921146,
          -0.8779625676994345,
          0.14285321301784407,
          0.9136825081252473,
          0.06212055925902182,
          0.13013023129779536,
          0.9372823128141139,
          -0.22360462388527722,
          0.012701340840973109,
          0.0924106862077057,
          -1.317609604217213,
          -0.18115365005493125,
          -1.4281155633020814,
          0.3221711288450014,
          0.1588645358806817,
          -0.6535260750914897,
          -0.9578077068087527,
          -1.0364943990096143,
          0.018482157720340026,
          -0.30825028548547423,
          0.8042152550654149,
          1.224097630633799,
          1.1102554159772242,
          0.9066662303886428,
          0.5053103920879092,
          1.0330450050302338,
          -1.0307341576430142,
          0.12110453892791914,
          -0.014597322956193613,
          0.1557906308835704,
          0.8340165193243313,
          -1.1810474048591721,
          0.034631091938090684,
          0.17270663159990415,
          0.9278401074758339,
          -0.7416299995645099,
          0.4031772613916827,
          -0.4537387774606816
         ],
         "xaxis": "x",
         "y": [
          -0.6020952022254099,
          -1.7135152378048384,
          -0.5557497397568749,
          -0.3644241068216342,
          0.5718955752276114,
          0.669777290215029,
          -1.0326882754543774,
          0.4212005793624563,
          -2.1515752331523026,
          0.0007677341809146866,
          -1.1723827224365155,
          -1.7821021619877144,
          -1.3745086034694367,
          -0.8884566619044959,
          -1.0543137406576744,
          -0.5984136407972231,
          2.4317009580593836,
          1.0479857287469831,
          0.3735661048343363,
          -0.5488247346237445,
          -0.464306330266752,
          -0.6378575730817605,
          -0.6696496354940519,
          -0.2693196305057172,
          -0.21975811971771209,
          -0.16218326283430387,
          0.45710919832277097,
          1.6185944663245615,
          0.989320565145708,
          0.3892657612597782,
          0.11618936938295396,
          -0.3051640558373508,
          0.9467978694263923,
          0.3527095118470285,
          -1.0742219057608553,
          -1.0116144998343088,
          -0.9036063978866145,
          -0.6040765951425356,
          -0.024593398103308142,
          -0.1005658290006962,
          0.8345536276382564,
          -0.11663518057545763,
          -1.4006637187963737,
          1.2847740360692652
         ],
         "yaxis": "y"
        },
        {
         "customdata": [
          [
           "Algeria"
          ],
          [
           "Angola"
          ],
          [
           "Bangladesh"
          ],
          [
           "Benin"
          ],
          [
           "Bhutan"
          ],
          [
           "Bolivia"
          ],
          [
           "Cambodia"
          ],
          [
           "Cameroon"
          ],
          [
           "Cape Verde"
          ],
          [
           "Comoros"
          ],
          [
           "Congo Rep."
          ],
          [
           "Cote d'Ivoire"
          ],
          [
           "Egypt"
          ],
          [
           "Ghana"
          ],
          [
           "Guinea"
          ],
          [
           "Haiti"
          ],
          [
           "India"
          ],
          [
           "Iran"
          ],
          [
           "Jordan"
          ],
          [
           "Kenya"
          ],
          [
           "Kiribati"
          ],
          [
           "Kyrgyz Republic"
          ],
          [
           "Lao"
          ],
          [
           "Lebanon"
          ],
          [
           "Lesotho"
          ],
          [
           "Mauritania"
          ],
          [
           "Micronesia"
          ],
          [
           "Mongolia"
          ],
          [
           "Morocco"
          ],
          [
           "Myanmar"
          ],
          [
           "Nepal"
          ],
          [
           "Nigeria"
          ],
          [
           "Pakistan"
          ],
          [
           "Philippines"
          ],
          [
           "Samoa"
          ],
          [
           "Senegal"
          ],
          [
           "Solomon Islands"
          ],
          [
           "Sri Lanka"
          ],
          [
           "Tajikistan"
          ],
          [
           "Tanzania"
          ],
          [
           "Timor-Leste"
          ],
          [
           "Tunisia"
          ],
          [
           "Ukraine"
          ],
          [
           "Uzbekistan"
          ],
          [
           "Vanuatu"
          ],
          [
           "Vietnam"
          ],
          [
           "Zambia"
          ]
         ],
         "hovertemplate": "income_category=Lower middle income<br>PC1=%{x}<br>PC2=%{y}<br>country=%{customdata[0]}<extra></extra>",
         "legendgroup": "Lower middle income",
         "marker": {
          "color": "#00cc96",
          "symbol": "circle"
         },
         "mode": "markers",
         "name": "Lower middle income",
         "orientation": "v",
         "showlegend": true,
         "type": "scatter",
         "x": [
          -0.2944891953765346,
          -2.9411276241114668,
          -1.112955494385928,
          -2.646990222148112,
          -0.15098286879068792,
          -0.7893886868479623,
          -0.5707925697319444,
          -2.78310509652753,
          -0.1413456247758655,
          -2.074741847675348,
          -1.7378305205872115,
          -2.5650607089993684,
          -0.8443712660947756,
          -2.054957157600531,
          -2.9657278855211926,
          -4.3813496533928635,
          -1.3343279666259273,
          -0.010261656646464877,
          0.15920406098882264,
          -1.8539561887551739,
          -1.220412602344349,
          -0.3398981627026879,
          -1.5199734722745273,
          1.179502140371797,
          -1.7868124843087587,
          -1.960793070329827,
          -0.37034451005679236,
          -0.9852392076616983,
          -0.21873164533035208,
          -1.8217346805758687,
          -1.30698281863962,
          -5.030695843871173,
          -2.350063907451174,
          -0.7708701392822248,
          -0.5488541787201742,
          -1.8916391465525273,
          -0.7993342764525891,
          -0.5912332682598406,
          -1.2418478010859144,
          -2.54109666860179,
          -2.385669054034206,
          0.6067689270079828,
          0.29506478229886013,
          -0.8589754376187724,
          -0.8067898607222893,
          0.4905173964592033,
          -2.8577485720701685
         ],
         "xaxis": "x",
         "y": [
          -0.3930131265209512,
          1.7463458714422555,
          -0.9490170688973889,
          0.3628391909718641,
          0.7590784871466568,
          -0.1119627668052863,
          0.8546593449663632,
          0.02079417735470646,
          0.3218631570540184,
          0.3020554568915717,
          2.2323867302048885,
          1.1582859078985566,
          -0.7983589523862311,
          0.3950352718121264,
          0.7298245595536762,
          1.6274856859956208,
          -0.5260620635011107,
          -1.2754176412251275,
          0.5199834627111649,
          -0.21182536677899014,
          0.2538121939716062,
          1.280920014709304,
          0.5364803047142594,
          -0.2876406368150799,
          1.9084712322374937,
          1.4117432391184586,
          -0.013400710202662303,
          0.6633239702515634,
          -0.30862319796301146,
          -1.5884624114910646,
          -0.7634888906736097,
          0.3162657280833875,
          -0.4553522281141817,
          -0.10115141956667077,
          -0.0652908029208101,
          0.03885325645847314,
          1.242520568384504,
          -0.8957252938256651,
          -0.03133916202050105,
          -0.24002282546179743,
          -1.135364119054654,
          0.15791130086774155,
          -0.08594782463311537,
          -0.6168885807153188,
          0.600883604516743,
          1.3908918741961809,
          0.47505104918116625
         ],
         "yaxis": "y"
        },
        {
         "customdata": [
          [
           "Antigua and Barbuda"
          ],
          [
           "Australia"
          ],
          [
           "Austria"
          ],
          [
           "Bahamas"
          ],
          [
           "Bahrain"
          ],
          [
           "Barbados"
          ],
          [
           "Belgium"
          ],
          [
           "Brunei"
          ],
          [
           "Canada"
          ],
          [
           "Chile"
          ],
          [
           "Croatia"
          ],
          [
           "Cyprus"
          ],
          [
           "Czech Republic"
          ],
          [
           "Denmark"
          ],
          [
           "Estonia"
          ],
          [
           "Finland"
          ],
          [
           "France"
          ],
          [
           "Germany"
          ],
          [
           "Greece"
          ],
          [
           "Guyana"
          ],
          [
           "Hungary"
          ],
          [
           "Iceland"
          ],
          [
           "Ireland"
          ],
          [
           "Israel"
          ],
          [
           "Italy"
          ],
          [
           "Japan"
          ],
          [
           "Kuwait"
          ],
          [
           "Latvia"
          ],
          [
           "Lithuania"
          ],
          [
           "Luxembourg"
          ],
          [
           "Malta"
          ],
          [
           "Netherlands"
          ],
          [
           "New Zealand"
          ],
          [
           "Norway"
          ],
          [
           "Oman"
          ],
          [
           "Panama"
          ],
          [
           "Poland"
          ],
          [
           "Portugal"
          ],
          [
           "Qatar"
          ],
          [
           "Romania"
          ],
          [
           "Saudi Arabia"
          ],
          [
           "Seychelles"
          ],
          [
           "Singapore"
          ],
          [
           "Slovak Republic"
          ],
          [
           "Slovenia"
          ],
          [
           "South Korea"
          ],
          [
           "Spain"
          ],
          [
           "Sweden"
          ],
          [
           "Switzerland"
          ],
          [
           "United Arab Emirates"
          ],
          [
           "United Kingdom"
          ],
          [
           "United States"
          ],
          [
           "Uruguay"
          ]
         ],
         "hovertemplate": "income_category=High income<br>PC1=%{x}<br>PC2=%{y}<br>country=%{customdata[0]}<extra></extra>",
         "legendgroup": "High income",
         "marker": {
          "color": "#ab63fa",
          "symbol": "circle"
         },
         "mode": "markers",
         "name": "High income",
         "orientation": "v",
         "showlegend": true,
         "type": "scatter",
         "x": [
          1.0389133487131197,
          2.3398302490399168,
          2.9670457908659835,
          1.275615856216014,
          1.6608522484699528,
          1.088807178669336,
          3.1331653577652023,
          2.4289392652604582,
          2.537460147764598,
          0.9467226759360751,
          1.1553350442834973,
          2.171538443192838,
          2.0559610999495437,
          2.999462582437049,
          1.659047221228391,
          2.4565162781772014,
          2.252727255225017,
          2.6673851003548874,
          1.7826700584024993,
          -0.3164195580222994,
          1.8372534440470611,
          2.469807726024719,
          3.660843522427701,
          1.4865311549654634,
          2.166514845691694,
          2.269805754699774,
          2.4428173474434387,
          1.1969706304941963,
          1.410987193475702,
          6.873711988421935,
          3.6606562509924894,
          3.368642099437384,
          1.8127570459240365,
          3.700705825618663,
          1.107340726692052,
          1.1651990341834195,
          1.2225149566011133,
          1.81695523878614,
          4.212215518333035,
          0.578791694043614,
          0.8357143703688322,
          1.6105750907671825,
          5.7528546655131345,
          2.029395366559932,
          2.280196478913428,
          1.9154623399629351,
          2.021377571337663,
          2.8120952456274537,
          4.074261951201809,
          2.403488029478834,
          2.0667724730071066,
          2.637020767989,
          0.6209478392503376
         ],
         "xaxis": "x",
         "y": [
          0.1174368410244827,
          -1.9875378365018694,
          -0.7614146909812496,
          -0.6907027829200252,
          0.5961002429662614,
          -0.5185499008778758,
          0.6313891514347644,
          0.14564474165538052,
          -1.7431298362347274,
          -1.0615664494272437,
          -0.8695549304774512,
          -0.0007704881952403072,
          0.38729076916439575,
          -0.8821905082971705,
          1.006072387164485,
          -1.0897333060942676,
          -1.8988792576657352,
          -1.3048446251451062,
          -1.795826629426031,
          1.3303211180168781,
          1.2461846095255353,
          -0.6295985089501672,
          1.686808938544797,
          -1.0554820354639058,
          -1.7892140687699267,
          -2.45396031708595,
          0.19086311349406265,
          0.12751830077155635,
          0.7047981815585734,
          4.872927632982964,
          4.720880361494464,
          0.078571179777549,
          -1.5959153156843853,
          -1.4129328728490445,
          0.5838713686222906,
          1.074810109633093,
          -0.6782520585396657,
          -1.4912014425103561,
          -0.06703610019400971,
          -0.6404022084391054,
          -0.09564747611519417,
          2.8940549219028577,
          6.685444112954696,
          1.0057970898870112,
          0.15266789926137184,
          -0.4245018304630409,
          -1.8043921846618804,
          -0.9265991640169889,
          -0.44889700996092424,
          1.228816353391451,
          -1.5507125616519115,
          -3.0660909178693303,
          -1.4410601679672126
         ],
         "yaxis": "y"
        }
       ],
       "layout": {
        "legend": {
         "title": {
          "text": "income_category"
         },
         "tracegroupgap": 0
        },
        "margin": {
         "t": 60
        },
        "template": {
         "data": {
          "bar": [
           {
            "error_x": {
             "color": "#2a3f5f"
            },
            "error_y": {
             "color": "#2a3f5f"
            },
            "marker": {
             "line": {
              "color": "#E5ECF6",
              "width": 0.5
             },
             "pattern": {
              "fillmode": "overlay",
              "size": 10,
              "solidity": 0.2
             }
            },
            "type": "bar"
           }
          ],
          "barpolar": [
           {
            "marker": {
             "line": {
              "color": "#E5ECF6",
              "width": 0.5
             },
             "pattern": {
              "fillmode": "overlay",
              "size": 10,
              "solidity": 0.2
             }
            },
            "type": "barpolar"
           }
          ],
          "carpet": [
           {
            "aaxis": {
             "endlinecolor": "#2a3f5f",
             "gridcolor": "white",
             "linecolor": "white",
             "minorgridcolor": "white",
             "startlinecolor": "#2a3f5f"
            },
            "baxis": {
             "endlinecolor": "#2a3f5f",
             "gridcolor": "white",
             "linecolor": "white",
             "minorgridcolor": "white",
             "startlinecolor": "#2a3f5f"
            },
            "type": "carpet"
           }
          ],
          "choropleth": [
           {
            "colorbar": {
             "outlinewidth": 0,
             "ticks": ""
            },
            "type": "choropleth"
           }
          ],
          "contour": [
           {
            "colorbar": {
             "outlinewidth": 0,
             "ticks": ""
            },
            "colorscale": [
             [
              0,
              "#0d0887"
             ],
             [
              0.1111111111111111,
              "#46039f"
             ],
             [
              0.2222222222222222,
              "#7201a8"
             ],
             [
              0.3333333333333333,
              "#9c179e"
             ],
             [
              0.4444444444444444,
              "#bd3786"
             ],
             [
              0.5555555555555556,
              "#d8576b"
             ],
             [
              0.6666666666666666,
              "#ed7953"
             ],
             [
              0.7777777777777778,
              "#fb9f3a"
             ],
             [
              0.8888888888888888,
              "#fdca26"
             ],
             [
              1,
              "#f0f921"
             ]
            ],
            "type": "contour"
           }
          ],
          "contourcarpet": [
           {
            "colorbar": {
             "outlinewidth": 0,
             "ticks": ""
            },
            "type": "contourcarpet"
           }
          ],
          "heatmap": [
           {
            "colorbar": {
             "outlinewidth": 0,
             "ticks": ""
            },
            "colorscale": [
             [
              0,
              "#0d0887"
             ],
             [
              0.1111111111111111,
              "#46039f"
             ],
             [
              0.2222222222222222,
              "#7201a8"
             ],
             [
              0.3333333333333333,
              "#9c179e"
             ],
             [
              0.4444444444444444,
              "#bd3786"
             ],
             [
              0.5555555555555556,
              "#d8576b"
             ],
             [
              0.6666666666666666,
              "#ed7953"
             ],
             [
              0.7777777777777778,
              "#fb9f3a"
             ],
             [
              0.8888888888888888,
              "#fdca26"
             ],
             [
              1,
              "#f0f921"
             ]
            ],
            "type": "heatmap"
           }
          ],
          "heatmapgl": [
           {
            "colorbar": {
             "outlinewidth": 0,
             "ticks": ""
            },
            "colorscale": [
             [
              0,
              "#0d0887"
             ],
             [
              0.1111111111111111,
              "#46039f"
             ],
             [
              0.2222222222222222,
              "#7201a8"
             ],
             [
              0.3333333333333333,
              "#9c179e"
             ],
             [
              0.4444444444444444,
              "#bd3786"
             ],
             [
              0.5555555555555556,
              "#d8576b"
             ],
             [
              0.6666666666666666,
              "#ed7953"
             ],
             [
              0.7777777777777778,
              "#fb9f3a"
             ],
             [
              0.8888888888888888,
              "#fdca26"
             ],
             [
              1,
              "#f0f921"
             ]
            ],
            "type": "heatmapgl"
           }
          ],
          "histogram": [
           {
            "marker": {
             "pattern": {
              "fillmode": "overlay",
              "size": 10,
              "solidity": 0.2
             }
            },
            "type": "histogram"
           }
          ],
          "histogram2d": [
           {
            "colorbar": {
             "outlinewidth": 0,
             "ticks": ""
            },
            "colorscale": [
             [
              0,
              "#0d0887"
             ],
             [
              0.1111111111111111,
              "#46039f"
             ],
             [
              0.2222222222222222,
              "#7201a8"
             ],
             [
              0.3333333333333333,
              "#9c179e"
             ],
             [
              0.4444444444444444,
              "#bd3786"
             ],
             [
              0.5555555555555556,
              "#d8576b"
             ],
             [
              0.6666666666666666,
              "#ed7953"
             ],
             [
              0.7777777777777778,
              "#fb9f3a"
             ],
             [
              0.8888888888888888,
              "#fdca26"
             ],
             [
              1,
              "#f0f921"
             ]
            ],
            "type": "histogram2d"
           }
          ],
          "histogram2dcontour": [
           {
            "colorbar": {
             "outlinewidth": 0,
             "ticks": ""
            },
            "colorscale": [
             [
              0,
              "#0d0887"
             ],
             [
              0.1111111111111111,
              "#46039f"
             ],
             [
              0.2222222222222222,
              "#7201a8"
             ],
             [
              0.3333333333333333,
              "#9c179e"
             ],
             [
              0.4444444444444444,
              "#bd3786"
             ],
             [
              0.5555555555555556,
              "#d8576b"
             ],
             [
              0.6666666666666666,
              "#ed7953"
             ],
             [
              0.7777777777777778,
              "#fb9f3a"
             ],
             [
              0.8888888888888888,
              "#fdca26"
             ],
             [
              1,
              "#f0f921"
             ]
            ],
            "type": "histogram2dcontour"
           }
          ],
          "mesh3d": [
           {
            "colorbar": {
             "outlinewidth": 0,
             "ticks": ""
            },
            "type": "mesh3d"
           }
          ],
          "parcoords": [
           {
            "line": {
             "colorbar": {
              "outlinewidth": 0,
              "ticks": ""
             }
            },
            "type": "parcoords"
           }
          ],
          "pie": [
           {
            "automargin": true,
            "type": "pie"
           }
          ],
          "scatter": [
           {
            "fillpattern": {
             "fillmode": "overlay",
             "size": 10,
             "solidity": 0.2
            },
            "type": "scatter"
           }
          ],
          "scatter3d": [
           {
            "line": {
             "colorbar": {
              "outlinewidth": 0,
              "ticks": ""
             }
            },
            "marker": {
             "colorbar": {
              "outlinewidth": 0,
              "ticks": ""
             }
            },
            "type": "scatter3d"
           }
          ],
          "scattercarpet": [
           {
            "marker": {
             "colorbar": {
              "outlinewidth": 0,
              "ticks": ""
             }
            },
            "type": "scattercarpet"
           }
          ],
          "scattergeo": [
           {
            "marker": {
             "colorbar": {
              "outlinewidth": 0,
              "ticks": ""
             }
            },
            "type": "scattergeo"
           }
          ],
          "scattergl": [
           {
            "marker": {
             "colorbar": {
              "outlinewidth": 0,
              "ticks": ""
             }
            },
            "type": "scattergl"
           }
          ],
          "scattermapbox": [
           {
            "marker": {
             "colorbar": {
              "outlinewidth": 0,
              "ticks": ""
             }
            },
            "type": "scattermapbox"
           }
          ],
          "scatterpolar": [
           {
            "marker": {
             "colorbar": {
              "outlinewidth": 0,
              "ticks": ""
             }
            },
            "type": "scatterpolar"
           }
          ],
          "scatterpolargl": [
           {
            "marker": {
             "colorbar": {
              "outlinewidth": 0,
              "ticks": ""
             }
            },
            "type": "scatterpolargl"
           }
          ],
          "scatterternary": [
           {
            "marker": {
             "colorbar": {
              "outlinewidth": 0,
              "ticks": ""
             }
            },
            "type": "scatterternary"
           }
          ],
          "surface": [
           {
            "colorbar": {
             "outlinewidth": 0,
             "ticks": ""
            },
            "colorscale": [
             [
              0,
              "#0d0887"
             ],
             [
              0.1111111111111111,
              "#46039f"
             ],
             [
              0.2222222222222222,
              "#7201a8"
             ],
             [
              0.3333333333333333,
              "#9c179e"
             ],
             [
              0.4444444444444444,
              "#bd3786"
             ],
             [
              0.5555555555555556,
              "#d8576b"
             ],
             [
              0.6666666666666666,
              "#ed7953"
             ],
             [
              0.7777777777777778,
              "#fb9f3a"
             ],
             [
              0.8888888888888888,
              "#fdca26"
             ],
             [
              1,
              "#f0f921"
             ]
            ],
            "type": "surface"
           }
          ],
          "table": [
           {
            "cells": {
             "fill": {
              "color": "#EBF0F8"
             },
             "line": {
              "color": "white"
             }
            },
            "header": {
             "fill": {
              "color": "#C8D4E3"
             },
             "line": {
              "color": "white"
             }
            },
            "type": "table"
           }
          ]
         },
         "layout": {
          "annotationdefaults": {
           "arrowcolor": "#2a3f5f",
           "arrowhead": 0,
           "arrowwidth": 1
          },
          "autotypenumbers": "strict",
          "coloraxis": {
           "colorbar": {
            "outlinewidth": 0,
            "ticks": ""
           }
          },
          "colorscale": {
           "diverging": [
            [
             0,
             "#8e0152"
            ],
            [
             0.1,
             "#c51b7d"
            ],
            [
             0.2,
             "#de77ae"
            ],
            [
             0.3,
             "#f1b6da"
            ],
            [
             0.4,
             "#fde0ef"
            ],
            [
             0.5,
             "#f7f7f7"
            ],
            [
             0.6,
             "#e6f5d0"
            ],
            [
             0.7,
             "#b8e186"
            ],
            [
             0.8,
             "#7fbc41"
            ],
            [
             0.9,
             "#4d9221"
            ],
            [
             1,
             "#276419"
            ]
           ],
           "sequential": [
            [
             0,
             "#0d0887"
            ],
            [
             0.1111111111111111,
             "#46039f"
            ],
            [
             0.2222222222222222,
             "#7201a8"
            ],
            [
             0.3333333333333333,
             "#9c179e"
            ],
            [
             0.4444444444444444,
             "#bd3786"
            ],
            [
             0.5555555555555556,
             "#d8576b"
            ],
            [
             0.6666666666666666,
             "#ed7953"
            ],
            [
             0.7777777777777778,
             "#fb9f3a"
            ],
            [
             0.8888888888888888,
             "#fdca26"
            ],
            [
             1,
             "#f0f921"
            ]
           ],
           "sequentialminus": [
            [
             0,
             "#0d0887"
            ],
            [
             0.1111111111111111,
             "#46039f"
            ],
            [
             0.2222222222222222,
             "#7201a8"
            ],
            [
             0.3333333333333333,
             "#9c179e"
            ],
            [
             0.4444444444444444,
             "#bd3786"
            ],
            [
             0.5555555555555556,
             "#d8576b"
            ],
            [
             0.6666666666666666,
             "#ed7953"
            ],
            [
             0.7777777777777778,
             "#fb9f3a"
            ],
            [
             0.8888888888888888,
             "#fdca26"
            ],
            [
             1,
             "#f0f921"
            ]
           ]
          },
          "colorway": [
           "#636efa",
           "#EF553B",
           "#00cc96",
           "#ab63fa",
           "#FFA15A",
           "#19d3f3",
           "#FF6692",
           "#B6E880",
           "#FF97FF",
           "#FECB52"
          ],
          "font": {
           "color": "#2a3f5f"
          },
          "geo": {
           "bgcolor": "white",
           "lakecolor": "white",
           "landcolor": "#E5ECF6",
           "showlakes": true,
           "showland": true,
           "subunitcolor": "white"
          },
          "hoverlabel": {
           "align": "left"
          },
          "hovermode": "closest",
          "mapbox": {
           "style": "light"
          },
          "paper_bgcolor": "white",
          "plot_bgcolor": "#E5ECF6",
          "polar": {
           "angularaxis": {
            "gridcolor": "white",
            "linecolor": "white",
            "ticks": ""
           },
           "bgcolor": "#E5ECF6",
           "radialaxis": {
            "gridcolor": "white",
            "linecolor": "white",
            "ticks": ""
           }
          },
          "scene": {
           "xaxis": {
            "backgroundcolor": "#E5ECF6",
            "gridcolor": "white",
            "gridwidth": 2,
            "linecolor": "white",
            "showbackground": true,
            "ticks": "",
            "zerolinecolor": "white"
           },
           "yaxis": {
            "backgroundcolor": "#E5ECF6",
            "gridcolor": "white",
            "gridwidth": 2,
            "linecolor": "white",
            "showbackground": true,
            "ticks": "",
            "zerolinecolor": "white"
           },
           "zaxis": {
            "backgroundcolor": "#E5ECF6",
            "gridcolor": "white",
            "gridwidth": 2,
            "linecolor": "white",
            "showbackground": true,
            "ticks": "",
            "zerolinecolor": "white"
           }
          },
          "shapedefaults": {
           "line": {
            "color": "#2a3f5f"
           }
          },
          "ternary": {
           "aaxis": {
            "gridcolor": "white",
            "linecolor": "white",
            "ticks": ""
           },
           "baxis": {
            "gridcolor": "white",
            "linecolor": "white",
            "ticks": ""
           },
           "bgcolor": "#E5ECF6",
           "caxis": {
            "gridcolor": "white",
            "linecolor": "white",
            "ticks": ""
           }
          },
          "title": {
           "x": 0.05
          },
          "xaxis": {
           "automargin": true,
           "gridcolor": "white",
           "linecolor": "white",
           "ticks": "",
           "title": {
            "standoff": 15
           },
           "zerolinecolor": "white",
           "zerolinewidth": 2
          },
          "yaxis": {
           "automargin": true,
           "gridcolor": "white",
           "linecolor": "white",
           "ticks": "",
           "title": {
            "standoff": 15
           },
           "zerolinecolor": "white",
           "zerolinewidth": 2
          }
         }
        },
        "xaxis": {
         "anchor": "y",
         "domain": [
          0,
          1
         ],
         "title": {
          "text": "PC1"
         }
        },
        "yaxis": {
         "anchor": "x",
         "domain": [
          0,
          1
         ],
         "title": {
          "text": "PC2"
         }
        }
       }
      }
     },
     "metadata": {},
     "output_type": "display_data"
    }
   ],
   "source": [
    "# Gráfico 2D (PCA com 2 componentes principais)\n",
    "px.scatter(df_countries, x='PC1', y='PC2', color='income_category',hover_data=['country'])"
   ]
  },
  {
   "cell_type": "code",
   "execution_count": 36,
   "metadata": {},
   "outputs": [],
   "source": [
    "# Reconstruir os dados com base no PCA\n",
    "X_recovered = modelo_pca.inverse_transform(X_pca)"
   ]
  },
  {
   "cell_type": "code",
   "execution_count": 37,
   "metadata": {},
   "outputs": [
    {
     "data": {
      "text/plain": [
       "9"
      ]
     },
     "execution_count": 37,
     "metadata": {},
     "output_type": "execute_result"
    }
   ],
   "source": [
    "# Visualizar Recovered\n",
    "X_recovered.shape[1]"
   ]
  },
  {
   "cell_type": "code",
   "execution_count": 38,
   "metadata": {},
   "outputs": [
    {
     "name": "stdout",
     "output_type": "stream",
     "text": [
      "Erro de Recontrução:  0.3662302934326459\n"
     ]
    }
   ],
   "source": [
    "# Calcular o erro de reconstrução\n",
    "reconstruction_error = mean_squared_error(X_transformed, X_recovered)\n",
    "print(\"Erro de Recontrução: \", reconstruction_error)"
   ]
  },
  {
   "cell_type": "markdown",
   "metadata": {},
   "source": [
    "### Salvar Modelo"
   ]
  },
  {
   "cell_type": "code",
   "execution_count": 39,
   "metadata": {},
   "outputs": [
    {
     "data": {
      "text/plain": [
       "['./preprocessor.pkl']"
      ]
     },
     "execution_count": 39,
     "metadata": {},
     "output_type": "execute_result"
    }
   ],
   "source": [
    "import joblib\n",
    "\n",
    "# Salvar Modelo\n",
    "joblib.dump(modelo_pca, './model.pkl')\n",
    "\n",
    "# Salvar Preprocessor\n",
    "joblib.dump(preprocessor, './preprocessor.pkl')"
   ]
  }
 ],
 "metadata": {
  "kernelspec": {
   "display_name": "PCA-U1EIIktn",
   "language": "python",
   "name": "python3"
  },
  "language_info": {
   "codemirror_mode": {
    "name": "ipython",
    "version": 3
   },
   "file_extension": ".py",
   "mimetype": "text/x-python",
   "name": "python",
   "nbconvert_exporter": "python",
   "pygments_lexer": "ipython3",
   "version": "3.10.12"
  }
 },
 "nbformat": 4,
 "nbformat_minor": 2
}
