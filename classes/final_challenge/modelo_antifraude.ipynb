{
 "cells": [
  {
   "cell_type": "markdown",
   "id": "72d3d607",
   "metadata": {},
   "source": [
    "# Sistema de Detecção de Fraudes em Transações"
   ]
  },
  {
   "cell_type": "markdown",
   "id": "36a05392",
   "metadata": {},
   "source": [
    "### Importar bibliotecas necessárias"
   ]
  },
  {
   "cell_type": "code",
   "execution_count": 1,
   "id": "d80e16d1",
   "metadata": {},
   "outputs": [
    {
     "name": "stderr",
     "output_type": "stream",
     "text": [
      "/home/emerson/.local/share/virtualenvs/final_challenge-EoF2KZun/lib/python3.11/site-packages/tqdm/auto.py:21: TqdmWarning: IProgress not found. Please update jupyter and ipywidgets. See https://ipywidgets.readthedocs.io/en/stable/user_install.html\n",
      "  from .autonotebook import tqdm as notebook_tqdm\n"
     ]
    }
   ],
   "source": [
    "# EDA e Visualização de Dados\n",
    "import pandas as pd\n",
    "import plotly.express as px\n",
    "from plotly.subplots import make_subplots\n",
    "import plotly.graph_objects as go\n",
    "import numpy as np\n",
    "import matplotlib.pyplot as plt\n",
    "import seaborn as sns\n",
    "from scipy.stats import f_oneway\n",
    "from colorama import Fore, Back, Style\n",
    "\n",
    "# Configurar formato de exibição para não usar notação científica\n",
    "pd.set_option('display.float_format', lambda x: '%.5f' % x)\n",
    "np.set_printoptions(suppress=True, precision=5)\n",
    "pd.set_option('display.max_rows', None)\n",
    "pd.set_option('display.max_columns', None)\n",
    "\n",
    "# ML\n",
    "from sklearn.model_selection import train_test_split, cross_val_score, StratifiedKFold, cross_validate\n",
    "from sklearn.metrics import classification_report, confusion_matrix, average_precision_score, precision_recall_curve\n",
    "\n",
    "from lightgbm import LGBMClassifier, Dataset\n",
    "import lightgbm as lgb\n",
    "\n",
    "# Otimização\n",
    "import optuna\n",
    "\n",
    "# Utilitários\n",
    "import joblib\n",
    "from datetime import datetime\n",
    "import math"
   ]
  },
  {
   "cell_type": "markdown",
   "id": "bbb6b424",
   "metadata": {},
   "source": [
    "### Abrir Base Transações"
   ]
  },
  {
   "cell_type": "code",
   "execution_count": 2,
   "id": "61a915f7",
   "metadata": {},
   "outputs": [],
   "source": [
    "df_transacoes = pd.read_csv('./datasets/transacoes.csv')"
   ]
  },
  {
   "cell_type": "markdown",
   "id": "246e4c35",
   "metadata": {},
   "source": [
    "### Visualizar primeiros e últimos registros"
   ]
  },
  {
   "cell_type": "code",
   "execution_count": 3,
   "id": "22de16e5",
   "metadata": {},
   "outputs": [
    {
     "name": "stdout",
     "output_type": "stream",
     "text": [
      "Primeiros registros:\n"
     ]
    },
    {
     "data": {
      "application/vnd.microsoft.datawrangler.viewer.v0+json": {
       "columns": [
        {
         "name": "index",
         "rawType": "int64",
         "type": "integer"
        },
        {
         "name": "ID_Transacao",
         "rawType": "object",
         "type": "string"
        },
        {
         "name": "ID_Cliente",
         "rawType": "object",
         "type": "string"
        },
        {
         "name": "Estabelecimento",
         "rawType": "object",
         "type": "string"
        },
        {
         "name": "Segmento",
         "rawType": "object",
         "type": "string"
        },
        {
         "name": "DataHora",
         "rawType": "object",
         "type": "string"
        },
        {
         "name": "Valor",
         "rawType": "float64",
         "type": "float"
        },
        {
         "name": "Fraude",
         "rawType": "int64",
         "type": "integer"
        }
       ],
       "conversionMethod": "pd.DataFrame",
       "ref": "b48ee657-d6ec-47b4-84e7-5dfff3f3d0fc",
       "rows": [
        [
         "0",
         "1ca88cf3-bd6d-438e-baff-861fa6c4a94e",
         "a2db9269-561a-4e64-868d-cd167dd44ab1",
         "Nogueira Pereira - ME",
         "Loja Online",
         "2024-11-09 21:06:16",
         "332.66",
         "0"
        ],
        [
         "1",
         "3d2481eb-c159-45c5-986e-fd524bf3a7be",
         "3b830d7e-0054-4943-96ce-84b85e2cd1e4",
         "Jesus",
         "Oficina Mecânica",
         "2023-06-22 05:26:52",
         "17.01",
         "0"
        ],
        [
         "2",
         "04151b5d-1d9c-49cd-8a09-2080bbcdeb1c",
         "f737388d-52fc-47eb-8b44-8082beb8cc59",
         "Dias S.A.",
         "Posto de Combustível",
         "2023-10-01 03:24:26",
         "279.88",
         "1"
        ],
        [
         "3",
         "ce10e2a4-59f1-49cf-adb1-abf6c01a08da",
         "2fe8fdfa-d89f-46eb-8862-04a6b171fd43",
         "Ribeiro",
         "Oficina Mecânica",
         "2024-06-30 22:17:53",
         "124.92",
         "0"
        ],
        [
         "4",
         "b02b67fc-f9fe-454d-85c9-ca75b18d062b",
         "f6b635ff-4212-4948-af85-0c49379d4e93",
         "Rezende",
         "Posto de Combustível",
         "2023-06-03 17:53:38",
         "15.17",
         "0"
        ]
       ],
       "shape": {
        "columns": 7,
        "rows": 5
       }
      },
      "text/html": [
       "<div>\n",
       "<style scoped>\n",
       "    .dataframe tbody tr th:only-of-type {\n",
       "        vertical-align: middle;\n",
       "    }\n",
       "\n",
       "    .dataframe tbody tr th {\n",
       "        vertical-align: top;\n",
       "    }\n",
       "\n",
       "    .dataframe thead th {\n",
       "        text-align: right;\n",
       "    }\n",
       "</style>\n",
       "<table border=\"1\" class=\"dataframe\">\n",
       "  <thead>\n",
       "    <tr style=\"text-align: right;\">\n",
       "      <th></th>\n",
       "      <th>ID_Transacao</th>\n",
       "      <th>ID_Cliente</th>\n",
       "      <th>Estabelecimento</th>\n",
       "      <th>Segmento</th>\n",
       "      <th>DataHora</th>\n",
       "      <th>Valor</th>\n",
       "      <th>Fraude</th>\n",
       "    </tr>\n",
       "  </thead>\n",
       "  <tbody>\n",
       "    <tr>\n",
       "      <th>0</th>\n",
       "      <td>1ca88cf3-bd6d-438e-baff-861fa6c4a94e</td>\n",
       "      <td>a2db9269-561a-4e64-868d-cd167dd44ab1</td>\n",
       "      <td>Nogueira Pereira - ME</td>\n",
       "      <td>Loja Online</td>\n",
       "      <td>2024-11-09 21:06:16</td>\n",
       "      <td>332.66000</td>\n",
       "      <td>0</td>\n",
       "    </tr>\n",
       "    <tr>\n",
       "      <th>1</th>\n",
       "      <td>3d2481eb-c159-45c5-986e-fd524bf3a7be</td>\n",
       "      <td>3b830d7e-0054-4943-96ce-84b85e2cd1e4</td>\n",
       "      <td>Jesus</td>\n",
       "      <td>Oficina Mecânica</td>\n",
       "      <td>2023-06-22 05:26:52</td>\n",
       "      <td>17.01000</td>\n",
       "      <td>0</td>\n",
       "    </tr>\n",
       "    <tr>\n",
       "      <th>2</th>\n",
       "      <td>04151b5d-1d9c-49cd-8a09-2080bbcdeb1c</td>\n",
       "      <td>f737388d-52fc-47eb-8b44-8082beb8cc59</td>\n",
       "      <td>Dias S.A.</td>\n",
       "      <td>Posto de Combustível</td>\n",
       "      <td>2023-10-01 03:24:26</td>\n",
       "      <td>279.88000</td>\n",
       "      <td>1</td>\n",
       "    </tr>\n",
       "    <tr>\n",
       "      <th>3</th>\n",
       "      <td>ce10e2a4-59f1-49cf-adb1-abf6c01a08da</td>\n",
       "      <td>2fe8fdfa-d89f-46eb-8862-04a6b171fd43</td>\n",
       "      <td>Ribeiro</td>\n",
       "      <td>Oficina Mecânica</td>\n",
       "      <td>2024-06-30 22:17:53</td>\n",
       "      <td>124.92000</td>\n",
       "      <td>0</td>\n",
       "    </tr>\n",
       "    <tr>\n",
       "      <th>4</th>\n",
       "      <td>b02b67fc-f9fe-454d-85c9-ca75b18d062b</td>\n",
       "      <td>f6b635ff-4212-4948-af85-0c49379d4e93</td>\n",
       "      <td>Rezende</td>\n",
       "      <td>Posto de Combustível</td>\n",
       "      <td>2023-06-03 17:53:38</td>\n",
       "      <td>15.17000</td>\n",
       "      <td>0</td>\n",
       "    </tr>\n",
       "  </tbody>\n",
       "</table>\n",
       "</div>"
      ],
      "text/plain": [
       "                           ID_Transacao                            ID_Cliente  \\\n",
       "0  1ca88cf3-bd6d-438e-baff-861fa6c4a94e  a2db9269-561a-4e64-868d-cd167dd44ab1   \n",
       "1  3d2481eb-c159-45c5-986e-fd524bf3a7be  3b830d7e-0054-4943-96ce-84b85e2cd1e4   \n",
       "2  04151b5d-1d9c-49cd-8a09-2080bbcdeb1c  f737388d-52fc-47eb-8b44-8082beb8cc59   \n",
       "3  ce10e2a4-59f1-49cf-adb1-abf6c01a08da  2fe8fdfa-d89f-46eb-8862-04a6b171fd43   \n",
       "4  b02b67fc-f9fe-454d-85c9-ca75b18d062b  f6b635ff-4212-4948-af85-0c49379d4e93   \n",
       "\n",
       "         Estabelecimento              Segmento             DataHora     Valor  \\\n",
       "0  Nogueira Pereira - ME           Loja Online  2024-11-09 21:06:16 332.66000   \n",
       "1                  Jesus      Oficina Mecânica  2023-06-22 05:26:52  17.01000   \n",
       "2              Dias S.A.  Posto de Combustível  2023-10-01 03:24:26 279.88000   \n",
       "3                Ribeiro      Oficina Mecânica  2024-06-30 22:17:53 124.92000   \n",
       "4                Rezende  Posto de Combustível  2023-06-03 17:53:38  15.17000   \n",
       "\n",
       "   Fraude  \n",
       "0       0  \n",
       "1       0  \n",
       "2       1  \n",
       "3       0  \n",
       "4       0  "
      ]
     },
     "metadata": {},
     "output_type": "display_data"
    },
    {
     "name": "stdout",
     "output_type": "stream",
     "text": [
      "\n",
      "Últimos registros:\n"
     ]
    },
    {
     "data": {
      "application/vnd.microsoft.datawrangler.viewer.v0+json": {
       "columns": [
        {
         "name": "index",
         "rawType": "int64",
         "type": "integer"
        },
        {
         "name": "ID_Transacao",
         "rawType": "object",
         "type": "string"
        },
        {
         "name": "ID_Cliente",
         "rawType": "object",
         "type": "string"
        },
        {
         "name": "Estabelecimento",
         "rawType": "object",
         "type": "string"
        },
        {
         "name": "Segmento",
         "rawType": "object",
         "type": "string"
        },
        {
         "name": "DataHora",
         "rawType": "object",
         "type": "string"
        },
        {
         "name": "Valor",
         "rawType": "float64",
         "type": "float"
        },
        {
         "name": "Fraude",
         "rawType": "int64",
         "type": "integer"
        }
       ],
       "conversionMethod": "pd.DataFrame",
       "ref": "56bf747b-7ce5-4e1f-a8eb-ba11977e21da",
       "rows": [
        [
         "9995",
         "1a502af5-82ff-459f-8a41-3b10782cf03f",
         "242f4e94-7f2a-4557-a27a-9227cca55e83",
         "Pereira - EI",
         "Pet Shop",
         "2023-02-23 01:08:37",
         "95.71",
         "0"
        ],
        [
         "9996",
         "04380454-7767-49bb-ae14-4c7db1054c3a",
         "93a4477e-914b-48e0-9e0e-02f873d870f1",
         "da Cunha Andrade Ltda.",
         "Eletrônicos",
         "2024-02-28 06:33:53",
         "1.83",
         "0"
        ],
        [
         "9997",
         "aa7d0fbe-0530-4f86-990d-10af6309e55c",
         "427c01e9-9c4f-46a1-870a-eeff546c5f3e",
         "Camargo",
         "Posto de Combustível",
         "2023-06-12 10:26:29",
         "8.62",
         "0"
        ],
        [
         "9998",
         "7fa1bd91-63c2-4307-a47e-1b35a6022d86",
         "3b1daffb-dbec-4c7b-91d5-0f05c02a054d",
         "Nunes Ltda.",
         "Teatro",
         "2024-05-09 06:42:40",
         "36.41",
         "0"
        ],
        [
         "9999",
         "eca7e8ff-28a2-4d77-9528-70209e4f2648",
         "2eff59e5-0d49-4687-9e09-00e18cd56f84",
         "da Luz S.A.",
         "Loja de Roupas",
         "2024-02-19 17:57:42",
         "43.52",
         "0"
        ]
       ],
       "shape": {
        "columns": 7,
        "rows": 5
       }
      },
      "text/html": [
       "<div>\n",
       "<style scoped>\n",
       "    .dataframe tbody tr th:only-of-type {\n",
       "        vertical-align: middle;\n",
       "    }\n",
       "\n",
       "    .dataframe tbody tr th {\n",
       "        vertical-align: top;\n",
       "    }\n",
       "\n",
       "    .dataframe thead th {\n",
       "        text-align: right;\n",
       "    }\n",
       "</style>\n",
       "<table border=\"1\" class=\"dataframe\">\n",
       "  <thead>\n",
       "    <tr style=\"text-align: right;\">\n",
       "      <th></th>\n",
       "      <th>ID_Transacao</th>\n",
       "      <th>ID_Cliente</th>\n",
       "      <th>Estabelecimento</th>\n",
       "      <th>Segmento</th>\n",
       "      <th>DataHora</th>\n",
       "      <th>Valor</th>\n",
       "      <th>Fraude</th>\n",
       "    </tr>\n",
       "  </thead>\n",
       "  <tbody>\n",
       "    <tr>\n",
       "      <th>9995</th>\n",
       "      <td>1a502af5-82ff-459f-8a41-3b10782cf03f</td>\n",
       "      <td>242f4e94-7f2a-4557-a27a-9227cca55e83</td>\n",
       "      <td>Pereira - EI</td>\n",
       "      <td>Pet Shop</td>\n",
       "      <td>2023-02-23 01:08:37</td>\n",
       "      <td>95.71000</td>\n",
       "      <td>0</td>\n",
       "    </tr>\n",
       "    <tr>\n",
       "      <th>9996</th>\n",
       "      <td>04380454-7767-49bb-ae14-4c7db1054c3a</td>\n",
       "      <td>93a4477e-914b-48e0-9e0e-02f873d870f1</td>\n",
       "      <td>da Cunha Andrade Ltda.</td>\n",
       "      <td>Eletrônicos</td>\n",
       "      <td>2024-02-28 06:33:53</td>\n",
       "      <td>1.83000</td>\n",
       "      <td>0</td>\n",
       "    </tr>\n",
       "    <tr>\n",
       "      <th>9997</th>\n",
       "      <td>aa7d0fbe-0530-4f86-990d-10af6309e55c</td>\n",
       "      <td>427c01e9-9c4f-46a1-870a-eeff546c5f3e</td>\n",
       "      <td>Camargo</td>\n",
       "      <td>Posto de Combustível</td>\n",
       "      <td>2023-06-12 10:26:29</td>\n",
       "      <td>8.62000</td>\n",
       "      <td>0</td>\n",
       "    </tr>\n",
       "    <tr>\n",
       "      <th>9998</th>\n",
       "      <td>7fa1bd91-63c2-4307-a47e-1b35a6022d86</td>\n",
       "      <td>3b1daffb-dbec-4c7b-91d5-0f05c02a054d</td>\n",
       "      <td>Nunes Ltda.</td>\n",
       "      <td>Teatro</td>\n",
       "      <td>2024-05-09 06:42:40</td>\n",
       "      <td>36.41000</td>\n",
       "      <td>0</td>\n",
       "    </tr>\n",
       "    <tr>\n",
       "      <th>9999</th>\n",
       "      <td>eca7e8ff-28a2-4d77-9528-70209e4f2648</td>\n",
       "      <td>2eff59e5-0d49-4687-9e09-00e18cd56f84</td>\n",
       "      <td>da Luz S.A.</td>\n",
       "      <td>Loja de Roupas</td>\n",
       "      <td>2024-02-19 17:57:42</td>\n",
       "      <td>43.52000</td>\n",
       "      <td>0</td>\n",
       "    </tr>\n",
       "  </tbody>\n",
       "</table>\n",
       "</div>"
      ],
      "text/plain": [
       "                              ID_Transacao  \\\n",
       "9995  1a502af5-82ff-459f-8a41-3b10782cf03f   \n",
       "9996  04380454-7767-49bb-ae14-4c7db1054c3a   \n",
       "9997  aa7d0fbe-0530-4f86-990d-10af6309e55c   \n",
       "9998  7fa1bd91-63c2-4307-a47e-1b35a6022d86   \n",
       "9999  eca7e8ff-28a2-4d77-9528-70209e4f2648   \n",
       "\n",
       "                                ID_Cliente         Estabelecimento  \\\n",
       "9995  242f4e94-7f2a-4557-a27a-9227cca55e83            Pereira - EI   \n",
       "9996  93a4477e-914b-48e0-9e0e-02f873d870f1  da Cunha Andrade Ltda.   \n",
       "9997  427c01e9-9c4f-46a1-870a-eeff546c5f3e                 Camargo   \n",
       "9998  3b1daffb-dbec-4c7b-91d5-0f05c02a054d             Nunes Ltda.   \n",
       "9999  2eff59e5-0d49-4687-9e09-00e18cd56f84             da Luz S.A.   \n",
       "\n",
       "                  Segmento             DataHora    Valor  Fraude  \n",
       "9995              Pet Shop  2023-02-23 01:08:37 95.71000       0  \n",
       "9996           Eletrônicos  2024-02-28 06:33:53  1.83000       0  \n",
       "9997  Posto de Combustível  2023-06-12 10:26:29  8.62000       0  \n",
       "9998                Teatro  2024-05-09 06:42:40 36.41000       0  \n",
       "9999        Loja de Roupas  2024-02-19 17:57:42 43.52000       0  "
      ]
     },
     "metadata": {},
     "output_type": "display_data"
    }
   ],
   "source": [
    "print('Primeiros registros:')\n",
    "display(df_transacoes.head())\n",
    "\n",
    "print('\\nÚltimos registros:')\n",
    "display(df_transacoes.tail())"
   ]
  },
  {
   "cell_type": "code",
   "execution_count": 4,
   "id": "6ca13653",
   "metadata": {},
   "outputs": [],
   "source": [
    "# Remover colunas únicas\n",
    "df_transacoes.drop(columns=['ID_Cliente', 'ID_Transacao'], axis=1, inplace=True)"
   ]
  },
  {
   "cell_type": "code",
   "execution_count": 7,
   "id": "f09166cc",
   "metadata": {},
   "outputs": [
    {
     "name": "stdout",
     "output_type": "stream",
     "text": [
      "<class 'pandas.core.frame.DataFrame'>\n",
      "RangeIndex: 10000 entries, 0 to 9999\n",
      "Data columns (total 7 columns):\n",
      " #   Column           Non-Null Count  Dtype  \n",
      "---  ------           --------------  -----  \n",
      " 0   Estabelecimento  10000 non-null  object \n",
      " 1   Segmento         10000 non-null  object \n",
      " 2   Valor            10000 non-null  float64\n",
      " 3   Fraude           10000 non-null  int64  \n",
      " 4   Hora             10000 non-null  int32  \n",
      " 5   Dia_Semana       10000 non-null  int32  \n",
      " 6   Mes              10000 non-null  int32  \n",
      "dtypes: float64(1), int32(3), int64(1), object(2)\n",
      "memory usage: 429.8+ KB\n"
     ]
    }
   ],
   "source": [
    "df_transacoes.info()"
   ]
  },
  {
   "cell_type": "markdown",
   "id": "09034c12",
   "metadata": {},
   "source": [
    "### Feature Engineering"
   ]
  },
  {
   "cell_type": "code",
   "execution_count": 5,
   "id": "560e4d9d",
   "metadata": {},
   "outputs": [],
   "source": [
    "df_transacoes['DataHora'] = pd.to_datetime(df_transacoes['DataHora'])\n",
    "df_transacoes['Hora'] = df_transacoes['DataHora'].dt.hour\n",
    "df_transacoes['Dia_Semana'] = df_transacoes['DataHora'].dt.dayofweek\n",
    "df_transacoes['Mes'] = df_transacoes['DataHora'].dt.month\n",
    "df_transacoes = df_transacoes.drop('DataHora', axis=1)"
   ]
  },
  {
   "cell_type": "markdown",
   "id": "97a1441e",
   "metadata": {},
   "source": [
    "### Cria lista de features e target"
   ]
  },
  {
   "cell_type": "code",
   "execution_count": 6,
   "id": "5bd9cf30",
   "metadata": {},
   "outputs": [],
   "source": [
    "num_vars = df_transacoes.select_dtypes(include=['number']).columns\n",
    "cat_vars = df_transacoes.select_dtypes(include=['object']).columns\n",
    "target = 'Fraude'"
   ]
  },
  {
   "cell_type": "markdown",
   "id": "a2e43b71",
   "metadata": {},
   "source": [
    "### Estatísticas das variáveis numéricas"
   ]
  },
  {
   "cell_type": "code",
   "execution_count": 8,
   "id": "7ff9897e",
   "metadata": {},
   "outputs": [
    {
     "data": {
      "application/vnd.microsoft.datawrangler.viewer.v0+json": {
       "columns": [
        {
         "name": "index",
         "rawType": "object",
         "type": "string"
        },
        {
         "name": "count",
         "rawType": "float64",
         "type": "float"
        },
        {
         "name": "mean",
         "rawType": "float64",
         "type": "float"
        },
        {
         "name": "std",
         "rawType": "float64",
         "type": "float"
        },
        {
         "name": "min",
         "rawType": "float64",
         "type": "float"
        },
        {
         "name": "25%",
         "rawType": "float64",
         "type": "float"
        },
        {
         "name": "50%",
         "rawType": "float64",
         "type": "float"
        },
        {
         "name": "75%",
         "rawType": "float64",
         "type": "float"
        },
        {
         "name": "max",
         "rawType": "float64",
         "type": "float"
        }
       ],
       "conversionMethod": "pd.DataFrame",
       "ref": "6ed2c419-d217-4bae-a81b-c59b41ba6b91",
       "rows": [
        [
         "Valor",
         "10000.0",
         "110.040194",
         "387.5491862975619",
         "0.18",
         "10.45",
         "25.625",
         "70.5875",
         "11704.79"
        ],
        [
         "Fraude",
         "10000.0",
         "0.0944",
         "0.29239902482561714",
         "0.0",
         "0.0",
         "0.0",
         "0.0",
         "1.0"
        ],
        [
         "Hora",
         "10000.0",
         "10.9235",
         "7.602330385659997",
         "0.0",
         "4.0",
         "10.0",
         "18.0",
         "23.0"
        ],
        [
         "Dia_Semana",
         "10000.0",
         "2.9963",
         "2.005713987302249",
         "0.0",
         "1.0",
         "3.0",
         "5.0",
         "6.0"
        ],
        [
         "Mes",
         "10000.0",
         "6.5226",
         "3.4400686980443758",
         "1.0",
         "4.0",
         "7.0",
         "9.0",
         "12.0"
        ]
       ],
       "shape": {
        "columns": 8,
        "rows": 5
       }
      },
      "text/html": [
       "<div>\n",
       "<style scoped>\n",
       "    .dataframe tbody tr th:only-of-type {\n",
       "        vertical-align: middle;\n",
       "    }\n",
       "\n",
       "    .dataframe tbody tr th {\n",
       "        vertical-align: top;\n",
       "    }\n",
       "\n",
       "    .dataframe thead th {\n",
       "        text-align: right;\n",
       "    }\n",
       "</style>\n",
       "<table border=\"1\" class=\"dataframe\">\n",
       "  <thead>\n",
       "    <tr style=\"text-align: right;\">\n",
       "      <th></th>\n",
       "      <th>count</th>\n",
       "      <th>mean</th>\n",
       "      <th>std</th>\n",
       "      <th>min</th>\n",
       "      <th>25%</th>\n",
       "      <th>50%</th>\n",
       "      <th>75%</th>\n",
       "      <th>max</th>\n",
       "    </tr>\n",
       "  </thead>\n",
       "  <tbody>\n",
       "    <tr>\n",
       "      <th>Valor</th>\n",
       "      <td>10000.00000</td>\n",
       "      <td>110.04019</td>\n",
       "      <td>387.54919</td>\n",
       "      <td>0.18000</td>\n",
       "      <td>10.45000</td>\n",
       "      <td>25.62500</td>\n",
       "      <td>70.58750</td>\n",
       "      <td>11704.79000</td>\n",
       "    </tr>\n",
       "    <tr>\n",
       "      <th>Fraude</th>\n",
       "      <td>10000.00000</td>\n",
       "      <td>0.09440</td>\n",
       "      <td>0.29240</td>\n",
       "      <td>0.00000</td>\n",
       "      <td>0.00000</td>\n",
       "      <td>0.00000</td>\n",
       "      <td>0.00000</td>\n",
       "      <td>1.00000</td>\n",
       "    </tr>\n",
       "    <tr>\n",
       "      <th>Hora</th>\n",
       "      <td>10000.00000</td>\n",
       "      <td>10.92350</td>\n",
       "      <td>7.60233</td>\n",
       "      <td>0.00000</td>\n",
       "      <td>4.00000</td>\n",
       "      <td>10.00000</td>\n",
       "      <td>18.00000</td>\n",
       "      <td>23.00000</td>\n",
       "    </tr>\n",
       "    <tr>\n",
       "      <th>Dia_Semana</th>\n",
       "      <td>10000.00000</td>\n",
       "      <td>2.99630</td>\n",
       "      <td>2.00571</td>\n",
       "      <td>0.00000</td>\n",
       "      <td>1.00000</td>\n",
       "      <td>3.00000</td>\n",
       "      <td>5.00000</td>\n",
       "      <td>6.00000</td>\n",
       "    </tr>\n",
       "    <tr>\n",
       "      <th>Mes</th>\n",
       "      <td>10000.00000</td>\n",
       "      <td>6.52260</td>\n",
       "      <td>3.44007</td>\n",
       "      <td>1.00000</td>\n",
       "      <td>4.00000</td>\n",
       "      <td>7.00000</td>\n",
       "      <td>9.00000</td>\n",
       "      <td>12.00000</td>\n",
       "    </tr>\n",
       "  </tbody>\n",
       "</table>\n",
       "</div>"
      ],
      "text/plain": [
       "                 count      mean       std     min      25%      50%      75%  \\\n",
       "Valor      10000.00000 110.04019 387.54919 0.18000 10.45000 25.62500 70.58750   \n",
       "Fraude     10000.00000   0.09440   0.29240 0.00000  0.00000  0.00000  0.00000   \n",
       "Hora       10000.00000  10.92350   7.60233 0.00000  4.00000 10.00000 18.00000   \n",
       "Dia_Semana 10000.00000   2.99630   2.00571 0.00000  1.00000  3.00000  5.00000   \n",
       "Mes        10000.00000   6.52260   3.44007 1.00000  4.00000  7.00000  9.00000   \n",
       "\n",
       "                   max  \n",
       "Valor      11704.79000  \n",
       "Fraude         1.00000  \n",
       "Hora          23.00000  \n",
       "Dia_Semana     6.00000  \n",
       "Mes           12.00000  "
      ]
     },
     "metadata": {},
     "output_type": "display_data"
    }
   ],
   "source": [
    "display(df_transacoes[num_vars].describe().T)"
   ]
  },
  {
   "cell_type": "markdown",
   "id": "0de91239",
   "metadata": {},
   "source": [
    "### Valores possíveis para variáveis categóricas"
   ]
  },
  {
   "cell_type": "code",
   "execution_count": 9,
   "id": "2c2cab9e",
   "metadata": {},
   "outputs": [
    {
     "name": "stdout",
     "output_type": "stream",
     "text": [
      "\n",
      "Estabelecimento: 3156 valores únicos\n",
      "Estabelecimento\n",
      "Cavalcante    67\n",
      "Sampaio       67\n",
      "Fernandes     66\n",
      "Pires         64\n",
      "da Luz        62\n",
      "Name: count, dtype: int64\n",
      "\n",
      "Segmento: 25 valores únicos\n",
      "Segmento\n",
      "Loja Online             434\n",
      "Livraria                433\n",
      "Posto de Combustível    424\n",
      "Farmácia                424\n",
      "Eletrônicos             420\n",
      "Name: count, dtype: int64\n"
     ]
    }
   ],
   "source": [
    "for var in cat_vars:\n",
    "  print(f\"\\n{var}: {df_transacoes[var].nunique()} valores únicos\")\n",
    "  print(df_transacoes[var].value_counts().head())"
   ]
  }
 ],
 "metadata": {
  "kernelspec": {
   "display_name": "final_challenge-EoF2KZun",
   "language": "python",
   "name": "python3"
  },
  "language_info": {
   "codemirror_mode": {
    "name": "ipython",
    "version": 3
   },
   "file_extension": ".py",
   "mimetype": "text/x-python",
   "name": "python",
   "nbconvert_exporter": "python",
   "pygments_lexer": "ipython3",
   "version": "3.11.11"
  }
 },
 "nbformat": 4,
 "nbformat_minor": 5
}
